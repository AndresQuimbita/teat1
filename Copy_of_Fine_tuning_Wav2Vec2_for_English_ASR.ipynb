{
  "cells": [
    {
      "attachments": {},
      "cell_type": "markdown",
      "metadata": {
        "colab_type": "text",
        "id": "view-in-github"
      },
      "source": [
        "<a href=\"https://colab.research.google.com/github/AndresQuimbita/teat1/blob/main/Copy_of_Fine_tuning_Wav2Vec2_for_English_ASR.ipynb\" target=\"_parent\"><img src=\"https://colab.research.google.com/assets/colab-badge.svg\" alt=\"Open In Colab\"/></a>"
      ]
    },
    {
      "attachments": {},
      "cell_type": "markdown",
      "metadata": {
        "id": "LBSYoWbi-45k"
      },
      "source": [
        "# **Fine-tuning Wav2Vec2 for English ASR with 🤗 Transformers**"
      ]
    },
    {
      "attachments": {},
      "cell_type": "markdown",
      "metadata": {
        "id": "V7YOT2mnUiea"
      },
      "source": [
        "Wav2Vec2 is a pretrained model for Automatic Speech Recognition (ASR) and was released in [September 2020](https://ai.facebook.com/blog/wav2vec-20-learning-the-structure-of-speech-from-raw-audio/) by Alexei Baevski, Michael Auli, and Alex Conneau.\n",
        "\n",
        "Using a novel contrastive pretraining objective, Wav2Vec2 learns powerful speech representations from more than 50.000 hours of unlabeled speech. Similar, to [BERT's masked language modeling](http://jalammar.github.io/illustrated-bert/), the model learns contextualized speech representations by randomly masking feature vectors before passing them to a transformer network.\n",
        "\n",
        "![wav2vec2_structure](https://raw.githubusercontent.com/patrickvonplaten/scientific_images/master/wav2vec2.png)\n",
        "\n",
        "For the first time, it has been shown that pretraining, followed by fine-tuning on very little labeled speech data achieves competitive results to state-of-the-art ASR systems. Using as little as 10 minutes of labeled data, Wav2Vec2 yields a word error rate (WER) of less than 5% on the clean test set of [LibriSpeech](https://huggingface.co/datasets/librispeech_asr) - *cf.* with Table 9 of the [paper](https://arxiv.org/pdf/2006.11477.pdf)."
      ]
    },
    {
      "attachments": {},
      "cell_type": "markdown",
      "metadata": {
        "id": "nT_QrfWtsxIz"
      },
      "source": [
        "In this notebook, we will give an in-detail explanation of how Wav2Vec2's pretrained checkpoints can be fine-tuned on any English ASR dataset. Note that in this notebook, we will fine-tune Wav2Vec2 without making use of a language model. It is much simpler to use Wav2Vec2 without a language model as an end-to-end ASR system and it has been shown that a standalone Wav2Vec2 acoustic model achieves impressive results. For demonstration purposes, we fine-tune the \"base\"-sized [pretrained checkpoint](https://huggingface.co/facebook/wav2vec2-base) on the rather small [Timit](https://huggingface.co/datasets/timit_asr) dataset that contains just 5h of training data."
      ]
    },
    {
      "attachments": {},
      "cell_type": "markdown",
      "metadata": {
        "id": "Gx9OdDYrCtQ1"
      },
      "source": [
        "Wav2Vec2 is fine-tuned using Connectionist Temporal Classification (CTC), which is an algorithm that is used to train neural networks for sequence-to-sequence problems and mainly in Automatic Speech Recognition and handwriting recognition.\n",
        "\n",
        "I highly recommend reading the blog post [Sequence Modeling with CTC (2017)](https://distill.pub/2017/ctc/) very well-written blog post by Awni Hannun."
      ]
    },
    {
      "attachments": {},
      "cell_type": "markdown",
      "metadata": {
        "id": "qW3J3rBizeds"
      },
      "source": [
        "First, let's try to get a good GPU in our colab! With Google Colab's free version it's sadly becoming much harder to get access to a good GPU. With Google Colab Pro, one has a much easier time getting access to a V100 or P100 GPU however."
      ]
    },
    {
      "cell_type": "code",
      "execution_count": 1,
      "metadata": {
        "colab": {
          "base_uri": "https://localhost:8080/"
        },
        "id": "SLAufgh_xxj7",
        "outputId": "5435e0be-d50b-47da-a311-124a6b057d69"
      },
      "outputs": [
        {
          "name": "stdout",
          "output_type": "stream",
          "text": [
            "Wed Jun 28 13:47:58 2023       \n",
            "+---------------------------------------------------------------------------------------+\n",
            "| NVIDIA-SMI 535.54.03              Driver Version: 535.54.03    CUDA Version: 12.2     |\n",
            "|-----------------------------------------+----------------------+----------------------+\n",
            "| GPU  Name                 Persistence-M | Bus-Id        Disp.A | Volatile Uncorr. ECC |\n",
            "| Fan  Temp   Perf          Pwr:Usage/Cap |         Memory-Usage | GPU-Util  Compute M. |\n",
            "|                                         |                      |               MIG M. |\n",
            "|=========================================+======================+======================|\n",
            "|   0  NVIDIA RTX A4000               On  | 00000000:B3:00.0  On |                  Off |\n",
            "| 41%   42C    P8              18W / 140W |    523MiB / 16376MiB |     15%      Default |\n",
            "|                                         |                      |                  N/A |\n",
            "+-----------------------------------------+----------------------+----------------------+\n",
            "                                                                                         \n",
            "+---------------------------------------------------------------------------------------+\n",
            "| Processes:                                                                            |\n",
            "|  GPU   GI   CI        PID   Type   Process name                            GPU Memory |\n",
            "|        ID   ID                                                             Usage      |\n",
            "|=======================================================================================|\n",
            "|    0   N/A  N/A      1671      G   /usr/lib/xorg/Xorg                           39MiB |\n",
            "|    0   N/A  N/A      2748      G   /usr/lib/xorg/Xorg                          107MiB |\n",
            "|    0   N/A  N/A      2885      G   /usr/bin/gnome-shell                        139MiB |\n",
            "|    0   N/A  N/A      6775      G   ...sion,SpareRendererForSitePerProcess      216MiB |\n",
            "+---------------------------------------------------------------------------------------+\n"
          ]
        }
      ],
      "source": [
        "gpu_info = !nvidia-smi\n",
        "gpu_info = '\\n'.join(gpu_info)\n",
        "if gpu_info.find('failed') >= 0:\n",
        "  print('Not connected to a GPU')\n",
        "else:\n",
        "  print(gpu_info)"
      ]
    },
    {
      "attachments": {},
      "cell_type": "markdown",
      "metadata": {
        "id": "e335hPmdtASZ"
      },
      "source": [
        "Before we start, let's install both `datasets` and `transformers` from master. Also, we need the `librosa` package to load audio files and the `jiwer` to evaluate our fine-tuned model using the [word error rate (WER)](https://huggingface.co/metrics/wer) metric ${}^1$."
      ]
    },
    {
      "cell_type": "code",
      "execution_count": 2,
      "metadata": {
        "id": "c8eh87Hoee5d"
      },
      "outputs": [],
      "source": [
        "%%capture\n",
        "!pip install datasets==1.18.3\n",
        "!pip install transformers==4.17.0\n",
        "!pip install jiwer\n",
        "!pip install huggingface_hub"
      ]
    },
    {
      "attachments": {},
      "cell_type": "markdown",
      "metadata": {
        "id": "8_6kYmDMH9lR"
      },
      "source": [
        "Next we strongly suggest to upload your training checkpoints directly to the [🤗 Hub](https://huggingface.co/) while training. The [🤗 Hub](https://huggingface.co/) has integrated version control so you can be sure that no model checkpoint is getting lost during training.\n",
        "\n",
        "To do so you have to store your authentication token from the Hugging Face website (sign up [here](https://huggingface.co/join) if you haven't already!)"
      ]
    },
    {
      "cell_type": "code",
      "execution_count": 3,
      "metadata": {
        "colab": {
          "base_uri": "https://localhost:8080/",
          "height": 331,
          "referenced_widgets": [
            "72c60eb7db764e16a9d47ad4fc87dd10",
            "81e2c1fadd6546b18a39555d44a9ab3c",
            "51a7cab310ae4385b30bcf6d828c5bd7",
            "97b1d29fb759427b9a3ced885b12c49b",
            "c7053e32145d4599bda83ae1372cf54a",
            "ed33c55d50234c32b15798b747153ad2",
            "ed4a76509a9e43a285bed77e8415e170",
            "b5618e9ca055470595027435969b9765",
            "14a6810e336a473cbcef56c1b6ed59cf",
            "3ee80b72a2e348c8a92af98b5d666c13",
            "d30d4923454e4f8aaf4341f0d9e4f794",
            "dba9c380625243a6a7f90c8914ff9455",
            "f30802e504624b37b3c4a469c5ecaef2",
            "05b403993fc04c128fe3423e16085529",
            "ea0718a03fa84612a83032464c755bde",
            "8991f9f2abeb49e2bd10caf24403f472",
            "ae9d87d903c4420db700f043fe197154"
          ]
        },
        "id": "zFLBDyzQIA3R",
        "outputId": "1dd54b29-2183-4e31-f610-96e516c12b08"
      },
      "outputs": [
        {
          "data": {
            "application/vnd.jupyter.widget-view+json": {
              "model_id": "233e7dde56e34f66978431bcc76db099",
              "version_major": 2,
              "version_minor": 0
            },
            "text/plain": [
              "VBox(children=(HTML(value='<center> <img\\nsrc=https://huggingface.co/front/assets/huggingface_logo-noborder.sv…"
            ]
          },
          "metadata": {},
          "output_type": "display_data"
        }
      ],
      "source": [
        "from huggingface_hub import notebook_login\n",
        "\n",
        "notebook_login()"
      ]
    },
    {
      "attachments": {},
      "cell_type": "markdown",
      "metadata": {
        "id": "zCyw5D23IQ1F"
      },
      "source": [
        "\n",
        "Then you need to install Git-LFS to upload your model checkpoints:"
      ]
    },
    {
      "cell_type": "code",
      "execution_count": 4,
      "metadata": {
        "id": "Q9BnQDhOITBC"
      },
      "outputs": [],
      "source": [
        "%%capture\n",
        "!apt install git-lfs"
      ]
    },
    {
      "attachments": {},
      "cell_type": "markdown",
      "metadata": {
        "id": "Mn9swf6EQ9Vd"
      },
      "source": [
        "\n",
        "\n",
        "\n",
        "---\n",
        "\n",
        "${}^1$ Timit is usually evaluated using the phoneme error rate (PER), but by far the most common metric in ASR is the word error rate (WER). To keep this notebook as general as possible we decided to evaluate the model using WER."
      ]
    },
    {
      "attachments": {},
      "cell_type": "markdown",
      "metadata": {
        "id": "0mW-C1Nt-j7k"
      },
      "source": [
        "## Prepare Data, Tokenizer, Feature Extractor"
      ]
    },
    {
      "attachments": {},
      "cell_type": "markdown",
      "metadata": {
        "id": "BeBosnY9BH3e"
      },
      "source": [
        "ASR models transcribe speech to text, which means that we both need a feature extractor that processes the speech signal to the model's input format, *e.g.* a feature vector, and a tokenizer that processes the model's output format to text.\n",
        "\n",
        "In 🤗 Transformers, the Wav2Vec2 model is thus accompanied by both a tokenizer, called [Wav2Vec2CTCTokenizer](https://huggingface.co/transformers/master/model_doc/wav2vec2.html#wav2vec2ctctokenizer), and a feature extractor, called [Wav2Vec2FeatureExtractor](https://huggingface.co/transformers/master/model_doc/wav2vec2.html#wav2vec2featureextractor).\n",
        "\n",
        "Let's start by creating the tokenizer responsible for decoding the model's predictions."
      ]
    },
    {
      "attachments": {},
      "cell_type": "markdown",
      "metadata": {
        "id": "sEXEWEJGQPqD"
      },
      "source": [
        "### Create Wav2Vec2CTCTokenizer"
      ]
    },
    {
      "attachments": {},
      "cell_type": "markdown",
      "metadata": {
        "id": "tWmMikuNEKl_"
      },
      "source": [
        "The [pretrained Wav2Vec2 checkpoint]( ) maps the speech signal to a sequence of context representations as illustrated in the figure above. A fine-tuned Wav2Vec2 checkpoint needs to map this sequence of context representations to its corresponding transcription so that a linear layer has to be added on top of the transformer block (shown in yellow). This linear layer is used to classifies each context representation to a token class analogous how, *e.g.*, after pretraining a linear layer is added on top of BERT's embeddings for further classification - *cf.* with *\"BERT\"* section of this [blog post](https://huggingface.co/blog/warm-starting-encoder-decoder).\n",
        "\n",
        "The output size of this layer corresponds to the number of tokens in the vocabulary, which does **not** depend on Wav2Vec2's pretraining task, but only on the labeled dataset used for fine-tuning. So in the first step, we will take a look at Timit and define a vocabulary based on the dataset's transcriptions."
      ]
    },
    {
      "attachments": {},
      "cell_type": "markdown",
      "metadata": {
        "id": "bee4g9rpLxll"
      },
      "source": [
        "Let's start by loading the dataset and taking a look at its structure."
      ]
    },
    {
      "cell_type": "code",
      "execution_count": 5,
      "metadata": {
        "colab": {
          "base_uri": "https://localhost:8080/",
          "height": 200,
          "referenced_widgets": [
            "35cff9996fa5410485f6a9cba04dee0d",
            "f2f1d919308042c4b730658cee357374",
            "f261eb96f32540b7aba59bf5707bee6f",
            "c453ed86ee824b5e88d15c5bce35009b",
            "45f9dd1c05be47e8a0dd90af375756ac",
            "72ba30f58e904ad786e9f82deabebc75",
            "a3f2cbce0fc0419191259ba1735ffa94",
            "8539d6c12248447fa989335fb92a348f",
            "f20725df466c4b8b9bc96fce2d1c6ff8",
            "abd948814c014a9eb6d68529c3590e92",
            "700ef7e95cf94d7e9dbeb58d605eca5d",
            "03d71c90397247f7a0b46f02be423a66",
            "7ba0b13ba0604b26afe63e5dc86e2f1e",
            "41ff8cbd05464696b86989bf3c39c1e3",
            "a84b851075bf4773a463ed24a2f3eb24",
            "6f7688e6cf04412ab2dac06baeb4e666",
            "c1e0fc4107fb49fe84bb21fd721a8ecb",
            "2a011e9f253e4cef8f52f45c110c0295",
            "196c5d364c0a45d1b07cb8c1850eae8e",
            "ac7622d9634c46db895530963f553494",
            "2ca52ebaf2be48d5a4b8b4138906be85",
            "7317708554854b4fb5c2ee08e0f4f894",
            "dc79c99877844fc3b5eb05be646c495f",
            "9424cc47106a455ab18c0870d046ce9f",
            "b8c9bc669d8c4651882c214aafb0548e",
            "ddb52ffa6f634053927e93f997337419",
            "b2310446607e44f5b8e38862581b510a",
            "090847f7912e496fbc1ef8673674c1ed",
            "15e195a2c3044feababc62304301f14f",
            "667cac3e3c364fed95c9d4cd30ec2466",
            "43c07bbb17534fa9932770d689dc821b",
            "89e51090498545259c216a5a1b59072f",
            "489bec937040484ea1164c317f07a4ad",
            "a7e5e39c8be1422fb1e47567857d681d",
            "90bb8035c7b745088e6f69368e770224",
            "ac756dc57a4748b8b29e490186774de6",
            "6875e568704e45648e7230c0fe52ffb8",
            "cfddbf192a4948c5a35d9c9c28227969",
            "d7934693aa974d6781b84f71bac59e71",
            "cc4dd57866ff4080913e33d0b1cf49af",
            "d42cbd433408441ead2be0400c5d97c7",
            "3cbbf50821414139bf7924b2a66912ba",
            "5bc51e6bf9d0484baf014fb352155e15",
            "73f206f8a18e42cca2630b1c3fbbdd17",
            "c95cde469c924220956b0222cd470c90",
            "d31e0dcd59bd4153a392e18dba2ee1c2",
            "adc1d50d41744b49bb5dfb3a4f5aa770",
            "1a36d660c6474845bbfdcffffb6dcc68",
            "dab4414a1d4a4e94a4845dd9dcc5783a",
            "556b2a49b0f04518a0c925f7d448fcd9",
            "e6f98082a67646158b8d3e36f9de5115",
            "c705539579af4dd890312dc6eca591ac",
            "adfa07960f1243a78e890a968155eac5",
            "7b2e3d37cdef4f5282f01745c3b1a0f4",
            "7b694dd16e54443f8da6af91b1ecd821",
            "6371ee68de1c457696f0f5f467a4ab20",
            "8d544fd2a20e410887d14bed2c1abf66",
            "b04e77f560024855b050ec5d48d8a26c",
            "786d3890c8a74b6b933389a08be4529f",
            "1504d726f2f448b4a9b36d5034f3d138",
            "a7184f5b92f0441fa10120fde326efb4",
            "70723978a71b47969d9952bcef9c2a0d",
            "280663ff96ce499aa0cb7bca67f59a85",
            "9a2fe7c5597647e881612cd18a8467b1",
            "cda1ca853c9c413798584217aa65efb9",
            "4796a0a689924d089c229046ba162058"
          ]
        },
        "id": "2MMXcWFFgCXU",
        "outputId": "281c89cb-d69e-41ff-86f0-7409f307462e"
      },
      "outputs": [
        {
          "name": "stderr",
          "output_type": "stream",
          "text": [
            "Reusing dataset timit_asr (/home/cslab03/.cache/huggingface/datasets/timit_asr/clean/2.0.1/b11b576ddcccbcefa7c9f0c4e6c2a43756f3033adffe0fb686aa61043d0450ad)\n"
          ]
        },
        {
          "data": {
            "application/vnd.jupyter.widget-view+json": {
              "model_id": "1233b8cd05514ce19a90ea3224edc8a0",
              "version_major": 2,
              "version_minor": 0
            },
            "text/plain": [
              "  0%|          | 0/2 [00:00<?, ?it/s]"
            ]
          },
          "metadata": {},
          "output_type": "display_data"
        }
      ],
      "source": [
        "from datasets import load_dataset, load_metric\n",
        "\n",
        "timit = load_dataset(\"timit_asr\")"
      ]
    },
    {
      "cell_type": "code",
      "execution_count": 6,
      "metadata": {
        "colab": {
          "base_uri": "https://localhost:8080/"
        },
        "id": "QbIM-L0xdvf4",
        "outputId": "d4144763-5b7d-47f6-fb72-96fe1022a18e"
      },
      "outputs": [
        {
          "data": {
            "text/plain": [
              "DatasetDict({\n",
              "    train: Dataset({\n",
              "        features: ['file', 'audio', 'text', 'phonetic_detail', 'word_detail', 'dialect_region', 'sentence_type', 'speaker_id', 'id'],\n",
              "        num_rows: 4620\n",
              "    })\n",
              "    test: Dataset({\n",
              "        features: ['file', 'audio', 'text', 'phonetic_detail', 'word_detail', 'dialect_region', 'sentence_type', 'speaker_id', 'id'],\n",
              "        num_rows: 1680\n",
              "    })\n",
              "})"
            ]
          },
          "execution_count": 6,
          "metadata": {},
          "output_type": "execute_result"
        }
      ],
      "source": [
        "timit"
      ]
    },
    {
      "attachments": {},
      "cell_type": "markdown",
      "metadata": {
        "id": "ri5y5N_HMANq"
      },
      "source": [
        "Many ASR datasets only provide the target text, `'text'` for each audio `'audio'` and file `'file'`. Timit actually provides much more information about each audio file, such as the `'phonetic_detail'`, etc., which is why many researchers choose to evaluate their models on phoneme classification instead of speech recognition when working with Timit. However, we want to keep the notebook as general as possible, so that we will only consider the transcribed text for fine-tuning.\n",
        "\n"
      ]
    },
    {
      "cell_type": "code",
      "execution_count": 7,
      "metadata": {
        "id": "kbyq6lDgQc2a"
      },
      "outputs": [],
      "source": [
        "timit = timit.remove_columns([\"phonetic_detail\", \"word_detail\", \"dialect_region\", \"id\", \"sentence_type\", \"speaker_id\"])"
      ]
    },
    {
      "attachments": {},
      "cell_type": "markdown",
      "metadata": {
        "id": "Go9Hq4e4NDT9"
      },
      "source": [
        "Let's write a short function to display some random samples of the dataset and run it a couple of times to get a feeling for the transcriptions."
      ]
    },
    {
      "cell_type": "code",
      "execution_count": 8,
      "metadata": {
        "id": "72737oog2F6U"
      },
      "outputs": [],
      "source": [
        "from datasets import ClassLabel\n",
        "import random\n",
        "import pandas as pd\n",
        "from IPython.display import display, HTML\n",
        "\n",
        "def show_random_elements(dataset, num_examples=10):\n",
        "    assert num_examples <= len(dataset), \"Can't pick more elements than there are in the dataset.\"\n",
        "    picks = []\n",
        "    for _ in range(num_examples):\n",
        "        pick = random.randint(0, len(dataset)-1)\n",
        "        while pick in picks:\n",
        "            pick = random.randint(0, len(dataset)-1)\n",
        "        picks.append(pick)\n",
        "\n",
        "    df = pd.DataFrame(dataset[picks])\n",
        "    display(HTML(df.to_html()))"
      ]
    },
    {
      "cell_type": "code",
      "execution_count": 9,
      "metadata": {
        "colab": {
          "base_uri": "https://localhost:8080/",
          "height": 363
        },
        "id": "K_JUmf3G3b9S",
        "outputId": "8d879e78-15b3-425f-ef6e-ae604e83167b"
      },
      "outputs": [
        {
          "data": {
            "text/html": [
              "<table border=\"1\" class=\"dataframe\">\n",
              "  <thead>\n",
              "    <tr style=\"text-align: right;\">\n",
              "      <th></th>\n",
              "      <th>text</th>\n",
              "    </tr>\n",
              "  </thead>\n",
              "  <tbody>\n",
              "    <tr>\n",
              "      <th>0</th>\n",
              "      <td>Instead of that he was engulfed by bedlam.</td>\n",
              "    </tr>\n",
              "    <tr>\n",
              "      <th>1</th>\n",
              "      <td>Correct execution of my instructions is crucial.</td>\n",
              "    </tr>\n",
              "    <tr>\n",
              "      <th>2</th>\n",
              "      <td>One-upmanship is practiced by both sides in a total war.</td>\n",
              "    </tr>\n",
              "    <tr>\n",
              "      <th>3</th>\n",
              "      <td>She had your dark suit in greasy wash water all year.</td>\n",
              "    </tr>\n",
              "    <tr>\n",
              "      <th>4</th>\n",
              "      <td>His failure to open the store by eight cost him his job.</td>\n",
              "    </tr>\n",
              "    <tr>\n",
              "      <th>5</th>\n",
              "      <td>The desire and ability to read are important aspects of our cultural life.</td>\n",
              "    </tr>\n",
              "    <tr>\n",
              "      <th>6</th>\n",
              "      <td>A young mouse scampered across the field and disappeared.</td>\n",
              "    </tr>\n",
              "    <tr>\n",
              "      <th>7</th>\n",
              "      <td>Boys and men go along the riverbank or to the alcoves in the top arcade.</td>\n",
              "    </tr>\n",
              "    <tr>\n",
              "      <th>8</th>\n",
              "      <td>I took her word for it, but is she really going with you?</td>\n",
              "    </tr>\n",
              "    <tr>\n",
              "      <th>9</th>\n",
              "      <td>Cement is measured in cubic yards.</td>\n",
              "    </tr>\n",
              "  </tbody>\n",
              "</table>"
            ],
            "text/plain": [
              "<IPython.core.display.HTML object>"
            ]
          },
          "metadata": {},
          "output_type": "display_data"
        }
      ],
      "source": [
        "show_random_elements(timit[\"train\"].remove_columns([\"audio\", \"file\"]), num_examples=10)"
      ]
    },
    {
      "attachments": {},
      "cell_type": "markdown",
      "metadata": {
        "id": "fowcOllGNNju"
      },
      "source": [
        "Alright! The transcriptions look very clean and the language seems to correspond more to written text than dialogue. This makes sense taking into account that [Timit](https://huggingface.co/datasets/timit_asr) is a read speech corpus."
      ]
    },
    {
      "attachments": {},
      "cell_type": "markdown",
      "metadata": {
        "id": "vq7OR50LN49m"
      },
      "source": [
        "We can see that the transcriptions contain some special characters, such as `,.?!;:`. Without a language model, it is much harder to classify speech chunks to such special characters because they don't really correspond to a characteristic sound unit. *E.g.*, the letter `\"s\"` has a more or less clear sound, whereas the special character `\".\"` does not.\n",
        "Also in order to understand the meaning of a speech signal, it is usually not necessary to include special characters in the transcription.\n",
        "\n",
        "In addition, we normalize the text to only have lower case letters and append a word separator token at the end."
      ]
    },
    {
      "cell_type": "code",
      "execution_count": 10,
      "metadata": {
        "id": "svKzVJ_hQGK6"
      },
      "outputs": [],
      "source": [
        "import re\n",
        "chars_to_ignore_regex = '[\\,\\?\\.\\!\\-\\;\\:\\\"]'\n",
        "\n",
        "def remove_special_characters(batch):\n",
        "    batch[\"text\"] = re.sub(chars_to_ignore_regex, '', batch[\"text\"]).lower() + \" \"\n",
        "    return batch"
      ]
    },
    {
      "cell_type": "code",
      "execution_count": 11,
      "metadata": {
        "colab": {
          "base_uri": "https://localhost:8080/",
          "height": 118,
          "referenced_widgets": [
            "c75146f8f1ab44028814587c6618b5cb",
            "2b28d6a112484a5cb8a3bce8d33dd6eb",
            "bf4e5b43dc36490eb26b5868233c8325",
            "42901d9eb4204cb39847025079f3e3c1",
            "5beb1ffb9863473a8df053439bfb9fb2",
            "457ab436e5dd499eab891989de1ebdc9",
            "165636445bfc4733970d1a7ded5f6ede",
            "0058396ec61a4f75a7db09a5f38d125b",
            "3d7e3dfdc28548d8bd8b7d548edb6f8f",
            "bb8774b67f884f6b8377a496b5c4a151",
            "f49894f74c4242f88b84aea799edb16d",
            "2cf18cb986eb40af89ebff415e08f273",
            "58d8a23d215e4c90af7cc611354be857",
            "cab324901c07479cb8c579067204aecf",
            "5e19198ee86d4494bc5eb9637259f492",
            "0ada10817cc44b6a9b903815fc9b2455",
            "39d2595f1d85401ea4e930369e52da11",
            "8980f3e6e202478eb2d2c3874788e466",
            "6e9a872c89d54da582effed9b9f07bb2",
            "53a03b6776c5401aaca921c86ed0b6d5",
            "15666b87c18443b2b5dcc92821b310e7",
            "cac71a316ae94f788d31ff4aa68ce067"
          ]
        },
        "id": "XIHocAuTQbBR",
        "outputId": "acb7e63a-9e97-477e-f4a8-9c27cd0a7ef4"
      },
      "outputs": [
        {
          "name": "stderr",
          "output_type": "stream",
          "text": [
            "Parameter 'function'=<function remove_special_characters at 0x7ff0d42bb1f0> of the transform datasets.arrow_dataset.Dataset._map_single couldn't be hashed properly, a random hash was used instead. Make sure your transforms and parameters are serializable with pickle or dill for the dataset fingerprinting and caching to work. If you reuse this transform, the caching mechanism will consider it to be different from the previous calls and recompute everything. This warning is only showed once. Subsequent hashing failures won't be showed.\n"
          ]
        },
        {
          "data": {
            "application/vnd.jupyter.widget-view+json": {
              "model_id": "f9cf0bbf14814cffa4f727b5e3d6d186",
              "version_major": 2,
              "version_minor": 0
            },
            "text/plain": [
              "0ex [00:00, ?ex/s]"
            ]
          },
          "metadata": {},
          "output_type": "display_data"
        },
        {
          "data": {
            "application/vnd.jupyter.widget-view+json": {
              "model_id": "97f71ccb5c54412e9f94c89de828db4f",
              "version_major": 2,
              "version_minor": 0
            },
            "text/plain": [
              "0ex [00:00, ?ex/s]"
            ]
          },
          "metadata": {},
          "output_type": "display_data"
        }
      ],
      "source": [
        "timit = timit.map(remove_special_characters)"
      ]
    },
    {
      "cell_type": "code",
      "execution_count": 12,
      "metadata": {
        "colab": {
          "base_uri": "https://localhost:8080/",
          "height": 363
        },
        "id": "RBDRAAYxRE6n",
        "outputId": "a62e7527-f6ea-46dd-e94b-476b9cef521a"
      },
      "outputs": [
        {
          "data": {
            "text/html": [
              "<table border=\"1\" class=\"dataframe\">\n",
              "  <thead>\n",
              "    <tr style=\"text-align: right;\">\n",
              "      <th></th>\n",
              "      <th>text</th>\n",
              "    </tr>\n",
              "  </thead>\n",
              "  <tbody>\n",
              "    <tr>\n",
              "      <th>0</th>\n",
              "      <td>flying standby can be practical if you want to save money</td>\n",
              "    </tr>\n",
              "    <tr>\n",
              "      <th>1</th>\n",
              "      <td>she had your dark suit in greasy wash water all year</td>\n",
              "    </tr>\n",
              "    <tr>\n",
              "      <th>2</th>\n",
              "      <td>he didn't figure her at all and if he found out a woman it'd be bad</td>\n",
              "    </tr>\n",
              "    <tr>\n",
              "      <th>3</th>\n",
              "      <td>don't ask me to carry an oily rag like that</td>\n",
              "    </tr>\n",
              "    <tr>\n",
              "      <th>4</th>\n",
              "      <td>don't ask me to carry an oily rag like that</td>\n",
              "    </tr>\n",
              "    <tr>\n",
              "      <th>5</th>\n",
              "      <td>just drop notices in any suggestion box</td>\n",
              "    </tr>\n",
              "    <tr>\n",
              "      <th>6</th>\n",
              "      <td>the hood of the jeep was steaming in the hot sun</td>\n",
              "    </tr>\n",
              "    <tr>\n",
              "      <th>7</th>\n",
              "      <td>nobody does but they gave me ten last year</td>\n",
              "    </tr>\n",
              "    <tr>\n",
              "      <th>8</th>\n",
              "      <td>last year's gas shortage caused steep price increases</td>\n",
              "    </tr>\n",
              "    <tr>\n",
              "      <th>9</th>\n",
              "      <td>angora cats are furrier than siamese</td>\n",
              "    </tr>\n",
              "  </tbody>\n",
              "</table>"
            ],
            "text/plain": [
              "<IPython.core.display.HTML object>"
            ]
          },
          "metadata": {},
          "output_type": "display_data"
        }
      ],
      "source": [
        "show_random_elements(timit[\"train\"].remove_columns([\"audio\", \"file\"]))"
      ]
    },
    {
      "attachments": {},
      "cell_type": "markdown",
      "metadata": {
        "id": "jwfaptH5RJwA"
      },
      "source": [
        "Good! This looks better. We have removed most special characters from transcriptions and normalized them to lower-case only.\n",
        "\n",
        "In CTC, it is common to classify speech chunks into letters, so we will do the same here.\n",
        "Let's extract all distinct letters of the training and test data and build our vocabulary from this set of letters.\n",
        "\n",
        "We write a mapping function that concatenates all transcriptions into one long transcription and then transforms the string into a set of chars.\n",
        "It is important to pass the argument `batched=True` to the `map(...)` function so that the mapping function has access to all transcriptions at once."
      ]
    },
    {
      "cell_type": "code",
      "execution_count": 13,
      "metadata": {
        "id": "LwCshNbbeRZR"
      },
      "outputs": [],
      "source": [
        "def extract_all_chars(batch):\n",
        "  all_text = \" \".join(batch[\"text\"])\n",
        "  vocab = list(set(all_text))\n",
        "  return {\"vocab\": [vocab], \"all_text\": [all_text]}"
      ]
    },
    {
      "cell_type": "code",
      "execution_count": 14,
      "metadata": {
        "colab": {
          "base_uri": "https://localhost:8080/",
          "height": 81,
          "referenced_widgets": [
            "8508560781db49e9971a4e844b77f708",
            "4ed0f26ff105404bb993127df03bffca",
            "dbd4a1e0b6264c34b87a15b73a522d92",
            "4322229ce14c40288a33afefb4917bdd",
            "6a04eddf72594989b95c6a1be64d7f61",
            "b59ba6565a464d1ba9b09b978cc679dd",
            "10fd19a14d1f45aba528e4f19b675638",
            "66d5b61e23dc4651903c0d32d7694a33",
            "369c2fa2af714df99e5113fddfe81a36",
            "6d601fe66e86428bb08ec9952e99d52a",
            "bd7dad24d5d34edd9409e44ae87b888c",
            "5e721c366d99434d80b3822c6e82b290",
            "bd9b680e32fc41708cc2024a2f40c89d",
            "0b8b1be79ae24a31b1474824c5e52de5",
            "b9f5fab4eb65486abec1e0d85c8682d8",
            "56edbb7e71544c97a52f26e245e6a406",
            "225e6afb5c154fe6b3a1b1279287cb85",
            "f5ae3c942bf644c0affadca9a6e6d59b",
            "835cdd92279b4385af6a554c416ee245",
            "91190c7d6c7b460cb028183cf51bb1c1",
            "7943fc950c1c4b9ab096fa2e50d0da2d",
            "886c955c22c34282b94a3ee10ebde407"
          ]
        },
        "id": "_m6uUjjcfbjH",
        "outputId": "0485e5e9-9522-4db3-dbcd-f34986fc04ca"
      },
      "outputs": [
        {
          "data": {
            "application/vnd.jupyter.widget-view+json": {
              "model_id": "0ff368ee4f92475e957238878e350531",
              "version_major": 2,
              "version_minor": 0
            },
            "text/plain": [
              "  0%|          | 0/1 [00:00<?, ?ba/s]"
            ]
          },
          "metadata": {},
          "output_type": "display_data"
        },
        {
          "data": {
            "application/vnd.jupyter.widget-view+json": {
              "model_id": "b009d728de014e4d96cdea8c9d75bd11",
              "version_major": 2,
              "version_minor": 0
            },
            "text/plain": [
              "  0%|          | 0/1 [00:00<?, ?ba/s]"
            ]
          },
          "metadata": {},
          "output_type": "display_data"
        }
      ],
      "source": [
        "vocabs = timit.map(extract_all_chars, batched=True, batch_size=-1, keep_in_memory=True, remove_columns=timit.column_names[\"train\"])"
      ]
    },
    {
      "attachments": {},
      "cell_type": "markdown",
      "metadata": {
        "id": "7oVgE8RZSJNP"
      },
      "source": [
        "Now, we create the union of all distinct letters in the training dataset and test dataset and convert the resulting list into an enumerated dictionary."
      ]
    },
    {
      "cell_type": "code",
      "execution_count": 15,
      "metadata": {
        "id": "aQfneNsmlJI0"
      },
      "outputs": [],
      "source": [
        "vocab_list = list(set(vocabs[\"train\"][\"vocab\"][0]) | set(vocabs[\"test\"][\"vocab\"][0]))"
      ]
    },
    {
      "cell_type": "code",
      "execution_count": 16,
      "metadata": {
        "colab": {
          "base_uri": "https://localhost:8080/"
        },
        "id": "_0kRndSvqaKk",
        "outputId": "310111f2-0b79-4a9f-9582-e8ecab6fcd6f"
      },
      "outputs": [
        {
          "data": {
            "text/plain": [
              "{'y': 0,\n",
              " 'i': 1,\n",
              " 'z': 2,\n",
              " 'u': 3,\n",
              " 'h': 4,\n",
              " \"'\": 5,\n",
              " 'p': 6,\n",
              " 'm': 7,\n",
              " 'b': 8,\n",
              " 'g': 9,\n",
              " 'l': 10,\n",
              " 'o': 11,\n",
              " 't': 12,\n",
              " 'x': 13,\n",
              " 'w': 14,\n",
              " 's': 15,\n",
              " 'f': 16,\n",
              " 'j': 17,\n",
              " 'v': 18,\n",
              " 'r': 19,\n",
              " 'c': 20,\n",
              " 'e': 21,\n",
              " 'n': 22,\n",
              " 'd': 23,\n",
              " ' ': 24,\n",
              " 'q': 25,\n",
              " 'k': 26,\n",
              " 'a': 27}"
            ]
          },
          "execution_count": 16,
          "metadata": {},
          "output_type": "execute_result"
        }
      ],
      "source": [
        "vocab_dict = {v: k for k, v in enumerate(vocab_list)}\n",
        "vocab_dict"
      ]
    },
    {
      "attachments": {},
      "cell_type": "markdown",
      "metadata": {
        "id": "JOSzbvs9SXT1"
      },
      "source": [
        "Cool, we see that all letters of the alphabet occur in the dataset (which is not really surprising) and we also extracted the special characters `\" \"` and `'`. Note that we did not exclude those special characters because:\n",
        "\n",
        "- The model has to learn to predict when a word finished or else the model prediction would always be a sequence of chars which would make it impossible to separate words from each other.\n",
        "- In English, we need to keep the `'` character to differentiate between words, *e.g.*, `\"it's\"` and `\"its\"` which have very different meanings."
      ]
    },
    {
      "attachments": {},
      "cell_type": "markdown",
      "metadata": {
        "id": "b1fBRCn-TRaO"
      },
      "source": [
        "To make it clearer that `\" \"` has its own token class, we give it a more visible character `|`. In addition, we also add an \"unknown\" token so that the model can later deal with characters not encountered in Timit's training set.\n",
        "\n",
        "Finally, we also add a padding token that corresponds to CTC's \"*blank token*\". The \"blank token\" is a core component of the CTC algorithm. For more information, please take a look at the \"Alignment\" section [here](https://distill.pub/2017/ctc/)."
      ]
    },
    {
      "cell_type": "code",
      "execution_count": 17,
      "metadata": {
        "id": "npbIbBoLgaFX"
      },
      "outputs": [],
      "source": [
        "vocab_dict[\"|\"] = vocab_dict[\" \"]\n",
        "del vocab_dict[\" \"]"
      ]
    },
    {
      "cell_type": "code",
      "execution_count": 18,
      "metadata": {
        "colab": {
          "base_uri": "https://localhost:8080/"
        },
        "id": "znF0bNunsjbl",
        "outputId": "b8a99b75-8414-47f0-804d-a7e442b29000"
      },
      "outputs": [
        {
          "data": {
            "text/plain": [
              "30"
            ]
          },
          "execution_count": 18,
          "metadata": {},
          "output_type": "execute_result"
        }
      ],
      "source": [
        "vocab_dict[\"[UNK]\"] = len(vocab_dict)\n",
        "vocab_dict[\"[PAD]\"] = len(vocab_dict)\n",
        "len(vocab_dict)"
      ]
    },
    {
      "attachments": {},
      "cell_type": "markdown",
      "metadata": {
        "id": "SFPGfet8U5sL"
      },
      "source": [
        "Cool, now our vocabulary is complete and consists of 30 tokens, which means that the linear layer that we will add on top of the pretrained Wav2Vec2 checkpoint will have an output dimension of 30."
      ]
    },
    {
      "attachments": {},
      "cell_type": "markdown",
      "metadata": {
        "id": "1CujRgBNVRaD"
      },
      "source": [
        "Let's now save the vocabulary as a json file."
      ]
    },
    {
      "cell_type": "code",
      "execution_count": 19,
      "metadata": {
        "id": "ehyUoh9vk191"
      },
      "outputs": [],
      "source": [
        "import json\n",
        "with open('vocab.json', 'w') as vocab_file:\n",
        "    json.dump(vocab_dict, vocab_file)"
      ]
    },
    {
      "attachments": {},
      "cell_type": "markdown",
      "metadata": {
        "id": "SHJDaKlIVVim"
      },
      "source": [
        "In a final step, we use the json file to instantiate an object of the `Wav2Vec2CTCTokenizer` class."
      ]
    },
    {
      "cell_type": "code",
      "execution_count": 20,
      "metadata": {
        "id": "xriFGEWQkO4M"
      },
      "outputs": [],
      "source": [
        "from transformers import Wav2Vec2CTCTokenizer\n",
        "\n",
        "tokenizer = Wav2Vec2CTCTokenizer(\"./vocab.json\", unk_token=\"[UNK]\", pad_token=\"[PAD]\", word_delimiter_token=\"|\")"
      ]
    },
    {
      "attachments": {},
      "cell_type": "markdown",
      "metadata": {
        "id": "P6L2EVWwIazG"
      },
      "source": [
        "If one wants to re-use the just created tokenizer with the fine-tuned model of this notebook, it is strongly advised to upload the `tokenizer` to the [🤗 Hub](https://huggingface.co/). Let's call the repo to which we will upload the files\n",
        "`\"wav2vec2-base-timit-demo-colab\"`:"
      ]
    },
    {
      "cell_type": "code",
      "execution_count": 21,
      "metadata": {
        "id": "1mbffBdxIl0M"
      },
      "outputs": [],
      "source": [
        "repo_name = \"wav2vec2-base-timit-demo-google-colab\""
      ]
    },
    {
      "attachments": {},
      "cell_type": "markdown",
      "metadata": {
        "id": "pmpG2ftFIu3B"
      },
      "source": [
        "and upload the tokenizer to the [🤗 Hub](https://huggingface.co/)."
      ]
    },
    {
      "attachments": {},
      "cell_type": "markdown",
      "metadata": {
        "id": "KvL12DrNV4cx"
      },
      "source": [
        "Great, you can see the just created repository under `https://huggingface.co/<your-username>/wav2vec2-base-timit-demo-colab`"
      ]
    },
    {
      "attachments": {},
      "cell_type": "markdown",
      "metadata": {
        "id": "mYcIiR2FQ96i"
      },
      "source": [
        "### Create Wav2Vec2 Feature Extractor"
      ]
    },
    {
      "attachments": {},
      "cell_type": "markdown",
      "metadata": {
        "id": "Y6mDEyW719rx"
      },
      "source": [
        "Speech is a continuous signal and to be treated by computers, it first has to be discretized, which is usually called **sampling**. The sampling rate hereby plays an important role in that it defines how many data points of the speech signal are measured per second. Therefore, sampling with a higher sampling rate results in a better approximation of the *real* speech signal but also necessitates more values per second.\n",
        "\n",
        "A pretrained checkpoint expects its input data to have been sampled more or less from the same distribution as the data it was trained on. The same speech signals sampled at two different rates have a very different distribution, *e.g.*, doubling the sampling rate results in data points being twice as long. Thus,\n",
        "before fine-tuning a pretrained checkpoint of an ASR model, it is crucial to verify that the sampling rate of the data that was used to pretrain the model matches the sampling rate of the dataset used to fine-tune the model.\n",
        "\n",
        "Wav2Vec2 was pretrained on the audio data of [LibriSpeech](https://huggingface.co/datasets/librispeech_asr) and LibriVox which both were sampling with 16kHz. Our fine-tuning dataset, [Timit](hhtps://huggingface.co/datasets/timit_asr), was luckily also sampled with 16kHz. If the fine-tuning dataset would have been sampled with a rate lower or higher than 16kHz, we first would have had to up or downsample the speech signal to match the sampling rate of the data used for pretraining.\n",
        "\n"
      ]
    },
    {
      "attachments": {},
      "cell_type": "markdown",
      "metadata": {
        "id": "KuUbPW7oV-B5"
      },
      "source": [
        "A Wav2Vec2 feature extractor object requires the following parameters to be instantiated:\n",
        "\n",
        "- `feature_size`: Speech models take a sequence of feature vectors as an input. While the length of this sequence obviously varies, the feature size should not. In the case of Wav2Vec2, the feature size is 1 because the model was trained on the raw speech signal ${}^2$.\n",
        "- `sampling_rate`: The sampling rate at which the model is trained on.\n",
        "- `padding_value`: For batched inference, shorter inputs need to be padded with a specific value\n",
        "- `do_normalize`: Whether the input should be *zero-mean-unit-variance* normalized or not. Usually, speech models perform better when normalizing the input\n",
        "- `return_attention_mask`: Whether the model should make use of an `attention_mask` for batched inference. In general, models should **always** make use of the `attention_mask` to mask padded tokens. However, due to a very specific design choice of `Wav2Vec2`'s \"base\" checkpoint, better results are achieved when using no `attention_mask`. This is **not** recommended for other speech models. For more information, one can take a look at [this](https://github.com/pytorch/fairseq/issues/3227) issue. **Important** If you want to use this notebook to fine-tune [large-lv60](https://huggingface.co/facebook/wav2vec2-large-lv60), this parameter should be set to `True`."
      ]
    },
    {
      "cell_type": "code",
      "execution_count": 22,
      "metadata": {
        "id": "kAR0-2KLkopp"
      },
      "outputs": [],
      "source": [
        "from transformers import Wav2Vec2FeatureExtractor\n",
        "\n",
        "feature_extractor = Wav2Vec2FeatureExtractor(feature_size=1, sampling_rate=16000, padding_value=0.0, do_normalize=True, return_attention_mask=False)"
      ]
    },
    {
      "attachments": {},
      "cell_type": "markdown",
      "metadata": {
        "id": "qUETetgqYC3W"
      },
      "source": [
        "Great, Wav2Vec2's feature extraction pipeline is thereby fully defined!\n",
        "\n",
        "To make the usage of Wav2Vec2 as user-friendly as possible, the feature extractor and tokenizer are *wrapped* into a single `Wav2Vec2Processor` class so that one only needs a `model` and `processor` object."
      ]
    },
    {
      "cell_type": "code",
      "execution_count": 23,
      "metadata": {
        "id": "KYZtoW-tlZgl"
      },
      "outputs": [],
      "source": [
        "from transformers import Wav2Vec2Processor\n",
        "\n",
        "processor = Wav2Vec2Processor(feature_extractor=feature_extractor, tokenizer=tokenizer)"
      ]
    },
    {
      "attachments": {},
      "cell_type": "markdown",
      "metadata": {
        "id": "DrKnYuvDIoOO"
      },
      "source": [
        "Next, we can prepare the dataset."
      ]
    },
    {
      "attachments": {},
      "cell_type": "markdown",
      "metadata": {
        "id": "YFmShnl7RE35"
      },
      "source": [
        "### Preprocess Data\n",
        "\n",
        "So far, we have not looked at the actual values of the speech signal but just the transcription. In addition to `'text'`, our datasets include two more column names `'file'` and `'audio'`. `'file'` states the absolute path of the audio file. Let's take a look."
      ]
    },
    {
      "cell_type": "code",
      "execution_count": 24,
      "metadata": {
        "colab": {
          "base_uri": "https://localhost:8080/",
          "height": 35
        },
        "id": "TTCS7W6XJ9BG",
        "outputId": "d5d6e239-b109-4b2b-9a62-f1b23f754433"
      },
      "outputs": [
        {
          "data": {
            "text/plain": [
              "'/home/cslab03/.cache/huggingface/datasets/downloads/extracted/a776bf1fdb2afcd63eb44e45574fab3aff2a60fd299aea96cedc65b48da33669/data/TRAIN/DR4/MMDM0/SI681.WAV'"
            ]
          },
          "execution_count": 24,
          "metadata": {},
          "output_type": "execute_result"
        }
      ],
      "source": [
        "timit[\"train\"][0][\"file\"]"
      ]
    },
    {
      "attachments": {},
      "cell_type": "markdown",
      "metadata": {
        "id": "BwxprOw4Nzrl"
      },
      "source": [
        "`Wav2Vec2` expects the input in the format of a 1-dimensional array of 16 kHz. This means that the audio file has to be loaded and resampled.\n",
        "\n",
        " Thankfully, `datasets` does this automatically when calling the column `audio`. Let try it out."
      ]
    },
    {
      "cell_type": "code",
      "execution_count": 25,
      "metadata": {
        "colab": {
          "base_uri": "https://localhost:8080/"
        },
        "id": "mk9QHuSsN7lf",
        "outputId": "beb08435-f986-4f28-8660-396377695838"
      },
      "outputs": [
        {
          "data": {
            "text/plain": [
              "{'path': '/home/cslab03/.cache/huggingface/datasets/downloads/extracted/a776bf1fdb2afcd63eb44e45574fab3aff2a60fd299aea96cedc65b48da33669/data/TRAIN/DR4/MMDM0/SI681.WAV',\n",
              " 'array': array([-2.1362305e-04,  6.1035156e-05,  3.0517578e-05, ...,\n",
              "        -3.0517578e-05, -9.1552734e-05, -6.1035156e-05], dtype=float32),\n",
              " 'sampling_rate': 16000}"
            ]
          },
          "execution_count": 25,
          "metadata": {},
          "output_type": "execute_result"
        }
      ],
      "source": [
        "timit[\"train\"][0][\"audio\"]"
      ]
    },
    {
      "attachments": {},
      "cell_type": "markdown",
      "metadata": {
        "id": "wSBIGEiaKHMn"
      },
      "source": [
        "We can see that the audio file has automatically been loaded. This is thanks to the new [`\"Audio\"` feature](https://huggingface.co/docs/datasets/package_reference/main_classes.html?highlight=audio#datasets.Audio) introduced in `datasets == 4.13.3`, which loads and resamples audio files on-the-fly upon calling.\n",
        "\n",
        "The sampling rate is set to 16kHz which is what `Wav2Vec2` expects as an input."
      ]
    },
    {
      "attachments": {},
      "cell_type": "markdown",
      "metadata": {
        "id": "SOckzFd4Mbzq"
      },
      "source": [
        "Great, let's listen to a couple of audio files to better understand the dataset and verify that the audio was correctly loaded.\n",
        "\n",
        "**Note**: *You can click the following cell a couple of times to listen to different speech samples.*"
      ]
    },
    {
      "cell_type": "code",
      "execution_count": 26,
      "metadata": {
        "colab": {
          "base_uri": "https://localhost:8080/",
          "height": 79
        },
        "id": "dueM6U7Ev0OA",
        "outputId": "a6e2aee9-618c-4b95-8f29-a686aa3cbc91"
      },
      "outputs": [
        {
          "name": "stdout",
          "output_type": "stream",
          "text": [
            "allow each child to have an ice pop \n"
          ]
        },
        {
          "data": {
            "text/html": [
              "\n",
              "                <audio  controls=\"controls\" autoplay=\"autoplay\">\n",
              "                    <source src=\"data:audio/wav;base64,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\" type=\"audio/wav\" />\n",
              "                    Your browser does not support the audio element.\n",
              "                </audio>\n",
              "              "
            ],
            "text/plain": [
              "<IPython.lib.display.Audio object>"
            ]
          },
          "execution_count": 26,
          "metadata": {},
          "output_type": "execute_result"
        }
      ],
      "source": [
        "import IPython.display as ipd\n",
        "import numpy as np\n",
        "import random\n",
        "\n",
        "rand_int = random.randint(0, len(timit[\"train\"]))\n",
        "\n",
        "print(timit[\"train\"][rand_int][\"text\"])\n",
        "ipd.Audio(data=np.asarray(timit[\"train\"][rand_int][\"audio\"][\"array\"]), autoplay=True, rate=16000)"
      ]
    },
    {
      "attachments": {},
      "cell_type": "markdown",
      "metadata": {
        "id": "1MaL9J2dNVtG"
      },
      "source": [
        "It can be heard, that the speakers change along with their speaking rate, accent, etc. Overall, the recordings sound relatively clear though, which is to be expected from a read speech corpus.\n",
        "\n",
        "Let's do a final check that the data is correctly prepared, by printing the shape of the speech input, its transcription, and the corresponding sampling rate.\n",
        "\n",
        "**Note**: *You can click the following cell a couple of times to verify multiple samples.*"
      ]
    },
    {
      "cell_type": "code",
      "execution_count": 27,
      "metadata": {
        "colab": {
          "base_uri": "https://localhost:8080/"
        },
        "id": "1Po2g7YPuRTx",
        "outputId": "20b773d0-b275-4de7-97c9-91ec05420edc"
      },
      "outputs": [
        {
          "name": "stdout",
          "output_type": "stream",
          "text": [
            "Target text: don't look for group valuables in a bank vault \n",
            "Input array shape: (36762,)\n",
            "Sampling rate: 16000\n"
          ]
        }
      ],
      "source": [
        "rand_int = random.randint(0, len(timit[\"train\"]))\n",
        "\n",
        "print(\"Target text:\", timit[\"train\"][rand_int][\"text\"])\n",
        "print(\"Input array shape:\", np.asarray(timit[\"train\"][rand_int][\"audio\"][\"array\"]).shape)\n",
        "print(\"Sampling rate:\", timit[\"train\"][rand_int][\"audio\"][\"sampling_rate\"])"
      ]
    },
    {
      "attachments": {},
      "cell_type": "markdown",
      "metadata": {
        "id": "M9teZcSwOBJ4"
      },
      "source": [
        "Good! Everything looks fine - the data is a 1-dimensional array, the sampling rate always corresponds to 16kHz, and the target text is normalized."
      ]
    },
    {
      "attachments": {},
      "cell_type": "markdown",
      "metadata": {
        "id": "k3Pbn5WvOYZF"
      },
      "source": [
        "Finally, we can process the dataset to the format expected by the model for training. We will make use of the `map(...)` function.\n",
        "\n",
        "First, we load and resample the audio data, simply by calling `batch[\"audio\"]`.\n",
        "Second, we extract the `input_values` from the loaded audio file. In our case, the `Wav2Vec2Processor` only normalizes the data. For other speech models, however, this step can include more complex feature extraction, such as [Log-Mel feature extraction](https://en.wikipedia.org/wiki/Mel-frequency_cepstrum).\n",
        "Third, we encode the transcriptions to label ids.\n",
        "\n",
        "**Note**: This mapping function is a good example of how the `Wav2Vec2Processor` class should be used. In \"normal\" context, calling `processor(...)` is redirected to `Wav2Vec2FeatureExtractor`'s call method. When wrapping the processor into the `as_target_processor` context, however, the same method is redirected to `Wav2Vec2CTCTokenizer`'s call method.\n",
        "For more information please check the [docs](https://huggingface.co/transformers/master/model_doc/wav2vec2.html#transformers.Wav2Vec2Processor.__call__)."
      ]
    },
    {
      "cell_type": "code",
      "execution_count": 28,
      "metadata": {
        "id": "eJY7I0XAwe9p"
      },
      "outputs": [],
      "source": [
        "def prepare_dataset(batch):\n",
        "    audio = batch[\"audio\"]\n",
        "\n",
        "    # batched output is \"un-batched\" to ensure mapping is correct\n",
        "    batch[\"input_values\"] = processor(audio[\"array\"], sampling_rate=audio[\"sampling_rate\"]).input_values[0]\n",
        "    batch[\"input_length\"] = len(batch[\"input_values\"])\n",
        "\n",
        "    with processor.as_target_processor():\n",
        "        batch[\"labels\"] = processor(batch[\"text\"]).input_ids\n",
        "    return batch"
      ]
    },
    {
      "attachments": {},
      "cell_type": "markdown",
      "metadata": {
        "id": "hVMZhH4-nP8-"
      },
      "source": [
        "Let's apply the data preparation function to all examples."
      ]
    },
    {
      "cell_type": "code",
      "execution_count": 29,
      "metadata": {
        "id": "-np9xYK-wl8q"
      },
      "outputs": [],
      "source": [
        "timit = timit.map(prepare_dataset, remove_columns=timit.column_names[\"train\"], num_proc=4)"
      ]
    },
    {
      "attachments": {},
      "cell_type": "markdown",
      "metadata": {
        "id": "p_MuJSH8nTuQ"
      },
      "source": [
        "**Note**: Currently `datasets` make use of [`torchaudio`](https://pytorch.org/audio/stable/index.html) and [`librosa`](https://librosa.org/doc/latest/index.html) for audio loading and resampling. If you wish to implement your own costumized data loading/sampling, feel free to just make use of the `\"path\"` column instead and disregard the `\"audio\"` column."
      ]
    },
    {
      "attachments": {},
      "cell_type": "markdown",
      "metadata": {
        "id": "M4J0bU1WsvAg"
      },
      "source": [
        "Long input sequences require a lot of memory. Since `Wav2Vec2` is based on `self-attention` the memory requirement scales quadratically with the input length for long input sequences (*cf.* with [this](https://www.reddit.com/r/MachineLearning/comments/genjvb/d_why_is_the_maximum_input_sequence_length_of/) reddit post). For this demo, let's filter all sequences that are longer than 4 seconds out of the training dataset."
      ]
    },
    {
      "cell_type": "code",
      "execution_count": 30,
      "metadata": {
        "colab": {
          "base_uri": "https://localhost:8080/",
          "height": 49,
          "referenced_widgets": [
            "7006ee29b4ef406381b7fbd117b4b333",
            "c4960a24842040638dc4f7a81b737d6f",
            "2cb200945757448abb65d4af8fe4b95f",
            "d11bbf7a3d924028958d5bcc0a72e122",
            "374e9b6e9fcc45eabe84ae0c9f286546",
            "fcd185b60d6e4e60a8ab964aac262f73",
            "46b49c05ae70468cbe834a11a86c53ee",
            "480805c0a342489dbe01eef7aa1a9b65",
            "c7729e98d977430a8a85243bab1dc83d",
            "b55fea5b10694c8cb1aa93622170ff8c",
            "362150e5ee6b409381c9a3f2c4199186"
          ]
        },
        "id": "nqGobEPUvG3v",
        "outputId": "fafa598d-49a2-4ba3-cadb-8be5817944f0"
      },
      "outputs": [
        {
          "data": {
            "application/vnd.jupyter.widget-view+json": {
              "model_id": "30c95c8500b943f590debd2840f19818",
              "version_major": 2,
              "version_minor": 0
            },
            "text/plain": [
              "  0%|          | 0/5 [00:00<?, ?ba/s]"
            ]
          },
          "metadata": {},
          "output_type": "display_data"
        }
      ],
      "source": [
        "max_input_length_in_sec = 4.0\n",
        "timit[\"train\"] = timit[\"train\"].filter(lambda x: x < max_input_length_in_sec * processor.feature_extractor.sampling_rate, input_columns=[\"input_length\"])"
      ]
    },
    {
      "attachments": {},
      "cell_type": "markdown",
      "metadata": {
        "id": "25Genil2v_Br"
      },
      "source": [
        "Awesome, now we are ready to start training!"
      ]
    },
    {
      "attachments": {},
      "cell_type": "markdown",
      "metadata": {
        "id": "gYlQkKVoRUos"
      },
      "source": [
        "## Training & Evaluation\n",
        "\n",
        "The data is processed so that we are ready to start setting up the training pipeline. We will make use of 🤗's [Trainer](https://huggingface.co/transformers/master/main_classes/trainer.html?highlight=trainer) for which we essentially need to do the following:\n",
        "\n",
        "- Define a data collator. In contrast to most NLP models, Wav2Vec2 has a much larger input length than output length. *E.g.*, a sample of input length 50000 has an output length of no more than 100. Given the large input sizes, it is much more efficient to pad the training batches dynamically meaning that all training samples should only be padded to the longest sample in their batch and not the overall longest sample. Therefore, fine-tuning Wav2Vec2 requires a special padding data collator, which we will define below\n",
        "\n",
        "- Evaluation metric. During training, the model should be evaluated on the word error rate. We should define a `compute_metrics` function accordingly\n",
        "\n",
        "- Load a pretrained checkpoint. We need to load a pretrained checkpoint and configure it correctly for training.\n",
        "\n",
        "- Define the training configuration.\n",
        "\n",
        "After having fine-tuned the model, we will correctly evaluate it on the test data and verify that it has indeed learned to correctly transcribe speech."
      ]
    },
    {
      "attachments": {},
      "cell_type": "markdown",
      "metadata": {
        "id": "Slk403unUS91"
      },
      "source": [
        "### Set-up Trainer\n",
        "\n",
        "Let's start by defining the data collator. The code for the data collator was copied from [this example](https://github.com/huggingface/transformers/blob/9a06b6b11bdfc42eea08fa91d0c737d1863c99e3/examples/research_projects/wav2vec2/run_asr.py#L81).\n",
        "\n",
        "Without going into too many details, in contrast to the common data collators, this data collator treats the `input_values` and `labels` differently and thus applies to separate padding functions on them (again making use of Wav2Vec2's context manager). This is necessary because in speech input and output are of different modalities meaning that they should not be treated by the same padding function.\n",
        "Analogous to the common data collators, the padding tokens in the labels with `-100` so that those tokens are **not** taken into account when computing the loss."
      ]
    },
    {
      "cell_type": "code",
      "execution_count": 31,
      "metadata": {
        "id": "tborvC9hx88e"
      },
      "outputs": [],
      "source": [
        "import torch\n",
        "\n",
        "from dataclasses import dataclass, field\n",
        "from typing import Any, Dict, List, Optional, Union\n",
        "\n",
        "@dataclass\n",
        "class DataCollatorCTCWithPadding:\n",
        "    \"\"\"\n",
        "    Data collator that will dynamically pad the inputs received.\n",
        "    Args:\n",
        "        processor (:class:`~transformers.Wav2Vec2Processor`)\n",
        "            The processor used for proccessing the data.\n",
        "        padding (:obj:`bool`, :obj:`str` or :class:`~transformers.tokenization_utils_base.PaddingStrategy`, `optional`, defaults to :obj:`True`):\n",
        "            Select a strategy to pad the returned sequences (according to the model's padding side and padding index)\n",
        "            among:\n",
        "            * :obj:`True` or :obj:`'longest'`: Pad to the longest sequence in the batch (or no padding if only a single\n",
        "              sequence if provided).\n",
        "            * :obj:`'max_length'`: Pad to a maximum length specified with the argument :obj:`max_length` or to the\n",
        "              maximum acceptable input length for the model if that argument is not provided.\n",
        "            * :obj:`False` or :obj:`'do_not_pad'` (default): No padding (i.e., can output a batch with sequences of\n",
        "              different lengths).\n",
        "    \"\"\"\n",
        "\n",
        "    processor: Wav2Vec2Processor\n",
        "    padding: Union[bool, str] = True\n",
        "\n",
        "    def __call__(self, features: List[Dict[str, Union[List[int], torch.Tensor]]]) -> Dict[str, torch.Tensor]:\n",
        "        # split inputs and labels since they have to be of different lenghts and need\n",
        "        # different padding methods\n",
        "        input_features = [{\"input_values\": feature[\"input_values\"]} for feature in features]\n",
        "        label_features = [{\"input_ids\": feature[\"labels\"]} for feature in features]\n",
        "\n",
        "        batch = self.processor.pad(\n",
        "            input_features,\n",
        "            padding=self.padding,\n",
        "            return_tensors=\"pt\",\n",
        "        )\n",
        "        with self.processor.as_target_processor():\n",
        "            labels_batch = self.processor.pad(\n",
        "                label_features,\n",
        "                padding=self.padding,\n",
        "                return_tensors=\"pt\",\n",
        "            )\n",
        "\n",
        "        # replace padding with -100 to ignore loss correctly\n",
        "        labels = labels_batch[\"input_ids\"].masked_fill(labels_batch.attention_mask.ne(1), -100)\n",
        "\n",
        "        batch[\"labels\"] = labels\n",
        "\n",
        "        return batch"
      ]
    },
    {
      "cell_type": "code",
      "execution_count": 32,
      "metadata": {
        "id": "lbQf5GuZyQ4_"
      },
      "outputs": [],
      "source": [
        "data_collator = DataCollatorCTCWithPadding(processor=processor, padding=True)"
      ]
    },
    {
      "attachments": {},
      "cell_type": "markdown",
      "metadata": {
        "id": "xO-Zdj-5cxXp"
      },
      "source": [
        "Next, the evaluation metric is defined. As mentioned earlier, the\n",
        "predominant metric in ASR is the word error rate (WER), hence we will use it in this notebook as well."
      ]
    },
    {
      "cell_type": "code",
      "execution_count": 33,
      "metadata": {
        "colab": {
          "base_uri": "https://localhost:8080/",
          "height": 49,
          "referenced_widgets": [
            "e2df8e697e9c4f64a2bba0b6de2e8d49",
            "334975266d804748874f5d5621af50ba",
            "ab4a2cca2b404d25b2cda485c7c28077",
            "c781acd05e244750a8084992acc4ac2c",
            "1cb0c8f214cc4de791e49af3c793380a",
            "b51bb202d2214ff28d2a4cd7216443a7",
            "c3a76df48c1f46a6a588babaadaafce2",
            "da8639f433da4cefa2affd438ac18c89",
            "f4cfe55a73c141ef9b751d0db992d3cf",
            "8da462790a6d4fbb9251290bd9ee14f0",
            "fe31c534d6cd46da8b6a640e039a4d6c"
          ]
        },
        "id": "9Xsux2gmyXso",
        "outputId": "c8d63dfd-b8a9-453e-8ff6-276c6034cc54"
      },
      "outputs": [],
      "source": [
        "wer_metric = load_metric(\"wer\")"
      ]
    },
    {
      "attachments": {},
      "cell_type": "markdown",
      "metadata": {
        "id": "E1qZU5p-deqB"
      },
      "source": [
        "The model will return a sequence of logit vectors:\n",
        "$\\mathbf{y}_1, \\ldots, \\mathbf{y}_m$ with $\\mathbf{y}_1 = f_{\\theta}(x_1, \\ldots, x_n)[0]$ and $n >> m$.\n",
        "\n",
        "A logit vector $\\mathbf{y}_1$ contains the log-odds for each word in the vocabulary we defined earlier, thus $\\text{len}(\\mathbf{y}_i) =$ `config.vocab_size`. We are interested in the most likely prediction of the model and thus take the `argmax(...)` of the logits. Also, we transform the encoded labels back to the original string by replacing `-100` with the `pad_token_id` and decoding the ids while making sure that consecutive tokens are **not** grouped to the same token in CTC style ${}^1$."
      ]
    },
    {
      "cell_type": "code",
      "execution_count": 34,
      "metadata": {
        "id": "1XZ-kjweyTy_"
      },
      "outputs": [],
      "source": [
        "def compute_metrics(pred):\n",
        "    pred_logits = pred.predictions\n",
        "    pred_ids = np.argmax(pred_logits, axis=-1)\n",
        "\n",
        "    pred.label_ids[pred.label_ids == -100] = processor.tokenizer.pad_token_id\n",
        "\n",
        "    pred_str = processor.batch_decode(pred_ids)\n",
        "    # we do not want to group tokens when computing the metrics\n",
        "    label_str = processor.batch_decode(pred.label_ids, group_tokens=False)\n",
        "\n",
        "    wer = wer_metric.compute(predictions=pred_str, references=label_str)\n",
        "\n",
        "    return {\"wer\": wer}"
      ]
    },
    {
      "attachments": {},
      "cell_type": "markdown",
      "metadata": {
        "id": "Xmgrx4bRwLIH"
      },
      "source": [
        "Now, we can load the pretrained `Wav2Vec2` checkpoint. The tokenizer's `pad_token_id` must be to define the model's `pad_token_id` or in the case of `Wav2Vec2ForCTC` also CTC's *blank token* ${}^2$. To save GPU memory, we enable PyTorch's [gradient checkpointing](https://pytorch.org/docs/stable/checkpoint.html) and also set the loss reduction to \"*mean*\"."
      ]
    },
    {
      "cell_type": "code",
      "execution_count": 35,
      "metadata": {
        "colab": {
          "base_uri": "https://localhost:8080/",
          "height": 223,
          "referenced_widgets": [
            "e57c5cbc0380464994c4a5b42de76c66",
            "47d42cc391cd46049052a802e46364b6",
            "2a49340e51fc4054a2616d1990109d7c",
            "5c09a1875b4f4cc2b3cf64a52b4fd8b8",
            "7664d4cd39254acfb97b63a3331c8b25",
            "b92aa97e7bf4400c8e1314fd9cd6360c",
            "ae02bea4efb44660aa5718e913f38d1d",
            "bd85d28cc40142998b42434a705de501",
            "7a913dfa92e7410f8304bd12b186671e",
            "2e4870ab55404beaafde980d48618ed7",
            "b85b4466791b4764ab4ef51f90281e9f",
            "96fb47902431425f86a6a5ab760c92d3",
            "4d26ca1886f0449ea7bd6b4c8de7ab24",
            "e610d02445bd4e5e9b4783658f058147",
            "8a07f08956924a38b2a57f70b0fbeead",
            "39a54ded218f48048321c604eece88d9",
            "b27cb4080cb642739729fed51ee8c3ad",
            "8ba99977f5d64f69820c6cb91020848c",
            "41761888fc3547bf81907d84c07cd964",
            "d2174b1613f54697a70a519f40b5aee8",
            "33d85e2daf4e45e48d1eb5dbf86cd4b6",
            "05de8b07f5a54cdaabb7ad3de4a032b3"
          ]
        },
        "id": "e7cqAWIayn6w",
        "outputId": "e0c7e9ba-db20-4128-bf9a-7d377aa3eb77"
      },
      "outputs": [
        {
          "name": "stderr",
          "output_type": "stream",
          "text": [
            "/home/cslab03/anaconda3/envs/myenv/lib/python3.9/site-packages/transformers/configuration_utils.py:356: UserWarning: Passing `gradient_checkpointing` to a config initialization is deprecated and will be removed in v5 Transformers. Using `model.gradient_checkpointing_enable()` instead, or if you are using the `Trainer` API, pass `gradient_checkpointing=True` in your `TrainingArguments`.\n",
            "  warnings.warn(\n",
            "Some weights of the model checkpoint at facebook/wav2vec2-base were not used when initializing Wav2Vec2ForCTC: ['quantizer.weight_proj.weight', 'project_q.bias', 'quantizer.weight_proj.bias', 'quantizer.codevectors', 'project_hid.weight', 'project_q.weight', 'project_hid.bias']\n",
            "- This IS expected if you are initializing Wav2Vec2ForCTC from the checkpoint of a model trained on another task or with another architecture (e.g. initializing a BertForSequenceClassification model from a BertForPreTraining model).\n",
            "- This IS NOT expected if you are initializing Wav2Vec2ForCTC from the checkpoint of a model that you expect to be exactly identical (initializing a BertForSequenceClassification model from a BertForSequenceClassification model).\n",
            "Some weights of Wav2Vec2ForCTC were not initialized from the model checkpoint at facebook/wav2vec2-base and are newly initialized: ['lm_head.weight', 'lm_head.bias']\n",
            "You should probably TRAIN this model on a down-stream task to be able to use it for predictions and inference.\n"
          ]
        }
      ],
      "source": [
        "from transformers import Wav2Vec2ForCTC\n",
        "\n",
        "model = Wav2Vec2ForCTC.from_pretrained(\n",
        "    \"facebook/wav2vec2-base\",\n",
        "    ctc_loss_reduction=\"mean\",\n",
        "    pad_token_id=processor.tokenizer.pad_token_id,\n",
        ")"
      ]
    },
    {
      "attachments": {},
      "cell_type": "markdown",
      "metadata": {
        "id": "1DwR3XLSzGDD"
      },
      "source": [
        "The first component of Wav2Vec2 consists of a stack of CNN layers that are used to extract acoustically meaningful - but contextually independent - features from the raw speech signal. This part of the model has already been sufficiently trained during pretrainind and as stated in the [paper](https://arxiv.org/abs/2006.11477) does not need to be fine-tuned anymore.\n",
        "Thus, we can set the `requires_grad` to `False` for all parameters of the *feature extraction* part."
      ]
    },
    {
      "cell_type": "code",
      "execution_count": 36,
      "metadata": {
        "id": "Et_NUAZjWppc"
      },
      "outputs": [],
      "source": [
        "model.freeze_feature_encoder()"
      ]
    },
    {
      "attachments": {},
      "cell_type": "markdown",
      "metadata": {
        "id": "lD4aGhQM0K-D"
      },
      "source": [
        "In a final step, we define all parameters related to training.\n",
        "To give more explanation on some of the parameters:\n",
        "- `group_by_length` makes training more efficient by grouping training samples of similar input length into one batch. This can significantly speed up training time by heavily reducing the overall number of useless padding tokens that are passed through the model\n",
        "- `learning_rate` and `weight_decay` were heuristically tuned until fine-tuning has become stable. Note that those parameters strongly depend on the Timit dataset and might be suboptimal for other speech datasets.\n",
        "\n",
        "For more explanations on other parameters, one can take a look at the [docs](https://huggingface.co/transformers/master/main_classes/trainer.html?highlight=trainer#trainingarguments).\n",
        "\n",
        "During training, a checkpoint will be uploaded asynchronously to the hub every 400 training steps. It allows you to also play around with the demo widget even while your model is still training.\n",
        "\n",
        "**Note**: If one does not want to upload the model checkpoints to the hub, simply set `push_to_hub=False`."
      ]
    },
    {
      "cell_type": "code",
      "execution_count": 39,
      "metadata": {
        "id": "KbeKSV7uzGPP"
      },
      "outputs": [],
      "source": [
        "from transformers import TrainingArguments\n",
        "\n",
        "training_args = TrainingArguments(\n",
        "  output_dir=repo_name,\n",
        "  group_by_length=True,\n",
        "  per_device_train_batch_size=8,\n",
        "  evaluation_strategy=\"steps\",\n",
        "  num_train_epochs=30,\n",
        "  gradient_checkpointing=True,\n",
        "  save_steps=500,\n",
        "  eval_steps=500,\n",
        "  logging_steps=500,\n",
        "  learning_rate=1e-4,\n",
        "  weight_decay=0.005,\n",
        "  warmup_steps=1000,\n",
        "  save_total_limit=2,\n",
        ")"
      ]
    },
    {
      "attachments": {},
      "cell_type": "markdown",
      "metadata": {
        "id": "OsW-WZcL1ZtN"
      },
      "source": [
        "Now, all instances can be passed to Trainer and we are ready to start training!"
      ]
    },
    {
      "cell_type": "code",
      "execution_count": 40,
      "metadata": {
        "colab": {
          "base_uri": "https://localhost:8080/"
        },
        "id": "rY7vBmFCPFgC",
        "outputId": "26901f74-4187-4a33-b00c-94861a6059b3"
      },
      "outputs": [],
      "source": [
        "from transformers import Trainer\n",
        "\n",
        "trainer = Trainer(\n",
        "    model=model,\n",
        "    data_collator=data_collator,\n",
        "    args=training_args,\n",
        "    compute_metrics=compute_metrics,\n",
        "    train_dataset=timit[\"train\"],\n",
        "    eval_dataset=timit[\"test\"],\n",
        "    tokenizer=processor.feature_extractor,\n",
        ")"
      ]
    },
    {
      "attachments": {},
      "cell_type": "markdown",
      "metadata": {
        "id": "UoXBx1JAA0DX"
      },
      "source": [
        "\n",
        "\n",
        "---\n",
        "\n",
        "${}^1$ To allow models to become independent of the speaker rate, in CTC, consecutive tokens that are identical are simply grouped as a single token. However, the encoded labels should not be grouped when decoding since they don't correspond to the predicted tokens of the model, which is why the `group_tokens=False` parameter has to be passed. If we wouldn't pass this parameter a word like `\"hello\"` would incorrectly be encoded, and decoded as `\"helo\"`.\n",
        "\n",
        "${}^2$ The blank token allows the model to predict a word, such as `\"hello\"` by forcing it to insert the blank token between the two l's. A CTC-conform prediction of `\"hello\"` of our model would be `[PAD] [PAD] \"h\" \"e\" \"e\" \"l\" \"l\" [PAD] \"l\" \"o\" \"o\" [PAD]`."
      ]
    },
    {
      "attachments": {},
      "cell_type": "markdown",
      "metadata": {
        "id": "rpvZHM1xReIW"
      },
      "source": [
        "### Training"
      ]
    },
    {
      "attachments": {},
      "cell_type": "markdown",
      "metadata": {
        "id": "j-3oKSzZ1hGq"
      },
      "source": [
        "Training will take between 90 and 270 minutes depending on the GPU allocated to this notebook. While the trained model yields satisfying results on *Timit*'s test data, it is by no means an optimally fine-tuned model. The purpose of this notebook is to demonstrate how Wav2Vec2's [base](https://huggingface.co/facebook/wav2vec2-base), [large](https://huggingface.co/facebook/wav2vec2-large), and [large-lv60](https://huggingface.co/facebook/wav2vec2-large-lv60) checkpoints can be fine-tuned on any English dataset.\n",
        "\n",
        "In case you want to use this google colab to fine-tune your model, you should make sure that your training doesn't stop due to inactivity. A simple hack to prevent this is to paste the following code into the console of this tab (*right mouse click -> inspect -> Console tab and insert code*)."
      ]
    },
    {
      "attachments": {},
      "cell_type": "markdown",
      "metadata": {
        "id": "VYYAvgkW4P0m"
      },
      "source": [
        "```javascript\n",
        "function ConnectButton(){\n",
        "    console.log(\"Connect pushed\");\n",
        "    document.querySelector(\"#top-toolbar > colab-connect-button\").shadowRoot.querySelector(\"#connect\").click()\n",
        "}\n",
        "setInterval(ConnectButton,60000);\n",
        "```"
      ]
    },
    {
      "attachments": {},
      "cell_type": "markdown",
      "metadata": {
        "id": "PmY6yqd1zvzU"
      },
      "source": [
        "Depending on what GPU was allocated to your google colab it might be possible that you are seeing an `\"out-of-memory\"` error here. In this case, it's probably best to reduce `per_device_train_batch_size` to 16 or even less and eventually make use of [`gradient_accumulation`](https://huggingface.co/transformers/master/main_classes/trainer.html#trainingarguments)."
      ]
    },
    {
      "cell_type": "code",
      "execution_count": 44,
      "metadata": {
        "colab": {
          "background_save": true,
          "base_uri": "https://localhost:8080/",
          "height": 1000
        },
        "id": "_UEjJqGsQw24",
        "outputId": "9c5a3893-c598-4eb3-d235-957cd0784ad7"
      },
      "outputs": [
        {
          "name": "stderr",
          "output_type": "stream",
          "text": [
            "The following columns in the training set  don't have a corresponding argument in `Wav2Vec2ForCTC.forward` and have been ignored: input_length. If input_length are not expected by `Wav2Vec2ForCTC.forward`,  you can safely ignore this message.\n",
            "***** Running training *****\n",
            "  Num examples = 3978\n",
            "  Num Epochs = 30\n",
            "  Instantaneous batch size per device = 8\n",
            "  Total train batch size (w. parallel, distributed & accumulation) = 8\n",
            "  Gradient Accumulation steps = 1\n",
            "  Total optimization steps = 14940\n"
          ]
        },
        {
          "data": {
            "application/vnd.jupyter.widget-view+json": {
              "model_id": "b8e072d18d8d46caa2e342ff68e0a1e3",
              "version_major": 2,
              "version_minor": 0
            },
            "text/plain": [
              "  0%|          | 0/14940 [00:00<?, ?it/s]"
            ]
          },
          "metadata": {},
          "output_type": "display_data"
        },
        {
          "ename": "KeyboardInterrupt",
          "evalue": "",
          "output_type": "error",
          "traceback": [
            "\u001b[0;31m---------------------------------------------------------------------------\u001b[0m",
            "\u001b[0;31mKeyboardInterrupt\u001b[0m                         Traceback (most recent call last)",
            "\u001b[0;32m/tmp/ipykernel_7685/4032920361.py\u001b[0m in \u001b[0;36m<module>\u001b[0;34m\u001b[0m\n\u001b[0;32m----> 1\u001b[0;31m \u001b[0mtrainer\u001b[0m\u001b[0;34m.\u001b[0m\u001b[0mtrain\u001b[0m\u001b[0;34m(\u001b[0m\u001b[0;34m)\u001b[0m\u001b[0;34m\u001b[0m\u001b[0;34m\u001b[0m\u001b[0m\n\u001b[0m",
            "\u001b[0;32m~/anaconda3/envs/myenv/lib/python3.9/site-packages/transformers/trainer.py\u001b[0m in \u001b[0;36mtrain\u001b[0;34m(self, resume_from_checkpoint, trial, ignore_keys_for_eval, **kwargs)\u001b[0m\n\u001b[1;32m   1398\u001b[0m                         \u001b[0mtr_loss_step\u001b[0m \u001b[0;34m=\u001b[0m \u001b[0mself\u001b[0m\u001b[0;34m.\u001b[0m\u001b[0mtraining_step\u001b[0m\u001b[0;34m(\u001b[0m\u001b[0mmodel\u001b[0m\u001b[0;34m,\u001b[0m \u001b[0minputs\u001b[0m\u001b[0;34m)\u001b[0m\u001b[0;34m\u001b[0m\u001b[0;34m\u001b[0m\u001b[0m\n\u001b[1;32m   1399\u001b[0m                 \u001b[0;32melse\u001b[0m\u001b[0;34m:\u001b[0m\u001b[0;34m\u001b[0m\u001b[0;34m\u001b[0m\u001b[0m\n\u001b[0;32m-> 1400\u001b[0;31m                     \u001b[0mtr_loss_step\u001b[0m \u001b[0;34m=\u001b[0m \u001b[0mself\u001b[0m\u001b[0;34m.\u001b[0m\u001b[0mtraining_step\u001b[0m\u001b[0;34m(\u001b[0m\u001b[0mmodel\u001b[0m\u001b[0;34m,\u001b[0m \u001b[0minputs\u001b[0m\u001b[0;34m)\u001b[0m\u001b[0;34m\u001b[0m\u001b[0;34m\u001b[0m\u001b[0m\n\u001b[0m\u001b[1;32m   1401\u001b[0m \u001b[0;34m\u001b[0m\u001b[0m\n\u001b[1;32m   1402\u001b[0m                 if (\n",
            "\u001b[0;32m~/anaconda3/envs/myenv/lib/python3.9/site-packages/transformers/trainer.py\u001b[0m in \u001b[0;36mtraining_step\u001b[0;34m(self, model, inputs)\u001b[0m\n\u001b[1;32m   1982\u001b[0m \u001b[0;34m\u001b[0m\u001b[0m\n\u001b[1;32m   1983\u001b[0m         \u001b[0;32mwith\u001b[0m \u001b[0mself\u001b[0m\u001b[0;34m.\u001b[0m\u001b[0mautocast_smart_context_manager\u001b[0m\u001b[0;34m(\u001b[0m\u001b[0;34m)\u001b[0m\u001b[0;34m:\u001b[0m\u001b[0;34m\u001b[0m\u001b[0;34m\u001b[0m\u001b[0m\n\u001b[0;32m-> 1984\u001b[0;31m             \u001b[0mloss\u001b[0m \u001b[0;34m=\u001b[0m \u001b[0mself\u001b[0m\u001b[0;34m.\u001b[0m\u001b[0mcompute_loss\u001b[0m\u001b[0;34m(\u001b[0m\u001b[0mmodel\u001b[0m\u001b[0;34m,\u001b[0m \u001b[0minputs\u001b[0m\u001b[0;34m)\u001b[0m\u001b[0;34m\u001b[0m\u001b[0;34m\u001b[0m\u001b[0m\n\u001b[0m\u001b[1;32m   1985\u001b[0m \u001b[0;34m\u001b[0m\u001b[0m\n\u001b[1;32m   1986\u001b[0m         \u001b[0;32mif\u001b[0m \u001b[0mself\u001b[0m\u001b[0;34m.\u001b[0m\u001b[0margs\u001b[0m\u001b[0;34m.\u001b[0m\u001b[0mn_gpu\u001b[0m \u001b[0;34m>\u001b[0m \u001b[0;36m1\u001b[0m\u001b[0;34m:\u001b[0m\u001b[0;34m\u001b[0m\u001b[0;34m\u001b[0m\u001b[0m\n",
            "\u001b[0;32m~/anaconda3/envs/myenv/lib/python3.9/site-packages/transformers/trainer.py\u001b[0m in \u001b[0;36mcompute_loss\u001b[0;34m(self, model, inputs, return_outputs)\u001b[0m\n\u001b[1;32m   2014\u001b[0m         \u001b[0;32melse\u001b[0m\u001b[0;34m:\u001b[0m\u001b[0;34m\u001b[0m\u001b[0;34m\u001b[0m\u001b[0m\n\u001b[1;32m   2015\u001b[0m             \u001b[0mlabels\u001b[0m \u001b[0;34m=\u001b[0m \u001b[0;32mNone\u001b[0m\u001b[0;34m\u001b[0m\u001b[0;34m\u001b[0m\u001b[0m\n\u001b[0;32m-> 2016\u001b[0;31m         \u001b[0moutputs\u001b[0m \u001b[0;34m=\u001b[0m \u001b[0mmodel\u001b[0m\u001b[0;34m(\u001b[0m\u001b[0;34m**\u001b[0m\u001b[0minputs\u001b[0m\u001b[0;34m)\u001b[0m\u001b[0;34m\u001b[0m\u001b[0;34m\u001b[0m\u001b[0m\n\u001b[0m\u001b[1;32m   2017\u001b[0m         \u001b[0;31m# Save past state if it exists\u001b[0m\u001b[0;34m\u001b[0m\u001b[0;34m\u001b[0m\u001b[0m\n\u001b[1;32m   2018\u001b[0m         \u001b[0;31m# TODO: this needs to be fixed and made cleaner later.\u001b[0m\u001b[0;34m\u001b[0m\u001b[0;34m\u001b[0m\u001b[0m\n",
            "\u001b[0;32m~/anaconda3/envs/myenv/lib/python3.9/site-packages/torch/nn/modules/module.py\u001b[0m in \u001b[0;36m_call_impl\u001b[0;34m(self, *input, **kwargs)\u001b[0m\n\u001b[1;32m   1192\u001b[0m         if not (self._backward_hooks or self._forward_hooks or self._forward_pre_hooks or _global_backward_hooks\n\u001b[1;32m   1193\u001b[0m                 or _global_forward_hooks or _global_forward_pre_hooks):\n\u001b[0;32m-> 1194\u001b[0;31m             \u001b[0;32mreturn\u001b[0m \u001b[0mforward_call\u001b[0m\u001b[0;34m(\u001b[0m\u001b[0;34m*\u001b[0m\u001b[0minput\u001b[0m\u001b[0;34m,\u001b[0m \u001b[0;34m**\u001b[0m\u001b[0mkwargs\u001b[0m\u001b[0;34m)\u001b[0m\u001b[0;34m\u001b[0m\u001b[0;34m\u001b[0m\u001b[0m\n\u001b[0m\u001b[1;32m   1195\u001b[0m         \u001b[0;31m# Do not call functions when jit is used\u001b[0m\u001b[0;34m\u001b[0m\u001b[0;34m\u001b[0m\u001b[0m\n\u001b[1;32m   1196\u001b[0m         \u001b[0mfull_backward_hooks\u001b[0m\u001b[0;34m,\u001b[0m \u001b[0mnon_full_backward_hooks\u001b[0m \u001b[0;34m=\u001b[0m \u001b[0;34m[\u001b[0m\u001b[0;34m]\u001b[0m\u001b[0;34m,\u001b[0m \u001b[0;34m[\u001b[0m\u001b[0;34m]\u001b[0m\u001b[0;34m\u001b[0m\u001b[0;34m\u001b[0m\u001b[0m\n",
            "\u001b[0;32m~/anaconda3/envs/myenv/lib/python3.9/site-packages/transformers/models/wav2vec2/modeling_wav2vec2.py\u001b[0m in \u001b[0;36mforward\u001b[0;34m(self, input_values, attention_mask, output_attentions, output_hidden_states, return_dict, labels)\u001b[0m\n\u001b[1;32m   1749\u001b[0m         \u001b[0mreturn_dict\u001b[0m \u001b[0;34m=\u001b[0m \u001b[0mreturn_dict\u001b[0m \u001b[0;32mif\u001b[0m \u001b[0mreturn_dict\u001b[0m \u001b[0;32mis\u001b[0m \u001b[0;32mnot\u001b[0m \u001b[0;32mNone\u001b[0m \u001b[0;32melse\u001b[0m \u001b[0mself\u001b[0m\u001b[0;34m.\u001b[0m\u001b[0mconfig\u001b[0m\u001b[0;34m.\u001b[0m\u001b[0muse_return_dict\u001b[0m\u001b[0;34m\u001b[0m\u001b[0;34m\u001b[0m\u001b[0m\n\u001b[1;32m   1750\u001b[0m \u001b[0;34m\u001b[0m\u001b[0m\n\u001b[0;32m-> 1751\u001b[0;31m         outputs = self.wav2vec2(\n\u001b[0m\u001b[1;32m   1752\u001b[0m             \u001b[0minput_values\u001b[0m\u001b[0;34m,\u001b[0m\u001b[0;34m\u001b[0m\u001b[0;34m\u001b[0m\u001b[0m\n\u001b[1;32m   1753\u001b[0m             \u001b[0mattention_mask\u001b[0m\u001b[0;34m=\u001b[0m\u001b[0mattention_mask\u001b[0m\u001b[0;34m,\u001b[0m\u001b[0;34m\u001b[0m\u001b[0;34m\u001b[0m\u001b[0m\n",
            "\u001b[0;32m~/anaconda3/envs/myenv/lib/python3.9/site-packages/torch/nn/modules/module.py\u001b[0m in \u001b[0;36m_call_impl\u001b[0;34m(self, *input, **kwargs)\u001b[0m\n\u001b[1;32m   1192\u001b[0m         if not (self._backward_hooks or self._forward_hooks or self._forward_pre_hooks or _global_backward_hooks\n\u001b[1;32m   1193\u001b[0m                 or _global_forward_hooks or _global_forward_pre_hooks):\n\u001b[0;32m-> 1194\u001b[0;31m             \u001b[0;32mreturn\u001b[0m \u001b[0mforward_call\u001b[0m\u001b[0;34m(\u001b[0m\u001b[0;34m*\u001b[0m\u001b[0minput\u001b[0m\u001b[0;34m,\u001b[0m \u001b[0;34m**\u001b[0m\u001b[0mkwargs\u001b[0m\u001b[0;34m)\u001b[0m\u001b[0;34m\u001b[0m\u001b[0;34m\u001b[0m\u001b[0m\n\u001b[0m\u001b[1;32m   1195\u001b[0m         \u001b[0;31m# Do not call functions when jit is used\u001b[0m\u001b[0;34m\u001b[0m\u001b[0;34m\u001b[0m\u001b[0m\n\u001b[1;32m   1196\u001b[0m         \u001b[0mfull_backward_hooks\u001b[0m\u001b[0;34m,\u001b[0m \u001b[0mnon_full_backward_hooks\u001b[0m \u001b[0;34m=\u001b[0m \u001b[0;34m[\u001b[0m\u001b[0;34m]\u001b[0m\u001b[0;34m,\u001b[0m \u001b[0;34m[\u001b[0m\u001b[0;34m]\u001b[0m\u001b[0;34m\u001b[0m\u001b[0;34m\u001b[0m\u001b[0m\n",
            "\u001b[0;32m~/anaconda3/envs/myenv/lib/python3.9/site-packages/transformers/models/wav2vec2/modeling_wav2vec2.py\u001b[0m in \u001b[0;36mforward\u001b[0;34m(self, input_values, attention_mask, mask_time_indices, output_attentions, output_hidden_states, return_dict)\u001b[0m\n\u001b[1;32m   1359\u001b[0m         )\n\u001b[1;32m   1360\u001b[0m \u001b[0;34m\u001b[0m\u001b[0m\n\u001b[0;32m-> 1361\u001b[0;31m         encoder_outputs = self.encoder(\n\u001b[0m\u001b[1;32m   1362\u001b[0m             \u001b[0mhidden_states\u001b[0m\u001b[0;34m,\u001b[0m\u001b[0;34m\u001b[0m\u001b[0;34m\u001b[0m\u001b[0m\n\u001b[1;32m   1363\u001b[0m             \u001b[0mattention_mask\u001b[0m\u001b[0;34m=\u001b[0m\u001b[0mattention_mask\u001b[0m\u001b[0;34m,\u001b[0m\u001b[0;34m\u001b[0m\u001b[0;34m\u001b[0m\u001b[0m\n",
            "\u001b[0;32m~/anaconda3/envs/myenv/lib/python3.9/site-packages/torch/nn/modules/module.py\u001b[0m in \u001b[0;36m_call_impl\u001b[0;34m(self, *input, **kwargs)\u001b[0m\n\u001b[1;32m   1192\u001b[0m         if not (self._backward_hooks or self._forward_hooks or self._forward_pre_hooks or _global_backward_hooks\n\u001b[1;32m   1193\u001b[0m                 or _global_forward_hooks or _global_forward_pre_hooks):\n\u001b[0;32m-> 1194\u001b[0;31m             \u001b[0;32mreturn\u001b[0m \u001b[0mforward_call\u001b[0m\u001b[0;34m(\u001b[0m\u001b[0;34m*\u001b[0m\u001b[0minput\u001b[0m\u001b[0;34m,\u001b[0m \u001b[0;34m**\u001b[0m\u001b[0mkwargs\u001b[0m\u001b[0;34m)\u001b[0m\u001b[0;34m\u001b[0m\u001b[0;34m\u001b[0m\u001b[0m\n\u001b[0m\u001b[1;32m   1195\u001b[0m         \u001b[0;31m# Do not call functions when jit is used\u001b[0m\u001b[0;34m\u001b[0m\u001b[0;34m\u001b[0m\u001b[0m\n\u001b[1;32m   1196\u001b[0m         \u001b[0mfull_backward_hooks\u001b[0m\u001b[0;34m,\u001b[0m \u001b[0mnon_full_backward_hooks\u001b[0m \u001b[0;34m=\u001b[0m \u001b[0;34m[\u001b[0m\u001b[0;34m]\u001b[0m\u001b[0;34m,\u001b[0m \u001b[0;34m[\u001b[0m\u001b[0;34m]\u001b[0m\u001b[0;34m\u001b[0m\u001b[0;34m\u001b[0m\u001b[0m\n",
            "\u001b[0;32m~/anaconda3/envs/myenv/lib/python3.9/site-packages/transformers/models/wav2vec2/modeling_wav2vec2.py\u001b[0m in \u001b[0;36mforward\u001b[0;34m(self, hidden_states, attention_mask, output_attentions, output_hidden_states, return_dict)\u001b[0m\n\u001b[1;32m    835\u001b[0m                         \u001b[0;32mreturn\u001b[0m \u001b[0mcustom_forward\u001b[0m\u001b[0;34m\u001b[0m\u001b[0;34m\u001b[0m\u001b[0m\n\u001b[1;32m    836\u001b[0m \u001b[0;34m\u001b[0m\u001b[0m\n\u001b[0;32m--> 837\u001b[0;31m                     layer_outputs = torch.utils.checkpoint.checkpoint(\n\u001b[0m\u001b[1;32m    838\u001b[0m                         \u001b[0mcreate_custom_forward\u001b[0m\u001b[0;34m(\u001b[0m\u001b[0mlayer\u001b[0m\u001b[0;34m)\u001b[0m\u001b[0;34m,\u001b[0m\u001b[0;34m\u001b[0m\u001b[0;34m\u001b[0m\u001b[0m\n\u001b[1;32m    839\u001b[0m                         \u001b[0mhidden_states\u001b[0m\u001b[0;34m,\u001b[0m\u001b[0;34m\u001b[0m\u001b[0;34m\u001b[0m\u001b[0m\n",
            "\u001b[0;32m~/anaconda3/envs/myenv/lib/python3.9/site-packages/torch/utils/checkpoint.py\u001b[0m in \u001b[0;36mcheckpoint\u001b[0;34m(function, use_reentrant, *args, **kwargs)\u001b[0m\n\u001b[1;32m    247\u001b[0m \u001b[0;34m\u001b[0m\u001b[0m\n\u001b[1;32m    248\u001b[0m     \u001b[0;32mif\u001b[0m \u001b[0muse_reentrant\u001b[0m\u001b[0;34m:\u001b[0m\u001b[0;34m\u001b[0m\u001b[0;34m\u001b[0m\u001b[0m\n\u001b[0;32m--> 249\u001b[0;31m         \u001b[0;32mreturn\u001b[0m \u001b[0mCheckpointFunction\u001b[0m\u001b[0;34m.\u001b[0m\u001b[0mapply\u001b[0m\u001b[0;34m(\u001b[0m\u001b[0mfunction\u001b[0m\u001b[0;34m,\u001b[0m \u001b[0mpreserve\u001b[0m\u001b[0;34m,\u001b[0m \u001b[0;34m*\u001b[0m\u001b[0margs\u001b[0m\u001b[0;34m)\u001b[0m\u001b[0;34m\u001b[0m\u001b[0;34m\u001b[0m\u001b[0m\n\u001b[0m\u001b[1;32m    250\u001b[0m     \u001b[0;32melse\u001b[0m\u001b[0;34m:\u001b[0m\u001b[0;34m\u001b[0m\u001b[0;34m\u001b[0m\u001b[0m\n\u001b[1;32m    251\u001b[0m         return _checkpoint_without_reentrant(\n",
            "\u001b[0;32m~/anaconda3/envs/myenv/lib/python3.9/site-packages/torch/utils/checkpoint.py\u001b[0m in \u001b[0;36mforward\u001b[0;34m(ctx, run_function, preserve_rng_state, *args)\u001b[0m\n\u001b[1;32m    105\u001b[0m \u001b[0;34m\u001b[0m\u001b[0m\n\u001b[1;32m    106\u001b[0m         \u001b[0;32mwith\u001b[0m \u001b[0mtorch\u001b[0m\u001b[0;34m.\u001b[0m\u001b[0mno_grad\u001b[0m\u001b[0;34m(\u001b[0m\u001b[0;34m)\u001b[0m\u001b[0;34m:\u001b[0m\u001b[0;34m\u001b[0m\u001b[0;34m\u001b[0m\u001b[0m\n\u001b[0;32m--> 107\u001b[0;31m             \u001b[0moutputs\u001b[0m \u001b[0;34m=\u001b[0m \u001b[0mrun_function\u001b[0m\u001b[0;34m(\u001b[0m\u001b[0;34m*\u001b[0m\u001b[0margs\u001b[0m\u001b[0;34m)\u001b[0m\u001b[0;34m\u001b[0m\u001b[0;34m\u001b[0m\u001b[0m\n\u001b[0m\u001b[1;32m    108\u001b[0m         \u001b[0;32mreturn\u001b[0m \u001b[0moutputs\u001b[0m\u001b[0;34m\u001b[0m\u001b[0;34m\u001b[0m\u001b[0m\n\u001b[1;32m    109\u001b[0m \u001b[0;34m\u001b[0m\u001b[0m\n",
            "\u001b[0;32m~/anaconda3/envs/myenv/lib/python3.9/site-packages/transformers/models/wav2vec2/modeling_wav2vec2.py\u001b[0m in \u001b[0;36mcustom_forward\u001b[0;34m(*inputs)\u001b[0m\n\u001b[1;32m    831\u001b[0m                     \u001b[0;32mdef\u001b[0m \u001b[0mcreate_custom_forward\u001b[0m\u001b[0;34m(\u001b[0m\u001b[0mmodule\u001b[0m\u001b[0;34m)\u001b[0m\u001b[0;34m:\u001b[0m\u001b[0;34m\u001b[0m\u001b[0;34m\u001b[0m\u001b[0m\n\u001b[1;32m    832\u001b[0m                         \u001b[0;32mdef\u001b[0m \u001b[0mcustom_forward\u001b[0m\u001b[0;34m(\u001b[0m\u001b[0;34m*\u001b[0m\u001b[0minputs\u001b[0m\u001b[0;34m)\u001b[0m\u001b[0;34m:\u001b[0m\u001b[0;34m\u001b[0m\u001b[0;34m\u001b[0m\u001b[0m\n\u001b[0;32m--> 833\u001b[0;31m                             \u001b[0;32mreturn\u001b[0m \u001b[0mmodule\u001b[0m\u001b[0;34m(\u001b[0m\u001b[0;34m*\u001b[0m\u001b[0minputs\u001b[0m\u001b[0;34m,\u001b[0m \u001b[0moutput_attentions\u001b[0m\u001b[0;34m)\u001b[0m\u001b[0;34m\u001b[0m\u001b[0;34m\u001b[0m\u001b[0m\n\u001b[0m\u001b[1;32m    834\u001b[0m \u001b[0;34m\u001b[0m\u001b[0m\n\u001b[1;32m    835\u001b[0m                         \u001b[0;32mreturn\u001b[0m \u001b[0mcustom_forward\u001b[0m\u001b[0;34m\u001b[0m\u001b[0;34m\u001b[0m\u001b[0m\n",
            "\u001b[0;32m~/anaconda3/envs/myenv/lib/python3.9/site-packages/torch/nn/modules/module.py\u001b[0m in \u001b[0;36m_call_impl\u001b[0;34m(self, *input, **kwargs)\u001b[0m\n\u001b[1;32m   1192\u001b[0m         if not (self._backward_hooks or self._forward_hooks or self._forward_pre_hooks or _global_backward_hooks\n\u001b[1;32m   1193\u001b[0m                 or _global_forward_hooks or _global_forward_pre_hooks):\n\u001b[0;32m-> 1194\u001b[0;31m             \u001b[0;32mreturn\u001b[0m \u001b[0mforward_call\u001b[0m\u001b[0;34m(\u001b[0m\u001b[0;34m*\u001b[0m\u001b[0minput\u001b[0m\u001b[0;34m,\u001b[0m \u001b[0;34m**\u001b[0m\u001b[0mkwargs\u001b[0m\u001b[0;34m)\u001b[0m\u001b[0;34m\u001b[0m\u001b[0;34m\u001b[0m\u001b[0m\n\u001b[0m\u001b[1;32m   1195\u001b[0m         \u001b[0;31m# Do not call functions when jit is used\u001b[0m\u001b[0;34m\u001b[0m\u001b[0;34m\u001b[0m\u001b[0m\n\u001b[1;32m   1196\u001b[0m         \u001b[0mfull_backward_hooks\u001b[0m\u001b[0;34m,\u001b[0m \u001b[0mnon_full_backward_hooks\u001b[0m \u001b[0;34m=\u001b[0m \u001b[0;34m[\u001b[0m\u001b[0;34m]\u001b[0m\u001b[0;34m,\u001b[0m \u001b[0;34m[\u001b[0m\u001b[0;34m]\u001b[0m\u001b[0;34m\u001b[0m\u001b[0;34m\u001b[0m\u001b[0m\n",
            "\u001b[0;32m~/anaconda3/envs/myenv/lib/python3.9/site-packages/transformers/models/wav2vec2/modeling_wav2vec2.py\u001b[0m in \u001b[0;36mforward\u001b[0;34m(self, hidden_states, attention_mask, output_attentions)\u001b[0m\n\u001b[1;32m    729\u001b[0m     \u001b[0;32mdef\u001b[0m \u001b[0mforward\u001b[0m\u001b[0;34m(\u001b[0m\u001b[0mself\u001b[0m\u001b[0;34m,\u001b[0m \u001b[0mhidden_states\u001b[0m\u001b[0;34m,\u001b[0m \u001b[0mattention_mask\u001b[0m\u001b[0;34m=\u001b[0m\u001b[0;32mNone\u001b[0m\u001b[0;34m,\u001b[0m \u001b[0moutput_attentions\u001b[0m\u001b[0;34m=\u001b[0m\u001b[0;32mFalse\u001b[0m\u001b[0;34m)\u001b[0m\u001b[0;34m:\u001b[0m\u001b[0;34m\u001b[0m\u001b[0;34m\u001b[0m\u001b[0m\n\u001b[1;32m    730\u001b[0m         \u001b[0mattn_residual\u001b[0m \u001b[0;34m=\u001b[0m \u001b[0mhidden_states\u001b[0m\u001b[0;34m\u001b[0m\u001b[0;34m\u001b[0m\u001b[0m\n\u001b[0;32m--> 731\u001b[0;31m         hidden_states, attn_weights, _ = self.attention(\n\u001b[0m\u001b[1;32m    732\u001b[0m             \u001b[0mhidden_states\u001b[0m\u001b[0;34m,\u001b[0m \u001b[0mattention_mask\u001b[0m\u001b[0;34m=\u001b[0m\u001b[0mattention_mask\u001b[0m\u001b[0;34m,\u001b[0m \u001b[0moutput_attentions\u001b[0m\u001b[0;34m=\u001b[0m\u001b[0moutput_attentions\u001b[0m\u001b[0;34m\u001b[0m\u001b[0;34m\u001b[0m\u001b[0m\n\u001b[1;32m    733\u001b[0m         )\n",
            "\u001b[0;32m~/anaconda3/envs/myenv/lib/python3.9/site-packages/torch/nn/modules/module.py\u001b[0m in \u001b[0;36m_call_impl\u001b[0;34m(self, *input, **kwargs)\u001b[0m\n\u001b[1;32m   1192\u001b[0m         if not (self._backward_hooks or self._forward_hooks or self._forward_pre_hooks or _global_backward_hooks\n\u001b[1;32m   1193\u001b[0m                 or _global_forward_hooks or _global_forward_pre_hooks):\n\u001b[0;32m-> 1194\u001b[0;31m             \u001b[0;32mreturn\u001b[0m \u001b[0mforward_call\u001b[0m\u001b[0;34m(\u001b[0m\u001b[0;34m*\u001b[0m\u001b[0minput\u001b[0m\u001b[0;34m,\u001b[0m \u001b[0;34m**\u001b[0m\u001b[0mkwargs\u001b[0m\u001b[0;34m)\u001b[0m\u001b[0;34m\u001b[0m\u001b[0;34m\u001b[0m\u001b[0m\n\u001b[0m\u001b[1;32m   1195\u001b[0m         \u001b[0;31m# Do not call functions when jit is used\u001b[0m\u001b[0;34m\u001b[0m\u001b[0;34m\u001b[0m\u001b[0m\n\u001b[1;32m   1196\u001b[0m         \u001b[0mfull_backward_hooks\u001b[0m\u001b[0;34m,\u001b[0m \u001b[0mnon_full_backward_hooks\u001b[0m \u001b[0;34m=\u001b[0m \u001b[0;34m[\u001b[0m\u001b[0;34m]\u001b[0m\u001b[0;34m,\u001b[0m \u001b[0;34m[\u001b[0m\u001b[0;34m]\u001b[0m\u001b[0;34m\u001b[0m\u001b[0;34m\u001b[0m\u001b[0m\n",
            "\u001b[0;32m~/anaconda3/envs/myenv/lib/python3.9/site-packages/transformers/models/wav2vec2/modeling_wav2vec2.py\u001b[0m in \u001b[0;36mforward\u001b[0;34m(self, hidden_states, key_value_states, past_key_value, attention_mask, layer_head_mask, output_attentions)\u001b[0m\n\u001b[1;32m    633\u001b[0m \u001b[0;34m\u001b[0m\u001b[0m\n\u001b[1;32m    634\u001b[0m         \u001b[0msrc_len\u001b[0m \u001b[0;34m=\u001b[0m \u001b[0mkey_states\u001b[0m\u001b[0;34m.\u001b[0m\u001b[0msize\u001b[0m\u001b[0;34m(\u001b[0m\u001b[0;36m1\u001b[0m\u001b[0;34m)\u001b[0m\u001b[0;34m\u001b[0m\u001b[0;34m\u001b[0m\u001b[0m\n\u001b[0;32m--> 635\u001b[0;31m         \u001b[0mattn_weights\u001b[0m \u001b[0;34m=\u001b[0m \u001b[0mtorch\u001b[0m\u001b[0;34m.\u001b[0m\u001b[0mbmm\u001b[0m\u001b[0;34m(\u001b[0m\u001b[0mquery_states\u001b[0m\u001b[0;34m,\u001b[0m \u001b[0mkey_states\u001b[0m\u001b[0;34m.\u001b[0m\u001b[0mtranspose\u001b[0m\u001b[0;34m(\u001b[0m\u001b[0;36m1\u001b[0m\u001b[0;34m,\u001b[0m \u001b[0;36m2\u001b[0m\u001b[0;34m)\u001b[0m\u001b[0;34m)\u001b[0m\u001b[0;34m\u001b[0m\u001b[0;34m\u001b[0m\u001b[0m\n\u001b[0m\u001b[1;32m    636\u001b[0m \u001b[0;34m\u001b[0m\u001b[0m\n\u001b[1;32m    637\u001b[0m         \u001b[0;32mif\u001b[0m \u001b[0mattn_weights\u001b[0m\u001b[0;34m.\u001b[0m\u001b[0msize\u001b[0m\u001b[0;34m(\u001b[0m\u001b[0;34m)\u001b[0m \u001b[0;34m!=\u001b[0m \u001b[0;34m(\u001b[0m\u001b[0mbsz\u001b[0m \u001b[0;34m*\u001b[0m \u001b[0mself\u001b[0m\u001b[0;34m.\u001b[0m\u001b[0mnum_heads\u001b[0m\u001b[0;34m,\u001b[0m \u001b[0mtgt_len\u001b[0m\u001b[0;34m,\u001b[0m \u001b[0msrc_len\u001b[0m\u001b[0;34m)\u001b[0m\u001b[0;34m:\u001b[0m\u001b[0;34m\u001b[0m\u001b[0;34m\u001b[0m\u001b[0m\n",
            "\u001b[0;31mKeyboardInterrupt\u001b[0m: "
          ]
        }
      ],
      "source": [
        "trainer.train()"
      ]
    },
    {
      "attachments": {},
      "cell_type": "markdown",
      "metadata": {
        "id": "UCyp-v3n4Zlt"
      },
      "source": [
        "The final WER should be around 0.3 which is reasonable given that state-of-the-art phoneme error rates (PER) are just below 0.1 (see [leaderboard](https://paperswithcode.com/sota/speech-recognition-on-timit)) and that WER is usually worse than PER.\n",
        "\n",
        "You can now upload the result of the training to the Hub, just execute this instruction:"
      ]
    },
    {
      "attachments": {},
      "cell_type": "markdown",
      "metadata": {
        "id": "djzwS5WeNu16"
      },
      "source": [
        "You can now share this model with all your friends, family, favorite pets: they can all load it with the identifier \"your-username/the-name-you-picked\" so for instance:"
      ]
    },
    {
      "attachments": {},
      "cell_type": "markdown",
      "metadata": {
        "id": "Adm0LngNNxq7"
      },
      "source": [
        "```python\n",
        "from transformers import AutoModelForCTC, Wav2Vec2Processor\n",
        "\n",
        "model = AutoModelForCTC.from_pretrained(\"patrickvonplaten/wav2vec2-base-timit-demo-google-colab\")\n",
        "processor = Wav2Vec2Processor.from_pretrained(\"patrickvonplaten/wav2vec2-base-timit-demo-google-colab\")\n",
        "```"
      ]
    },
    {
      "attachments": {},
      "cell_type": "markdown",
      "metadata": {
        "id": "nD4XP5IHncsY"
      },
      "source": [
        "### Evaluate\n",
        "\n",
        "In the final part, we run our model on some of the validation data to get a feeling for how well it works.\n",
        "\n",
        "Let's load the `processor` and `model`."
      ]
    },
    {
      "cell_type": "code",
      "execution_count": null,
      "metadata": {
        "colab": {
          "background_save": true,
          "referenced_widgets": [
            "d09756762f974fff97fcc56808cf79da",
            "e13df7ca4a1646f6a4565a43300f53e5",
            "f07c352df0af4d819c55b8d1953d1ee1",
            "990bac444a784aa1801a1022f892c791"
          ]
        },
        "id": "-rg0USDCnbo6",
        "outputId": "278bdcec-56f5-4395-c911-f13ba01c2ca7"
      },
      "outputs": [
        {
          "name": "stderr",
          "output_type": "stream",
          "text": [
            "https://huggingface.co/patrickvonplaten/wav2vec2-base-timit-demo-google-colab/resolve/main/preprocessor_config.json not found in cache or force_download set to True, downloading to /root/.cache/huggingface/transformers/tmpbfjvhei0\n"
          ]
        },
        {
          "data": {
            "application/vnd.jupyter.widget-view+json": {
              "model_id": "d09756762f974fff97fcc56808cf79da",
              "version_major": 2,
              "version_minor": 0
            },
            "text/plain": [
              "Downloading:   0%|          | 0.00/215 [00:00<?, ?B/s]"
            ]
          },
          "metadata": {},
          "output_type": "display_data"
        },
        {
          "name": "stderr",
          "output_type": "stream",
          "text": [
            "storing https://huggingface.co/patrickvonplaten/wav2vec2-base-timit-demo-google-colab/resolve/main/preprocessor_config.json in cache at /root/.cache/huggingface/transformers/17fa07f6e2f88edf24c71037bed1b7cf0cf9acfef7d3353afb589689627542c1.0e3e6656f99a6f7b9eddd943463eb7f34363640fce9e87b047ebd50d4b112b50\n",
            "creating metadata file for /root/.cache/huggingface/transformers/17fa07f6e2f88edf24c71037bed1b7cf0cf9acfef7d3353afb589689627542c1.0e3e6656f99a6f7b9eddd943463eb7f34363640fce9e87b047ebd50d4b112b50\n",
            "loading feature extractor configuration file https://huggingface.co/patrickvonplaten/wav2vec2-base-timit-demo-google-colab/resolve/main/preprocessor_config.json from cache at /root/.cache/huggingface/transformers/17fa07f6e2f88edf24c71037bed1b7cf0cf9acfef7d3353afb589689627542c1.0e3e6656f99a6f7b9eddd943463eb7f34363640fce9e87b047ebd50d4b112b50\n",
            "Feature extractor Wav2Vec2FeatureExtractor {\n",
            "  \"do_normalize\": true,\n",
            "  \"feature_extractor_type\": \"Wav2Vec2FeatureExtractor\",\n",
            "  \"feature_size\": 1,\n",
            "  \"padding_side\": \"right\",\n",
            "  \"padding_value\": 0.0,\n",
            "  \"return_attention_mask\": false,\n",
            "  \"sampling_rate\": 16000\n",
            "}\n",
            "\n",
            "https://huggingface.co/patrickvonplaten/wav2vec2-base-timit-demo-google-colab/resolve/main/tokenizer_config.json not found in cache or force_download set to True, downloading to /root/.cache/huggingface/transformers/tmpj_lxhw38\n"
          ]
        },
        {
          "data": {
            "application/vnd.jupyter.widget-view+json": {
              "model_id": "e13df7ca4a1646f6a4565a43300f53e5",
              "version_major": 2,
              "version_minor": 0
            },
            "text/plain": [
              "Downloading:   0%|          | 0.00/217 [00:00<?, ?B/s]"
            ]
          },
          "metadata": {},
          "output_type": "display_data"
        },
        {
          "name": "stderr",
          "output_type": "stream",
          "text": [
            "storing https://huggingface.co/patrickvonplaten/wav2vec2-base-timit-demo-google-colab/resolve/main/tokenizer_config.json in cache at /root/.cache/huggingface/transformers/7bf2e07c1c7ed7e3d055d87aa6bd33c75e6883d98029ae3744fed6bea9e35095.59710b1a6a5501d31e746b6e464f5c44de3e55a58f80634196025936683a68a9\n",
            "creating metadata file for /root/.cache/huggingface/transformers/7bf2e07c1c7ed7e3d055d87aa6bd33c75e6883d98029ae3744fed6bea9e35095.59710b1a6a5501d31e746b6e464f5c44de3e55a58f80634196025936683a68a9\n",
            "https://huggingface.co/patrickvonplaten/wav2vec2-base-timit-demo-google-colab/resolve/main/vocab.json not found in cache or force_download set to True, downloading to /root/.cache/huggingface/transformers/tmpdjur3a0u\n"
          ]
        },
        {
          "data": {
            "application/vnd.jupyter.widget-view+json": {
              "model_id": "f07c352df0af4d819c55b8d1953d1ee1",
              "version_major": 2,
              "version_minor": 0
            },
            "text/plain": [
              "Downloading:   0%|          | 0.00/268 [00:00<?, ?B/s]"
            ]
          },
          "metadata": {},
          "output_type": "display_data"
        },
        {
          "name": "stderr",
          "output_type": "stream",
          "text": [
            "storing https://huggingface.co/patrickvonplaten/wav2vec2-base-timit-demo-google-colab/resolve/main/vocab.json in cache at /root/.cache/huggingface/transformers/f739813380b0880ba302557f0f990f0f64e8efe81fcc91a4fce08206a91ee215.c44a036121683e19f1a033a1765d4344364cb4633a6cbf5cf51b153f2388abb1\n",
            "creating metadata file for /root/.cache/huggingface/transformers/f739813380b0880ba302557f0f990f0f64e8efe81fcc91a4fce08206a91ee215.c44a036121683e19f1a033a1765d4344364cb4633a6cbf5cf51b153f2388abb1\n",
            "https://huggingface.co/patrickvonplaten/wav2vec2-base-timit-demo-google-colab/resolve/main/special_tokens_map.json not found in cache or force_download set to True, downloading to /root/.cache/huggingface/transformers/tmpa15_w2ls\n"
          ]
        },
        {
          "data": {
            "application/vnd.jupyter.widget-view+json": {
              "model_id": "990bac444a784aa1801a1022f892c791",
              "version_major": 2,
              "version_minor": 0
            },
            "text/plain": [
              "Downloading:   0%|          | 0.00/85.0 [00:00<?, ?B/s]"
            ]
          },
          "metadata": {},
          "output_type": "display_data"
        },
        {
          "name": "stderr",
          "output_type": "stream",
          "text": [
            "storing https://huggingface.co/patrickvonplaten/wav2vec2-base-timit-demo-google-colab/resolve/main/special_tokens_map.json in cache at /root/.cache/huggingface/transformers/c239f3738252f8d8e83d9813ea82866aeec476c467a008db86229f4edc6490b0.a21d51735cf8667bcd610f057e88548d5d6a381401f6b4501a8bc6c1a9dc8498\n",
            "creating metadata file for /root/.cache/huggingface/transformers/c239f3738252f8d8e83d9813ea82866aeec476c467a008db86229f4edc6490b0.a21d51735cf8667bcd610f057e88548d5d6a381401f6b4501a8bc6c1a9dc8498\n",
            "loading file https://huggingface.co/patrickvonplaten/wav2vec2-base-timit-demo-google-colab/resolve/main/vocab.json from cache at /root/.cache/huggingface/transformers/f739813380b0880ba302557f0f990f0f64e8efe81fcc91a4fce08206a91ee215.c44a036121683e19f1a033a1765d4344364cb4633a6cbf5cf51b153f2388abb1\n",
            "loading file https://huggingface.co/patrickvonplaten/wav2vec2-base-timit-demo-google-colab/resolve/main/tokenizer_config.json from cache at /root/.cache/huggingface/transformers/7bf2e07c1c7ed7e3d055d87aa6bd33c75e6883d98029ae3744fed6bea9e35095.59710b1a6a5501d31e746b6e464f5c44de3e55a58f80634196025936683a68a9\n",
            "loading file https://huggingface.co/patrickvonplaten/wav2vec2-base-timit-demo-google-colab/resolve/main/added_tokens.json from cache at None\n",
            "loading file https://huggingface.co/patrickvonplaten/wav2vec2-base-timit-demo-google-colab/resolve/main/special_tokens_map.json from cache at /root/.cache/huggingface/transformers/c239f3738252f8d8e83d9813ea82866aeec476c467a008db86229f4edc6490b0.a21d51735cf8667bcd610f057e88548d5d6a381401f6b4501a8bc6c1a9dc8498\n",
            "Adding <s> to the vocabulary\n",
            "Adding </s> to the vocabulary\n",
            "Special tokens have been added in the vocabulary, make sure the associated word embeddings are fine-tuned or trained.\n"
          ]
        }
      ],
      "source": [
        "processor = Wav2Vec2Processor.from_pretrained(\"patrickvonplaten/wav2vec2-base-timit-demo-google-colab\")"
      ]
    },
    {
      "cell_type": "code",
      "execution_count": null,
      "metadata": {
        "colab": {
          "background_save": true,
          "referenced_widgets": [
            "f5d5aeb389c54f78b81b010dd74c6f38",
            "e073b8ca40bc42bd9393ab6423cc5262"
          ]
        },
        "id": "sSpFW3pDn23P",
        "outputId": "68c12b8b-9104-48d2-b221-d535e74d30b5"
      },
      "outputs": [
        {
          "name": "stderr",
          "output_type": "stream",
          "text": [
            "https://huggingface.co/patrickvonplaten/wav2vec2-base-timit-demo-google-colab/resolve/main/config.json not found in cache or force_download set to True, downloading to /root/.cache/huggingface/transformers/tmpxcw3xuut\n"
          ]
        },
        {
          "data": {
            "application/vnd.jupyter.widget-view+json": {
              "model_id": "f5d5aeb389c54f78b81b010dd74c6f38",
              "version_major": 2,
              "version_minor": 0
            },
            "text/plain": [
              "Downloading: 0.00B [00:00, ?B/s]"
            ]
          },
          "metadata": {},
          "output_type": "display_data"
        },
        {
          "name": "stderr",
          "output_type": "stream",
          "text": [
            "storing https://huggingface.co/patrickvonplaten/wav2vec2-base-timit-demo-google-colab/resolve/main/config.json in cache at /root/.cache/huggingface/transformers/7606a293c66b1cba6bb9a342dcffe3831dc19a120cfeeb9e57cdf6ffb9630f3f.ef35f564609701d8892f07680ab46b53a63fbd7bc5af84534d1200098d6e9d65\n",
            "creating metadata file for /root/.cache/huggingface/transformers/7606a293c66b1cba6bb9a342dcffe3831dc19a120cfeeb9e57cdf6ffb9630f3f.ef35f564609701d8892f07680ab46b53a63fbd7bc5af84534d1200098d6e9d65\n",
            "loading configuration file https://huggingface.co/patrickvonplaten/wav2vec2-base-timit-demo-google-colab/resolve/main/config.json from cache at /root/.cache/huggingface/transformers/7606a293c66b1cba6bb9a342dcffe3831dc19a120cfeeb9e57cdf6ffb9630f3f.ef35f564609701d8892f07680ab46b53a63fbd7bc5af84534d1200098d6e9d65\n",
            "Model config Wav2Vec2Config {\n",
            "  \"_name_or_path\": \"facebook/wav2vec2-base\",\n",
            "  \"activation_dropout\": 0.0,\n",
            "  \"adapter_kernel_size\": 3,\n",
            "  \"adapter_stride\": 2,\n",
            "  \"add_adapter\": false,\n",
            "  \"apply_spec_augment\": true,\n",
            "  \"architectures\": [\n",
            "    \"Wav2Vec2ForCTC\"\n",
            "  ],\n",
            "  \"attention_dropout\": 0.1,\n",
            "  \"bos_token_id\": 1,\n",
            "  \"classifier_proj_size\": 256,\n",
            "  \"codevector_dim\": 256,\n",
            "  \"contrastive_logits_temperature\": 0.1,\n",
            "  \"conv_bias\": false,\n",
            "  \"conv_dim\": [\n",
            "    512,\n",
            "    512,\n",
            "    512,\n",
            "    512,\n",
            "    512,\n",
            "    512,\n",
            "    512\n",
            "  ],\n",
            "  \"conv_kernel\": [\n",
            "    10,\n",
            "    3,\n",
            "    3,\n",
            "    3,\n",
            "    3,\n",
            "    2,\n",
            "    2\n",
            "  ],\n",
            "  \"conv_stride\": [\n",
            "    5,\n",
            "    2,\n",
            "    2,\n",
            "    2,\n",
            "    2,\n",
            "    2,\n",
            "    2\n",
            "  ],\n",
            "  \"ctc_loss_reduction\": \"mean\",\n",
            "  \"ctc_zero_infinity\": false,\n",
            "  \"diversity_loss_weight\": 0.1,\n",
            "  \"do_stable_layer_norm\": false,\n",
            "  \"eos_token_id\": 2,\n",
            "  \"feat_extract_activation\": \"gelu\",\n",
            "  \"feat_extract_norm\": \"group\",\n",
            "  \"feat_proj_dropout\": 0.1,\n",
            "  \"feat_quantizer_dropout\": 0.0,\n",
            "  \"final_dropout\": 0.0,\n",
            "  \"freeze_feat_extract_train\": true,\n",
            "  \"hidden_act\": \"gelu\",\n",
            "  \"hidden_dropout\": 0.1,\n",
            "  \"hidden_size\": 768,\n",
            "  \"initializer_range\": 0.02,\n",
            "  \"intermediate_size\": 3072,\n",
            "  \"layer_norm_eps\": 1e-05,\n",
            "  \"layerdrop\": 0.0,\n",
            "  \"mask_channel_length\": 10,\n",
            "  \"mask_channel_min_space\": 1,\n",
            "  \"mask_channel_other\": 0.0,\n",
            "  \"mask_channel_prob\": 0.0,\n",
            "  \"mask_channel_selection\": \"static\",\n",
            "  \"mask_feature_length\": 10,\n",
            "  \"mask_feature_min_masks\": 0,\n",
            "  \"mask_feature_prob\": 0.0,\n",
            "  \"mask_time_length\": 10,\n",
            "  \"mask_time_min_masks\": 2,\n",
            "  \"mask_time_min_space\": 1,\n",
            "  \"mask_time_other\": 0.0,\n",
            "  \"mask_time_prob\": 0.05,\n",
            "  \"mask_time_selection\": \"static\",\n",
            "  \"model_type\": \"wav2vec2\",\n",
            "  \"no_mask_channel_overlap\": false,\n",
            "  \"no_mask_time_overlap\": false,\n",
            "  \"num_adapter_layers\": 3,\n",
            "  \"num_attention_heads\": 12,\n",
            "  \"num_codevector_groups\": 2,\n",
            "  \"num_codevectors_per_group\": 320,\n",
            "  \"num_conv_pos_embedding_groups\": 16,\n",
            "  \"num_conv_pos_embeddings\": 128,\n",
            "  \"num_feat_extract_layers\": 7,\n",
            "  \"num_hidden_layers\": 12,\n",
            "  \"num_negatives\": 100,\n",
            "  \"output_hidden_size\": 768,\n",
            "  \"pad_token_id\": 29,\n",
            "  \"proj_codevector_dim\": 256,\n",
            "  \"tdnn_dilation\": [\n",
            "    1,\n",
            "    2,\n",
            "    3,\n",
            "    1,\n",
            "    1\n",
            "  ],\n",
            "  \"tdnn_dim\": [\n",
            "    512,\n",
            "    512,\n",
            "    512,\n",
            "    512,\n",
            "    1500\n",
            "  ],\n",
            "  \"tdnn_kernel\": [\n",
            "    5,\n",
            "    3,\n",
            "    3,\n",
            "    1,\n",
            "    1\n",
            "  ],\n",
            "  \"torch_dtype\": \"float32\",\n",
            "  \"transformers_version\": \"4.17.0\",\n",
            "  \"use_weighted_layer_sum\": false,\n",
            "  \"vocab_size\": 32,\n",
            "  \"xvector_output_dim\": 512\n",
            "}\n",
            "\n",
            "https://huggingface.co/patrickvonplaten/wav2vec2-base-timit-demo-google-colab/resolve/main/pytorch_model.bin not found in cache or force_download set to True, downloading to /root/.cache/huggingface/transformers/tmp3w4ip4__\n"
          ]
        },
        {
          "data": {
            "application/vnd.jupyter.widget-view+json": {
              "model_id": "e073b8ca40bc42bd9393ab6423cc5262",
              "version_major": 2,
              "version_minor": 0
            },
            "text/plain": [
              "Downloading:   0%|          | 0.00/360M [00:00<?, ?B/s]"
            ]
          },
          "metadata": {},
          "output_type": "display_data"
        },
        {
          "name": "stderr",
          "output_type": "stream",
          "text": [
            "storing https://huggingface.co/patrickvonplaten/wav2vec2-base-timit-demo-google-colab/resolve/main/pytorch_model.bin in cache at /root/.cache/huggingface/transformers/666767bce47a87d50dfd1ceac759d5dc9db6eac8d185ae8f9a7dd388687c28c5.20bdf845b9896c1d0a213f03187b544f2a12b23d751b88c7b49a95d00bd946e1\n",
            "creating metadata file for /root/.cache/huggingface/transformers/666767bce47a87d50dfd1ceac759d5dc9db6eac8d185ae8f9a7dd388687c28c5.20bdf845b9896c1d0a213f03187b544f2a12b23d751b88c7b49a95d00bd946e1\n",
            "loading weights file https://huggingface.co/patrickvonplaten/wav2vec2-base-timit-demo-google-colab/resolve/main/pytorch_model.bin from cache at /root/.cache/huggingface/transformers/666767bce47a87d50dfd1ceac759d5dc9db6eac8d185ae8f9a7dd388687c28c5.20bdf845b9896c1d0a213f03187b544f2a12b23d751b88c7b49a95d00bd946e1\n",
            "All model checkpoint weights were used when initializing Wav2Vec2ForCTC.\n",
            "\n",
            "All the weights of Wav2Vec2ForCTC were initialized from the model checkpoint at patrickvonplaten/wav2vec2-base-timit-demo-google-colab.\n",
            "If your task is similar to the task the model of the checkpoint was trained on, you can already use Wav2Vec2ForCTC for predictions without further training.\n"
          ]
        }
      ],
      "source": [
        "model = Wav2Vec2ForCTC.from_pretrained(\"patrickvonplaten/wav2vec2-base-timit-demo-google-colab\").cuda()"
      ]
    },
    {
      "attachments": {},
      "cell_type": "markdown",
      "metadata": {
        "id": "TUuZpB0v5jn_"
      },
      "source": [
        "Now, we will make use of the `map(...)` function to predict the transcription of every test sample and to save the prediction in the dataset itself. We will call the resulting dictionary `\"results\"`.\n",
        "\n",
        "**Note**: we evaluate the test data set with `batch_size=1` on purpose due to this [issue](https://github.com/pytorch/fairseq/issues/3227). Since padded inputs don't yield the exact same output as non-padded inputs, a better WER can be achieved by not padding the input at all."
      ]
    },
    {
      "cell_type": "code",
      "execution_count": null,
      "metadata": {
        "colab": {
          "background_save": true
        },
        "id": "40naJl53n7jT"
      },
      "outputs": [],
      "source": [
        "def map_to_result(batch):\n",
        "  with torch.no_grad():\n",
        "    input_values = torch.tensor(batch[\"input_values\"], device=\"cuda\").unsqueeze(0)\n",
        "    logits = model(input_values).logits\n",
        "\n",
        "  pred_ids = torch.argmax(logits, dim=-1)\n",
        "  batch[\"pred_str\"] = processor.batch_decode(pred_ids)[0]\n",
        "  batch[\"text\"] = processor.decode(batch[\"labels\"], group_tokens=False)\n",
        "\n",
        "  return batch"
      ]
    },
    {
      "cell_type": "code",
      "execution_count": null,
      "metadata": {
        "colab": {
          "background_save": true,
          "referenced_widgets": [
            "159532ca8494421aae9854a9814f1ddc"
          ]
        },
        "id": "uPqH7gZqrGPi",
        "outputId": "ef48f91e-dac9-4164-edcc-251c7cb498ca"
      },
      "outputs": [
        {
          "data": {
            "application/vnd.jupyter.widget-view+json": {
              "model_id": "159532ca8494421aae9854a9814f1ddc",
              "version_major": 2,
              "version_minor": 0
            },
            "text/plain": [
              "0ex [00:00, ?ex/s]"
            ]
          },
          "metadata": {},
          "output_type": "display_data"
        }
      ],
      "source": [
        "results = timit[\"test\"].map(map_to_result, remove_columns=timit[\"test\"].column_names)"
      ]
    },
    {
      "attachments": {},
      "cell_type": "markdown",
      "metadata": {
        "id": "-mqpdB8R6rty"
      },
      "source": [
        "Let's compute the overall WER now."
      ]
    },
    {
      "cell_type": "code",
      "execution_count": null,
      "metadata": {
        "colab": {
          "background_save": true
        },
        "id": "PmqAb4Isx8OK",
        "outputId": "1196b928-4025-487e-e07b-6af5d9d6dfe3"
      },
      "outputs": [
        {
          "name": "stdout",
          "output_type": "stream",
          "text": [
            "Test WER: 8.135\n"
          ]
        }
      ],
      "source": [
        "print(\"Test WER: {:.3f}\".format(wer_metric.compute(predictions=results[\"pred_str\"], references=results[\"text\"])))"
      ]
    },
    {
      "attachments": {},
      "cell_type": "markdown",
      "metadata": {
        "id": "6Va94d8Y7Q98"
      },
      "source": [
        "21.8% WER - not bad! Our demo model would have probably made it on the official [leaderboard](https://paperswithcode.com/sota/speech-recognition-on-timit).\n",
        "\n",
        "Let's take a look at some predictions to see what errors are made by the model."
      ]
    },
    {
      "cell_type": "code",
      "execution_count": null,
      "metadata": {
        "colab": {
          "background_save": true
        },
        "id": "odNDiFVRy53w",
        "outputId": "ceb9c80c-a66c-42d8-9516-bced043dc79e"
      },
      "outputs": [
        {
          "data": {
            "text/html": [
              "<table border=\"1\" class=\"dataframe\">\n",
              "  <thead>\n",
              "    <tr style=\"text-align: right;\">\n",
              "      <th></th>\n",
              "      <th>pred_str</th>\n",
              "      <th>text</th>\n",
              "    </tr>\n",
              "  </thead>\n",
              "  <tbody>\n",
              "    <tr>\n",
              "      <th>0</th>\n",
              "      <td>young children should avoid exposure to contageous diseases</td>\n",
              "      <td>ongxkpz'lisvyxpd'ngispjqnlspy rndgvypenpznxejklngdpsldyjdydp</td>\n",
              "    </tr>\n",
              "    <tr>\n",
              "      <th>1</th>\n",
              "      <td>art official intelligence is for real</td>\n",
              "      <td>jvelulzljiplxeyiilkyxzypldpunvpvyjip</td>\n",
              "    </tr>\n",
              "    <tr>\n",
              "      <th>2</th>\n",
              "      <td>theire propes were two step latters a chair and a pame fen</td>\n",
              "      <td>e'ylvprvnrdphyvypehnpdeyrijssyvdpjpz'jlvpjxspjprjiwpujxp</td>\n",
              "    </tr>\n",
              "    <tr>\n",
              "      <th>3</th>\n",
              "      <td>if people were more generous there would be no need for wealfar</td>\n",
              "      <td>luprynriyphyvypwnvypkyxyvngdpe'yvyphngispaypxnpxyyspunvphyiujvyp</td>\n",
              "    </tr>\n",
              "    <tr>\n",
              "      <th>4</th>\n",
              "      <td>the fish began to leep frantically on the surface of the smalleaku</td>\n",
              "      <td>e'ypuld'paykjxpenpiyjrpuvjxelzjiiopnxpe'ypdgvujzypnupe'ypdwjiipijbyp</td>\n",
              "    </tr>\n",
              "    <tr>\n",
              "      <th>5</th>\n",
              "      <td>her rite hand aques whenever the baramatric presuer changes</td>\n",
              "      <td>'yvpvlk'ep'jxspjz'ydph'yxyqyvpe'ypajvnwyevlzprvyddgvypz'jxkydp</td>\n",
              "    </tr>\n",
              "    <tr>\n",
              "      <th>6</th>\n",
              "      <td>only lawyers loved milunears</td>\n",
              "      <td>nxiopijhoyvdpinqypwliilnxjlvydp</td>\n",
              "    </tr>\n",
              "    <tr>\n",
              "      <th>7</th>\n",
              "      <td>the nearest synnegu may not be within walk in distance</td>\n",
              "      <td>e'ypxyjvydepdoxjknkgypwjopxnepayphle'lxphjiblxkpsldejxzyp</td>\n",
              "    </tr>\n",
              "    <tr>\n",
              "      <th>8</th>\n",
              "      <td>basket ball can be an entertaining sport</td>\n",
              "      <td>ajdbyeajiipzjxpaypjxpyxeyvejlxlxkpdrnvep</td>\n",
              "    </tr>\n",
              "    <tr>\n",
              "      <th>9</th>\n",
              "      <td>she had your dark suit in greasy wash water all year</td>\n",
              "      <td>d'yp'jspongvpsjvbpdgleplxpkvyjdophjd'phjeyvpjiipoyjvp</td>\n",
              "    </tr>\n",
              "  </tbody>\n",
              "</table>"
            ],
            "text/plain": [
              "<IPython.core.display.HTML object>"
            ]
          },
          "metadata": {},
          "output_type": "display_data"
        }
      ],
      "source": [
        "show_random_elements(results)"
      ]
    },
    {
      "attachments": {},
      "cell_type": "markdown",
      "metadata": {
        "id": "5HFCujhd9n4N"
      },
      "source": [
        "It becomes clear that the predicted transcriptions are acoustically very similar to the target transcriptions, but often contain spelling or grammatical errors. This shouldn't be very surprising though given that we purely rely on Wav2Vec2 without making use of a language model."
      ]
    },
    {
      "attachments": {},
      "cell_type": "markdown",
      "metadata": {
        "id": "a3ydKvUl9FTK"
      },
      "source": [
        "Finally, to better understand how CTC works, it is worth taking a deeper look at the exact output of the model. Let's run the first test sample through the model, take the predicted ids and convert them to their corresponding tokens."
      ]
    },
    {
      "cell_type": "code",
      "execution_count": null,
      "metadata": {
        "colab": {
          "background_save": true
        },
        "id": "AqaM45t87uM4",
        "outputId": "489eb586-99ed-43e8-ef03-899a2d5db111"
      },
      "outputs": [
        {
          "data": {
            "application/vnd.google.colaboratory.intrinsic+json": {
              "type": "string"
            },
            "text/plain": [
              "'[PAD] [PAD] [PAD] [PAD] [PAD] t t h h e | | | b [PAD] [PAD] [PAD] u u n n g g [PAD] [PAD] l l l l [PAD] o o o | | w w a a s s | | [PAD] [PAD] [PAD] p l l [PAD] e s s s s [PAD] n n t t [PAD] l l l y y | | [PAD] s s s i i t t t [PAD] u u u u u [PAD] [PAD] [PAD] [PAD] a a t t [PAD] e e d d | | [PAD] n n e e a a r | | t t h e e | | s s h h [PAD] [PAD] [PAD] [PAD] o o r r r r | [PAD] [PAD] [PAD] [PAD] [PAD] [PAD] [PAD] [PAD] [PAD]'"
            ]
          },
          "execution_count": 46,
          "metadata": {},
          "output_type": "execute_result"
        }
      ],
      "source": [
        "model.to(\"cuda\")\n",
        "\n",
        "with torch.no_grad():\n",
        "  logits = model(torch.tensor(timit[\"test\"][:1][\"input_values\"], device=\"cuda\")).logits\n",
        "\n",
        "pred_ids = torch.argmax(logits, dim=-1)\n",
        "\n",
        "# convert ids to tokens\n",
        "\" \".join(processor.tokenizer.convert_ids_to_tokens(pred_ids[0].tolist()))"
      ]
    },
    {
      "attachments": {},
      "cell_type": "markdown",
      "metadata": {
        "id": "tdO8E28g-n5C"
      },
      "source": [
        "The output should make it a bit clearer how CTC works in practice. The model is to some extent invariant to speaking rate since it has learned to either just repeat the same token in case the speech chunk to be classified still corresponds to the same token. This makes CTC a very powerful algorithm for speech recognition since the speech file's transcription is often very much independent of its length.\n",
        "\n",
        "I again advise the reader to take a look at [this](https://distill.pub/2017/ctc) very nice blog post to better understand CTC."
      ]
    }
  ],
  "metadata": {
    "accelerator": "GPU",
    "colab": {
      "include_colab_link": true,
      "machine_shape": "hm",
      "provenance": []
    },
    "kernelspec": {
      "display_name": "Python 3",
      "name": "python3"
    },
    "language_info": {
      "codemirror_mode": {
        "name": "ipython",
        "version": 3
      },
      "file_extension": ".py",
      "mimetype": "text/x-python",
      "name": "python",
      "nbconvert_exporter": "python",
      "pygments_lexer": "ipython3",
      "version": "3.9.7"
    },
    "widgets": {
      "application/vnd.jupyter.widget-state+json": {
        "0058396ec61a4f75a7db09a5f38d125b": {
          "model_module": "@jupyter-widgets/base",
          "model_module_version": "1.2.0",
          "model_name": "LayoutModel",
          "state": {
            "_model_module": "@jupyter-widgets/base",
            "_model_module_version": "1.2.0",
            "_model_name": "LayoutModel",
            "_view_count": null,
            "_view_module": "@jupyter-widgets/base",
            "_view_module_version": "1.2.0",
            "_view_name": "LayoutView",
            "align_content": null,
            "align_items": null,
            "align_self": null,
            "border": null,
            "bottom": null,
            "display": null,
            "flex": null,
            "flex_flow": null,
            "grid_area": null,
            "grid_auto_columns": null,
            "grid_auto_flow": null,
            "grid_auto_rows": null,
            "grid_column": null,
            "grid_gap": null,
            "grid_row": null,
            "grid_template_areas": null,
            "grid_template_columns": null,
            "grid_template_rows": null,
            "height": null,
            "justify_content": null,
            "justify_items": null,
            "left": null,
            "margin": null,
            "max_height": null,
            "max_width": null,
            "min_height": null,
            "min_width": null,
            "object_fit": null,
            "object_position": null,
            "order": null,
            "overflow": null,
            "overflow_x": null,
            "overflow_y": null,
            "padding": null,
            "right": null,
            "top": null,
            "visibility": null,
            "width": "20px"
          }
        },
        "03d71c90397247f7a0b46f02be423a66": {
          "model_module": "@jupyter-widgets/controls",
          "model_module_version": "1.5.0",
          "model_name": "HBoxModel",
          "state": {
            "_dom_classes": [],
            "_model_module": "@jupyter-widgets/controls",
            "_model_module_version": "1.5.0",
            "_model_name": "HBoxModel",
            "_view_count": null,
            "_view_module": "@jupyter-widgets/controls",
            "_view_module_version": "1.5.0",
            "_view_name": "HBoxView",
            "box_style": "",
            "children": [
              "IPY_MODEL_7ba0b13ba0604b26afe63e5dc86e2f1e",
              "IPY_MODEL_41ff8cbd05464696b86989bf3c39c1e3",
              "IPY_MODEL_a84b851075bf4773a463ed24a2f3eb24"
            ],
            "layout": "IPY_MODEL_6f7688e6cf04412ab2dac06baeb4e666"
          }
        },
        "05b403993fc04c128fe3423e16085529": {
          "model_module": "@jupyter-widgets/base",
          "model_module_version": "1.2.0",
          "model_name": "LayoutModel",
          "state": {
            "_model_module": "@jupyter-widgets/base",
            "_model_module_version": "1.2.0",
            "_model_name": "LayoutModel",
            "_view_count": null,
            "_view_module": "@jupyter-widgets/base",
            "_view_module_version": "1.2.0",
            "_view_name": "LayoutView",
            "align_content": null,
            "align_items": null,
            "align_self": null,
            "border": null,
            "bottom": null,
            "display": null,
            "flex": null,
            "flex_flow": null,
            "grid_area": null,
            "grid_auto_columns": null,
            "grid_auto_flow": null,
            "grid_auto_rows": null,
            "grid_column": null,
            "grid_gap": null,
            "grid_row": null,
            "grid_template_areas": null,
            "grid_template_columns": null,
            "grid_template_rows": null,
            "height": null,
            "justify_content": null,
            "justify_items": null,
            "left": null,
            "margin": null,
            "max_height": null,
            "max_width": null,
            "min_height": null,
            "min_width": null,
            "object_fit": null,
            "object_position": null,
            "order": null,
            "overflow": null,
            "overflow_x": null,
            "overflow_y": null,
            "padding": null,
            "right": null,
            "top": null,
            "visibility": null,
            "width": null
          }
        },
        "05de8b07f5a54cdaabb7ad3de4a032b3": {
          "model_module": "@jupyter-widgets/controls",
          "model_module_version": "1.5.0",
          "model_name": "DescriptionStyleModel",
          "state": {
            "_model_module": "@jupyter-widgets/controls",
            "_model_module_version": "1.5.0",
            "_model_name": "DescriptionStyleModel",
            "_view_count": null,
            "_view_module": "@jupyter-widgets/base",
            "_view_module_version": "1.2.0",
            "_view_name": "StyleView",
            "description_width": ""
          }
        },
        "090847f7912e496fbc1ef8673674c1ed": {
          "model_module": "@jupyter-widgets/base",
          "model_module_version": "1.2.0",
          "model_name": "LayoutModel",
          "state": {
            "_model_module": "@jupyter-widgets/base",
            "_model_module_version": "1.2.0",
            "_model_name": "LayoutModel",
            "_view_count": null,
            "_view_module": "@jupyter-widgets/base",
            "_view_module_version": "1.2.0",
            "_view_name": "LayoutView",
            "align_content": null,
            "align_items": null,
            "align_self": null,
            "border": null,
            "bottom": null,
            "display": null,
            "flex": null,
            "flex_flow": null,
            "grid_area": null,
            "grid_auto_columns": null,
            "grid_auto_flow": null,
            "grid_auto_rows": null,
            "grid_column": null,
            "grid_gap": null,
            "grid_row": null,
            "grid_template_areas": null,
            "grid_template_columns": null,
            "grid_template_rows": null,
            "height": null,
            "justify_content": null,
            "justify_items": null,
            "left": null,
            "margin": null,
            "max_height": null,
            "max_width": null,
            "min_height": null,
            "min_width": null,
            "object_fit": null,
            "object_position": null,
            "order": null,
            "overflow": null,
            "overflow_x": null,
            "overflow_y": null,
            "padding": null,
            "right": null,
            "top": null,
            "visibility": null,
            "width": null
          }
        },
        "0ada10817cc44b6a9b903815fc9b2455": {
          "model_module": "@jupyter-widgets/base",
          "model_module_version": "1.2.0",
          "model_name": "LayoutModel",
          "state": {
            "_model_module": "@jupyter-widgets/base",
            "_model_module_version": "1.2.0",
            "_model_name": "LayoutModel",
            "_view_count": null,
            "_view_module": "@jupyter-widgets/base",
            "_view_module_version": "1.2.0",
            "_view_name": "LayoutView",
            "align_content": null,
            "align_items": null,
            "align_self": null,
            "border": null,
            "bottom": null,
            "display": null,
            "flex": null,
            "flex_flow": null,
            "grid_area": null,
            "grid_auto_columns": null,
            "grid_auto_flow": null,
            "grid_auto_rows": null,
            "grid_column": null,
            "grid_gap": null,
            "grid_row": null,
            "grid_template_areas": null,
            "grid_template_columns": null,
            "grid_template_rows": null,
            "height": null,
            "justify_content": null,
            "justify_items": null,
            "left": null,
            "margin": null,
            "max_height": null,
            "max_width": null,
            "min_height": null,
            "min_width": null,
            "object_fit": null,
            "object_position": null,
            "order": null,
            "overflow": null,
            "overflow_x": null,
            "overflow_y": null,
            "padding": null,
            "right": null,
            "top": null,
            "visibility": null,
            "width": null
          }
        },
        "0b8b1be79ae24a31b1474824c5e52de5": {
          "model_module": "@jupyter-widgets/controls",
          "model_module_version": "1.5.0",
          "model_name": "FloatProgressModel",
          "state": {
            "_dom_classes": [],
            "_model_module": "@jupyter-widgets/controls",
            "_model_module_version": "1.5.0",
            "_model_name": "FloatProgressModel",
            "_view_count": null,
            "_view_module": "@jupyter-widgets/controls",
            "_view_module_version": "1.5.0",
            "_view_name": "ProgressView",
            "bar_style": "success",
            "description": "",
            "description_tooltip": null,
            "layout": "IPY_MODEL_835cdd92279b4385af6a554c416ee245",
            "max": 1,
            "min": 0,
            "orientation": "horizontal",
            "style": "IPY_MODEL_91190c7d6c7b460cb028183cf51bb1c1",
            "value": 1
          }
        },
        "10fd19a14d1f45aba528e4f19b675638": {
          "model_module": "@jupyter-widgets/controls",
          "model_module_version": "1.5.0",
          "model_name": "DescriptionStyleModel",
          "state": {
            "_model_module": "@jupyter-widgets/controls",
            "_model_module_version": "1.5.0",
            "_model_name": "DescriptionStyleModel",
            "_view_count": null,
            "_view_module": "@jupyter-widgets/base",
            "_view_module_version": "1.2.0",
            "_view_name": "StyleView",
            "description_width": ""
          }
        },
        "14a6810e336a473cbcef56c1b6ed59cf": {
          "model_module": "@jupyter-widgets/controls",
          "model_module_version": "1.5.0",
          "model_name": "DescriptionStyleModel",
          "state": {
            "_model_module": "@jupyter-widgets/controls",
            "_model_module_version": "1.5.0",
            "_model_name": "DescriptionStyleModel",
            "_view_count": null,
            "_view_module": "@jupyter-widgets/base",
            "_view_module_version": "1.2.0",
            "_view_name": "StyleView",
            "description_width": ""
          }
        },
        "1504d726f2f448b4a9b36d5034f3d138": {
          "model_module": "@jupyter-widgets/base",
          "model_module_version": "1.2.0",
          "model_name": "LayoutModel",
          "state": {
            "_model_module": "@jupyter-widgets/base",
            "_model_module_version": "1.2.0",
            "_model_name": "LayoutModel",
            "_view_count": null,
            "_view_module": "@jupyter-widgets/base",
            "_view_module_version": "1.2.0",
            "_view_name": "LayoutView",
            "align_content": null,
            "align_items": null,
            "align_self": null,
            "border": null,
            "bottom": null,
            "display": null,
            "flex": null,
            "flex_flow": null,
            "grid_area": null,
            "grid_auto_columns": null,
            "grid_auto_flow": null,
            "grid_auto_rows": null,
            "grid_column": null,
            "grid_gap": null,
            "grid_row": null,
            "grid_template_areas": null,
            "grid_template_columns": null,
            "grid_template_rows": null,
            "height": null,
            "justify_content": null,
            "justify_items": null,
            "left": null,
            "margin": null,
            "max_height": null,
            "max_width": null,
            "min_height": null,
            "min_width": null,
            "object_fit": null,
            "object_position": null,
            "order": null,
            "overflow": null,
            "overflow_x": null,
            "overflow_y": null,
            "padding": null,
            "right": null,
            "top": null,
            "visibility": null,
            "width": null
          }
        },
        "15666b87c18443b2b5dcc92821b310e7": {
          "model_module": "@jupyter-widgets/base",
          "model_module_version": "1.2.0",
          "model_name": "LayoutModel",
          "state": {
            "_model_module": "@jupyter-widgets/base",
            "_model_module_version": "1.2.0",
            "_model_name": "LayoutModel",
            "_view_count": null,
            "_view_module": "@jupyter-widgets/base",
            "_view_module_version": "1.2.0",
            "_view_name": "LayoutView",
            "align_content": null,
            "align_items": null,
            "align_self": null,
            "border": null,
            "bottom": null,
            "display": null,
            "flex": null,
            "flex_flow": null,
            "grid_area": null,
            "grid_auto_columns": null,
            "grid_auto_flow": null,
            "grid_auto_rows": null,
            "grid_column": null,
            "grid_gap": null,
            "grid_row": null,
            "grid_template_areas": null,
            "grid_template_columns": null,
            "grid_template_rows": null,
            "height": null,
            "justify_content": null,
            "justify_items": null,
            "left": null,
            "margin": null,
            "max_height": null,
            "max_width": null,
            "min_height": null,
            "min_width": null,
            "object_fit": null,
            "object_position": null,
            "order": null,
            "overflow": null,
            "overflow_x": null,
            "overflow_y": null,
            "padding": null,
            "right": null,
            "top": null,
            "visibility": null,
            "width": null
          }
        },
        "15e195a2c3044feababc62304301f14f": {
          "model_module": "@jupyter-widgets/controls",
          "model_module_version": "1.5.0",
          "model_name": "DescriptionStyleModel",
          "state": {
            "_model_module": "@jupyter-widgets/controls",
            "_model_module_version": "1.5.0",
            "_model_name": "DescriptionStyleModel",
            "_view_count": null,
            "_view_module": "@jupyter-widgets/base",
            "_view_module_version": "1.2.0",
            "_view_name": "StyleView",
            "description_width": ""
          }
        },
        "165636445bfc4733970d1a7ded5f6ede": {
          "model_module": "@jupyter-widgets/controls",
          "model_module_version": "1.5.0",
          "model_name": "DescriptionStyleModel",
          "state": {
            "_model_module": "@jupyter-widgets/controls",
            "_model_module_version": "1.5.0",
            "_model_name": "DescriptionStyleModel",
            "_view_count": null,
            "_view_module": "@jupyter-widgets/base",
            "_view_module_version": "1.2.0",
            "_view_name": "StyleView",
            "description_width": ""
          }
        },
        "196c5d364c0a45d1b07cb8c1850eae8e": {
          "model_module": "@jupyter-widgets/base",
          "model_module_version": "1.2.0",
          "model_name": "LayoutModel",
          "state": {
            "_model_module": "@jupyter-widgets/base",
            "_model_module_version": "1.2.0",
            "_model_name": "LayoutModel",
            "_view_count": null,
            "_view_module": "@jupyter-widgets/base",
            "_view_module_version": "1.2.0",
            "_view_name": "LayoutView",
            "align_content": null,
            "align_items": null,
            "align_self": null,
            "border": null,
            "bottom": null,
            "display": null,
            "flex": null,
            "flex_flow": null,
            "grid_area": null,
            "grid_auto_columns": null,
            "grid_auto_flow": null,
            "grid_auto_rows": null,
            "grid_column": null,
            "grid_gap": null,
            "grid_row": null,
            "grid_template_areas": null,
            "grid_template_columns": null,
            "grid_template_rows": null,
            "height": null,
            "justify_content": null,
            "justify_items": null,
            "left": null,
            "margin": null,
            "max_height": null,
            "max_width": null,
            "min_height": null,
            "min_width": null,
            "object_fit": null,
            "object_position": null,
            "order": null,
            "overflow": null,
            "overflow_x": null,
            "overflow_y": null,
            "padding": null,
            "right": null,
            "top": null,
            "visibility": null,
            "width": null
          }
        },
        "1a36d660c6474845bbfdcffffb6dcc68": {
          "model_module": "@jupyter-widgets/controls",
          "model_module_version": "1.5.0",
          "model_name": "HTMLModel",
          "state": {
            "_dom_classes": [],
            "_model_module": "@jupyter-widgets/controls",
            "_model_module_version": "1.5.0",
            "_model_name": "HTMLModel",
            "_view_count": null,
            "_view_module": "@jupyter-widgets/controls",
            "_view_module_version": "1.5.0",
            "_view_name": "HTMLView",
            "description": "",
            "description_tooltip": null,
            "layout": "IPY_MODEL_7b2e3d37cdef4f5282f01745c3b1a0f4",
            "placeholder": "​",
            "style": "IPY_MODEL_7b694dd16e54443f8da6af91b1ecd821",
            "value": " 1675/0 [00:01&lt;00:00, 1493.22 examples/s]"
          }
        },
        "1cb0c8f214cc4de791e49af3c793380a": {
          "model_module": "@jupyter-widgets/base",
          "model_module_version": "1.2.0",
          "model_name": "LayoutModel",
          "state": {
            "_model_module": "@jupyter-widgets/base",
            "_model_module_version": "1.2.0",
            "_model_name": "LayoutModel",
            "_view_count": null,
            "_view_module": "@jupyter-widgets/base",
            "_view_module_version": "1.2.0",
            "_view_name": "LayoutView",
            "align_content": null,
            "align_items": null,
            "align_self": null,
            "border": null,
            "bottom": null,
            "display": null,
            "flex": null,
            "flex_flow": null,
            "grid_area": null,
            "grid_auto_columns": null,
            "grid_auto_flow": null,
            "grid_auto_rows": null,
            "grid_column": null,
            "grid_gap": null,
            "grid_row": null,
            "grid_template_areas": null,
            "grid_template_columns": null,
            "grid_template_rows": null,
            "height": null,
            "justify_content": null,
            "justify_items": null,
            "left": null,
            "margin": null,
            "max_height": null,
            "max_width": null,
            "min_height": null,
            "min_width": null,
            "object_fit": null,
            "object_position": null,
            "order": null,
            "overflow": null,
            "overflow_x": null,
            "overflow_y": null,
            "padding": null,
            "right": null,
            "top": null,
            "visibility": null,
            "width": null
          }
        },
        "225e6afb5c154fe6b3a1b1279287cb85": {
          "model_module": "@jupyter-widgets/base",
          "model_module_version": "1.2.0",
          "model_name": "LayoutModel",
          "state": {
            "_model_module": "@jupyter-widgets/base",
            "_model_module_version": "1.2.0",
            "_model_name": "LayoutModel",
            "_view_count": null,
            "_view_module": "@jupyter-widgets/base",
            "_view_module_version": "1.2.0",
            "_view_name": "LayoutView",
            "align_content": null,
            "align_items": null,
            "align_self": null,
            "border": null,
            "bottom": null,
            "display": null,
            "flex": null,
            "flex_flow": null,
            "grid_area": null,
            "grid_auto_columns": null,
            "grid_auto_flow": null,
            "grid_auto_rows": null,
            "grid_column": null,
            "grid_gap": null,
            "grid_row": null,
            "grid_template_areas": null,
            "grid_template_columns": null,
            "grid_template_rows": null,
            "height": null,
            "justify_content": null,
            "justify_items": null,
            "left": null,
            "margin": null,
            "max_height": null,
            "max_width": null,
            "min_height": null,
            "min_width": null,
            "object_fit": null,
            "object_position": null,
            "order": null,
            "overflow": null,
            "overflow_x": null,
            "overflow_y": null,
            "padding": null,
            "right": null,
            "top": null,
            "visibility": null,
            "width": null
          }
        },
        "280663ff96ce499aa0cb7bca67f59a85": {
          "model_module": "@jupyter-widgets/base",
          "model_module_version": "1.2.0",
          "model_name": "LayoutModel",
          "state": {
            "_model_module": "@jupyter-widgets/base",
            "_model_module_version": "1.2.0",
            "_model_name": "LayoutModel",
            "_view_count": null,
            "_view_module": "@jupyter-widgets/base",
            "_view_module_version": "1.2.0",
            "_view_name": "LayoutView",
            "align_content": null,
            "align_items": null,
            "align_self": null,
            "border": null,
            "bottom": null,
            "display": null,
            "flex": null,
            "flex_flow": null,
            "grid_area": null,
            "grid_auto_columns": null,
            "grid_auto_flow": null,
            "grid_auto_rows": null,
            "grid_column": null,
            "grid_gap": null,
            "grid_row": null,
            "grid_template_areas": null,
            "grid_template_columns": null,
            "grid_template_rows": null,
            "height": null,
            "justify_content": null,
            "justify_items": null,
            "left": null,
            "margin": null,
            "max_height": null,
            "max_width": null,
            "min_height": null,
            "min_width": null,
            "object_fit": null,
            "object_position": null,
            "order": null,
            "overflow": null,
            "overflow_x": null,
            "overflow_y": null,
            "padding": null,
            "right": null,
            "top": null,
            "visibility": null,
            "width": null
          }
        },
        "2a011e9f253e4cef8f52f45c110c0295": {
          "model_module": "@jupyter-widgets/controls",
          "model_module_version": "1.5.0",
          "model_name": "DescriptionStyleModel",
          "state": {
            "_model_module": "@jupyter-widgets/controls",
            "_model_module_version": "1.5.0",
            "_model_name": "DescriptionStyleModel",
            "_view_count": null,
            "_view_module": "@jupyter-widgets/base",
            "_view_module_version": "1.2.0",
            "_view_name": "StyleView",
            "description_width": ""
          }
        },
        "2a49340e51fc4054a2616d1990109d7c": {
          "model_module": "@jupyter-widgets/controls",
          "model_module_version": "1.5.0",
          "model_name": "FloatProgressModel",
          "state": {
            "_dom_classes": [],
            "_model_module": "@jupyter-widgets/controls",
            "_model_module_version": "1.5.0",
            "_model_name": "FloatProgressModel",
            "_view_count": null,
            "_view_module": "@jupyter-widgets/controls",
            "_view_module_version": "1.5.0",
            "_view_name": "ProgressView",
            "bar_style": "success",
            "description": "",
            "description_tooltip": null,
            "layout": "IPY_MODEL_bd85d28cc40142998b42434a705de501",
            "max": 1,
            "min": 0,
            "orientation": "horizontal",
            "style": "IPY_MODEL_7a913dfa92e7410f8304bd12b186671e",
            "value": 1
          }
        },
        "2b28d6a112484a5cb8a3bce8d33dd6eb": {
          "model_module": "@jupyter-widgets/controls",
          "model_module_version": "1.5.0",
          "model_name": "HTMLModel",
          "state": {
            "_dom_classes": [],
            "_model_module": "@jupyter-widgets/controls",
            "_model_module_version": "1.5.0",
            "_model_name": "HTMLModel",
            "_view_count": null,
            "_view_module": "@jupyter-widgets/controls",
            "_view_module_version": "1.5.0",
            "_view_name": "HTMLView",
            "description": "",
            "description_tooltip": null,
            "layout": "IPY_MODEL_457ab436e5dd499eab891989de1ebdc9",
            "placeholder": "​",
            "style": "IPY_MODEL_165636445bfc4733970d1a7ded5f6ede",
            "value": ""
          }
        },
        "2ca52ebaf2be48d5a4b8b4138906be85": {
          "model_module": "@jupyter-widgets/base",
          "model_module_version": "1.2.0",
          "model_name": "LayoutModel",
          "state": {
            "_model_module": "@jupyter-widgets/base",
            "_model_module_version": "1.2.0",
            "_model_name": "LayoutModel",
            "_view_count": null,
            "_view_module": "@jupyter-widgets/base",
            "_view_module_version": "1.2.0",
            "_view_name": "LayoutView",
            "align_content": null,
            "align_items": null,
            "align_self": null,
            "border": null,
            "bottom": null,
            "display": null,
            "flex": null,
            "flex_flow": null,
            "grid_area": null,
            "grid_auto_columns": null,
            "grid_auto_flow": null,
            "grid_auto_rows": null,
            "grid_column": null,
            "grid_gap": null,
            "grid_row": null,
            "grid_template_areas": null,
            "grid_template_columns": null,
            "grid_template_rows": null,
            "height": null,
            "justify_content": null,
            "justify_items": null,
            "left": null,
            "margin": null,
            "max_height": null,
            "max_width": null,
            "min_height": null,
            "min_width": null,
            "object_fit": null,
            "object_position": null,
            "order": null,
            "overflow": null,
            "overflow_x": null,
            "overflow_y": null,
            "padding": null,
            "right": null,
            "top": null,
            "visibility": null,
            "width": null
          }
        },
        "2cb200945757448abb65d4af8fe4b95f": {
          "model_module": "@jupyter-widgets/controls",
          "model_module_version": "1.5.0",
          "model_name": "FloatProgressModel",
          "state": {
            "_dom_classes": [],
            "_model_module": "@jupyter-widgets/controls",
            "_model_module_version": "1.5.0",
            "_model_name": "FloatProgressModel",
            "_view_count": null,
            "_view_module": "@jupyter-widgets/controls",
            "_view_module_version": "1.5.0",
            "_view_name": "ProgressView",
            "bar_style": "success",
            "description": "",
            "description_tooltip": null,
            "layout": "IPY_MODEL_480805c0a342489dbe01eef7aa1a9b65",
            "max": 5,
            "min": 0,
            "orientation": "horizontal",
            "style": "IPY_MODEL_c7729e98d977430a8a85243bab1dc83d",
            "value": 5
          }
        },
        "2cf18cb986eb40af89ebff415e08f273": {
          "model_module": "@jupyter-widgets/controls",
          "model_module_version": "1.5.0",
          "model_name": "HBoxModel",
          "state": {
            "_dom_classes": [],
            "_model_module": "@jupyter-widgets/controls",
            "_model_module_version": "1.5.0",
            "_model_name": "HBoxModel",
            "_view_count": null,
            "_view_module": "@jupyter-widgets/controls",
            "_view_module_version": "1.5.0",
            "_view_name": "HBoxView",
            "box_style": "",
            "children": [
              "IPY_MODEL_58d8a23d215e4c90af7cc611354be857",
              "IPY_MODEL_cab324901c07479cb8c579067204aecf",
              "IPY_MODEL_5e19198ee86d4494bc5eb9637259f492"
            ],
            "layout": "IPY_MODEL_0ada10817cc44b6a9b903815fc9b2455"
          }
        },
        "2e4870ab55404beaafde980d48618ed7": {
          "model_module": "@jupyter-widgets/base",
          "model_module_version": "1.2.0",
          "model_name": "LayoutModel",
          "state": {
            "_model_module": "@jupyter-widgets/base",
            "_model_module_version": "1.2.0",
            "_model_name": "LayoutModel",
            "_view_count": null,
            "_view_module": "@jupyter-widgets/base",
            "_view_module_version": "1.2.0",
            "_view_name": "LayoutView",
            "align_content": null,
            "align_items": null,
            "align_self": null,
            "border": null,
            "bottom": null,
            "display": null,
            "flex": null,
            "flex_flow": null,
            "grid_area": null,
            "grid_auto_columns": null,
            "grid_auto_flow": null,
            "grid_auto_rows": null,
            "grid_column": null,
            "grid_gap": null,
            "grid_row": null,
            "grid_template_areas": null,
            "grid_template_columns": null,
            "grid_template_rows": null,
            "height": null,
            "justify_content": null,
            "justify_items": null,
            "left": null,
            "margin": null,
            "max_height": null,
            "max_width": null,
            "min_height": null,
            "min_width": null,
            "object_fit": null,
            "object_position": null,
            "order": null,
            "overflow": null,
            "overflow_x": null,
            "overflow_y": null,
            "padding": null,
            "right": null,
            "top": null,
            "visibility": null,
            "width": null
          }
        },
        "334975266d804748874f5d5621af50ba": {
          "model_module": "@jupyter-widgets/controls",
          "model_module_version": "1.5.0",
          "model_name": "HTMLModel",
          "state": {
            "_dom_classes": [],
            "_model_module": "@jupyter-widgets/controls",
            "_model_module_version": "1.5.0",
            "_model_name": "HTMLModel",
            "_view_count": null,
            "_view_module": "@jupyter-widgets/controls",
            "_view_module_version": "1.5.0",
            "_view_name": "HTMLView",
            "description": "",
            "description_tooltip": null,
            "layout": "IPY_MODEL_b51bb202d2214ff28d2a4cd7216443a7",
            "placeholder": "​",
            "style": "IPY_MODEL_c3a76df48c1f46a6a588babaadaafce2",
            "value": "Downloading: "
          }
        },
        "33d85e2daf4e45e48d1eb5dbf86cd4b6": {
          "model_module": "@jupyter-widgets/base",
          "model_module_version": "1.2.0",
          "model_name": "LayoutModel",
          "state": {
            "_model_module": "@jupyter-widgets/base",
            "_model_module_version": "1.2.0",
            "_model_name": "LayoutModel",
            "_view_count": null,
            "_view_module": "@jupyter-widgets/base",
            "_view_module_version": "1.2.0",
            "_view_name": "LayoutView",
            "align_content": null,
            "align_items": null,
            "align_self": null,
            "border": null,
            "bottom": null,
            "display": null,
            "flex": null,
            "flex_flow": null,
            "grid_area": null,
            "grid_auto_columns": null,
            "grid_auto_flow": null,
            "grid_auto_rows": null,
            "grid_column": null,
            "grid_gap": null,
            "grid_row": null,
            "grid_template_areas": null,
            "grid_template_columns": null,
            "grid_template_rows": null,
            "height": null,
            "justify_content": null,
            "justify_items": null,
            "left": null,
            "margin": null,
            "max_height": null,
            "max_width": null,
            "min_height": null,
            "min_width": null,
            "object_fit": null,
            "object_position": null,
            "order": null,
            "overflow": null,
            "overflow_x": null,
            "overflow_y": null,
            "padding": null,
            "right": null,
            "top": null,
            "visibility": null,
            "width": null
          }
        },
        "35cff9996fa5410485f6a9cba04dee0d": {
          "model_module": "@jupyter-widgets/controls",
          "model_module_version": "1.5.0",
          "model_name": "HBoxModel",
          "state": {
            "_dom_classes": [],
            "_model_module": "@jupyter-widgets/controls",
            "_model_module_version": "1.5.0",
            "_model_name": "HBoxModel",
            "_view_count": null,
            "_view_module": "@jupyter-widgets/controls",
            "_view_module_version": "1.5.0",
            "_view_name": "HBoxView",
            "box_style": "",
            "children": [
              "IPY_MODEL_f2f1d919308042c4b730658cee357374",
              "IPY_MODEL_f261eb96f32540b7aba59bf5707bee6f",
              "IPY_MODEL_c453ed86ee824b5e88d15c5bce35009b"
            ],
            "layout": "IPY_MODEL_45f9dd1c05be47e8a0dd90af375756ac"
          }
        },
        "362150e5ee6b409381c9a3f2c4199186": {
          "model_module": "@jupyter-widgets/controls",
          "model_module_version": "1.5.0",
          "model_name": "DescriptionStyleModel",
          "state": {
            "_model_module": "@jupyter-widgets/controls",
            "_model_module_version": "1.5.0",
            "_model_name": "DescriptionStyleModel",
            "_view_count": null,
            "_view_module": "@jupyter-widgets/base",
            "_view_module_version": "1.2.0",
            "_view_name": "StyleView",
            "description_width": ""
          }
        },
        "369c2fa2af714df99e5113fddfe81a36": {
          "model_module": "@jupyter-widgets/controls",
          "model_module_version": "1.5.0",
          "model_name": "ProgressStyleModel",
          "state": {
            "_model_module": "@jupyter-widgets/controls",
            "_model_module_version": "1.5.0",
            "_model_name": "ProgressStyleModel",
            "_view_count": null,
            "_view_module": "@jupyter-widgets/base",
            "_view_module_version": "1.2.0",
            "_view_name": "StyleView",
            "bar_color": null,
            "description_width": ""
          }
        },
        "374e9b6e9fcc45eabe84ae0c9f286546": {
          "model_module": "@jupyter-widgets/base",
          "model_module_version": "1.2.0",
          "model_name": "LayoutModel",
          "state": {
            "_model_module": "@jupyter-widgets/base",
            "_model_module_version": "1.2.0",
            "_model_name": "LayoutModel",
            "_view_count": null,
            "_view_module": "@jupyter-widgets/base",
            "_view_module_version": "1.2.0",
            "_view_name": "LayoutView",
            "align_content": null,
            "align_items": null,
            "align_self": null,
            "border": null,
            "bottom": null,
            "display": null,
            "flex": null,
            "flex_flow": null,
            "grid_area": null,
            "grid_auto_columns": null,
            "grid_auto_flow": null,
            "grid_auto_rows": null,
            "grid_column": null,
            "grid_gap": null,
            "grid_row": null,
            "grid_template_areas": null,
            "grid_template_columns": null,
            "grid_template_rows": null,
            "height": null,
            "justify_content": null,
            "justify_items": null,
            "left": null,
            "margin": null,
            "max_height": null,
            "max_width": null,
            "min_height": null,
            "min_width": null,
            "object_fit": null,
            "object_position": null,
            "order": null,
            "overflow": null,
            "overflow_x": null,
            "overflow_y": null,
            "padding": null,
            "right": null,
            "top": null,
            "visibility": null,
            "width": null
          }
        },
        "39a54ded218f48048321c604eece88d9": {
          "model_module": "@jupyter-widgets/base",
          "model_module_version": "1.2.0",
          "model_name": "LayoutModel",
          "state": {
            "_model_module": "@jupyter-widgets/base",
            "_model_module_version": "1.2.0",
            "_model_name": "LayoutModel",
            "_view_count": null,
            "_view_module": "@jupyter-widgets/base",
            "_view_module_version": "1.2.0",
            "_view_name": "LayoutView",
            "align_content": null,
            "align_items": null,
            "align_self": null,
            "border": null,
            "bottom": null,
            "display": null,
            "flex": null,
            "flex_flow": null,
            "grid_area": null,
            "grid_auto_columns": null,
            "grid_auto_flow": null,
            "grid_auto_rows": null,
            "grid_column": null,
            "grid_gap": null,
            "grid_row": null,
            "grid_template_areas": null,
            "grid_template_columns": null,
            "grid_template_rows": null,
            "height": null,
            "justify_content": null,
            "justify_items": null,
            "left": null,
            "margin": null,
            "max_height": null,
            "max_width": null,
            "min_height": null,
            "min_width": null,
            "object_fit": null,
            "object_position": null,
            "order": null,
            "overflow": null,
            "overflow_x": null,
            "overflow_y": null,
            "padding": null,
            "right": null,
            "top": null,
            "visibility": null,
            "width": null
          }
        },
        "39d2595f1d85401ea4e930369e52da11": {
          "model_module": "@jupyter-widgets/base",
          "model_module_version": "1.2.0",
          "model_name": "LayoutModel",
          "state": {
            "_model_module": "@jupyter-widgets/base",
            "_model_module_version": "1.2.0",
            "_model_name": "LayoutModel",
            "_view_count": null,
            "_view_module": "@jupyter-widgets/base",
            "_view_module_version": "1.2.0",
            "_view_name": "LayoutView",
            "align_content": null,
            "align_items": null,
            "align_self": null,
            "border": null,
            "bottom": null,
            "display": null,
            "flex": null,
            "flex_flow": null,
            "grid_area": null,
            "grid_auto_columns": null,
            "grid_auto_flow": null,
            "grid_auto_rows": null,
            "grid_column": null,
            "grid_gap": null,
            "grid_row": null,
            "grid_template_areas": null,
            "grid_template_columns": null,
            "grid_template_rows": null,
            "height": null,
            "justify_content": null,
            "justify_items": null,
            "left": null,
            "margin": null,
            "max_height": null,
            "max_width": null,
            "min_height": null,
            "min_width": null,
            "object_fit": null,
            "object_position": null,
            "order": null,
            "overflow": null,
            "overflow_x": null,
            "overflow_y": null,
            "padding": null,
            "right": null,
            "top": null,
            "visibility": null,
            "width": null
          }
        },
        "3cbbf50821414139bf7924b2a66912ba": {
          "model_module": "@jupyter-widgets/controls",
          "model_module_version": "1.5.0",
          "model_name": "ProgressStyleModel",
          "state": {
            "_model_module": "@jupyter-widgets/controls",
            "_model_module_version": "1.5.0",
            "_model_name": "ProgressStyleModel",
            "_view_count": null,
            "_view_module": "@jupyter-widgets/base",
            "_view_module_version": "1.2.0",
            "_view_name": "StyleView",
            "bar_color": null,
            "description_width": ""
          }
        },
        "3d7e3dfdc28548d8bd8b7d548edb6f8f": {
          "model_module": "@jupyter-widgets/controls",
          "model_module_version": "1.5.0",
          "model_name": "ProgressStyleModel",
          "state": {
            "_model_module": "@jupyter-widgets/controls",
            "_model_module_version": "1.5.0",
            "_model_name": "ProgressStyleModel",
            "_view_count": null,
            "_view_module": "@jupyter-widgets/base",
            "_view_module_version": "1.2.0",
            "_view_name": "StyleView",
            "bar_color": null,
            "description_width": ""
          }
        },
        "3ee80b72a2e348c8a92af98b5d666c13": {
          "model_module": "@jupyter-widgets/base",
          "model_module_version": "1.2.0",
          "model_name": "LayoutModel",
          "state": {
            "_model_module": "@jupyter-widgets/base",
            "_model_module_version": "1.2.0",
            "_model_name": "LayoutModel",
            "_view_count": null,
            "_view_module": "@jupyter-widgets/base",
            "_view_module_version": "1.2.0",
            "_view_name": "LayoutView",
            "align_content": null,
            "align_items": null,
            "align_self": null,
            "border": null,
            "bottom": null,
            "display": null,
            "flex": null,
            "flex_flow": null,
            "grid_area": null,
            "grid_auto_columns": null,
            "grid_auto_flow": null,
            "grid_auto_rows": null,
            "grid_column": null,
            "grid_gap": null,
            "grid_row": null,
            "grid_template_areas": null,
            "grid_template_columns": null,
            "grid_template_rows": null,
            "height": null,
            "justify_content": null,
            "justify_items": null,
            "left": null,
            "margin": null,
            "max_height": null,
            "max_width": null,
            "min_height": null,
            "min_width": null,
            "object_fit": null,
            "object_position": null,
            "order": null,
            "overflow": null,
            "overflow_x": null,
            "overflow_y": null,
            "padding": null,
            "right": null,
            "top": null,
            "visibility": null,
            "width": null
          }
        },
        "41761888fc3547bf81907d84c07cd964": {
          "model_module": "@jupyter-widgets/base",
          "model_module_version": "1.2.0",
          "model_name": "LayoutModel",
          "state": {
            "_model_module": "@jupyter-widgets/base",
            "_model_module_version": "1.2.0",
            "_model_name": "LayoutModel",
            "_view_count": null,
            "_view_module": "@jupyter-widgets/base",
            "_view_module_version": "1.2.0",
            "_view_name": "LayoutView",
            "align_content": null,
            "align_items": null,
            "align_self": null,
            "border": null,
            "bottom": null,
            "display": null,
            "flex": null,
            "flex_flow": null,
            "grid_area": null,
            "grid_auto_columns": null,
            "grid_auto_flow": null,
            "grid_auto_rows": null,
            "grid_column": null,
            "grid_gap": null,
            "grid_row": null,
            "grid_template_areas": null,
            "grid_template_columns": null,
            "grid_template_rows": null,
            "height": null,
            "justify_content": null,
            "justify_items": null,
            "left": null,
            "margin": null,
            "max_height": null,
            "max_width": null,
            "min_height": null,
            "min_width": null,
            "object_fit": null,
            "object_position": null,
            "order": null,
            "overflow": null,
            "overflow_x": null,
            "overflow_y": null,
            "padding": null,
            "right": null,
            "top": null,
            "visibility": null,
            "width": null
          }
        },
        "41ff8cbd05464696b86989bf3c39c1e3": {
          "model_module": "@jupyter-widgets/controls",
          "model_module_version": "1.5.0",
          "model_name": "FloatProgressModel",
          "state": {
            "_dom_classes": [],
            "_model_module": "@jupyter-widgets/controls",
            "_model_module_version": "1.5.0",
            "_model_name": "FloatProgressModel",
            "_view_count": null,
            "_view_module": "@jupyter-widgets/controls",
            "_view_module_version": "1.5.0",
            "_view_name": "ProgressView",
            "bar_style": "success",
            "description": "",
            "description_tooltip": null,
            "layout": "IPY_MODEL_196c5d364c0a45d1b07cb8c1850eae8e",
            "max": 1060,
            "min": 0,
            "orientation": "horizontal",
            "style": "IPY_MODEL_ac7622d9634c46db895530963f553494",
            "value": 1060
          }
        },
        "42901d9eb4204cb39847025079f3e3c1": {
          "model_module": "@jupyter-widgets/controls",
          "model_module_version": "1.5.0",
          "model_name": "HTMLModel",
          "state": {
            "_dom_classes": [],
            "_model_module": "@jupyter-widgets/controls",
            "_model_module_version": "1.5.0",
            "_model_name": "HTMLModel",
            "_view_count": null,
            "_view_module": "@jupyter-widgets/controls",
            "_view_module_version": "1.5.0",
            "_view_name": "HTMLView",
            "description": "",
            "description_tooltip": null,
            "layout": "IPY_MODEL_bb8774b67f884f6b8377a496b5c4a151",
            "placeholder": "​",
            "style": "IPY_MODEL_f49894f74c4242f88b84aea799edb16d",
            "value": " 4620/? [00:00&lt;00:00, 11641.10ex/s]"
          }
        },
        "4322229ce14c40288a33afefb4917bdd": {
          "model_module": "@jupyter-widgets/controls",
          "model_module_version": "1.5.0",
          "model_name": "HTMLModel",
          "state": {
            "_dom_classes": [],
            "_model_module": "@jupyter-widgets/controls",
            "_model_module_version": "1.5.0",
            "_model_name": "HTMLModel",
            "_view_count": null,
            "_view_module": "@jupyter-widgets/controls",
            "_view_module_version": "1.5.0",
            "_view_name": "HTMLView",
            "description": "",
            "description_tooltip": null,
            "layout": "IPY_MODEL_6d601fe66e86428bb08ec9952e99d52a",
            "placeholder": "​",
            "style": "IPY_MODEL_bd7dad24d5d34edd9409e44ae87b888c",
            "value": " 1/1 [00:00&lt;00:00, 12.01ba/s]"
          }
        },
        "43c07bbb17534fa9932770d689dc821b": {
          "model_module": "@jupyter-widgets/controls",
          "model_module_version": "1.5.0",
          "model_name": "ProgressStyleModel",
          "state": {
            "_model_module": "@jupyter-widgets/controls",
            "_model_module_version": "1.5.0",
            "_model_name": "ProgressStyleModel",
            "_view_count": null,
            "_view_module": "@jupyter-widgets/base",
            "_view_module_version": "1.2.0",
            "_view_name": "StyleView",
            "bar_color": null,
            "description_width": ""
          }
        },
        "457ab436e5dd499eab891989de1ebdc9": {
          "model_module": "@jupyter-widgets/base",
          "model_module_version": "1.2.0",
          "model_name": "LayoutModel",
          "state": {
            "_model_module": "@jupyter-widgets/base",
            "_model_module_version": "1.2.0",
            "_model_name": "LayoutModel",
            "_view_count": null,
            "_view_module": "@jupyter-widgets/base",
            "_view_module_version": "1.2.0",
            "_view_name": "LayoutView",
            "align_content": null,
            "align_items": null,
            "align_self": null,
            "border": null,
            "bottom": null,
            "display": null,
            "flex": null,
            "flex_flow": null,
            "grid_area": null,
            "grid_auto_columns": null,
            "grid_auto_flow": null,
            "grid_auto_rows": null,
            "grid_column": null,
            "grid_gap": null,
            "grid_row": null,
            "grid_template_areas": null,
            "grid_template_columns": null,
            "grid_template_rows": null,
            "height": null,
            "justify_content": null,
            "justify_items": null,
            "left": null,
            "margin": null,
            "max_height": null,
            "max_width": null,
            "min_height": null,
            "min_width": null,
            "object_fit": null,
            "object_position": null,
            "order": null,
            "overflow": null,
            "overflow_x": null,
            "overflow_y": null,
            "padding": null,
            "right": null,
            "top": null,
            "visibility": null,
            "width": null
          }
        },
        "45f9dd1c05be47e8a0dd90af375756ac": {
          "model_module": "@jupyter-widgets/base",
          "model_module_version": "1.2.0",
          "model_name": "LayoutModel",
          "state": {
            "_model_module": "@jupyter-widgets/base",
            "_model_module_version": "1.2.0",
            "_model_name": "LayoutModel",
            "_view_count": null,
            "_view_module": "@jupyter-widgets/base",
            "_view_module_version": "1.2.0",
            "_view_name": "LayoutView",
            "align_content": null,
            "align_items": null,
            "align_self": null,
            "border": null,
            "bottom": null,
            "display": null,
            "flex": null,
            "flex_flow": null,
            "grid_area": null,
            "grid_auto_columns": null,
            "grid_auto_flow": null,
            "grid_auto_rows": null,
            "grid_column": null,
            "grid_gap": null,
            "grid_row": null,
            "grid_template_areas": null,
            "grid_template_columns": null,
            "grid_template_rows": null,
            "height": null,
            "justify_content": null,
            "justify_items": null,
            "left": null,
            "margin": null,
            "max_height": null,
            "max_width": null,
            "min_height": null,
            "min_width": null,
            "object_fit": null,
            "object_position": null,
            "order": null,
            "overflow": null,
            "overflow_x": null,
            "overflow_y": null,
            "padding": null,
            "right": null,
            "top": null,
            "visibility": null,
            "width": null
          }
        },
        "46b49c05ae70468cbe834a11a86c53ee": {
          "model_module": "@jupyter-widgets/controls",
          "model_module_version": "1.5.0",
          "model_name": "DescriptionStyleModel",
          "state": {
            "_model_module": "@jupyter-widgets/controls",
            "_model_module_version": "1.5.0",
            "_model_name": "DescriptionStyleModel",
            "_view_count": null,
            "_view_module": "@jupyter-widgets/base",
            "_view_module_version": "1.2.0",
            "_view_name": "StyleView",
            "description_width": ""
          }
        },
        "4796a0a689924d089c229046ba162058": {
          "model_module": "@jupyter-widgets/controls",
          "model_module_version": "1.5.0",
          "model_name": "DescriptionStyleModel",
          "state": {
            "_model_module": "@jupyter-widgets/controls",
            "_model_module_version": "1.5.0",
            "_model_name": "DescriptionStyleModel",
            "_view_count": null,
            "_view_module": "@jupyter-widgets/base",
            "_view_module_version": "1.2.0",
            "_view_name": "StyleView",
            "description_width": ""
          }
        },
        "47d42cc391cd46049052a802e46364b6": {
          "model_module": "@jupyter-widgets/controls",
          "model_module_version": "1.5.0",
          "model_name": "HTMLModel",
          "state": {
            "_dom_classes": [],
            "_model_module": "@jupyter-widgets/controls",
            "_model_module_version": "1.5.0",
            "_model_name": "HTMLModel",
            "_view_count": null,
            "_view_module": "@jupyter-widgets/controls",
            "_view_module_version": "1.5.0",
            "_view_name": "HTMLView",
            "description": "",
            "description_tooltip": null,
            "layout": "IPY_MODEL_b92aa97e7bf4400c8e1314fd9cd6360c",
            "placeholder": "​",
            "style": "IPY_MODEL_ae02bea4efb44660aa5718e913f38d1d",
            "value": "Downloading: "
          }
        },
        "480805c0a342489dbe01eef7aa1a9b65": {
          "model_module": "@jupyter-widgets/base",
          "model_module_version": "1.2.0",
          "model_name": "LayoutModel",
          "state": {
            "_model_module": "@jupyter-widgets/base",
            "_model_module_version": "1.2.0",
            "_model_name": "LayoutModel",
            "_view_count": null,
            "_view_module": "@jupyter-widgets/base",
            "_view_module_version": "1.2.0",
            "_view_name": "LayoutView",
            "align_content": null,
            "align_items": null,
            "align_self": null,
            "border": null,
            "bottom": null,
            "display": null,
            "flex": null,
            "flex_flow": null,
            "grid_area": null,
            "grid_auto_columns": null,
            "grid_auto_flow": null,
            "grid_auto_rows": null,
            "grid_column": null,
            "grid_gap": null,
            "grid_row": null,
            "grid_template_areas": null,
            "grid_template_columns": null,
            "grid_template_rows": null,
            "height": null,
            "justify_content": null,
            "justify_items": null,
            "left": null,
            "margin": null,
            "max_height": null,
            "max_width": null,
            "min_height": null,
            "min_width": null,
            "object_fit": null,
            "object_position": null,
            "order": null,
            "overflow": null,
            "overflow_x": null,
            "overflow_y": null,
            "padding": null,
            "right": null,
            "top": null,
            "visibility": null,
            "width": null
          }
        },
        "489bec937040484ea1164c317f07a4ad": {
          "model_module": "@jupyter-widgets/controls",
          "model_module_version": "1.5.0",
          "model_name": "DescriptionStyleModel",
          "state": {
            "_model_module": "@jupyter-widgets/controls",
            "_model_module_version": "1.5.0",
            "_model_name": "DescriptionStyleModel",
            "_view_count": null,
            "_view_module": "@jupyter-widgets/base",
            "_view_module_version": "1.2.0",
            "_view_name": "StyleView",
            "description_width": ""
          }
        },
        "4d26ca1886f0449ea7bd6b4c8de7ab24": {
          "model_module": "@jupyter-widgets/controls",
          "model_module_version": "1.5.0",
          "model_name": "HTMLModel",
          "state": {
            "_dom_classes": [],
            "_model_module": "@jupyter-widgets/controls",
            "_model_module_version": "1.5.0",
            "_model_name": "HTMLModel",
            "_view_count": null,
            "_view_module": "@jupyter-widgets/controls",
            "_view_module_version": "1.5.0",
            "_view_name": "HTMLView",
            "description": "",
            "description_tooltip": null,
            "layout": "IPY_MODEL_b27cb4080cb642739729fed51ee8c3ad",
            "placeholder": "​",
            "style": "IPY_MODEL_8ba99977f5d64f69820c6cb91020848c",
            "value": "Downloading: 100%"
          }
        },
        "4ed0f26ff105404bb993127df03bffca": {
          "model_module": "@jupyter-widgets/controls",
          "model_module_version": "1.5.0",
          "model_name": "HTMLModel",
          "state": {
            "_dom_classes": [],
            "_model_module": "@jupyter-widgets/controls",
            "_model_module_version": "1.5.0",
            "_model_name": "HTMLModel",
            "_view_count": null,
            "_view_module": "@jupyter-widgets/controls",
            "_view_module_version": "1.5.0",
            "_view_name": "HTMLView",
            "description": "",
            "description_tooltip": null,
            "layout": "IPY_MODEL_b59ba6565a464d1ba9b09b978cc679dd",
            "placeholder": "​",
            "style": "IPY_MODEL_10fd19a14d1f45aba528e4f19b675638",
            "value": "100%"
          }
        },
        "51a7cab310ae4385b30bcf6d828c5bd7": {
          "model_module": "@jupyter-widgets/controls",
          "model_module_version": "1.5.0",
          "model_name": "PasswordModel",
          "state": {
            "_dom_classes": [],
            "_model_module": "@jupyter-widgets/controls",
            "_model_module_version": "1.5.0",
            "_model_name": "PasswordModel",
            "_view_count": null,
            "_view_module": "@jupyter-widgets/controls",
            "_view_module_version": "1.5.0",
            "_view_name": "PasswordView",
            "continuous_update": true,
            "description": "Token:",
            "description_tooltip": null,
            "disabled": false,
            "layout": "IPY_MODEL_3ee80b72a2e348c8a92af98b5d666c13",
            "placeholder": "​",
            "style": "IPY_MODEL_d30d4923454e4f8aaf4341f0d9e4f794",
            "value": ""
          }
        },
        "53a03b6776c5401aaca921c86ed0b6d5": {
          "model_module": "@jupyter-widgets/controls",
          "model_module_version": "1.5.0",
          "model_name": "ProgressStyleModel",
          "state": {
            "_model_module": "@jupyter-widgets/controls",
            "_model_module_version": "1.5.0",
            "_model_name": "ProgressStyleModel",
            "_view_count": null,
            "_view_module": "@jupyter-widgets/base",
            "_view_module_version": "1.2.0",
            "_view_name": "StyleView",
            "bar_color": null,
            "description_width": ""
          }
        },
        "556b2a49b0f04518a0c925f7d448fcd9": {
          "model_module": "@jupyter-widgets/base",
          "model_module_version": "1.2.0",
          "model_name": "LayoutModel",
          "state": {
            "_model_module": "@jupyter-widgets/base",
            "_model_module_version": "1.2.0",
            "_model_name": "LayoutModel",
            "_view_count": null,
            "_view_module": "@jupyter-widgets/base",
            "_view_module_version": "1.2.0",
            "_view_name": "LayoutView",
            "align_content": null,
            "align_items": null,
            "align_self": null,
            "border": null,
            "bottom": null,
            "display": null,
            "flex": null,
            "flex_flow": null,
            "grid_area": null,
            "grid_auto_columns": null,
            "grid_auto_flow": null,
            "grid_auto_rows": null,
            "grid_column": null,
            "grid_gap": null,
            "grid_row": null,
            "grid_template_areas": null,
            "grid_template_columns": null,
            "grid_template_rows": null,
            "height": null,
            "justify_content": null,
            "justify_items": null,
            "left": null,
            "margin": null,
            "max_height": null,
            "max_width": null,
            "min_height": null,
            "min_width": null,
            "object_fit": null,
            "object_position": null,
            "order": null,
            "overflow": null,
            "overflow_x": null,
            "overflow_y": null,
            "padding": null,
            "right": null,
            "top": null,
            "visibility": null,
            "width": null
          }
        },
        "56edbb7e71544c97a52f26e245e6a406": {
          "model_module": "@jupyter-widgets/base",
          "model_module_version": "1.2.0",
          "model_name": "LayoutModel",
          "state": {
            "_model_module": "@jupyter-widgets/base",
            "_model_module_version": "1.2.0",
            "_model_name": "LayoutModel",
            "_view_count": null,
            "_view_module": "@jupyter-widgets/base",
            "_view_module_version": "1.2.0",
            "_view_name": "LayoutView",
            "align_content": null,
            "align_items": null,
            "align_self": null,
            "border": null,
            "bottom": null,
            "display": null,
            "flex": null,
            "flex_flow": null,
            "grid_area": null,
            "grid_auto_columns": null,
            "grid_auto_flow": null,
            "grid_auto_rows": null,
            "grid_column": null,
            "grid_gap": null,
            "grid_row": null,
            "grid_template_areas": null,
            "grid_template_columns": null,
            "grid_template_rows": null,
            "height": null,
            "justify_content": null,
            "justify_items": null,
            "left": null,
            "margin": null,
            "max_height": null,
            "max_width": null,
            "min_height": null,
            "min_width": null,
            "object_fit": null,
            "object_position": null,
            "order": null,
            "overflow": null,
            "overflow_x": null,
            "overflow_y": null,
            "padding": null,
            "right": null,
            "top": null,
            "visibility": null,
            "width": null
          }
        },
        "58d8a23d215e4c90af7cc611354be857": {
          "model_module": "@jupyter-widgets/controls",
          "model_module_version": "1.5.0",
          "model_name": "HTMLModel",
          "state": {
            "_dom_classes": [],
            "_model_module": "@jupyter-widgets/controls",
            "_model_module_version": "1.5.0",
            "_model_name": "HTMLModel",
            "_view_count": null,
            "_view_module": "@jupyter-widgets/controls",
            "_view_module_version": "1.5.0",
            "_view_name": "HTMLView",
            "description": "",
            "description_tooltip": null,
            "layout": "IPY_MODEL_39d2595f1d85401ea4e930369e52da11",
            "placeholder": "​",
            "style": "IPY_MODEL_8980f3e6e202478eb2d2c3874788e466",
            "value": ""
          }
        },
        "5bc51e6bf9d0484baf014fb352155e15": {
          "model_module": "@jupyter-widgets/base",
          "model_module_version": "1.2.0",
          "model_name": "LayoutModel",
          "state": {
            "_model_module": "@jupyter-widgets/base",
            "_model_module_version": "1.2.0",
            "_model_name": "LayoutModel",
            "_view_count": null,
            "_view_module": "@jupyter-widgets/base",
            "_view_module_version": "1.2.0",
            "_view_name": "LayoutView",
            "align_content": null,
            "align_items": null,
            "align_self": null,
            "border": null,
            "bottom": null,
            "display": null,
            "flex": null,
            "flex_flow": null,
            "grid_area": null,
            "grid_auto_columns": null,
            "grid_auto_flow": null,
            "grid_auto_rows": null,
            "grid_column": null,
            "grid_gap": null,
            "grid_row": null,
            "grid_template_areas": null,
            "grid_template_columns": null,
            "grid_template_rows": null,
            "height": null,
            "justify_content": null,
            "justify_items": null,
            "left": null,
            "margin": null,
            "max_height": null,
            "max_width": null,
            "min_height": null,
            "min_width": null,
            "object_fit": null,
            "object_position": null,
            "order": null,
            "overflow": null,
            "overflow_x": null,
            "overflow_y": null,
            "padding": null,
            "right": null,
            "top": null,
            "visibility": null,
            "width": null
          }
        },
        "5beb1ffb9863473a8df053439bfb9fb2": {
          "model_module": "@jupyter-widgets/base",
          "model_module_version": "1.2.0",
          "model_name": "LayoutModel",
          "state": {
            "_model_module": "@jupyter-widgets/base",
            "_model_module_version": "1.2.0",
            "_model_name": "LayoutModel",
            "_view_count": null,
            "_view_module": "@jupyter-widgets/base",
            "_view_module_version": "1.2.0",
            "_view_name": "LayoutView",
            "align_content": null,
            "align_items": null,
            "align_self": null,
            "border": null,
            "bottom": null,
            "display": null,
            "flex": null,
            "flex_flow": null,
            "grid_area": null,
            "grid_auto_columns": null,
            "grid_auto_flow": null,
            "grid_auto_rows": null,
            "grid_column": null,
            "grid_gap": null,
            "grid_row": null,
            "grid_template_areas": null,
            "grid_template_columns": null,
            "grid_template_rows": null,
            "height": null,
            "justify_content": null,
            "justify_items": null,
            "left": null,
            "margin": null,
            "max_height": null,
            "max_width": null,
            "min_height": null,
            "min_width": null,
            "object_fit": null,
            "object_position": null,
            "order": null,
            "overflow": null,
            "overflow_x": null,
            "overflow_y": null,
            "padding": null,
            "right": null,
            "top": null,
            "visibility": null,
            "width": null
          }
        },
        "5c09a1875b4f4cc2b3cf64a52b4fd8b8": {
          "model_module": "@jupyter-widgets/controls",
          "model_module_version": "1.5.0",
          "model_name": "HTMLModel",
          "state": {
            "_dom_classes": [],
            "_model_module": "@jupyter-widgets/controls",
            "_model_module_version": "1.5.0",
            "_model_name": "HTMLModel",
            "_view_count": null,
            "_view_module": "@jupyter-widgets/controls",
            "_view_module_version": "1.5.0",
            "_view_name": "HTMLView",
            "description": "",
            "description_tooltip": null,
            "layout": "IPY_MODEL_2e4870ab55404beaafde980d48618ed7",
            "placeholder": "​",
            "style": "IPY_MODEL_b85b4466791b4764ab4ef51f90281e9f",
            "value": " 1.80k/? [00:00&lt;00:00, 90.8kB/s]"
          }
        },
        "5e19198ee86d4494bc5eb9637259f492": {
          "model_module": "@jupyter-widgets/controls",
          "model_module_version": "1.5.0",
          "model_name": "HTMLModel",
          "state": {
            "_dom_classes": [],
            "_model_module": "@jupyter-widgets/controls",
            "_model_module_version": "1.5.0",
            "_model_name": "HTMLModel",
            "_view_count": null,
            "_view_module": "@jupyter-widgets/controls",
            "_view_module_version": "1.5.0",
            "_view_name": "HTMLView",
            "description": "",
            "description_tooltip": null,
            "layout": "IPY_MODEL_15666b87c18443b2b5dcc92821b310e7",
            "placeholder": "​",
            "style": "IPY_MODEL_cac71a316ae94f788d31ff4aa68ce067",
            "value": " 1680/? [00:00&lt;00:00, 7285.75ex/s]"
          }
        },
        "5e721c366d99434d80b3822c6e82b290": {
          "model_module": "@jupyter-widgets/controls",
          "model_module_version": "1.5.0",
          "model_name": "HBoxModel",
          "state": {
            "_dom_classes": [],
            "_model_module": "@jupyter-widgets/controls",
            "_model_module_version": "1.5.0",
            "_model_name": "HBoxModel",
            "_view_count": null,
            "_view_module": "@jupyter-widgets/controls",
            "_view_module_version": "1.5.0",
            "_view_name": "HBoxView",
            "box_style": "",
            "children": [
              "IPY_MODEL_bd9b680e32fc41708cc2024a2f40c89d",
              "IPY_MODEL_0b8b1be79ae24a31b1474824c5e52de5",
              "IPY_MODEL_b9f5fab4eb65486abec1e0d85c8682d8"
            ],
            "layout": "IPY_MODEL_56edbb7e71544c97a52f26e245e6a406"
          }
        },
        "6371ee68de1c457696f0f5f467a4ab20": {
          "model_module": "@jupyter-widgets/controls",
          "model_module_version": "1.5.0",
          "model_name": "HBoxModel",
          "state": {
            "_dom_classes": [],
            "_model_module": "@jupyter-widgets/controls",
            "_model_module_version": "1.5.0",
            "_model_name": "HBoxModel",
            "_view_count": null,
            "_view_module": "@jupyter-widgets/controls",
            "_view_module_version": "1.5.0",
            "_view_name": "HBoxView",
            "box_style": "",
            "children": [
              "IPY_MODEL_8d544fd2a20e410887d14bed2c1abf66",
              "IPY_MODEL_b04e77f560024855b050ec5d48d8a26c",
              "IPY_MODEL_786d3890c8a74b6b933389a08be4529f"
            ],
            "layout": "IPY_MODEL_1504d726f2f448b4a9b36d5034f3d138"
          }
        },
        "667cac3e3c364fed95c9d4cd30ec2466": {
          "model_module": "@jupyter-widgets/base",
          "model_module_version": "1.2.0",
          "model_name": "LayoutModel",
          "state": {
            "_model_module": "@jupyter-widgets/base",
            "_model_module_version": "1.2.0",
            "_model_name": "LayoutModel",
            "_view_count": null,
            "_view_module": "@jupyter-widgets/base",
            "_view_module_version": "1.2.0",
            "_view_name": "LayoutView",
            "align_content": null,
            "align_items": null,
            "align_self": null,
            "border": null,
            "bottom": null,
            "display": null,
            "flex": null,
            "flex_flow": null,
            "grid_area": null,
            "grid_auto_columns": null,
            "grid_auto_flow": null,
            "grid_auto_rows": null,
            "grid_column": null,
            "grid_gap": null,
            "grid_row": null,
            "grid_template_areas": null,
            "grid_template_columns": null,
            "grid_template_rows": null,
            "height": null,
            "justify_content": null,
            "justify_items": null,
            "left": null,
            "margin": null,
            "max_height": null,
            "max_width": null,
            "min_height": null,
            "min_width": null,
            "object_fit": null,
            "object_position": null,
            "order": null,
            "overflow": null,
            "overflow_x": null,
            "overflow_y": null,
            "padding": null,
            "right": null,
            "top": null,
            "visibility": null,
            "width": null
          }
        },
        "66d5b61e23dc4651903c0d32d7694a33": {
          "model_module": "@jupyter-widgets/base",
          "model_module_version": "1.2.0",
          "model_name": "LayoutModel",
          "state": {
            "_model_module": "@jupyter-widgets/base",
            "_model_module_version": "1.2.0",
            "_model_name": "LayoutModel",
            "_view_count": null,
            "_view_module": "@jupyter-widgets/base",
            "_view_module_version": "1.2.0",
            "_view_name": "LayoutView",
            "align_content": null,
            "align_items": null,
            "align_self": null,
            "border": null,
            "bottom": null,
            "display": null,
            "flex": null,
            "flex_flow": null,
            "grid_area": null,
            "grid_auto_columns": null,
            "grid_auto_flow": null,
            "grid_auto_rows": null,
            "grid_column": null,
            "grid_gap": null,
            "grid_row": null,
            "grid_template_areas": null,
            "grid_template_columns": null,
            "grid_template_rows": null,
            "height": null,
            "justify_content": null,
            "justify_items": null,
            "left": null,
            "margin": null,
            "max_height": null,
            "max_width": null,
            "min_height": null,
            "min_width": null,
            "object_fit": null,
            "object_position": null,
            "order": null,
            "overflow": null,
            "overflow_x": null,
            "overflow_y": null,
            "padding": null,
            "right": null,
            "top": null,
            "visibility": null,
            "width": null
          }
        },
        "6875e568704e45648e7230c0fe52ffb8": {
          "model_module": "@jupyter-widgets/controls",
          "model_module_version": "1.5.0",
          "model_name": "HTMLModel",
          "state": {
            "_dom_classes": [],
            "_model_module": "@jupyter-widgets/controls",
            "_model_module_version": "1.5.0",
            "_model_name": "HTMLModel",
            "_view_count": null,
            "_view_module": "@jupyter-widgets/controls",
            "_view_module_version": "1.5.0",
            "_view_name": "HTMLView",
            "description": "",
            "description_tooltip": null,
            "layout": "IPY_MODEL_5bc51e6bf9d0484baf014fb352155e15",
            "placeholder": "​",
            "style": "IPY_MODEL_73f206f8a18e42cca2630b1c3fbbdd17",
            "value": " 4523/0 [00:03&lt;00:00, 1491.99 examples/s]"
          }
        },
        "6a04eddf72594989b95c6a1be64d7f61": {
          "model_module": "@jupyter-widgets/base",
          "model_module_version": "1.2.0",
          "model_name": "LayoutModel",
          "state": {
            "_model_module": "@jupyter-widgets/base",
            "_model_module_version": "1.2.0",
            "_model_name": "LayoutModel",
            "_view_count": null,
            "_view_module": "@jupyter-widgets/base",
            "_view_module_version": "1.2.0",
            "_view_name": "LayoutView",
            "align_content": null,
            "align_items": null,
            "align_self": null,
            "border": null,
            "bottom": null,
            "display": null,
            "flex": null,
            "flex_flow": null,
            "grid_area": null,
            "grid_auto_columns": null,
            "grid_auto_flow": null,
            "grid_auto_rows": null,
            "grid_column": null,
            "grid_gap": null,
            "grid_row": null,
            "grid_template_areas": null,
            "grid_template_columns": null,
            "grid_template_rows": null,
            "height": null,
            "justify_content": null,
            "justify_items": null,
            "left": null,
            "margin": null,
            "max_height": null,
            "max_width": null,
            "min_height": null,
            "min_width": null,
            "object_fit": null,
            "object_position": null,
            "order": null,
            "overflow": null,
            "overflow_x": null,
            "overflow_y": null,
            "padding": null,
            "right": null,
            "top": null,
            "visibility": null,
            "width": null
          }
        },
        "6d601fe66e86428bb08ec9952e99d52a": {
          "model_module": "@jupyter-widgets/base",
          "model_module_version": "1.2.0",
          "model_name": "LayoutModel",
          "state": {
            "_model_module": "@jupyter-widgets/base",
            "_model_module_version": "1.2.0",
            "_model_name": "LayoutModel",
            "_view_count": null,
            "_view_module": "@jupyter-widgets/base",
            "_view_module_version": "1.2.0",
            "_view_name": "LayoutView",
            "align_content": null,
            "align_items": null,
            "align_self": null,
            "border": null,
            "bottom": null,
            "display": null,
            "flex": null,
            "flex_flow": null,
            "grid_area": null,
            "grid_auto_columns": null,
            "grid_auto_flow": null,
            "grid_auto_rows": null,
            "grid_column": null,
            "grid_gap": null,
            "grid_row": null,
            "grid_template_areas": null,
            "grid_template_columns": null,
            "grid_template_rows": null,
            "height": null,
            "justify_content": null,
            "justify_items": null,
            "left": null,
            "margin": null,
            "max_height": null,
            "max_width": null,
            "min_height": null,
            "min_width": null,
            "object_fit": null,
            "object_position": null,
            "order": null,
            "overflow": null,
            "overflow_x": null,
            "overflow_y": null,
            "padding": null,
            "right": null,
            "top": null,
            "visibility": null,
            "width": null
          }
        },
        "6e9a872c89d54da582effed9b9f07bb2": {
          "model_module": "@jupyter-widgets/base",
          "model_module_version": "1.2.0",
          "model_name": "LayoutModel",
          "state": {
            "_model_module": "@jupyter-widgets/base",
            "_model_module_version": "1.2.0",
            "_model_name": "LayoutModel",
            "_view_count": null,
            "_view_module": "@jupyter-widgets/base",
            "_view_module_version": "1.2.0",
            "_view_name": "LayoutView",
            "align_content": null,
            "align_items": null,
            "align_self": null,
            "border": null,
            "bottom": null,
            "display": null,
            "flex": null,
            "flex_flow": null,
            "grid_area": null,
            "grid_auto_columns": null,
            "grid_auto_flow": null,
            "grid_auto_rows": null,
            "grid_column": null,
            "grid_gap": null,
            "grid_row": null,
            "grid_template_areas": null,
            "grid_template_columns": null,
            "grid_template_rows": null,
            "height": null,
            "justify_content": null,
            "justify_items": null,
            "left": null,
            "margin": null,
            "max_height": null,
            "max_width": null,
            "min_height": null,
            "min_width": null,
            "object_fit": null,
            "object_position": null,
            "order": null,
            "overflow": null,
            "overflow_x": null,
            "overflow_y": null,
            "padding": null,
            "right": null,
            "top": null,
            "visibility": null,
            "width": "20px"
          }
        },
        "6f7688e6cf04412ab2dac06baeb4e666": {
          "model_module": "@jupyter-widgets/base",
          "model_module_version": "1.2.0",
          "model_name": "LayoutModel",
          "state": {
            "_model_module": "@jupyter-widgets/base",
            "_model_module_version": "1.2.0",
            "_model_name": "LayoutModel",
            "_view_count": null,
            "_view_module": "@jupyter-widgets/base",
            "_view_module_version": "1.2.0",
            "_view_name": "LayoutView",
            "align_content": null,
            "align_items": null,
            "align_self": null,
            "border": null,
            "bottom": null,
            "display": null,
            "flex": null,
            "flex_flow": null,
            "grid_area": null,
            "grid_auto_columns": null,
            "grid_auto_flow": null,
            "grid_auto_rows": null,
            "grid_column": null,
            "grid_gap": null,
            "grid_row": null,
            "grid_template_areas": null,
            "grid_template_columns": null,
            "grid_template_rows": null,
            "height": null,
            "justify_content": null,
            "justify_items": null,
            "left": null,
            "margin": null,
            "max_height": null,
            "max_width": null,
            "min_height": null,
            "min_width": null,
            "object_fit": null,
            "object_position": null,
            "order": null,
            "overflow": null,
            "overflow_x": null,
            "overflow_y": null,
            "padding": null,
            "right": null,
            "top": null,
            "visibility": null,
            "width": null
          }
        },
        "7006ee29b4ef406381b7fbd117b4b333": {
          "model_module": "@jupyter-widgets/controls",
          "model_module_version": "1.5.0",
          "model_name": "HBoxModel",
          "state": {
            "_dom_classes": [],
            "_model_module": "@jupyter-widgets/controls",
            "_model_module_version": "1.5.0",
            "_model_name": "HBoxModel",
            "_view_count": null,
            "_view_module": "@jupyter-widgets/controls",
            "_view_module_version": "1.5.0",
            "_view_name": "HBoxView",
            "box_style": "",
            "children": [
              "IPY_MODEL_c4960a24842040638dc4f7a81b737d6f",
              "IPY_MODEL_2cb200945757448abb65d4af8fe4b95f",
              "IPY_MODEL_d11bbf7a3d924028958d5bcc0a72e122"
            ],
            "layout": "IPY_MODEL_374e9b6e9fcc45eabe84ae0c9f286546"
          }
        },
        "700ef7e95cf94d7e9dbeb58d605eca5d": {
          "model_module": "@jupyter-widgets/controls",
          "model_module_version": "1.5.0",
          "model_name": "DescriptionStyleModel",
          "state": {
            "_model_module": "@jupyter-widgets/controls",
            "_model_module_version": "1.5.0",
            "_model_name": "DescriptionStyleModel",
            "_view_count": null,
            "_view_module": "@jupyter-widgets/base",
            "_view_module_version": "1.2.0",
            "_view_name": "StyleView",
            "description_width": ""
          }
        },
        "70723978a71b47969d9952bcef9c2a0d": {
          "model_module": "@jupyter-widgets/controls",
          "model_module_version": "1.5.0",
          "model_name": "DescriptionStyleModel",
          "state": {
            "_model_module": "@jupyter-widgets/controls",
            "_model_module_version": "1.5.0",
            "_model_name": "DescriptionStyleModel",
            "_view_count": null,
            "_view_module": "@jupyter-widgets/base",
            "_view_module_version": "1.2.0",
            "_view_name": "StyleView",
            "description_width": ""
          }
        },
        "72ba30f58e904ad786e9f82deabebc75": {
          "model_module": "@jupyter-widgets/base",
          "model_module_version": "1.2.0",
          "model_name": "LayoutModel",
          "state": {
            "_model_module": "@jupyter-widgets/base",
            "_model_module_version": "1.2.0",
            "_model_name": "LayoutModel",
            "_view_count": null,
            "_view_module": "@jupyter-widgets/base",
            "_view_module_version": "1.2.0",
            "_view_name": "LayoutView",
            "align_content": null,
            "align_items": null,
            "align_self": null,
            "border": null,
            "bottom": null,
            "display": null,
            "flex": null,
            "flex_flow": null,
            "grid_area": null,
            "grid_auto_columns": null,
            "grid_auto_flow": null,
            "grid_auto_rows": null,
            "grid_column": null,
            "grid_gap": null,
            "grid_row": null,
            "grid_template_areas": null,
            "grid_template_columns": null,
            "grid_template_rows": null,
            "height": null,
            "justify_content": null,
            "justify_items": null,
            "left": null,
            "margin": null,
            "max_height": null,
            "max_width": null,
            "min_height": null,
            "min_width": null,
            "object_fit": null,
            "object_position": null,
            "order": null,
            "overflow": null,
            "overflow_x": null,
            "overflow_y": null,
            "padding": null,
            "right": null,
            "top": null,
            "visibility": null,
            "width": null
          }
        },
        "72c60eb7db764e16a9d47ad4fc87dd10": {
          "model_module": "@jupyter-widgets/controls",
          "model_module_version": "1.5.0",
          "model_name": "VBoxModel",
          "state": {
            "_dom_classes": [],
            "_model_module": "@jupyter-widgets/controls",
            "_model_module_version": "1.5.0",
            "_model_name": "VBoxModel",
            "_view_count": null,
            "_view_module": "@jupyter-widgets/controls",
            "_view_module_version": "1.5.0",
            "_view_name": "VBoxView",
            "box_style": "",
            "children": [
              "IPY_MODEL_81e2c1fadd6546b18a39555d44a9ab3c",
              "IPY_MODEL_51a7cab310ae4385b30bcf6d828c5bd7",
              "IPY_MODEL_97b1d29fb759427b9a3ced885b12c49b",
              "IPY_MODEL_c7053e32145d4599bda83ae1372cf54a",
              "IPY_MODEL_ed33c55d50234c32b15798b747153ad2"
            ],
            "layout": "IPY_MODEL_ed4a76509a9e43a285bed77e8415e170"
          }
        },
        "7317708554854b4fb5c2ee08e0f4f894": {
          "model_module": "@jupyter-widgets/controls",
          "model_module_version": "1.5.0",
          "model_name": "DescriptionStyleModel",
          "state": {
            "_model_module": "@jupyter-widgets/controls",
            "_model_module_version": "1.5.0",
            "_model_name": "DescriptionStyleModel",
            "_view_count": null,
            "_view_module": "@jupyter-widgets/base",
            "_view_module_version": "1.2.0",
            "_view_name": "StyleView",
            "description_width": ""
          }
        },
        "73f206f8a18e42cca2630b1c3fbbdd17": {
          "model_module": "@jupyter-widgets/controls",
          "model_module_version": "1.5.0",
          "model_name": "DescriptionStyleModel",
          "state": {
            "_model_module": "@jupyter-widgets/controls",
            "_model_module_version": "1.5.0",
            "_model_name": "DescriptionStyleModel",
            "_view_count": null,
            "_view_module": "@jupyter-widgets/base",
            "_view_module_version": "1.2.0",
            "_view_name": "StyleView",
            "description_width": ""
          }
        },
        "7664d4cd39254acfb97b63a3331c8b25": {
          "model_module": "@jupyter-widgets/base",
          "model_module_version": "1.2.0",
          "model_name": "LayoutModel",
          "state": {
            "_model_module": "@jupyter-widgets/base",
            "_model_module_version": "1.2.0",
            "_model_name": "LayoutModel",
            "_view_count": null,
            "_view_module": "@jupyter-widgets/base",
            "_view_module_version": "1.2.0",
            "_view_name": "LayoutView",
            "align_content": null,
            "align_items": null,
            "align_self": null,
            "border": null,
            "bottom": null,
            "display": null,
            "flex": null,
            "flex_flow": null,
            "grid_area": null,
            "grid_auto_columns": null,
            "grid_auto_flow": null,
            "grid_auto_rows": null,
            "grid_column": null,
            "grid_gap": null,
            "grid_row": null,
            "grid_template_areas": null,
            "grid_template_columns": null,
            "grid_template_rows": null,
            "height": null,
            "justify_content": null,
            "justify_items": null,
            "left": null,
            "margin": null,
            "max_height": null,
            "max_width": null,
            "min_height": null,
            "min_width": null,
            "object_fit": null,
            "object_position": null,
            "order": null,
            "overflow": null,
            "overflow_x": null,
            "overflow_y": null,
            "padding": null,
            "right": null,
            "top": null,
            "visibility": null,
            "width": null
          }
        },
        "786d3890c8a74b6b933389a08be4529f": {
          "model_module": "@jupyter-widgets/controls",
          "model_module_version": "1.5.0",
          "model_name": "HTMLModel",
          "state": {
            "_dom_classes": [],
            "_model_module": "@jupyter-widgets/controls",
            "_model_module_version": "1.5.0",
            "_model_name": "HTMLModel",
            "_view_count": null,
            "_view_module": "@jupyter-widgets/controls",
            "_view_module_version": "1.5.0",
            "_view_name": "HTMLView",
            "description": "",
            "description_tooltip": null,
            "layout": "IPY_MODEL_cda1ca853c9c413798584217aa65efb9",
            "placeholder": "​",
            "style": "IPY_MODEL_4796a0a689924d089c229046ba162058",
            "value": " 2/2 [00:00&lt;00:00, 63.85it/s]"
          }
        },
        "7943fc950c1c4b9ab096fa2e50d0da2d": {
          "model_module": "@jupyter-widgets/base",
          "model_module_version": "1.2.0",
          "model_name": "LayoutModel",
          "state": {
            "_model_module": "@jupyter-widgets/base",
            "_model_module_version": "1.2.0",
            "_model_name": "LayoutModel",
            "_view_count": null,
            "_view_module": "@jupyter-widgets/base",
            "_view_module_version": "1.2.0",
            "_view_name": "LayoutView",
            "align_content": null,
            "align_items": null,
            "align_self": null,
            "border": null,
            "bottom": null,
            "display": null,
            "flex": null,
            "flex_flow": null,
            "grid_area": null,
            "grid_auto_columns": null,
            "grid_auto_flow": null,
            "grid_auto_rows": null,
            "grid_column": null,
            "grid_gap": null,
            "grid_row": null,
            "grid_template_areas": null,
            "grid_template_columns": null,
            "grid_template_rows": null,
            "height": null,
            "justify_content": null,
            "justify_items": null,
            "left": null,
            "margin": null,
            "max_height": null,
            "max_width": null,
            "min_height": null,
            "min_width": null,
            "object_fit": null,
            "object_position": null,
            "order": null,
            "overflow": null,
            "overflow_x": null,
            "overflow_y": null,
            "padding": null,
            "right": null,
            "top": null,
            "visibility": null,
            "width": null
          }
        },
        "7a913dfa92e7410f8304bd12b186671e": {
          "model_module": "@jupyter-widgets/controls",
          "model_module_version": "1.5.0",
          "model_name": "ProgressStyleModel",
          "state": {
            "_model_module": "@jupyter-widgets/controls",
            "_model_module_version": "1.5.0",
            "_model_name": "ProgressStyleModel",
            "_view_count": null,
            "_view_module": "@jupyter-widgets/base",
            "_view_module_version": "1.2.0",
            "_view_name": "StyleView",
            "bar_color": null,
            "description_width": ""
          }
        },
        "7b2e3d37cdef4f5282f01745c3b1a0f4": {
          "model_module": "@jupyter-widgets/base",
          "model_module_version": "1.2.0",
          "model_name": "LayoutModel",
          "state": {
            "_model_module": "@jupyter-widgets/base",
            "_model_module_version": "1.2.0",
            "_model_name": "LayoutModel",
            "_view_count": null,
            "_view_module": "@jupyter-widgets/base",
            "_view_module_version": "1.2.0",
            "_view_name": "LayoutView",
            "align_content": null,
            "align_items": null,
            "align_self": null,
            "border": null,
            "bottom": null,
            "display": null,
            "flex": null,
            "flex_flow": null,
            "grid_area": null,
            "grid_auto_columns": null,
            "grid_auto_flow": null,
            "grid_auto_rows": null,
            "grid_column": null,
            "grid_gap": null,
            "grid_row": null,
            "grid_template_areas": null,
            "grid_template_columns": null,
            "grid_template_rows": null,
            "height": null,
            "justify_content": null,
            "justify_items": null,
            "left": null,
            "margin": null,
            "max_height": null,
            "max_width": null,
            "min_height": null,
            "min_width": null,
            "object_fit": null,
            "object_position": null,
            "order": null,
            "overflow": null,
            "overflow_x": null,
            "overflow_y": null,
            "padding": null,
            "right": null,
            "top": null,
            "visibility": null,
            "width": null
          }
        },
        "7b694dd16e54443f8da6af91b1ecd821": {
          "model_module": "@jupyter-widgets/controls",
          "model_module_version": "1.5.0",
          "model_name": "DescriptionStyleModel",
          "state": {
            "_model_module": "@jupyter-widgets/controls",
            "_model_module_version": "1.5.0",
            "_model_name": "DescriptionStyleModel",
            "_view_count": null,
            "_view_module": "@jupyter-widgets/base",
            "_view_module_version": "1.2.0",
            "_view_name": "StyleView",
            "description_width": ""
          }
        },
        "7ba0b13ba0604b26afe63e5dc86e2f1e": {
          "model_module": "@jupyter-widgets/controls",
          "model_module_version": "1.5.0",
          "model_name": "HTMLModel",
          "state": {
            "_dom_classes": [],
            "_model_module": "@jupyter-widgets/controls",
            "_model_module_version": "1.5.0",
            "_model_name": "HTMLModel",
            "_view_count": null,
            "_view_module": "@jupyter-widgets/controls",
            "_view_module_version": "1.5.0",
            "_view_name": "HTMLView",
            "description": "",
            "description_tooltip": null,
            "layout": "IPY_MODEL_c1e0fc4107fb49fe84bb21fd721a8ecb",
            "placeholder": "​",
            "style": "IPY_MODEL_2a011e9f253e4cef8f52f45c110c0295",
            "value": "Downloading: "
          }
        },
        "81e2c1fadd6546b18a39555d44a9ab3c": {
          "model_module": "@jupyter-widgets/controls",
          "model_module_version": "1.5.0",
          "model_name": "HTMLModel",
          "state": {
            "_dom_classes": [],
            "_model_module": "@jupyter-widgets/controls",
            "_model_module_version": "1.5.0",
            "_model_name": "HTMLModel",
            "_view_count": null,
            "_view_module": "@jupyter-widgets/controls",
            "_view_module_version": "1.5.0",
            "_view_name": "HTMLView",
            "description": "",
            "description_tooltip": null,
            "layout": "IPY_MODEL_b5618e9ca055470595027435969b9765",
            "placeholder": "​",
            "style": "IPY_MODEL_14a6810e336a473cbcef56c1b6ed59cf",
            "value": "<center> <img\nsrc=https://huggingface.co/front/assets/huggingface_logo-noborder.svg\nalt='Hugging Face'> <br> Copy a token from <a\nhref=\"https://huggingface.co/settings/tokens\" target=\"_blank\">your Hugging Face\ntokens page</a> and paste it below. <br> Immediately click login after copying\nyour token or it might be stored in plain text in this notebook file. </center>"
          }
        },
        "835cdd92279b4385af6a554c416ee245": {
          "model_module": "@jupyter-widgets/base",
          "model_module_version": "1.2.0",
          "model_name": "LayoutModel",
          "state": {
            "_model_module": "@jupyter-widgets/base",
            "_model_module_version": "1.2.0",
            "_model_name": "LayoutModel",
            "_view_count": null,
            "_view_module": "@jupyter-widgets/base",
            "_view_module_version": "1.2.0",
            "_view_name": "LayoutView",
            "align_content": null,
            "align_items": null,
            "align_self": null,
            "border": null,
            "bottom": null,
            "display": null,
            "flex": null,
            "flex_flow": null,
            "grid_area": null,
            "grid_auto_columns": null,
            "grid_auto_flow": null,
            "grid_auto_rows": null,
            "grid_column": null,
            "grid_gap": null,
            "grid_row": null,
            "grid_template_areas": null,
            "grid_template_columns": null,
            "grid_template_rows": null,
            "height": null,
            "justify_content": null,
            "justify_items": null,
            "left": null,
            "margin": null,
            "max_height": null,
            "max_width": null,
            "min_height": null,
            "min_width": null,
            "object_fit": null,
            "object_position": null,
            "order": null,
            "overflow": null,
            "overflow_x": null,
            "overflow_y": null,
            "padding": null,
            "right": null,
            "top": null,
            "visibility": null,
            "width": null
          }
        },
        "8508560781db49e9971a4e844b77f708": {
          "model_module": "@jupyter-widgets/controls",
          "model_module_version": "1.5.0",
          "model_name": "HBoxModel",
          "state": {
            "_dom_classes": [],
            "_model_module": "@jupyter-widgets/controls",
            "_model_module_version": "1.5.0",
            "_model_name": "HBoxModel",
            "_view_count": null,
            "_view_module": "@jupyter-widgets/controls",
            "_view_module_version": "1.5.0",
            "_view_name": "HBoxView",
            "box_style": "",
            "children": [
              "IPY_MODEL_4ed0f26ff105404bb993127df03bffca",
              "IPY_MODEL_dbd4a1e0b6264c34b87a15b73a522d92",
              "IPY_MODEL_4322229ce14c40288a33afefb4917bdd"
            ],
            "layout": "IPY_MODEL_6a04eddf72594989b95c6a1be64d7f61"
          }
        },
        "8539d6c12248447fa989335fb92a348f": {
          "model_module": "@jupyter-widgets/base",
          "model_module_version": "1.2.0",
          "model_name": "LayoutModel",
          "state": {
            "_model_module": "@jupyter-widgets/base",
            "_model_module_version": "1.2.0",
            "_model_name": "LayoutModel",
            "_view_count": null,
            "_view_module": "@jupyter-widgets/base",
            "_view_module_version": "1.2.0",
            "_view_name": "LayoutView",
            "align_content": null,
            "align_items": null,
            "align_self": null,
            "border": null,
            "bottom": null,
            "display": null,
            "flex": null,
            "flex_flow": null,
            "grid_area": null,
            "grid_auto_columns": null,
            "grid_auto_flow": null,
            "grid_auto_rows": null,
            "grid_column": null,
            "grid_gap": null,
            "grid_row": null,
            "grid_template_areas": null,
            "grid_template_columns": null,
            "grid_template_rows": null,
            "height": null,
            "justify_content": null,
            "justify_items": null,
            "left": null,
            "margin": null,
            "max_height": null,
            "max_width": null,
            "min_height": null,
            "min_width": null,
            "object_fit": null,
            "object_position": null,
            "order": null,
            "overflow": null,
            "overflow_x": null,
            "overflow_y": null,
            "padding": null,
            "right": null,
            "top": null,
            "visibility": null,
            "width": null
          }
        },
        "886c955c22c34282b94a3ee10ebde407": {
          "model_module": "@jupyter-widgets/controls",
          "model_module_version": "1.5.0",
          "model_name": "DescriptionStyleModel",
          "state": {
            "_model_module": "@jupyter-widgets/controls",
            "_model_module_version": "1.5.0",
            "_model_name": "DescriptionStyleModel",
            "_view_count": null,
            "_view_module": "@jupyter-widgets/base",
            "_view_module_version": "1.2.0",
            "_view_name": "StyleView",
            "description_width": ""
          }
        },
        "8980f3e6e202478eb2d2c3874788e466": {
          "model_module": "@jupyter-widgets/controls",
          "model_module_version": "1.5.0",
          "model_name": "DescriptionStyleModel",
          "state": {
            "_model_module": "@jupyter-widgets/controls",
            "_model_module_version": "1.5.0",
            "_model_name": "DescriptionStyleModel",
            "_view_count": null,
            "_view_module": "@jupyter-widgets/base",
            "_view_module_version": "1.2.0",
            "_view_name": "StyleView",
            "description_width": ""
          }
        },
        "8991f9f2abeb49e2bd10caf24403f472": {
          "model_module": "@jupyter-widgets/base",
          "model_module_version": "1.2.0",
          "model_name": "LayoutModel",
          "state": {
            "_model_module": "@jupyter-widgets/base",
            "_model_module_version": "1.2.0",
            "_model_name": "LayoutModel",
            "_view_count": null,
            "_view_module": "@jupyter-widgets/base",
            "_view_module_version": "1.2.0",
            "_view_name": "LayoutView",
            "align_content": null,
            "align_items": null,
            "align_self": null,
            "border": null,
            "bottom": null,
            "display": null,
            "flex": null,
            "flex_flow": null,
            "grid_area": null,
            "grid_auto_columns": null,
            "grid_auto_flow": null,
            "grid_auto_rows": null,
            "grid_column": null,
            "grid_gap": null,
            "grid_row": null,
            "grid_template_areas": null,
            "grid_template_columns": null,
            "grid_template_rows": null,
            "height": null,
            "justify_content": null,
            "justify_items": null,
            "left": null,
            "margin": null,
            "max_height": null,
            "max_width": null,
            "min_height": null,
            "min_width": null,
            "object_fit": null,
            "object_position": null,
            "order": null,
            "overflow": null,
            "overflow_x": null,
            "overflow_y": null,
            "padding": null,
            "right": null,
            "top": null,
            "visibility": null,
            "width": null
          }
        },
        "89e51090498545259c216a5a1b59072f": {
          "model_module": "@jupyter-widgets/base",
          "model_module_version": "1.2.0",
          "model_name": "LayoutModel",
          "state": {
            "_model_module": "@jupyter-widgets/base",
            "_model_module_version": "1.2.0",
            "_model_name": "LayoutModel",
            "_view_count": null,
            "_view_module": "@jupyter-widgets/base",
            "_view_module_version": "1.2.0",
            "_view_name": "LayoutView",
            "align_content": null,
            "align_items": null,
            "align_self": null,
            "border": null,
            "bottom": null,
            "display": null,
            "flex": null,
            "flex_flow": null,
            "grid_area": null,
            "grid_auto_columns": null,
            "grid_auto_flow": null,
            "grid_auto_rows": null,
            "grid_column": null,
            "grid_gap": null,
            "grid_row": null,
            "grid_template_areas": null,
            "grid_template_columns": null,
            "grid_template_rows": null,
            "height": null,
            "justify_content": null,
            "justify_items": null,
            "left": null,
            "margin": null,
            "max_height": null,
            "max_width": null,
            "min_height": null,
            "min_width": null,
            "object_fit": null,
            "object_position": null,
            "order": null,
            "overflow": null,
            "overflow_x": null,
            "overflow_y": null,
            "padding": null,
            "right": null,
            "top": null,
            "visibility": null,
            "width": null
          }
        },
        "8a07f08956924a38b2a57f70b0fbeead": {
          "model_module": "@jupyter-widgets/controls",
          "model_module_version": "1.5.0",
          "model_name": "HTMLModel",
          "state": {
            "_dom_classes": [],
            "_model_module": "@jupyter-widgets/controls",
            "_model_module_version": "1.5.0",
            "_model_name": "HTMLModel",
            "_view_count": null,
            "_view_module": "@jupyter-widgets/controls",
            "_view_module_version": "1.5.0",
            "_view_name": "HTMLView",
            "description": "",
            "description_tooltip": null,
            "layout": "IPY_MODEL_33d85e2daf4e45e48d1eb5dbf86cd4b6",
            "placeholder": "​",
            "style": "IPY_MODEL_05de8b07f5a54cdaabb7ad3de4a032b3",
            "value": " 363M/363M [00:22&lt;00:00, 13.8MB/s]"
          }
        },
        "8ba99977f5d64f69820c6cb91020848c": {
          "model_module": "@jupyter-widgets/controls",
          "model_module_version": "1.5.0",
          "model_name": "DescriptionStyleModel",
          "state": {
            "_model_module": "@jupyter-widgets/controls",
            "_model_module_version": "1.5.0",
            "_model_name": "DescriptionStyleModel",
            "_view_count": null,
            "_view_module": "@jupyter-widgets/base",
            "_view_module_version": "1.2.0",
            "_view_name": "StyleView",
            "description_width": ""
          }
        },
        "8d544fd2a20e410887d14bed2c1abf66": {
          "model_module": "@jupyter-widgets/controls",
          "model_module_version": "1.5.0",
          "model_name": "HTMLModel",
          "state": {
            "_dom_classes": [],
            "_model_module": "@jupyter-widgets/controls",
            "_model_module_version": "1.5.0",
            "_model_name": "HTMLModel",
            "_view_count": null,
            "_view_module": "@jupyter-widgets/controls",
            "_view_module_version": "1.5.0",
            "_view_name": "HTMLView",
            "description": "",
            "description_tooltip": null,
            "layout": "IPY_MODEL_a7184f5b92f0441fa10120fde326efb4",
            "placeholder": "​",
            "style": "IPY_MODEL_70723978a71b47969d9952bcef9c2a0d",
            "value": "100%"
          }
        },
        "8da462790a6d4fbb9251290bd9ee14f0": {
          "model_module": "@jupyter-widgets/base",
          "model_module_version": "1.2.0",
          "model_name": "LayoutModel",
          "state": {
            "_model_module": "@jupyter-widgets/base",
            "_model_module_version": "1.2.0",
            "_model_name": "LayoutModel",
            "_view_count": null,
            "_view_module": "@jupyter-widgets/base",
            "_view_module_version": "1.2.0",
            "_view_name": "LayoutView",
            "align_content": null,
            "align_items": null,
            "align_self": null,
            "border": null,
            "bottom": null,
            "display": null,
            "flex": null,
            "flex_flow": null,
            "grid_area": null,
            "grid_auto_columns": null,
            "grid_auto_flow": null,
            "grid_auto_rows": null,
            "grid_column": null,
            "grid_gap": null,
            "grid_row": null,
            "grid_template_areas": null,
            "grid_template_columns": null,
            "grid_template_rows": null,
            "height": null,
            "justify_content": null,
            "justify_items": null,
            "left": null,
            "margin": null,
            "max_height": null,
            "max_width": null,
            "min_height": null,
            "min_width": null,
            "object_fit": null,
            "object_position": null,
            "order": null,
            "overflow": null,
            "overflow_x": null,
            "overflow_y": null,
            "padding": null,
            "right": null,
            "top": null,
            "visibility": null,
            "width": null
          }
        },
        "90bb8035c7b745088e6f69368e770224": {
          "model_module": "@jupyter-widgets/controls",
          "model_module_version": "1.5.0",
          "model_name": "HTMLModel",
          "state": {
            "_dom_classes": [],
            "_model_module": "@jupyter-widgets/controls",
            "_model_module_version": "1.5.0",
            "_model_name": "HTMLModel",
            "_view_count": null,
            "_view_module": "@jupyter-widgets/controls",
            "_view_module_version": "1.5.0",
            "_view_name": "HTMLView",
            "description": "",
            "description_tooltip": null,
            "layout": "IPY_MODEL_d7934693aa974d6781b84f71bac59e71",
            "placeholder": "​",
            "style": "IPY_MODEL_cc4dd57866ff4080913e33d0b1cf49af",
            "value": ""
          }
        },
        "91190c7d6c7b460cb028183cf51bb1c1": {
          "model_module": "@jupyter-widgets/controls",
          "model_module_version": "1.5.0",
          "model_name": "ProgressStyleModel",
          "state": {
            "_model_module": "@jupyter-widgets/controls",
            "_model_module_version": "1.5.0",
            "_model_name": "ProgressStyleModel",
            "_view_count": null,
            "_view_module": "@jupyter-widgets/base",
            "_view_module_version": "1.2.0",
            "_view_name": "StyleView",
            "bar_color": null,
            "description_width": ""
          }
        },
        "9424cc47106a455ab18c0870d046ce9f": {
          "model_module": "@jupyter-widgets/controls",
          "model_module_version": "1.5.0",
          "model_name": "HTMLModel",
          "state": {
            "_dom_classes": [],
            "_model_module": "@jupyter-widgets/controls",
            "_model_module_version": "1.5.0",
            "_model_name": "HTMLModel",
            "_view_count": null,
            "_view_module": "@jupyter-widgets/controls",
            "_view_module_version": "1.5.0",
            "_view_name": "HTMLView",
            "description": "",
            "description_tooltip": null,
            "layout": "IPY_MODEL_090847f7912e496fbc1ef8673674c1ed",
            "placeholder": "​",
            "style": "IPY_MODEL_15e195a2c3044feababc62304301f14f",
            "value": "Downloading: 100%"
          }
        },
        "96fb47902431425f86a6a5ab760c92d3": {
          "model_module": "@jupyter-widgets/controls",
          "model_module_version": "1.5.0",
          "model_name": "HBoxModel",
          "state": {
            "_dom_classes": [],
            "_model_module": "@jupyter-widgets/controls",
            "_model_module_version": "1.5.0",
            "_model_name": "HBoxModel",
            "_view_count": null,
            "_view_module": "@jupyter-widgets/controls",
            "_view_module_version": "1.5.0",
            "_view_name": "HBoxView",
            "box_style": "",
            "children": [
              "IPY_MODEL_4d26ca1886f0449ea7bd6b4c8de7ab24",
              "IPY_MODEL_e610d02445bd4e5e9b4783658f058147",
              "IPY_MODEL_8a07f08956924a38b2a57f70b0fbeead"
            ],
            "layout": "IPY_MODEL_39a54ded218f48048321c604eece88d9"
          }
        },
        "97b1d29fb759427b9a3ced885b12c49b": {
          "model_module": "@jupyter-widgets/controls",
          "model_module_version": "1.5.0",
          "model_name": "CheckboxModel",
          "state": {
            "_dom_classes": [],
            "_model_module": "@jupyter-widgets/controls",
            "_model_module_version": "1.5.0",
            "_model_name": "CheckboxModel",
            "_view_count": null,
            "_view_module": "@jupyter-widgets/controls",
            "_view_module_version": "1.5.0",
            "_view_name": "CheckboxView",
            "description": "Add token as git credential?",
            "description_tooltip": null,
            "disabled": false,
            "indent": true,
            "layout": "IPY_MODEL_dba9c380625243a6a7f90c8914ff9455",
            "style": "IPY_MODEL_f30802e504624b37b3c4a469c5ecaef2",
            "value": true
          }
        },
        "9a2fe7c5597647e881612cd18a8467b1": {
          "model_module": "@jupyter-widgets/controls",
          "model_module_version": "1.5.0",
          "model_name": "ProgressStyleModel",
          "state": {
            "_model_module": "@jupyter-widgets/controls",
            "_model_module_version": "1.5.0",
            "_model_name": "ProgressStyleModel",
            "_view_count": null,
            "_view_module": "@jupyter-widgets/base",
            "_view_module_version": "1.2.0",
            "_view_name": "StyleView",
            "bar_color": null,
            "description_width": ""
          }
        },
        "a3f2cbce0fc0419191259ba1735ffa94": {
          "model_module": "@jupyter-widgets/controls",
          "model_module_version": "1.5.0",
          "model_name": "DescriptionStyleModel",
          "state": {
            "_model_module": "@jupyter-widgets/controls",
            "_model_module_version": "1.5.0",
            "_model_name": "DescriptionStyleModel",
            "_view_count": null,
            "_view_module": "@jupyter-widgets/base",
            "_view_module_version": "1.2.0",
            "_view_name": "StyleView",
            "description_width": ""
          }
        },
        "a7184f5b92f0441fa10120fde326efb4": {
          "model_module": "@jupyter-widgets/base",
          "model_module_version": "1.2.0",
          "model_name": "LayoutModel",
          "state": {
            "_model_module": "@jupyter-widgets/base",
            "_model_module_version": "1.2.0",
            "_model_name": "LayoutModel",
            "_view_count": null,
            "_view_module": "@jupyter-widgets/base",
            "_view_module_version": "1.2.0",
            "_view_name": "LayoutView",
            "align_content": null,
            "align_items": null,
            "align_self": null,
            "border": null,
            "bottom": null,
            "display": null,
            "flex": null,
            "flex_flow": null,
            "grid_area": null,
            "grid_auto_columns": null,
            "grid_auto_flow": null,
            "grid_auto_rows": null,
            "grid_column": null,
            "grid_gap": null,
            "grid_row": null,
            "grid_template_areas": null,
            "grid_template_columns": null,
            "grid_template_rows": null,
            "height": null,
            "justify_content": null,
            "justify_items": null,
            "left": null,
            "margin": null,
            "max_height": null,
            "max_width": null,
            "min_height": null,
            "min_width": null,
            "object_fit": null,
            "object_position": null,
            "order": null,
            "overflow": null,
            "overflow_x": null,
            "overflow_y": null,
            "padding": null,
            "right": null,
            "top": null,
            "visibility": null,
            "width": null
          }
        },
        "a7e5e39c8be1422fb1e47567857d681d": {
          "model_module": "@jupyter-widgets/controls",
          "model_module_version": "1.5.0",
          "model_name": "HBoxModel",
          "state": {
            "_dom_classes": [],
            "_model_module": "@jupyter-widgets/controls",
            "_model_module_version": "1.5.0",
            "_model_name": "HBoxModel",
            "_view_count": null,
            "_view_module": "@jupyter-widgets/controls",
            "_view_module_version": "1.5.0",
            "_view_name": "HBoxView",
            "box_style": "",
            "children": [
              "IPY_MODEL_90bb8035c7b745088e6f69368e770224",
              "IPY_MODEL_ac756dc57a4748b8b29e490186774de6",
              "IPY_MODEL_6875e568704e45648e7230c0fe52ffb8"
            ],
            "layout": "IPY_MODEL_cfddbf192a4948c5a35d9c9c28227969"
          }
        },
        "a84b851075bf4773a463ed24a2f3eb24": {
          "model_module": "@jupyter-widgets/controls",
          "model_module_version": "1.5.0",
          "model_name": "HTMLModel",
          "state": {
            "_dom_classes": [],
            "_model_module": "@jupyter-widgets/controls",
            "_model_module_version": "1.5.0",
            "_model_name": "HTMLModel",
            "_view_count": null,
            "_view_module": "@jupyter-widgets/controls",
            "_view_module_version": "1.5.0",
            "_view_name": "HTMLView",
            "description": "",
            "description_tooltip": null,
            "layout": "IPY_MODEL_2ca52ebaf2be48d5a4b8b4138906be85",
            "placeholder": "​",
            "style": "IPY_MODEL_7317708554854b4fb5c2ee08e0f4f894",
            "value": " 2.64k/? [00:00&lt;00:00, 116kB/s]"
          }
        },
        "ab4a2cca2b404d25b2cda485c7c28077": {
          "model_module": "@jupyter-widgets/controls",
          "model_module_version": "1.5.0",
          "model_name": "FloatProgressModel",
          "state": {
            "_dom_classes": [],
            "_model_module": "@jupyter-widgets/controls",
            "_model_module_version": "1.5.0",
            "_model_name": "FloatProgressModel",
            "_view_count": null,
            "_view_module": "@jupyter-widgets/controls",
            "_view_module_version": "1.5.0",
            "_view_name": "ProgressView",
            "bar_style": "success",
            "description": "",
            "description_tooltip": null,
            "layout": "IPY_MODEL_da8639f433da4cefa2affd438ac18c89",
            "max": 1901,
            "min": 0,
            "orientation": "horizontal",
            "style": "IPY_MODEL_f4cfe55a73c141ef9b751d0db992d3cf",
            "value": 1901
          }
        },
        "abd948814c014a9eb6d68529c3590e92": {
          "model_module": "@jupyter-widgets/base",
          "model_module_version": "1.2.0",
          "model_name": "LayoutModel",
          "state": {
            "_model_module": "@jupyter-widgets/base",
            "_model_module_version": "1.2.0",
            "_model_name": "LayoutModel",
            "_view_count": null,
            "_view_module": "@jupyter-widgets/base",
            "_view_module_version": "1.2.0",
            "_view_name": "LayoutView",
            "align_content": null,
            "align_items": null,
            "align_self": null,
            "border": null,
            "bottom": null,
            "display": null,
            "flex": null,
            "flex_flow": null,
            "grid_area": null,
            "grid_auto_columns": null,
            "grid_auto_flow": null,
            "grid_auto_rows": null,
            "grid_column": null,
            "grid_gap": null,
            "grid_row": null,
            "grid_template_areas": null,
            "grid_template_columns": null,
            "grid_template_rows": null,
            "height": null,
            "justify_content": null,
            "justify_items": null,
            "left": null,
            "margin": null,
            "max_height": null,
            "max_width": null,
            "min_height": null,
            "min_width": null,
            "object_fit": null,
            "object_position": null,
            "order": null,
            "overflow": null,
            "overflow_x": null,
            "overflow_y": null,
            "padding": null,
            "right": null,
            "top": null,
            "visibility": null,
            "width": null
          }
        },
        "ac756dc57a4748b8b29e490186774de6": {
          "model_module": "@jupyter-widgets/controls",
          "model_module_version": "1.5.0",
          "model_name": "FloatProgressModel",
          "state": {
            "_dom_classes": [],
            "_model_module": "@jupyter-widgets/controls",
            "_model_module_version": "1.5.0",
            "_model_name": "FloatProgressModel",
            "_view_count": null,
            "_view_module": "@jupyter-widgets/controls",
            "_view_module_version": "1.5.0",
            "_view_name": "ProgressView",
            "bar_style": "info",
            "description": "",
            "description_tooltip": null,
            "layout": "IPY_MODEL_d42cbd433408441ead2be0400c5d97c7",
            "max": 1,
            "min": 0,
            "orientation": "horizontal",
            "style": "IPY_MODEL_3cbbf50821414139bf7924b2a66912ba",
            "value": 1
          }
        },
        "ac7622d9634c46db895530963f553494": {
          "model_module": "@jupyter-widgets/controls",
          "model_module_version": "1.5.0",
          "model_name": "ProgressStyleModel",
          "state": {
            "_model_module": "@jupyter-widgets/controls",
            "_model_module_version": "1.5.0",
            "_model_name": "ProgressStyleModel",
            "_view_count": null,
            "_view_module": "@jupyter-widgets/base",
            "_view_module_version": "1.2.0",
            "_view_name": "StyleView",
            "bar_color": null,
            "description_width": ""
          }
        },
        "adc1d50d41744b49bb5dfb3a4f5aa770": {
          "model_module": "@jupyter-widgets/controls",
          "model_module_version": "1.5.0",
          "model_name": "FloatProgressModel",
          "state": {
            "_dom_classes": [],
            "_model_module": "@jupyter-widgets/controls",
            "_model_module_version": "1.5.0",
            "_model_name": "FloatProgressModel",
            "_view_count": null,
            "_view_module": "@jupyter-widgets/controls",
            "_view_module_version": "1.5.0",
            "_view_name": "ProgressView",
            "bar_style": "info",
            "description": "",
            "description_tooltip": null,
            "layout": "IPY_MODEL_c705539579af4dd890312dc6eca591ac",
            "max": 1,
            "min": 0,
            "orientation": "horizontal",
            "style": "IPY_MODEL_adfa07960f1243a78e890a968155eac5",
            "value": 1
          }
        },
        "adfa07960f1243a78e890a968155eac5": {
          "model_module": "@jupyter-widgets/controls",
          "model_module_version": "1.5.0",
          "model_name": "ProgressStyleModel",
          "state": {
            "_model_module": "@jupyter-widgets/controls",
            "_model_module_version": "1.5.0",
            "_model_name": "ProgressStyleModel",
            "_view_count": null,
            "_view_module": "@jupyter-widgets/base",
            "_view_module_version": "1.2.0",
            "_view_name": "StyleView",
            "bar_color": null,
            "description_width": ""
          }
        },
        "ae02bea4efb44660aa5718e913f38d1d": {
          "model_module": "@jupyter-widgets/controls",
          "model_module_version": "1.5.0",
          "model_name": "DescriptionStyleModel",
          "state": {
            "_model_module": "@jupyter-widgets/controls",
            "_model_module_version": "1.5.0",
            "_model_name": "DescriptionStyleModel",
            "_view_count": null,
            "_view_module": "@jupyter-widgets/base",
            "_view_module_version": "1.2.0",
            "_view_name": "StyleView",
            "description_width": ""
          }
        },
        "ae9d87d903c4420db700f043fe197154": {
          "model_module": "@jupyter-widgets/controls",
          "model_module_version": "1.5.0",
          "model_name": "DescriptionStyleModel",
          "state": {
            "_model_module": "@jupyter-widgets/controls",
            "_model_module_version": "1.5.0",
            "_model_name": "DescriptionStyleModel",
            "_view_count": null,
            "_view_module": "@jupyter-widgets/base",
            "_view_module_version": "1.2.0",
            "_view_name": "StyleView",
            "description_width": ""
          }
        },
        "b04e77f560024855b050ec5d48d8a26c": {
          "model_module": "@jupyter-widgets/controls",
          "model_module_version": "1.5.0",
          "model_name": "FloatProgressModel",
          "state": {
            "_dom_classes": [],
            "_model_module": "@jupyter-widgets/controls",
            "_model_module_version": "1.5.0",
            "_model_name": "FloatProgressModel",
            "_view_count": null,
            "_view_module": "@jupyter-widgets/controls",
            "_view_module_version": "1.5.0",
            "_view_name": "ProgressView",
            "bar_style": "success",
            "description": "",
            "description_tooltip": null,
            "layout": "IPY_MODEL_280663ff96ce499aa0cb7bca67f59a85",
            "max": 2,
            "min": 0,
            "orientation": "horizontal",
            "style": "IPY_MODEL_9a2fe7c5597647e881612cd18a8467b1",
            "value": 2
          }
        },
        "b2310446607e44f5b8e38862581b510a": {
          "model_module": "@jupyter-widgets/base",
          "model_module_version": "1.2.0",
          "model_name": "LayoutModel",
          "state": {
            "_model_module": "@jupyter-widgets/base",
            "_model_module_version": "1.2.0",
            "_model_name": "LayoutModel",
            "_view_count": null,
            "_view_module": "@jupyter-widgets/base",
            "_view_module_version": "1.2.0",
            "_view_name": "LayoutView",
            "align_content": null,
            "align_items": null,
            "align_self": null,
            "border": null,
            "bottom": null,
            "display": null,
            "flex": null,
            "flex_flow": null,
            "grid_area": null,
            "grid_auto_columns": null,
            "grid_auto_flow": null,
            "grid_auto_rows": null,
            "grid_column": null,
            "grid_gap": null,
            "grid_row": null,
            "grid_template_areas": null,
            "grid_template_columns": null,
            "grid_template_rows": null,
            "height": null,
            "justify_content": null,
            "justify_items": null,
            "left": null,
            "margin": null,
            "max_height": null,
            "max_width": null,
            "min_height": null,
            "min_width": null,
            "object_fit": null,
            "object_position": null,
            "order": null,
            "overflow": null,
            "overflow_x": null,
            "overflow_y": null,
            "padding": null,
            "right": null,
            "top": null,
            "visibility": null,
            "width": null
          }
        },
        "b27cb4080cb642739729fed51ee8c3ad": {
          "model_module": "@jupyter-widgets/base",
          "model_module_version": "1.2.0",
          "model_name": "LayoutModel",
          "state": {
            "_model_module": "@jupyter-widgets/base",
            "_model_module_version": "1.2.0",
            "_model_name": "LayoutModel",
            "_view_count": null,
            "_view_module": "@jupyter-widgets/base",
            "_view_module_version": "1.2.0",
            "_view_name": "LayoutView",
            "align_content": null,
            "align_items": null,
            "align_self": null,
            "border": null,
            "bottom": null,
            "display": null,
            "flex": null,
            "flex_flow": null,
            "grid_area": null,
            "grid_auto_columns": null,
            "grid_auto_flow": null,
            "grid_auto_rows": null,
            "grid_column": null,
            "grid_gap": null,
            "grid_row": null,
            "grid_template_areas": null,
            "grid_template_columns": null,
            "grid_template_rows": null,
            "height": null,
            "justify_content": null,
            "justify_items": null,
            "left": null,
            "margin": null,
            "max_height": null,
            "max_width": null,
            "min_height": null,
            "min_width": null,
            "object_fit": null,
            "object_position": null,
            "order": null,
            "overflow": null,
            "overflow_x": null,
            "overflow_y": null,
            "padding": null,
            "right": null,
            "top": null,
            "visibility": null,
            "width": null
          }
        },
        "b51bb202d2214ff28d2a4cd7216443a7": {
          "model_module": "@jupyter-widgets/base",
          "model_module_version": "1.2.0",
          "model_name": "LayoutModel",
          "state": {
            "_model_module": "@jupyter-widgets/base",
            "_model_module_version": "1.2.0",
            "_model_name": "LayoutModel",
            "_view_count": null,
            "_view_module": "@jupyter-widgets/base",
            "_view_module_version": "1.2.0",
            "_view_name": "LayoutView",
            "align_content": null,
            "align_items": null,
            "align_self": null,
            "border": null,
            "bottom": null,
            "display": null,
            "flex": null,
            "flex_flow": null,
            "grid_area": null,
            "grid_auto_columns": null,
            "grid_auto_flow": null,
            "grid_auto_rows": null,
            "grid_column": null,
            "grid_gap": null,
            "grid_row": null,
            "grid_template_areas": null,
            "grid_template_columns": null,
            "grid_template_rows": null,
            "height": null,
            "justify_content": null,
            "justify_items": null,
            "left": null,
            "margin": null,
            "max_height": null,
            "max_width": null,
            "min_height": null,
            "min_width": null,
            "object_fit": null,
            "object_position": null,
            "order": null,
            "overflow": null,
            "overflow_x": null,
            "overflow_y": null,
            "padding": null,
            "right": null,
            "top": null,
            "visibility": null,
            "width": null
          }
        },
        "b55fea5b10694c8cb1aa93622170ff8c": {
          "model_module": "@jupyter-widgets/base",
          "model_module_version": "1.2.0",
          "model_name": "LayoutModel",
          "state": {
            "_model_module": "@jupyter-widgets/base",
            "_model_module_version": "1.2.0",
            "_model_name": "LayoutModel",
            "_view_count": null,
            "_view_module": "@jupyter-widgets/base",
            "_view_module_version": "1.2.0",
            "_view_name": "LayoutView",
            "align_content": null,
            "align_items": null,
            "align_self": null,
            "border": null,
            "bottom": null,
            "display": null,
            "flex": null,
            "flex_flow": null,
            "grid_area": null,
            "grid_auto_columns": null,
            "grid_auto_flow": null,
            "grid_auto_rows": null,
            "grid_column": null,
            "grid_gap": null,
            "grid_row": null,
            "grid_template_areas": null,
            "grid_template_columns": null,
            "grid_template_rows": null,
            "height": null,
            "justify_content": null,
            "justify_items": null,
            "left": null,
            "margin": null,
            "max_height": null,
            "max_width": null,
            "min_height": null,
            "min_width": null,
            "object_fit": null,
            "object_position": null,
            "order": null,
            "overflow": null,
            "overflow_x": null,
            "overflow_y": null,
            "padding": null,
            "right": null,
            "top": null,
            "visibility": null,
            "width": null
          }
        },
        "b5618e9ca055470595027435969b9765": {
          "model_module": "@jupyter-widgets/base",
          "model_module_version": "1.2.0",
          "model_name": "LayoutModel",
          "state": {
            "_model_module": "@jupyter-widgets/base",
            "_model_module_version": "1.2.0",
            "_model_name": "LayoutModel",
            "_view_count": null,
            "_view_module": "@jupyter-widgets/base",
            "_view_module_version": "1.2.0",
            "_view_name": "LayoutView",
            "align_content": null,
            "align_items": null,
            "align_self": null,
            "border": null,
            "bottom": null,
            "display": null,
            "flex": null,
            "flex_flow": null,
            "grid_area": null,
            "grid_auto_columns": null,
            "grid_auto_flow": null,
            "grid_auto_rows": null,
            "grid_column": null,
            "grid_gap": null,
            "grid_row": null,
            "grid_template_areas": null,
            "grid_template_columns": null,
            "grid_template_rows": null,
            "height": null,
            "justify_content": null,
            "justify_items": null,
            "left": null,
            "margin": null,
            "max_height": null,
            "max_width": null,
            "min_height": null,
            "min_width": null,
            "object_fit": null,
            "object_position": null,
            "order": null,
            "overflow": null,
            "overflow_x": null,
            "overflow_y": null,
            "padding": null,
            "right": null,
            "top": null,
            "visibility": null,
            "width": null
          }
        },
        "b59ba6565a464d1ba9b09b978cc679dd": {
          "model_module": "@jupyter-widgets/base",
          "model_module_version": "1.2.0",
          "model_name": "LayoutModel",
          "state": {
            "_model_module": "@jupyter-widgets/base",
            "_model_module_version": "1.2.0",
            "_model_name": "LayoutModel",
            "_view_count": null,
            "_view_module": "@jupyter-widgets/base",
            "_view_module_version": "1.2.0",
            "_view_name": "LayoutView",
            "align_content": null,
            "align_items": null,
            "align_self": null,
            "border": null,
            "bottom": null,
            "display": null,
            "flex": null,
            "flex_flow": null,
            "grid_area": null,
            "grid_auto_columns": null,
            "grid_auto_flow": null,
            "grid_auto_rows": null,
            "grid_column": null,
            "grid_gap": null,
            "grid_row": null,
            "grid_template_areas": null,
            "grid_template_columns": null,
            "grid_template_rows": null,
            "height": null,
            "justify_content": null,
            "justify_items": null,
            "left": null,
            "margin": null,
            "max_height": null,
            "max_width": null,
            "min_height": null,
            "min_width": null,
            "object_fit": null,
            "object_position": null,
            "order": null,
            "overflow": null,
            "overflow_x": null,
            "overflow_y": null,
            "padding": null,
            "right": null,
            "top": null,
            "visibility": null,
            "width": null
          }
        },
        "b85b4466791b4764ab4ef51f90281e9f": {
          "model_module": "@jupyter-widgets/controls",
          "model_module_version": "1.5.0",
          "model_name": "DescriptionStyleModel",
          "state": {
            "_model_module": "@jupyter-widgets/controls",
            "_model_module_version": "1.5.0",
            "_model_name": "DescriptionStyleModel",
            "_view_count": null,
            "_view_module": "@jupyter-widgets/base",
            "_view_module_version": "1.2.0",
            "_view_name": "StyleView",
            "description_width": ""
          }
        },
        "b8c9bc669d8c4651882c214aafb0548e": {
          "model_module": "@jupyter-widgets/controls",
          "model_module_version": "1.5.0",
          "model_name": "FloatProgressModel",
          "state": {
            "_dom_classes": [],
            "_model_module": "@jupyter-widgets/controls",
            "_model_module_version": "1.5.0",
            "_model_name": "FloatProgressModel",
            "_view_count": null,
            "_view_module": "@jupyter-widgets/controls",
            "_view_module_version": "1.5.0",
            "_view_name": "ProgressView",
            "bar_style": "success",
            "description": "",
            "description_tooltip": null,
            "layout": "IPY_MODEL_667cac3e3c364fed95c9d4cd30ec2466",
            "max": 869007403,
            "min": 0,
            "orientation": "horizontal",
            "style": "IPY_MODEL_43c07bbb17534fa9932770d689dc821b",
            "value": 869007403
          }
        },
        "b92aa97e7bf4400c8e1314fd9cd6360c": {
          "model_module": "@jupyter-widgets/base",
          "model_module_version": "1.2.0",
          "model_name": "LayoutModel",
          "state": {
            "_model_module": "@jupyter-widgets/base",
            "_model_module_version": "1.2.0",
            "_model_name": "LayoutModel",
            "_view_count": null,
            "_view_module": "@jupyter-widgets/base",
            "_view_module_version": "1.2.0",
            "_view_name": "LayoutView",
            "align_content": null,
            "align_items": null,
            "align_self": null,
            "border": null,
            "bottom": null,
            "display": null,
            "flex": null,
            "flex_flow": null,
            "grid_area": null,
            "grid_auto_columns": null,
            "grid_auto_flow": null,
            "grid_auto_rows": null,
            "grid_column": null,
            "grid_gap": null,
            "grid_row": null,
            "grid_template_areas": null,
            "grid_template_columns": null,
            "grid_template_rows": null,
            "height": null,
            "justify_content": null,
            "justify_items": null,
            "left": null,
            "margin": null,
            "max_height": null,
            "max_width": null,
            "min_height": null,
            "min_width": null,
            "object_fit": null,
            "object_position": null,
            "order": null,
            "overflow": null,
            "overflow_x": null,
            "overflow_y": null,
            "padding": null,
            "right": null,
            "top": null,
            "visibility": null,
            "width": null
          }
        },
        "b9f5fab4eb65486abec1e0d85c8682d8": {
          "model_module": "@jupyter-widgets/controls",
          "model_module_version": "1.5.0",
          "model_name": "HTMLModel",
          "state": {
            "_dom_classes": [],
            "_model_module": "@jupyter-widgets/controls",
            "_model_module_version": "1.5.0",
            "_model_name": "HTMLModel",
            "_view_count": null,
            "_view_module": "@jupyter-widgets/controls",
            "_view_module_version": "1.5.0",
            "_view_name": "HTMLView",
            "description": "",
            "description_tooltip": null,
            "layout": "IPY_MODEL_7943fc950c1c4b9ab096fa2e50d0da2d",
            "placeholder": "​",
            "style": "IPY_MODEL_886c955c22c34282b94a3ee10ebde407",
            "value": " 1/1 [00:00&lt;00:00, 21.75ba/s]"
          }
        },
        "bb8774b67f884f6b8377a496b5c4a151": {
          "model_module": "@jupyter-widgets/base",
          "model_module_version": "1.2.0",
          "model_name": "LayoutModel",
          "state": {
            "_model_module": "@jupyter-widgets/base",
            "_model_module_version": "1.2.0",
            "_model_name": "LayoutModel",
            "_view_count": null,
            "_view_module": "@jupyter-widgets/base",
            "_view_module_version": "1.2.0",
            "_view_name": "LayoutView",
            "align_content": null,
            "align_items": null,
            "align_self": null,
            "border": null,
            "bottom": null,
            "display": null,
            "flex": null,
            "flex_flow": null,
            "grid_area": null,
            "grid_auto_columns": null,
            "grid_auto_flow": null,
            "grid_auto_rows": null,
            "grid_column": null,
            "grid_gap": null,
            "grid_row": null,
            "grid_template_areas": null,
            "grid_template_columns": null,
            "grid_template_rows": null,
            "height": null,
            "justify_content": null,
            "justify_items": null,
            "left": null,
            "margin": null,
            "max_height": null,
            "max_width": null,
            "min_height": null,
            "min_width": null,
            "object_fit": null,
            "object_position": null,
            "order": null,
            "overflow": null,
            "overflow_x": null,
            "overflow_y": null,
            "padding": null,
            "right": null,
            "top": null,
            "visibility": null,
            "width": null
          }
        },
        "bd7dad24d5d34edd9409e44ae87b888c": {
          "model_module": "@jupyter-widgets/controls",
          "model_module_version": "1.5.0",
          "model_name": "DescriptionStyleModel",
          "state": {
            "_model_module": "@jupyter-widgets/controls",
            "_model_module_version": "1.5.0",
            "_model_name": "DescriptionStyleModel",
            "_view_count": null,
            "_view_module": "@jupyter-widgets/base",
            "_view_module_version": "1.2.0",
            "_view_name": "StyleView",
            "description_width": ""
          }
        },
        "bd85d28cc40142998b42434a705de501": {
          "model_module": "@jupyter-widgets/base",
          "model_module_version": "1.2.0",
          "model_name": "LayoutModel",
          "state": {
            "_model_module": "@jupyter-widgets/base",
            "_model_module_version": "1.2.0",
            "_model_name": "LayoutModel",
            "_view_count": null,
            "_view_module": "@jupyter-widgets/base",
            "_view_module_version": "1.2.0",
            "_view_name": "LayoutView",
            "align_content": null,
            "align_items": null,
            "align_self": null,
            "border": null,
            "bottom": null,
            "display": null,
            "flex": null,
            "flex_flow": null,
            "grid_area": null,
            "grid_auto_columns": null,
            "grid_auto_flow": null,
            "grid_auto_rows": null,
            "grid_column": null,
            "grid_gap": null,
            "grid_row": null,
            "grid_template_areas": null,
            "grid_template_columns": null,
            "grid_template_rows": null,
            "height": null,
            "justify_content": null,
            "justify_items": null,
            "left": null,
            "margin": null,
            "max_height": null,
            "max_width": null,
            "min_height": null,
            "min_width": null,
            "object_fit": null,
            "object_position": null,
            "order": null,
            "overflow": null,
            "overflow_x": null,
            "overflow_y": null,
            "padding": null,
            "right": null,
            "top": null,
            "visibility": null,
            "width": "20px"
          }
        },
        "bd9b680e32fc41708cc2024a2f40c89d": {
          "model_module": "@jupyter-widgets/controls",
          "model_module_version": "1.5.0",
          "model_name": "HTMLModel",
          "state": {
            "_dom_classes": [],
            "_model_module": "@jupyter-widgets/controls",
            "_model_module_version": "1.5.0",
            "_model_name": "HTMLModel",
            "_view_count": null,
            "_view_module": "@jupyter-widgets/controls",
            "_view_module_version": "1.5.0",
            "_view_name": "HTMLView",
            "description": "",
            "description_tooltip": null,
            "layout": "IPY_MODEL_225e6afb5c154fe6b3a1b1279287cb85",
            "placeholder": "​",
            "style": "IPY_MODEL_f5ae3c942bf644c0affadca9a6e6d59b",
            "value": "100%"
          }
        },
        "bf4e5b43dc36490eb26b5868233c8325": {
          "model_module": "@jupyter-widgets/controls",
          "model_module_version": "1.5.0",
          "model_name": "FloatProgressModel",
          "state": {
            "_dom_classes": [],
            "_model_module": "@jupyter-widgets/controls",
            "_model_module_version": "1.5.0",
            "_model_name": "FloatProgressModel",
            "_view_count": null,
            "_view_module": "@jupyter-widgets/controls",
            "_view_module_version": "1.5.0",
            "_view_name": "ProgressView",
            "bar_style": "success",
            "description": "",
            "description_tooltip": null,
            "layout": "IPY_MODEL_0058396ec61a4f75a7db09a5f38d125b",
            "max": 1,
            "min": 0,
            "orientation": "horizontal",
            "style": "IPY_MODEL_3d7e3dfdc28548d8bd8b7d548edb6f8f",
            "value": 1
          }
        },
        "c1e0fc4107fb49fe84bb21fd721a8ecb": {
          "model_module": "@jupyter-widgets/base",
          "model_module_version": "1.2.0",
          "model_name": "LayoutModel",
          "state": {
            "_model_module": "@jupyter-widgets/base",
            "_model_module_version": "1.2.0",
            "_model_name": "LayoutModel",
            "_view_count": null,
            "_view_module": "@jupyter-widgets/base",
            "_view_module_version": "1.2.0",
            "_view_name": "LayoutView",
            "align_content": null,
            "align_items": null,
            "align_self": null,
            "border": null,
            "bottom": null,
            "display": null,
            "flex": null,
            "flex_flow": null,
            "grid_area": null,
            "grid_auto_columns": null,
            "grid_auto_flow": null,
            "grid_auto_rows": null,
            "grid_column": null,
            "grid_gap": null,
            "grid_row": null,
            "grid_template_areas": null,
            "grid_template_columns": null,
            "grid_template_rows": null,
            "height": null,
            "justify_content": null,
            "justify_items": null,
            "left": null,
            "margin": null,
            "max_height": null,
            "max_width": null,
            "min_height": null,
            "min_width": null,
            "object_fit": null,
            "object_position": null,
            "order": null,
            "overflow": null,
            "overflow_x": null,
            "overflow_y": null,
            "padding": null,
            "right": null,
            "top": null,
            "visibility": null,
            "width": null
          }
        },
        "c3a76df48c1f46a6a588babaadaafce2": {
          "model_module": "@jupyter-widgets/controls",
          "model_module_version": "1.5.0",
          "model_name": "DescriptionStyleModel",
          "state": {
            "_model_module": "@jupyter-widgets/controls",
            "_model_module_version": "1.5.0",
            "_model_name": "DescriptionStyleModel",
            "_view_count": null,
            "_view_module": "@jupyter-widgets/base",
            "_view_module_version": "1.2.0",
            "_view_name": "StyleView",
            "description_width": ""
          }
        },
        "c453ed86ee824b5e88d15c5bce35009b": {
          "model_module": "@jupyter-widgets/controls",
          "model_module_version": "1.5.0",
          "model_name": "HTMLModel",
          "state": {
            "_dom_classes": [],
            "_model_module": "@jupyter-widgets/controls",
            "_model_module_version": "1.5.0",
            "_model_name": "HTMLModel",
            "_view_count": null,
            "_view_module": "@jupyter-widgets/controls",
            "_view_module_version": "1.5.0",
            "_view_name": "HTMLView",
            "description": "",
            "description_tooltip": null,
            "layout": "IPY_MODEL_abd948814c014a9eb6d68529c3590e92",
            "placeholder": "​",
            "style": "IPY_MODEL_700ef7e95cf94d7e9dbeb58d605eca5d",
            "value": " 7.06k/? [00:00&lt;00:00, 303kB/s]"
          }
        },
        "c4960a24842040638dc4f7a81b737d6f": {
          "model_module": "@jupyter-widgets/controls",
          "model_module_version": "1.5.0",
          "model_name": "HTMLModel",
          "state": {
            "_dom_classes": [],
            "_model_module": "@jupyter-widgets/controls",
            "_model_module_version": "1.5.0",
            "_model_name": "HTMLModel",
            "_view_count": null,
            "_view_module": "@jupyter-widgets/controls",
            "_view_module_version": "1.5.0",
            "_view_name": "HTMLView",
            "description": "",
            "description_tooltip": null,
            "layout": "IPY_MODEL_fcd185b60d6e4e60a8ab964aac262f73",
            "placeholder": "​",
            "style": "IPY_MODEL_46b49c05ae70468cbe834a11a86c53ee",
            "value": "100%"
          }
        },
        "c7053e32145d4599bda83ae1372cf54a": {
          "model_module": "@jupyter-widgets/controls",
          "model_module_version": "1.5.0",
          "model_name": "ButtonModel",
          "state": {
            "_dom_classes": [],
            "_model_module": "@jupyter-widgets/controls",
            "_model_module_version": "1.5.0",
            "_model_name": "ButtonModel",
            "_view_count": null,
            "_view_module": "@jupyter-widgets/controls",
            "_view_module_version": "1.5.0",
            "_view_name": "ButtonView",
            "button_style": "",
            "description": "Login",
            "disabled": false,
            "icon": "",
            "layout": "IPY_MODEL_05b403993fc04c128fe3423e16085529",
            "style": "IPY_MODEL_ea0718a03fa84612a83032464c755bde",
            "tooltip": ""
          }
        },
        "c705539579af4dd890312dc6eca591ac": {
          "model_module": "@jupyter-widgets/base",
          "model_module_version": "1.2.0",
          "model_name": "LayoutModel",
          "state": {
            "_model_module": "@jupyter-widgets/base",
            "_model_module_version": "1.2.0",
            "_model_name": "LayoutModel",
            "_view_count": null,
            "_view_module": "@jupyter-widgets/base",
            "_view_module_version": "1.2.0",
            "_view_name": "LayoutView",
            "align_content": null,
            "align_items": null,
            "align_self": null,
            "border": null,
            "bottom": null,
            "display": null,
            "flex": null,
            "flex_flow": null,
            "grid_area": null,
            "grid_auto_columns": null,
            "grid_auto_flow": null,
            "grid_auto_rows": null,
            "grid_column": null,
            "grid_gap": null,
            "grid_row": null,
            "grid_template_areas": null,
            "grid_template_columns": null,
            "grid_template_rows": null,
            "height": null,
            "justify_content": null,
            "justify_items": null,
            "left": null,
            "margin": null,
            "max_height": null,
            "max_width": null,
            "min_height": null,
            "min_width": null,
            "object_fit": null,
            "object_position": null,
            "order": null,
            "overflow": null,
            "overflow_x": null,
            "overflow_y": null,
            "padding": null,
            "right": null,
            "top": null,
            "visibility": null,
            "width": "20px"
          }
        },
        "c75146f8f1ab44028814587c6618b5cb": {
          "model_module": "@jupyter-widgets/controls",
          "model_module_version": "1.5.0",
          "model_name": "HBoxModel",
          "state": {
            "_dom_classes": [],
            "_model_module": "@jupyter-widgets/controls",
            "_model_module_version": "1.5.0",
            "_model_name": "HBoxModel",
            "_view_count": null,
            "_view_module": "@jupyter-widgets/controls",
            "_view_module_version": "1.5.0",
            "_view_name": "HBoxView",
            "box_style": "",
            "children": [
              "IPY_MODEL_2b28d6a112484a5cb8a3bce8d33dd6eb",
              "IPY_MODEL_bf4e5b43dc36490eb26b5868233c8325",
              "IPY_MODEL_42901d9eb4204cb39847025079f3e3c1"
            ],
            "layout": "IPY_MODEL_5beb1ffb9863473a8df053439bfb9fb2"
          }
        },
        "c7729e98d977430a8a85243bab1dc83d": {
          "model_module": "@jupyter-widgets/controls",
          "model_module_version": "1.5.0",
          "model_name": "ProgressStyleModel",
          "state": {
            "_model_module": "@jupyter-widgets/controls",
            "_model_module_version": "1.5.0",
            "_model_name": "ProgressStyleModel",
            "_view_count": null,
            "_view_module": "@jupyter-widgets/base",
            "_view_module_version": "1.2.0",
            "_view_name": "StyleView",
            "bar_color": null,
            "description_width": ""
          }
        },
        "c781acd05e244750a8084992acc4ac2c": {
          "model_module": "@jupyter-widgets/controls",
          "model_module_version": "1.5.0",
          "model_name": "HTMLModel",
          "state": {
            "_dom_classes": [],
            "_model_module": "@jupyter-widgets/controls",
            "_model_module_version": "1.5.0",
            "_model_name": "HTMLModel",
            "_view_count": null,
            "_view_module": "@jupyter-widgets/controls",
            "_view_module_version": "1.5.0",
            "_view_name": "HTMLView",
            "description": "",
            "description_tooltip": null,
            "layout": "IPY_MODEL_8da462790a6d4fbb9251290bd9ee14f0",
            "placeholder": "​",
            "style": "IPY_MODEL_fe31c534d6cd46da8b6a640e039a4d6c",
            "value": " 4.48k/? [00:00&lt;00:00, 230kB/s]"
          }
        },
        "c95cde469c924220956b0222cd470c90": {
          "model_module": "@jupyter-widgets/controls",
          "model_module_version": "1.5.0",
          "model_name": "HBoxModel",
          "state": {
            "_dom_classes": [],
            "_model_module": "@jupyter-widgets/controls",
            "_model_module_version": "1.5.0",
            "_model_name": "HBoxModel",
            "_view_count": null,
            "_view_module": "@jupyter-widgets/controls",
            "_view_module_version": "1.5.0",
            "_view_name": "HBoxView",
            "box_style": "",
            "children": [
              "IPY_MODEL_d31e0dcd59bd4153a392e18dba2ee1c2",
              "IPY_MODEL_adc1d50d41744b49bb5dfb3a4f5aa770",
              "IPY_MODEL_1a36d660c6474845bbfdcffffb6dcc68"
            ],
            "layout": "IPY_MODEL_dab4414a1d4a4e94a4845dd9dcc5783a"
          }
        },
        "cab324901c07479cb8c579067204aecf": {
          "model_module": "@jupyter-widgets/controls",
          "model_module_version": "1.5.0",
          "model_name": "FloatProgressModel",
          "state": {
            "_dom_classes": [],
            "_model_module": "@jupyter-widgets/controls",
            "_model_module_version": "1.5.0",
            "_model_name": "FloatProgressModel",
            "_view_count": null,
            "_view_module": "@jupyter-widgets/controls",
            "_view_module_version": "1.5.0",
            "_view_name": "ProgressView",
            "bar_style": "success",
            "description": "",
            "description_tooltip": null,
            "layout": "IPY_MODEL_6e9a872c89d54da582effed9b9f07bb2",
            "max": 1,
            "min": 0,
            "orientation": "horizontal",
            "style": "IPY_MODEL_53a03b6776c5401aaca921c86ed0b6d5",
            "value": 1
          }
        },
        "cac71a316ae94f788d31ff4aa68ce067": {
          "model_module": "@jupyter-widgets/controls",
          "model_module_version": "1.5.0",
          "model_name": "DescriptionStyleModel",
          "state": {
            "_model_module": "@jupyter-widgets/controls",
            "_model_module_version": "1.5.0",
            "_model_name": "DescriptionStyleModel",
            "_view_count": null,
            "_view_module": "@jupyter-widgets/base",
            "_view_module_version": "1.2.0",
            "_view_name": "StyleView",
            "description_width": ""
          }
        },
        "cc4dd57866ff4080913e33d0b1cf49af": {
          "model_module": "@jupyter-widgets/controls",
          "model_module_version": "1.5.0",
          "model_name": "DescriptionStyleModel",
          "state": {
            "_model_module": "@jupyter-widgets/controls",
            "_model_module_version": "1.5.0",
            "_model_name": "DescriptionStyleModel",
            "_view_count": null,
            "_view_module": "@jupyter-widgets/base",
            "_view_module_version": "1.2.0",
            "_view_name": "StyleView",
            "description_width": ""
          }
        },
        "cda1ca853c9c413798584217aa65efb9": {
          "model_module": "@jupyter-widgets/base",
          "model_module_version": "1.2.0",
          "model_name": "LayoutModel",
          "state": {
            "_model_module": "@jupyter-widgets/base",
            "_model_module_version": "1.2.0",
            "_model_name": "LayoutModel",
            "_view_count": null,
            "_view_module": "@jupyter-widgets/base",
            "_view_module_version": "1.2.0",
            "_view_name": "LayoutView",
            "align_content": null,
            "align_items": null,
            "align_self": null,
            "border": null,
            "bottom": null,
            "display": null,
            "flex": null,
            "flex_flow": null,
            "grid_area": null,
            "grid_auto_columns": null,
            "grid_auto_flow": null,
            "grid_auto_rows": null,
            "grid_column": null,
            "grid_gap": null,
            "grid_row": null,
            "grid_template_areas": null,
            "grid_template_columns": null,
            "grid_template_rows": null,
            "height": null,
            "justify_content": null,
            "justify_items": null,
            "left": null,
            "margin": null,
            "max_height": null,
            "max_width": null,
            "min_height": null,
            "min_width": null,
            "object_fit": null,
            "object_position": null,
            "order": null,
            "overflow": null,
            "overflow_x": null,
            "overflow_y": null,
            "padding": null,
            "right": null,
            "top": null,
            "visibility": null,
            "width": null
          }
        },
        "cfddbf192a4948c5a35d9c9c28227969": {
          "model_module": "@jupyter-widgets/base",
          "model_module_version": "1.2.0",
          "model_name": "LayoutModel",
          "state": {
            "_model_module": "@jupyter-widgets/base",
            "_model_module_version": "1.2.0",
            "_model_name": "LayoutModel",
            "_view_count": null,
            "_view_module": "@jupyter-widgets/base",
            "_view_module_version": "1.2.0",
            "_view_name": "LayoutView",
            "align_content": null,
            "align_items": null,
            "align_self": null,
            "border": null,
            "bottom": null,
            "display": null,
            "flex": null,
            "flex_flow": null,
            "grid_area": null,
            "grid_auto_columns": null,
            "grid_auto_flow": null,
            "grid_auto_rows": null,
            "grid_column": null,
            "grid_gap": null,
            "grid_row": null,
            "grid_template_areas": null,
            "grid_template_columns": null,
            "grid_template_rows": null,
            "height": null,
            "justify_content": null,
            "justify_items": null,
            "left": null,
            "margin": null,
            "max_height": null,
            "max_width": null,
            "min_height": null,
            "min_width": null,
            "object_fit": null,
            "object_position": null,
            "order": null,
            "overflow": null,
            "overflow_x": null,
            "overflow_y": null,
            "padding": null,
            "right": null,
            "top": null,
            "visibility": "hidden",
            "width": null
          }
        },
        "d11bbf7a3d924028958d5bcc0a72e122": {
          "model_module": "@jupyter-widgets/controls",
          "model_module_version": "1.5.0",
          "model_name": "HTMLModel",
          "state": {
            "_dom_classes": [],
            "_model_module": "@jupyter-widgets/controls",
            "_model_module_version": "1.5.0",
            "_model_name": "HTMLModel",
            "_view_count": null,
            "_view_module": "@jupyter-widgets/controls",
            "_view_module_version": "1.5.0",
            "_view_name": "HTMLView",
            "description": "",
            "description_tooltip": null,
            "layout": "IPY_MODEL_b55fea5b10694c8cb1aa93622170ff8c",
            "placeholder": "​",
            "style": "IPY_MODEL_362150e5ee6b409381c9a3f2c4199186",
            "value": " 5/5 [00:00&lt;00:00, 162.28ba/s]"
          }
        },
        "d2174b1613f54697a70a519f40b5aee8": {
          "model_module": "@jupyter-widgets/controls",
          "model_module_version": "1.5.0",
          "model_name": "ProgressStyleModel",
          "state": {
            "_model_module": "@jupyter-widgets/controls",
            "_model_module_version": "1.5.0",
            "_model_name": "ProgressStyleModel",
            "_view_count": null,
            "_view_module": "@jupyter-widgets/base",
            "_view_module_version": "1.2.0",
            "_view_name": "StyleView",
            "bar_color": null,
            "description_width": ""
          }
        },
        "d30d4923454e4f8aaf4341f0d9e4f794": {
          "model_module": "@jupyter-widgets/controls",
          "model_module_version": "1.5.0",
          "model_name": "DescriptionStyleModel",
          "state": {
            "_model_module": "@jupyter-widgets/controls",
            "_model_module_version": "1.5.0",
            "_model_name": "DescriptionStyleModel",
            "_view_count": null,
            "_view_module": "@jupyter-widgets/base",
            "_view_module_version": "1.2.0",
            "_view_name": "StyleView",
            "description_width": ""
          }
        },
        "d31e0dcd59bd4153a392e18dba2ee1c2": {
          "model_module": "@jupyter-widgets/controls",
          "model_module_version": "1.5.0",
          "model_name": "HTMLModel",
          "state": {
            "_dom_classes": [],
            "_model_module": "@jupyter-widgets/controls",
            "_model_module_version": "1.5.0",
            "_model_name": "HTMLModel",
            "_view_count": null,
            "_view_module": "@jupyter-widgets/controls",
            "_view_module_version": "1.5.0",
            "_view_name": "HTMLView",
            "description": "",
            "description_tooltip": null,
            "layout": "IPY_MODEL_556b2a49b0f04518a0c925f7d448fcd9",
            "placeholder": "​",
            "style": "IPY_MODEL_e6f98082a67646158b8d3e36f9de5115",
            "value": ""
          }
        },
        "d42cbd433408441ead2be0400c5d97c7": {
          "model_module": "@jupyter-widgets/base",
          "model_module_version": "1.2.0",
          "model_name": "LayoutModel",
          "state": {
            "_model_module": "@jupyter-widgets/base",
            "_model_module_version": "1.2.0",
            "_model_name": "LayoutModel",
            "_view_count": null,
            "_view_module": "@jupyter-widgets/base",
            "_view_module_version": "1.2.0",
            "_view_name": "LayoutView",
            "align_content": null,
            "align_items": null,
            "align_self": null,
            "border": null,
            "bottom": null,
            "display": null,
            "flex": null,
            "flex_flow": null,
            "grid_area": null,
            "grid_auto_columns": null,
            "grid_auto_flow": null,
            "grid_auto_rows": null,
            "grid_column": null,
            "grid_gap": null,
            "grid_row": null,
            "grid_template_areas": null,
            "grid_template_columns": null,
            "grid_template_rows": null,
            "height": null,
            "justify_content": null,
            "justify_items": null,
            "left": null,
            "margin": null,
            "max_height": null,
            "max_width": null,
            "min_height": null,
            "min_width": null,
            "object_fit": null,
            "object_position": null,
            "order": null,
            "overflow": null,
            "overflow_x": null,
            "overflow_y": null,
            "padding": null,
            "right": null,
            "top": null,
            "visibility": null,
            "width": "20px"
          }
        },
        "d7934693aa974d6781b84f71bac59e71": {
          "model_module": "@jupyter-widgets/base",
          "model_module_version": "1.2.0",
          "model_name": "LayoutModel",
          "state": {
            "_model_module": "@jupyter-widgets/base",
            "_model_module_version": "1.2.0",
            "_model_name": "LayoutModel",
            "_view_count": null,
            "_view_module": "@jupyter-widgets/base",
            "_view_module_version": "1.2.0",
            "_view_name": "LayoutView",
            "align_content": null,
            "align_items": null,
            "align_self": null,
            "border": null,
            "bottom": null,
            "display": null,
            "flex": null,
            "flex_flow": null,
            "grid_area": null,
            "grid_auto_columns": null,
            "grid_auto_flow": null,
            "grid_auto_rows": null,
            "grid_column": null,
            "grid_gap": null,
            "grid_row": null,
            "grid_template_areas": null,
            "grid_template_columns": null,
            "grid_template_rows": null,
            "height": null,
            "justify_content": null,
            "justify_items": null,
            "left": null,
            "margin": null,
            "max_height": null,
            "max_width": null,
            "min_height": null,
            "min_width": null,
            "object_fit": null,
            "object_position": null,
            "order": null,
            "overflow": null,
            "overflow_x": null,
            "overflow_y": null,
            "padding": null,
            "right": null,
            "top": null,
            "visibility": null,
            "width": null
          }
        },
        "da8639f433da4cefa2affd438ac18c89": {
          "model_module": "@jupyter-widgets/base",
          "model_module_version": "1.2.0",
          "model_name": "LayoutModel",
          "state": {
            "_model_module": "@jupyter-widgets/base",
            "_model_module_version": "1.2.0",
            "_model_name": "LayoutModel",
            "_view_count": null,
            "_view_module": "@jupyter-widgets/base",
            "_view_module_version": "1.2.0",
            "_view_name": "LayoutView",
            "align_content": null,
            "align_items": null,
            "align_self": null,
            "border": null,
            "bottom": null,
            "display": null,
            "flex": null,
            "flex_flow": null,
            "grid_area": null,
            "grid_auto_columns": null,
            "grid_auto_flow": null,
            "grid_auto_rows": null,
            "grid_column": null,
            "grid_gap": null,
            "grid_row": null,
            "grid_template_areas": null,
            "grid_template_columns": null,
            "grid_template_rows": null,
            "height": null,
            "justify_content": null,
            "justify_items": null,
            "left": null,
            "margin": null,
            "max_height": null,
            "max_width": null,
            "min_height": null,
            "min_width": null,
            "object_fit": null,
            "object_position": null,
            "order": null,
            "overflow": null,
            "overflow_x": null,
            "overflow_y": null,
            "padding": null,
            "right": null,
            "top": null,
            "visibility": null,
            "width": null
          }
        },
        "dab4414a1d4a4e94a4845dd9dcc5783a": {
          "model_module": "@jupyter-widgets/base",
          "model_module_version": "1.2.0",
          "model_name": "LayoutModel",
          "state": {
            "_model_module": "@jupyter-widgets/base",
            "_model_module_version": "1.2.0",
            "_model_name": "LayoutModel",
            "_view_count": null,
            "_view_module": "@jupyter-widgets/base",
            "_view_module_version": "1.2.0",
            "_view_name": "LayoutView",
            "align_content": null,
            "align_items": null,
            "align_self": null,
            "border": null,
            "bottom": null,
            "display": null,
            "flex": null,
            "flex_flow": null,
            "grid_area": null,
            "grid_auto_columns": null,
            "grid_auto_flow": null,
            "grid_auto_rows": null,
            "grid_column": null,
            "grid_gap": null,
            "grid_row": null,
            "grid_template_areas": null,
            "grid_template_columns": null,
            "grid_template_rows": null,
            "height": null,
            "justify_content": null,
            "justify_items": null,
            "left": null,
            "margin": null,
            "max_height": null,
            "max_width": null,
            "min_height": null,
            "min_width": null,
            "object_fit": null,
            "object_position": null,
            "order": null,
            "overflow": null,
            "overflow_x": null,
            "overflow_y": null,
            "padding": null,
            "right": null,
            "top": null,
            "visibility": "hidden",
            "width": null
          }
        },
        "dba9c380625243a6a7f90c8914ff9455": {
          "model_module": "@jupyter-widgets/base",
          "model_module_version": "1.2.0",
          "model_name": "LayoutModel",
          "state": {
            "_model_module": "@jupyter-widgets/base",
            "_model_module_version": "1.2.0",
            "_model_name": "LayoutModel",
            "_view_count": null,
            "_view_module": "@jupyter-widgets/base",
            "_view_module_version": "1.2.0",
            "_view_name": "LayoutView",
            "align_content": null,
            "align_items": null,
            "align_self": null,
            "border": null,
            "bottom": null,
            "display": null,
            "flex": null,
            "flex_flow": null,
            "grid_area": null,
            "grid_auto_columns": null,
            "grid_auto_flow": null,
            "grid_auto_rows": null,
            "grid_column": null,
            "grid_gap": null,
            "grid_row": null,
            "grid_template_areas": null,
            "grid_template_columns": null,
            "grid_template_rows": null,
            "height": null,
            "justify_content": null,
            "justify_items": null,
            "left": null,
            "margin": null,
            "max_height": null,
            "max_width": null,
            "min_height": null,
            "min_width": null,
            "object_fit": null,
            "object_position": null,
            "order": null,
            "overflow": null,
            "overflow_x": null,
            "overflow_y": null,
            "padding": null,
            "right": null,
            "top": null,
            "visibility": null,
            "width": null
          }
        },
        "dbd4a1e0b6264c34b87a15b73a522d92": {
          "model_module": "@jupyter-widgets/controls",
          "model_module_version": "1.5.0",
          "model_name": "FloatProgressModel",
          "state": {
            "_dom_classes": [],
            "_model_module": "@jupyter-widgets/controls",
            "_model_module_version": "1.5.0",
            "_model_name": "FloatProgressModel",
            "_view_count": null,
            "_view_module": "@jupyter-widgets/controls",
            "_view_module_version": "1.5.0",
            "_view_name": "ProgressView",
            "bar_style": "success",
            "description": "",
            "description_tooltip": null,
            "layout": "IPY_MODEL_66d5b61e23dc4651903c0d32d7694a33",
            "max": 1,
            "min": 0,
            "orientation": "horizontal",
            "style": "IPY_MODEL_369c2fa2af714df99e5113fddfe81a36",
            "value": 1
          }
        },
        "dc79c99877844fc3b5eb05be646c495f": {
          "model_module": "@jupyter-widgets/controls",
          "model_module_version": "1.5.0",
          "model_name": "HBoxModel",
          "state": {
            "_dom_classes": [],
            "_model_module": "@jupyter-widgets/controls",
            "_model_module_version": "1.5.0",
            "_model_name": "HBoxModel",
            "_view_count": null,
            "_view_module": "@jupyter-widgets/controls",
            "_view_module_version": "1.5.0",
            "_view_name": "HBoxView",
            "box_style": "",
            "children": [
              "IPY_MODEL_9424cc47106a455ab18c0870d046ce9f",
              "IPY_MODEL_b8c9bc669d8c4651882c214aafb0548e",
              "IPY_MODEL_ddb52ffa6f634053927e93f997337419"
            ],
            "layout": "IPY_MODEL_b2310446607e44f5b8e38862581b510a"
          }
        },
        "ddb52ffa6f634053927e93f997337419": {
          "model_module": "@jupyter-widgets/controls",
          "model_module_version": "1.5.0",
          "model_name": "HTMLModel",
          "state": {
            "_dom_classes": [],
            "_model_module": "@jupyter-widgets/controls",
            "_model_module_version": "1.5.0",
            "_model_name": "HTMLModel",
            "_view_count": null,
            "_view_module": "@jupyter-widgets/controls",
            "_view_module_version": "1.5.0",
            "_view_name": "HTMLView",
            "description": "",
            "description_tooltip": null,
            "layout": "IPY_MODEL_89e51090498545259c216a5a1b59072f",
            "placeholder": "​",
            "style": "IPY_MODEL_489bec937040484ea1164c317f07a4ad",
            "value": " 869M/869M [00:47&lt;00:00, 35.4MB/s]"
          }
        },
        "e2df8e697e9c4f64a2bba0b6de2e8d49": {
          "model_module": "@jupyter-widgets/controls",
          "model_module_version": "1.5.0",
          "model_name": "HBoxModel",
          "state": {
            "_dom_classes": [],
            "_model_module": "@jupyter-widgets/controls",
            "_model_module_version": "1.5.0",
            "_model_name": "HBoxModel",
            "_view_count": null,
            "_view_module": "@jupyter-widgets/controls",
            "_view_module_version": "1.5.0",
            "_view_name": "HBoxView",
            "box_style": "",
            "children": [
              "IPY_MODEL_334975266d804748874f5d5621af50ba",
              "IPY_MODEL_ab4a2cca2b404d25b2cda485c7c28077",
              "IPY_MODEL_c781acd05e244750a8084992acc4ac2c"
            ],
            "layout": "IPY_MODEL_1cb0c8f214cc4de791e49af3c793380a"
          }
        },
        "e57c5cbc0380464994c4a5b42de76c66": {
          "model_module": "@jupyter-widgets/controls",
          "model_module_version": "1.5.0",
          "model_name": "HBoxModel",
          "state": {
            "_dom_classes": [],
            "_model_module": "@jupyter-widgets/controls",
            "_model_module_version": "1.5.0",
            "_model_name": "HBoxModel",
            "_view_count": null,
            "_view_module": "@jupyter-widgets/controls",
            "_view_module_version": "1.5.0",
            "_view_name": "HBoxView",
            "box_style": "",
            "children": [
              "IPY_MODEL_47d42cc391cd46049052a802e46364b6",
              "IPY_MODEL_2a49340e51fc4054a2616d1990109d7c",
              "IPY_MODEL_5c09a1875b4f4cc2b3cf64a52b4fd8b8"
            ],
            "layout": "IPY_MODEL_7664d4cd39254acfb97b63a3331c8b25"
          }
        },
        "e610d02445bd4e5e9b4783658f058147": {
          "model_module": "@jupyter-widgets/controls",
          "model_module_version": "1.5.0",
          "model_name": "FloatProgressModel",
          "state": {
            "_dom_classes": [],
            "_model_module": "@jupyter-widgets/controls",
            "_model_module_version": "1.5.0",
            "_model_name": "FloatProgressModel",
            "_view_count": null,
            "_view_module": "@jupyter-widgets/controls",
            "_view_module_version": "1.5.0",
            "_view_name": "ProgressView",
            "bar_style": "success",
            "description": "",
            "description_tooltip": null,
            "layout": "IPY_MODEL_41761888fc3547bf81907d84c07cd964",
            "max": 380267417,
            "min": 0,
            "orientation": "horizontal",
            "style": "IPY_MODEL_d2174b1613f54697a70a519f40b5aee8",
            "value": 380267417
          }
        },
        "e6f98082a67646158b8d3e36f9de5115": {
          "model_module": "@jupyter-widgets/controls",
          "model_module_version": "1.5.0",
          "model_name": "DescriptionStyleModel",
          "state": {
            "_model_module": "@jupyter-widgets/controls",
            "_model_module_version": "1.5.0",
            "_model_name": "DescriptionStyleModel",
            "_view_count": null,
            "_view_module": "@jupyter-widgets/base",
            "_view_module_version": "1.2.0",
            "_view_name": "StyleView",
            "description_width": ""
          }
        },
        "ea0718a03fa84612a83032464c755bde": {
          "model_module": "@jupyter-widgets/controls",
          "model_module_version": "1.5.0",
          "model_name": "ButtonStyleModel",
          "state": {
            "_model_module": "@jupyter-widgets/controls",
            "_model_module_version": "1.5.0",
            "_model_name": "ButtonStyleModel",
            "_view_count": null,
            "_view_module": "@jupyter-widgets/base",
            "_view_module_version": "1.2.0",
            "_view_name": "StyleView",
            "button_color": null,
            "font_weight": ""
          }
        },
        "ed33c55d50234c32b15798b747153ad2": {
          "model_module": "@jupyter-widgets/controls",
          "model_module_version": "1.5.0",
          "model_name": "HTMLModel",
          "state": {
            "_dom_classes": [],
            "_model_module": "@jupyter-widgets/controls",
            "_model_module_version": "1.5.0",
            "_model_name": "HTMLModel",
            "_view_count": null,
            "_view_module": "@jupyter-widgets/controls",
            "_view_module_version": "1.5.0",
            "_view_name": "HTMLView",
            "description": "",
            "description_tooltip": null,
            "layout": "IPY_MODEL_8991f9f2abeb49e2bd10caf24403f472",
            "placeholder": "​",
            "style": "IPY_MODEL_ae9d87d903c4420db700f043fe197154",
            "value": "\n<b>Pro Tip:</b> If you don't already have one, you can create a dedicated\n'notebooks' token with 'write' access, that you can then easily reuse for all\nnotebooks. </center>"
          }
        },
        "ed4a76509a9e43a285bed77e8415e170": {
          "model_module": "@jupyter-widgets/base",
          "model_module_version": "1.2.0",
          "model_name": "LayoutModel",
          "state": {
            "_model_module": "@jupyter-widgets/base",
            "_model_module_version": "1.2.0",
            "_model_name": "LayoutModel",
            "_view_count": null,
            "_view_module": "@jupyter-widgets/base",
            "_view_module_version": "1.2.0",
            "_view_name": "LayoutView",
            "align_content": null,
            "align_items": "center",
            "align_self": null,
            "border": null,
            "bottom": null,
            "display": "flex",
            "flex": null,
            "flex_flow": "column",
            "grid_area": null,
            "grid_auto_columns": null,
            "grid_auto_flow": null,
            "grid_auto_rows": null,
            "grid_column": null,
            "grid_gap": null,
            "grid_row": null,
            "grid_template_areas": null,
            "grid_template_columns": null,
            "grid_template_rows": null,
            "height": null,
            "justify_content": null,
            "justify_items": null,
            "left": null,
            "margin": null,
            "max_height": null,
            "max_width": null,
            "min_height": null,
            "min_width": null,
            "object_fit": null,
            "object_position": null,
            "order": null,
            "overflow": null,
            "overflow_x": null,
            "overflow_y": null,
            "padding": null,
            "right": null,
            "top": null,
            "visibility": null,
            "width": "50%"
          }
        },
        "f20725df466c4b8b9bc96fce2d1c6ff8": {
          "model_module": "@jupyter-widgets/controls",
          "model_module_version": "1.5.0",
          "model_name": "ProgressStyleModel",
          "state": {
            "_model_module": "@jupyter-widgets/controls",
            "_model_module_version": "1.5.0",
            "_model_name": "ProgressStyleModel",
            "_view_count": null,
            "_view_module": "@jupyter-widgets/base",
            "_view_module_version": "1.2.0",
            "_view_name": "StyleView",
            "bar_color": null,
            "description_width": ""
          }
        },
        "f261eb96f32540b7aba59bf5707bee6f": {
          "model_module": "@jupyter-widgets/controls",
          "model_module_version": "1.5.0",
          "model_name": "FloatProgressModel",
          "state": {
            "_dom_classes": [],
            "_model_module": "@jupyter-widgets/controls",
            "_model_module_version": "1.5.0",
            "_model_name": "FloatProgressModel",
            "_view_count": null,
            "_view_module": "@jupyter-widgets/controls",
            "_view_module_version": "1.5.0",
            "_view_name": "ProgressView",
            "bar_style": "success",
            "description": "",
            "description_tooltip": null,
            "layout": "IPY_MODEL_8539d6c12248447fa989335fb92a348f",
            "max": 2403,
            "min": 0,
            "orientation": "horizontal",
            "style": "IPY_MODEL_f20725df466c4b8b9bc96fce2d1c6ff8",
            "value": 2403
          }
        },
        "f2f1d919308042c4b730658cee357374": {
          "model_module": "@jupyter-widgets/controls",
          "model_module_version": "1.5.0",
          "model_name": "HTMLModel",
          "state": {
            "_dom_classes": [],
            "_model_module": "@jupyter-widgets/controls",
            "_model_module_version": "1.5.0",
            "_model_name": "HTMLModel",
            "_view_count": null,
            "_view_module": "@jupyter-widgets/controls",
            "_view_module_version": "1.5.0",
            "_view_name": "HTMLView",
            "description": "",
            "description_tooltip": null,
            "layout": "IPY_MODEL_72ba30f58e904ad786e9f82deabebc75",
            "placeholder": "​",
            "style": "IPY_MODEL_a3f2cbce0fc0419191259ba1735ffa94",
            "value": "Downloading: "
          }
        },
        "f30802e504624b37b3c4a469c5ecaef2": {
          "model_module": "@jupyter-widgets/controls",
          "model_module_version": "1.5.0",
          "model_name": "DescriptionStyleModel",
          "state": {
            "_model_module": "@jupyter-widgets/controls",
            "_model_module_version": "1.5.0",
            "_model_name": "DescriptionStyleModel",
            "_view_count": null,
            "_view_module": "@jupyter-widgets/base",
            "_view_module_version": "1.2.0",
            "_view_name": "StyleView",
            "description_width": ""
          }
        },
        "f49894f74c4242f88b84aea799edb16d": {
          "model_module": "@jupyter-widgets/controls",
          "model_module_version": "1.5.0",
          "model_name": "DescriptionStyleModel",
          "state": {
            "_model_module": "@jupyter-widgets/controls",
            "_model_module_version": "1.5.0",
            "_model_name": "DescriptionStyleModel",
            "_view_count": null,
            "_view_module": "@jupyter-widgets/base",
            "_view_module_version": "1.2.0",
            "_view_name": "StyleView",
            "description_width": ""
          }
        },
        "f4cfe55a73c141ef9b751d0db992d3cf": {
          "model_module": "@jupyter-widgets/controls",
          "model_module_version": "1.5.0",
          "model_name": "ProgressStyleModel",
          "state": {
            "_model_module": "@jupyter-widgets/controls",
            "_model_module_version": "1.5.0",
            "_model_name": "ProgressStyleModel",
            "_view_count": null,
            "_view_module": "@jupyter-widgets/base",
            "_view_module_version": "1.2.0",
            "_view_name": "StyleView",
            "bar_color": null,
            "description_width": ""
          }
        },
        "f5ae3c942bf644c0affadca9a6e6d59b": {
          "model_module": "@jupyter-widgets/controls",
          "model_module_version": "1.5.0",
          "model_name": "DescriptionStyleModel",
          "state": {
            "_model_module": "@jupyter-widgets/controls",
            "_model_module_version": "1.5.0",
            "_model_name": "DescriptionStyleModel",
            "_view_count": null,
            "_view_module": "@jupyter-widgets/base",
            "_view_module_version": "1.2.0",
            "_view_name": "StyleView",
            "description_width": ""
          }
        },
        "fcd185b60d6e4e60a8ab964aac262f73": {
          "model_module": "@jupyter-widgets/base",
          "model_module_version": "1.2.0",
          "model_name": "LayoutModel",
          "state": {
            "_model_module": "@jupyter-widgets/base",
            "_model_module_version": "1.2.0",
            "_model_name": "LayoutModel",
            "_view_count": null,
            "_view_module": "@jupyter-widgets/base",
            "_view_module_version": "1.2.0",
            "_view_name": "LayoutView",
            "align_content": null,
            "align_items": null,
            "align_self": null,
            "border": null,
            "bottom": null,
            "display": null,
            "flex": null,
            "flex_flow": null,
            "grid_area": null,
            "grid_auto_columns": null,
            "grid_auto_flow": null,
            "grid_auto_rows": null,
            "grid_column": null,
            "grid_gap": null,
            "grid_row": null,
            "grid_template_areas": null,
            "grid_template_columns": null,
            "grid_template_rows": null,
            "height": null,
            "justify_content": null,
            "justify_items": null,
            "left": null,
            "margin": null,
            "max_height": null,
            "max_width": null,
            "min_height": null,
            "min_width": null,
            "object_fit": null,
            "object_position": null,
            "order": null,
            "overflow": null,
            "overflow_x": null,
            "overflow_y": null,
            "padding": null,
            "right": null,
            "top": null,
            "visibility": null,
            "width": null
          }
        },
        "fe31c534d6cd46da8b6a640e039a4d6c": {
          "model_module": "@jupyter-widgets/controls",
          "model_module_version": "1.5.0",
          "model_name": "DescriptionStyleModel",
          "state": {
            "_model_module": "@jupyter-widgets/controls",
            "_model_module_version": "1.5.0",
            "_model_name": "DescriptionStyleModel",
            "_view_count": null,
            "_view_module": "@jupyter-widgets/base",
            "_view_module_version": "1.2.0",
            "_view_name": "StyleView",
            "description_width": ""
          }
        }
      }
    }
  },
  "nbformat": 4,
  "nbformat_minor": 0
}

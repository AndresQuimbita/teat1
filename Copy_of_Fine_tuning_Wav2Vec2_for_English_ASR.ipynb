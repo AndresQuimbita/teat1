{
  "cells": [
    {
      "attachments": {},
      "cell_type": "markdown",
      "metadata": {
        "colab_type": "text",
        "id": "view-in-github"
      },
      "source": [
        "<a href=\"https://colab.research.google.com/github/AndresQuimbita/teat1/blob/main/Copy_of_Fine_tuning_Wav2Vec2_for_English_ASR.ipynb\" target=\"_parent\"><img src=\"https://colab.research.google.com/assets/colab-badge.svg\" alt=\"Open In Colab\"/></a>"
      ]
    },
    {
      "attachments": {},
      "cell_type": "markdown",
      "metadata": {
        "id": "LBSYoWbi-45k"
      },
      "source": [
        "# **Fine-tuning Wav2Vec2 for English ASR with 🤗 Transformers**"
      ]
    },
    {
      "attachments": {},
      "cell_type": "markdown",
      "metadata": {
        "id": "V7YOT2mnUiea"
      },
      "source": [
        "Wav2Vec2 is a pretrained model for Automatic Speech Recognition (ASR) and was released in [September 2020](https://ai.facebook.com/blog/wav2vec-20-learning-the-structure-of-speech-from-raw-audio/) by Alexei Baevski, Michael Auli, and Alex Conneau.\n",
        "\n",
        "Using a novel contrastive pretraining objective, Wav2Vec2 learns powerful speech representations from more than 50.000 hours of unlabeled speech. Similar, to [BERT's masked language modeling](http://jalammar.github.io/illustrated-bert/), the model learns contextualized speech representations by randomly masking feature vectors before passing them to a transformer network.\n",
        "\n",
        "![wav2vec2_structure](https://raw.githubusercontent.com/patrickvonplaten/scientific_images/master/wav2vec2.png)\n",
        "\n",
        "For the first time, it has been shown that pretraining, followed by fine-tuning on very little labeled speech data achieves competitive results to state-of-the-art ASR systems. Using as little as 10 minutes of labeled data, Wav2Vec2 yields a word error rate (WER) of less than 5% on the clean test set of [LibriSpeech](https://huggingface.co/datasets/librispeech_asr) - *cf.* with Table 9 of the [paper](https://arxiv.org/pdf/2006.11477.pdf)."
      ]
    },
    {
      "attachments": {},
      "cell_type": "markdown",
      "metadata": {
        "id": "nT_QrfWtsxIz"
      },
      "source": [
        "In this notebook, we will give an in-detail explanation of how Wav2Vec2's pretrained checkpoints can be fine-tuned on any English ASR dataset. Note that in this notebook, we will fine-tune Wav2Vec2 without making use of a language model. It is much simpler to use Wav2Vec2 without a language model as an end-to-end ASR system and it has been shown that a standalone Wav2Vec2 acoustic model achieves impressive results. For demonstration purposes, we fine-tune the \"base\"-sized [pretrained checkpoint](https://huggingface.co/facebook/wav2vec2-base) on the rather small [Timit](https://huggingface.co/datasets/timit_asr) dataset that contains just 5h of training data."
      ]
    },
    {
      "attachments": {},
      "cell_type": "markdown",
      "metadata": {
        "id": "Gx9OdDYrCtQ1"
      },
      "source": [
        "Wav2Vec2 is fine-tuned using Connectionist Temporal Classification (CTC), which is an algorithm that is used to train neural networks for sequence-to-sequence problems and mainly in Automatic Speech Recognition and handwriting recognition.\n",
        "\n",
        "I highly recommend reading the blog post [Sequence Modeling with CTC (2017)](https://distill.pub/2017/ctc/) very well-written blog post by Awni Hannun."
      ]
    },
    {
      "attachments": {},
      "cell_type": "markdown",
      "metadata": {
        "id": "qW3J3rBizeds"
      },
      "source": [
        "First, let's try to get a good GPU in our colab! With Google Colab's free version it's sadly becoming much harder to get access to a good GPU. With Google Colab Pro, one has a much easier time getting access to a V100 or P100 GPU however."
      ]
    },
    {
      "cell_type": "code",
      "execution_count": 60,
      "metadata": {
        "colab": {
          "base_uri": "https://localhost:8080/"
        },
        "id": "SLAufgh_xxj7",
        "outputId": "5435e0be-d50b-47da-a311-124a6b057d69"
      },
      "outputs": [
        {
          "name": "stdout",
          "output_type": "stream",
          "text": [
            "Thu Jun 29 15:12:56 2023       \n",
            "+-----------------------------------------------------------------------------+\n",
            "| NVIDIA-SMI 525.116.04   Driver Version: 525.116.04   CUDA Version: 12.0     |\n",
            "|-------------------------------+----------------------+----------------------+\n",
            "| GPU  Name        Persistence-M| Bus-Id        Disp.A | Volatile Uncorr. ECC |\n",
            "| Fan  Temp  Perf  Pwr:Usage/Cap|         Memory-Usage | GPU-Util  Compute M. |\n",
            "|                               |                      |               MIG M. |\n",
            "|===============================+======================+======================|\n",
            "|   0  NVIDIA RTX A4000    Off  | 00000000:B3:00.0  On |                  Off |\n",
            "| 41%   42C    P8    21W / 140W |    528MiB / 16376MiB |      5%      Default |\n",
            "|                               |                      |                  N/A |\n",
            "+-------------------------------+----------------------+----------------------+\n",
            "                                                                               \n",
            "+-----------------------------------------------------------------------------+\n",
            "| Processes:                                                                  |\n",
            "|  GPU   GI   CI        PID   Type   Process name                  GPU Memory |\n",
            "|        ID   ID                                                   Usage      |\n",
            "|=============================================================================|\n",
            "|    0   N/A  N/A      1663      G   /usr/lib/xorg/Xorg                 39MiB |\n",
            "|    0   N/A  N/A      2948      G   /usr/lib/xorg/Xorg                119MiB |\n",
            "|    0   N/A  N/A      3086      G   /usr/bin/gnome-shell               51MiB |\n",
            "|    0   N/A  N/A     46431      G   /usr/lib/firefox/firefox          141MiB |\n",
            "|    0   N/A  N/A     56008      G   ...RendererForSitePerProcess      166MiB |\n",
            "+-----------------------------------------------------------------------------+\n"
          ]
        }
      ],
      "source": [
        "gpu_info = !nvidia-smi\n",
        "gpu_info = '\\n'.join(gpu_info)\n",
        "if gpu_info.find('failed') >= 0:\n",
        "  print('Not connected to a GPU')\n",
        "else:\n",
        "  print(gpu_info)"
      ]
    },
    {
      "attachments": {},
      "cell_type": "markdown",
      "metadata": {
        "id": "e335hPmdtASZ"
      },
      "source": [
        "Before we start, let's install both `datasets` and `transformers` from master. Also, we need the `librosa` package to load audio files and the `jiwer` to evaluate our fine-tuned model using the [word error rate (WER)](https://huggingface.co/metrics/wer) metric ${}^1$."
      ]
    },
    {
      "cell_type": "code",
      "execution_count": 61,
      "metadata": {
        "id": "c8eh87Hoee5d"
      },
      "outputs": [],
      "source": [
        "%%capture\n",
        "!pip install datasets==1.18.3\n",
        "!pip install transformers==4.17.0\n",
        "!pip install jiwer\n",
        "!pip install huggingface_hub"
      ]
    },
    {
      "attachments": {},
      "cell_type": "markdown",
      "metadata": {
        "id": "8_6kYmDMH9lR"
      },
      "source": [
        "Next we strongly suggest to upload your training checkpoints directly to the [🤗 Hub](https://huggingface.co/) while training. The [🤗 Hub](https://huggingface.co/) has integrated version control so you can be sure that no model checkpoint is getting lost during training.\n",
        "\n",
        "To do so you have to store your authentication token from the Hugging Face website (sign up [here](https://huggingface.co/join) if you haven't already!)"
      ]
    },
    {
      "cell_type": "code",
      "execution_count": 62,
      "metadata": {
        "colab": {
          "base_uri": "https://localhost:8080/",
          "height": 331,
          "referenced_widgets": [
            "72c60eb7db764e16a9d47ad4fc87dd10",
            "81e2c1fadd6546b18a39555d44a9ab3c",
            "51a7cab310ae4385b30bcf6d828c5bd7",
            "97b1d29fb759427b9a3ced885b12c49b",
            "c7053e32145d4599bda83ae1372cf54a",
            "ed33c55d50234c32b15798b747153ad2",
            "ed4a76509a9e43a285bed77e8415e170",
            "b5618e9ca055470595027435969b9765",
            "14a6810e336a473cbcef56c1b6ed59cf",
            "3ee80b72a2e348c8a92af98b5d666c13",
            "d30d4923454e4f8aaf4341f0d9e4f794",
            "dba9c380625243a6a7f90c8914ff9455",
            "f30802e504624b37b3c4a469c5ecaef2",
            "05b403993fc04c128fe3423e16085529",
            "ea0718a03fa84612a83032464c755bde",
            "8991f9f2abeb49e2bd10caf24403f472",
            "ae9d87d903c4420db700f043fe197154"
          ]
        },
        "id": "zFLBDyzQIA3R",
        "outputId": "1dd54b29-2183-4e31-f610-96e516c12b08"
      },
      "outputs": [
        {
          "data": {
            "application/vnd.jupyter.widget-view+json": {
              "model_id": "5402352cfef64327a358983a67d96133",
              "version_major": 2,
              "version_minor": 0
            },
            "text/plain": [
              "VBox(children=(HTML(value='<center> <img\\nsrc=https://huggingface.co/front/assets/huggingface_logo-noborder.sv…"
            ]
          },
          "metadata": {},
          "output_type": "display_data"
        }
      ],
      "source": [
        "from huggingface_hub import notebook_login\n",
        "\n",
        "notebook_login()"
      ]
    },
    {
      "attachments": {},
      "cell_type": "markdown",
      "metadata": {
        "id": "zCyw5D23IQ1F"
      },
      "source": [
        "\n",
        "Then you need to install Git-LFS to upload your model checkpoints:"
      ]
    },
    {
      "cell_type": "code",
      "execution_count": 63,
      "metadata": {
        "id": "Q9BnQDhOITBC"
      },
      "outputs": [],
      "source": [
        "%%capture\n",
        "!apt install git-lfs"
      ]
    },
    {
      "attachments": {},
      "cell_type": "markdown",
      "metadata": {
        "id": "Mn9swf6EQ9Vd"
      },
      "source": [
        "\n",
        "\n",
        "\n",
        "---\n",
        "\n",
        "${}^1$ Timit is usually evaluated using the phoneme error rate (PER), but by far the most common metric in ASR is the word error rate (WER). To keep this notebook as general as possible we decided to evaluate the model using WER."
      ]
    },
    {
      "attachments": {},
      "cell_type": "markdown",
      "metadata": {
        "id": "0mW-C1Nt-j7k"
      },
      "source": [
        "## Prepare Data, Tokenizer, Feature Extractor"
      ]
    },
    {
      "attachments": {},
      "cell_type": "markdown",
      "metadata": {
        "id": "BeBosnY9BH3e"
      },
      "source": [
        "ASR models transcribe speech to text, which means that we both need a feature extractor that processes the speech signal to the model's input format, *e.g.* a feature vector, and a tokenizer that processes the model's output format to text.\n",
        "\n",
        "In 🤗 Transformers, the Wav2Vec2 model is thus accompanied by both a tokenizer, called [Wav2Vec2CTCTokenizer](https://huggingface.co/transformers/master/model_doc/wav2vec2.html#wav2vec2ctctokenizer), and a feature extractor, called [Wav2Vec2FeatureExtractor](https://huggingface.co/transformers/master/model_doc/wav2vec2.html#wav2vec2featureextractor).\n",
        "\n",
        "Let's start by creating the tokenizer responsible for decoding the model's predictions."
      ]
    },
    {
      "attachments": {},
      "cell_type": "markdown",
      "metadata": {
        "id": "sEXEWEJGQPqD"
      },
      "source": [
        "### Create Wav2Vec2CTCTokenizer"
      ]
    },
    {
      "attachments": {},
      "cell_type": "markdown",
      "metadata": {
        "id": "tWmMikuNEKl_"
      },
      "source": [
        "The [pretrained Wav2Vec2 checkpoint]( ) maps the speech signal to a sequence of context representations as illustrated in the figure above. A fine-tuned Wav2Vec2 checkpoint needs to map this sequence of context representations to its corresponding transcription so that a linear layer has to be added on top of the transformer block (shown in yellow). This linear layer is used to classifies each context representation to a token class analogous how, *e.g.*, after pretraining a linear layer is added on top of BERT's embeddings for further classification - *cf.* with *\"BERT\"* section of this [blog post](https://huggingface.co/blog/warm-starting-encoder-decoder).\n",
        "\n",
        "The output size of this layer corresponds to the number of tokens in the vocabulary, which does **not** depend on Wav2Vec2's pretraining task, but only on the labeled dataset used for fine-tuning. So in the first step, we will take a look at Timit and define a vocabulary based on the dataset's transcriptions."
      ]
    },
    {
      "attachments": {},
      "cell_type": "markdown",
      "metadata": {
        "id": "bee4g9rpLxll"
      },
      "source": [
        "Let's start by loading the dataset and taking a look at its structure."
      ]
    },
    {
      "cell_type": "code",
      "execution_count": 64,
      "metadata": {
        "colab": {
          "base_uri": "https://localhost:8080/",
          "height": 200,
          "referenced_widgets": [
            "35cff9996fa5410485f6a9cba04dee0d",
            "f2f1d919308042c4b730658cee357374",
            "f261eb96f32540b7aba59bf5707bee6f",
            "c453ed86ee824b5e88d15c5bce35009b",
            "45f9dd1c05be47e8a0dd90af375756ac",
            "72ba30f58e904ad786e9f82deabebc75",
            "a3f2cbce0fc0419191259ba1735ffa94",
            "8539d6c12248447fa989335fb92a348f",
            "f20725df466c4b8b9bc96fce2d1c6ff8",
            "abd948814c014a9eb6d68529c3590e92",
            "700ef7e95cf94d7e9dbeb58d605eca5d",
            "03d71c90397247f7a0b46f02be423a66",
            "7ba0b13ba0604b26afe63e5dc86e2f1e",
            "41ff8cbd05464696b86989bf3c39c1e3",
            "a84b851075bf4773a463ed24a2f3eb24",
            "6f7688e6cf04412ab2dac06baeb4e666",
            "c1e0fc4107fb49fe84bb21fd721a8ecb",
            "2a011e9f253e4cef8f52f45c110c0295",
            "196c5d364c0a45d1b07cb8c1850eae8e",
            "ac7622d9634c46db895530963f553494",
            "2ca52ebaf2be48d5a4b8b4138906be85",
            "7317708554854b4fb5c2ee08e0f4f894",
            "dc79c99877844fc3b5eb05be646c495f",
            "9424cc47106a455ab18c0870d046ce9f",
            "b8c9bc669d8c4651882c214aafb0548e",
            "ddb52ffa6f634053927e93f997337419",
            "b2310446607e44f5b8e38862581b510a",
            "090847f7912e496fbc1ef8673674c1ed",
            "15e195a2c3044feababc62304301f14f",
            "667cac3e3c364fed95c9d4cd30ec2466",
            "43c07bbb17534fa9932770d689dc821b",
            "89e51090498545259c216a5a1b59072f",
            "489bec937040484ea1164c317f07a4ad",
            "a7e5e39c8be1422fb1e47567857d681d",
            "90bb8035c7b745088e6f69368e770224",
            "ac756dc57a4748b8b29e490186774de6",
            "6875e568704e45648e7230c0fe52ffb8",
            "cfddbf192a4948c5a35d9c9c28227969",
            "d7934693aa974d6781b84f71bac59e71",
            "cc4dd57866ff4080913e33d0b1cf49af",
            "d42cbd433408441ead2be0400c5d97c7",
            "3cbbf50821414139bf7924b2a66912ba",
            "5bc51e6bf9d0484baf014fb352155e15",
            "73f206f8a18e42cca2630b1c3fbbdd17",
            "c95cde469c924220956b0222cd470c90",
            "d31e0dcd59bd4153a392e18dba2ee1c2",
            "adc1d50d41744b49bb5dfb3a4f5aa770",
            "1a36d660c6474845bbfdcffffb6dcc68",
            "dab4414a1d4a4e94a4845dd9dcc5783a",
            "556b2a49b0f04518a0c925f7d448fcd9",
            "e6f98082a67646158b8d3e36f9de5115",
            "c705539579af4dd890312dc6eca591ac",
            "adfa07960f1243a78e890a968155eac5",
            "7b2e3d37cdef4f5282f01745c3b1a0f4",
            "7b694dd16e54443f8da6af91b1ecd821",
            "6371ee68de1c457696f0f5f467a4ab20",
            "8d544fd2a20e410887d14bed2c1abf66",
            "b04e77f560024855b050ec5d48d8a26c",
            "786d3890c8a74b6b933389a08be4529f",
            "1504d726f2f448b4a9b36d5034f3d138",
            "a7184f5b92f0441fa10120fde326efb4",
            "70723978a71b47969d9952bcef9c2a0d",
            "280663ff96ce499aa0cb7bca67f59a85",
            "9a2fe7c5597647e881612cd18a8467b1",
            "cda1ca853c9c413798584217aa65efb9",
            "4796a0a689924d089c229046ba162058"
          ]
        },
        "id": "2MMXcWFFgCXU",
        "outputId": "281c89cb-d69e-41ff-86f0-7409f307462e"
      },
      "outputs": [
        {
          "name": "stderr",
          "output_type": "stream",
          "text": [
            "Reusing dataset timit_asr (/home/cslab03/.cache/huggingface/datasets/timit_asr/clean/2.0.1/b11b576ddcccbcefa7c9f0c4e6c2a43756f3033adffe0fb686aa61043d0450ad)\n",
            "100%|██████████| 2/2 [00:00<00:00, 214.65it/s]\n"
          ]
        }
      ],
      "source": [
        "from datasets import load_dataset, load_metric\n",
        "\n",
        "timit = load_dataset(\"timit_asr\")"
      ]
    },
    {
      "cell_type": "code",
      "execution_count": 65,
      "metadata": {
        "colab": {
          "base_uri": "https://localhost:8080/"
        },
        "id": "QbIM-L0xdvf4",
        "outputId": "d4144763-5b7d-47f6-fb72-96fe1022a18e"
      },
      "outputs": [
        {
          "data": {
            "text/plain": [
              "DatasetDict({\n",
              "    train: Dataset({\n",
              "        features: ['file', 'audio', 'text', 'phonetic_detail', 'word_detail', 'dialect_region', 'sentence_type', 'speaker_id', 'id'],\n",
              "        num_rows: 4620\n",
              "    })\n",
              "    test: Dataset({\n",
              "        features: ['file', 'audio', 'text', 'phonetic_detail', 'word_detail', 'dialect_region', 'sentence_type', 'speaker_id', 'id'],\n",
              "        num_rows: 1680\n",
              "    })\n",
              "})"
            ]
          },
          "execution_count": 65,
          "metadata": {},
          "output_type": "execute_result"
        }
      ],
      "source": [
        "timit"
      ]
    },
    {
      "attachments": {},
      "cell_type": "markdown",
      "metadata": {
        "id": "ri5y5N_HMANq"
      },
      "source": [
        "Many ASR datasets only provide the target text, `'text'` for each audio `'audio'` and file `'file'`. Timit actually provides much more information about each audio file, such as the `'phonetic_detail'`, etc., which is why many researchers choose to evaluate their models on phoneme classification instead of speech recognition when working with Timit. However, we want to keep the notebook as general as possible, so that we will only consider the transcribed text for fine-tuning.\n",
        "\n"
      ]
    },
    {
      "cell_type": "code",
      "execution_count": 66,
      "metadata": {
        "id": "kbyq6lDgQc2a"
      },
      "outputs": [],
      "source": [
        "timit = timit.remove_columns([\"phonetic_detail\", \"word_detail\", \"dialect_region\", \"id\", \"sentence_type\", \"speaker_id\"])"
      ]
    },
    {
      "attachments": {},
      "cell_type": "markdown",
      "metadata": {
        "id": "Go9Hq4e4NDT9"
      },
      "source": [
        "Let's write a short function to display some random samples of the dataset and run it a couple of times to get a feeling for the transcriptions."
      ]
    },
    {
      "cell_type": "code",
      "execution_count": 67,
      "metadata": {
        "id": "72737oog2F6U"
      },
      "outputs": [],
      "source": [
        "from datasets import ClassLabel\n",
        "import random\n",
        "import pandas as pd\n",
        "from IPython.display import display, HTML\n",
        "\n",
        "def show_random_elements(dataset, num_examples=10):\n",
        "    assert num_examples <= len(dataset), \"Can't pick more elements than there are in the dataset.\"\n",
        "    picks = []\n",
        "    for _ in range(num_examples):\n",
        "        pick = random.randint(0, len(dataset)-1)\n",
        "        while pick in picks:\n",
        "            pick = random.randint(0, len(dataset)-1)\n",
        "        picks.append(pick)\n",
        "\n",
        "    df = pd.DataFrame(dataset[picks])\n",
        "    display(HTML(df.to_html()))"
      ]
    },
    {
      "cell_type": "code",
      "execution_count": 68,
      "metadata": {
        "colab": {
          "base_uri": "https://localhost:8080/",
          "height": 363
        },
        "id": "K_JUmf3G3b9S",
        "outputId": "8d879e78-15b3-425f-ef6e-ae604e83167b"
      },
      "outputs": [
        {
          "data": {
            "text/html": [
              "<table border=\"1\" class=\"dataframe\">\n",
              "  <thead>\n",
              "    <tr style=\"text-align: right;\">\n",
              "      <th></th>\n",
              "      <th>text</th>\n",
              "    </tr>\n",
              "  </thead>\n",
              "  <tbody>\n",
              "    <tr>\n",
              "      <th>0</th>\n",
              "      <td>Scholastic aptitude is judged by standardized tests.</td>\n",
              "    </tr>\n",
              "    <tr>\n",
              "      <th>1</th>\n",
              "      <td>The emperor had a mean temper.</td>\n",
              "    </tr>\n",
              "    <tr>\n",
              "      <th>2</th>\n",
              "      <td>He was full of heavy family reminiscence.</td>\n",
              "    </tr>\n",
              "    <tr>\n",
              "      <th>3</th>\n",
              "      <td>Although always alone, we survive.</td>\n",
              "    </tr>\n",
              "    <tr>\n",
              "      <th>4</th>\n",
              "      <td>Todd placed top priority on getting his bike fixed.</td>\n",
              "    </tr>\n",
              "    <tr>\n",
              "      <th>5</th>\n",
              "      <td>A smile pulled at the lower strip of adhesive tape.</td>\n",
              "    </tr>\n",
              "    <tr>\n",
              "      <th>6</th>\n",
              "      <td>Can the agency overthrow alien forces?</td>\n",
              "    </tr>\n",
              "    <tr>\n",
              "      <th>7</th>\n",
              "      <td>Don't ask me to carry an oily rag like that.</td>\n",
              "    </tr>\n",
              "    <tr>\n",
              "      <th>8</th>\n",
              "      <td>She had your dark suit in greasy wash water all year.</td>\n",
              "    </tr>\n",
              "    <tr>\n",
              "      <th>9</th>\n",
              "      <td>Too much curiosity can get you into trouble.</td>\n",
              "    </tr>\n",
              "  </tbody>\n",
              "</table>"
            ],
            "text/plain": [
              "<IPython.core.display.HTML object>"
            ]
          },
          "metadata": {},
          "output_type": "display_data"
        }
      ],
      "source": [
        "show_random_elements(timit[\"train\"].remove_columns([\"audio\", \"file\"]), num_examples=10)"
      ]
    },
    {
      "attachments": {},
      "cell_type": "markdown",
      "metadata": {
        "id": "fowcOllGNNju"
      },
      "source": [
        "Alright! The transcriptions look very clean and the language seems to correspond more to written text than dialogue. This makes sense taking into account that [Timit](https://huggingface.co/datasets/timit_asr) is a read speech corpus."
      ]
    },
    {
      "attachments": {},
      "cell_type": "markdown",
      "metadata": {
        "id": "vq7OR50LN49m"
      },
      "source": [
        "We can see that the transcriptions contain some special characters, such as `,.?!;:`. Without a language model, it is much harder to classify speech chunks to such special characters because they don't really correspond to a characteristic sound unit. *E.g.*, the letter `\"s\"` has a more or less clear sound, whereas the special character `\".\"` does not.\n",
        "Also in order to understand the meaning of a speech signal, it is usually not necessary to include special characters in the transcription.\n",
        "\n",
        "In addition, we normalize the text to only have lower case letters and append a word separator token at the end."
      ]
    },
    {
      "cell_type": "code",
      "execution_count": 69,
      "metadata": {
        "id": "svKzVJ_hQGK6"
      },
      "outputs": [],
      "source": [
        "import re\n",
        "chars_to_ignore_regex = '[\\,\\?\\.\\!\\-\\;\\:\\\"]'\n",
        "\n",
        "def remove_special_characters(batch):\n",
        "    batch[\"text\"] = re.sub(chars_to_ignore_regex, '', batch[\"text\"]).lower() + \" \"\n",
        "    return batch"
      ]
    },
    {
      "cell_type": "code",
      "execution_count": 70,
      "metadata": {
        "colab": {
          "base_uri": "https://localhost:8080/",
          "height": 118,
          "referenced_widgets": [
            "c75146f8f1ab44028814587c6618b5cb",
            "2b28d6a112484a5cb8a3bce8d33dd6eb",
            "bf4e5b43dc36490eb26b5868233c8325",
            "42901d9eb4204cb39847025079f3e3c1",
            "5beb1ffb9863473a8df053439bfb9fb2",
            "457ab436e5dd499eab891989de1ebdc9",
            "165636445bfc4733970d1a7ded5f6ede",
            "0058396ec61a4f75a7db09a5f38d125b",
            "3d7e3dfdc28548d8bd8b7d548edb6f8f",
            "bb8774b67f884f6b8377a496b5c4a151",
            "f49894f74c4242f88b84aea799edb16d",
            "2cf18cb986eb40af89ebff415e08f273",
            "58d8a23d215e4c90af7cc611354be857",
            "cab324901c07479cb8c579067204aecf",
            "5e19198ee86d4494bc5eb9637259f492",
            "0ada10817cc44b6a9b903815fc9b2455",
            "39d2595f1d85401ea4e930369e52da11",
            "8980f3e6e202478eb2d2c3874788e466",
            "6e9a872c89d54da582effed9b9f07bb2",
            "53a03b6776c5401aaca921c86ed0b6d5",
            "15666b87c18443b2b5dcc92821b310e7",
            "cac71a316ae94f788d31ff4aa68ce067"
          ]
        },
        "id": "XIHocAuTQbBR",
        "outputId": "acb7e63a-9e97-477e-f4a8-9c27cd0a7ef4"
      },
      "outputs": [
        {
          "name": "stderr",
          "output_type": "stream",
          "text": [
            "4620ex [00:00, 8428.19ex/s]\n",
            "1680ex [00:00, 10009.04ex/s]\n"
          ]
        }
      ],
      "source": [
        "timit = timit.map(remove_special_characters)"
      ]
    },
    {
      "cell_type": "code",
      "execution_count": 71,
      "metadata": {
        "colab": {
          "base_uri": "https://localhost:8080/",
          "height": 363
        },
        "id": "RBDRAAYxRE6n",
        "outputId": "a62e7527-f6ea-46dd-e94b-476b9cef521a"
      },
      "outputs": [
        {
          "data": {
            "text/html": [
              "<table border=\"1\" class=\"dataframe\">\n",
              "  <thead>\n",
              "    <tr style=\"text-align: right;\">\n",
              "      <th></th>\n",
              "      <th>text</th>\n",
              "    </tr>\n",
              "  </thead>\n",
              "  <tbody>\n",
              "    <tr>\n",
              "      <th>0</th>\n",
              "      <td>don't ask me to carry an oily rag like that</td>\n",
              "    </tr>\n",
              "    <tr>\n",
              "      <th>1</th>\n",
              "      <td>she had your dark suit in greasy wash water all year</td>\n",
              "    </tr>\n",
              "    <tr>\n",
              "      <th>2</th>\n",
              "      <td>i gave them several choices and let them set the priorities</td>\n",
              "    </tr>\n",
              "    <tr>\n",
              "      <th>3</th>\n",
              "      <td>solid concrete blocks relatively heavy and dense are used for this shelter</td>\n",
              "    </tr>\n",
              "    <tr>\n",
              "      <th>4</th>\n",
              "      <td>the emperor had a mean temper</td>\n",
              "    </tr>\n",
              "    <tr>\n",
              "      <th>5</th>\n",
              "      <td>don't ask me to carry an oily rag like that</td>\n",
              "    </tr>\n",
              "    <tr>\n",
              "      <th>6</th>\n",
              "      <td>she had your dark suit in greasy wash water all year</td>\n",
              "    </tr>\n",
              "    <tr>\n",
              "      <th>7</th>\n",
              "      <td>please sing just the club theme</td>\n",
              "    </tr>\n",
              "    <tr>\n",
              "      <th>8</th>\n",
              "      <td>the data are presented in lists and tables</td>\n",
              "    </tr>\n",
              "    <tr>\n",
              "      <th>9</th>\n",
              "      <td>suppose what'shisname got a sunburn</td>\n",
              "    </tr>\n",
              "  </tbody>\n",
              "</table>"
            ],
            "text/plain": [
              "<IPython.core.display.HTML object>"
            ]
          },
          "metadata": {},
          "output_type": "display_data"
        }
      ],
      "source": [
        "show_random_elements(timit[\"train\"].remove_columns([\"audio\", \"file\"]))"
      ]
    },
    {
      "attachments": {},
      "cell_type": "markdown",
      "metadata": {
        "id": "jwfaptH5RJwA"
      },
      "source": [
        "Good! This looks better. We have removed most special characters from transcriptions and normalized them to lower-case only.\n",
        "\n",
        "In CTC, it is common to classify speech chunks into letters, so we will do the same here.\n",
        "Let's extract all distinct letters of the training and test data and build our vocabulary from this set of letters.\n",
        "\n",
        "We write a mapping function that concatenates all transcriptions into one long transcription and then transforms the string into a set of chars.\n",
        "It is important to pass the argument `batched=True` to the `map(...)` function so that the mapping function has access to all transcriptions at once."
      ]
    },
    {
      "cell_type": "code",
      "execution_count": 72,
      "metadata": {
        "id": "LwCshNbbeRZR"
      },
      "outputs": [],
      "source": [
        "def extract_all_chars(batch):\n",
        "  all_text = \" \".join(batch[\"text\"])\n",
        "  vocab = list(set(all_text))\n",
        "  return {\"vocab\": [vocab], \"all_text\": [all_text]}"
      ]
    },
    {
      "cell_type": "code",
      "execution_count": 73,
      "metadata": {
        "colab": {
          "base_uri": "https://localhost:8080/",
          "height": 81,
          "referenced_widgets": [
            "8508560781db49e9971a4e844b77f708",
            "4ed0f26ff105404bb993127df03bffca",
            "dbd4a1e0b6264c34b87a15b73a522d92",
            "4322229ce14c40288a33afefb4917bdd",
            "6a04eddf72594989b95c6a1be64d7f61",
            "b59ba6565a464d1ba9b09b978cc679dd",
            "10fd19a14d1f45aba528e4f19b675638",
            "66d5b61e23dc4651903c0d32d7694a33",
            "369c2fa2af714df99e5113fddfe81a36",
            "6d601fe66e86428bb08ec9952e99d52a",
            "bd7dad24d5d34edd9409e44ae87b888c",
            "5e721c366d99434d80b3822c6e82b290",
            "bd9b680e32fc41708cc2024a2f40c89d",
            "0b8b1be79ae24a31b1474824c5e52de5",
            "b9f5fab4eb65486abec1e0d85c8682d8",
            "56edbb7e71544c97a52f26e245e6a406",
            "225e6afb5c154fe6b3a1b1279287cb85",
            "f5ae3c942bf644c0affadca9a6e6d59b",
            "835cdd92279b4385af6a554c416ee245",
            "91190c7d6c7b460cb028183cf51bb1c1",
            "7943fc950c1c4b9ab096fa2e50d0da2d",
            "886c955c22c34282b94a3ee10ebde407"
          ]
        },
        "id": "_m6uUjjcfbjH",
        "outputId": "0485e5e9-9522-4db3-dbcd-f34986fc04ca"
      },
      "outputs": [
        {
          "name": "stderr",
          "output_type": "stream",
          "text": [
            "100%|██████████| 1/1 [00:00<00:00, 13.08ba/s]\n",
            "100%|██████████| 1/1 [00:00<00:00, 54.08ba/s]\n"
          ]
        }
      ],
      "source": [
        "vocabs = timit.map(extract_all_chars, batched=True, batch_size=-1, keep_in_memory=True, remove_columns=timit.column_names[\"train\"])"
      ]
    },
    {
      "attachments": {},
      "cell_type": "markdown",
      "metadata": {
        "id": "7oVgE8RZSJNP"
      },
      "source": [
        "Now, we create the union of all distinct letters in the training dataset and test dataset and convert the resulting list into an enumerated dictionary."
      ]
    },
    {
      "cell_type": "code",
      "execution_count": 74,
      "metadata": {
        "id": "aQfneNsmlJI0"
      },
      "outputs": [],
      "source": [
        "vocab_list = list(set(vocabs[\"train\"][\"vocab\"][0]) | set(vocabs[\"test\"][\"vocab\"][0]))"
      ]
    },
    {
      "cell_type": "code",
      "execution_count": 75,
      "metadata": {
        "colab": {
          "base_uri": "https://localhost:8080/"
        },
        "id": "_0kRndSvqaKk",
        "outputId": "310111f2-0b79-4a9f-9582-e8ecab6fcd6f"
      },
      "outputs": [
        {
          "data": {
            "text/plain": [
              "{'d': 0,\n",
              " 'a': 1,\n",
              " 'e': 2,\n",
              " \"'\": 3,\n",
              " 'z': 4,\n",
              " 'v': 5,\n",
              " ' ': 6,\n",
              " 't': 7,\n",
              " 'i': 8,\n",
              " 's': 9,\n",
              " 'b': 10,\n",
              " 'y': 11,\n",
              " 'n': 12,\n",
              " 'x': 13,\n",
              " 'q': 14,\n",
              " 'o': 15,\n",
              " 'h': 16,\n",
              " 'p': 17,\n",
              " 'w': 18,\n",
              " 'r': 19,\n",
              " 'm': 20,\n",
              " 'u': 21,\n",
              " 'f': 22,\n",
              " 'l': 23,\n",
              " 'g': 24,\n",
              " 'j': 25,\n",
              " 'k': 26,\n",
              " 'c': 27}"
            ]
          },
          "execution_count": 75,
          "metadata": {},
          "output_type": "execute_result"
        }
      ],
      "source": [
        "vocab_dict = {v: k for k, v in enumerate(vocab_list)}\n",
        "vocab_dict"
      ]
    },
    {
      "attachments": {},
      "cell_type": "markdown",
      "metadata": {
        "id": "JOSzbvs9SXT1"
      },
      "source": [
        "Cool, we see that all letters of the alphabet occur in the dataset (which is not really surprising) and we also extracted the special characters `\" \"` and `'`. Note that we did not exclude those special characters because:\n",
        "\n",
        "- The model has to learn to predict when a word finished or else the model prediction would always be a sequence of chars which would make it impossible to separate words from each other.\n",
        "- In English, we need to keep the `'` character to differentiate between words, *e.g.*, `\"it's\"` and `\"its\"` which have very different meanings."
      ]
    },
    {
      "attachments": {},
      "cell_type": "markdown",
      "metadata": {
        "id": "b1fBRCn-TRaO"
      },
      "source": [
        "To make it clearer that `\" \"` has its own token class, we give it a more visible character `|`. In addition, we also add an \"unknown\" token so that the model can later deal with characters not encountered in Timit's training set.\n",
        "\n",
        "Finally, we also add a padding token that corresponds to CTC's \"*blank token*\". The \"blank token\" is a core component of the CTC algorithm. For more information, please take a look at the \"Alignment\" section [here](https://distill.pub/2017/ctc/)."
      ]
    },
    {
      "cell_type": "code",
      "execution_count": 76,
      "metadata": {
        "id": "npbIbBoLgaFX"
      },
      "outputs": [],
      "source": [
        "vocab_dict[\"|\"] = vocab_dict[\" \"]\n",
        "del vocab_dict[\" \"]"
      ]
    },
    {
      "cell_type": "code",
      "execution_count": 77,
      "metadata": {
        "colab": {
          "base_uri": "https://localhost:8080/"
        },
        "id": "znF0bNunsjbl",
        "outputId": "b8a99b75-8414-47f0-804d-a7e442b29000"
      },
      "outputs": [
        {
          "data": {
            "text/plain": [
              "30"
            ]
          },
          "execution_count": 77,
          "metadata": {},
          "output_type": "execute_result"
        }
      ],
      "source": [
        "vocab_dict[\"[UNK]\"] = len(vocab_dict)\n",
        "vocab_dict[\"[PAD]\"] = len(vocab_dict)\n",
        "len(vocab_dict)"
      ]
    },
    {
      "attachments": {},
      "cell_type": "markdown",
      "metadata": {
        "id": "SFPGfet8U5sL"
      },
      "source": [
        "Cool, now our vocabulary is complete and consists of 30 tokens, which means that the linear layer that we will add on top of the pretrained Wav2Vec2 checkpoint will have an output dimension of 30."
      ]
    },
    {
      "attachments": {},
      "cell_type": "markdown",
      "metadata": {
        "id": "1CujRgBNVRaD"
      },
      "source": [
        "Let's now save the vocabulary as a json file."
      ]
    },
    {
      "cell_type": "code",
      "execution_count": 78,
      "metadata": {
        "id": "ehyUoh9vk191"
      },
      "outputs": [],
      "source": [
        "import json\n",
        "with open('vocab.json', 'w') as vocab_file:\n",
        "    json.dump(vocab_dict, vocab_file)"
      ]
    },
    {
      "attachments": {},
      "cell_type": "markdown",
      "metadata": {
        "id": "SHJDaKlIVVim"
      },
      "source": [
        "In a final step, we use the json file to instantiate an object of the `Wav2Vec2CTCTokenizer` class."
      ]
    },
    {
      "cell_type": "code",
      "execution_count": 79,
      "metadata": {
        "id": "xriFGEWQkO4M"
      },
      "outputs": [],
      "source": [
        "from transformers import Wav2Vec2CTCTokenizer\n",
        "\n",
        "tokenizer = Wav2Vec2CTCTokenizer(\"./vocab.json\", unk_token=\"[UNK]\", pad_token=\"[PAD]\", word_delimiter_token=\"|\")"
      ]
    },
    {
      "attachments": {},
      "cell_type": "markdown",
      "metadata": {
        "id": "P6L2EVWwIazG"
      },
      "source": [
        "If one wants to re-use the just created tokenizer with the fine-tuned model of this notebook, it is strongly advised to upload the `tokenizer` to the [🤗 Hub](https://huggingface.co/). Let's call the repo to which we will upload the files\n",
        "`\"wav2vec2-base-timit-demo-colab\"`:"
      ]
    },
    {
      "cell_type": "code",
      "execution_count": 80,
      "metadata": {
        "id": "1mbffBdxIl0M"
      },
      "outputs": [],
      "source": [
        "repo_name = \"wav2vec2-base-timit-demo-google-colab\""
      ]
    },
    {
      "attachments": {},
      "cell_type": "markdown",
      "metadata": {
        "id": "pmpG2ftFIu3B"
      },
      "source": [
        "and upload the tokenizer to the [🤗 Hub](https://huggingface.co/)."
      ]
    },
    {
      "attachments": {},
      "cell_type": "markdown",
      "metadata": {
        "id": "KvL12DrNV4cx"
      },
      "source": [
        "Great, you can see the just created repository under `https://huggingface.co/<your-username>/wav2vec2-base-timit-demo-colab`"
      ]
    },
    {
      "attachments": {},
      "cell_type": "markdown",
      "metadata": {
        "id": "mYcIiR2FQ96i"
      },
      "source": [
        "### Create Wav2Vec2 Feature Extractor"
      ]
    },
    {
      "attachments": {},
      "cell_type": "markdown",
      "metadata": {
        "id": "Y6mDEyW719rx"
      },
      "source": [
        "Speech is a continuous signal and to be treated by computers, it first has to be discretized, which is usually called **sampling**. The sampling rate hereby plays an important role in that it defines how many data points of the speech signal are measured per second. Therefore, sampling with a higher sampling rate results in a better approximation of the *real* speech signal but also necessitates more values per second.\n",
        "\n",
        "A pretrained checkpoint expects its input data to have been sampled more or less from the same distribution as the data it was trained on. The same speech signals sampled at two different rates have a very different distribution, *e.g.*, doubling the sampling rate results in data points being twice as long. Thus,\n",
        "before fine-tuning a pretrained checkpoint of an ASR model, it is crucial to verify that the sampling rate of the data that was used to pretrain the model matches the sampling rate of the dataset used to fine-tune the model.\n",
        "\n",
        "Wav2Vec2 was pretrained on the audio data of [LibriSpeech](https://huggingface.co/datasets/librispeech_asr) and LibriVox which both were sampling with 16kHz. Our fine-tuning dataset, [Timit](hhtps://huggingface.co/datasets/timit_asr), was luckily also sampled with 16kHz. If the fine-tuning dataset would have been sampled with a rate lower or higher than 16kHz, we first would have had to up or downsample the speech signal to match the sampling rate of the data used for pretraining.\n",
        "\n"
      ]
    },
    {
      "attachments": {},
      "cell_type": "markdown",
      "metadata": {
        "id": "KuUbPW7oV-B5"
      },
      "source": [
        "A Wav2Vec2 feature extractor object requires the following parameters to be instantiated:\n",
        "\n",
        "- `feature_size`: Speech models take a sequence of feature vectors as an input. While the length of this sequence obviously varies, the feature size should not. In the case of Wav2Vec2, the feature size is 1 because the model was trained on the raw speech signal ${}^2$.\n",
        "- `sampling_rate`: The sampling rate at which the model is trained on.\n",
        "- `padding_value`: For batched inference, shorter inputs need to be padded with a specific value\n",
        "- `do_normalize`: Whether the input should be *zero-mean-unit-variance* normalized or not. Usually, speech models perform better when normalizing the input\n",
        "- `return_attention_mask`: Whether the model should make use of an `attention_mask` for batched inference. In general, models should **always** make use of the `attention_mask` to mask padded tokens. However, due to a very specific design choice of `Wav2Vec2`'s \"base\" checkpoint, better results are achieved when using no `attention_mask`. This is **not** recommended for other speech models. For more information, one can take a look at [this](https://github.com/pytorch/fairseq/issues/3227) issue. **Important** If you want to use this notebook to fine-tune [large-lv60](https://huggingface.co/facebook/wav2vec2-large-lv60), this parameter should be set to `True`."
      ]
    },
    {
      "cell_type": "code",
      "execution_count": 81,
      "metadata": {
        "id": "kAR0-2KLkopp"
      },
      "outputs": [],
      "source": [
        "from transformers import Wav2Vec2FeatureExtractor\n",
        "\n",
        "feature_extractor = Wav2Vec2FeatureExtractor(feature_size=1, sampling_rate=16000, padding_value=0.0, do_normalize=True, return_attention_mask=False)"
      ]
    },
    {
      "attachments": {},
      "cell_type": "markdown",
      "metadata": {
        "id": "qUETetgqYC3W"
      },
      "source": [
        "Great, Wav2Vec2's feature extraction pipeline is thereby fully defined!\n",
        "\n",
        "To make the usage of Wav2Vec2 as user-friendly as possible, the feature extractor and tokenizer are *wrapped* into a single `Wav2Vec2Processor` class so that one only needs a `model` and `processor` object."
      ]
    },
    {
      "cell_type": "code",
      "execution_count": 82,
      "metadata": {
        "id": "KYZtoW-tlZgl"
      },
      "outputs": [],
      "source": [
        "from transformers import Wav2Vec2Processor\n",
        "\n",
        "processor = Wav2Vec2Processor(feature_extractor=feature_extractor, tokenizer=tokenizer)"
      ]
    },
    {
      "attachments": {},
      "cell_type": "markdown",
      "metadata": {
        "id": "DrKnYuvDIoOO"
      },
      "source": [
        "Next, we can prepare the dataset."
      ]
    },
    {
      "attachments": {},
      "cell_type": "markdown",
      "metadata": {
        "id": "YFmShnl7RE35"
      },
      "source": [
        "### Preprocess Data\n",
        "\n",
        "So far, we have not looked at the actual values of the speech signal but just the transcription. In addition to `'text'`, our datasets include two more column names `'file'` and `'audio'`. `'file'` states the absolute path of the audio file. Let's take a look."
      ]
    },
    {
      "cell_type": "code",
      "execution_count": 83,
      "metadata": {
        "colab": {
          "base_uri": "https://localhost:8080/",
          "height": 35
        },
        "id": "TTCS7W6XJ9BG",
        "outputId": "d5d6e239-b109-4b2b-9a62-f1b23f754433"
      },
      "outputs": [
        {
          "data": {
            "text/plain": [
              "'/home/cslab03/.cache/huggingface/datasets/downloads/extracted/a776bf1fdb2afcd63eb44e45574fab3aff2a60fd299aea96cedc65b48da33669/data/TRAIN/DR4/MMDM0/SI681.WAV'"
            ]
          },
          "execution_count": 83,
          "metadata": {},
          "output_type": "execute_result"
        }
      ],
      "source": [
        "timit[\"train\"][0][\"file\"]"
      ]
    },
    {
      "attachments": {},
      "cell_type": "markdown",
      "metadata": {
        "id": "BwxprOw4Nzrl"
      },
      "source": [
        "`Wav2Vec2` expects the input in the format of a 1-dimensional array of 16 kHz. This means that the audio file has to be loaded and resampled.\n",
        "\n",
        " Thankfully, `datasets` does this automatically when calling the column `audio`. Let try it out."
      ]
    },
    {
      "cell_type": "code",
      "execution_count": 84,
      "metadata": {
        "colab": {
          "base_uri": "https://localhost:8080/"
        },
        "id": "mk9QHuSsN7lf",
        "outputId": "beb08435-f986-4f28-8660-396377695838"
      },
      "outputs": [
        {
          "data": {
            "text/plain": [
              "{'path': '/home/cslab03/.cache/huggingface/datasets/downloads/extracted/a776bf1fdb2afcd63eb44e45574fab3aff2a60fd299aea96cedc65b48da33669/data/TRAIN/DR4/MMDM0/SI681.WAV',\n",
              " 'array': array([-2.1362305e-04,  6.1035156e-05,  3.0517578e-05, ...,\n",
              "        -3.0517578e-05, -9.1552734e-05, -6.1035156e-05], dtype=float32),\n",
              " 'sampling_rate': 16000}"
            ]
          },
          "execution_count": 84,
          "metadata": {},
          "output_type": "execute_result"
        }
      ],
      "source": [
        "timit[\"train\"][0][\"audio\"]"
      ]
    },
    {
      "attachments": {},
      "cell_type": "markdown",
      "metadata": {
        "id": "wSBIGEiaKHMn"
      },
      "source": [
        "We can see that the audio file has automatically been loaded. This is thanks to the new [`\"Audio\"` feature](https://huggingface.co/docs/datasets/package_reference/main_classes.html?highlight=audio#datasets.Audio) introduced in `datasets == 4.13.3`, which loads and resamples audio files on-the-fly upon calling.\n",
        "\n",
        "The sampling rate is set to 16kHz which is what `Wav2Vec2` expects as an input."
      ]
    },
    {
      "attachments": {},
      "cell_type": "markdown",
      "metadata": {
        "id": "SOckzFd4Mbzq"
      },
      "source": [
        "Great, let's listen to a couple of audio files to better understand the dataset and verify that the audio was correctly loaded.\n",
        "\n",
        "**Note**: *You can click the following cell a couple of times to listen to different speech samples.*"
      ]
    },
    {
      "cell_type": "code",
      "execution_count": 85,
      "metadata": {
        "colab": {
          "base_uri": "https://localhost:8080/",
          "height": 79
        },
        "id": "dueM6U7Ev0OA",
        "outputId": "a6e2aee9-618c-4b95-8f29-a686aa3cbc91"
      },
      "outputs": [
        {
          "name": "stdout",
          "output_type": "stream",
          "text": [
            "young people participate in athletic activities \n"
          ]
        },
        {
          "data": {
            "text/html": [
              "\n",
              "                <audio  controls=\"controls\" autoplay=\"autoplay\">\n",
              "                    <source src=\"data:audio/wav;base64,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\" type=\"audio/wav\" />\n",
              "                    Your browser does not support the audio element.\n",
              "                </audio>\n",
              "              "
            ],
            "text/plain": [
              "<IPython.lib.display.Audio object>"
            ]
          },
          "execution_count": 85,
          "metadata": {},
          "output_type": "execute_result"
        }
      ],
      "source": [
        "import IPython.display as ipd\n",
        "import numpy as np\n",
        "import random\n",
        "\n",
        "rand_int = random.randint(0, len(timit[\"train\"]))\n",
        "\n",
        "print(timit[\"train\"][rand_int][\"text\"])\n",
        "ipd.Audio(data=np.asarray(timit[\"train\"][rand_int][\"audio\"][\"array\"]), autoplay=True, rate=16000)"
      ]
    },
    {
      "attachments": {},
      "cell_type": "markdown",
      "metadata": {
        "id": "1MaL9J2dNVtG"
      },
      "source": [
        "It can be heard, that the speakers change along with their speaking rate, accent, etc. Overall, the recordings sound relatively clear though, which is to be expected from a read speech corpus.\n",
        "\n",
        "Let's do a final check that the data is correctly prepared, by printing the shape of the speech input, its transcription, and the corresponding sampling rate.\n",
        "\n",
        "**Note**: *You can click the following cell a couple of times to verify multiple samples.*"
      ]
    },
    {
      "cell_type": "code",
      "execution_count": 86,
      "metadata": {
        "colab": {
          "base_uri": "https://localhost:8080/"
        },
        "id": "1Po2g7YPuRTx",
        "outputId": "20b773d0-b275-4de7-97c9-91ec05420edc"
      },
      "outputs": [
        {
          "name": "stdout",
          "output_type": "stream",
          "text": [
            "Target text: nothing is as offensive as innocence \n",
            "Input array shape: (54068,)\n",
            "Sampling rate: 16000\n"
          ]
        }
      ],
      "source": [
        "rand_int = random.randint(0, len(timit[\"train\"]))\n",
        "\n",
        "print(\"Target text:\", timit[\"train\"][rand_int][\"text\"])\n",
        "print(\"Input array shape:\", np.asarray(timit[\"train\"][rand_int][\"audio\"][\"array\"]).shape)\n",
        "print(\"Sampling rate:\", timit[\"train\"][rand_int][\"audio\"][\"sampling_rate\"])"
      ]
    },
    {
      "attachments": {},
      "cell_type": "markdown",
      "metadata": {
        "id": "M9teZcSwOBJ4"
      },
      "source": [
        "Good! Everything looks fine - the data is a 1-dimensional array, the sampling rate always corresponds to 16kHz, and the target text is normalized."
      ]
    },
    {
      "attachments": {},
      "cell_type": "markdown",
      "metadata": {
        "id": "k3Pbn5WvOYZF"
      },
      "source": [
        "Finally, we can process the dataset to the format expected by the model for training. We will make use of the `map(...)` function.\n",
        "\n",
        "First, we load and resample the audio data, simply by calling `batch[\"audio\"]`.\n",
        "Second, we extract the `input_values` from the loaded audio file. In our case, the `Wav2Vec2Processor` only normalizes the data. For other speech models, however, this step can include more complex feature extraction, such as [Log-Mel feature extraction](https://en.wikipedia.org/wiki/Mel-frequency_cepstrum).\n",
        "Third, we encode the transcriptions to label ids.\n",
        "\n",
        "**Note**: This mapping function is a good example of how the `Wav2Vec2Processor` class should be used. In \"normal\" context, calling `processor(...)` is redirected to `Wav2Vec2FeatureExtractor`'s call method. When wrapping the processor into the `as_target_processor` context, however, the same method is redirected to `Wav2Vec2CTCTokenizer`'s call method.\n",
        "For more information please check the [docs](https://huggingface.co/transformers/master/model_doc/wav2vec2.html#transformers.Wav2Vec2Processor.__call__)."
      ]
    },
    {
      "cell_type": "code",
      "execution_count": 87,
      "metadata": {
        "id": "eJY7I0XAwe9p"
      },
      "outputs": [],
      "source": [
        "def prepare_dataset(batch):\n",
        "    audio = batch[\"audio\"]\n",
        "\n",
        "    # batched output is \"un-batched\" to ensure mapping is correct\n",
        "    batch[\"input_values\"] = processor(audio[\"array\"], sampling_rate=audio[\"sampling_rate\"]).input_values[0]\n",
        "    batch[\"input_length\"] = len(batch[\"input_values\"])\n",
        "\n",
        "    with processor.as_target_processor():\n",
        "        batch[\"labels\"] = processor(batch[\"text\"]).input_ids\n",
        "    return batch"
      ]
    },
    {
      "attachments": {},
      "cell_type": "markdown",
      "metadata": {
        "id": "hVMZhH4-nP8-"
      },
      "source": [
        "Let's apply the data preparation function to all examples."
      ]
    },
    {
      "cell_type": "code",
      "execution_count": 88,
      "metadata": {
        "id": "-np9xYK-wl8q"
      },
      "outputs": [
        {
          "name": "stderr",
          "output_type": "stream",
          "text": [
            " #0: 0ex [00:00, ?ex/s]\n",
            "\u001b[A\n",
            "\n",
            " #0: 37ex [00:00, 361.01ex/s]\n",
            "\u001b[A\n",
            "\n",
            " #0: 86ex [00:00, 435.79ex/s]\n",
            "\u001b[A\n",
            "\n",
            " #0: 135ex [00:00, 459.44ex/s]\n",
            "\u001b[A\n",
            "\n",
            " #0: 186ex [00:00, 476.64ex/s]\n",
            "\u001b[A\n",
            "\n",
            " #0: 237ex [00:00, 486.80ex/s]\n",
            "\u001b[A\n",
            "\n",
            " #0: 289ex [00:00, 495.87ex/s]\n",
            "\u001b[A\n",
            "\n",
            " #0: 339ex [00:00, 492.65ex/s]\n",
            "\u001b[A\n",
            "\n",
            " #0: 389ex [00:00, 492.85ex/s]\n",
            "\u001b[A\n",
            "\n",
            " #0: 439ex [00:00, 494.60ex/s]\n",
            "\u001b[A\n",
            "\n",
            " #0: 489ex [00:01, 494.17ex/s]\n",
            "\u001b[A\n",
            "\n",
            " #0: 539ex [00:01, 492.81ex/s]\n",
            "\u001b[A\n",
            "\n",
            " #0: 590ex [00:01, 494.91ex/s]\n",
            "\u001b[A\n",
            "\n",
            " #0: 642ex [00:01, 500.24ex/s]\n",
            "\u001b[A\n",
            "\n",
            " #0: 693ex [00:01, 499.97ex/s]\n",
            "\u001b[A\n",
            "\n",
            " #0: 744ex [00:01, 501.15ex/s]\n",
            "\u001b[A\n",
            "\n",
            " #0: 795ex [00:01, 499.42ex/s]\n",
            "\u001b[A\n",
            "\n",
            " #0: 845ex [00:01, 494.13ex/s]\n",
            "\u001b[A\n",
            "\n",
            " #0: 895ex [00:01, 493.74ex/s]\n",
            "\u001b[A\n",
            "\n",
            " #0: 946ex [00:01, 496.50ex/s]\n",
            "\u001b[A\n",
            "\n",
            " #0: 998ex [00:02, 503.39ex/s]\n",
            "\u001b[A\n",
            "\n",
            "\u001b[A\u001b[A/home/cslab03/anaconda3/envs/coEnv/lib/python3.9/site-packages/datasets/features/features.py:1131: FutureWarning: In the future `np.object` will be defined as the corresponding NumPy scalar.\n",
            "  [0] + [len(arr) for arr in l_arr], dtype=np.object\n",
            " #0: 999ex [00:02, 453.83ex/s]\n",
            "/home/cslab03/anaconda3/envs/coEnv/lib/python3.9/site-packages/datasets/features/features.py:1131: FutureWarning: In the future `np.object` will be defined as the corresponding NumPy scalar.\n",
            "  [0] + [len(arr) for arr in l_arr], dtype=np.object\n",
            " #3: 999ex [00:02, 444.43ex/s]\n",
            "/home/cslab03/anaconda3/envs/coEnv/lib/python3.9/site-packages/datasets/features/features.py:1131: FutureWarning: In the future `np.object` will be defined as the corresponding NumPy scalar.\n",
            "  [0] + [len(arr) for arr in l_arr], dtype=np.object\n",
            " #1: 999ex [00:02, 434.44ex/s]\n",
            "/home/cslab03/anaconda3/envs/coEnv/lib/python3.9/site-packages/datasets/features/features.py:1131: FutureWarning: In the future `np.object` will be defined as the corresponding NumPy scalar.\n",
            "  [0] + [len(arr) for arr in l_arr], dtype=np.object\n",
            " #2: 999ex [00:02, 433.26ex/s]\n"
          ]
        },
        {
          "ename": "AttributeError",
          "evalue": "module 'numpy' has no attribute 'object'.\n`np.object` was a deprecated alias for the builtin `object`. To avoid this error in existing code, use `object` by itself. Doing this will not modify any behavior and is safe. \nThe aliases was originally deprecated in NumPy 1.20; for more details and guidance see the original release note at:\n    https://numpy.org/devdocs/release/1.20.0-notes.html#deprecations",
          "output_type": "error",
          "traceback": [
            "\u001b[0;31m---------------------------------------------------------------------------\u001b[0m",
            "\u001b[0;31mRemoteTraceback\u001b[0m                           Traceback (most recent call last)",
            "\u001b[0;31mRemoteTraceback\u001b[0m: \n\"\"\"\nTraceback (most recent call last):\n  File \"/home/cslab03/anaconda3/envs/coEnv/lib/python3.9/site-packages/datasets/arrow_dataset.py\", line 2468, in _map_single\n    writer.write(example)\n  File \"/home/cslab03/anaconda3/envs/coEnv/lib/python3.9/site-packages/datasets/arrow_writer.py\", line 444, in write\n    self.write_examples_on_file()\n  File \"/home/cslab03/anaconda3/envs/coEnv/lib/python3.9/site-packages/datasets/arrow_writer.py\", line 402, in write_examples_on_file\n    self.write_batch(batch_examples=batch_examples)\n  File \"/home/cslab03/anaconda3/envs/coEnv/lib/python3.9/site-packages/datasets/arrow_writer.py\", line 495, in write_batch\n    arrays.append(pa.array(typed_sequence))\n  File \"pyarrow/array.pxi\", line 243, in pyarrow.lib.array\n  File \"pyarrow/array.pxi\", line 110, in pyarrow.lib._handle_arrow_array_protocol\n  File \"/home/cslab03/anaconda3/envs/coEnv/lib/python3.9/site-packages/datasets/arrow_writer.py\", line 185, in __arrow_array__\n    out = list_of_np_array_to_pyarrow_listarray(data)\n  File \"/home/cslab03/anaconda3/envs/coEnv/lib/python3.9/site-packages/datasets/features/features.py\", line 1142, in list_of_np_array_to_pyarrow_listarray\n    return list_of_pa_arrays_to_pyarrow_listarray(\n  File \"/home/cslab03/anaconda3/envs/coEnv/lib/python3.9/site-packages/datasets/features/features.py\", line 1131, in list_of_pa_arrays_to_pyarrow_listarray\n    [0] + [len(arr) for arr in l_arr], dtype=np.object\n  File \"/home/cslab03/anaconda3/envs/coEnv/lib/python3.9/site-packages/numpy/__init__.py\", line 305, in __getattr__\n    # the full `numpy.testing` namespace\nAttributeError: module 'numpy' has no attribute 'object'.\n`np.object` was a deprecated alias for the builtin `object`. To avoid this error in existing code, use `object` by itself. Doing this will not modify any behavior and is safe. \nThe aliases was originally deprecated in NumPy 1.20; for more details and guidance see the original release note at:\n    https://numpy.org/devdocs/release/1.20.0-notes.html#deprecations\n\nDuring handling of the above exception, another exception occurred:\n\nTraceback (most recent call last):\n  File \"/home/cslab03/anaconda3/envs/coEnv/lib/python3.9/site-packages/multiprocess/pool.py\", line 125, in worker\n    result = (True, func(*args, **kwds))\n  File \"/home/cslab03/anaconda3/envs/coEnv/lib/python3.9/site-packages/datasets/arrow_dataset.py\", line 518, in wrapper\n    out: Union[\"Dataset\", \"DatasetDict\"] = func(self, *args, **kwargs)\n  File \"/home/cslab03/anaconda3/envs/coEnv/lib/python3.9/site-packages/datasets/arrow_dataset.py\", line 485, in wrapper\n    out: Union[\"Dataset\", \"DatasetDict\"] = func(self, *args, **kwargs)\n  File \"/home/cslab03/anaconda3/envs/coEnv/lib/python3.9/site-packages/datasets/fingerprint.py\", line 413, in wrapper\n    out = func(self, *args, **kwargs)\n  File \"/home/cslab03/anaconda3/envs/coEnv/lib/python3.9/site-packages/datasets/arrow_dataset.py\", line 2504, in _map_single\n    writer.finalize()\n  File \"/home/cslab03/anaconda3/envs/coEnv/lib/python3.9/site-packages/datasets/arrow_writer.py\", line 525, in finalize\n    self.write_examples_on_file()\n  File \"/home/cslab03/anaconda3/envs/coEnv/lib/python3.9/site-packages/datasets/arrow_writer.py\", line 402, in write_examples_on_file\n    self.write_batch(batch_examples=batch_examples)\n  File \"/home/cslab03/anaconda3/envs/coEnv/lib/python3.9/site-packages/datasets/arrow_writer.py\", line 495, in write_batch\n    arrays.append(pa.array(typed_sequence))\n  File \"pyarrow/array.pxi\", line 243, in pyarrow.lib.array\n  File \"pyarrow/array.pxi\", line 110, in pyarrow.lib._handle_arrow_array_protocol\n  File \"/home/cslab03/anaconda3/envs/coEnv/lib/python3.9/site-packages/datasets/arrow_writer.py\", line 185, in __arrow_array__\n    out = list_of_np_array_to_pyarrow_listarray(data)\n  File \"/home/cslab03/anaconda3/envs/coEnv/lib/python3.9/site-packages/datasets/features/features.py\", line 1142, in list_of_np_array_to_pyarrow_listarray\n    return list_of_pa_arrays_to_pyarrow_listarray(\n  File \"/home/cslab03/anaconda3/envs/coEnv/lib/python3.9/site-packages/datasets/features/features.py\", line 1131, in list_of_pa_arrays_to_pyarrow_listarray\n    [0] + [len(arr) for arr in l_arr], dtype=np.object\n  File \"/home/cslab03/anaconda3/envs/coEnv/lib/python3.9/site-packages/numpy/__init__.py\", line 305, in __getattr__\n    # the full `numpy.testing` namespace\nAttributeError: module 'numpy' has no attribute 'object'.\n`np.object` was a deprecated alias for the builtin `object`. To avoid this error in existing code, use `object` by itself. Doing this will not modify any behavior and is safe. \nThe aliases was originally deprecated in NumPy 1.20; for more details and guidance see the original release note at:\n    https://numpy.org/devdocs/release/1.20.0-notes.html#deprecations\n\"\"\"",
            "\nThe above exception was the direct cause of the following exception:\n",
            "\u001b[0;31mAttributeError\u001b[0m                            Traceback (most recent call last)",
            "Cell \u001b[0;32mIn[88], line 1\u001b[0m\n\u001b[0;32m----> 1\u001b[0m timit \u001b[39m=\u001b[39m timit\u001b[39m.\u001b[39;49mmap(prepare_dataset, remove_columns\u001b[39m=\u001b[39;49mtimit\u001b[39m.\u001b[39;49mcolumn_names[\u001b[39m\"\u001b[39;49m\u001b[39mtrain\u001b[39;49m\u001b[39m\"\u001b[39;49m], num_proc\u001b[39m=\u001b[39;49m\u001b[39m4\u001b[39;49m)\n",
            "File \u001b[0;32m~/anaconda3/envs/coEnv/lib/python3.9/site-packages/datasets/dataset_dict.py:494\u001b[0m, in \u001b[0;36mDatasetDict.map\u001b[0;34m(self, function, with_indices, input_columns, batched, batch_size, remove_columns, keep_in_memory, load_from_cache_file, cache_file_names, writer_batch_size, features, disable_nullable, fn_kwargs, num_proc, desc)\u001b[0m\n\u001b[1;32m    491\u001b[0m \u001b[39mif\u001b[39;00m cache_file_names \u001b[39mis\u001b[39;00m \u001b[39mNone\u001b[39;00m:\n\u001b[1;32m    492\u001b[0m     cache_file_names \u001b[39m=\u001b[39m {k: \u001b[39mNone\u001b[39;00m \u001b[39mfor\u001b[39;00m k \u001b[39min\u001b[39;00m \u001b[39mself\u001b[39m}\n\u001b[1;32m    493\u001b[0m \u001b[39mreturn\u001b[39;00m DatasetDict(\n\u001b[0;32m--> 494\u001b[0m     {\n\u001b[1;32m    495\u001b[0m         k: dataset\u001b[39m.\u001b[39mmap(\n\u001b[1;32m    496\u001b[0m             function\u001b[39m=\u001b[39mfunction,\n\u001b[1;32m    497\u001b[0m             with_indices\u001b[39m=\u001b[39mwith_indices,\n\u001b[1;32m    498\u001b[0m             input_columns\u001b[39m=\u001b[39minput_columns,\n\u001b[1;32m    499\u001b[0m             batched\u001b[39m=\u001b[39mbatched,\n\u001b[1;32m    500\u001b[0m             batch_size\u001b[39m=\u001b[39mbatch_size,\n\u001b[1;32m    501\u001b[0m             remove_columns\u001b[39m=\u001b[39mremove_columns,\n\u001b[1;32m    502\u001b[0m             keep_in_memory\u001b[39m=\u001b[39mkeep_in_memory,\n\u001b[1;32m    503\u001b[0m             load_from_cache_file\u001b[39m=\u001b[39mload_from_cache_file,\n\u001b[1;32m    504\u001b[0m             cache_file_name\u001b[39m=\u001b[39mcache_file_names[k],\n\u001b[1;32m    505\u001b[0m             writer_batch_size\u001b[39m=\u001b[39mwriter_batch_size,\n\u001b[1;32m    506\u001b[0m             features\u001b[39m=\u001b[39mfeatures,\n\u001b[1;32m    507\u001b[0m             disable_nullable\u001b[39m=\u001b[39mdisable_nullable,\n\u001b[1;32m    508\u001b[0m             fn_kwargs\u001b[39m=\u001b[39mfn_kwargs,\n\u001b[1;32m    509\u001b[0m             num_proc\u001b[39m=\u001b[39mnum_proc,\n\u001b[1;32m    510\u001b[0m             desc\u001b[39m=\u001b[39mdesc,\n\u001b[1;32m    511\u001b[0m         )\n\u001b[1;32m    512\u001b[0m         \u001b[39mfor\u001b[39;00m k, dataset \u001b[39min\u001b[39;00m \u001b[39mself\u001b[39m\u001b[39m.\u001b[39mitems()\n\u001b[1;32m    513\u001b[0m     }\n\u001b[1;32m    514\u001b[0m )\n",
            "File \u001b[0;32m~/anaconda3/envs/coEnv/lib/python3.9/site-packages/datasets/dataset_dict.py:495\u001b[0m, in \u001b[0;36m<dictcomp>\u001b[0;34m(.0)\u001b[0m\n\u001b[1;32m    491\u001b[0m \u001b[39mif\u001b[39;00m cache_file_names \u001b[39mis\u001b[39;00m \u001b[39mNone\u001b[39;00m:\n\u001b[1;32m    492\u001b[0m     cache_file_names \u001b[39m=\u001b[39m {k: \u001b[39mNone\u001b[39;00m \u001b[39mfor\u001b[39;00m k \u001b[39min\u001b[39;00m \u001b[39mself\u001b[39m}\n\u001b[1;32m    493\u001b[0m \u001b[39mreturn\u001b[39;00m DatasetDict(\n\u001b[1;32m    494\u001b[0m     {\n\u001b[0;32m--> 495\u001b[0m         k: dataset\u001b[39m.\u001b[39;49mmap(\n\u001b[1;32m    496\u001b[0m             function\u001b[39m=\u001b[39;49mfunction,\n\u001b[1;32m    497\u001b[0m             with_indices\u001b[39m=\u001b[39;49mwith_indices,\n\u001b[1;32m    498\u001b[0m             input_columns\u001b[39m=\u001b[39;49minput_columns,\n\u001b[1;32m    499\u001b[0m             batched\u001b[39m=\u001b[39;49mbatched,\n\u001b[1;32m    500\u001b[0m             batch_size\u001b[39m=\u001b[39;49mbatch_size,\n\u001b[1;32m    501\u001b[0m             remove_columns\u001b[39m=\u001b[39;49mremove_columns,\n\u001b[1;32m    502\u001b[0m             keep_in_memory\u001b[39m=\u001b[39;49mkeep_in_memory,\n\u001b[1;32m    503\u001b[0m             load_from_cache_file\u001b[39m=\u001b[39;49mload_from_cache_file,\n\u001b[1;32m    504\u001b[0m             cache_file_name\u001b[39m=\u001b[39;49mcache_file_names[k],\n\u001b[1;32m    505\u001b[0m             writer_batch_size\u001b[39m=\u001b[39;49mwriter_batch_size,\n\u001b[1;32m    506\u001b[0m             features\u001b[39m=\u001b[39;49mfeatures,\n\u001b[1;32m    507\u001b[0m             disable_nullable\u001b[39m=\u001b[39;49mdisable_nullable,\n\u001b[1;32m    508\u001b[0m             fn_kwargs\u001b[39m=\u001b[39;49mfn_kwargs,\n\u001b[1;32m    509\u001b[0m             num_proc\u001b[39m=\u001b[39;49mnum_proc,\n\u001b[1;32m    510\u001b[0m             desc\u001b[39m=\u001b[39;49mdesc,\n\u001b[1;32m    511\u001b[0m         )\n\u001b[1;32m    512\u001b[0m         \u001b[39mfor\u001b[39;00m k, dataset \u001b[39min\u001b[39;00m \u001b[39mself\u001b[39m\u001b[39m.\u001b[39mitems()\n\u001b[1;32m    513\u001b[0m     }\n\u001b[1;32m    514\u001b[0m )\n",
            "File \u001b[0;32m~/anaconda3/envs/coEnv/lib/python3.9/site-packages/datasets/arrow_dataset.py:2215\u001b[0m, in \u001b[0;36mDataset.map\u001b[0;34m(self, function, with_indices, with_rank, input_columns, batched, batch_size, drop_last_batch, remove_columns, keep_in_memory, load_from_cache_file, cache_file_name, writer_batch_size, features, disable_nullable, fn_kwargs, num_proc, suffix_template, new_fingerprint, desc)\u001b[0m\n\u001b[1;32m   2210\u001b[0m         \u001b[39massert\u001b[39;00m (\n\u001b[1;32m   2211\u001b[0m             \u001b[39mlen\u001b[39m(results) \u001b[39m==\u001b[39m nb_of_missing_shards\n\u001b[1;32m   2212\u001b[0m         ), \u001b[39m\"\u001b[39m\u001b[39mThe number of missing cached shards needs to correspond to the number of `_map_single` we\u001b[39m\u001b[39m'\u001b[39m\u001b[39mre running\u001b[39m\u001b[39m\"\u001b[39m\n\u001b[1;32m   2214\u001b[0m         \u001b[39mfor\u001b[39;00m index, async_result \u001b[39min\u001b[39;00m results\u001b[39m.\u001b[39mitems():\n\u001b[0;32m-> 2215\u001b[0m             transformed_shards[index] \u001b[39m=\u001b[39m async_result\u001b[39m.\u001b[39;49mget()\n\u001b[1;32m   2217\u001b[0m \u001b[39massert\u001b[39;00m (\n\u001b[1;32m   2218\u001b[0m     transformed_shards\u001b[39m.\u001b[39mcount(\u001b[39mNone\u001b[39;00m) \u001b[39m==\u001b[39m \u001b[39m0\u001b[39m\n\u001b[1;32m   2219\u001b[0m ), \u001b[39m\"\u001b[39m\u001b[39mAll shards have to be defined Datasets, none should still be missing.\u001b[39m\u001b[39m\"\u001b[39m\n\u001b[1;32m   2221\u001b[0m logger\u001b[39m.\u001b[39minfo(\u001b[39mf\u001b[39m\u001b[39m\"\u001b[39m\u001b[39mConcatenating \u001b[39m\u001b[39m{\u001b[39;00mnum_proc\u001b[39m}\u001b[39;00m\u001b[39m shards\u001b[39m\u001b[39m\"\u001b[39m)\n",
            "File \u001b[0;32m~/anaconda3/envs/coEnv/lib/python3.9/site-packages/multiprocess/pool.py:771\u001b[0m, in \u001b[0;36mApplyResult.get\u001b[0;34m(self, timeout)\u001b[0m\n\u001b[1;32m    769\u001b[0m     \u001b[39mreturn\u001b[39;00m \u001b[39mself\u001b[39m\u001b[39m.\u001b[39m_value\n\u001b[1;32m    770\u001b[0m \u001b[39melse\u001b[39;00m:\n\u001b[0;32m--> 771\u001b[0m     \u001b[39mraise\u001b[39;00m \u001b[39mself\u001b[39m\u001b[39m.\u001b[39m_value\n",
            "\u001b[0;31mAttributeError\u001b[0m: module 'numpy' has no attribute 'object'.\n`np.object` was a deprecated alias for the builtin `object`. To avoid this error in existing code, use `object` by itself. Doing this will not modify any behavior and is safe. \nThe aliases was originally deprecated in NumPy 1.20; for more details and guidance see the original release note at:\n    https://numpy.org/devdocs/release/1.20.0-notes.html#deprecations"
          ]
        }
      ],
      "source": [
        "timit = timit.map(prepare_dataset, remove_columns=timit.column_names[\"train\"], num_proc=4)"
      ]
    },
    {
      "attachments": {},
      "cell_type": "markdown",
      "metadata": {
        "id": "p_MuJSH8nTuQ"
      },
      "source": [
        "**Note**: Currently `datasets` make use of [`torchaudio`](https://pytorch.org/audio/stable/index.html) and [`librosa`](https://librosa.org/doc/latest/index.html) for audio loading and resampling. If you wish to implement your own costumized data loading/sampling, feel free to just make use of the `\"path\"` column instead and disregard the `\"audio\"` column."
      ]
    },
    {
      "attachments": {},
      "cell_type": "markdown",
      "metadata": {
        "id": "M4J0bU1WsvAg"
      },
      "source": [
        "Long input sequences require a lot of memory. Since `Wav2Vec2` is based on `self-attention` the memory requirement scales quadratically with the input length for long input sequences (*cf.* with [this](https://www.reddit.com/r/MachineLearning/comments/genjvb/d_why_is_the_maximum_input_sequence_length_of/) reddit post). For this demo, let's filter all sequences that are longer than 4 seconds out of the training dataset."
      ]
    },
    {
      "cell_type": "code",
      "execution_count": null,
      "metadata": {
        "colab": {
          "base_uri": "https://localhost:8080/",
          "height": 49,
          "referenced_widgets": [
            "7006ee29b4ef406381b7fbd117b4b333",
            "c4960a24842040638dc4f7a81b737d6f",
            "2cb200945757448abb65d4af8fe4b95f",
            "d11bbf7a3d924028958d5bcc0a72e122",
            "374e9b6e9fcc45eabe84ae0c9f286546",
            "fcd185b60d6e4e60a8ab964aac262f73",
            "46b49c05ae70468cbe834a11a86c53ee",
            "480805c0a342489dbe01eef7aa1a9b65",
            "c7729e98d977430a8a85243bab1dc83d",
            "b55fea5b10694c8cb1aa93622170ff8c",
            "362150e5ee6b409381c9a3f2c4199186"
          ]
        },
        "id": "nqGobEPUvG3v",
        "outputId": "fafa598d-49a2-4ba3-cadb-8be5817944f0"
      },
      "outputs": [
        {
          "data": {
            "application/vnd.jupyter.widget-view+json": {
              "model_id": "30c95c8500b943f590debd2840f19818",
              "version_major": 2,
              "version_minor": 0
            },
            "text/plain": [
              "  0%|          | 0/5 [00:00<?, ?ba/s]"
            ]
          },
          "metadata": {},
          "output_type": "display_data"
        }
      ],
      "source": [
        "max_input_length_in_sec = 4.0\n",
        "timit[\"train\"] = timit[\"train\"].filter(lambda x: x < max_input_length_in_sec * processor.feature_extractor.sampling_rate, input_columns=[\"input_length\"])"
      ]
    },
    {
      "attachments": {},
      "cell_type": "markdown",
      "metadata": {
        "id": "25Genil2v_Br"
      },
      "source": [
        "Awesome, now we are ready to start training!"
      ]
    },
    {
      "attachments": {},
      "cell_type": "markdown",
      "metadata": {
        "id": "gYlQkKVoRUos"
      },
      "source": [
        "## Training & Evaluation\n",
        "\n",
        "The data is processed so that we are ready to start setting up the training pipeline. We will make use of 🤗's [Trainer](https://huggingface.co/transformers/master/main_classes/trainer.html?highlight=trainer) for which we essentially need to do the following:\n",
        "\n",
        "- Define a data collator. In contrast to most NLP models, Wav2Vec2 has a much larger input length than output length. *E.g.*, a sample of input length 50000 has an output length of no more than 100. Given the large input sizes, it is much more efficient to pad the training batches dynamically meaning that all training samples should only be padded to the longest sample in their batch and not the overall longest sample. Therefore, fine-tuning Wav2Vec2 requires a special padding data collator, which we will define below\n",
        "\n",
        "- Evaluation metric. During training, the model should be evaluated on the word error rate. We should define a `compute_metrics` function accordingly\n",
        "\n",
        "- Load a pretrained checkpoint. We need to load a pretrained checkpoint and configure it correctly for training.\n",
        "\n",
        "- Define the training configuration.\n",
        "\n",
        "After having fine-tuned the model, we will correctly evaluate it on the test data and verify that it has indeed learned to correctly transcribe speech."
      ]
    },
    {
      "attachments": {},
      "cell_type": "markdown",
      "metadata": {
        "id": "Slk403unUS91"
      },
      "source": [
        "### Set-up Trainer\n",
        "\n",
        "Let's start by defining the data collator. The code for the data collator was copied from [this example](https://github.com/huggingface/transformers/blob/9a06b6b11bdfc42eea08fa91d0c737d1863c99e3/examples/research_projects/wav2vec2/run_asr.py#L81).\n",
        "\n",
        "Without going into too many details, in contrast to the common data collators, this data collator treats the `input_values` and `labels` differently and thus applies to separate padding functions on them (again making use of Wav2Vec2's context manager). This is necessary because in speech input and output are of different modalities meaning that they should not be treated by the same padding function.\n",
        "Analogous to the common data collators, the padding tokens in the labels with `-100` so that those tokens are **not** taken into account when computing the loss."
      ]
    },
    {
      "cell_type": "code",
      "execution_count": null,
      "metadata": {
        "id": "tborvC9hx88e"
      },
      "outputs": [],
      "source": [
        "import torch\n",
        "\n",
        "from dataclasses import dataclass, field\n",
        "from typing import Any, Dict, List, Optional, Union\n",
        "\n",
        "@dataclass\n",
        "class DataCollatorCTCWithPadding:\n",
        "    \"\"\"\n",
        "    Data collator that will dynamically pad the inputs received.\n",
        "    Args:\n",
        "        processor (:class:`~transformers.Wav2Vec2Processor`)\n",
        "            The processor used for proccessing the data.\n",
        "        padding (:obj:`bool`, :obj:`str` or :class:`~transformers.tokenization_utils_base.PaddingStrategy`, `optional`, defaults to :obj:`True`):\n",
        "            Select a strategy to pad the returned sequences (according to the model's padding side and padding index)\n",
        "            among:\n",
        "            * :obj:`True` or :obj:`'longest'`: Pad to the longest sequence in the batch (or no padding if only a single\n",
        "              sequence if provided).\n",
        "            * :obj:`'max_length'`: Pad to a maximum length specified with the argument :obj:`max_length` or to the\n",
        "              maximum acceptable input length for the model if that argument is not provided.\n",
        "            * :obj:`False` or :obj:`'do_not_pad'` (default): No padding (i.e., can output a batch with sequences of\n",
        "              different lengths).\n",
        "    \"\"\"\n",
        "\n",
        "    processor: Wav2Vec2Processor\n",
        "    padding: Union[bool, str] = True\n",
        "\n",
        "    def __call__(self, features: List[Dict[str, Union[List[int], torch.Tensor]]]) -> Dict[str, torch.Tensor]:\n",
        "        # split inputs and labels since they have to be of different lenghts and need\n",
        "        # different padding methods\n",
        "        input_features = [{\"input_values\": feature[\"input_values\"]} for feature in features]\n",
        "        label_features = [{\"input_ids\": feature[\"labels\"]} for feature in features]\n",
        "\n",
        "        batch = self.processor.pad(\n",
        "            input_features,\n",
        "            padding=self.padding,\n",
        "            return_tensors=\"pt\",\n",
        "        )\n",
        "        with self.processor.as_target_processor():\n",
        "            labels_batch = self.processor.pad(\n",
        "                label_features,\n",
        "                padding=self.padding,\n",
        "                return_tensors=\"pt\",\n",
        "            )\n",
        "\n",
        "        # replace padding with -100 to ignore loss correctly\n",
        "        labels = labels_batch[\"input_ids\"].masked_fill(labels_batch.attention_mask.ne(1), -100)\n",
        "\n",
        "        batch[\"labels\"] = labels\n",
        "\n",
        "        return batch"
      ]
    },
    {
      "cell_type": "code",
      "execution_count": null,
      "metadata": {
        "id": "lbQf5GuZyQ4_"
      },
      "outputs": [],
      "source": [
        "data_collator = DataCollatorCTCWithPadding(processor=processor, padding=True)"
      ]
    },
    {
      "attachments": {},
      "cell_type": "markdown",
      "metadata": {
        "id": "xO-Zdj-5cxXp"
      },
      "source": [
        "Next, the evaluation metric is defined. As mentioned earlier, the\n",
        "predominant metric in ASR is the word error rate (WER), hence we will use it in this notebook as well."
      ]
    },
    {
      "cell_type": "code",
      "execution_count": null,
      "metadata": {
        "colab": {
          "base_uri": "https://localhost:8080/",
          "height": 49,
          "referenced_widgets": [
            "e2df8e697e9c4f64a2bba0b6de2e8d49",
            "334975266d804748874f5d5621af50ba",
            "ab4a2cca2b404d25b2cda485c7c28077",
            "c781acd05e244750a8084992acc4ac2c",
            "1cb0c8f214cc4de791e49af3c793380a",
            "b51bb202d2214ff28d2a4cd7216443a7",
            "c3a76df48c1f46a6a588babaadaafce2",
            "da8639f433da4cefa2affd438ac18c89",
            "f4cfe55a73c141ef9b751d0db992d3cf",
            "8da462790a6d4fbb9251290bd9ee14f0",
            "fe31c534d6cd46da8b6a640e039a4d6c"
          ]
        },
        "id": "9Xsux2gmyXso",
        "outputId": "c8d63dfd-b8a9-453e-8ff6-276c6034cc54"
      },
      "outputs": [],
      "source": [
        "wer_metric = load_metric(\"wer\")"
      ]
    },
    {
      "attachments": {},
      "cell_type": "markdown",
      "metadata": {
        "id": "E1qZU5p-deqB"
      },
      "source": [
        "The model will return a sequence of logit vectors:\n",
        "$\\mathbf{y}_1, \\ldots, \\mathbf{y}_m$ with $\\mathbf{y}_1 = f_{\\theta}(x_1, \\ldots, x_n)[0]$ and $n >> m$.\n",
        "\n",
        "A logit vector $\\mathbf{y}_1$ contains the log-odds for each word in the vocabulary we defined earlier, thus $\\text{len}(\\mathbf{y}_i) =$ `config.vocab_size`. We are interested in the most likely prediction of the model and thus take the `argmax(...)` of the logits. Also, we transform the encoded labels back to the original string by replacing `-100` with the `pad_token_id` and decoding the ids while making sure that consecutive tokens are **not** grouped to the same token in CTC style ${}^1$."
      ]
    },
    {
      "cell_type": "code",
      "execution_count": null,
      "metadata": {
        "id": "1XZ-kjweyTy_"
      },
      "outputs": [],
      "source": [
        "def compute_metrics(pred):\n",
        "    pred_logits = pred.predictions\n",
        "    pred_ids = np.argmax(pred_logits, axis=-1)\n",
        "\n",
        "    pred.label_ids[pred.label_ids == -100] = processor.tokenizer.pad_token_id\n",
        "\n",
        "    pred_str = processor.batch_decode(pred_ids)\n",
        "    # we do not want to group tokens when computing the metrics\n",
        "    label_str = processor.batch_decode(pred.label_ids, group_tokens=False)\n",
        "\n",
        "    wer = wer_metric.compute(predictions=pred_str, references=label_str)\n",
        "\n",
        "    return {\"wer\": wer}"
      ]
    },
    {
      "attachments": {},
      "cell_type": "markdown",
      "metadata": {
        "id": "Xmgrx4bRwLIH"
      },
      "source": [
        "Now, we can load the pretrained `Wav2Vec2` checkpoint. The tokenizer's `pad_token_id` must be to define the model's `pad_token_id` or in the case of `Wav2Vec2ForCTC` also CTC's *blank token* ${}^2$. To save GPU memory, we enable PyTorch's [gradient checkpointing](https://pytorch.org/docs/stable/checkpoint.html) and also set the loss reduction to \"*mean*\"."
      ]
    },
    {
      "cell_type": "code",
      "execution_count": null,
      "metadata": {
        "colab": {
          "base_uri": "https://localhost:8080/",
          "height": 223,
          "referenced_widgets": [
            "e57c5cbc0380464994c4a5b42de76c66",
            "47d42cc391cd46049052a802e46364b6",
            "2a49340e51fc4054a2616d1990109d7c",
            "5c09a1875b4f4cc2b3cf64a52b4fd8b8",
            "7664d4cd39254acfb97b63a3331c8b25",
            "b92aa97e7bf4400c8e1314fd9cd6360c",
            "ae02bea4efb44660aa5718e913f38d1d",
            "bd85d28cc40142998b42434a705de501",
            "7a913dfa92e7410f8304bd12b186671e",
            "2e4870ab55404beaafde980d48618ed7",
            "b85b4466791b4764ab4ef51f90281e9f",
            "96fb47902431425f86a6a5ab760c92d3",
            "4d26ca1886f0449ea7bd6b4c8de7ab24",
            "e610d02445bd4e5e9b4783658f058147",
            "8a07f08956924a38b2a57f70b0fbeead",
            "39a54ded218f48048321c604eece88d9",
            "b27cb4080cb642739729fed51ee8c3ad",
            "8ba99977f5d64f69820c6cb91020848c",
            "41761888fc3547bf81907d84c07cd964",
            "d2174b1613f54697a70a519f40b5aee8",
            "33d85e2daf4e45e48d1eb5dbf86cd4b6",
            "05de8b07f5a54cdaabb7ad3de4a032b3"
          ]
        },
        "id": "e7cqAWIayn6w",
        "outputId": "e0c7e9ba-db20-4128-bf9a-7d377aa3eb77"
      },
      "outputs": [
        {
          "name": "stderr",
          "output_type": "stream",
          "text": [
            "/home/cslab03/anaconda3/envs/myenv/lib/python3.9/site-packages/transformers/configuration_utils.py:356: UserWarning: Passing `gradient_checkpointing` to a config initialization is deprecated and will be removed in v5 Transformers. Using `model.gradient_checkpointing_enable()` instead, or if you are using the `Trainer` API, pass `gradient_checkpointing=True` in your `TrainingArguments`.\n",
            "  warnings.warn(\n",
            "Some weights of the model checkpoint at facebook/wav2vec2-base were not used when initializing Wav2Vec2ForCTC: ['quantizer.weight_proj.weight', 'project_q.bias', 'quantizer.weight_proj.bias', 'quantizer.codevectors', 'project_hid.weight', 'project_q.weight', 'project_hid.bias']\n",
            "- This IS expected if you are initializing Wav2Vec2ForCTC from the checkpoint of a model trained on another task or with another architecture (e.g. initializing a BertForSequenceClassification model from a BertForPreTraining model).\n",
            "- This IS NOT expected if you are initializing Wav2Vec2ForCTC from the checkpoint of a model that you expect to be exactly identical (initializing a BertForSequenceClassification model from a BertForSequenceClassification model).\n",
            "Some weights of Wav2Vec2ForCTC were not initialized from the model checkpoint at facebook/wav2vec2-base and are newly initialized: ['lm_head.weight', 'lm_head.bias']\n",
            "You should probably TRAIN this model on a down-stream task to be able to use it for predictions and inference.\n"
          ]
        }
      ],
      "source": [
        "from transformers import Wav2Vec2ForCTC\n",
        "\n",
        "model = Wav2Vec2ForCTC.from_pretrained(\n",
        "    \"facebook/wav2vec2-base\",\n",
        "    ctc_loss_reduction=\"mean\",\n",
        "    pad_token_id=processor.tokenizer.pad_token_id,\n",
        ")"
      ]
    },
    {
      "attachments": {},
      "cell_type": "markdown",
      "metadata": {
        "id": "1DwR3XLSzGDD"
      },
      "source": [
        "The first component of Wav2Vec2 consists of a stack of CNN layers that are used to extract acoustically meaningful - but contextually independent - features from the raw speech signal. This part of the model has already been sufficiently trained during pretrainind and as stated in the [paper](https://arxiv.org/abs/2006.11477) does not need to be fine-tuned anymore.\n",
        "Thus, we can set the `requires_grad` to `False` for all parameters of the *feature extraction* part."
      ]
    },
    {
      "cell_type": "code",
      "execution_count": null,
      "metadata": {
        "id": "Et_NUAZjWppc"
      },
      "outputs": [],
      "source": [
        "model.freeze_feature_encoder()"
      ]
    },
    {
      "attachments": {},
      "cell_type": "markdown",
      "metadata": {
        "id": "lD4aGhQM0K-D"
      },
      "source": [
        "In a final step, we define all parameters related to training.\n",
        "To give more explanation on some of the parameters:\n",
        "- `group_by_length` makes training more efficient by grouping training samples of similar input length into one batch. This can significantly speed up training time by heavily reducing the overall number of useless padding tokens that are passed through the model\n",
        "- `learning_rate` and `weight_decay` were heuristically tuned until fine-tuning has become stable. Note that those parameters strongly depend on the Timit dataset and might be suboptimal for other speech datasets.\n",
        "\n",
        "For more explanations on other parameters, one can take a look at the [docs](https://huggingface.co/transformers/master/main_classes/trainer.html?highlight=trainer#trainingarguments).\n",
        "\n",
        "During training, a checkpoint will be uploaded asynchronously to the hub every 400 training steps. It allows you to also play around with the demo widget even while your model is still training.\n",
        "\n",
        "**Note**: If one does not want to upload the model checkpoints to the hub, simply set `push_to_hub=False`."
      ]
    },
    {
      "cell_type": "code",
      "execution_count": null,
      "metadata": {
        "id": "KbeKSV7uzGPP"
      },
      "outputs": [],
      "source": [
        "from transformers import TrainingArguments\n",
        "\n",
        "training_args = TrainingArguments(\n",
        "  output_dir=repo_name,\n",
        "  group_by_length=True,\n",
        "  per_device_train_batch_size=8,\n",
        "  evaluation_strategy=\"steps\",\n",
        "  num_train_epochs=30,\n",
        "  gradient_checkpointing=True,\n",
        "  save_steps=500,\n",
        "  eval_steps=500,\n",
        "  logging_steps=500,\n",
        "  learning_rate=1e-4,\n",
        "  weight_decay=0.005,\n",
        "  warmup_steps=1000,\n",
        "  save_total_limit=2,\n",
        ")"
      ]
    },
    {
      "attachments": {},
      "cell_type": "markdown",
      "metadata": {
        "id": "OsW-WZcL1ZtN"
      },
      "source": [
        "Now, all instances can be passed to Trainer and we are ready to start training!"
      ]
    },
    {
      "cell_type": "code",
      "execution_count": null,
      "metadata": {
        "colab": {
          "base_uri": "https://localhost:8080/"
        },
        "id": "rY7vBmFCPFgC",
        "outputId": "26901f74-4187-4a33-b00c-94861a6059b3"
      },
      "outputs": [],
      "source": [
        "from transformers import Trainer\n",
        "\n",
        "trainer = Trainer(\n",
        "    model=model,\n",
        "    data_collator=data_collator,\n",
        "    args=training_args,\n",
        "    compute_metrics=compute_metrics,\n",
        "    train_dataset=timit[\"train\"],\n",
        "    eval_dataset=timit[\"test\"],\n",
        "    tokenizer=processor.feature_extractor,\n",
        ")"
      ]
    },
    {
      "attachments": {},
      "cell_type": "markdown",
      "metadata": {
        "id": "UoXBx1JAA0DX"
      },
      "source": [
        "\n",
        "\n",
        "---\n",
        "\n",
        "${}^1$ To allow models to become independent of the speaker rate, in CTC, consecutive tokens that are identical are simply grouped as a single token. However, the encoded labels should not be grouped when decoding since they don't correspond to the predicted tokens of the model, which is why the `group_tokens=False` parameter has to be passed. If we wouldn't pass this parameter a word like `\"hello\"` would incorrectly be encoded, and decoded as `\"helo\"`.\n",
        "\n",
        "${}^2$ The blank token allows the model to predict a word, such as `\"hello\"` by forcing it to insert the blank token between the two l's. A CTC-conform prediction of `\"hello\"` of our model would be `[PAD] [PAD] \"h\" \"e\" \"e\" \"l\" \"l\" [PAD] \"l\" \"o\" \"o\" [PAD]`."
      ]
    },
    {
      "attachments": {},
      "cell_type": "markdown",
      "metadata": {
        "id": "rpvZHM1xReIW"
      },
      "source": [
        "### Training"
      ]
    },
    {
      "attachments": {},
      "cell_type": "markdown",
      "metadata": {
        "id": "j-3oKSzZ1hGq"
      },
      "source": [
        "Training will take between 90 and 270 minutes depending on the GPU allocated to this notebook. While the trained model yields satisfying results on *Timit*'s test data, it is by no means an optimally fine-tuned model. The purpose of this notebook is to demonstrate how Wav2Vec2's [base](https://huggingface.co/facebook/wav2vec2-base), [large](https://huggingface.co/facebook/wav2vec2-large), and [large-lv60](https://huggingface.co/facebook/wav2vec2-large-lv60) checkpoints can be fine-tuned on any English dataset.\n",
        "\n",
        "In case you want to use this google colab to fine-tune your model, you should make sure that your training doesn't stop due to inactivity. A simple hack to prevent this is to paste the following code into the console of this tab (*right mouse click -> inspect -> Console tab and insert code*)."
      ]
    },
    {
      "attachments": {},
      "cell_type": "markdown",
      "metadata": {
        "id": "VYYAvgkW4P0m"
      },
      "source": [
        "```javascript\n",
        "function ConnectButton(){\n",
        "    console.log(\"Connect pushed\");\n",
        "    document.querySelector(\"#top-toolbar > colab-connect-button\").shadowRoot.querySelector(\"#connect\").click()\n",
        "}\n",
        "setInterval(ConnectButton,60000);\n",
        "```"
      ]
    },
    {
      "attachments": {},
      "cell_type": "markdown",
      "metadata": {
        "id": "PmY6yqd1zvzU"
      },
      "source": [
        "Depending on what GPU was allocated to your google colab it might be possible that you are seeing an `\"out-of-memory\"` error here. In this case, it's probably best to reduce `per_device_train_batch_size` to 16 or even less and eventually make use of [`gradient_accumulation`](https://huggingface.co/transformers/master/main_classes/trainer.html#trainingarguments)."
      ]
    },
    {
      "cell_type": "code",
      "execution_count": null,
      "metadata": {
        "colab": {
          "background_save": true,
          "base_uri": "https://localhost:8080/",
          "height": 1000
        },
        "id": "_UEjJqGsQw24",
        "outputId": "9c5a3893-c598-4eb3-d235-957cd0784ad7"
      },
      "outputs": [
        {
          "name": "stderr",
          "output_type": "stream",
          "text": [
            "The following columns in the training set  don't have a corresponding argument in `Wav2Vec2ForCTC.forward` and have been ignored: input_length. If input_length are not expected by `Wav2Vec2ForCTC.forward`,  you can safely ignore this message.\n",
            "***** Running training *****\n",
            "  Num examples = 3978\n",
            "  Num Epochs = 30\n",
            "  Instantaneous batch size per device = 8\n",
            "  Total train batch size (w. parallel, distributed & accumulation) = 8\n",
            "  Gradient Accumulation steps = 1\n",
            "  Total optimization steps = 14940\n"
          ]
        },
        {
          "data": {
            "application/vnd.jupyter.widget-view+json": {
              "model_id": "b8e072d18d8d46caa2e342ff68e0a1e3",
              "version_major": 2,
              "version_minor": 0
            },
            "text/plain": [
              "  0%|          | 0/14940 [00:00<?, ?it/s]"
            ]
          },
          "metadata": {},
          "output_type": "display_data"
        },
        {
          "ename": "KeyboardInterrupt",
          "evalue": "",
          "output_type": "error",
          "traceback": [
            "\u001b[0;31m---------------------------------------------------------------------------\u001b[0m",
            "\u001b[0;31mKeyboardInterrupt\u001b[0m                         Traceback (most recent call last)",
            "\u001b[0;32m/tmp/ipykernel_7685/4032920361.py\u001b[0m in \u001b[0;36m<module>\u001b[0;34m\u001b[0m\n\u001b[0;32m----> 1\u001b[0;31m \u001b[0mtrainer\u001b[0m\u001b[0;34m.\u001b[0m\u001b[0mtrain\u001b[0m\u001b[0;34m(\u001b[0m\u001b[0;34m)\u001b[0m\u001b[0;34m\u001b[0m\u001b[0;34m\u001b[0m\u001b[0m\n\u001b[0m",
            "\u001b[0;32m~/anaconda3/envs/myenv/lib/python3.9/site-packages/transformers/trainer.py\u001b[0m in \u001b[0;36mtrain\u001b[0;34m(self, resume_from_checkpoint, trial, ignore_keys_for_eval, **kwargs)\u001b[0m\n\u001b[1;32m   1398\u001b[0m                         \u001b[0mtr_loss_step\u001b[0m \u001b[0;34m=\u001b[0m \u001b[0mself\u001b[0m\u001b[0;34m.\u001b[0m\u001b[0mtraining_step\u001b[0m\u001b[0;34m(\u001b[0m\u001b[0mmodel\u001b[0m\u001b[0;34m,\u001b[0m \u001b[0minputs\u001b[0m\u001b[0;34m)\u001b[0m\u001b[0;34m\u001b[0m\u001b[0;34m\u001b[0m\u001b[0m\n\u001b[1;32m   1399\u001b[0m                 \u001b[0;32melse\u001b[0m\u001b[0;34m:\u001b[0m\u001b[0;34m\u001b[0m\u001b[0;34m\u001b[0m\u001b[0m\n\u001b[0;32m-> 1400\u001b[0;31m                     \u001b[0mtr_loss_step\u001b[0m \u001b[0;34m=\u001b[0m \u001b[0mself\u001b[0m\u001b[0;34m.\u001b[0m\u001b[0mtraining_step\u001b[0m\u001b[0;34m(\u001b[0m\u001b[0mmodel\u001b[0m\u001b[0;34m,\u001b[0m \u001b[0minputs\u001b[0m\u001b[0;34m)\u001b[0m\u001b[0;34m\u001b[0m\u001b[0;34m\u001b[0m\u001b[0m\n\u001b[0m\u001b[1;32m   1401\u001b[0m \u001b[0;34m\u001b[0m\u001b[0m\n\u001b[1;32m   1402\u001b[0m                 if (\n",
            "\u001b[0;32m~/anaconda3/envs/myenv/lib/python3.9/site-packages/transformers/trainer.py\u001b[0m in \u001b[0;36mtraining_step\u001b[0;34m(self, model, inputs)\u001b[0m\n\u001b[1;32m   1982\u001b[0m \u001b[0;34m\u001b[0m\u001b[0m\n\u001b[1;32m   1983\u001b[0m         \u001b[0;32mwith\u001b[0m \u001b[0mself\u001b[0m\u001b[0;34m.\u001b[0m\u001b[0mautocast_smart_context_manager\u001b[0m\u001b[0;34m(\u001b[0m\u001b[0;34m)\u001b[0m\u001b[0;34m:\u001b[0m\u001b[0;34m\u001b[0m\u001b[0;34m\u001b[0m\u001b[0m\n\u001b[0;32m-> 1984\u001b[0;31m             \u001b[0mloss\u001b[0m \u001b[0;34m=\u001b[0m \u001b[0mself\u001b[0m\u001b[0;34m.\u001b[0m\u001b[0mcompute_loss\u001b[0m\u001b[0;34m(\u001b[0m\u001b[0mmodel\u001b[0m\u001b[0;34m,\u001b[0m \u001b[0minputs\u001b[0m\u001b[0;34m)\u001b[0m\u001b[0;34m\u001b[0m\u001b[0;34m\u001b[0m\u001b[0m\n\u001b[0m\u001b[1;32m   1985\u001b[0m \u001b[0;34m\u001b[0m\u001b[0m\n\u001b[1;32m   1986\u001b[0m         \u001b[0;32mif\u001b[0m \u001b[0mself\u001b[0m\u001b[0;34m.\u001b[0m\u001b[0margs\u001b[0m\u001b[0;34m.\u001b[0m\u001b[0mn_gpu\u001b[0m \u001b[0;34m>\u001b[0m \u001b[0;36m1\u001b[0m\u001b[0;34m:\u001b[0m\u001b[0;34m\u001b[0m\u001b[0;34m\u001b[0m\u001b[0m\n",
            "\u001b[0;32m~/anaconda3/envs/myenv/lib/python3.9/site-packages/transformers/trainer.py\u001b[0m in \u001b[0;36mcompute_loss\u001b[0;34m(self, model, inputs, return_outputs)\u001b[0m\n\u001b[1;32m   2014\u001b[0m         \u001b[0;32melse\u001b[0m\u001b[0;34m:\u001b[0m\u001b[0;34m\u001b[0m\u001b[0;34m\u001b[0m\u001b[0m\n\u001b[1;32m   2015\u001b[0m             \u001b[0mlabels\u001b[0m \u001b[0;34m=\u001b[0m \u001b[0;32mNone\u001b[0m\u001b[0;34m\u001b[0m\u001b[0;34m\u001b[0m\u001b[0m\n\u001b[0;32m-> 2016\u001b[0;31m         \u001b[0moutputs\u001b[0m \u001b[0;34m=\u001b[0m \u001b[0mmodel\u001b[0m\u001b[0;34m(\u001b[0m\u001b[0;34m**\u001b[0m\u001b[0minputs\u001b[0m\u001b[0;34m)\u001b[0m\u001b[0;34m\u001b[0m\u001b[0;34m\u001b[0m\u001b[0m\n\u001b[0m\u001b[1;32m   2017\u001b[0m         \u001b[0;31m# Save past state if it exists\u001b[0m\u001b[0;34m\u001b[0m\u001b[0;34m\u001b[0m\u001b[0m\n\u001b[1;32m   2018\u001b[0m         \u001b[0;31m# TODO: this needs to be fixed and made cleaner later.\u001b[0m\u001b[0;34m\u001b[0m\u001b[0;34m\u001b[0m\u001b[0m\n",
            "\u001b[0;32m~/anaconda3/envs/myenv/lib/python3.9/site-packages/torch/nn/modules/module.py\u001b[0m in \u001b[0;36m_call_impl\u001b[0;34m(self, *input, **kwargs)\u001b[0m\n\u001b[1;32m   1192\u001b[0m         if not (self._backward_hooks or self._forward_hooks or self._forward_pre_hooks or _global_backward_hooks\n\u001b[1;32m   1193\u001b[0m                 or _global_forward_hooks or _global_forward_pre_hooks):\n\u001b[0;32m-> 1194\u001b[0;31m             \u001b[0;32mreturn\u001b[0m \u001b[0mforward_call\u001b[0m\u001b[0;34m(\u001b[0m\u001b[0;34m*\u001b[0m\u001b[0minput\u001b[0m\u001b[0;34m,\u001b[0m \u001b[0;34m**\u001b[0m\u001b[0mkwargs\u001b[0m\u001b[0;34m)\u001b[0m\u001b[0;34m\u001b[0m\u001b[0;34m\u001b[0m\u001b[0m\n\u001b[0m\u001b[1;32m   1195\u001b[0m         \u001b[0;31m# Do not call functions when jit is used\u001b[0m\u001b[0;34m\u001b[0m\u001b[0;34m\u001b[0m\u001b[0m\n\u001b[1;32m   1196\u001b[0m         \u001b[0mfull_backward_hooks\u001b[0m\u001b[0;34m,\u001b[0m \u001b[0mnon_full_backward_hooks\u001b[0m \u001b[0;34m=\u001b[0m \u001b[0;34m[\u001b[0m\u001b[0;34m]\u001b[0m\u001b[0;34m,\u001b[0m \u001b[0;34m[\u001b[0m\u001b[0;34m]\u001b[0m\u001b[0;34m\u001b[0m\u001b[0;34m\u001b[0m\u001b[0m\n",
            "\u001b[0;32m~/anaconda3/envs/myenv/lib/python3.9/site-packages/transformers/models/wav2vec2/modeling_wav2vec2.py\u001b[0m in \u001b[0;36mforward\u001b[0;34m(self, input_values, attention_mask, output_attentions, output_hidden_states, return_dict, labels)\u001b[0m\n\u001b[1;32m   1749\u001b[0m         \u001b[0mreturn_dict\u001b[0m \u001b[0;34m=\u001b[0m \u001b[0mreturn_dict\u001b[0m \u001b[0;32mif\u001b[0m \u001b[0mreturn_dict\u001b[0m \u001b[0;32mis\u001b[0m \u001b[0;32mnot\u001b[0m \u001b[0;32mNone\u001b[0m \u001b[0;32melse\u001b[0m \u001b[0mself\u001b[0m\u001b[0;34m.\u001b[0m\u001b[0mconfig\u001b[0m\u001b[0;34m.\u001b[0m\u001b[0muse_return_dict\u001b[0m\u001b[0;34m\u001b[0m\u001b[0;34m\u001b[0m\u001b[0m\n\u001b[1;32m   1750\u001b[0m \u001b[0;34m\u001b[0m\u001b[0m\n\u001b[0;32m-> 1751\u001b[0;31m         outputs = self.wav2vec2(\n\u001b[0m\u001b[1;32m   1752\u001b[0m             \u001b[0minput_values\u001b[0m\u001b[0;34m,\u001b[0m\u001b[0;34m\u001b[0m\u001b[0;34m\u001b[0m\u001b[0m\n\u001b[1;32m   1753\u001b[0m             \u001b[0mattention_mask\u001b[0m\u001b[0;34m=\u001b[0m\u001b[0mattention_mask\u001b[0m\u001b[0;34m,\u001b[0m\u001b[0;34m\u001b[0m\u001b[0;34m\u001b[0m\u001b[0m\n",
            "\u001b[0;32m~/anaconda3/envs/myenv/lib/python3.9/site-packages/torch/nn/modules/module.py\u001b[0m in \u001b[0;36m_call_impl\u001b[0;34m(self, *input, **kwargs)\u001b[0m\n\u001b[1;32m   1192\u001b[0m         if not (self._backward_hooks or self._forward_hooks or self._forward_pre_hooks or _global_backward_hooks\n\u001b[1;32m   1193\u001b[0m                 or _global_forward_hooks or _global_forward_pre_hooks):\n\u001b[0;32m-> 1194\u001b[0;31m             \u001b[0;32mreturn\u001b[0m \u001b[0mforward_call\u001b[0m\u001b[0;34m(\u001b[0m\u001b[0;34m*\u001b[0m\u001b[0minput\u001b[0m\u001b[0;34m,\u001b[0m \u001b[0;34m**\u001b[0m\u001b[0mkwargs\u001b[0m\u001b[0;34m)\u001b[0m\u001b[0;34m\u001b[0m\u001b[0;34m\u001b[0m\u001b[0m\n\u001b[0m\u001b[1;32m   1195\u001b[0m         \u001b[0;31m# Do not call functions when jit is used\u001b[0m\u001b[0;34m\u001b[0m\u001b[0;34m\u001b[0m\u001b[0m\n\u001b[1;32m   1196\u001b[0m         \u001b[0mfull_backward_hooks\u001b[0m\u001b[0;34m,\u001b[0m \u001b[0mnon_full_backward_hooks\u001b[0m \u001b[0;34m=\u001b[0m \u001b[0;34m[\u001b[0m\u001b[0;34m]\u001b[0m\u001b[0;34m,\u001b[0m \u001b[0;34m[\u001b[0m\u001b[0;34m]\u001b[0m\u001b[0;34m\u001b[0m\u001b[0;34m\u001b[0m\u001b[0m\n",
            "\u001b[0;32m~/anaconda3/envs/myenv/lib/python3.9/site-packages/transformers/models/wav2vec2/modeling_wav2vec2.py\u001b[0m in \u001b[0;36mforward\u001b[0;34m(self, input_values, attention_mask, mask_time_indices, output_attentions, output_hidden_states, return_dict)\u001b[0m\n\u001b[1;32m   1359\u001b[0m         )\n\u001b[1;32m   1360\u001b[0m \u001b[0;34m\u001b[0m\u001b[0m\n\u001b[0;32m-> 1361\u001b[0;31m         encoder_outputs = self.encoder(\n\u001b[0m\u001b[1;32m   1362\u001b[0m             \u001b[0mhidden_states\u001b[0m\u001b[0;34m,\u001b[0m\u001b[0;34m\u001b[0m\u001b[0;34m\u001b[0m\u001b[0m\n\u001b[1;32m   1363\u001b[0m             \u001b[0mattention_mask\u001b[0m\u001b[0;34m=\u001b[0m\u001b[0mattention_mask\u001b[0m\u001b[0;34m,\u001b[0m\u001b[0;34m\u001b[0m\u001b[0;34m\u001b[0m\u001b[0m\n",
            "\u001b[0;32m~/anaconda3/envs/myenv/lib/python3.9/site-packages/torch/nn/modules/module.py\u001b[0m in \u001b[0;36m_call_impl\u001b[0;34m(self, *input, **kwargs)\u001b[0m\n\u001b[1;32m   1192\u001b[0m         if not (self._backward_hooks or self._forward_hooks or self._forward_pre_hooks or _global_backward_hooks\n\u001b[1;32m   1193\u001b[0m                 or _global_forward_hooks or _global_forward_pre_hooks):\n\u001b[0;32m-> 1194\u001b[0;31m             \u001b[0;32mreturn\u001b[0m \u001b[0mforward_call\u001b[0m\u001b[0;34m(\u001b[0m\u001b[0;34m*\u001b[0m\u001b[0minput\u001b[0m\u001b[0;34m,\u001b[0m \u001b[0;34m**\u001b[0m\u001b[0mkwargs\u001b[0m\u001b[0;34m)\u001b[0m\u001b[0;34m\u001b[0m\u001b[0;34m\u001b[0m\u001b[0m\n\u001b[0m\u001b[1;32m   1195\u001b[0m         \u001b[0;31m# Do not call functions when jit is used\u001b[0m\u001b[0;34m\u001b[0m\u001b[0;34m\u001b[0m\u001b[0m\n\u001b[1;32m   1196\u001b[0m         \u001b[0mfull_backward_hooks\u001b[0m\u001b[0;34m,\u001b[0m \u001b[0mnon_full_backward_hooks\u001b[0m \u001b[0;34m=\u001b[0m \u001b[0;34m[\u001b[0m\u001b[0;34m]\u001b[0m\u001b[0;34m,\u001b[0m \u001b[0;34m[\u001b[0m\u001b[0;34m]\u001b[0m\u001b[0;34m\u001b[0m\u001b[0;34m\u001b[0m\u001b[0m\n",
            "\u001b[0;32m~/anaconda3/envs/myenv/lib/python3.9/site-packages/transformers/models/wav2vec2/modeling_wav2vec2.py\u001b[0m in \u001b[0;36mforward\u001b[0;34m(self, hidden_states, attention_mask, output_attentions, output_hidden_states, return_dict)\u001b[0m\n\u001b[1;32m    835\u001b[0m                         \u001b[0;32mreturn\u001b[0m \u001b[0mcustom_forward\u001b[0m\u001b[0;34m\u001b[0m\u001b[0;34m\u001b[0m\u001b[0m\n\u001b[1;32m    836\u001b[0m \u001b[0;34m\u001b[0m\u001b[0m\n\u001b[0;32m--> 837\u001b[0;31m                     layer_outputs = torch.utils.checkpoint.checkpoint(\n\u001b[0m\u001b[1;32m    838\u001b[0m                         \u001b[0mcreate_custom_forward\u001b[0m\u001b[0;34m(\u001b[0m\u001b[0mlayer\u001b[0m\u001b[0;34m)\u001b[0m\u001b[0;34m,\u001b[0m\u001b[0;34m\u001b[0m\u001b[0;34m\u001b[0m\u001b[0m\n\u001b[1;32m    839\u001b[0m                         \u001b[0mhidden_states\u001b[0m\u001b[0;34m,\u001b[0m\u001b[0;34m\u001b[0m\u001b[0;34m\u001b[0m\u001b[0m\n",
            "\u001b[0;32m~/anaconda3/envs/myenv/lib/python3.9/site-packages/torch/utils/checkpoint.py\u001b[0m in \u001b[0;36mcheckpoint\u001b[0;34m(function, use_reentrant, *args, **kwargs)\u001b[0m\n\u001b[1;32m    247\u001b[0m \u001b[0;34m\u001b[0m\u001b[0m\n\u001b[1;32m    248\u001b[0m     \u001b[0;32mif\u001b[0m \u001b[0muse_reentrant\u001b[0m\u001b[0;34m:\u001b[0m\u001b[0;34m\u001b[0m\u001b[0;34m\u001b[0m\u001b[0m\n\u001b[0;32m--> 249\u001b[0;31m         \u001b[0;32mreturn\u001b[0m \u001b[0mCheckpointFunction\u001b[0m\u001b[0;34m.\u001b[0m\u001b[0mapply\u001b[0m\u001b[0;34m(\u001b[0m\u001b[0mfunction\u001b[0m\u001b[0;34m,\u001b[0m \u001b[0mpreserve\u001b[0m\u001b[0;34m,\u001b[0m \u001b[0;34m*\u001b[0m\u001b[0margs\u001b[0m\u001b[0;34m)\u001b[0m\u001b[0;34m\u001b[0m\u001b[0;34m\u001b[0m\u001b[0m\n\u001b[0m\u001b[1;32m    250\u001b[0m     \u001b[0;32melse\u001b[0m\u001b[0;34m:\u001b[0m\u001b[0;34m\u001b[0m\u001b[0;34m\u001b[0m\u001b[0m\n\u001b[1;32m    251\u001b[0m         return _checkpoint_without_reentrant(\n",
            "\u001b[0;32m~/anaconda3/envs/myenv/lib/python3.9/site-packages/torch/utils/checkpoint.py\u001b[0m in \u001b[0;36mforward\u001b[0;34m(ctx, run_function, preserve_rng_state, *args)\u001b[0m\n\u001b[1;32m    105\u001b[0m \u001b[0;34m\u001b[0m\u001b[0m\n\u001b[1;32m    106\u001b[0m         \u001b[0;32mwith\u001b[0m \u001b[0mtorch\u001b[0m\u001b[0;34m.\u001b[0m\u001b[0mno_grad\u001b[0m\u001b[0;34m(\u001b[0m\u001b[0;34m)\u001b[0m\u001b[0;34m:\u001b[0m\u001b[0;34m\u001b[0m\u001b[0;34m\u001b[0m\u001b[0m\n\u001b[0;32m--> 107\u001b[0;31m             \u001b[0moutputs\u001b[0m \u001b[0;34m=\u001b[0m \u001b[0mrun_function\u001b[0m\u001b[0;34m(\u001b[0m\u001b[0;34m*\u001b[0m\u001b[0margs\u001b[0m\u001b[0;34m)\u001b[0m\u001b[0;34m\u001b[0m\u001b[0;34m\u001b[0m\u001b[0m\n\u001b[0m\u001b[1;32m    108\u001b[0m         \u001b[0;32mreturn\u001b[0m \u001b[0moutputs\u001b[0m\u001b[0;34m\u001b[0m\u001b[0;34m\u001b[0m\u001b[0m\n\u001b[1;32m    109\u001b[0m \u001b[0;34m\u001b[0m\u001b[0m\n",
            "\u001b[0;32m~/anaconda3/envs/myenv/lib/python3.9/site-packages/transformers/models/wav2vec2/modeling_wav2vec2.py\u001b[0m in \u001b[0;36mcustom_forward\u001b[0;34m(*inputs)\u001b[0m\n\u001b[1;32m    831\u001b[0m                     \u001b[0;32mdef\u001b[0m \u001b[0mcreate_custom_forward\u001b[0m\u001b[0;34m(\u001b[0m\u001b[0mmodule\u001b[0m\u001b[0;34m)\u001b[0m\u001b[0;34m:\u001b[0m\u001b[0;34m\u001b[0m\u001b[0;34m\u001b[0m\u001b[0m\n\u001b[1;32m    832\u001b[0m                         \u001b[0;32mdef\u001b[0m \u001b[0mcustom_forward\u001b[0m\u001b[0;34m(\u001b[0m\u001b[0;34m*\u001b[0m\u001b[0minputs\u001b[0m\u001b[0;34m)\u001b[0m\u001b[0;34m:\u001b[0m\u001b[0;34m\u001b[0m\u001b[0;34m\u001b[0m\u001b[0m\n\u001b[0;32m--> 833\u001b[0;31m                             \u001b[0;32mreturn\u001b[0m \u001b[0mmodule\u001b[0m\u001b[0;34m(\u001b[0m\u001b[0;34m*\u001b[0m\u001b[0minputs\u001b[0m\u001b[0;34m,\u001b[0m \u001b[0moutput_attentions\u001b[0m\u001b[0;34m)\u001b[0m\u001b[0;34m\u001b[0m\u001b[0;34m\u001b[0m\u001b[0m\n\u001b[0m\u001b[1;32m    834\u001b[0m \u001b[0;34m\u001b[0m\u001b[0m\n\u001b[1;32m    835\u001b[0m                         \u001b[0;32mreturn\u001b[0m \u001b[0mcustom_forward\u001b[0m\u001b[0;34m\u001b[0m\u001b[0;34m\u001b[0m\u001b[0m\n",
            "\u001b[0;32m~/anaconda3/envs/myenv/lib/python3.9/site-packages/torch/nn/modules/module.py\u001b[0m in \u001b[0;36m_call_impl\u001b[0;34m(self, *input, **kwargs)\u001b[0m\n\u001b[1;32m   1192\u001b[0m         if not (self._backward_hooks or self._forward_hooks or self._forward_pre_hooks or _global_backward_hooks\n\u001b[1;32m   1193\u001b[0m                 or _global_forward_hooks or _global_forward_pre_hooks):\n\u001b[0;32m-> 1194\u001b[0;31m             \u001b[0;32mreturn\u001b[0m \u001b[0mforward_call\u001b[0m\u001b[0;34m(\u001b[0m\u001b[0;34m*\u001b[0m\u001b[0minput\u001b[0m\u001b[0;34m,\u001b[0m \u001b[0;34m**\u001b[0m\u001b[0mkwargs\u001b[0m\u001b[0;34m)\u001b[0m\u001b[0;34m\u001b[0m\u001b[0;34m\u001b[0m\u001b[0m\n\u001b[0m\u001b[1;32m   1195\u001b[0m         \u001b[0;31m# Do not call functions when jit is used\u001b[0m\u001b[0;34m\u001b[0m\u001b[0;34m\u001b[0m\u001b[0m\n\u001b[1;32m   1196\u001b[0m         \u001b[0mfull_backward_hooks\u001b[0m\u001b[0;34m,\u001b[0m \u001b[0mnon_full_backward_hooks\u001b[0m \u001b[0;34m=\u001b[0m \u001b[0;34m[\u001b[0m\u001b[0;34m]\u001b[0m\u001b[0;34m,\u001b[0m \u001b[0;34m[\u001b[0m\u001b[0;34m]\u001b[0m\u001b[0;34m\u001b[0m\u001b[0;34m\u001b[0m\u001b[0m\n",
            "\u001b[0;32m~/anaconda3/envs/myenv/lib/python3.9/site-packages/transformers/models/wav2vec2/modeling_wav2vec2.py\u001b[0m in \u001b[0;36mforward\u001b[0;34m(self, hidden_states, attention_mask, output_attentions)\u001b[0m\n\u001b[1;32m    729\u001b[0m     \u001b[0;32mdef\u001b[0m \u001b[0mforward\u001b[0m\u001b[0;34m(\u001b[0m\u001b[0mself\u001b[0m\u001b[0;34m,\u001b[0m \u001b[0mhidden_states\u001b[0m\u001b[0;34m,\u001b[0m \u001b[0mattention_mask\u001b[0m\u001b[0;34m=\u001b[0m\u001b[0;32mNone\u001b[0m\u001b[0;34m,\u001b[0m \u001b[0moutput_attentions\u001b[0m\u001b[0;34m=\u001b[0m\u001b[0;32mFalse\u001b[0m\u001b[0;34m)\u001b[0m\u001b[0;34m:\u001b[0m\u001b[0;34m\u001b[0m\u001b[0;34m\u001b[0m\u001b[0m\n\u001b[1;32m    730\u001b[0m         \u001b[0mattn_residual\u001b[0m \u001b[0;34m=\u001b[0m \u001b[0mhidden_states\u001b[0m\u001b[0;34m\u001b[0m\u001b[0;34m\u001b[0m\u001b[0m\n\u001b[0;32m--> 731\u001b[0;31m         hidden_states, attn_weights, _ = self.attention(\n\u001b[0m\u001b[1;32m    732\u001b[0m             \u001b[0mhidden_states\u001b[0m\u001b[0;34m,\u001b[0m \u001b[0mattention_mask\u001b[0m\u001b[0;34m=\u001b[0m\u001b[0mattention_mask\u001b[0m\u001b[0;34m,\u001b[0m \u001b[0moutput_attentions\u001b[0m\u001b[0;34m=\u001b[0m\u001b[0moutput_attentions\u001b[0m\u001b[0;34m\u001b[0m\u001b[0;34m\u001b[0m\u001b[0m\n\u001b[1;32m    733\u001b[0m         )\n",
            "\u001b[0;32m~/anaconda3/envs/myenv/lib/python3.9/site-packages/torch/nn/modules/module.py\u001b[0m in \u001b[0;36m_call_impl\u001b[0;34m(self, *input, **kwargs)\u001b[0m\n\u001b[1;32m   1192\u001b[0m         if not (self._backward_hooks or self._forward_hooks or self._forward_pre_hooks or _global_backward_hooks\n\u001b[1;32m   1193\u001b[0m                 or _global_forward_hooks or _global_forward_pre_hooks):\n\u001b[0;32m-> 1194\u001b[0;31m             \u001b[0;32mreturn\u001b[0m \u001b[0mforward_call\u001b[0m\u001b[0;34m(\u001b[0m\u001b[0;34m*\u001b[0m\u001b[0minput\u001b[0m\u001b[0;34m,\u001b[0m \u001b[0;34m**\u001b[0m\u001b[0mkwargs\u001b[0m\u001b[0;34m)\u001b[0m\u001b[0;34m\u001b[0m\u001b[0;34m\u001b[0m\u001b[0m\n\u001b[0m\u001b[1;32m   1195\u001b[0m         \u001b[0;31m# Do not call functions when jit is used\u001b[0m\u001b[0;34m\u001b[0m\u001b[0;34m\u001b[0m\u001b[0m\n\u001b[1;32m   1196\u001b[0m         \u001b[0mfull_backward_hooks\u001b[0m\u001b[0;34m,\u001b[0m \u001b[0mnon_full_backward_hooks\u001b[0m \u001b[0;34m=\u001b[0m \u001b[0;34m[\u001b[0m\u001b[0;34m]\u001b[0m\u001b[0;34m,\u001b[0m \u001b[0;34m[\u001b[0m\u001b[0;34m]\u001b[0m\u001b[0;34m\u001b[0m\u001b[0;34m\u001b[0m\u001b[0m\n",
            "\u001b[0;32m~/anaconda3/envs/myenv/lib/python3.9/site-packages/transformers/models/wav2vec2/modeling_wav2vec2.py\u001b[0m in \u001b[0;36mforward\u001b[0;34m(self, hidden_states, key_value_states, past_key_value, attention_mask, layer_head_mask, output_attentions)\u001b[0m\n\u001b[1;32m    633\u001b[0m \u001b[0;34m\u001b[0m\u001b[0m\n\u001b[1;32m    634\u001b[0m         \u001b[0msrc_len\u001b[0m \u001b[0;34m=\u001b[0m \u001b[0mkey_states\u001b[0m\u001b[0;34m.\u001b[0m\u001b[0msize\u001b[0m\u001b[0;34m(\u001b[0m\u001b[0;36m1\u001b[0m\u001b[0;34m)\u001b[0m\u001b[0;34m\u001b[0m\u001b[0;34m\u001b[0m\u001b[0m\n\u001b[0;32m--> 635\u001b[0;31m         \u001b[0mattn_weights\u001b[0m \u001b[0;34m=\u001b[0m \u001b[0mtorch\u001b[0m\u001b[0;34m.\u001b[0m\u001b[0mbmm\u001b[0m\u001b[0;34m(\u001b[0m\u001b[0mquery_states\u001b[0m\u001b[0;34m,\u001b[0m \u001b[0mkey_states\u001b[0m\u001b[0;34m.\u001b[0m\u001b[0mtranspose\u001b[0m\u001b[0;34m(\u001b[0m\u001b[0;36m1\u001b[0m\u001b[0;34m,\u001b[0m \u001b[0;36m2\u001b[0m\u001b[0;34m)\u001b[0m\u001b[0;34m)\u001b[0m\u001b[0;34m\u001b[0m\u001b[0;34m\u001b[0m\u001b[0m\n\u001b[0m\u001b[1;32m    636\u001b[0m \u001b[0;34m\u001b[0m\u001b[0m\n\u001b[1;32m    637\u001b[0m         \u001b[0;32mif\u001b[0m \u001b[0mattn_weights\u001b[0m\u001b[0;34m.\u001b[0m\u001b[0msize\u001b[0m\u001b[0;34m(\u001b[0m\u001b[0;34m)\u001b[0m \u001b[0;34m!=\u001b[0m \u001b[0;34m(\u001b[0m\u001b[0mbsz\u001b[0m \u001b[0;34m*\u001b[0m \u001b[0mself\u001b[0m\u001b[0;34m.\u001b[0m\u001b[0mnum_heads\u001b[0m\u001b[0;34m,\u001b[0m \u001b[0mtgt_len\u001b[0m\u001b[0;34m,\u001b[0m \u001b[0msrc_len\u001b[0m\u001b[0;34m)\u001b[0m\u001b[0;34m:\u001b[0m\u001b[0;34m\u001b[0m\u001b[0;34m\u001b[0m\u001b[0m\n",
            "\u001b[0;31mKeyboardInterrupt\u001b[0m: "
          ]
        }
      ],
      "source": [
        "trainer.train()"
      ]
    },
    {
      "attachments": {},
      "cell_type": "markdown",
      "metadata": {
        "id": "UCyp-v3n4Zlt"
      },
      "source": [
        "The final WER should be around 0.3 which is reasonable given that state-of-the-art phoneme error rates (PER) are just below 0.1 (see [leaderboard](https://paperswithcode.com/sota/speech-recognition-on-timit)) and that WER is usually worse than PER.\n",
        "\n",
        "You can now upload the result of the training to the Hub, just execute this instruction:"
      ]
    },
    {
      "attachments": {},
      "cell_type": "markdown",
      "metadata": {
        "id": "djzwS5WeNu16"
      },
      "source": [
        "You can now share this model with all your friends, family, favorite pets: they can all load it with the identifier \"your-username/the-name-you-picked\" so for instance:"
      ]
    },
    {
      "attachments": {},
      "cell_type": "markdown",
      "metadata": {
        "id": "Adm0LngNNxq7"
      },
      "source": [
        "```python\n",
        "from transformers import AutoModelForCTC, Wav2Vec2Processor\n",
        "\n",
        "model = AutoModelForCTC.from_pretrained(\"patrickvonplaten/wav2vec2-base-timit-demo-google-colab\")\n",
        "processor = Wav2Vec2Processor.from_pretrained(\"patrickvonplaten/wav2vec2-base-timit-demo-google-colab\")\n",
        "```"
      ]
    },
    {
      "attachments": {},
      "cell_type": "markdown",
      "metadata": {
        "id": "nD4XP5IHncsY"
      },
      "source": [
        "### Evaluate\n",
        "\n",
        "In the final part, we run our model on some of the validation data to get a feeling for how well it works.\n",
        "\n",
        "Let's load the `processor` and `model`."
      ]
    },
    {
      "cell_type": "code",
      "execution_count": null,
      "metadata": {
        "colab": {
          "background_save": true,
          "referenced_widgets": [
            "d09756762f974fff97fcc56808cf79da",
            "e13df7ca4a1646f6a4565a43300f53e5",
            "f07c352df0af4d819c55b8d1953d1ee1",
            "990bac444a784aa1801a1022f892c791"
          ]
        },
        "id": "-rg0USDCnbo6",
        "outputId": "278bdcec-56f5-4395-c911-f13ba01c2ca7"
      },
      "outputs": [
        {
          "name": "stderr",
          "output_type": "stream",
          "text": [
            "https://huggingface.co/patrickvonplaten/wav2vec2-base-timit-demo-google-colab/resolve/main/preprocessor_config.json not found in cache or force_download set to True, downloading to /root/.cache/huggingface/transformers/tmpbfjvhei0\n"
          ]
        },
        {
          "data": {
            "application/vnd.jupyter.widget-view+json": {
              "model_id": "d09756762f974fff97fcc56808cf79da",
              "version_major": 2,
              "version_minor": 0
            },
            "text/plain": [
              "Downloading:   0%|          | 0.00/215 [00:00<?, ?B/s]"
            ]
          },
          "metadata": {},
          "output_type": "display_data"
        },
        {
          "name": "stderr",
          "output_type": "stream",
          "text": [
            "storing https://huggingface.co/patrickvonplaten/wav2vec2-base-timit-demo-google-colab/resolve/main/preprocessor_config.json in cache at /root/.cache/huggingface/transformers/17fa07f6e2f88edf24c71037bed1b7cf0cf9acfef7d3353afb589689627542c1.0e3e6656f99a6f7b9eddd943463eb7f34363640fce9e87b047ebd50d4b112b50\n",
            "creating metadata file for /root/.cache/huggingface/transformers/17fa07f6e2f88edf24c71037bed1b7cf0cf9acfef7d3353afb589689627542c1.0e3e6656f99a6f7b9eddd943463eb7f34363640fce9e87b047ebd50d4b112b50\n",
            "loading feature extractor configuration file https://huggingface.co/patrickvonplaten/wav2vec2-base-timit-demo-google-colab/resolve/main/preprocessor_config.json from cache at /root/.cache/huggingface/transformers/17fa07f6e2f88edf24c71037bed1b7cf0cf9acfef7d3353afb589689627542c1.0e3e6656f99a6f7b9eddd943463eb7f34363640fce9e87b047ebd50d4b112b50\n",
            "Feature extractor Wav2Vec2FeatureExtractor {\n",
            "  \"do_normalize\": true,\n",
            "  \"feature_extractor_type\": \"Wav2Vec2FeatureExtractor\",\n",
            "  \"feature_size\": 1,\n",
            "  \"padding_side\": \"right\",\n",
            "  \"padding_value\": 0.0,\n",
            "  \"return_attention_mask\": false,\n",
            "  \"sampling_rate\": 16000\n",
            "}\n",
            "\n",
            "https://huggingface.co/patrickvonplaten/wav2vec2-base-timit-demo-google-colab/resolve/main/tokenizer_config.json not found in cache or force_download set to True, downloading to /root/.cache/huggingface/transformers/tmpj_lxhw38\n"
          ]
        },
        {
          "data": {
            "application/vnd.jupyter.widget-view+json": {
              "model_id": "e13df7ca4a1646f6a4565a43300f53e5",
              "version_major": 2,
              "version_minor": 0
            },
            "text/plain": [
              "Downloading:   0%|          | 0.00/217 [00:00<?, ?B/s]"
            ]
          },
          "metadata": {},
          "output_type": "display_data"
        },
        {
          "name": "stderr",
          "output_type": "stream",
          "text": [
            "storing https://huggingface.co/patrickvonplaten/wav2vec2-base-timit-demo-google-colab/resolve/main/tokenizer_config.json in cache at /root/.cache/huggingface/transformers/7bf2e07c1c7ed7e3d055d87aa6bd33c75e6883d98029ae3744fed6bea9e35095.59710b1a6a5501d31e746b6e464f5c44de3e55a58f80634196025936683a68a9\n",
            "creating metadata file for /root/.cache/huggingface/transformers/7bf2e07c1c7ed7e3d055d87aa6bd33c75e6883d98029ae3744fed6bea9e35095.59710b1a6a5501d31e746b6e464f5c44de3e55a58f80634196025936683a68a9\n",
            "https://huggingface.co/patrickvonplaten/wav2vec2-base-timit-demo-google-colab/resolve/main/vocab.json not found in cache or force_download set to True, downloading to /root/.cache/huggingface/transformers/tmpdjur3a0u\n"
          ]
        },
        {
          "data": {
            "application/vnd.jupyter.widget-view+json": {
              "model_id": "f07c352df0af4d819c55b8d1953d1ee1",
              "version_major": 2,
              "version_minor": 0
            },
            "text/plain": [
              "Downloading:   0%|          | 0.00/268 [00:00<?, ?B/s]"
            ]
          },
          "metadata": {},
          "output_type": "display_data"
        },
        {
          "name": "stderr",
          "output_type": "stream",
          "text": [
            "storing https://huggingface.co/patrickvonplaten/wav2vec2-base-timit-demo-google-colab/resolve/main/vocab.json in cache at /root/.cache/huggingface/transformers/f739813380b0880ba302557f0f990f0f64e8efe81fcc91a4fce08206a91ee215.c44a036121683e19f1a033a1765d4344364cb4633a6cbf5cf51b153f2388abb1\n",
            "creating metadata file for /root/.cache/huggingface/transformers/f739813380b0880ba302557f0f990f0f64e8efe81fcc91a4fce08206a91ee215.c44a036121683e19f1a033a1765d4344364cb4633a6cbf5cf51b153f2388abb1\n",
            "https://huggingface.co/patrickvonplaten/wav2vec2-base-timit-demo-google-colab/resolve/main/special_tokens_map.json not found in cache or force_download set to True, downloading to /root/.cache/huggingface/transformers/tmpa15_w2ls\n"
          ]
        },
        {
          "data": {
            "application/vnd.jupyter.widget-view+json": {
              "model_id": "990bac444a784aa1801a1022f892c791",
              "version_major": 2,
              "version_minor": 0
            },
            "text/plain": [
              "Downloading:   0%|          | 0.00/85.0 [00:00<?, ?B/s]"
            ]
          },
          "metadata": {},
          "output_type": "display_data"
        },
        {
          "name": "stderr",
          "output_type": "stream",
          "text": [
            "storing https://huggingface.co/patrickvonplaten/wav2vec2-base-timit-demo-google-colab/resolve/main/special_tokens_map.json in cache at /root/.cache/huggingface/transformers/c239f3738252f8d8e83d9813ea82866aeec476c467a008db86229f4edc6490b0.a21d51735cf8667bcd610f057e88548d5d6a381401f6b4501a8bc6c1a9dc8498\n",
            "creating metadata file for /root/.cache/huggingface/transformers/c239f3738252f8d8e83d9813ea82866aeec476c467a008db86229f4edc6490b0.a21d51735cf8667bcd610f057e88548d5d6a381401f6b4501a8bc6c1a9dc8498\n",
            "loading file https://huggingface.co/patrickvonplaten/wav2vec2-base-timit-demo-google-colab/resolve/main/vocab.json from cache at /root/.cache/huggingface/transformers/f739813380b0880ba302557f0f990f0f64e8efe81fcc91a4fce08206a91ee215.c44a036121683e19f1a033a1765d4344364cb4633a6cbf5cf51b153f2388abb1\n",
            "loading file https://huggingface.co/patrickvonplaten/wav2vec2-base-timit-demo-google-colab/resolve/main/tokenizer_config.json from cache at /root/.cache/huggingface/transformers/7bf2e07c1c7ed7e3d055d87aa6bd33c75e6883d98029ae3744fed6bea9e35095.59710b1a6a5501d31e746b6e464f5c44de3e55a58f80634196025936683a68a9\n",
            "loading file https://huggingface.co/patrickvonplaten/wav2vec2-base-timit-demo-google-colab/resolve/main/added_tokens.json from cache at None\n",
            "loading file https://huggingface.co/patrickvonplaten/wav2vec2-base-timit-demo-google-colab/resolve/main/special_tokens_map.json from cache at /root/.cache/huggingface/transformers/c239f3738252f8d8e83d9813ea82866aeec476c467a008db86229f4edc6490b0.a21d51735cf8667bcd610f057e88548d5d6a381401f6b4501a8bc6c1a9dc8498\n",
            "Adding <s> to the vocabulary\n",
            "Adding </s> to the vocabulary\n",
            "Special tokens have been added in the vocabulary, make sure the associated word embeddings are fine-tuned or trained.\n"
          ]
        }
      ],
      "source": [
        "processor = Wav2Vec2Processor.from_pretrained(\"patrickvonplaten/wav2vec2-base-timit-demo-google-colab\")"
      ]
    },
    {
      "cell_type": "code",
      "execution_count": null,
      "metadata": {
        "colab": {
          "background_save": true,
          "referenced_widgets": [
            "f5d5aeb389c54f78b81b010dd74c6f38",
            "e073b8ca40bc42bd9393ab6423cc5262"
          ]
        },
        "id": "sSpFW3pDn23P",
        "outputId": "68c12b8b-9104-48d2-b221-d535e74d30b5"
      },
      "outputs": [
        {
          "name": "stderr",
          "output_type": "stream",
          "text": [
            "https://huggingface.co/patrickvonplaten/wav2vec2-base-timit-demo-google-colab/resolve/main/config.json not found in cache or force_download set to True, downloading to /root/.cache/huggingface/transformers/tmpxcw3xuut\n"
          ]
        },
        {
          "data": {
            "application/vnd.jupyter.widget-view+json": {
              "model_id": "f5d5aeb389c54f78b81b010dd74c6f38",
              "version_major": 2,
              "version_minor": 0
            },
            "text/plain": [
              "Downloading: 0.00B [00:00, ?B/s]"
            ]
          },
          "metadata": {},
          "output_type": "display_data"
        },
        {
          "name": "stderr",
          "output_type": "stream",
          "text": [
            "storing https://huggingface.co/patrickvonplaten/wav2vec2-base-timit-demo-google-colab/resolve/main/config.json in cache at /root/.cache/huggingface/transformers/7606a293c66b1cba6bb9a342dcffe3831dc19a120cfeeb9e57cdf6ffb9630f3f.ef35f564609701d8892f07680ab46b53a63fbd7bc5af84534d1200098d6e9d65\n",
            "creating metadata file for /root/.cache/huggingface/transformers/7606a293c66b1cba6bb9a342dcffe3831dc19a120cfeeb9e57cdf6ffb9630f3f.ef35f564609701d8892f07680ab46b53a63fbd7bc5af84534d1200098d6e9d65\n",
            "loading configuration file https://huggingface.co/patrickvonplaten/wav2vec2-base-timit-demo-google-colab/resolve/main/config.json from cache at /root/.cache/huggingface/transformers/7606a293c66b1cba6bb9a342dcffe3831dc19a120cfeeb9e57cdf6ffb9630f3f.ef35f564609701d8892f07680ab46b53a63fbd7bc5af84534d1200098d6e9d65\n",
            "Model config Wav2Vec2Config {\n",
            "  \"_name_or_path\": \"facebook/wav2vec2-base\",\n",
            "  \"activation_dropout\": 0.0,\n",
            "  \"adapter_kernel_size\": 3,\n",
            "  \"adapter_stride\": 2,\n",
            "  \"add_adapter\": false,\n",
            "  \"apply_spec_augment\": true,\n",
            "  \"architectures\": [\n",
            "    \"Wav2Vec2ForCTC\"\n",
            "  ],\n",
            "  \"attention_dropout\": 0.1,\n",
            "  \"bos_token_id\": 1,\n",
            "  \"classifier_proj_size\": 256,\n",
            "  \"codevector_dim\": 256,\n",
            "  \"contrastive_logits_temperature\": 0.1,\n",
            "  \"conv_bias\": false,\n",
            "  \"conv_dim\": [\n",
            "    512,\n",
            "    512,\n",
            "    512,\n",
            "    512,\n",
            "    512,\n",
            "    512,\n",
            "    512\n",
            "  ],\n",
            "  \"conv_kernel\": [\n",
            "    10,\n",
            "    3,\n",
            "    3,\n",
            "    3,\n",
            "    3,\n",
            "    2,\n",
            "    2\n",
            "  ],\n",
            "  \"conv_stride\": [\n",
            "    5,\n",
            "    2,\n",
            "    2,\n",
            "    2,\n",
            "    2,\n",
            "    2,\n",
            "    2\n",
            "  ],\n",
            "  \"ctc_loss_reduction\": \"mean\",\n",
            "  \"ctc_zero_infinity\": false,\n",
            "  \"diversity_loss_weight\": 0.1,\n",
            "  \"do_stable_layer_norm\": false,\n",
            "  \"eos_token_id\": 2,\n",
            "  \"feat_extract_activation\": \"gelu\",\n",
            "  \"feat_extract_norm\": \"group\",\n",
            "  \"feat_proj_dropout\": 0.1,\n",
            "  \"feat_quantizer_dropout\": 0.0,\n",
            "  \"final_dropout\": 0.0,\n",
            "  \"freeze_feat_extract_train\": true,\n",
            "  \"hidden_act\": \"gelu\",\n",
            "  \"hidden_dropout\": 0.1,\n",
            "  \"hidden_size\": 768,\n",
            "  \"initializer_range\": 0.02,\n",
            "  \"intermediate_size\": 3072,\n",
            "  \"layer_norm_eps\": 1e-05,\n",
            "  \"layerdrop\": 0.0,\n",
            "  \"mask_channel_length\": 10,\n",
            "  \"mask_channel_min_space\": 1,\n",
            "  \"mask_channel_other\": 0.0,\n",
            "  \"mask_channel_prob\": 0.0,\n",
            "  \"mask_channel_selection\": \"static\",\n",
            "  \"mask_feature_length\": 10,\n",
            "  \"mask_feature_min_masks\": 0,\n",
            "  \"mask_feature_prob\": 0.0,\n",
            "  \"mask_time_length\": 10,\n",
            "  \"mask_time_min_masks\": 2,\n",
            "  \"mask_time_min_space\": 1,\n",
            "  \"mask_time_other\": 0.0,\n",
            "  \"mask_time_prob\": 0.05,\n",
            "  \"mask_time_selection\": \"static\",\n",
            "  \"model_type\": \"wav2vec2\",\n",
            "  \"no_mask_channel_overlap\": false,\n",
            "  \"no_mask_time_overlap\": false,\n",
            "  \"num_adapter_layers\": 3,\n",
            "  \"num_attention_heads\": 12,\n",
            "  \"num_codevector_groups\": 2,\n",
            "  \"num_codevectors_per_group\": 320,\n",
            "  \"num_conv_pos_embedding_groups\": 16,\n",
            "  \"num_conv_pos_embeddings\": 128,\n",
            "  \"num_feat_extract_layers\": 7,\n",
            "  \"num_hidden_layers\": 12,\n",
            "  \"num_negatives\": 100,\n",
            "  \"output_hidden_size\": 768,\n",
            "  \"pad_token_id\": 29,\n",
            "  \"proj_codevector_dim\": 256,\n",
            "  \"tdnn_dilation\": [\n",
            "    1,\n",
            "    2,\n",
            "    3,\n",
            "    1,\n",
            "    1\n",
            "  ],\n",
            "  \"tdnn_dim\": [\n",
            "    512,\n",
            "    512,\n",
            "    512,\n",
            "    512,\n",
            "    1500\n",
            "  ],\n",
            "  \"tdnn_kernel\": [\n",
            "    5,\n",
            "    3,\n",
            "    3,\n",
            "    1,\n",
            "    1\n",
            "  ],\n",
            "  \"torch_dtype\": \"float32\",\n",
            "  \"transformers_version\": \"4.17.0\",\n",
            "  \"use_weighted_layer_sum\": false,\n",
            "  \"vocab_size\": 32,\n",
            "  \"xvector_output_dim\": 512\n",
            "}\n",
            "\n",
            "https://huggingface.co/patrickvonplaten/wav2vec2-base-timit-demo-google-colab/resolve/main/pytorch_model.bin not found in cache or force_download set to True, downloading to /root/.cache/huggingface/transformers/tmp3w4ip4__\n"
          ]
        },
        {
          "data": {
            "application/vnd.jupyter.widget-view+json": {
              "model_id": "e073b8ca40bc42bd9393ab6423cc5262",
              "version_major": 2,
              "version_minor": 0
            },
            "text/plain": [
              "Downloading:   0%|          | 0.00/360M [00:00<?, ?B/s]"
            ]
          },
          "metadata": {},
          "output_type": "display_data"
        },
        {
          "name": "stderr",
          "output_type": "stream",
          "text": [
            "storing https://huggingface.co/patrickvonplaten/wav2vec2-base-timit-demo-google-colab/resolve/main/pytorch_model.bin in cache at /root/.cache/huggingface/transformers/666767bce47a87d50dfd1ceac759d5dc9db6eac8d185ae8f9a7dd388687c28c5.20bdf845b9896c1d0a213f03187b544f2a12b23d751b88c7b49a95d00bd946e1\n",
            "creating metadata file for /root/.cache/huggingface/transformers/666767bce47a87d50dfd1ceac759d5dc9db6eac8d185ae8f9a7dd388687c28c5.20bdf845b9896c1d0a213f03187b544f2a12b23d751b88c7b49a95d00bd946e1\n",
            "loading weights file https://huggingface.co/patrickvonplaten/wav2vec2-base-timit-demo-google-colab/resolve/main/pytorch_model.bin from cache at /root/.cache/huggingface/transformers/666767bce47a87d50dfd1ceac759d5dc9db6eac8d185ae8f9a7dd388687c28c5.20bdf845b9896c1d0a213f03187b544f2a12b23d751b88c7b49a95d00bd946e1\n",
            "All model checkpoint weights were used when initializing Wav2Vec2ForCTC.\n",
            "\n",
            "All the weights of Wav2Vec2ForCTC were initialized from the model checkpoint at patrickvonplaten/wav2vec2-base-timit-demo-google-colab.\n",
            "If your task is similar to the task the model of the checkpoint was trained on, you can already use Wav2Vec2ForCTC for predictions without further training.\n"
          ]
        }
      ],
      "source": [
        "model = Wav2Vec2ForCTC.from_pretrained(\"patrickvonplaten/wav2vec2-base-timit-demo-google-colab\").cuda()"
      ]
    },
    {
      "attachments": {},
      "cell_type": "markdown",
      "metadata": {
        "id": "TUuZpB0v5jn_"
      },
      "source": [
        "Now, we will make use of the `map(...)` function to predict the transcription of every test sample and to save the prediction in the dataset itself. We will call the resulting dictionary `\"results\"`.\n",
        "\n",
        "**Note**: we evaluate the test data set with `batch_size=1` on purpose due to this [issue](https://github.com/pytorch/fairseq/issues/3227). Since padded inputs don't yield the exact same output as non-padded inputs, a better WER can be achieved by not padding the input at all."
      ]
    },
    {
      "cell_type": "code",
      "execution_count": null,
      "metadata": {
        "colab": {
          "background_save": true
        },
        "id": "40naJl53n7jT"
      },
      "outputs": [],
      "source": [
        "def map_to_result(batch):\n",
        "  with torch.no_grad():\n",
        "    input_values = torch.tensor(batch[\"input_values\"], device=\"cuda\").unsqueeze(0)\n",
        "    logits = model(input_values).logits\n",
        "\n",
        "  pred_ids = torch.argmax(logits, dim=-1)\n",
        "  batch[\"pred_str\"] = processor.batch_decode(pred_ids)[0]\n",
        "  batch[\"text\"] = processor.decode(batch[\"labels\"], group_tokens=False)\n",
        "\n",
        "  return batch"
      ]
    },
    {
      "cell_type": "code",
      "execution_count": null,
      "metadata": {
        "colab": {
          "background_save": true,
          "referenced_widgets": [
            "159532ca8494421aae9854a9814f1ddc"
          ]
        },
        "id": "uPqH7gZqrGPi",
        "outputId": "ef48f91e-dac9-4164-edcc-251c7cb498ca"
      },
      "outputs": [
        {
          "data": {
            "application/vnd.jupyter.widget-view+json": {
              "model_id": "159532ca8494421aae9854a9814f1ddc",
              "version_major": 2,
              "version_minor": 0
            },
            "text/plain": [
              "0ex [00:00, ?ex/s]"
            ]
          },
          "metadata": {},
          "output_type": "display_data"
        }
      ],
      "source": [
        "results = timit[\"test\"].map(map_to_result, remove_columns=timit[\"test\"].column_names)"
      ]
    },
    {
      "attachments": {},
      "cell_type": "markdown",
      "metadata": {
        "id": "-mqpdB8R6rty"
      },
      "source": [
        "Let's compute the overall WER now."
      ]
    },
    {
      "cell_type": "code",
      "execution_count": null,
      "metadata": {
        "colab": {
          "background_save": true
        },
        "id": "PmqAb4Isx8OK",
        "outputId": "1196b928-4025-487e-e07b-6af5d9d6dfe3"
      },
      "outputs": [
        {
          "name": "stdout",
          "output_type": "stream",
          "text": [
            "Test WER: 8.135\n"
          ]
        }
      ],
      "source": [
        "print(\"Test WER: {:.3f}\".format(wer_metric.compute(predictions=results[\"pred_str\"], references=results[\"text\"])))"
      ]
    },
    {
      "attachments": {},
      "cell_type": "markdown",
      "metadata": {
        "id": "6Va94d8Y7Q98"
      },
      "source": [
        "21.8% WER - not bad! Our demo model would have probably made it on the official [leaderboard](https://paperswithcode.com/sota/speech-recognition-on-timit).\n",
        "\n",
        "Let's take a look at some predictions to see what errors are made by the model."
      ]
    },
    {
      "cell_type": "code",
      "execution_count": null,
      "metadata": {
        "colab": {
          "background_save": true
        },
        "id": "odNDiFVRy53w",
        "outputId": "ceb9c80c-a66c-42d8-9516-bced043dc79e"
      },
      "outputs": [
        {
          "data": {
            "text/html": [
              "<table border=\"1\" class=\"dataframe\">\n",
              "  <thead>\n",
              "    <tr style=\"text-align: right;\">\n",
              "      <th></th>\n",
              "      <th>pred_str</th>\n",
              "      <th>text</th>\n",
              "    </tr>\n",
              "  </thead>\n",
              "  <tbody>\n",
              "    <tr>\n",
              "      <th>0</th>\n",
              "      <td>young children should avoid exposure to contageous diseases</td>\n",
              "      <td>ongxkpz'lisvyxpd'ngispjqnlspy rndgvypenpznxejklngdpsldyjdydp</td>\n",
              "    </tr>\n",
              "    <tr>\n",
              "      <th>1</th>\n",
              "      <td>art official intelligence is for real</td>\n",
              "      <td>jvelulzljiplxeyiilkyxzypldpunvpvyjip</td>\n",
              "    </tr>\n",
              "    <tr>\n",
              "      <th>2</th>\n",
              "      <td>theire propes were two step latters a chair and a pame fen</td>\n",
              "      <td>e'ylvprvnrdphyvypehnpdeyrijssyvdpjpz'jlvpjxspjprjiwpujxp</td>\n",
              "    </tr>\n",
              "    <tr>\n",
              "      <th>3</th>\n",
              "      <td>if people were more generous there would be no need for wealfar</td>\n",
              "      <td>luprynriyphyvypwnvypkyxyvngdpe'yvyphngispaypxnpxyyspunvphyiujvyp</td>\n",
              "    </tr>\n",
              "    <tr>\n",
              "      <th>4</th>\n",
              "      <td>the fish began to leep frantically on the surface of the smalleaku</td>\n",
              "      <td>e'ypuld'paykjxpenpiyjrpuvjxelzjiiopnxpe'ypdgvujzypnupe'ypdwjiipijbyp</td>\n",
              "    </tr>\n",
              "    <tr>\n",
              "      <th>5</th>\n",
              "      <td>her rite hand aques whenever the baramatric presuer changes</td>\n",
              "      <td>'yvpvlk'ep'jxspjz'ydph'yxyqyvpe'ypajvnwyevlzprvyddgvypz'jxkydp</td>\n",
              "    </tr>\n",
              "    <tr>\n",
              "      <th>6</th>\n",
              "      <td>only lawyers loved milunears</td>\n",
              "      <td>nxiopijhoyvdpinqypwliilnxjlvydp</td>\n",
              "    </tr>\n",
              "    <tr>\n",
              "      <th>7</th>\n",
              "      <td>the nearest synnegu may not be within walk in distance</td>\n",
              "      <td>e'ypxyjvydepdoxjknkgypwjopxnepayphle'lxphjiblxkpsldejxzyp</td>\n",
              "    </tr>\n",
              "    <tr>\n",
              "      <th>8</th>\n",
              "      <td>basket ball can be an entertaining sport</td>\n",
              "      <td>ajdbyeajiipzjxpaypjxpyxeyvejlxlxkpdrnvep</td>\n",
              "    </tr>\n",
              "    <tr>\n",
              "      <th>9</th>\n",
              "      <td>she had your dark suit in greasy wash water all year</td>\n",
              "      <td>d'yp'jspongvpsjvbpdgleplxpkvyjdophjd'phjeyvpjiipoyjvp</td>\n",
              "    </tr>\n",
              "  </tbody>\n",
              "</table>"
            ],
            "text/plain": [
              "<IPython.core.display.HTML object>"
            ]
          },
          "metadata": {},
          "output_type": "display_data"
        }
      ],
      "source": [
        "show_random_elements(results)"
      ]
    },
    {
      "attachments": {},
      "cell_type": "markdown",
      "metadata": {
        "id": "5HFCujhd9n4N"
      },
      "source": [
        "It becomes clear that the predicted transcriptions are acoustically very similar to the target transcriptions, but often contain spelling or grammatical errors. This shouldn't be very surprising though given that we purely rely on Wav2Vec2 without making use of a language model."
      ]
    },
    {
      "attachments": {},
      "cell_type": "markdown",
      "metadata": {
        "id": "a3ydKvUl9FTK"
      },
      "source": [
        "Finally, to better understand how CTC works, it is worth taking a deeper look at the exact output of the model. Let's run the first test sample through the model, take the predicted ids and convert them to their corresponding tokens."
      ]
    },
    {
      "cell_type": "code",
      "execution_count": null,
      "metadata": {
        "colab": {
          "background_save": true
        },
        "id": "AqaM45t87uM4",
        "outputId": "489eb586-99ed-43e8-ef03-899a2d5db111"
      },
      "outputs": [
        {
          "data": {
            "application/vnd.google.colaboratory.intrinsic+json": {
              "type": "string"
            },
            "text/plain": [
              "'[PAD] [PAD] [PAD] [PAD] [PAD] t t h h e | | | b [PAD] [PAD] [PAD] u u n n g g [PAD] [PAD] l l l l [PAD] o o o | | w w a a s s | | [PAD] [PAD] [PAD] p l l [PAD] e s s s s [PAD] n n t t [PAD] l l l y y | | [PAD] s s s i i t t t [PAD] u u u u u [PAD] [PAD] [PAD] [PAD] a a t t [PAD] e e d d | | [PAD] n n e e a a r | | t t h e e | | s s h h [PAD] [PAD] [PAD] [PAD] o o r r r r | [PAD] [PAD] [PAD] [PAD] [PAD] [PAD] [PAD] [PAD] [PAD]'"
            ]
          },
          "execution_count": 46,
          "metadata": {},
          "output_type": "execute_result"
        }
      ],
      "source": [
        "model.to(\"cuda\")\n",
        "\n",
        "with torch.no_grad():\n",
        "  logits = model(torch.tensor(timit[\"test\"][:1][\"input_values\"], device=\"cuda\")).logits\n",
        "\n",
        "pred_ids = torch.argmax(logits, dim=-1)\n",
        "\n",
        "# convert ids to tokens\n",
        "\" \".join(processor.tokenizer.convert_ids_to_tokens(pred_ids[0].tolist()))"
      ]
    },
    {
      "attachments": {},
      "cell_type": "markdown",
      "metadata": {
        "id": "tdO8E28g-n5C"
      },
      "source": [
        "The output should make it a bit clearer how CTC works in practice. The model is to some extent invariant to speaking rate since it has learned to either just repeat the same token in case the speech chunk to be classified still corresponds to the same token. This makes CTC a very powerful algorithm for speech recognition since the speech file's transcription is often very much independent of its length.\n",
        "\n",
        "I again advise the reader to take a look at [this](https://distill.pub/2017/ctc) very nice blog post to better understand CTC."
      ]
    }
  ],
  "metadata": {
    "accelerator": "GPU",
    "colab": {
      "include_colab_link": true,
      "machine_shape": "hm",
      "provenance": []
    },
    "kernelspec": {
      "display_name": "Python 3",
      "name": "python3"
    },
    "language_info": {
      "codemirror_mode": {
        "name": "ipython",
        "version": 3
      },
      "file_extension": ".py",
      "mimetype": "text/x-python",
      "name": "python",
      "nbconvert_exporter": "python",
      "pygments_lexer": "ipython3",
      "version": "3.9.16"
    },
    "widgets": {
      "application/vnd.jupyter.widget-state+json": {
        "0058396ec61a4f75a7db09a5f38d125b": {
          "model_module": "@jupyter-widgets/base",
          "model_module_version": "1.2.0",
          "model_name": "LayoutModel",
          "state": {
            "_model_module": "@jupyter-widgets/base",
            "_model_module_version": "1.2.0",
            "_model_name": "LayoutModel",
            "_view_count": null,
            "_view_module": "@jupyter-widgets/base",
            "_view_module_version": "1.2.0",
            "_view_name": "LayoutView",
            "align_content": null,
            "align_items": null,
            "align_self": null,
            "border": null,
            "bottom": null,
            "display": null,
            "flex": null,
            "flex_flow": null,
            "grid_area": null,
            "grid_auto_columns": null,
            "grid_auto_flow": null,
            "grid_auto_rows": null,
            "grid_column": null,
            "grid_gap": null,
            "grid_row": null,
            "grid_template_areas": null,
            "grid_template_columns": null,
            "grid_template_rows": null,
            "height": null,
            "justify_content": null,
            "justify_items": null,
            "left": null,
            "margin": null,
            "max_height": null,
            "max_width": null,
            "min_height": null,
            "min_width": null,
            "object_fit": null,
            "object_position": null,
            "order": null,
            "overflow": null,
            "overflow_x": null,
            "overflow_y": null,
            "padding": null,
            "right": null,
            "top": null,
            "visibility": null,
            "width": "20px"
          }
        },
        "03d71c90397247f7a0b46f02be423a66": {
          "model_module": "@jupyter-widgets/controls",
          "model_module_version": "1.5.0",
          "model_name": "HBoxModel",
          "state": {
            "_dom_classes": [],
            "_model_module": "@jupyter-widgets/controls",
            "_model_module_version": "1.5.0",
            "_model_name": "HBoxModel",
            "_view_count": null,
            "_view_module": "@jupyter-widgets/controls",
            "_view_module_version": "1.5.0",
            "_view_name": "HBoxView",
            "box_style": "",
            "children": [
              "IPY_MODEL_7ba0b13ba0604b26afe63e5dc86e2f1e",
              "IPY_MODEL_41ff8cbd05464696b86989bf3c39c1e3",
              "IPY_MODEL_a84b851075bf4773a463ed24a2f3eb24"
            ],
            "layout": "IPY_MODEL_6f7688e6cf04412ab2dac06baeb4e666"
          }
        },
        "05b403993fc04c128fe3423e16085529": {
          "model_module": "@jupyter-widgets/base",
          "model_module_version": "1.2.0",
          "model_name": "LayoutModel",
          "state": {
            "_model_module": "@jupyter-widgets/base",
            "_model_module_version": "1.2.0",
            "_model_name": "LayoutModel",
            "_view_count": null,
            "_view_module": "@jupyter-widgets/base",
            "_view_module_version": "1.2.0",
            "_view_name": "LayoutView",
            "align_content": null,
            "align_items": null,
            "align_self": null,
            "border": null,
            "bottom": null,
            "display": null,
            "flex": null,
            "flex_flow": null,
            "grid_area": null,
            "grid_auto_columns": null,
            "grid_auto_flow": null,
            "grid_auto_rows": null,
            "grid_column": null,
            "grid_gap": null,
            "grid_row": null,
            "grid_template_areas": null,
            "grid_template_columns": null,
            "grid_template_rows": null,
            "height": null,
            "justify_content": null,
            "justify_items": null,
            "left": null,
            "margin": null,
            "max_height": null,
            "max_width": null,
            "min_height": null,
            "min_width": null,
            "object_fit": null,
            "object_position": null,
            "order": null,
            "overflow": null,
            "overflow_x": null,
            "overflow_y": null,
            "padding": null,
            "right": null,
            "top": null,
            "visibility": null,
            "width": null
          }
        },
        "05de8b07f5a54cdaabb7ad3de4a032b3": {
          "model_module": "@jupyter-widgets/controls",
          "model_module_version": "1.5.0",
          "model_name": "DescriptionStyleModel",
          "state": {
            "_model_module": "@jupyter-widgets/controls",
            "_model_module_version": "1.5.0",
            "_model_name": "DescriptionStyleModel",
            "_view_count": null,
            "_view_module": "@jupyter-widgets/base",
            "_view_module_version": "1.2.0",
            "_view_name": "StyleView",
            "description_width": ""
          }
        },
        "090847f7912e496fbc1ef8673674c1ed": {
          "model_module": "@jupyter-widgets/base",
          "model_module_version": "1.2.0",
          "model_name": "LayoutModel",
          "state": {
            "_model_module": "@jupyter-widgets/base",
            "_model_module_version": "1.2.0",
            "_model_name": "LayoutModel",
            "_view_count": null,
            "_view_module": "@jupyter-widgets/base",
            "_view_module_version": "1.2.0",
            "_view_name": "LayoutView",
            "align_content": null,
            "align_items": null,
            "align_self": null,
            "border": null,
            "bottom": null,
            "display": null,
            "flex": null,
            "flex_flow": null,
            "grid_area": null,
            "grid_auto_columns": null,
            "grid_auto_flow": null,
            "grid_auto_rows": null,
            "grid_column": null,
            "grid_gap": null,
            "grid_row": null,
            "grid_template_areas": null,
            "grid_template_columns": null,
            "grid_template_rows": null,
            "height": null,
            "justify_content": null,
            "justify_items": null,
            "left": null,
            "margin": null,
            "max_height": null,
            "max_width": null,
            "min_height": null,
            "min_width": null,
            "object_fit": null,
            "object_position": null,
            "order": null,
            "overflow": null,
            "overflow_x": null,
            "overflow_y": null,
            "padding": null,
            "right": null,
            "top": null,
            "visibility": null,
            "width": null
          }
        },
        "0ada10817cc44b6a9b903815fc9b2455": {
          "model_module": "@jupyter-widgets/base",
          "model_module_version": "1.2.0",
          "model_name": "LayoutModel",
          "state": {
            "_model_module": "@jupyter-widgets/base",
            "_model_module_version": "1.2.0",
            "_model_name": "LayoutModel",
            "_view_count": null,
            "_view_module": "@jupyter-widgets/base",
            "_view_module_version": "1.2.0",
            "_view_name": "LayoutView",
            "align_content": null,
            "align_items": null,
            "align_self": null,
            "border": null,
            "bottom": null,
            "display": null,
            "flex": null,
            "flex_flow": null,
            "grid_area": null,
            "grid_auto_columns": null,
            "grid_auto_flow": null,
            "grid_auto_rows": null,
            "grid_column": null,
            "grid_gap": null,
            "grid_row": null,
            "grid_template_areas": null,
            "grid_template_columns": null,
            "grid_template_rows": null,
            "height": null,
            "justify_content": null,
            "justify_items": null,
            "left": null,
            "margin": null,
            "max_height": null,
            "max_width": null,
            "min_height": null,
            "min_width": null,
            "object_fit": null,
            "object_position": null,
            "order": null,
            "overflow": null,
            "overflow_x": null,
            "overflow_y": null,
            "padding": null,
            "right": null,
            "top": null,
            "visibility": null,
            "width": null
          }
        },
        "0b8b1be79ae24a31b1474824c5e52de5": {
          "model_module": "@jupyter-widgets/controls",
          "model_module_version": "1.5.0",
          "model_name": "FloatProgressModel",
          "state": {
            "_dom_classes": [],
            "_model_module": "@jupyter-widgets/controls",
            "_model_module_version": "1.5.0",
            "_model_name": "FloatProgressModel",
            "_view_count": null,
            "_view_module": "@jupyter-widgets/controls",
            "_view_module_version": "1.5.0",
            "_view_name": "ProgressView",
            "bar_style": "success",
            "description": "",
            "description_tooltip": null,
            "layout": "IPY_MODEL_835cdd92279b4385af6a554c416ee245",
            "max": 1,
            "min": 0,
            "orientation": "horizontal",
            "style": "IPY_MODEL_91190c7d6c7b460cb028183cf51bb1c1",
            "value": 1
          }
        },
        "10fd19a14d1f45aba528e4f19b675638": {
          "model_module": "@jupyter-widgets/controls",
          "model_module_version": "1.5.0",
          "model_name": "DescriptionStyleModel",
          "state": {
            "_model_module": "@jupyter-widgets/controls",
            "_model_module_version": "1.5.0",
            "_model_name": "DescriptionStyleModel",
            "_view_count": null,
            "_view_module": "@jupyter-widgets/base",
            "_view_module_version": "1.2.0",
            "_view_name": "StyleView",
            "description_width": ""
          }
        },
        "14a6810e336a473cbcef56c1b6ed59cf": {
          "model_module": "@jupyter-widgets/controls",
          "model_module_version": "1.5.0",
          "model_name": "DescriptionStyleModel",
          "state": {
            "_model_module": "@jupyter-widgets/controls",
            "_model_module_version": "1.5.0",
            "_model_name": "DescriptionStyleModel",
            "_view_count": null,
            "_view_module": "@jupyter-widgets/base",
            "_view_module_version": "1.2.0",
            "_view_name": "StyleView",
            "description_width": ""
          }
        },
        "1504d726f2f448b4a9b36d5034f3d138": {
          "model_module": "@jupyter-widgets/base",
          "model_module_version": "1.2.0",
          "model_name": "LayoutModel",
          "state": {
            "_model_module": "@jupyter-widgets/base",
            "_model_module_version": "1.2.0",
            "_model_name": "LayoutModel",
            "_view_count": null,
            "_view_module": "@jupyter-widgets/base",
            "_view_module_version": "1.2.0",
            "_view_name": "LayoutView",
            "align_content": null,
            "align_items": null,
            "align_self": null,
            "border": null,
            "bottom": null,
            "display": null,
            "flex": null,
            "flex_flow": null,
            "grid_area": null,
            "grid_auto_columns": null,
            "grid_auto_flow": null,
            "grid_auto_rows": null,
            "grid_column": null,
            "grid_gap": null,
            "grid_row": null,
            "grid_template_areas": null,
            "grid_template_columns": null,
            "grid_template_rows": null,
            "height": null,
            "justify_content": null,
            "justify_items": null,
            "left": null,
            "margin": null,
            "max_height": null,
            "max_width": null,
            "min_height": null,
            "min_width": null,
            "object_fit": null,
            "object_position": null,
            "order": null,
            "overflow": null,
            "overflow_x": null,
            "overflow_y": null,
            "padding": null,
            "right": null,
            "top": null,
            "visibility": null,
            "width": null
          }
        },
        "15666b87c18443b2b5dcc92821b310e7": {
          "model_module": "@jupyter-widgets/base",
          "model_module_version": "1.2.0",
          "model_name": "LayoutModel",
          "state": {
            "_model_module": "@jupyter-widgets/base",
            "_model_module_version": "1.2.0",
            "_model_name": "LayoutModel",
            "_view_count": null,
            "_view_module": "@jupyter-widgets/base",
            "_view_module_version": "1.2.0",
            "_view_name": "LayoutView",
            "align_content": null,
            "align_items": null,
            "align_self": null,
            "border": null,
            "bottom": null,
            "display": null,
            "flex": null,
            "flex_flow": null,
            "grid_area": null,
            "grid_auto_columns": null,
            "grid_auto_flow": null,
            "grid_auto_rows": null,
            "grid_column": null,
            "grid_gap": null,
            "grid_row": null,
            "grid_template_areas": null,
            "grid_template_columns": null,
            "grid_template_rows": null,
            "height": null,
            "justify_content": null,
            "justify_items": null,
            "left": null,
            "margin": null,
            "max_height": null,
            "max_width": null,
            "min_height": null,
            "min_width": null,
            "object_fit": null,
            "object_position": null,
            "order": null,
            "overflow": null,
            "overflow_x": null,
            "overflow_y": null,
            "padding": null,
            "right": null,
            "top": null,
            "visibility": null,
            "width": null
          }
        },
        "15e195a2c3044feababc62304301f14f": {
          "model_module": "@jupyter-widgets/controls",
          "model_module_version": "1.5.0",
          "model_name": "DescriptionStyleModel",
          "state": {
            "_model_module": "@jupyter-widgets/controls",
            "_model_module_version": "1.5.0",
            "_model_name": "DescriptionStyleModel",
            "_view_count": null,
            "_view_module": "@jupyter-widgets/base",
            "_view_module_version": "1.2.0",
            "_view_name": "StyleView",
            "description_width": ""
          }
        },
        "165636445bfc4733970d1a7ded5f6ede": {
          "model_module": "@jupyter-widgets/controls",
          "model_module_version": "1.5.0",
          "model_name": "DescriptionStyleModel",
          "state": {
            "_model_module": "@jupyter-widgets/controls",
            "_model_module_version": "1.5.0",
            "_model_name": "DescriptionStyleModel",
            "_view_count": null,
            "_view_module": "@jupyter-widgets/base",
            "_view_module_version": "1.2.0",
            "_view_name": "StyleView",
            "description_width": ""
          }
        },
        "196c5d364c0a45d1b07cb8c1850eae8e": {
          "model_module": "@jupyter-widgets/base",
          "model_module_version": "1.2.0",
          "model_name": "LayoutModel",
          "state": {
            "_model_module": "@jupyter-widgets/base",
            "_model_module_version": "1.2.0",
            "_model_name": "LayoutModel",
            "_view_count": null,
            "_view_module": "@jupyter-widgets/base",
            "_view_module_version": "1.2.0",
            "_view_name": "LayoutView",
            "align_content": null,
            "align_items": null,
            "align_self": null,
            "border": null,
            "bottom": null,
            "display": null,
            "flex": null,
            "flex_flow": null,
            "grid_area": null,
            "grid_auto_columns": null,
            "grid_auto_flow": null,
            "grid_auto_rows": null,
            "grid_column": null,
            "grid_gap": null,
            "grid_row": null,
            "grid_template_areas": null,
            "grid_template_columns": null,
            "grid_template_rows": null,
            "height": null,
            "justify_content": null,
            "justify_items": null,
            "left": null,
            "margin": null,
            "max_height": null,
            "max_width": null,
            "min_height": null,
            "min_width": null,
            "object_fit": null,
            "object_position": null,
            "order": null,
            "overflow": null,
            "overflow_x": null,
            "overflow_y": null,
            "padding": null,
            "right": null,
            "top": null,
            "visibility": null,
            "width": null
          }
        },
        "1a36d660c6474845bbfdcffffb6dcc68": {
          "model_module": "@jupyter-widgets/controls",
          "model_module_version": "1.5.0",
          "model_name": "HTMLModel",
          "state": {
            "_dom_classes": [],
            "_model_module": "@jupyter-widgets/controls",
            "_model_module_version": "1.5.0",
            "_model_name": "HTMLModel",
            "_view_count": null,
            "_view_module": "@jupyter-widgets/controls",
            "_view_module_version": "1.5.0",
            "_view_name": "HTMLView",
            "description": "",
            "description_tooltip": null,
            "layout": "IPY_MODEL_7b2e3d37cdef4f5282f01745c3b1a0f4",
            "placeholder": "​",
            "style": "IPY_MODEL_7b694dd16e54443f8da6af91b1ecd821",
            "value": " 1675/0 [00:01&lt;00:00, 1493.22 examples/s]"
          }
        },
        "1cb0c8f214cc4de791e49af3c793380a": {
          "model_module": "@jupyter-widgets/base",
          "model_module_version": "1.2.0",
          "model_name": "LayoutModel",
          "state": {
            "_model_module": "@jupyter-widgets/base",
            "_model_module_version": "1.2.0",
            "_model_name": "LayoutModel",
            "_view_count": null,
            "_view_module": "@jupyter-widgets/base",
            "_view_module_version": "1.2.0",
            "_view_name": "LayoutView",
            "align_content": null,
            "align_items": null,
            "align_self": null,
            "border": null,
            "bottom": null,
            "display": null,
            "flex": null,
            "flex_flow": null,
            "grid_area": null,
            "grid_auto_columns": null,
            "grid_auto_flow": null,
            "grid_auto_rows": null,
            "grid_column": null,
            "grid_gap": null,
            "grid_row": null,
            "grid_template_areas": null,
            "grid_template_columns": null,
            "grid_template_rows": null,
            "height": null,
            "justify_content": null,
            "justify_items": null,
            "left": null,
            "margin": null,
            "max_height": null,
            "max_width": null,
            "min_height": null,
            "min_width": null,
            "object_fit": null,
            "object_position": null,
            "order": null,
            "overflow": null,
            "overflow_x": null,
            "overflow_y": null,
            "padding": null,
            "right": null,
            "top": null,
            "visibility": null,
            "width": null
          }
        },
        "225e6afb5c154fe6b3a1b1279287cb85": {
          "model_module": "@jupyter-widgets/base",
          "model_module_version": "1.2.0",
          "model_name": "LayoutModel",
          "state": {
            "_model_module": "@jupyter-widgets/base",
            "_model_module_version": "1.2.0",
            "_model_name": "LayoutModel",
            "_view_count": null,
            "_view_module": "@jupyter-widgets/base",
            "_view_module_version": "1.2.0",
            "_view_name": "LayoutView",
            "align_content": null,
            "align_items": null,
            "align_self": null,
            "border": null,
            "bottom": null,
            "display": null,
            "flex": null,
            "flex_flow": null,
            "grid_area": null,
            "grid_auto_columns": null,
            "grid_auto_flow": null,
            "grid_auto_rows": null,
            "grid_column": null,
            "grid_gap": null,
            "grid_row": null,
            "grid_template_areas": null,
            "grid_template_columns": null,
            "grid_template_rows": null,
            "height": null,
            "justify_content": null,
            "justify_items": null,
            "left": null,
            "margin": null,
            "max_height": null,
            "max_width": null,
            "min_height": null,
            "min_width": null,
            "object_fit": null,
            "object_position": null,
            "order": null,
            "overflow": null,
            "overflow_x": null,
            "overflow_y": null,
            "padding": null,
            "right": null,
            "top": null,
            "visibility": null,
            "width": null
          }
        },
        "280663ff96ce499aa0cb7bca67f59a85": {
          "model_module": "@jupyter-widgets/base",
          "model_module_version": "1.2.0",
          "model_name": "LayoutModel",
          "state": {
            "_model_module": "@jupyter-widgets/base",
            "_model_module_version": "1.2.0",
            "_model_name": "LayoutModel",
            "_view_count": null,
            "_view_module": "@jupyter-widgets/base",
            "_view_module_version": "1.2.0",
            "_view_name": "LayoutView",
            "align_content": null,
            "align_items": null,
            "align_self": null,
            "border": null,
            "bottom": null,
            "display": null,
            "flex": null,
            "flex_flow": null,
            "grid_area": null,
            "grid_auto_columns": null,
            "grid_auto_flow": null,
            "grid_auto_rows": null,
            "grid_column": null,
            "grid_gap": null,
            "grid_row": null,
            "grid_template_areas": null,
            "grid_template_columns": null,
            "grid_template_rows": null,
            "height": null,
            "justify_content": null,
            "justify_items": null,
            "left": null,
            "margin": null,
            "max_height": null,
            "max_width": null,
            "min_height": null,
            "min_width": null,
            "object_fit": null,
            "object_position": null,
            "order": null,
            "overflow": null,
            "overflow_x": null,
            "overflow_y": null,
            "padding": null,
            "right": null,
            "top": null,
            "visibility": null,
            "width": null
          }
        },
        "2a011e9f253e4cef8f52f45c110c0295": {
          "model_module": "@jupyter-widgets/controls",
          "model_module_version": "1.5.0",
          "model_name": "DescriptionStyleModel",
          "state": {
            "_model_module": "@jupyter-widgets/controls",
            "_model_module_version": "1.5.0",
            "_model_name": "DescriptionStyleModel",
            "_view_count": null,
            "_view_module": "@jupyter-widgets/base",
            "_view_module_version": "1.2.0",
            "_view_name": "StyleView",
            "description_width": ""
          }
        },
        "2a49340e51fc4054a2616d1990109d7c": {
          "model_module": "@jupyter-widgets/controls",
          "model_module_version": "1.5.0",
          "model_name": "FloatProgressModel",
          "state": {
            "_dom_classes": [],
            "_model_module": "@jupyter-widgets/controls",
            "_model_module_version": "1.5.0",
            "_model_name": "FloatProgressModel",
            "_view_count": null,
            "_view_module": "@jupyter-widgets/controls",
            "_view_module_version": "1.5.0",
            "_view_name": "ProgressView",
            "bar_style": "success",
            "description": "",
            "description_tooltip": null,
            "layout": "IPY_MODEL_bd85d28cc40142998b42434a705de501",
            "max": 1,
            "min": 0,
            "orientation": "horizontal",
            "style": "IPY_MODEL_7a913dfa92e7410f8304bd12b186671e",
            "value": 1
          }
        },
        "2b28d6a112484a5cb8a3bce8d33dd6eb": {
          "model_module": "@jupyter-widgets/controls",
          "model_module_version": "1.5.0",
          "model_name": "HTMLModel",
          "state": {
            "_dom_classes": [],
            "_model_module": "@jupyter-widgets/controls",
            "_model_module_version": "1.5.0",
            "_model_name": "HTMLModel",
            "_view_count": null,
            "_view_module": "@jupyter-widgets/controls",
            "_view_module_version": "1.5.0",
            "_view_name": "HTMLView",
            "description": "",
            "description_tooltip": null,
            "layout": "IPY_MODEL_457ab436e5dd499eab891989de1ebdc9",
            "placeholder": "​",
            "style": "IPY_MODEL_165636445bfc4733970d1a7ded5f6ede",
            "value": ""
          }
        },
        "2ca52ebaf2be48d5a4b8b4138906be85": {
          "model_module": "@jupyter-widgets/base",
          "model_module_version": "1.2.0",
          "model_name": "LayoutModel",
          "state": {
            "_model_module": "@jupyter-widgets/base",
            "_model_module_version": "1.2.0",
            "_model_name": "LayoutModel",
            "_view_count": null,
            "_view_module": "@jupyter-widgets/base",
            "_view_module_version": "1.2.0",
            "_view_name": "LayoutView",
            "align_content": null,
            "align_items": null,
            "align_self": null,
            "border": null,
            "bottom": null,
            "display": null,
            "flex": null,
            "flex_flow": null,
            "grid_area": null,
            "grid_auto_columns": null,
            "grid_auto_flow": null,
            "grid_auto_rows": null,
            "grid_column": null,
            "grid_gap": null,
            "grid_row": null,
            "grid_template_areas": null,
            "grid_template_columns": null,
            "grid_template_rows": null,
            "height": null,
            "justify_content": null,
            "justify_items": null,
            "left": null,
            "margin": null,
            "max_height": null,
            "max_width": null,
            "min_height": null,
            "min_width": null,
            "object_fit": null,
            "object_position": null,
            "order": null,
            "overflow": null,
            "overflow_x": null,
            "overflow_y": null,
            "padding": null,
            "right": null,
            "top": null,
            "visibility": null,
            "width": null
          }
        },
        "2cb200945757448abb65d4af8fe4b95f": {
          "model_module": "@jupyter-widgets/controls",
          "model_module_version": "1.5.0",
          "model_name": "FloatProgressModel",
          "state": {
            "_dom_classes": [],
            "_model_module": "@jupyter-widgets/controls",
            "_model_module_version": "1.5.0",
            "_model_name": "FloatProgressModel",
            "_view_count": null,
            "_view_module": "@jupyter-widgets/controls",
            "_view_module_version": "1.5.0",
            "_view_name": "ProgressView",
            "bar_style": "success",
            "description": "",
            "description_tooltip": null,
            "layout": "IPY_MODEL_480805c0a342489dbe01eef7aa1a9b65",
            "max": 5,
            "min": 0,
            "orientation": "horizontal",
            "style": "IPY_MODEL_c7729e98d977430a8a85243bab1dc83d",
            "value": 5
          }
        },
        "2cf18cb986eb40af89ebff415e08f273": {
          "model_module": "@jupyter-widgets/controls",
          "model_module_version": "1.5.0",
          "model_name": "HBoxModel",
          "state": {
            "_dom_classes": [],
            "_model_module": "@jupyter-widgets/controls",
            "_model_module_version": "1.5.0",
            "_model_name": "HBoxModel",
            "_view_count": null,
            "_view_module": "@jupyter-widgets/controls",
            "_view_module_version": "1.5.0",
            "_view_name": "HBoxView",
            "box_style": "",
            "children": [
              "IPY_MODEL_58d8a23d215e4c90af7cc611354be857",
              "IPY_MODEL_cab324901c07479cb8c579067204aecf",
              "IPY_MODEL_5e19198ee86d4494bc5eb9637259f492"
            ],
            "layout": "IPY_MODEL_0ada10817cc44b6a9b903815fc9b2455"
          }
        },
        "2e4870ab55404beaafde980d48618ed7": {
          "model_module": "@jupyter-widgets/base",
          "model_module_version": "1.2.0",
          "model_name": "LayoutModel",
          "state": {
            "_model_module": "@jupyter-widgets/base",
            "_model_module_version": "1.2.0",
            "_model_name": "LayoutModel",
            "_view_count": null,
            "_view_module": "@jupyter-widgets/base",
            "_view_module_version": "1.2.0",
            "_view_name": "LayoutView",
            "align_content": null,
            "align_items": null,
            "align_self": null,
            "border": null,
            "bottom": null,
            "display": null,
            "flex": null,
            "flex_flow": null,
            "grid_area": null,
            "grid_auto_columns": null,
            "grid_auto_flow": null,
            "grid_auto_rows": null,
            "grid_column": null,
            "grid_gap": null,
            "grid_row": null,
            "grid_template_areas": null,
            "grid_template_columns": null,
            "grid_template_rows": null,
            "height": null,
            "justify_content": null,
            "justify_items": null,
            "left": null,
            "margin": null,
            "max_height": null,
            "max_width": null,
            "min_height": null,
            "min_width": null,
            "object_fit": null,
            "object_position": null,
            "order": null,
            "overflow": null,
            "overflow_x": null,
            "overflow_y": null,
            "padding": null,
            "right": null,
            "top": null,
            "visibility": null,
            "width": null
          }
        },
        "334975266d804748874f5d5621af50ba": {
          "model_module": "@jupyter-widgets/controls",
          "model_module_version": "1.5.0",
          "model_name": "HTMLModel",
          "state": {
            "_dom_classes": [],
            "_model_module": "@jupyter-widgets/controls",
            "_model_module_version": "1.5.0",
            "_model_name": "HTMLModel",
            "_view_count": null,
            "_view_module": "@jupyter-widgets/controls",
            "_view_module_version": "1.5.0",
            "_view_name": "HTMLView",
            "description": "",
            "description_tooltip": null,
            "layout": "IPY_MODEL_b51bb202d2214ff28d2a4cd7216443a7",
            "placeholder": "​",
            "style": "IPY_MODEL_c3a76df48c1f46a6a588babaadaafce2",
            "value": "Downloading: "
          }
        },
        "33d85e2daf4e45e48d1eb5dbf86cd4b6": {
          "model_module": "@jupyter-widgets/base",
          "model_module_version": "1.2.0",
          "model_name": "LayoutModel",
          "state": {
            "_model_module": "@jupyter-widgets/base",
            "_model_module_version": "1.2.0",
            "_model_name": "LayoutModel",
            "_view_count": null,
            "_view_module": "@jupyter-widgets/base",
            "_view_module_version": "1.2.0",
            "_view_name": "LayoutView",
            "align_content": null,
            "align_items": null,
            "align_self": null,
            "border": null,
            "bottom": null,
            "display": null,
            "flex": null,
            "flex_flow": null,
            "grid_area": null,
            "grid_auto_columns": null,
            "grid_auto_flow": null,
            "grid_auto_rows": null,
            "grid_column": null,
            "grid_gap": null,
            "grid_row": null,
            "grid_template_areas": null,
            "grid_template_columns": null,
            "grid_template_rows": null,
            "height": null,
            "justify_content": null,
            "justify_items": null,
            "left": null,
            "margin": null,
            "max_height": null,
            "max_width": null,
            "min_height": null,
            "min_width": null,
            "object_fit": null,
            "object_position": null,
            "order": null,
            "overflow": null,
            "overflow_x": null,
            "overflow_y": null,
            "padding": null,
            "right": null,
            "top": null,
            "visibility": null,
            "width": null
          }
        },
        "35cff9996fa5410485f6a9cba04dee0d": {
          "model_module": "@jupyter-widgets/controls",
          "model_module_version": "1.5.0",
          "model_name": "HBoxModel",
          "state": {
            "_dom_classes": [],
            "_model_module": "@jupyter-widgets/controls",
            "_model_module_version": "1.5.0",
            "_model_name": "HBoxModel",
            "_view_count": null,
            "_view_module": "@jupyter-widgets/controls",
            "_view_module_version": "1.5.0",
            "_view_name": "HBoxView",
            "box_style": "",
            "children": [
              "IPY_MODEL_f2f1d919308042c4b730658cee357374",
              "IPY_MODEL_f261eb96f32540b7aba59bf5707bee6f",
              "IPY_MODEL_c453ed86ee824b5e88d15c5bce35009b"
            ],
            "layout": "IPY_MODEL_45f9dd1c05be47e8a0dd90af375756ac"
          }
        },
        "362150e5ee6b409381c9a3f2c4199186": {
          "model_module": "@jupyter-widgets/controls",
          "model_module_version": "1.5.0",
          "model_name": "DescriptionStyleModel",
          "state": {
            "_model_module": "@jupyter-widgets/controls",
            "_model_module_version": "1.5.0",
            "_model_name": "DescriptionStyleModel",
            "_view_count": null,
            "_view_module": "@jupyter-widgets/base",
            "_view_module_version": "1.2.0",
            "_view_name": "StyleView",
            "description_width": ""
          }
        },
        "369c2fa2af714df99e5113fddfe81a36": {
          "model_module": "@jupyter-widgets/controls",
          "model_module_version": "1.5.0",
          "model_name": "ProgressStyleModel",
          "state": {
            "_model_module": "@jupyter-widgets/controls",
            "_model_module_version": "1.5.0",
            "_model_name": "ProgressStyleModel",
            "_view_count": null,
            "_view_module": "@jupyter-widgets/base",
            "_view_module_version": "1.2.0",
            "_view_name": "StyleView",
            "bar_color": null,
            "description_width": ""
          }
        },
        "374e9b6e9fcc45eabe84ae0c9f286546": {
          "model_module": "@jupyter-widgets/base",
          "model_module_version": "1.2.0",
          "model_name": "LayoutModel",
          "state": {
            "_model_module": "@jupyter-widgets/base",
            "_model_module_version": "1.2.0",
            "_model_name": "LayoutModel",
            "_view_count": null,
            "_view_module": "@jupyter-widgets/base",
            "_view_module_version": "1.2.0",
            "_view_name": "LayoutView",
            "align_content": null,
            "align_items": null,
            "align_self": null,
            "border": null,
            "bottom": null,
            "display": null,
            "flex": null,
            "flex_flow": null,
            "grid_area": null,
            "grid_auto_columns": null,
            "grid_auto_flow": null,
            "grid_auto_rows": null,
            "grid_column": null,
            "grid_gap": null,
            "grid_row": null,
            "grid_template_areas": null,
            "grid_template_columns": null,
            "grid_template_rows": null,
            "height": null,
            "justify_content": null,
            "justify_items": null,
            "left": null,
            "margin": null,
            "max_height": null,
            "max_width": null,
            "min_height": null,
            "min_width": null,
            "object_fit": null,
            "object_position": null,
            "order": null,
            "overflow": null,
            "overflow_x": null,
            "overflow_y": null,
            "padding": null,
            "right": null,
            "top": null,
            "visibility": null,
            "width": null
          }
        },
        "39a54ded218f48048321c604eece88d9": {
          "model_module": "@jupyter-widgets/base",
          "model_module_version": "1.2.0",
          "model_name": "LayoutModel",
          "state": {
            "_model_module": "@jupyter-widgets/base",
            "_model_module_version": "1.2.0",
            "_model_name": "LayoutModel",
            "_view_count": null,
            "_view_module": "@jupyter-widgets/base",
            "_view_module_version": "1.2.0",
            "_view_name": "LayoutView",
            "align_content": null,
            "align_items": null,
            "align_self": null,
            "border": null,
            "bottom": null,
            "display": null,
            "flex": null,
            "flex_flow": null,
            "grid_area": null,
            "grid_auto_columns": null,
            "grid_auto_flow": null,
            "grid_auto_rows": null,
            "grid_column": null,
            "grid_gap": null,
            "grid_row": null,
            "grid_template_areas": null,
            "grid_template_columns": null,
            "grid_template_rows": null,
            "height": null,
            "justify_content": null,
            "justify_items": null,
            "left": null,
            "margin": null,
            "max_height": null,
            "max_width": null,
            "min_height": null,
            "min_width": null,
            "object_fit": null,
            "object_position": null,
            "order": null,
            "overflow": null,
            "overflow_x": null,
            "overflow_y": null,
            "padding": null,
            "right": null,
            "top": null,
            "visibility": null,
            "width": null
          }
        },
        "39d2595f1d85401ea4e930369e52da11": {
          "model_module": "@jupyter-widgets/base",
          "model_module_version": "1.2.0",
          "model_name": "LayoutModel",
          "state": {
            "_model_module": "@jupyter-widgets/base",
            "_model_module_version": "1.2.0",
            "_model_name": "LayoutModel",
            "_view_count": null,
            "_view_module": "@jupyter-widgets/base",
            "_view_module_version": "1.2.0",
            "_view_name": "LayoutView",
            "align_content": null,
            "align_items": null,
            "align_self": null,
            "border": null,
            "bottom": null,
            "display": null,
            "flex": null,
            "flex_flow": null,
            "grid_area": null,
            "grid_auto_columns": null,
            "grid_auto_flow": null,
            "grid_auto_rows": null,
            "grid_column": null,
            "grid_gap": null,
            "grid_row": null,
            "grid_template_areas": null,
            "grid_template_columns": null,
            "grid_template_rows": null,
            "height": null,
            "justify_content": null,
            "justify_items": null,
            "left": null,
            "margin": null,
            "max_height": null,
            "max_width": null,
            "min_height": null,
            "min_width": null,
            "object_fit": null,
            "object_position": null,
            "order": null,
            "overflow": null,
            "overflow_x": null,
            "overflow_y": null,
            "padding": null,
            "right": null,
            "top": null,
            "visibility": null,
            "width": null
          }
        },
        "3cbbf50821414139bf7924b2a66912ba": {
          "model_module": "@jupyter-widgets/controls",
          "model_module_version": "1.5.0",
          "model_name": "ProgressStyleModel",
          "state": {
            "_model_module": "@jupyter-widgets/controls",
            "_model_module_version": "1.5.0",
            "_model_name": "ProgressStyleModel",
            "_view_count": null,
            "_view_module": "@jupyter-widgets/base",
            "_view_module_version": "1.2.0",
            "_view_name": "StyleView",
            "bar_color": null,
            "description_width": ""
          }
        },
        "3d7e3dfdc28548d8bd8b7d548edb6f8f": {
          "model_module": "@jupyter-widgets/controls",
          "model_module_version": "1.5.0",
          "model_name": "ProgressStyleModel",
          "state": {
            "_model_module": "@jupyter-widgets/controls",
            "_model_module_version": "1.5.0",
            "_model_name": "ProgressStyleModel",
            "_view_count": null,
            "_view_module": "@jupyter-widgets/base",
            "_view_module_version": "1.2.0",
            "_view_name": "StyleView",
            "bar_color": null,
            "description_width": ""
          }
        },
        "3ee80b72a2e348c8a92af98b5d666c13": {
          "model_module": "@jupyter-widgets/base",
          "model_module_version": "1.2.0",
          "model_name": "LayoutModel",
          "state": {
            "_model_module": "@jupyter-widgets/base",
            "_model_module_version": "1.2.0",
            "_model_name": "LayoutModel",
            "_view_count": null,
            "_view_module": "@jupyter-widgets/base",
            "_view_module_version": "1.2.0",
            "_view_name": "LayoutView",
            "align_content": null,
            "align_items": null,
            "align_self": null,
            "border": null,
            "bottom": null,
            "display": null,
            "flex": null,
            "flex_flow": null,
            "grid_area": null,
            "grid_auto_columns": null,
            "grid_auto_flow": null,
            "grid_auto_rows": null,
            "grid_column": null,
            "grid_gap": null,
            "grid_row": null,
            "grid_template_areas": null,
            "grid_template_columns": null,
            "grid_template_rows": null,
            "height": null,
            "justify_content": null,
            "justify_items": null,
            "left": null,
            "margin": null,
            "max_height": null,
            "max_width": null,
            "min_height": null,
            "min_width": null,
            "object_fit": null,
            "object_position": null,
            "order": null,
            "overflow": null,
            "overflow_x": null,
            "overflow_y": null,
            "padding": null,
            "right": null,
            "top": null,
            "visibility": null,
            "width": null
          }
        },
        "41761888fc3547bf81907d84c07cd964": {
          "model_module": "@jupyter-widgets/base",
          "model_module_version": "1.2.0",
          "model_name": "LayoutModel",
          "state": {
            "_model_module": "@jupyter-widgets/base",
            "_model_module_version": "1.2.0",
            "_model_name": "LayoutModel",
            "_view_count": null,
            "_view_module": "@jupyter-widgets/base",
            "_view_module_version": "1.2.0",
            "_view_name": "LayoutView",
            "align_content": null,
            "align_items": null,
            "align_self": null,
            "border": null,
            "bottom": null,
            "display": null,
            "flex": null,
            "flex_flow": null,
            "grid_area": null,
            "grid_auto_columns": null,
            "grid_auto_flow": null,
            "grid_auto_rows": null,
            "grid_column": null,
            "grid_gap": null,
            "grid_row": null,
            "grid_template_areas": null,
            "grid_template_columns": null,
            "grid_template_rows": null,
            "height": null,
            "justify_content": null,
            "justify_items": null,
            "left": null,
            "margin": null,
            "max_height": null,
            "max_width": null,
            "min_height": null,
            "min_width": null,
            "object_fit": null,
            "object_position": null,
            "order": null,
            "overflow": null,
            "overflow_x": null,
            "overflow_y": null,
            "padding": null,
            "right": null,
            "top": null,
            "visibility": null,
            "width": null
          }
        },
        "41ff8cbd05464696b86989bf3c39c1e3": {
          "model_module": "@jupyter-widgets/controls",
          "model_module_version": "1.5.0",
          "model_name": "FloatProgressModel",
          "state": {
            "_dom_classes": [],
            "_model_module": "@jupyter-widgets/controls",
            "_model_module_version": "1.5.0",
            "_model_name": "FloatProgressModel",
            "_view_count": null,
            "_view_module": "@jupyter-widgets/controls",
            "_view_module_version": "1.5.0",
            "_view_name": "ProgressView",
            "bar_style": "success",
            "description": "",
            "description_tooltip": null,
            "layout": "IPY_MODEL_196c5d364c0a45d1b07cb8c1850eae8e",
            "max": 1060,
            "min": 0,
            "orientation": "horizontal",
            "style": "IPY_MODEL_ac7622d9634c46db895530963f553494",
            "value": 1060
          }
        },
        "42901d9eb4204cb39847025079f3e3c1": {
          "model_module": "@jupyter-widgets/controls",
          "model_module_version": "1.5.0",
          "model_name": "HTMLModel",
          "state": {
            "_dom_classes": [],
            "_model_module": "@jupyter-widgets/controls",
            "_model_module_version": "1.5.0",
            "_model_name": "HTMLModel",
            "_view_count": null,
            "_view_module": "@jupyter-widgets/controls",
            "_view_module_version": "1.5.0",
            "_view_name": "HTMLView",
            "description": "",
            "description_tooltip": null,
            "layout": "IPY_MODEL_bb8774b67f884f6b8377a496b5c4a151",
            "placeholder": "​",
            "style": "IPY_MODEL_f49894f74c4242f88b84aea799edb16d",
            "value": " 4620/? [00:00&lt;00:00, 11641.10ex/s]"
          }
        },
        "4322229ce14c40288a33afefb4917bdd": {
          "model_module": "@jupyter-widgets/controls",
          "model_module_version": "1.5.0",
          "model_name": "HTMLModel",
          "state": {
            "_dom_classes": [],
            "_model_module": "@jupyter-widgets/controls",
            "_model_module_version": "1.5.0",
            "_model_name": "HTMLModel",
            "_view_count": null,
            "_view_module": "@jupyter-widgets/controls",
            "_view_module_version": "1.5.0",
            "_view_name": "HTMLView",
            "description": "",
            "description_tooltip": null,
            "layout": "IPY_MODEL_6d601fe66e86428bb08ec9952e99d52a",
            "placeholder": "​",
            "style": "IPY_MODEL_bd7dad24d5d34edd9409e44ae87b888c",
            "value": " 1/1 [00:00&lt;00:00, 12.01ba/s]"
          }
        },
        "43c07bbb17534fa9932770d689dc821b": {
          "model_module": "@jupyter-widgets/controls",
          "model_module_version": "1.5.0",
          "model_name": "ProgressStyleModel",
          "state": {
            "_model_module": "@jupyter-widgets/controls",
            "_model_module_version": "1.5.0",
            "_model_name": "ProgressStyleModel",
            "_view_count": null,
            "_view_module": "@jupyter-widgets/base",
            "_view_module_version": "1.2.0",
            "_view_name": "StyleView",
            "bar_color": null,
            "description_width": ""
          }
        },
        "457ab436e5dd499eab891989de1ebdc9": {
          "model_module": "@jupyter-widgets/base",
          "model_module_version": "1.2.0",
          "model_name": "LayoutModel",
          "state": {
            "_model_module": "@jupyter-widgets/base",
            "_model_module_version": "1.2.0",
            "_model_name": "LayoutModel",
            "_view_count": null,
            "_view_module": "@jupyter-widgets/base",
            "_view_module_version": "1.2.0",
            "_view_name": "LayoutView",
            "align_content": null,
            "align_items": null,
            "align_self": null,
            "border": null,
            "bottom": null,
            "display": null,
            "flex": null,
            "flex_flow": null,
            "grid_area": null,
            "grid_auto_columns": null,
            "grid_auto_flow": null,
            "grid_auto_rows": null,
            "grid_column": null,
            "grid_gap": null,
            "grid_row": null,
            "grid_template_areas": null,
            "grid_template_columns": null,
            "grid_template_rows": null,
            "height": null,
            "justify_content": null,
            "justify_items": null,
            "left": null,
            "margin": null,
            "max_height": null,
            "max_width": null,
            "min_height": null,
            "min_width": null,
            "object_fit": null,
            "object_position": null,
            "order": null,
            "overflow": null,
            "overflow_x": null,
            "overflow_y": null,
            "padding": null,
            "right": null,
            "top": null,
            "visibility": null,
            "width": null
          }
        },
        "45f9dd1c05be47e8a0dd90af375756ac": {
          "model_module": "@jupyter-widgets/base",
          "model_module_version": "1.2.0",
          "model_name": "LayoutModel",
          "state": {
            "_model_module": "@jupyter-widgets/base",
            "_model_module_version": "1.2.0",
            "_model_name": "LayoutModel",
            "_view_count": null,
            "_view_module": "@jupyter-widgets/base",
            "_view_module_version": "1.2.0",
            "_view_name": "LayoutView",
            "align_content": null,
            "align_items": null,
            "align_self": null,
            "border": null,
            "bottom": null,
            "display": null,
            "flex": null,
            "flex_flow": null,
            "grid_area": null,
            "grid_auto_columns": null,
            "grid_auto_flow": null,
            "grid_auto_rows": null,
            "grid_column": null,
            "grid_gap": null,
            "grid_row": null,
            "grid_template_areas": null,
            "grid_template_columns": null,
            "grid_template_rows": null,
            "height": null,
            "justify_content": null,
            "justify_items": null,
            "left": null,
            "margin": null,
            "max_height": null,
            "max_width": null,
            "min_height": null,
            "min_width": null,
            "object_fit": null,
            "object_position": null,
            "order": null,
            "overflow": null,
            "overflow_x": null,
            "overflow_y": null,
            "padding": null,
            "right": null,
            "top": null,
            "visibility": null,
            "width": null
          }
        },
        "46b49c05ae70468cbe834a11a86c53ee": {
          "model_module": "@jupyter-widgets/controls",
          "model_module_version": "1.5.0",
          "model_name": "DescriptionStyleModel",
          "state": {
            "_model_module": "@jupyter-widgets/controls",
            "_model_module_version": "1.5.0",
            "_model_name": "DescriptionStyleModel",
            "_view_count": null,
            "_view_module": "@jupyter-widgets/base",
            "_view_module_version": "1.2.0",
            "_view_name": "StyleView",
            "description_width": ""
          }
        },
        "4796a0a689924d089c229046ba162058": {
          "model_module": "@jupyter-widgets/controls",
          "model_module_version": "1.5.0",
          "model_name": "DescriptionStyleModel",
          "state": {
            "_model_module": "@jupyter-widgets/controls",
            "_model_module_version": "1.5.0",
            "_model_name": "DescriptionStyleModel",
            "_view_count": null,
            "_view_module": "@jupyter-widgets/base",
            "_view_module_version": "1.2.0",
            "_view_name": "StyleView",
            "description_width": ""
          }
        },
        "47d42cc391cd46049052a802e46364b6": {
          "model_module": "@jupyter-widgets/controls",
          "model_module_version": "1.5.0",
          "model_name": "HTMLModel",
          "state": {
            "_dom_classes": [],
            "_model_module": "@jupyter-widgets/controls",
            "_model_module_version": "1.5.0",
            "_model_name": "HTMLModel",
            "_view_count": null,
            "_view_module": "@jupyter-widgets/controls",
            "_view_module_version": "1.5.0",
            "_view_name": "HTMLView",
            "description": "",
            "description_tooltip": null,
            "layout": "IPY_MODEL_b92aa97e7bf4400c8e1314fd9cd6360c",
            "placeholder": "​",
            "style": "IPY_MODEL_ae02bea4efb44660aa5718e913f38d1d",
            "value": "Downloading: "
          }
        },
        "480805c0a342489dbe01eef7aa1a9b65": {
          "model_module": "@jupyter-widgets/base",
          "model_module_version": "1.2.0",
          "model_name": "LayoutModel",
          "state": {
            "_model_module": "@jupyter-widgets/base",
            "_model_module_version": "1.2.0",
            "_model_name": "LayoutModel",
            "_view_count": null,
            "_view_module": "@jupyter-widgets/base",
            "_view_module_version": "1.2.0",
            "_view_name": "LayoutView",
            "align_content": null,
            "align_items": null,
            "align_self": null,
            "border": null,
            "bottom": null,
            "display": null,
            "flex": null,
            "flex_flow": null,
            "grid_area": null,
            "grid_auto_columns": null,
            "grid_auto_flow": null,
            "grid_auto_rows": null,
            "grid_column": null,
            "grid_gap": null,
            "grid_row": null,
            "grid_template_areas": null,
            "grid_template_columns": null,
            "grid_template_rows": null,
            "height": null,
            "justify_content": null,
            "justify_items": null,
            "left": null,
            "margin": null,
            "max_height": null,
            "max_width": null,
            "min_height": null,
            "min_width": null,
            "object_fit": null,
            "object_position": null,
            "order": null,
            "overflow": null,
            "overflow_x": null,
            "overflow_y": null,
            "padding": null,
            "right": null,
            "top": null,
            "visibility": null,
            "width": null
          }
        },
        "489bec937040484ea1164c317f07a4ad": {
          "model_module": "@jupyter-widgets/controls",
          "model_module_version": "1.5.0",
          "model_name": "DescriptionStyleModel",
          "state": {
            "_model_module": "@jupyter-widgets/controls",
            "_model_module_version": "1.5.0",
            "_model_name": "DescriptionStyleModel",
            "_view_count": null,
            "_view_module": "@jupyter-widgets/base",
            "_view_module_version": "1.2.0",
            "_view_name": "StyleView",
            "description_width": ""
          }
        },
        "4d26ca1886f0449ea7bd6b4c8de7ab24": {
          "model_module": "@jupyter-widgets/controls",
          "model_module_version": "1.5.0",
          "model_name": "HTMLModel",
          "state": {
            "_dom_classes": [],
            "_model_module": "@jupyter-widgets/controls",
            "_model_module_version": "1.5.0",
            "_model_name": "HTMLModel",
            "_view_count": null,
            "_view_module": "@jupyter-widgets/controls",
            "_view_module_version": "1.5.0",
            "_view_name": "HTMLView",
            "description": "",
            "description_tooltip": null,
            "layout": "IPY_MODEL_b27cb4080cb642739729fed51ee8c3ad",
            "placeholder": "​",
            "style": "IPY_MODEL_8ba99977f5d64f69820c6cb91020848c",
            "value": "Downloading: 100%"
          }
        },
        "4ed0f26ff105404bb993127df03bffca": {
          "model_module": "@jupyter-widgets/controls",
          "model_module_version": "1.5.0",
          "model_name": "HTMLModel",
          "state": {
            "_dom_classes": [],
            "_model_module": "@jupyter-widgets/controls",
            "_model_module_version": "1.5.0",
            "_model_name": "HTMLModel",
            "_view_count": null,
            "_view_module": "@jupyter-widgets/controls",
            "_view_module_version": "1.5.0",
            "_view_name": "HTMLView",
            "description": "",
            "description_tooltip": null,
            "layout": "IPY_MODEL_b59ba6565a464d1ba9b09b978cc679dd",
            "placeholder": "​",
            "style": "IPY_MODEL_10fd19a14d1f45aba528e4f19b675638",
            "value": "100%"
          }
        },
        "51a7cab310ae4385b30bcf6d828c5bd7": {
          "model_module": "@jupyter-widgets/controls",
          "model_module_version": "1.5.0",
          "model_name": "PasswordModel",
          "state": {
            "_dom_classes": [],
            "_model_module": "@jupyter-widgets/controls",
            "_model_module_version": "1.5.0",
            "_model_name": "PasswordModel",
            "_view_count": null,
            "_view_module": "@jupyter-widgets/controls",
            "_view_module_version": "1.5.0",
            "_view_name": "PasswordView",
            "continuous_update": true,
            "description": "Token:",
            "description_tooltip": null,
            "disabled": false,
            "layout": "IPY_MODEL_3ee80b72a2e348c8a92af98b5d666c13",
            "placeholder": "​",
            "style": "IPY_MODEL_d30d4923454e4f8aaf4341f0d9e4f794",
            "value": ""
          }
        },
        "53a03b6776c5401aaca921c86ed0b6d5": {
          "model_module": "@jupyter-widgets/controls",
          "model_module_version": "1.5.0",
          "model_name": "ProgressStyleModel",
          "state": {
            "_model_module": "@jupyter-widgets/controls",
            "_model_module_version": "1.5.0",
            "_model_name": "ProgressStyleModel",
            "_view_count": null,
            "_view_module": "@jupyter-widgets/base",
            "_view_module_version": "1.2.0",
            "_view_name": "StyleView",
            "bar_color": null,
            "description_width": ""
          }
        },
        "556b2a49b0f04518a0c925f7d448fcd9": {
          "model_module": "@jupyter-widgets/base",
          "model_module_version": "1.2.0",
          "model_name": "LayoutModel",
          "state": {
            "_model_module": "@jupyter-widgets/base",
            "_model_module_version": "1.2.0",
            "_model_name": "LayoutModel",
            "_view_count": null,
            "_view_module": "@jupyter-widgets/base",
            "_view_module_version": "1.2.0",
            "_view_name": "LayoutView",
            "align_content": null,
            "align_items": null,
            "align_self": null,
            "border": null,
            "bottom": null,
            "display": null,
            "flex": null,
            "flex_flow": null,
            "grid_area": null,
            "grid_auto_columns": null,
            "grid_auto_flow": null,
            "grid_auto_rows": null,
            "grid_column": null,
            "grid_gap": null,
            "grid_row": null,
            "grid_template_areas": null,
            "grid_template_columns": null,
            "grid_template_rows": null,
            "height": null,
            "justify_content": null,
            "justify_items": null,
            "left": null,
            "margin": null,
            "max_height": null,
            "max_width": null,
            "min_height": null,
            "min_width": null,
            "object_fit": null,
            "object_position": null,
            "order": null,
            "overflow": null,
            "overflow_x": null,
            "overflow_y": null,
            "padding": null,
            "right": null,
            "top": null,
            "visibility": null,
            "width": null
          }
        },
        "56edbb7e71544c97a52f26e245e6a406": {
          "model_module": "@jupyter-widgets/base",
          "model_module_version": "1.2.0",
          "model_name": "LayoutModel",
          "state": {
            "_model_module": "@jupyter-widgets/base",
            "_model_module_version": "1.2.0",
            "_model_name": "LayoutModel",
            "_view_count": null,
            "_view_module": "@jupyter-widgets/base",
            "_view_module_version": "1.2.0",
            "_view_name": "LayoutView",
            "align_content": null,
            "align_items": null,
            "align_self": null,
            "border": null,
            "bottom": null,
            "display": null,
            "flex": null,
            "flex_flow": null,
            "grid_area": null,
            "grid_auto_columns": null,
            "grid_auto_flow": null,
            "grid_auto_rows": null,
            "grid_column": null,
            "grid_gap": null,
            "grid_row": null,
            "grid_template_areas": null,
            "grid_template_columns": null,
            "grid_template_rows": null,
            "height": null,
            "justify_content": null,
            "justify_items": null,
            "left": null,
            "margin": null,
            "max_height": null,
            "max_width": null,
            "min_height": null,
            "min_width": null,
            "object_fit": null,
            "object_position": null,
            "order": null,
            "overflow": null,
            "overflow_x": null,
            "overflow_y": null,
            "padding": null,
            "right": null,
            "top": null,
            "visibility": null,
            "width": null
          }
        },
        "58d8a23d215e4c90af7cc611354be857": {
          "model_module": "@jupyter-widgets/controls",
          "model_module_version": "1.5.0",
          "model_name": "HTMLModel",
          "state": {
            "_dom_classes": [],
            "_model_module": "@jupyter-widgets/controls",
            "_model_module_version": "1.5.0",
            "_model_name": "HTMLModel",
            "_view_count": null,
            "_view_module": "@jupyter-widgets/controls",
            "_view_module_version": "1.5.0",
            "_view_name": "HTMLView",
            "description": "",
            "description_tooltip": null,
            "layout": "IPY_MODEL_39d2595f1d85401ea4e930369e52da11",
            "placeholder": "​",
            "style": "IPY_MODEL_8980f3e6e202478eb2d2c3874788e466",
            "value": ""
          }
        },
        "5bc51e6bf9d0484baf014fb352155e15": {
          "model_module": "@jupyter-widgets/base",
          "model_module_version": "1.2.0",
          "model_name": "LayoutModel",
          "state": {
            "_model_module": "@jupyter-widgets/base",
            "_model_module_version": "1.2.0",
            "_model_name": "LayoutModel",
            "_view_count": null,
            "_view_module": "@jupyter-widgets/base",
            "_view_module_version": "1.2.0",
            "_view_name": "LayoutView",
            "align_content": null,
            "align_items": null,
            "align_self": null,
            "border": null,
            "bottom": null,
            "display": null,
            "flex": null,
            "flex_flow": null,
            "grid_area": null,
            "grid_auto_columns": null,
            "grid_auto_flow": null,
            "grid_auto_rows": null,
            "grid_column": null,
            "grid_gap": null,
            "grid_row": null,
            "grid_template_areas": null,
            "grid_template_columns": null,
            "grid_template_rows": null,
            "height": null,
            "justify_content": null,
            "justify_items": null,
            "left": null,
            "margin": null,
            "max_height": null,
            "max_width": null,
            "min_height": null,
            "min_width": null,
            "object_fit": null,
            "object_position": null,
            "order": null,
            "overflow": null,
            "overflow_x": null,
            "overflow_y": null,
            "padding": null,
            "right": null,
            "top": null,
            "visibility": null,
            "width": null
          }
        },
        "5beb1ffb9863473a8df053439bfb9fb2": {
          "model_module": "@jupyter-widgets/base",
          "model_module_version": "1.2.0",
          "model_name": "LayoutModel",
          "state": {
            "_model_module": "@jupyter-widgets/base",
            "_model_module_version": "1.2.0",
            "_model_name": "LayoutModel",
            "_view_count": null,
            "_view_module": "@jupyter-widgets/base",
            "_view_module_version": "1.2.0",
            "_view_name": "LayoutView",
            "align_content": null,
            "align_items": null,
            "align_self": null,
            "border": null,
            "bottom": null,
            "display": null,
            "flex": null,
            "flex_flow": null,
            "grid_area": null,
            "grid_auto_columns": null,
            "grid_auto_flow": null,
            "grid_auto_rows": null,
            "grid_column": null,
            "grid_gap": null,
            "grid_row": null,
            "grid_template_areas": null,
            "grid_template_columns": null,
            "grid_template_rows": null,
            "height": null,
            "justify_content": null,
            "justify_items": null,
            "left": null,
            "margin": null,
            "max_height": null,
            "max_width": null,
            "min_height": null,
            "min_width": null,
            "object_fit": null,
            "object_position": null,
            "order": null,
            "overflow": null,
            "overflow_x": null,
            "overflow_y": null,
            "padding": null,
            "right": null,
            "top": null,
            "visibility": null,
            "width": null
          }
        },
        "5c09a1875b4f4cc2b3cf64a52b4fd8b8": {
          "model_module": "@jupyter-widgets/controls",
          "model_module_version": "1.5.0",
          "model_name": "HTMLModel",
          "state": {
            "_dom_classes": [],
            "_model_module": "@jupyter-widgets/controls",
            "_model_module_version": "1.5.0",
            "_model_name": "HTMLModel",
            "_view_count": null,
            "_view_module": "@jupyter-widgets/controls",
            "_view_module_version": "1.5.0",
            "_view_name": "HTMLView",
            "description": "",
            "description_tooltip": null,
            "layout": "IPY_MODEL_2e4870ab55404beaafde980d48618ed7",
            "placeholder": "​",
            "style": "IPY_MODEL_b85b4466791b4764ab4ef51f90281e9f",
            "value": " 1.80k/? [00:00&lt;00:00, 90.8kB/s]"
          }
        },
        "5e19198ee86d4494bc5eb9637259f492": {
          "model_module": "@jupyter-widgets/controls",
          "model_module_version": "1.5.0",
          "model_name": "HTMLModel",
          "state": {
            "_dom_classes": [],
            "_model_module": "@jupyter-widgets/controls",
            "_model_module_version": "1.5.0",
            "_model_name": "HTMLModel",
            "_view_count": null,
            "_view_module": "@jupyter-widgets/controls",
            "_view_module_version": "1.5.0",
            "_view_name": "HTMLView",
            "description": "",
            "description_tooltip": null,
            "layout": "IPY_MODEL_15666b87c18443b2b5dcc92821b310e7",
            "placeholder": "​",
            "style": "IPY_MODEL_cac71a316ae94f788d31ff4aa68ce067",
            "value": " 1680/? [00:00&lt;00:00, 7285.75ex/s]"
          }
        },
        "5e721c366d99434d80b3822c6e82b290": {
          "model_module": "@jupyter-widgets/controls",
          "model_module_version": "1.5.0",
          "model_name": "HBoxModel",
          "state": {
            "_dom_classes": [],
            "_model_module": "@jupyter-widgets/controls",
            "_model_module_version": "1.5.0",
            "_model_name": "HBoxModel",
            "_view_count": null,
            "_view_module": "@jupyter-widgets/controls",
            "_view_module_version": "1.5.0",
            "_view_name": "HBoxView",
            "box_style": "",
            "children": [
              "IPY_MODEL_bd9b680e32fc41708cc2024a2f40c89d",
              "IPY_MODEL_0b8b1be79ae24a31b1474824c5e52de5",
              "IPY_MODEL_b9f5fab4eb65486abec1e0d85c8682d8"
            ],
            "layout": "IPY_MODEL_56edbb7e71544c97a52f26e245e6a406"
          }
        },
        "6371ee68de1c457696f0f5f467a4ab20": {
          "model_module": "@jupyter-widgets/controls",
          "model_module_version": "1.5.0",
          "model_name": "HBoxModel",
          "state": {
            "_dom_classes": [],
            "_model_module": "@jupyter-widgets/controls",
            "_model_module_version": "1.5.0",
            "_model_name": "HBoxModel",
            "_view_count": null,
            "_view_module": "@jupyter-widgets/controls",
            "_view_module_version": "1.5.0",
            "_view_name": "HBoxView",
            "box_style": "",
            "children": [
              "IPY_MODEL_8d544fd2a20e410887d14bed2c1abf66",
              "IPY_MODEL_b04e77f560024855b050ec5d48d8a26c",
              "IPY_MODEL_786d3890c8a74b6b933389a08be4529f"
            ],
            "layout": "IPY_MODEL_1504d726f2f448b4a9b36d5034f3d138"
          }
        },
        "667cac3e3c364fed95c9d4cd30ec2466": {
          "model_module": "@jupyter-widgets/base",
          "model_module_version": "1.2.0",
          "model_name": "LayoutModel",
          "state": {
            "_model_module": "@jupyter-widgets/base",
            "_model_module_version": "1.2.0",
            "_model_name": "LayoutModel",
            "_view_count": null,
            "_view_module": "@jupyter-widgets/base",
            "_view_module_version": "1.2.0",
            "_view_name": "LayoutView",
            "align_content": null,
            "align_items": null,
            "align_self": null,
            "border": null,
            "bottom": null,
            "display": null,
            "flex": null,
            "flex_flow": null,
            "grid_area": null,
            "grid_auto_columns": null,
            "grid_auto_flow": null,
            "grid_auto_rows": null,
            "grid_column": null,
            "grid_gap": null,
            "grid_row": null,
            "grid_template_areas": null,
            "grid_template_columns": null,
            "grid_template_rows": null,
            "height": null,
            "justify_content": null,
            "justify_items": null,
            "left": null,
            "margin": null,
            "max_height": null,
            "max_width": null,
            "min_height": null,
            "min_width": null,
            "object_fit": null,
            "object_position": null,
            "order": null,
            "overflow": null,
            "overflow_x": null,
            "overflow_y": null,
            "padding": null,
            "right": null,
            "top": null,
            "visibility": null,
            "width": null
          }
        },
        "66d5b61e23dc4651903c0d32d7694a33": {
          "model_module": "@jupyter-widgets/base",
          "model_module_version": "1.2.0",
          "model_name": "LayoutModel",
          "state": {
            "_model_module": "@jupyter-widgets/base",
            "_model_module_version": "1.2.0",
            "_model_name": "LayoutModel",
            "_view_count": null,
            "_view_module": "@jupyter-widgets/base",
            "_view_module_version": "1.2.0",
            "_view_name": "LayoutView",
            "align_content": null,
            "align_items": null,
            "align_self": null,
            "border": null,
            "bottom": null,
            "display": null,
            "flex": null,
            "flex_flow": null,
            "grid_area": null,
            "grid_auto_columns": null,
            "grid_auto_flow": null,
            "grid_auto_rows": null,
            "grid_column": null,
            "grid_gap": null,
            "grid_row": null,
            "grid_template_areas": null,
            "grid_template_columns": null,
            "grid_template_rows": null,
            "height": null,
            "justify_content": null,
            "justify_items": null,
            "left": null,
            "margin": null,
            "max_height": null,
            "max_width": null,
            "min_height": null,
            "min_width": null,
            "object_fit": null,
            "object_position": null,
            "order": null,
            "overflow": null,
            "overflow_x": null,
            "overflow_y": null,
            "padding": null,
            "right": null,
            "top": null,
            "visibility": null,
            "width": null
          }
        },
        "6875e568704e45648e7230c0fe52ffb8": {
          "model_module": "@jupyter-widgets/controls",
          "model_module_version": "1.5.0",
          "model_name": "HTMLModel",
          "state": {
            "_dom_classes": [],
            "_model_module": "@jupyter-widgets/controls",
            "_model_module_version": "1.5.0",
            "_model_name": "HTMLModel",
            "_view_count": null,
            "_view_module": "@jupyter-widgets/controls",
            "_view_module_version": "1.5.0",
            "_view_name": "HTMLView",
            "description": "",
            "description_tooltip": null,
            "layout": "IPY_MODEL_5bc51e6bf9d0484baf014fb352155e15",
            "placeholder": "​",
            "style": "IPY_MODEL_73f206f8a18e42cca2630b1c3fbbdd17",
            "value": " 4523/0 [00:03&lt;00:00, 1491.99 examples/s]"
          }
        },
        "6a04eddf72594989b95c6a1be64d7f61": {
          "model_module": "@jupyter-widgets/base",
          "model_module_version": "1.2.0",
          "model_name": "LayoutModel",
          "state": {
            "_model_module": "@jupyter-widgets/base",
            "_model_module_version": "1.2.0",
            "_model_name": "LayoutModel",
            "_view_count": null,
            "_view_module": "@jupyter-widgets/base",
            "_view_module_version": "1.2.0",
            "_view_name": "LayoutView",
            "align_content": null,
            "align_items": null,
            "align_self": null,
            "border": null,
            "bottom": null,
            "display": null,
            "flex": null,
            "flex_flow": null,
            "grid_area": null,
            "grid_auto_columns": null,
            "grid_auto_flow": null,
            "grid_auto_rows": null,
            "grid_column": null,
            "grid_gap": null,
            "grid_row": null,
            "grid_template_areas": null,
            "grid_template_columns": null,
            "grid_template_rows": null,
            "height": null,
            "justify_content": null,
            "justify_items": null,
            "left": null,
            "margin": null,
            "max_height": null,
            "max_width": null,
            "min_height": null,
            "min_width": null,
            "object_fit": null,
            "object_position": null,
            "order": null,
            "overflow": null,
            "overflow_x": null,
            "overflow_y": null,
            "padding": null,
            "right": null,
            "top": null,
            "visibility": null,
            "width": null
          }
        },
        "6d601fe66e86428bb08ec9952e99d52a": {
          "model_module": "@jupyter-widgets/base",
          "model_module_version": "1.2.0",
          "model_name": "LayoutModel",
          "state": {
            "_model_module": "@jupyter-widgets/base",
            "_model_module_version": "1.2.0",
            "_model_name": "LayoutModel",
            "_view_count": null,
            "_view_module": "@jupyter-widgets/base",
            "_view_module_version": "1.2.0",
            "_view_name": "LayoutView",
            "align_content": null,
            "align_items": null,
            "align_self": null,
            "border": null,
            "bottom": null,
            "display": null,
            "flex": null,
            "flex_flow": null,
            "grid_area": null,
            "grid_auto_columns": null,
            "grid_auto_flow": null,
            "grid_auto_rows": null,
            "grid_column": null,
            "grid_gap": null,
            "grid_row": null,
            "grid_template_areas": null,
            "grid_template_columns": null,
            "grid_template_rows": null,
            "height": null,
            "justify_content": null,
            "justify_items": null,
            "left": null,
            "margin": null,
            "max_height": null,
            "max_width": null,
            "min_height": null,
            "min_width": null,
            "object_fit": null,
            "object_position": null,
            "order": null,
            "overflow": null,
            "overflow_x": null,
            "overflow_y": null,
            "padding": null,
            "right": null,
            "top": null,
            "visibility": null,
            "width": null
          }
        },
        "6e9a872c89d54da582effed9b9f07bb2": {
          "model_module": "@jupyter-widgets/base",
          "model_module_version": "1.2.0",
          "model_name": "LayoutModel",
          "state": {
            "_model_module": "@jupyter-widgets/base",
            "_model_module_version": "1.2.0",
            "_model_name": "LayoutModel",
            "_view_count": null,
            "_view_module": "@jupyter-widgets/base",
            "_view_module_version": "1.2.0",
            "_view_name": "LayoutView",
            "align_content": null,
            "align_items": null,
            "align_self": null,
            "border": null,
            "bottom": null,
            "display": null,
            "flex": null,
            "flex_flow": null,
            "grid_area": null,
            "grid_auto_columns": null,
            "grid_auto_flow": null,
            "grid_auto_rows": null,
            "grid_column": null,
            "grid_gap": null,
            "grid_row": null,
            "grid_template_areas": null,
            "grid_template_columns": null,
            "grid_template_rows": null,
            "height": null,
            "justify_content": null,
            "justify_items": null,
            "left": null,
            "margin": null,
            "max_height": null,
            "max_width": null,
            "min_height": null,
            "min_width": null,
            "object_fit": null,
            "object_position": null,
            "order": null,
            "overflow": null,
            "overflow_x": null,
            "overflow_y": null,
            "padding": null,
            "right": null,
            "top": null,
            "visibility": null,
            "width": "20px"
          }
        },
        "6f7688e6cf04412ab2dac06baeb4e666": {
          "model_module": "@jupyter-widgets/base",
          "model_module_version": "1.2.0",
          "model_name": "LayoutModel",
          "state": {
            "_model_module": "@jupyter-widgets/base",
            "_model_module_version": "1.2.0",
            "_model_name": "LayoutModel",
            "_view_count": null,
            "_view_module": "@jupyter-widgets/base",
            "_view_module_version": "1.2.0",
            "_view_name": "LayoutView",
            "align_content": null,
            "align_items": null,
            "align_self": null,
            "border": null,
            "bottom": null,
            "display": null,
            "flex": null,
            "flex_flow": null,
            "grid_area": null,
            "grid_auto_columns": null,
            "grid_auto_flow": null,
            "grid_auto_rows": null,
            "grid_column": null,
            "grid_gap": null,
            "grid_row": null,
            "grid_template_areas": null,
            "grid_template_columns": null,
            "grid_template_rows": null,
            "height": null,
            "justify_content": null,
            "justify_items": null,
            "left": null,
            "margin": null,
            "max_height": null,
            "max_width": null,
            "min_height": null,
            "min_width": null,
            "object_fit": null,
            "object_position": null,
            "order": null,
            "overflow": null,
            "overflow_x": null,
            "overflow_y": null,
            "padding": null,
            "right": null,
            "top": null,
            "visibility": null,
            "width": null
          }
        },
        "7006ee29b4ef406381b7fbd117b4b333": {
          "model_module": "@jupyter-widgets/controls",
          "model_module_version": "1.5.0",
          "model_name": "HBoxModel",
          "state": {
            "_dom_classes": [],
            "_model_module": "@jupyter-widgets/controls",
            "_model_module_version": "1.5.0",
            "_model_name": "HBoxModel",
            "_view_count": null,
            "_view_module": "@jupyter-widgets/controls",
            "_view_module_version": "1.5.0",
            "_view_name": "HBoxView",
            "box_style": "",
            "children": [
              "IPY_MODEL_c4960a24842040638dc4f7a81b737d6f",
              "IPY_MODEL_2cb200945757448abb65d4af8fe4b95f",
              "IPY_MODEL_d11bbf7a3d924028958d5bcc0a72e122"
            ],
            "layout": "IPY_MODEL_374e9b6e9fcc45eabe84ae0c9f286546"
          }
        },
        "700ef7e95cf94d7e9dbeb58d605eca5d": {
          "model_module": "@jupyter-widgets/controls",
          "model_module_version": "1.5.0",
          "model_name": "DescriptionStyleModel",
          "state": {
            "_model_module": "@jupyter-widgets/controls",
            "_model_module_version": "1.5.0",
            "_model_name": "DescriptionStyleModel",
            "_view_count": null,
            "_view_module": "@jupyter-widgets/base",
            "_view_module_version": "1.2.0",
            "_view_name": "StyleView",
            "description_width": ""
          }
        },
        "70723978a71b47969d9952bcef9c2a0d": {
          "model_module": "@jupyter-widgets/controls",
          "model_module_version": "1.5.0",
          "model_name": "DescriptionStyleModel",
          "state": {
            "_model_module": "@jupyter-widgets/controls",
            "_model_module_version": "1.5.0",
            "_model_name": "DescriptionStyleModel",
            "_view_count": null,
            "_view_module": "@jupyter-widgets/base",
            "_view_module_version": "1.2.0",
            "_view_name": "StyleView",
            "description_width": ""
          }
        },
        "72ba30f58e904ad786e9f82deabebc75": {
          "model_module": "@jupyter-widgets/base",
          "model_module_version": "1.2.0",
          "model_name": "LayoutModel",
          "state": {
            "_model_module": "@jupyter-widgets/base",
            "_model_module_version": "1.2.0",
            "_model_name": "LayoutModel",
            "_view_count": null,
            "_view_module": "@jupyter-widgets/base",
            "_view_module_version": "1.2.0",
            "_view_name": "LayoutView",
            "align_content": null,
            "align_items": null,
            "align_self": null,
            "border": null,
            "bottom": null,
            "display": null,
            "flex": null,
            "flex_flow": null,
            "grid_area": null,
            "grid_auto_columns": null,
            "grid_auto_flow": null,
            "grid_auto_rows": null,
            "grid_column": null,
            "grid_gap": null,
            "grid_row": null,
            "grid_template_areas": null,
            "grid_template_columns": null,
            "grid_template_rows": null,
            "height": null,
            "justify_content": null,
            "justify_items": null,
            "left": null,
            "margin": null,
            "max_height": null,
            "max_width": null,
            "min_height": null,
            "min_width": null,
            "object_fit": null,
            "object_position": null,
            "order": null,
            "overflow": null,
            "overflow_x": null,
            "overflow_y": null,
            "padding": null,
            "right": null,
            "top": null,
            "visibility": null,
            "width": null
          }
        },
        "72c60eb7db764e16a9d47ad4fc87dd10": {
          "model_module": "@jupyter-widgets/controls",
          "model_module_version": "1.5.0",
          "model_name": "VBoxModel",
          "state": {
            "_dom_classes": [],
            "_model_module": "@jupyter-widgets/controls",
            "_model_module_version": "1.5.0",
            "_model_name": "VBoxModel",
            "_view_count": null,
            "_view_module": "@jupyter-widgets/controls",
            "_view_module_version": "1.5.0",
            "_view_name": "VBoxView",
            "box_style": "",
            "children": [
              "IPY_MODEL_81e2c1fadd6546b18a39555d44a9ab3c",
              "IPY_MODEL_51a7cab310ae4385b30bcf6d828c5bd7",
              "IPY_MODEL_97b1d29fb759427b9a3ced885b12c49b",
              "IPY_MODEL_c7053e32145d4599bda83ae1372cf54a",
              "IPY_MODEL_ed33c55d50234c32b15798b747153ad2"
            ],
            "layout": "IPY_MODEL_ed4a76509a9e43a285bed77e8415e170"
          }
        },
        "7317708554854b4fb5c2ee08e0f4f894": {
          "model_module": "@jupyter-widgets/controls",
          "model_module_version": "1.5.0",
          "model_name": "DescriptionStyleModel",
          "state": {
            "_model_module": "@jupyter-widgets/controls",
            "_model_module_version": "1.5.0",
            "_model_name": "DescriptionStyleModel",
            "_view_count": null,
            "_view_module": "@jupyter-widgets/base",
            "_view_module_version": "1.2.0",
            "_view_name": "StyleView",
            "description_width": ""
          }
        },
        "73f206f8a18e42cca2630b1c3fbbdd17": {
          "model_module": "@jupyter-widgets/controls",
          "model_module_version": "1.5.0",
          "model_name": "DescriptionStyleModel",
          "state": {
            "_model_module": "@jupyter-widgets/controls",
            "_model_module_version": "1.5.0",
            "_model_name": "DescriptionStyleModel",
            "_view_count": null,
            "_view_module": "@jupyter-widgets/base",
            "_view_module_version": "1.2.0",
            "_view_name": "StyleView",
            "description_width": ""
          }
        },
        "7664d4cd39254acfb97b63a3331c8b25": {
          "model_module": "@jupyter-widgets/base",
          "model_module_version": "1.2.0",
          "model_name": "LayoutModel",
          "state": {
            "_model_module": "@jupyter-widgets/base",
            "_model_module_version": "1.2.0",
            "_model_name": "LayoutModel",
            "_view_count": null,
            "_view_module": "@jupyter-widgets/base",
            "_view_module_version": "1.2.0",
            "_view_name": "LayoutView",
            "align_content": null,
            "align_items": null,
            "align_self": null,
            "border": null,
            "bottom": null,
            "display": null,
            "flex": null,
            "flex_flow": null,
            "grid_area": null,
            "grid_auto_columns": null,
            "grid_auto_flow": null,
            "grid_auto_rows": null,
            "grid_column": null,
            "grid_gap": null,
            "grid_row": null,
            "grid_template_areas": null,
            "grid_template_columns": null,
            "grid_template_rows": null,
            "height": null,
            "justify_content": null,
            "justify_items": null,
            "left": null,
            "margin": null,
            "max_height": null,
            "max_width": null,
            "min_height": null,
            "min_width": null,
            "object_fit": null,
            "object_position": null,
            "order": null,
            "overflow": null,
            "overflow_x": null,
            "overflow_y": null,
            "padding": null,
            "right": null,
            "top": null,
            "visibility": null,
            "width": null
          }
        },
        "786d3890c8a74b6b933389a08be4529f": {
          "model_module": "@jupyter-widgets/controls",
          "model_module_version": "1.5.0",
          "model_name": "HTMLModel",
          "state": {
            "_dom_classes": [],
            "_model_module": "@jupyter-widgets/controls",
            "_model_module_version": "1.5.0",
            "_model_name": "HTMLModel",
            "_view_count": null,
            "_view_module": "@jupyter-widgets/controls",
            "_view_module_version": "1.5.0",
            "_view_name": "HTMLView",
            "description": "",
            "description_tooltip": null,
            "layout": "IPY_MODEL_cda1ca853c9c413798584217aa65efb9",
            "placeholder": "​",
            "style": "IPY_MODEL_4796a0a689924d089c229046ba162058",
            "value": " 2/2 [00:00&lt;00:00, 63.85it/s]"
          }
        },
        "7943fc950c1c4b9ab096fa2e50d0da2d": {
          "model_module": "@jupyter-widgets/base",
          "model_module_version": "1.2.0",
          "model_name": "LayoutModel",
          "state": {
            "_model_module": "@jupyter-widgets/base",
            "_model_module_version": "1.2.0",
            "_model_name": "LayoutModel",
            "_view_count": null,
            "_view_module": "@jupyter-widgets/base",
            "_view_module_version": "1.2.0",
            "_view_name": "LayoutView",
            "align_content": null,
            "align_items": null,
            "align_self": null,
            "border": null,
            "bottom": null,
            "display": null,
            "flex": null,
            "flex_flow": null,
            "grid_area": null,
            "grid_auto_columns": null,
            "grid_auto_flow": null,
            "grid_auto_rows": null,
            "grid_column": null,
            "grid_gap": null,
            "grid_row": null,
            "grid_template_areas": null,
            "grid_template_columns": null,
            "grid_template_rows": null,
            "height": null,
            "justify_content": null,
            "justify_items": null,
            "left": null,
            "margin": null,
            "max_height": null,
            "max_width": null,
            "min_height": null,
            "min_width": null,
            "object_fit": null,
            "object_position": null,
            "order": null,
            "overflow": null,
            "overflow_x": null,
            "overflow_y": null,
            "padding": null,
            "right": null,
            "top": null,
            "visibility": null,
            "width": null
          }
        },
        "7a913dfa92e7410f8304bd12b186671e": {
          "model_module": "@jupyter-widgets/controls",
          "model_module_version": "1.5.0",
          "model_name": "ProgressStyleModel",
          "state": {
            "_model_module": "@jupyter-widgets/controls",
            "_model_module_version": "1.5.0",
            "_model_name": "ProgressStyleModel",
            "_view_count": null,
            "_view_module": "@jupyter-widgets/base",
            "_view_module_version": "1.2.0",
            "_view_name": "StyleView",
            "bar_color": null,
            "description_width": ""
          }
        },
        "7b2e3d37cdef4f5282f01745c3b1a0f4": {
          "model_module": "@jupyter-widgets/base",
          "model_module_version": "1.2.0",
          "model_name": "LayoutModel",
          "state": {
            "_model_module": "@jupyter-widgets/base",
            "_model_module_version": "1.2.0",
            "_model_name": "LayoutModel",
            "_view_count": null,
            "_view_module": "@jupyter-widgets/base",
            "_view_module_version": "1.2.0",
            "_view_name": "LayoutView",
            "align_content": null,
            "align_items": null,
            "align_self": null,
            "border": null,
            "bottom": null,
            "display": null,
            "flex": null,
            "flex_flow": null,
            "grid_area": null,
            "grid_auto_columns": null,
            "grid_auto_flow": null,
            "grid_auto_rows": null,
            "grid_column": null,
            "grid_gap": null,
            "grid_row": null,
            "grid_template_areas": null,
            "grid_template_columns": null,
            "grid_template_rows": null,
            "height": null,
            "justify_content": null,
            "justify_items": null,
            "left": null,
            "margin": null,
            "max_height": null,
            "max_width": null,
            "min_height": null,
            "min_width": null,
            "object_fit": null,
            "object_position": null,
            "order": null,
            "overflow": null,
            "overflow_x": null,
            "overflow_y": null,
            "padding": null,
            "right": null,
            "top": null,
            "visibility": null,
            "width": null
          }
        },
        "7b694dd16e54443f8da6af91b1ecd821": {
          "model_module": "@jupyter-widgets/controls",
          "model_module_version": "1.5.0",
          "model_name": "DescriptionStyleModel",
          "state": {
            "_model_module": "@jupyter-widgets/controls",
            "_model_module_version": "1.5.0",
            "_model_name": "DescriptionStyleModel",
            "_view_count": null,
            "_view_module": "@jupyter-widgets/base",
            "_view_module_version": "1.2.0",
            "_view_name": "StyleView",
            "description_width": ""
          }
        },
        "7ba0b13ba0604b26afe63e5dc86e2f1e": {
          "model_module": "@jupyter-widgets/controls",
          "model_module_version": "1.5.0",
          "model_name": "HTMLModel",
          "state": {
            "_dom_classes": [],
            "_model_module": "@jupyter-widgets/controls",
            "_model_module_version": "1.5.0",
            "_model_name": "HTMLModel",
            "_view_count": null,
            "_view_module": "@jupyter-widgets/controls",
            "_view_module_version": "1.5.0",
            "_view_name": "HTMLView",
            "description": "",
            "description_tooltip": null,
            "layout": "IPY_MODEL_c1e0fc4107fb49fe84bb21fd721a8ecb",
            "placeholder": "​",
            "style": "IPY_MODEL_2a011e9f253e4cef8f52f45c110c0295",
            "value": "Downloading: "
          }
        },
        "81e2c1fadd6546b18a39555d44a9ab3c": {
          "model_module": "@jupyter-widgets/controls",
          "model_module_version": "1.5.0",
          "model_name": "HTMLModel",
          "state": {
            "_dom_classes": [],
            "_model_module": "@jupyter-widgets/controls",
            "_model_module_version": "1.5.0",
            "_model_name": "HTMLModel",
            "_view_count": null,
            "_view_module": "@jupyter-widgets/controls",
            "_view_module_version": "1.5.0",
            "_view_name": "HTMLView",
            "description": "",
            "description_tooltip": null,
            "layout": "IPY_MODEL_b5618e9ca055470595027435969b9765",
            "placeholder": "​",
            "style": "IPY_MODEL_14a6810e336a473cbcef56c1b6ed59cf",
            "value": "<center> <img\nsrc=https://huggingface.co/front/assets/huggingface_logo-noborder.svg\nalt='Hugging Face'> <br> Copy a token from <a\nhref=\"https://huggingface.co/settings/tokens\" target=\"_blank\">your Hugging Face\ntokens page</a> and paste it below. <br> Immediately click login after copying\nyour token or it might be stored in plain text in this notebook file. </center>"
          }
        },
        "835cdd92279b4385af6a554c416ee245": {
          "model_module": "@jupyter-widgets/base",
          "model_module_version": "1.2.0",
          "model_name": "LayoutModel",
          "state": {
            "_model_module": "@jupyter-widgets/base",
            "_model_module_version": "1.2.0",
            "_model_name": "LayoutModel",
            "_view_count": null,
            "_view_module": "@jupyter-widgets/base",
            "_view_module_version": "1.2.0",
            "_view_name": "LayoutView",
            "align_content": null,
            "align_items": null,
            "align_self": null,
            "border": null,
            "bottom": null,
            "display": null,
            "flex": null,
            "flex_flow": null,
            "grid_area": null,
            "grid_auto_columns": null,
            "grid_auto_flow": null,
            "grid_auto_rows": null,
            "grid_column": null,
            "grid_gap": null,
            "grid_row": null,
            "grid_template_areas": null,
            "grid_template_columns": null,
            "grid_template_rows": null,
            "height": null,
            "justify_content": null,
            "justify_items": null,
            "left": null,
            "margin": null,
            "max_height": null,
            "max_width": null,
            "min_height": null,
            "min_width": null,
            "object_fit": null,
            "object_position": null,
            "order": null,
            "overflow": null,
            "overflow_x": null,
            "overflow_y": null,
            "padding": null,
            "right": null,
            "top": null,
            "visibility": null,
            "width": null
          }
        },
        "8508560781db49e9971a4e844b77f708": {
          "model_module": "@jupyter-widgets/controls",
          "model_module_version": "1.5.0",
          "model_name": "HBoxModel",
          "state": {
            "_dom_classes": [],
            "_model_module": "@jupyter-widgets/controls",
            "_model_module_version": "1.5.0",
            "_model_name": "HBoxModel",
            "_view_count": null,
            "_view_module": "@jupyter-widgets/controls",
            "_view_module_version": "1.5.0",
            "_view_name": "HBoxView",
            "box_style": "",
            "children": [
              "IPY_MODEL_4ed0f26ff105404bb993127df03bffca",
              "IPY_MODEL_dbd4a1e0b6264c34b87a15b73a522d92",
              "IPY_MODEL_4322229ce14c40288a33afefb4917bdd"
            ],
            "layout": "IPY_MODEL_6a04eddf72594989b95c6a1be64d7f61"
          }
        },
        "8539d6c12248447fa989335fb92a348f": {
          "model_module": "@jupyter-widgets/base",
          "model_module_version": "1.2.0",
          "model_name": "LayoutModel",
          "state": {
            "_model_module": "@jupyter-widgets/base",
            "_model_module_version": "1.2.0",
            "_model_name": "LayoutModel",
            "_view_count": null,
            "_view_module": "@jupyter-widgets/base",
            "_view_module_version": "1.2.0",
            "_view_name": "LayoutView",
            "align_content": null,
            "align_items": null,
            "align_self": null,
            "border": null,
            "bottom": null,
            "display": null,
            "flex": null,
            "flex_flow": null,
            "grid_area": null,
            "grid_auto_columns": null,
            "grid_auto_flow": null,
            "grid_auto_rows": null,
            "grid_column": null,
            "grid_gap": null,
            "grid_row": null,
            "grid_template_areas": null,
            "grid_template_columns": null,
            "grid_template_rows": null,
            "height": null,
            "justify_content": null,
            "justify_items": null,
            "left": null,
            "margin": null,
            "max_height": null,
            "max_width": null,
            "min_height": null,
            "min_width": null,
            "object_fit": null,
            "object_position": null,
            "order": null,
            "overflow": null,
            "overflow_x": null,
            "overflow_y": null,
            "padding": null,
            "right": null,
            "top": null,
            "visibility": null,
            "width": null
          }
        },
        "886c955c22c34282b94a3ee10ebde407": {
          "model_module": "@jupyter-widgets/controls",
          "model_module_version": "1.5.0",
          "model_name": "DescriptionStyleModel",
          "state": {
            "_model_module": "@jupyter-widgets/controls",
            "_model_module_version": "1.5.0",
            "_model_name": "DescriptionStyleModel",
            "_view_count": null,
            "_view_module": "@jupyter-widgets/base",
            "_view_module_version": "1.2.0",
            "_view_name": "StyleView",
            "description_width": ""
          }
        },
        "8980f3e6e202478eb2d2c3874788e466": {
          "model_module": "@jupyter-widgets/controls",
          "model_module_version": "1.5.0",
          "model_name": "DescriptionStyleModel",
          "state": {
            "_model_module": "@jupyter-widgets/controls",
            "_model_module_version": "1.5.0",
            "_model_name": "DescriptionStyleModel",
            "_view_count": null,
            "_view_module": "@jupyter-widgets/base",
            "_view_module_version": "1.2.0",
            "_view_name": "StyleView",
            "description_width": ""
          }
        },
        "8991f9f2abeb49e2bd10caf24403f472": {
          "model_module": "@jupyter-widgets/base",
          "model_module_version": "1.2.0",
          "model_name": "LayoutModel",
          "state": {
            "_model_module": "@jupyter-widgets/base",
            "_model_module_version": "1.2.0",
            "_model_name": "LayoutModel",
            "_view_count": null,
            "_view_module": "@jupyter-widgets/base",
            "_view_module_version": "1.2.0",
            "_view_name": "LayoutView",
            "align_content": null,
            "align_items": null,
            "align_self": null,
            "border": null,
            "bottom": null,
            "display": null,
            "flex": null,
            "flex_flow": null,
            "grid_area": null,
            "grid_auto_columns": null,
            "grid_auto_flow": null,
            "grid_auto_rows": null,
            "grid_column": null,
            "grid_gap": null,
            "grid_row": null,
            "grid_template_areas": null,
            "grid_template_columns": null,
            "grid_template_rows": null,
            "height": null,
            "justify_content": null,
            "justify_items": null,
            "left": null,
            "margin": null,
            "max_height": null,
            "max_width": null,
            "min_height": null,
            "min_width": null,
            "object_fit": null,
            "object_position": null,
            "order": null,
            "overflow": null,
            "overflow_x": null,
            "overflow_y": null,
            "padding": null,
            "right": null,
            "top": null,
            "visibility": null,
            "width": null
          }
        },
        "89e51090498545259c216a5a1b59072f": {
          "model_module": "@jupyter-widgets/base",
          "model_module_version": "1.2.0",
          "model_name": "LayoutModel",
          "state": {
            "_model_module": "@jupyter-widgets/base",
            "_model_module_version": "1.2.0",
            "_model_name": "LayoutModel",
            "_view_count": null,
            "_view_module": "@jupyter-widgets/base",
            "_view_module_version": "1.2.0",
            "_view_name": "LayoutView",
            "align_content": null,
            "align_items": null,
            "align_self": null,
            "border": null,
            "bottom": null,
            "display": null,
            "flex": null,
            "flex_flow": null,
            "grid_area": null,
            "grid_auto_columns": null,
            "grid_auto_flow": null,
            "grid_auto_rows": null,
            "grid_column": null,
            "grid_gap": null,
            "grid_row": null,
            "grid_template_areas": null,
            "grid_template_columns": null,
            "grid_template_rows": null,
            "height": null,
            "justify_content": null,
            "justify_items": null,
            "left": null,
            "margin": null,
            "max_height": null,
            "max_width": null,
            "min_height": null,
            "min_width": null,
            "object_fit": null,
            "object_position": null,
            "order": null,
            "overflow": null,
            "overflow_x": null,
            "overflow_y": null,
            "padding": null,
            "right": null,
            "top": null,
            "visibility": null,
            "width": null
          }
        },
        "8a07f08956924a38b2a57f70b0fbeead": {
          "model_module": "@jupyter-widgets/controls",
          "model_module_version": "1.5.0",
          "model_name": "HTMLModel",
          "state": {
            "_dom_classes": [],
            "_model_module": "@jupyter-widgets/controls",
            "_model_module_version": "1.5.0",
            "_model_name": "HTMLModel",
            "_view_count": null,
            "_view_module": "@jupyter-widgets/controls",
            "_view_module_version": "1.5.0",
            "_view_name": "HTMLView",
            "description": "",
            "description_tooltip": null,
            "layout": "IPY_MODEL_33d85e2daf4e45e48d1eb5dbf86cd4b6",
            "placeholder": "​",
            "style": "IPY_MODEL_05de8b07f5a54cdaabb7ad3de4a032b3",
            "value": " 363M/363M [00:22&lt;00:00, 13.8MB/s]"
          }
        },
        "8ba99977f5d64f69820c6cb91020848c": {
          "model_module": "@jupyter-widgets/controls",
          "model_module_version": "1.5.0",
          "model_name": "DescriptionStyleModel",
          "state": {
            "_model_module": "@jupyter-widgets/controls",
            "_model_module_version": "1.5.0",
            "_model_name": "DescriptionStyleModel",
            "_view_count": null,
            "_view_module": "@jupyter-widgets/base",
            "_view_module_version": "1.2.0",
            "_view_name": "StyleView",
            "description_width": ""
          }
        },
        "8d544fd2a20e410887d14bed2c1abf66": {
          "model_module": "@jupyter-widgets/controls",
          "model_module_version": "1.5.0",
          "model_name": "HTMLModel",
          "state": {
            "_dom_classes": [],
            "_model_module": "@jupyter-widgets/controls",
            "_model_module_version": "1.5.0",
            "_model_name": "HTMLModel",
            "_view_count": null,
            "_view_module": "@jupyter-widgets/controls",
            "_view_module_version": "1.5.0",
            "_view_name": "HTMLView",
            "description": "",
            "description_tooltip": null,
            "layout": "IPY_MODEL_a7184f5b92f0441fa10120fde326efb4",
            "placeholder": "​",
            "style": "IPY_MODEL_70723978a71b47969d9952bcef9c2a0d",
            "value": "100%"
          }
        },
        "8da462790a6d4fbb9251290bd9ee14f0": {
          "model_module": "@jupyter-widgets/base",
          "model_module_version": "1.2.0",
          "model_name": "LayoutModel",
          "state": {
            "_model_module": "@jupyter-widgets/base",
            "_model_module_version": "1.2.0",
            "_model_name": "LayoutModel",
            "_view_count": null,
            "_view_module": "@jupyter-widgets/base",
            "_view_module_version": "1.2.0",
            "_view_name": "LayoutView",
            "align_content": null,
            "align_items": null,
            "align_self": null,
            "border": null,
            "bottom": null,
            "display": null,
            "flex": null,
            "flex_flow": null,
            "grid_area": null,
            "grid_auto_columns": null,
            "grid_auto_flow": null,
            "grid_auto_rows": null,
            "grid_column": null,
            "grid_gap": null,
            "grid_row": null,
            "grid_template_areas": null,
            "grid_template_columns": null,
            "grid_template_rows": null,
            "height": null,
            "justify_content": null,
            "justify_items": null,
            "left": null,
            "margin": null,
            "max_height": null,
            "max_width": null,
            "min_height": null,
            "min_width": null,
            "object_fit": null,
            "object_position": null,
            "order": null,
            "overflow": null,
            "overflow_x": null,
            "overflow_y": null,
            "padding": null,
            "right": null,
            "top": null,
            "visibility": null,
            "width": null
          }
        },
        "90bb8035c7b745088e6f69368e770224": {
          "model_module": "@jupyter-widgets/controls",
          "model_module_version": "1.5.0",
          "model_name": "HTMLModel",
          "state": {
            "_dom_classes": [],
            "_model_module": "@jupyter-widgets/controls",
            "_model_module_version": "1.5.0",
            "_model_name": "HTMLModel",
            "_view_count": null,
            "_view_module": "@jupyter-widgets/controls",
            "_view_module_version": "1.5.0",
            "_view_name": "HTMLView",
            "description": "",
            "description_tooltip": null,
            "layout": "IPY_MODEL_d7934693aa974d6781b84f71bac59e71",
            "placeholder": "​",
            "style": "IPY_MODEL_cc4dd57866ff4080913e33d0b1cf49af",
            "value": ""
          }
        },
        "91190c7d6c7b460cb028183cf51bb1c1": {
          "model_module": "@jupyter-widgets/controls",
          "model_module_version": "1.5.0",
          "model_name": "ProgressStyleModel",
          "state": {
            "_model_module": "@jupyter-widgets/controls",
            "_model_module_version": "1.5.0",
            "_model_name": "ProgressStyleModel",
            "_view_count": null,
            "_view_module": "@jupyter-widgets/base",
            "_view_module_version": "1.2.0",
            "_view_name": "StyleView",
            "bar_color": null,
            "description_width": ""
          }
        },
        "9424cc47106a455ab18c0870d046ce9f": {
          "model_module": "@jupyter-widgets/controls",
          "model_module_version": "1.5.0",
          "model_name": "HTMLModel",
          "state": {
            "_dom_classes": [],
            "_model_module": "@jupyter-widgets/controls",
            "_model_module_version": "1.5.0",
            "_model_name": "HTMLModel",
            "_view_count": null,
            "_view_module": "@jupyter-widgets/controls",
            "_view_module_version": "1.5.0",
            "_view_name": "HTMLView",
            "description": "",
            "description_tooltip": null,
            "layout": "IPY_MODEL_090847f7912e496fbc1ef8673674c1ed",
            "placeholder": "​",
            "style": "IPY_MODEL_15e195a2c3044feababc62304301f14f",
            "value": "Downloading: 100%"
          }
        },
        "96fb47902431425f86a6a5ab760c92d3": {
          "model_module": "@jupyter-widgets/controls",
          "model_module_version": "1.5.0",
          "model_name": "HBoxModel",
          "state": {
            "_dom_classes": [],
            "_model_module": "@jupyter-widgets/controls",
            "_model_module_version": "1.5.0",
            "_model_name": "HBoxModel",
            "_view_count": null,
            "_view_module": "@jupyter-widgets/controls",
            "_view_module_version": "1.5.0",
            "_view_name": "HBoxView",
            "box_style": "",
            "children": [
              "IPY_MODEL_4d26ca1886f0449ea7bd6b4c8de7ab24",
              "IPY_MODEL_e610d02445bd4e5e9b4783658f058147",
              "IPY_MODEL_8a07f08956924a38b2a57f70b0fbeead"
            ],
            "layout": "IPY_MODEL_39a54ded218f48048321c604eece88d9"
          }
        },
        "97b1d29fb759427b9a3ced885b12c49b": {
          "model_module": "@jupyter-widgets/controls",
          "model_module_version": "1.5.0",
          "model_name": "CheckboxModel",
          "state": {
            "_dom_classes": [],
            "_model_module": "@jupyter-widgets/controls",
            "_model_module_version": "1.5.0",
            "_model_name": "CheckboxModel",
            "_view_count": null,
            "_view_module": "@jupyter-widgets/controls",
            "_view_module_version": "1.5.0",
            "_view_name": "CheckboxView",
            "description": "Add token as git credential?",
            "description_tooltip": null,
            "disabled": false,
            "indent": true,
            "layout": "IPY_MODEL_dba9c380625243a6a7f90c8914ff9455",
            "style": "IPY_MODEL_f30802e504624b37b3c4a469c5ecaef2",
            "value": true
          }
        },
        "9a2fe7c5597647e881612cd18a8467b1": {
          "model_module": "@jupyter-widgets/controls",
          "model_module_version": "1.5.0",
          "model_name": "ProgressStyleModel",
          "state": {
            "_model_module": "@jupyter-widgets/controls",
            "_model_module_version": "1.5.0",
            "_model_name": "ProgressStyleModel",
            "_view_count": null,
            "_view_module": "@jupyter-widgets/base",
            "_view_module_version": "1.2.0",
            "_view_name": "StyleView",
            "bar_color": null,
            "description_width": ""
          }
        },
        "a3f2cbce0fc0419191259ba1735ffa94": {
          "model_module": "@jupyter-widgets/controls",
          "model_module_version": "1.5.0",
          "model_name": "DescriptionStyleModel",
          "state": {
            "_model_module": "@jupyter-widgets/controls",
            "_model_module_version": "1.5.0",
            "_model_name": "DescriptionStyleModel",
            "_view_count": null,
            "_view_module": "@jupyter-widgets/base",
            "_view_module_version": "1.2.0",
            "_view_name": "StyleView",
            "description_width": ""
          }
        },
        "a7184f5b92f0441fa10120fde326efb4": {
          "model_module": "@jupyter-widgets/base",
          "model_module_version": "1.2.0",
          "model_name": "LayoutModel",
          "state": {
            "_model_module": "@jupyter-widgets/base",
            "_model_module_version": "1.2.0",
            "_model_name": "LayoutModel",
            "_view_count": null,
            "_view_module": "@jupyter-widgets/base",
            "_view_module_version": "1.2.0",
            "_view_name": "LayoutView",
            "align_content": null,
            "align_items": null,
            "align_self": null,
            "border": null,
            "bottom": null,
            "display": null,
            "flex": null,
            "flex_flow": null,
            "grid_area": null,
            "grid_auto_columns": null,
            "grid_auto_flow": null,
            "grid_auto_rows": null,
            "grid_column": null,
            "grid_gap": null,
            "grid_row": null,
            "grid_template_areas": null,
            "grid_template_columns": null,
            "grid_template_rows": null,
            "height": null,
            "justify_content": null,
            "justify_items": null,
            "left": null,
            "margin": null,
            "max_height": null,
            "max_width": null,
            "min_height": null,
            "min_width": null,
            "object_fit": null,
            "object_position": null,
            "order": null,
            "overflow": null,
            "overflow_x": null,
            "overflow_y": null,
            "padding": null,
            "right": null,
            "top": null,
            "visibility": null,
            "width": null
          }
        },
        "a7e5e39c8be1422fb1e47567857d681d": {
          "model_module": "@jupyter-widgets/controls",
          "model_module_version": "1.5.0",
          "model_name": "HBoxModel",
          "state": {
            "_dom_classes": [],
            "_model_module": "@jupyter-widgets/controls",
            "_model_module_version": "1.5.0",
            "_model_name": "HBoxModel",
            "_view_count": null,
            "_view_module": "@jupyter-widgets/controls",
            "_view_module_version": "1.5.0",
            "_view_name": "HBoxView",
            "box_style": "",
            "children": [
              "IPY_MODEL_90bb8035c7b745088e6f69368e770224",
              "IPY_MODEL_ac756dc57a4748b8b29e490186774de6",
              "IPY_MODEL_6875e568704e45648e7230c0fe52ffb8"
            ],
            "layout": "IPY_MODEL_cfddbf192a4948c5a35d9c9c28227969"
          }
        },
        "a84b851075bf4773a463ed24a2f3eb24": {
          "model_module": "@jupyter-widgets/controls",
          "model_module_version": "1.5.0",
          "model_name": "HTMLModel",
          "state": {
            "_dom_classes": [],
            "_model_module": "@jupyter-widgets/controls",
            "_model_module_version": "1.5.0",
            "_model_name": "HTMLModel",
            "_view_count": null,
            "_view_module": "@jupyter-widgets/controls",
            "_view_module_version": "1.5.0",
            "_view_name": "HTMLView",
            "description": "",
            "description_tooltip": null,
            "layout": "IPY_MODEL_2ca52ebaf2be48d5a4b8b4138906be85",
            "placeholder": "​",
            "style": "IPY_MODEL_7317708554854b4fb5c2ee08e0f4f894",
            "value": " 2.64k/? [00:00&lt;00:00, 116kB/s]"
          }
        },
        "ab4a2cca2b404d25b2cda485c7c28077": {
          "model_module": "@jupyter-widgets/controls",
          "model_module_version": "1.5.0",
          "model_name": "FloatProgressModel",
          "state": {
            "_dom_classes": [],
            "_model_module": "@jupyter-widgets/controls",
            "_model_module_version": "1.5.0",
            "_model_name": "FloatProgressModel",
            "_view_count": null,
            "_view_module": "@jupyter-widgets/controls",
            "_view_module_version": "1.5.0",
            "_view_name": "ProgressView",
            "bar_style": "success",
            "description": "",
            "description_tooltip": null,
            "layout": "IPY_MODEL_da8639f433da4cefa2affd438ac18c89",
            "max": 1901,
            "min": 0,
            "orientation": "horizontal",
            "style": "IPY_MODEL_f4cfe55a73c141ef9b751d0db992d3cf",
            "value": 1901
          }
        },
        "abd948814c014a9eb6d68529c3590e92": {
          "model_module": "@jupyter-widgets/base",
          "model_module_version": "1.2.0",
          "model_name": "LayoutModel",
          "state": {
            "_model_module": "@jupyter-widgets/base",
            "_model_module_version": "1.2.0",
            "_model_name": "LayoutModel",
            "_view_count": null,
            "_view_module": "@jupyter-widgets/base",
            "_view_module_version": "1.2.0",
            "_view_name": "LayoutView",
            "align_content": null,
            "align_items": null,
            "align_self": null,
            "border": null,
            "bottom": null,
            "display": null,
            "flex": null,
            "flex_flow": null,
            "grid_area": null,
            "grid_auto_columns": null,
            "grid_auto_flow": null,
            "grid_auto_rows": null,
            "grid_column": null,
            "grid_gap": null,
            "grid_row": null,
            "grid_template_areas": null,
            "grid_template_columns": null,
            "grid_template_rows": null,
            "height": null,
            "justify_content": null,
            "justify_items": null,
            "left": null,
            "margin": null,
            "max_height": null,
            "max_width": null,
            "min_height": null,
            "min_width": null,
            "object_fit": null,
            "object_position": null,
            "order": null,
            "overflow": null,
            "overflow_x": null,
            "overflow_y": null,
            "padding": null,
            "right": null,
            "top": null,
            "visibility": null,
            "width": null
          }
        },
        "ac756dc57a4748b8b29e490186774de6": {
          "model_module": "@jupyter-widgets/controls",
          "model_module_version": "1.5.0",
          "model_name": "FloatProgressModel",
          "state": {
            "_dom_classes": [],
            "_model_module": "@jupyter-widgets/controls",
            "_model_module_version": "1.5.0",
            "_model_name": "FloatProgressModel",
            "_view_count": null,
            "_view_module": "@jupyter-widgets/controls",
            "_view_module_version": "1.5.0",
            "_view_name": "ProgressView",
            "bar_style": "info",
            "description": "",
            "description_tooltip": null,
            "layout": "IPY_MODEL_d42cbd433408441ead2be0400c5d97c7",
            "max": 1,
            "min": 0,
            "orientation": "horizontal",
            "style": "IPY_MODEL_3cbbf50821414139bf7924b2a66912ba",
            "value": 1
          }
        },
        "ac7622d9634c46db895530963f553494": {
          "model_module": "@jupyter-widgets/controls",
          "model_module_version": "1.5.0",
          "model_name": "ProgressStyleModel",
          "state": {
            "_model_module": "@jupyter-widgets/controls",
            "_model_module_version": "1.5.0",
            "_model_name": "ProgressStyleModel",
            "_view_count": null,
            "_view_module": "@jupyter-widgets/base",
            "_view_module_version": "1.2.0",
            "_view_name": "StyleView",
            "bar_color": null,
            "description_width": ""
          }
        },
        "adc1d50d41744b49bb5dfb3a4f5aa770": {
          "model_module": "@jupyter-widgets/controls",
          "model_module_version": "1.5.0",
          "model_name": "FloatProgressModel",
          "state": {
            "_dom_classes": [],
            "_model_module": "@jupyter-widgets/controls",
            "_model_module_version": "1.5.0",
            "_model_name": "FloatProgressModel",
            "_view_count": null,
            "_view_module": "@jupyter-widgets/controls",
            "_view_module_version": "1.5.0",
            "_view_name": "ProgressView",
            "bar_style": "info",
            "description": "",
            "description_tooltip": null,
            "layout": "IPY_MODEL_c705539579af4dd890312dc6eca591ac",
            "max": 1,
            "min": 0,
            "orientation": "horizontal",
            "style": "IPY_MODEL_adfa07960f1243a78e890a968155eac5",
            "value": 1
          }
        },
        "adfa07960f1243a78e890a968155eac5": {
          "model_module": "@jupyter-widgets/controls",
          "model_module_version": "1.5.0",
          "model_name": "ProgressStyleModel",
          "state": {
            "_model_module": "@jupyter-widgets/controls",
            "_model_module_version": "1.5.0",
            "_model_name": "ProgressStyleModel",
            "_view_count": null,
            "_view_module": "@jupyter-widgets/base",
            "_view_module_version": "1.2.0",
            "_view_name": "StyleView",
            "bar_color": null,
            "description_width": ""
          }
        },
        "ae02bea4efb44660aa5718e913f38d1d": {
          "model_module": "@jupyter-widgets/controls",
          "model_module_version": "1.5.0",
          "model_name": "DescriptionStyleModel",
          "state": {
            "_model_module": "@jupyter-widgets/controls",
            "_model_module_version": "1.5.0",
            "_model_name": "DescriptionStyleModel",
            "_view_count": null,
            "_view_module": "@jupyter-widgets/base",
            "_view_module_version": "1.2.0",
            "_view_name": "StyleView",
            "description_width": ""
          }
        },
        "ae9d87d903c4420db700f043fe197154": {
          "model_module": "@jupyter-widgets/controls",
          "model_module_version": "1.5.0",
          "model_name": "DescriptionStyleModel",
          "state": {
            "_model_module": "@jupyter-widgets/controls",
            "_model_module_version": "1.5.0",
            "_model_name": "DescriptionStyleModel",
            "_view_count": null,
            "_view_module": "@jupyter-widgets/base",
            "_view_module_version": "1.2.0",
            "_view_name": "StyleView",
            "description_width": ""
          }
        },
        "b04e77f560024855b050ec5d48d8a26c": {
          "model_module": "@jupyter-widgets/controls",
          "model_module_version": "1.5.0",
          "model_name": "FloatProgressModel",
          "state": {
            "_dom_classes": [],
            "_model_module": "@jupyter-widgets/controls",
            "_model_module_version": "1.5.0",
            "_model_name": "FloatProgressModel",
            "_view_count": null,
            "_view_module": "@jupyter-widgets/controls",
            "_view_module_version": "1.5.0",
            "_view_name": "ProgressView",
            "bar_style": "success",
            "description": "",
            "description_tooltip": null,
            "layout": "IPY_MODEL_280663ff96ce499aa0cb7bca67f59a85",
            "max": 2,
            "min": 0,
            "orientation": "horizontal",
            "style": "IPY_MODEL_9a2fe7c5597647e881612cd18a8467b1",
            "value": 2
          }
        },
        "b2310446607e44f5b8e38862581b510a": {
          "model_module": "@jupyter-widgets/base",
          "model_module_version": "1.2.0",
          "model_name": "LayoutModel",
          "state": {
            "_model_module": "@jupyter-widgets/base",
            "_model_module_version": "1.2.0",
            "_model_name": "LayoutModel",
            "_view_count": null,
            "_view_module": "@jupyter-widgets/base",
            "_view_module_version": "1.2.0",
            "_view_name": "LayoutView",
            "align_content": null,
            "align_items": null,
            "align_self": null,
            "border": null,
            "bottom": null,
            "display": null,
            "flex": null,
            "flex_flow": null,
            "grid_area": null,
            "grid_auto_columns": null,
            "grid_auto_flow": null,
            "grid_auto_rows": null,
            "grid_column": null,
            "grid_gap": null,
            "grid_row": null,
            "grid_template_areas": null,
            "grid_template_columns": null,
            "grid_template_rows": null,
            "height": null,
            "justify_content": null,
            "justify_items": null,
            "left": null,
            "margin": null,
            "max_height": null,
            "max_width": null,
            "min_height": null,
            "min_width": null,
            "object_fit": null,
            "object_position": null,
            "order": null,
            "overflow": null,
            "overflow_x": null,
            "overflow_y": null,
            "padding": null,
            "right": null,
            "top": null,
            "visibility": null,
            "width": null
          }
        },
        "b27cb4080cb642739729fed51ee8c3ad": {
          "model_module": "@jupyter-widgets/base",
          "model_module_version": "1.2.0",
          "model_name": "LayoutModel",
          "state": {
            "_model_module": "@jupyter-widgets/base",
            "_model_module_version": "1.2.0",
            "_model_name": "LayoutModel",
            "_view_count": null,
            "_view_module": "@jupyter-widgets/base",
            "_view_module_version": "1.2.0",
            "_view_name": "LayoutView",
            "align_content": null,
            "align_items": null,
            "align_self": null,
            "border": null,
            "bottom": null,
            "display": null,
            "flex": null,
            "flex_flow": null,
            "grid_area": null,
            "grid_auto_columns": null,
            "grid_auto_flow": null,
            "grid_auto_rows": null,
            "grid_column": null,
            "grid_gap": null,
            "grid_row": null,
            "grid_template_areas": null,
            "grid_template_columns": null,
            "grid_template_rows": null,
            "height": null,
            "justify_content": null,
            "justify_items": null,
            "left": null,
            "margin": null,
            "max_height": null,
            "max_width": null,
            "min_height": null,
            "min_width": null,
            "object_fit": null,
            "object_position": null,
            "order": null,
            "overflow": null,
            "overflow_x": null,
            "overflow_y": null,
            "padding": null,
            "right": null,
            "top": null,
            "visibility": null,
            "width": null
          }
        },
        "b51bb202d2214ff28d2a4cd7216443a7": {
          "model_module": "@jupyter-widgets/base",
          "model_module_version": "1.2.0",
          "model_name": "LayoutModel",
          "state": {
            "_model_module": "@jupyter-widgets/base",
            "_model_module_version": "1.2.0",
            "_model_name": "LayoutModel",
            "_view_count": null,
            "_view_module": "@jupyter-widgets/base",
            "_view_module_version": "1.2.0",
            "_view_name": "LayoutView",
            "align_content": null,
            "align_items": null,
            "align_self": null,
            "border": null,
            "bottom": null,
            "display": null,
            "flex": null,
            "flex_flow": null,
            "grid_area": null,
            "grid_auto_columns": null,
            "grid_auto_flow": null,
            "grid_auto_rows": null,
            "grid_column": null,
            "grid_gap": null,
            "grid_row": null,
            "grid_template_areas": null,
            "grid_template_columns": null,
            "grid_template_rows": null,
            "height": null,
            "justify_content": null,
            "justify_items": null,
            "left": null,
            "margin": null,
            "max_height": null,
            "max_width": null,
            "min_height": null,
            "min_width": null,
            "object_fit": null,
            "object_position": null,
            "order": null,
            "overflow": null,
            "overflow_x": null,
            "overflow_y": null,
            "padding": null,
            "right": null,
            "top": null,
            "visibility": null,
            "width": null
          }
        },
        "b55fea5b10694c8cb1aa93622170ff8c": {
          "model_module": "@jupyter-widgets/base",
          "model_module_version": "1.2.0",
          "model_name": "LayoutModel",
          "state": {
            "_model_module": "@jupyter-widgets/base",
            "_model_module_version": "1.2.0",
            "_model_name": "LayoutModel",
            "_view_count": null,
            "_view_module": "@jupyter-widgets/base",
            "_view_module_version": "1.2.0",
            "_view_name": "LayoutView",
            "align_content": null,
            "align_items": null,
            "align_self": null,
            "border": null,
            "bottom": null,
            "display": null,
            "flex": null,
            "flex_flow": null,
            "grid_area": null,
            "grid_auto_columns": null,
            "grid_auto_flow": null,
            "grid_auto_rows": null,
            "grid_column": null,
            "grid_gap": null,
            "grid_row": null,
            "grid_template_areas": null,
            "grid_template_columns": null,
            "grid_template_rows": null,
            "height": null,
            "justify_content": null,
            "justify_items": null,
            "left": null,
            "margin": null,
            "max_height": null,
            "max_width": null,
            "min_height": null,
            "min_width": null,
            "object_fit": null,
            "object_position": null,
            "order": null,
            "overflow": null,
            "overflow_x": null,
            "overflow_y": null,
            "padding": null,
            "right": null,
            "top": null,
            "visibility": null,
            "width": null
          }
        },
        "b5618e9ca055470595027435969b9765": {
          "model_module": "@jupyter-widgets/base",
          "model_module_version": "1.2.0",
          "model_name": "LayoutModel",
          "state": {
            "_model_module": "@jupyter-widgets/base",
            "_model_module_version": "1.2.0",
            "_model_name": "LayoutModel",
            "_view_count": null,
            "_view_module": "@jupyter-widgets/base",
            "_view_module_version": "1.2.0",
            "_view_name": "LayoutView",
            "align_content": null,
            "align_items": null,
            "align_self": null,
            "border": null,
            "bottom": null,
            "display": null,
            "flex": null,
            "flex_flow": null,
            "grid_area": null,
            "grid_auto_columns": null,
            "grid_auto_flow": null,
            "grid_auto_rows": null,
            "grid_column": null,
            "grid_gap": null,
            "grid_row": null,
            "grid_template_areas": null,
            "grid_template_columns": null,
            "grid_template_rows": null,
            "height": null,
            "justify_content": null,
            "justify_items": null,
            "left": null,
            "margin": null,
            "max_height": null,
            "max_width": null,
            "min_height": null,
            "min_width": null,
            "object_fit": null,
            "object_position": null,
            "order": null,
            "overflow": null,
            "overflow_x": null,
            "overflow_y": null,
            "padding": null,
            "right": null,
            "top": null,
            "visibility": null,
            "width": null
          }
        },
        "b59ba6565a464d1ba9b09b978cc679dd": {
          "model_module": "@jupyter-widgets/base",
          "model_module_version": "1.2.0",
          "model_name": "LayoutModel",
          "state": {
            "_model_module": "@jupyter-widgets/base",
            "_model_module_version": "1.2.0",
            "_model_name": "LayoutModel",
            "_view_count": null,
            "_view_module": "@jupyter-widgets/base",
            "_view_module_version": "1.2.0",
            "_view_name": "LayoutView",
            "align_content": null,
            "align_items": null,
            "align_self": null,
            "border": null,
            "bottom": null,
            "display": null,
            "flex": null,
            "flex_flow": null,
            "grid_area": null,
            "grid_auto_columns": null,
            "grid_auto_flow": null,
            "grid_auto_rows": null,
            "grid_column": null,
            "grid_gap": null,
            "grid_row": null,
            "grid_template_areas": null,
            "grid_template_columns": null,
            "grid_template_rows": null,
            "height": null,
            "justify_content": null,
            "justify_items": null,
            "left": null,
            "margin": null,
            "max_height": null,
            "max_width": null,
            "min_height": null,
            "min_width": null,
            "object_fit": null,
            "object_position": null,
            "order": null,
            "overflow": null,
            "overflow_x": null,
            "overflow_y": null,
            "padding": null,
            "right": null,
            "top": null,
            "visibility": null,
            "width": null
          }
        },
        "b85b4466791b4764ab4ef51f90281e9f": {
          "model_module": "@jupyter-widgets/controls",
          "model_module_version": "1.5.0",
          "model_name": "DescriptionStyleModel",
          "state": {
            "_model_module": "@jupyter-widgets/controls",
            "_model_module_version": "1.5.0",
            "_model_name": "DescriptionStyleModel",
            "_view_count": null,
            "_view_module": "@jupyter-widgets/base",
            "_view_module_version": "1.2.0",
            "_view_name": "StyleView",
            "description_width": ""
          }
        },
        "b8c9bc669d8c4651882c214aafb0548e": {
          "model_module": "@jupyter-widgets/controls",
          "model_module_version": "1.5.0",
          "model_name": "FloatProgressModel",
          "state": {
            "_dom_classes": [],
            "_model_module": "@jupyter-widgets/controls",
            "_model_module_version": "1.5.0",
            "_model_name": "FloatProgressModel",
            "_view_count": null,
            "_view_module": "@jupyter-widgets/controls",
            "_view_module_version": "1.5.0",
            "_view_name": "ProgressView",
            "bar_style": "success",
            "description": "",
            "description_tooltip": null,
            "layout": "IPY_MODEL_667cac3e3c364fed95c9d4cd30ec2466",
            "max": 869007403,
            "min": 0,
            "orientation": "horizontal",
            "style": "IPY_MODEL_43c07bbb17534fa9932770d689dc821b",
            "value": 869007403
          }
        },
        "b92aa97e7bf4400c8e1314fd9cd6360c": {
          "model_module": "@jupyter-widgets/base",
          "model_module_version": "1.2.0",
          "model_name": "LayoutModel",
          "state": {
            "_model_module": "@jupyter-widgets/base",
            "_model_module_version": "1.2.0",
            "_model_name": "LayoutModel",
            "_view_count": null,
            "_view_module": "@jupyter-widgets/base",
            "_view_module_version": "1.2.0",
            "_view_name": "LayoutView",
            "align_content": null,
            "align_items": null,
            "align_self": null,
            "border": null,
            "bottom": null,
            "display": null,
            "flex": null,
            "flex_flow": null,
            "grid_area": null,
            "grid_auto_columns": null,
            "grid_auto_flow": null,
            "grid_auto_rows": null,
            "grid_column": null,
            "grid_gap": null,
            "grid_row": null,
            "grid_template_areas": null,
            "grid_template_columns": null,
            "grid_template_rows": null,
            "height": null,
            "justify_content": null,
            "justify_items": null,
            "left": null,
            "margin": null,
            "max_height": null,
            "max_width": null,
            "min_height": null,
            "min_width": null,
            "object_fit": null,
            "object_position": null,
            "order": null,
            "overflow": null,
            "overflow_x": null,
            "overflow_y": null,
            "padding": null,
            "right": null,
            "top": null,
            "visibility": null,
            "width": null
          }
        },
        "b9f5fab4eb65486abec1e0d85c8682d8": {
          "model_module": "@jupyter-widgets/controls",
          "model_module_version": "1.5.0",
          "model_name": "HTMLModel",
          "state": {
            "_dom_classes": [],
            "_model_module": "@jupyter-widgets/controls",
            "_model_module_version": "1.5.0",
            "_model_name": "HTMLModel",
            "_view_count": null,
            "_view_module": "@jupyter-widgets/controls",
            "_view_module_version": "1.5.0",
            "_view_name": "HTMLView",
            "description": "",
            "description_tooltip": null,
            "layout": "IPY_MODEL_7943fc950c1c4b9ab096fa2e50d0da2d",
            "placeholder": "​",
            "style": "IPY_MODEL_886c955c22c34282b94a3ee10ebde407",
            "value": " 1/1 [00:00&lt;00:00, 21.75ba/s]"
          }
        },
        "bb8774b67f884f6b8377a496b5c4a151": {
          "model_module": "@jupyter-widgets/base",
          "model_module_version": "1.2.0",
          "model_name": "LayoutModel",
          "state": {
            "_model_module": "@jupyter-widgets/base",
            "_model_module_version": "1.2.0",
            "_model_name": "LayoutModel",
            "_view_count": null,
            "_view_module": "@jupyter-widgets/base",
            "_view_module_version": "1.2.0",
            "_view_name": "LayoutView",
            "align_content": null,
            "align_items": null,
            "align_self": null,
            "border": null,
            "bottom": null,
            "display": null,
            "flex": null,
            "flex_flow": null,
            "grid_area": null,
            "grid_auto_columns": null,
            "grid_auto_flow": null,
            "grid_auto_rows": null,
            "grid_column": null,
            "grid_gap": null,
            "grid_row": null,
            "grid_template_areas": null,
            "grid_template_columns": null,
            "grid_template_rows": null,
            "height": null,
            "justify_content": null,
            "justify_items": null,
            "left": null,
            "margin": null,
            "max_height": null,
            "max_width": null,
            "min_height": null,
            "min_width": null,
            "object_fit": null,
            "object_position": null,
            "order": null,
            "overflow": null,
            "overflow_x": null,
            "overflow_y": null,
            "padding": null,
            "right": null,
            "top": null,
            "visibility": null,
            "width": null
          }
        },
        "bd7dad24d5d34edd9409e44ae87b888c": {
          "model_module": "@jupyter-widgets/controls",
          "model_module_version": "1.5.0",
          "model_name": "DescriptionStyleModel",
          "state": {
            "_model_module": "@jupyter-widgets/controls",
            "_model_module_version": "1.5.0",
            "_model_name": "DescriptionStyleModel",
            "_view_count": null,
            "_view_module": "@jupyter-widgets/base",
            "_view_module_version": "1.2.0",
            "_view_name": "StyleView",
            "description_width": ""
          }
        },
        "bd85d28cc40142998b42434a705de501": {
          "model_module": "@jupyter-widgets/base",
          "model_module_version": "1.2.0",
          "model_name": "LayoutModel",
          "state": {
            "_model_module": "@jupyter-widgets/base",
            "_model_module_version": "1.2.0",
            "_model_name": "LayoutModel",
            "_view_count": null,
            "_view_module": "@jupyter-widgets/base",
            "_view_module_version": "1.2.0",
            "_view_name": "LayoutView",
            "align_content": null,
            "align_items": null,
            "align_self": null,
            "border": null,
            "bottom": null,
            "display": null,
            "flex": null,
            "flex_flow": null,
            "grid_area": null,
            "grid_auto_columns": null,
            "grid_auto_flow": null,
            "grid_auto_rows": null,
            "grid_column": null,
            "grid_gap": null,
            "grid_row": null,
            "grid_template_areas": null,
            "grid_template_columns": null,
            "grid_template_rows": null,
            "height": null,
            "justify_content": null,
            "justify_items": null,
            "left": null,
            "margin": null,
            "max_height": null,
            "max_width": null,
            "min_height": null,
            "min_width": null,
            "object_fit": null,
            "object_position": null,
            "order": null,
            "overflow": null,
            "overflow_x": null,
            "overflow_y": null,
            "padding": null,
            "right": null,
            "top": null,
            "visibility": null,
            "width": "20px"
          }
        },
        "bd9b680e32fc41708cc2024a2f40c89d": {
          "model_module": "@jupyter-widgets/controls",
          "model_module_version": "1.5.0",
          "model_name": "HTMLModel",
          "state": {
            "_dom_classes": [],
            "_model_module": "@jupyter-widgets/controls",
            "_model_module_version": "1.5.0",
            "_model_name": "HTMLModel",
            "_view_count": null,
            "_view_module": "@jupyter-widgets/controls",
            "_view_module_version": "1.5.0",
            "_view_name": "HTMLView",
            "description": "",
            "description_tooltip": null,
            "layout": "IPY_MODEL_225e6afb5c154fe6b3a1b1279287cb85",
            "placeholder": "​",
            "style": "IPY_MODEL_f5ae3c942bf644c0affadca9a6e6d59b",
            "value": "100%"
          }
        },
        "bf4e5b43dc36490eb26b5868233c8325": {
          "model_module": "@jupyter-widgets/controls",
          "model_module_version": "1.5.0",
          "model_name": "FloatProgressModel",
          "state": {
            "_dom_classes": [],
            "_model_module": "@jupyter-widgets/controls",
            "_model_module_version": "1.5.0",
            "_model_name": "FloatProgressModel",
            "_view_count": null,
            "_view_module": "@jupyter-widgets/controls",
            "_view_module_version": "1.5.0",
            "_view_name": "ProgressView",
            "bar_style": "success",
            "description": "",
            "description_tooltip": null,
            "layout": "IPY_MODEL_0058396ec61a4f75a7db09a5f38d125b",
            "max": 1,
            "min": 0,
            "orientation": "horizontal",
            "style": "IPY_MODEL_3d7e3dfdc28548d8bd8b7d548edb6f8f",
            "value": 1
          }
        },
        "c1e0fc4107fb49fe84bb21fd721a8ecb": {
          "model_module": "@jupyter-widgets/base",
          "model_module_version": "1.2.0",
          "model_name": "LayoutModel",
          "state": {
            "_model_module": "@jupyter-widgets/base",
            "_model_module_version": "1.2.0",
            "_model_name": "LayoutModel",
            "_view_count": null,
            "_view_module": "@jupyter-widgets/base",
            "_view_module_version": "1.2.0",
            "_view_name": "LayoutView",
            "align_content": null,
            "align_items": null,
            "align_self": null,
            "border": null,
            "bottom": null,
            "display": null,
            "flex": null,
            "flex_flow": null,
            "grid_area": null,
            "grid_auto_columns": null,
            "grid_auto_flow": null,
            "grid_auto_rows": null,
            "grid_column": null,
            "grid_gap": null,
            "grid_row": null,
            "grid_template_areas": null,
            "grid_template_columns": null,
            "grid_template_rows": null,
            "height": null,
            "justify_content": null,
            "justify_items": null,
            "left": null,
            "margin": null,
            "max_height": null,
            "max_width": null,
            "min_height": null,
            "min_width": null,
            "object_fit": null,
            "object_position": null,
            "order": null,
            "overflow": null,
            "overflow_x": null,
            "overflow_y": null,
            "padding": null,
            "right": null,
            "top": null,
            "visibility": null,
            "width": null
          }
        },
        "c3a76df48c1f46a6a588babaadaafce2": {
          "model_module": "@jupyter-widgets/controls",
          "model_module_version": "1.5.0",
          "model_name": "DescriptionStyleModel",
          "state": {
            "_model_module": "@jupyter-widgets/controls",
            "_model_module_version": "1.5.0",
            "_model_name": "DescriptionStyleModel",
            "_view_count": null,
            "_view_module": "@jupyter-widgets/base",
            "_view_module_version": "1.2.0",
            "_view_name": "StyleView",
            "description_width": ""
          }
        },
        "c453ed86ee824b5e88d15c5bce35009b": {
          "model_module": "@jupyter-widgets/controls",
          "model_module_version": "1.5.0",
          "model_name": "HTMLModel",
          "state": {
            "_dom_classes": [],
            "_model_module": "@jupyter-widgets/controls",
            "_model_module_version": "1.5.0",
            "_model_name": "HTMLModel",
            "_view_count": null,
            "_view_module": "@jupyter-widgets/controls",
            "_view_module_version": "1.5.0",
            "_view_name": "HTMLView",
            "description": "",
            "description_tooltip": null,
            "layout": "IPY_MODEL_abd948814c014a9eb6d68529c3590e92",
            "placeholder": "​",
            "style": "IPY_MODEL_700ef7e95cf94d7e9dbeb58d605eca5d",
            "value": " 7.06k/? [00:00&lt;00:00, 303kB/s]"
          }
        },
        "c4960a24842040638dc4f7a81b737d6f": {
          "model_module": "@jupyter-widgets/controls",
          "model_module_version": "1.5.0",
          "model_name": "HTMLModel",
          "state": {
            "_dom_classes": [],
            "_model_module": "@jupyter-widgets/controls",
            "_model_module_version": "1.5.0",
            "_model_name": "HTMLModel",
            "_view_count": null,
            "_view_module": "@jupyter-widgets/controls",
            "_view_module_version": "1.5.0",
            "_view_name": "HTMLView",
            "description": "",
            "description_tooltip": null,
            "layout": "IPY_MODEL_fcd185b60d6e4e60a8ab964aac262f73",
            "placeholder": "​",
            "style": "IPY_MODEL_46b49c05ae70468cbe834a11a86c53ee",
            "value": "100%"
          }
        },
        "c7053e32145d4599bda83ae1372cf54a": {
          "model_module": "@jupyter-widgets/controls",
          "model_module_version": "1.5.0",
          "model_name": "ButtonModel",
          "state": {
            "_dom_classes": [],
            "_model_module": "@jupyter-widgets/controls",
            "_model_module_version": "1.5.0",
            "_model_name": "ButtonModel",
            "_view_count": null,
            "_view_module": "@jupyter-widgets/controls",
            "_view_module_version": "1.5.0",
            "_view_name": "ButtonView",
            "button_style": "",
            "description": "Login",
            "disabled": false,
            "icon": "",
            "layout": "IPY_MODEL_05b403993fc04c128fe3423e16085529",
            "style": "IPY_MODEL_ea0718a03fa84612a83032464c755bde",
            "tooltip": ""
          }
        },
        "c705539579af4dd890312dc6eca591ac": {
          "model_module": "@jupyter-widgets/base",
          "model_module_version": "1.2.0",
          "model_name": "LayoutModel",
          "state": {
            "_model_module": "@jupyter-widgets/base",
            "_model_module_version": "1.2.0",
            "_model_name": "LayoutModel",
            "_view_count": null,
            "_view_module": "@jupyter-widgets/base",
            "_view_module_version": "1.2.0",
            "_view_name": "LayoutView",
            "align_content": null,
            "align_items": null,
            "align_self": null,
            "border": null,
            "bottom": null,
            "display": null,
            "flex": null,
            "flex_flow": null,
            "grid_area": null,
            "grid_auto_columns": null,
            "grid_auto_flow": null,
            "grid_auto_rows": null,
            "grid_column": null,
            "grid_gap": null,
            "grid_row": null,
            "grid_template_areas": null,
            "grid_template_columns": null,
            "grid_template_rows": null,
            "height": null,
            "justify_content": null,
            "justify_items": null,
            "left": null,
            "margin": null,
            "max_height": null,
            "max_width": null,
            "min_height": null,
            "min_width": null,
            "object_fit": null,
            "object_position": null,
            "order": null,
            "overflow": null,
            "overflow_x": null,
            "overflow_y": null,
            "padding": null,
            "right": null,
            "top": null,
            "visibility": null,
            "width": "20px"
          }
        },
        "c75146f8f1ab44028814587c6618b5cb": {
          "model_module": "@jupyter-widgets/controls",
          "model_module_version": "1.5.0",
          "model_name": "HBoxModel",
          "state": {
            "_dom_classes": [],
            "_model_module": "@jupyter-widgets/controls",
            "_model_module_version": "1.5.0",
            "_model_name": "HBoxModel",
            "_view_count": null,
            "_view_module": "@jupyter-widgets/controls",
            "_view_module_version": "1.5.0",
            "_view_name": "HBoxView",
            "box_style": "",
            "children": [
              "IPY_MODEL_2b28d6a112484a5cb8a3bce8d33dd6eb",
              "IPY_MODEL_bf4e5b43dc36490eb26b5868233c8325",
              "IPY_MODEL_42901d9eb4204cb39847025079f3e3c1"
            ],
            "layout": "IPY_MODEL_5beb1ffb9863473a8df053439bfb9fb2"
          }
        },
        "c7729e98d977430a8a85243bab1dc83d": {
          "model_module": "@jupyter-widgets/controls",
          "model_module_version": "1.5.0",
          "model_name": "ProgressStyleModel",
          "state": {
            "_model_module": "@jupyter-widgets/controls",
            "_model_module_version": "1.5.0",
            "_model_name": "ProgressStyleModel",
            "_view_count": null,
            "_view_module": "@jupyter-widgets/base",
            "_view_module_version": "1.2.0",
            "_view_name": "StyleView",
            "bar_color": null,
            "description_width": ""
          }
        },
        "c781acd05e244750a8084992acc4ac2c": {
          "model_module": "@jupyter-widgets/controls",
          "model_module_version": "1.5.0",
          "model_name": "HTMLModel",
          "state": {
            "_dom_classes": [],
            "_model_module": "@jupyter-widgets/controls",
            "_model_module_version": "1.5.0",
            "_model_name": "HTMLModel",
            "_view_count": null,
            "_view_module": "@jupyter-widgets/controls",
            "_view_module_version": "1.5.0",
            "_view_name": "HTMLView",
            "description": "",
            "description_tooltip": null,
            "layout": "IPY_MODEL_8da462790a6d4fbb9251290bd9ee14f0",
            "placeholder": "​",
            "style": "IPY_MODEL_fe31c534d6cd46da8b6a640e039a4d6c",
            "value": " 4.48k/? [00:00&lt;00:00, 230kB/s]"
          }
        },
        "c95cde469c924220956b0222cd470c90": {
          "model_module": "@jupyter-widgets/controls",
          "model_module_version": "1.5.0",
          "model_name": "HBoxModel",
          "state": {
            "_dom_classes": [],
            "_model_module": "@jupyter-widgets/controls",
            "_model_module_version": "1.5.0",
            "_model_name": "HBoxModel",
            "_view_count": null,
            "_view_module": "@jupyter-widgets/controls",
            "_view_module_version": "1.5.0",
            "_view_name": "HBoxView",
            "box_style": "",
            "children": [
              "IPY_MODEL_d31e0dcd59bd4153a392e18dba2ee1c2",
              "IPY_MODEL_adc1d50d41744b49bb5dfb3a4f5aa770",
              "IPY_MODEL_1a36d660c6474845bbfdcffffb6dcc68"
            ],
            "layout": "IPY_MODEL_dab4414a1d4a4e94a4845dd9dcc5783a"
          }
        },
        "cab324901c07479cb8c579067204aecf": {
          "model_module": "@jupyter-widgets/controls",
          "model_module_version": "1.5.0",
          "model_name": "FloatProgressModel",
          "state": {
            "_dom_classes": [],
            "_model_module": "@jupyter-widgets/controls",
            "_model_module_version": "1.5.0",
            "_model_name": "FloatProgressModel",
            "_view_count": null,
            "_view_module": "@jupyter-widgets/controls",
            "_view_module_version": "1.5.0",
            "_view_name": "ProgressView",
            "bar_style": "success",
            "description": "",
            "description_tooltip": null,
            "layout": "IPY_MODEL_6e9a872c89d54da582effed9b9f07bb2",
            "max": 1,
            "min": 0,
            "orientation": "horizontal",
            "style": "IPY_MODEL_53a03b6776c5401aaca921c86ed0b6d5",
            "value": 1
          }
        },
        "cac71a316ae94f788d31ff4aa68ce067": {
          "model_module": "@jupyter-widgets/controls",
          "model_module_version": "1.5.0",
          "model_name": "DescriptionStyleModel",
          "state": {
            "_model_module": "@jupyter-widgets/controls",
            "_model_module_version": "1.5.0",
            "_model_name": "DescriptionStyleModel",
            "_view_count": null,
            "_view_module": "@jupyter-widgets/base",
            "_view_module_version": "1.2.0",
            "_view_name": "StyleView",
            "description_width": ""
          }
        },
        "cc4dd57866ff4080913e33d0b1cf49af": {
          "model_module": "@jupyter-widgets/controls",
          "model_module_version": "1.5.0",
          "model_name": "DescriptionStyleModel",
          "state": {
            "_model_module": "@jupyter-widgets/controls",
            "_model_module_version": "1.5.0",
            "_model_name": "DescriptionStyleModel",
            "_view_count": null,
            "_view_module": "@jupyter-widgets/base",
            "_view_module_version": "1.2.0",
            "_view_name": "StyleView",
            "description_width": ""
          }
        },
        "cda1ca853c9c413798584217aa65efb9": {
          "model_module": "@jupyter-widgets/base",
          "model_module_version": "1.2.0",
          "model_name": "LayoutModel",
          "state": {
            "_model_module": "@jupyter-widgets/base",
            "_model_module_version": "1.2.0",
            "_model_name": "LayoutModel",
            "_view_count": null,
            "_view_module": "@jupyter-widgets/base",
            "_view_module_version": "1.2.0",
            "_view_name": "LayoutView",
            "align_content": null,
            "align_items": null,
            "align_self": null,
            "border": null,
            "bottom": null,
            "display": null,
            "flex": null,
            "flex_flow": null,
            "grid_area": null,
            "grid_auto_columns": null,
            "grid_auto_flow": null,
            "grid_auto_rows": null,
            "grid_column": null,
            "grid_gap": null,
            "grid_row": null,
            "grid_template_areas": null,
            "grid_template_columns": null,
            "grid_template_rows": null,
            "height": null,
            "justify_content": null,
            "justify_items": null,
            "left": null,
            "margin": null,
            "max_height": null,
            "max_width": null,
            "min_height": null,
            "min_width": null,
            "object_fit": null,
            "object_position": null,
            "order": null,
            "overflow": null,
            "overflow_x": null,
            "overflow_y": null,
            "padding": null,
            "right": null,
            "top": null,
            "visibility": null,
            "width": null
          }
        },
        "cfddbf192a4948c5a35d9c9c28227969": {
          "model_module": "@jupyter-widgets/base",
          "model_module_version": "1.2.0",
          "model_name": "LayoutModel",
          "state": {
            "_model_module": "@jupyter-widgets/base",
            "_model_module_version": "1.2.0",
            "_model_name": "LayoutModel",
            "_view_count": null,
            "_view_module": "@jupyter-widgets/base",
            "_view_module_version": "1.2.0",
            "_view_name": "LayoutView",
            "align_content": null,
            "align_items": null,
            "align_self": null,
            "border": null,
            "bottom": null,
            "display": null,
            "flex": null,
            "flex_flow": null,
            "grid_area": null,
            "grid_auto_columns": null,
            "grid_auto_flow": null,
            "grid_auto_rows": null,
            "grid_column": null,
            "grid_gap": null,
            "grid_row": null,
            "grid_template_areas": null,
            "grid_template_columns": null,
            "grid_template_rows": null,
            "height": null,
            "justify_content": null,
            "justify_items": null,
            "left": null,
            "margin": null,
            "max_height": null,
            "max_width": null,
            "min_height": null,
            "min_width": null,
            "object_fit": null,
            "object_position": null,
            "order": null,
            "overflow": null,
            "overflow_x": null,
            "overflow_y": null,
            "padding": null,
            "right": null,
            "top": null,
            "visibility": "hidden",
            "width": null
          }
        },
        "d11bbf7a3d924028958d5bcc0a72e122": {
          "model_module": "@jupyter-widgets/controls",
          "model_module_version": "1.5.0",
          "model_name": "HTMLModel",
          "state": {
            "_dom_classes": [],
            "_model_module": "@jupyter-widgets/controls",
            "_model_module_version": "1.5.0",
            "_model_name": "HTMLModel",
            "_view_count": null,
            "_view_module": "@jupyter-widgets/controls",
            "_view_module_version": "1.5.0",
            "_view_name": "HTMLView",
            "description": "",
            "description_tooltip": null,
            "layout": "IPY_MODEL_b55fea5b10694c8cb1aa93622170ff8c",
            "placeholder": "​",
            "style": "IPY_MODEL_362150e5ee6b409381c9a3f2c4199186",
            "value": " 5/5 [00:00&lt;00:00, 162.28ba/s]"
          }
        },
        "d2174b1613f54697a70a519f40b5aee8": {
          "model_module": "@jupyter-widgets/controls",
          "model_module_version": "1.5.0",
          "model_name": "ProgressStyleModel",
          "state": {
            "_model_module": "@jupyter-widgets/controls",
            "_model_module_version": "1.5.0",
            "_model_name": "ProgressStyleModel",
            "_view_count": null,
            "_view_module": "@jupyter-widgets/base",
            "_view_module_version": "1.2.0",
            "_view_name": "StyleView",
            "bar_color": null,
            "description_width": ""
          }
        },
        "d30d4923454e4f8aaf4341f0d9e4f794": {
          "model_module": "@jupyter-widgets/controls",
          "model_module_version": "1.5.0",
          "model_name": "DescriptionStyleModel",
          "state": {
            "_model_module": "@jupyter-widgets/controls",
            "_model_module_version": "1.5.0",
            "_model_name": "DescriptionStyleModel",
            "_view_count": null,
            "_view_module": "@jupyter-widgets/base",
            "_view_module_version": "1.2.0",
            "_view_name": "StyleView",
            "description_width": ""
          }
        },
        "d31e0dcd59bd4153a392e18dba2ee1c2": {
          "model_module": "@jupyter-widgets/controls",
          "model_module_version": "1.5.0",
          "model_name": "HTMLModel",
          "state": {
            "_dom_classes": [],
            "_model_module": "@jupyter-widgets/controls",
            "_model_module_version": "1.5.0",
            "_model_name": "HTMLModel",
            "_view_count": null,
            "_view_module": "@jupyter-widgets/controls",
            "_view_module_version": "1.5.0",
            "_view_name": "HTMLView",
            "description": "",
            "description_tooltip": null,
            "layout": "IPY_MODEL_556b2a49b0f04518a0c925f7d448fcd9",
            "placeholder": "​",
            "style": "IPY_MODEL_e6f98082a67646158b8d3e36f9de5115",
            "value": ""
          }
        },
        "d42cbd433408441ead2be0400c5d97c7": {
          "model_module": "@jupyter-widgets/base",
          "model_module_version": "1.2.0",
          "model_name": "LayoutModel",
          "state": {
            "_model_module": "@jupyter-widgets/base",
            "_model_module_version": "1.2.0",
            "_model_name": "LayoutModel",
            "_view_count": null,
            "_view_module": "@jupyter-widgets/base",
            "_view_module_version": "1.2.0",
            "_view_name": "LayoutView",
            "align_content": null,
            "align_items": null,
            "align_self": null,
            "border": null,
            "bottom": null,
            "display": null,
            "flex": null,
            "flex_flow": null,
            "grid_area": null,
            "grid_auto_columns": null,
            "grid_auto_flow": null,
            "grid_auto_rows": null,
            "grid_column": null,
            "grid_gap": null,
            "grid_row": null,
            "grid_template_areas": null,
            "grid_template_columns": null,
            "grid_template_rows": null,
            "height": null,
            "justify_content": null,
            "justify_items": null,
            "left": null,
            "margin": null,
            "max_height": null,
            "max_width": null,
            "min_height": null,
            "min_width": null,
            "object_fit": null,
            "object_position": null,
            "order": null,
            "overflow": null,
            "overflow_x": null,
            "overflow_y": null,
            "padding": null,
            "right": null,
            "top": null,
            "visibility": null,
            "width": "20px"
          }
        },
        "d7934693aa974d6781b84f71bac59e71": {
          "model_module": "@jupyter-widgets/base",
          "model_module_version": "1.2.0",
          "model_name": "LayoutModel",
          "state": {
            "_model_module": "@jupyter-widgets/base",
            "_model_module_version": "1.2.0",
            "_model_name": "LayoutModel",
            "_view_count": null,
            "_view_module": "@jupyter-widgets/base",
            "_view_module_version": "1.2.0",
            "_view_name": "LayoutView",
            "align_content": null,
            "align_items": null,
            "align_self": null,
            "border": null,
            "bottom": null,
            "display": null,
            "flex": null,
            "flex_flow": null,
            "grid_area": null,
            "grid_auto_columns": null,
            "grid_auto_flow": null,
            "grid_auto_rows": null,
            "grid_column": null,
            "grid_gap": null,
            "grid_row": null,
            "grid_template_areas": null,
            "grid_template_columns": null,
            "grid_template_rows": null,
            "height": null,
            "justify_content": null,
            "justify_items": null,
            "left": null,
            "margin": null,
            "max_height": null,
            "max_width": null,
            "min_height": null,
            "min_width": null,
            "object_fit": null,
            "object_position": null,
            "order": null,
            "overflow": null,
            "overflow_x": null,
            "overflow_y": null,
            "padding": null,
            "right": null,
            "top": null,
            "visibility": null,
            "width": null
          }
        },
        "da8639f433da4cefa2affd438ac18c89": {
          "model_module": "@jupyter-widgets/base",
          "model_module_version": "1.2.0",
          "model_name": "LayoutModel",
          "state": {
            "_model_module": "@jupyter-widgets/base",
            "_model_module_version": "1.2.0",
            "_model_name": "LayoutModel",
            "_view_count": null,
            "_view_module": "@jupyter-widgets/base",
            "_view_module_version": "1.2.0",
            "_view_name": "LayoutView",
            "align_content": null,
            "align_items": null,
            "align_self": null,
            "border": null,
            "bottom": null,
            "display": null,
            "flex": null,
            "flex_flow": null,
            "grid_area": null,
            "grid_auto_columns": null,
            "grid_auto_flow": null,
            "grid_auto_rows": null,
            "grid_column": null,
            "grid_gap": null,
            "grid_row": null,
            "grid_template_areas": null,
            "grid_template_columns": null,
            "grid_template_rows": null,
            "height": null,
            "justify_content": null,
            "justify_items": null,
            "left": null,
            "margin": null,
            "max_height": null,
            "max_width": null,
            "min_height": null,
            "min_width": null,
            "object_fit": null,
            "object_position": null,
            "order": null,
            "overflow": null,
            "overflow_x": null,
            "overflow_y": null,
            "padding": null,
            "right": null,
            "top": null,
            "visibility": null,
            "width": null
          }
        },
        "dab4414a1d4a4e94a4845dd9dcc5783a": {
          "model_module": "@jupyter-widgets/base",
          "model_module_version": "1.2.0",
          "model_name": "LayoutModel",
          "state": {
            "_model_module": "@jupyter-widgets/base",
            "_model_module_version": "1.2.0",
            "_model_name": "LayoutModel",
            "_view_count": null,
            "_view_module": "@jupyter-widgets/base",
            "_view_module_version": "1.2.0",
            "_view_name": "LayoutView",
            "align_content": null,
            "align_items": null,
            "align_self": null,
            "border": null,
            "bottom": null,
            "display": null,
            "flex": null,
            "flex_flow": null,
            "grid_area": null,
            "grid_auto_columns": null,
            "grid_auto_flow": null,
            "grid_auto_rows": null,
            "grid_column": null,
            "grid_gap": null,
            "grid_row": null,
            "grid_template_areas": null,
            "grid_template_columns": null,
            "grid_template_rows": null,
            "height": null,
            "justify_content": null,
            "justify_items": null,
            "left": null,
            "margin": null,
            "max_height": null,
            "max_width": null,
            "min_height": null,
            "min_width": null,
            "object_fit": null,
            "object_position": null,
            "order": null,
            "overflow": null,
            "overflow_x": null,
            "overflow_y": null,
            "padding": null,
            "right": null,
            "top": null,
            "visibility": "hidden",
            "width": null
          }
        },
        "dba9c380625243a6a7f90c8914ff9455": {
          "model_module": "@jupyter-widgets/base",
          "model_module_version": "1.2.0",
          "model_name": "LayoutModel",
          "state": {
            "_model_module": "@jupyter-widgets/base",
            "_model_module_version": "1.2.0",
            "_model_name": "LayoutModel",
            "_view_count": null,
            "_view_module": "@jupyter-widgets/base",
            "_view_module_version": "1.2.0",
            "_view_name": "LayoutView",
            "align_content": null,
            "align_items": null,
            "align_self": null,
            "border": null,
            "bottom": null,
            "display": null,
            "flex": null,
            "flex_flow": null,
            "grid_area": null,
            "grid_auto_columns": null,
            "grid_auto_flow": null,
            "grid_auto_rows": null,
            "grid_column": null,
            "grid_gap": null,
            "grid_row": null,
            "grid_template_areas": null,
            "grid_template_columns": null,
            "grid_template_rows": null,
            "height": null,
            "justify_content": null,
            "justify_items": null,
            "left": null,
            "margin": null,
            "max_height": null,
            "max_width": null,
            "min_height": null,
            "min_width": null,
            "object_fit": null,
            "object_position": null,
            "order": null,
            "overflow": null,
            "overflow_x": null,
            "overflow_y": null,
            "padding": null,
            "right": null,
            "top": null,
            "visibility": null,
            "width": null
          }
        },
        "dbd4a1e0b6264c34b87a15b73a522d92": {
          "model_module": "@jupyter-widgets/controls",
          "model_module_version": "1.5.0",
          "model_name": "FloatProgressModel",
          "state": {
            "_dom_classes": [],
            "_model_module": "@jupyter-widgets/controls",
            "_model_module_version": "1.5.0",
            "_model_name": "FloatProgressModel",
            "_view_count": null,
            "_view_module": "@jupyter-widgets/controls",
            "_view_module_version": "1.5.0",
            "_view_name": "ProgressView",
            "bar_style": "success",
            "description": "",
            "description_tooltip": null,
            "layout": "IPY_MODEL_66d5b61e23dc4651903c0d32d7694a33",
            "max": 1,
            "min": 0,
            "orientation": "horizontal",
            "style": "IPY_MODEL_369c2fa2af714df99e5113fddfe81a36",
            "value": 1
          }
        },
        "dc79c99877844fc3b5eb05be646c495f": {
          "model_module": "@jupyter-widgets/controls",
          "model_module_version": "1.5.0",
          "model_name": "HBoxModel",
          "state": {
            "_dom_classes": [],
            "_model_module": "@jupyter-widgets/controls",
            "_model_module_version": "1.5.0",
            "_model_name": "HBoxModel",
            "_view_count": null,
            "_view_module": "@jupyter-widgets/controls",
            "_view_module_version": "1.5.0",
            "_view_name": "HBoxView",
            "box_style": "",
            "children": [
              "IPY_MODEL_9424cc47106a455ab18c0870d046ce9f",
              "IPY_MODEL_b8c9bc669d8c4651882c214aafb0548e",
              "IPY_MODEL_ddb52ffa6f634053927e93f997337419"
            ],
            "layout": "IPY_MODEL_b2310446607e44f5b8e38862581b510a"
          }
        },
        "ddb52ffa6f634053927e93f997337419": {
          "model_module": "@jupyter-widgets/controls",
          "model_module_version": "1.5.0",
          "model_name": "HTMLModel",
          "state": {
            "_dom_classes": [],
            "_model_module": "@jupyter-widgets/controls",
            "_model_module_version": "1.5.0",
            "_model_name": "HTMLModel",
            "_view_count": null,
            "_view_module": "@jupyter-widgets/controls",
            "_view_module_version": "1.5.0",
            "_view_name": "HTMLView",
            "description": "",
            "description_tooltip": null,
            "layout": "IPY_MODEL_89e51090498545259c216a5a1b59072f",
            "placeholder": "​",
            "style": "IPY_MODEL_489bec937040484ea1164c317f07a4ad",
            "value": " 869M/869M [00:47&lt;00:00, 35.4MB/s]"
          }
        },
        "e2df8e697e9c4f64a2bba0b6de2e8d49": {
          "model_module": "@jupyter-widgets/controls",
          "model_module_version": "1.5.0",
          "model_name": "HBoxModel",
          "state": {
            "_dom_classes": [],
            "_model_module": "@jupyter-widgets/controls",
            "_model_module_version": "1.5.0",
            "_model_name": "HBoxModel",
            "_view_count": null,
            "_view_module": "@jupyter-widgets/controls",
            "_view_module_version": "1.5.0",
            "_view_name": "HBoxView",
            "box_style": "",
            "children": [
              "IPY_MODEL_334975266d804748874f5d5621af50ba",
              "IPY_MODEL_ab4a2cca2b404d25b2cda485c7c28077",
              "IPY_MODEL_c781acd05e244750a8084992acc4ac2c"
            ],
            "layout": "IPY_MODEL_1cb0c8f214cc4de791e49af3c793380a"
          }
        },
        "e57c5cbc0380464994c4a5b42de76c66": {
          "model_module": "@jupyter-widgets/controls",
          "model_module_version": "1.5.0",
          "model_name": "HBoxModel",
          "state": {
            "_dom_classes": [],
            "_model_module": "@jupyter-widgets/controls",
            "_model_module_version": "1.5.0",
            "_model_name": "HBoxModel",
            "_view_count": null,
            "_view_module": "@jupyter-widgets/controls",
            "_view_module_version": "1.5.0",
            "_view_name": "HBoxView",
            "box_style": "",
            "children": [
              "IPY_MODEL_47d42cc391cd46049052a802e46364b6",
              "IPY_MODEL_2a49340e51fc4054a2616d1990109d7c",
              "IPY_MODEL_5c09a1875b4f4cc2b3cf64a52b4fd8b8"
            ],
            "layout": "IPY_MODEL_7664d4cd39254acfb97b63a3331c8b25"
          }
        },
        "e610d02445bd4e5e9b4783658f058147": {
          "model_module": "@jupyter-widgets/controls",
          "model_module_version": "1.5.0",
          "model_name": "FloatProgressModel",
          "state": {
            "_dom_classes": [],
            "_model_module": "@jupyter-widgets/controls",
            "_model_module_version": "1.5.0",
            "_model_name": "FloatProgressModel",
            "_view_count": null,
            "_view_module": "@jupyter-widgets/controls",
            "_view_module_version": "1.5.0",
            "_view_name": "ProgressView",
            "bar_style": "success",
            "description": "",
            "description_tooltip": null,
            "layout": "IPY_MODEL_41761888fc3547bf81907d84c07cd964",
            "max": 380267417,
            "min": 0,
            "orientation": "horizontal",
            "style": "IPY_MODEL_d2174b1613f54697a70a519f40b5aee8",
            "value": 380267417
          }
        },
        "e6f98082a67646158b8d3e36f9de5115": {
          "model_module": "@jupyter-widgets/controls",
          "model_module_version": "1.5.0",
          "model_name": "DescriptionStyleModel",
          "state": {
            "_model_module": "@jupyter-widgets/controls",
            "_model_module_version": "1.5.0",
            "_model_name": "DescriptionStyleModel",
            "_view_count": null,
            "_view_module": "@jupyter-widgets/base",
            "_view_module_version": "1.2.0",
            "_view_name": "StyleView",
            "description_width": ""
          }
        },
        "ea0718a03fa84612a83032464c755bde": {
          "model_module": "@jupyter-widgets/controls",
          "model_module_version": "1.5.0",
          "model_name": "ButtonStyleModel",
          "state": {
            "_model_module": "@jupyter-widgets/controls",
            "_model_module_version": "1.5.0",
            "_model_name": "ButtonStyleModel",
            "_view_count": null,
            "_view_module": "@jupyter-widgets/base",
            "_view_module_version": "1.2.0",
            "_view_name": "StyleView",
            "button_color": null,
            "font_weight": ""
          }
        },
        "ed33c55d50234c32b15798b747153ad2": {
          "model_module": "@jupyter-widgets/controls",
          "model_module_version": "1.5.0",
          "model_name": "HTMLModel",
          "state": {
            "_dom_classes": [],
            "_model_module": "@jupyter-widgets/controls",
            "_model_module_version": "1.5.0",
            "_model_name": "HTMLModel",
            "_view_count": null,
            "_view_module": "@jupyter-widgets/controls",
            "_view_module_version": "1.5.0",
            "_view_name": "HTMLView",
            "description": "",
            "description_tooltip": null,
            "layout": "IPY_MODEL_8991f9f2abeb49e2bd10caf24403f472",
            "placeholder": "​",
            "style": "IPY_MODEL_ae9d87d903c4420db700f043fe197154",
            "value": "\n<b>Pro Tip:</b> If you don't already have one, you can create a dedicated\n'notebooks' token with 'write' access, that you can then easily reuse for all\nnotebooks. </center>"
          }
        },
        "ed4a76509a9e43a285bed77e8415e170": {
          "model_module": "@jupyter-widgets/base",
          "model_module_version": "1.2.0",
          "model_name": "LayoutModel",
          "state": {
            "_model_module": "@jupyter-widgets/base",
            "_model_module_version": "1.2.0",
            "_model_name": "LayoutModel",
            "_view_count": null,
            "_view_module": "@jupyter-widgets/base",
            "_view_module_version": "1.2.0",
            "_view_name": "LayoutView",
            "align_content": null,
            "align_items": "center",
            "align_self": null,
            "border": null,
            "bottom": null,
            "display": "flex",
            "flex": null,
            "flex_flow": "column",
            "grid_area": null,
            "grid_auto_columns": null,
            "grid_auto_flow": null,
            "grid_auto_rows": null,
            "grid_column": null,
            "grid_gap": null,
            "grid_row": null,
            "grid_template_areas": null,
            "grid_template_columns": null,
            "grid_template_rows": null,
            "height": null,
            "justify_content": null,
            "justify_items": null,
            "left": null,
            "margin": null,
            "max_height": null,
            "max_width": null,
            "min_height": null,
            "min_width": null,
            "object_fit": null,
            "object_position": null,
            "order": null,
            "overflow": null,
            "overflow_x": null,
            "overflow_y": null,
            "padding": null,
            "right": null,
            "top": null,
            "visibility": null,
            "width": "50%"
          }
        },
        "f20725df466c4b8b9bc96fce2d1c6ff8": {
          "model_module": "@jupyter-widgets/controls",
          "model_module_version": "1.5.0",
          "model_name": "ProgressStyleModel",
          "state": {
            "_model_module": "@jupyter-widgets/controls",
            "_model_module_version": "1.5.0",
            "_model_name": "ProgressStyleModel",
            "_view_count": null,
            "_view_module": "@jupyter-widgets/base",
            "_view_module_version": "1.2.0",
            "_view_name": "StyleView",
            "bar_color": null,
            "description_width": ""
          }
        },
        "f261eb96f32540b7aba59bf5707bee6f": {
          "model_module": "@jupyter-widgets/controls",
          "model_module_version": "1.5.0",
          "model_name": "FloatProgressModel",
          "state": {
            "_dom_classes": [],
            "_model_module": "@jupyter-widgets/controls",
            "_model_module_version": "1.5.0",
            "_model_name": "FloatProgressModel",
            "_view_count": null,
            "_view_module": "@jupyter-widgets/controls",
            "_view_module_version": "1.5.0",
            "_view_name": "ProgressView",
            "bar_style": "success",
            "description": "",
            "description_tooltip": null,
            "layout": "IPY_MODEL_8539d6c12248447fa989335fb92a348f",
            "max": 2403,
            "min": 0,
            "orientation": "horizontal",
            "style": "IPY_MODEL_f20725df466c4b8b9bc96fce2d1c6ff8",
            "value": 2403
          }
        },
        "f2f1d919308042c4b730658cee357374": {
          "model_module": "@jupyter-widgets/controls",
          "model_module_version": "1.5.0",
          "model_name": "HTMLModel",
          "state": {
            "_dom_classes": [],
            "_model_module": "@jupyter-widgets/controls",
            "_model_module_version": "1.5.0",
            "_model_name": "HTMLModel",
            "_view_count": null,
            "_view_module": "@jupyter-widgets/controls",
            "_view_module_version": "1.5.0",
            "_view_name": "HTMLView",
            "description": "",
            "description_tooltip": null,
            "layout": "IPY_MODEL_72ba30f58e904ad786e9f82deabebc75",
            "placeholder": "​",
            "style": "IPY_MODEL_a3f2cbce0fc0419191259ba1735ffa94",
            "value": "Downloading: "
          }
        },
        "f30802e504624b37b3c4a469c5ecaef2": {
          "model_module": "@jupyter-widgets/controls",
          "model_module_version": "1.5.0",
          "model_name": "DescriptionStyleModel",
          "state": {
            "_model_module": "@jupyter-widgets/controls",
            "_model_module_version": "1.5.0",
            "_model_name": "DescriptionStyleModel",
            "_view_count": null,
            "_view_module": "@jupyter-widgets/base",
            "_view_module_version": "1.2.0",
            "_view_name": "StyleView",
            "description_width": ""
          }
        },
        "f49894f74c4242f88b84aea799edb16d": {
          "model_module": "@jupyter-widgets/controls",
          "model_module_version": "1.5.0",
          "model_name": "DescriptionStyleModel",
          "state": {
            "_model_module": "@jupyter-widgets/controls",
            "_model_module_version": "1.5.0",
            "_model_name": "DescriptionStyleModel",
            "_view_count": null,
            "_view_module": "@jupyter-widgets/base",
            "_view_module_version": "1.2.0",
            "_view_name": "StyleView",
            "description_width": ""
          }
        },
        "f4cfe55a73c141ef9b751d0db992d3cf": {
          "model_module": "@jupyter-widgets/controls",
          "model_module_version": "1.5.0",
          "model_name": "ProgressStyleModel",
          "state": {
            "_model_module": "@jupyter-widgets/controls",
            "_model_module_version": "1.5.0",
            "_model_name": "ProgressStyleModel",
            "_view_count": null,
            "_view_module": "@jupyter-widgets/base",
            "_view_module_version": "1.2.0",
            "_view_name": "StyleView",
            "bar_color": null,
            "description_width": ""
          }
        },
        "f5ae3c942bf644c0affadca9a6e6d59b": {
          "model_module": "@jupyter-widgets/controls",
          "model_module_version": "1.5.0",
          "model_name": "DescriptionStyleModel",
          "state": {
            "_model_module": "@jupyter-widgets/controls",
            "_model_module_version": "1.5.0",
            "_model_name": "DescriptionStyleModel",
            "_view_count": null,
            "_view_module": "@jupyter-widgets/base",
            "_view_module_version": "1.2.0",
            "_view_name": "StyleView",
            "description_width": ""
          }
        },
        "fcd185b60d6e4e60a8ab964aac262f73": {
          "model_module": "@jupyter-widgets/base",
          "model_module_version": "1.2.0",
          "model_name": "LayoutModel",
          "state": {
            "_model_module": "@jupyter-widgets/base",
            "_model_module_version": "1.2.0",
            "_model_name": "LayoutModel",
            "_view_count": null,
            "_view_module": "@jupyter-widgets/base",
            "_view_module_version": "1.2.0",
            "_view_name": "LayoutView",
            "align_content": null,
            "align_items": null,
            "align_self": null,
            "border": null,
            "bottom": null,
            "display": null,
            "flex": null,
            "flex_flow": null,
            "grid_area": null,
            "grid_auto_columns": null,
            "grid_auto_flow": null,
            "grid_auto_rows": null,
            "grid_column": null,
            "grid_gap": null,
            "grid_row": null,
            "grid_template_areas": null,
            "grid_template_columns": null,
            "grid_template_rows": null,
            "height": null,
            "justify_content": null,
            "justify_items": null,
            "left": null,
            "margin": null,
            "max_height": null,
            "max_width": null,
            "min_height": null,
            "min_width": null,
            "object_fit": null,
            "object_position": null,
            "order": null,
            "overflow": null,
            "overflow_x": null,
            "overflow_y": null,
            "padding": null,
            "right": null,
            "top": null,
            "visibility": null,
            "width": null
          }
        },
        "fe31c534d6cd46da8b6a640e039a4d6c": {
          "model_module": "@jupyter-widgets/controls",
          "model_module_version": "1.5.0",
          "model_name": "DescriptionStyleModel",
          "state": {
            "_model_module": "@jupyter-widgets/controls",
            "_model_module_version": "1.5.0",
            "_model_name": "DescriptionStyleModel",
            "_view_count": null,
            "_view_module": "@jupyter-widgets/base",
            "_view_module_version": "1.2.0",
            "_view_name": "StyleView",
            "description_width": ""
          }
        }
      }
    }
  },
  "nbformat": 4,
  "nbformat_minor": 0
}

{
  "cells": [
    {
      "cell_type": "markdown",
      "metadata": {
        "id": "view-in-github",
        "colab_type": "text"
      },
      "source": [
        "<a href=\"https://colab.research.google.com/github/AndresQuimbita/teat1/blob/main/Copy_of_Fine_tuning_Wav2Vec2_for_English_ASR.ipynb\" target=\"_parent\"><img src=\"https://colab.research.google.com/assets/colab-badge.svg\" alt=\"Open In Colab\"/></a>"
      ]
    },
    {
      "cell_type": "markdown",
      "metadata": {
        "id": "LBSYoWbi-45k"
      },
      "source": [
        "# **Fine-tuning Wav2Vec2 for English ASR with 🤗 Transformers**"
      ]
    },
    {
      "cell_type": "markdown",
      "metadata": {
        "id": "V7YOT2mnUiea"
      },
      "source": [
        "Wav2Vec2 is a pretrained model for Automatic Speech Recognition (ASR) and was released in [September 2020](https://ai.facebook.com/blog/wav2vec-20-learning-the-structure-of-speech-from-raw-audio/) by Alexei Baevski, Michael Auli, and Alex Conneau.\n",
        "\n",
        "Using a novel contrastive pretraining objective, Wav2Vec2 learns powerful speech representations from more than 50.000 hours of unlabeled speech. Similar, to [BERT's masked language modeling](http://jalammar.github.io/illustrated-bert/), the model learns contextualized speech representations by randomly masking feature vectors before passing them to a transformer network.\n",
        "\n",
        "![wav2vec2_structure](https://raw.githubusercontent.com/patrickvonplaten/scientific_images/master/wav2vec2.png)\n",
        "\n",
        "For the first time, it has been shown that pretraining, followed by fine-tuning on very little labeled speech data achieves competitive results to state-of-the-art ASR systems. Using as little as 10 minutes of labeled data, Wav2Vec2 yields a word error rate (WER) of less than 5% on the clean test set of [LibriSpeech](https://huggingface.co/datasets/librispeech_asr) - *cf.* with Table 9 of the [paper](https://arxiv.org/pdf/2006.11477.pdf)."
      ]
    },
    {
      "cell_type": "markdown",
      "metadata": {
        "id": "nT_QrfWtsxIz"
      },
      "source": [
        "In this notebook, we will give an in-detail explanation of how Wav2Vec2's pretrained checkpoints can be fine-tuned on any English ASR dataset. Note that in this notebook, we will fine-tune Wav2Vec2 without making use of a language model. It is much simpler to use Wav2Vec2 without a language model as an end-to-end ASR system and it has been shown that a standalone Wav2Vec2 acoustic model achieves impressive results. For demonstration purposes, we fine-tune the \"base\"-sized [pretrained checkpoint](https://huggingface.co/facebook/wav2vec2-base) on the rather small [Timit](https://huggingface.co/datasets/timit_asr) dataset that contains just 5h of training data."
      ]
    },
    {
      "cell_type": "markdown",
      "metadata": {
        "id": "Gx9OdDYrCtQ1"
      },
      "source": [
        "Wav2Vec2 is fine-tuned using Connectionist Temporal Classification (CTC), which is an algorithm that is used to train neural networks for sequence-to-sequence problems and mainly in Automatic Speech Recognition and handwriting recognition.\n",
        "\n",
        "I highly recommend reading the blog post [Sequence Modeling with CTC (2017)](https://distill.pub/2017/ctc/) very well-written blog post by Awni Hannun."
      ]
    },
    {
      "cell_type": "markdown",
      "metadata": {
        "id": "qW3J3rBizeds"
      },
      "source": [
        "First, let's try to get a good GPU in our colab! With Google Colab's free version it's sadly becoming much harder to get access to a good GPU. With Google Colab Pro, one has a much easier time getting access to a V100 or P100 GPU however."
      ]
    },
    {
      "cell_type": "code",
      "execution_count": null,
      "metadata": {
        "colab": {
          "base_uri": "https://localhost:8080/"
        },
        "id": "SLAufgh_xxj7",
        "outputId": "5435e0be-d50b-47da-a311-124a6b057d69"
      },
      "outputs": [
        {
          "name": "stdout",
          "output_type": "stream",
          "text": [
            "Thu Jun 22 16:21:22 2023       \n",
            "+-----------------------------------------------------------------------------+\n",
            "| NVIDIA-SMI 525.85.12    Driver Version: 525.85.12    CUDA Version: 12.0     |\n",
            "|-------------------------------+----------------------+----------------------+\n",
            "| GPU  Name        Persistence-M| Bus-Id        Disp.A | Volatile Uncorr. ECC |\n",
            "| Fan  Temp  Perf  Pwr:Usage/Cap|         Memory-Usage | GPU-Util  Compute M. |\n",
            "|                               |                      |               MIG M. |\n",
            "|===============================+======================+======================|\n",
            "|   0  Tesla T4            Off  | 00000000:00:04.0 Off |                    0 |\n",
            "| N/A   62C    P8    13W /  70W |      0MiB / 15360MiB |      0%      Default |\n",
            "|                               |                      |                  N/A |\n",
            "+-------------------------------+----------------------+----------------------+\n",
            "                                                                               \n",
            "+-----------------------------------------------------------------------------+\n",
            "| Processes:                                                                  |\n",
            "|  GPU   GI   CI        PID   Type   Process name                  GPU Memory |\n",
            "|        ID   ID                                                   Usage      |\n",
            "|=============================================================================|\n",
            "|  No running processes found                                                 |\n",
            "+-----------------------------------------------------------------------------+\n"
          ]
        }
      ],
      "source": [
        "gpu_info = !nvidia-smi\n",
        "gpu_info = '\\n'.join(gpu_info)\n",
        "if gpu_info.find('failed') >= 0:\n",
        "  print('Not connected to a GPU')\n",
        "else:\n",
        "  print(gpu_info)"
      ]
    },
    {
      "cell_type": "markdown",
      "metadata": {
        "id": "e335hPmdtASZ"
      },
      "source": [
        "Before we start, let's install both `datasets` and `transformers` from master. Also, we need the `librosa` package to load audio files and the `jiwer` to evaluate our fine-tuned model using the [word error rate (WER)](https://huggingface.co/metrics/wer) metric ${}^1$."
      ]
    },
    {
      "cell_type": "code",
      "execution_count": null,
      "metadata": {
        "id": "c8eh87Hoee5d"
      },
      "outputs": [],
      "source": [
        "%%capture\n",
        "!pip install datasets==1.18.3\n",
        "!pip install transformers==4.17.0\n",
        "!pip install jiwer\n",
        "!pip install huggingface_hub"
      ]
    },
    {
      "cell_type": "markdown",
      "metadata": {
        "id": "8_6kYmDMH9lR"
      },
      "source": [
        "Next we strongly suggest to upload your training checkpoints directly to the [🤗 Hub](https://huggingface.co/) while training. The [🤗 Hub](https://huggingface.co/) has integrated version control so you can be sure that no model checkpoint is getting lost during training.\n",
        "\n",
        "To do so you have to store your authentication token from the Hugging Face website (sign up [here](https://huggingface.co/join) if you haven't already!)"
      ]
    },
    {
      "cell_type": "code",
      "execution_count": null,
      "metadata": {
        "colab": {
          "base_uri": "https://localhost:8080/",
          "height": 331,
          "referenced_widgets": [
            "72c60eb7db764e16a9d47ad4fc87dd10",
            "81e2c1fadd6546b18a39555d44a9ab3c",
            "51a7cab310ae4385b30bcf6d828c5bd7",
            "97b1d29fb759427b9a3ced885b12c49b",
            "c7053e32145d4599bda83ae1372cf54a",
            "ed33c55d50234c32b15798b747153ad2",
            "ed4a76509a9e43a285bed77e8415e170",
            "b5618e9ca055470595027435969b9765",
            "14a6810e336a473cbcef56c1b6ed59cf",
            "3ee80b72a2e348c8a92af98b5d666c13",
            "d30d4923454e4f8aaf4341f0d9e4f794",
            "dba9c380625243a6a7f90c8914ff9455",
            "f30802e504624b37b3c4a469c5ecaef2",
            "05b403993fc04c128fe3423e16085529",
            "ea0718a03fa84612a83032464c755bde",
            "8991f9f2abeb49e2bd10caf24403f472",
            "ae9d87d903c4420db700f043fe197154"
          ]
        },
        "id": "zFLBDyzQIA3R",
        "outputId": "1dd54b29-2183-4e31-f610-96e516c12b08"
      },
      "outputs": [
        {
          "data": {
            "application/vnd.jupyter.widget-view+json": {
              "model_id": "72c60eb7db764e16a9d47ad4fc87dd10",
              "version_major": 2,
              "version_minor": 0
            },
            "text/plain": [
              "VBox(children=(HTML(value='<center> <img\\nsrc=https://huggingface.co/front/assets/huggingface_logo-noborder.sv…"
            ]
          },
          "metadata": {},
          "output_type": "display_data"
        }
      ],
      "source": [
        "from huggingface_hub import notebook_login\n",
        "\n",
        "notebook_login()"
      ]
    },
    {
      "cell_type": "markdown",
      "metadata": {
        "id": "zCyw5D23IQ1F"
      },
      "source": [
        "\n",
        "Then you need to install Git-LFS to upload your model checkpoints:"
      ]
    },
    {
      "cell_type": "code",
      "execution_count": null,
      "metadata": {
        "id": "Q9BnQDhOITBC"
      },
      "outputs": [],
      "source": [
        "%%capture\n",
        "!apt install git-lfs"
      ]
    },
    {
      "cell_type": "markdown",
      "metadata": {
        "id": "Mn9swf6EQ9Vd"
      },
      "source": [
        "\n",
        "\n",
        "\n",
        "---\n",
        "\n",
        "${}^1$ Timit is usually evaluated using the phoneme error rate (PER), but by far the most common metric in ASR is the word error rate (WER). To keep this notebook as general as possible we decided to evaluate the model using WER."
      ]
    },
    {
      "cell_type": "markdown",
      "metadata": {
        "id": "0mW-C1Nt-j7k"
      },
      "source": [
        "## Prepare Data, Tokenizer, Feature Extractor"
      ]
    },
    {
      "cell_type": "markdown",
      "metadata": {
        "id": "BeBosnY9BH3e"
      },
      "source": [
        "ASR models transcribe speech to text, which means that we both need a feature extractor that processes the speech signal to the model's input format, *e.g.* a feature vector, and a tokenizer that processes the model's output format to text.\n",
        "\n",
        "In 🤗 Transformers, the Wav2Vec2 model is thus accompanied by both a tokenizer, called [Wav2Vec2CTCTokenizer](https://huggingface.co/transformers/master/model_doc/wav2vec2.html#wav2vec2ctctokenizer), and a feature extractor, called [Wav2Vec2FeatureExtractor](https://huggingface.co/transformers/master/model_doc/wav2vec2.html#wav2vec2featureextractor).\n",
        "\n",
        "Let's start by creating the tokenizer responsible for decoding the model's predictions."
      ]
    },
    {
      "cell_type": "markdown",
      "metadata": {
        "id": "sEXEWEJGQPqD"
      },
      "source": [
        "### Create Wav2Vec2CTCTokenizer"
      ]
    },
    {
      "cell_type": "markdown",
      "metadata": {
        "id": "tWmMikuNEKl_"
      },
      "source": [
        "The [pretrained Wav2Vec2 checkpoint]( ) maps the speech signal to a sequence of context representations as illustrated in the figure above. A fine-tuned Wav2Vec2 checkpoint needs to map this sequence of context representations to its corresponding transcription so that a linear layer has to be added on top of the transformer block (shown in yellow). This linear layer is used to classifies each context representation to a token class analogous how, *e.g.*, after pretraining a linear layer is added on top of BERT's embeddings for further classification - *cf.* with *\"BERT\"* section of this [blog post](https://huggingface.co/blog/warm-starting-encoder-decoder).\n",
        "\n",
        "The output size of this layer corresponds to the number of tokens in the vocabulary, which does **not** depend on Wav2Vec2's pretraining task, but only on the labeled dataset used for fine-tuning. So in the first step, we will take a look at Timit and define a vocabulary based on the dataset's transcriptions."
      ]
    },
    {
      "cell_type": "markdown",
      "metadata": {
        "id": "bee4g9rpLxll"
      },
      "source": [
        "Let's start by loading the dataset and taking a look at its structure."
      ]
    },
    {
      "cell_type": "code",
      "execution_count": null,
      "metadata": {
        "colab": {
          "base_uri": "https://localhost:8080/",
          "height": 200,
          "referenced_widgets": [
            "35cff9996fa5410485f6a9cba04dee0d",
            "f2f1d919308042c4b730658cee357374",
            "f261eb96f32540b7aba59bf5707bee6f",
            "c453ed86ee824b5e88d15c5bce35009b",
            "45f9dd1c05be47e8a0dd90af375756ac",
            "72ba30f58e904ad786e9f82deabebc75",
            "a3f2cbce0fc0419191259ba1735ffa94",
            "8539d6c12248447fa989335fb92a348f",
            "f20725df466c4b8b9bc96fce2d1c6ff8",
            "abd948814c014a9eb6d68529c3590e92",
            "700ef7e95cf94d7e9dbeb58d605eca5d",
            "03d71c90397247f7a0b46f02be423a66",
            "7ba0b13ba0604b26afe63e5dc86e2f1e",
            "41ff8cbd05464696b86989bf3c39c1e3",
            "a84b851075bf4773a463ed24a2f3eb24",
            "6f7688e6cf04412ab2dac06baeb4e666",
            "c1e0fc4107fb49fe84bb21fd721a8ecb",
            "2a011e9f253e4cef8f52f45c110c0295",
            "196c5d364c0a45d1b07cb8c1850eae8e",
            "ac7622d9634c46db895530963f553494",
            "2ca52ebaf2be48d5a4b8b4138906be85",
            "7317708554854b4fb5c2ee08e0f4f894",
            "dc79c99877844fc3b5eb05be646c495f",
            "9424cc47106a455ab18c0870d046ce9f",
            "b8c9bc669d8c4651882c214aafb0548e",
            "ddb52ffa6f634053927e93f997337419",
            "b2310446607e44f5b8e38862581b510a",
            "090847f7912e496fbc1ef8673674c1ed",
            "15e195a2c3044feababc62304301f14f",
            "667cac3e3c364fed95c9d4cd30ec2466",
            "43c07bbb17534fa9932770d689dc821b",
            "89e51090498545259c216a5a1b59072f",
            "489bec937040484ea1164c317f07a4ad",
            "a7e5e39c8be1422fb1e47567857d681d",
            "90bb8035c7b745088e6f69368e770224",
            "ac756dc57a4748b8b29e490186774de6",
            "6875e568704e45648e7230c0fe52ffb8",
            "cfddbf192a4948c5a35d9c9c28227969",
            "d7934693aa974d6781b84f71bac59e71",
            "cc4dd57866ff4080913e33d0b1cf49af",
            "d42cbd433408441ead2be0400c5d97c7",
            "3cbbf50821414139bf7924b2a66912ba",
            "5bc51e6bf9d0484baf014fb352155e15",
            "73f206f8a18e42cca2630b1c3fbbdd17",
            "c95cde469c924220956b0222cd470c90",
            "d31e0dcd59bd4153a392e18dba2ee1c2",
            "adc1d50d41744b49bb5dfb3a4f5aa770",
            "1a36d660c6474845bbfdcffffb6dcc68",
            "dab4414a1d4a4e94a4845dd9dcc5783a",
            "556b2a49b0f04518a0c925f7d448fcd9",
            "e6f98082a67646158b8d3e36f9de5115",
            "c705539579af4dd890312dc6eca591ac",
            "adfa07960f1243a78e890a968155eac5",
            "7b2e3d37cdef4f5282f01745c3b1a0f4",
            "7b694dd16e54443f8da6af91b1ecd821",
            "6371ee68de1c457696f0f5f467a4ab20",
            "8d544fd2a20e410887d14bed2c1abf66",
            "b04e77f560024855b050ec5d48d8a26c",
            "786d3890c8a74b6b933389a08be4529f",
            "1504d726f2f448b4a9b36d5034f3d138",
            "a7184f5b92f0441fa10120fde326efb4",
            "70723978a71b47969d9952bcef9c2a0d",
            "280663ff96ce499aa0cb7bca67f59a85",
            "9a2fe7c5597647e881612cd18a8467b1",
            "cda1ca853c9c413798584217aa65efb9",
            "4796a0a689924d089c229046ba162058"
          ]
        },
        "id": "2MMXcWFFgCXU",
        "outputId": "281c89cb-d69e-41ff-86f0-7409f307462e"
      },
      "outputs": [
        {
          "data": {
            "application/vnd.jupyter.widget-view+json": {
              "model_id": "35cff9996fa5410485f6a9cba04dee0d",
              "version_major": 2,
              "version_minor": 0
            },
            "text/plain": [
              "Downloading:   0%|          | 0.00/2.40k [00:00<?, ?B/s]"
            ]
          },
          "metadata": {},
          "output_type": "display_data"
        },
        {
          "data": {
            "application/vnd.jupyter.widget-view+json": {
              "model_id": "03d71c90397247f7a0b46f02be423a66",
              "version_major": 2,
              "version_minor": 0
            },
            "text/plain": [
              "Downloading:   0%|          | 0.00/1.06k [00:00<?, ?B/s]"
            ]
          },
          "metadata": {},
          "output_type": "display_data"
        },
        {
          "name": "stdout",
          "output_type": "stream",
          "text": [
            "Downloading and preparing dataset timit_asr/clean (download: 828.75 MiB, generated: 7.90 MiB, post-processed: Unknown size, total: 836.65 MiB) to /root/.cache/huggingface/datasets/timit_asr/clean/2.0.1/b11b576ddcccbcefa7c9f0c4e6c2a43756f3033adffe0fb686aa61043d0450ad...\n"
          ]
        },
        {
          "data": {
            "application/vnd.jupyter.widget-view+json": {
              "model_id": "dc79c99877844fc3b5eb05be646c495f",
              "version_major": 2,
              "version_minor": 0
            },
            "text/plain": [
              "Downloading:   0%|          | 0.00/869M [00:00<?, ?B/s]"
            ]
          },
          "metadata": {},
          "output_type": "display_data"
        },
        {
          "data": {
            "application/vnd.jupyter.widget-view+json": {
              "model_id": "a7e5e39c8be1422fb1e47567857d681d",
              "version_major": 2,
              "version_minor": 0
            },
            "text/plain": [
              "0 examples [00:00, ? examples/s]"
            ]
          },
          "metadata": {},
          "output_type": "display_data"
        },
        {
          "data": {
            "application/vnd.jupyter.widget-view+json": {
              "model_id": "c95cde469c924220956b0222cd470c90",
              "version_major": 2,
              "version_minor": 0
            },
            "text/plain": [
              "0 examples [00:00, ? examples/s]"
            ]
          },
          "metadata": {},
          "output_type": "display_data"
        },
        {
          "name": "stdout",
          "output_type": "stream",
          "text": [
            "Dataset timit_asr downloaded and prepared to /root/.cache/huggingface/datasets/timit_asr/clean/2.0.1/b11b576ddcccbcefa7c9f0c4e6c2a43756f3033adffe0fb686aa61043d0450ad. Subsequent calls will reuse this data.\n"
          ]
        },
        {
          "data": {
            "application/vnd.jupyter.widget-view+json": {
              "model_id": "6371ee68de1c457696f0f5f467a4ab20",
              "version_major": 2,
              "version_minor": 0
            },
            "text/plain": [
              "  0%|          | 0/2 [00:00<?, ?it/s]"
            ]
          },
          "metadata": {},
          "output_type": "display_data"
        }
      ],
      "source": [
        "from datasets import load_dataset, load_metric\n",
        "\n",
        "timit = load_dataset(\"timit_asr\")"
      ]
    },
    {
      "cell_type": "code",
      "execution_count": null,
      "metadata": {
        "colab": {
          "base_uri": "https://localhost:8080/"
        },
        "id": "QbIM-L0xdvf4",
        "outputId": "d4144763-5b7d-47f6-fb72-96fe1022a18e"
      },
      "outputs": [
        {
          "data": {
            "text/plain": [
              "DatasetDict({\n",
              "    train: Dataset({\n",
              "        features: ['file', 'audio', 'text', 'phonetic_detail', 'word_detail', 'dialect_region', 'sentence_type', 'speaker_id', 'id'],\n",
              "        num_rows: 4620\n",
              "    })\n",
              "    test: Dataset({\n",
              "        features: ['file', 'audio', 'text', 'phonetic_detail', 'word_detail', 'dialect_region', 'sentence_type', 'speaker_id', 'id'],\n",
              "        num_rows: 1680\n",
              "    })\n",
              "})"
            ]
          },
          "execution_count": 6,
          "metadata": {},
          "output_type": "execute_result"
        }
      ],
      "source": [
        "timit"
      ]
    },
    {
      "cell_type": "markdown",
      "metadata": {
        "id": "ri5y5N_HMANq"
      },
      "source": [
        "Many ASR datasets only provide the target text, `'text'` for each audio `'audio'` and file `'file'`. Timit actually provides much more information about each audio file, such as the `'phonetic_detail'`, etc., which is why many researchers choose to evaluate their models on phoneme classification instead of speech recognition when working with Timit. However, we want to keep the notebook as general as possible, so that we will only consider the transcribed text for fine-tuning.\n",
        "\n"
      ]
    },
    {
      "cell_type": "code",
      "execution_count": null,
      "metadata": {
        "id": "kbyq6lDgQc2a"
      },
      "outputs": [],
      "source": [
        "timit = timit.remove_columns([\"phonetic_detail\", \"word_detail\", \"dialect_region\", \"id\", \"sentence_type\", \"speaker_id\"])"
      ]
    },
    {
      "cell_type": "markdown",
      "metadata": {
        "id": "Go9Hq4e4NDT9"
      },
      "source": [
        "Let's write a short function to display some random samples of the dataset and run it a couple of times to get a feeling for the transcriptions."
      ]
    },
    {
      "cell_type": "code",
      "execution_count": null,
      "metadata": {
        "id": "72737oog2F6U"
      },
      "outputs": [],
      "source": [
        "from datasets import ClassLabel\n",
        "import random\n",
        "import pandas as pd\n",
        "from IPython.display import display, HTML\n",
        "\n",
        "def show_random_elements(dataset, num_examples=10):\n",
        "    assert num_examples <= len(dataset), \"Can't pick more elements than there are in the dataset.\"\n",
        "    picks = []\n",
        "    for _ in range(num_examples):\n",
        "        pick = random.randint(0, len(dataset)-1)\n",
        "        while pick in picks:\n",
        "            pick = random.randint(0, len(dataset)-1)\n",
        "        picks.append(pick)\n",
        "\n",
        "    df = pd.DataFrame(dataset[picks])\n",
        "    display(HTML(df.to_html()))"
      ]
    },
    {
      "cell_type": "code",
      "execution_count": null,
      "metadata": {
        "colab": {
          "base_uri": "https://localhost:8080/",
          "height": 363
        },
        "id": "K_JUmf3G3b9S",
        "outputId": "8d879e78-15b3-425f-ef6e-ae604e83167b"
      },
      "outputs": [
        {
          "data": {
            "text/html": [
              "<table border=\"1\" class=\"dataframe\">\n",
              "  <thead>\n",
              "    <tr style=\"text-align: right;\">\n",
              "      <th></th>\n",
              "      <th>text</th>\n",
              "    </tr>\n",
              "  </thead>\n",
              "  <tbody>\n",
              "    <tr>\n",
              "      <th>0</th>\n",
              "      <td>Herb's birthday occurs frequently on Thanksgiving.</td>\n",
              "    </tr>\n",
              "    <tr>\n",
              "      <th>1</th>\n",
              "      <td>I assume moisture will damage this ship's hull.</td>\n",
              "    </tr>\n",
              "    <tr>\n",
              "      <th>2</th>\n",
              "      <td>She had your dark suit in greasy wash water all year.</td>\n",
              "    </tr>\n",
              "    <tr>\n",
              "      <th>3</th>\n",
              "      <td>His failure to open the store by eight cost him his job.</td>\n",
              "    </tr>\n",
              "    <tr>\n",
              "      <th>4</th>\n",
              "      <td>But to the infuriation of scientists, for no known reason not all of them did.</td>\n",
              "    </tr>\n",
              "    <tr>\n",
              "      <th>5</th>\n",
              "      <td>They polished the windshield.</td>\n",
              "    </tr>\n",
              "    <tr>\n",
              "      <th>6</th>\n",
              "      <td>My desires are simple: give me one informative paragraph on the subject.</td>\n",
              "    </tr>\n",
              "    <tr>\n",
              "      <th>7</th>\n",
              "      <td>She had your dark suit in greasy wash water all year.</td>\n",
              "    </tr>\n",
              "    <tr>\n",
              "      <th>8</th>\n",
              "      <td>Don't ask me to carry an oily rag like that.</td>\n",
              "    </tr>\n",
              "    <tr>\n",
              "      <th>9</th>\n",
              "      <td>Don't ask me to carry an oily rag like that.</td>\n",
              "    </tr>\n",
              "  </tbody>\n",
              "</table>"
            ],
            "text/plain": [
              "<IPython.core.display.HTML object>"
            ]
          },
          "metadata": {},
          "output_type": "display_data"
        }
      ],
      "source": [
        "show_random_elements(timit[\"train\"].remove_columns([\"audio\", \"file\"]), num_examples=10)"
      ]
    },
    {
      "cell_type": "markdown",
      "metadata": {
        "id": "fowcOllGNNju"
      },
      "source": [
        "Alright! The transcriptions look very clean and the language seems to correspond more to written text than dialogue. This makes sense taking into account that [Timit](https://huggingface.co/datasets/timit_asr) is a read speech corpus."
      ]
    },
    {
      "cell_type": "markdown",
      "metadata": {
        "id": "vq7OR50LN49m"
      },
      "source": [
        "We can see that the transcriptions contain some special characters, such as `,.?!;:`. Without a language model, it is much harder to classify speech chunks to such special characters because they don't really correspond to a characteristic sound unit. *E.g.*, the letter `\"s\"` has a more or less clear sound, whereas the special character `\".\"` does not.\n",
        "Also in order to understand the meaning of a speech signal, it is usually not necessary to include special characters in the transcription.\n",
        "\n",
        "In addition, we normalize the text to only have lower case letters and append a word separator token at the end."
      ]
    },
    {
      "cell_type": "code",
      "execution_count": null,
      "metadata": {
        "id": "svKzVJ_hQGK6"
      },
      "outputs": [],
      "source": [
        "import re\n",
        "chars_to_ignore_regex = '[\\,\\?\\.\\!\\-\\;\\:\\\"]'\n",
        "\n",
        "def remove_special_characters(batch):\n",
        "    batch[\"text\"] = re.sub(chars_to_ignore_regex, '', batch[\"text\"]).lower() + \" \"\n",
        "    return batch"
      ]
    },
    {
      "cell_type": "code",
      "execution_count": null,
      "metadata": {
        "colab": {
          "base_uri": "https://localhost:8080/",
          "height": 118,
          "referenced_widgets": [
            "c75146f8f1ab44028814587c6618b5cb",
            "2b28d6a112484a5cb8a3bce8d33dd6eb",
            "bf4e5b43dc36490eb26b5868233c8325",
            "42901d9eb4204cb39847025079f3e3c1",
            "5beb1ffb9863473a8df053439bfb9fb2",
            "457ab436e5dd499eab891989de1ebdc9",
            "165636445bfc4733970d1a7ded5f6ede",
            "0058396ec61a4f75a7db09a5f38d125b",
            "3d7e3dfdc28548d8bd8b7d548edb6f8f",
            "bb8774b67f884f6b8377a496b5c4a151",
            "f49894f74c4242f88b84aea799edb16d",
            "2cf18cb986eb40af89ebff415e08f273",
            "58d8a23d215e4c90af7cc611354be857",
            "cab324901c07479cb8c579067204aecf",
            "5e19198ee86d4494bc5eb9637259f492",
            "0ada10817cc44b6a9b903815fc9b2455",
            "39d2595f1d85401ea4e930369e52da11",
            "8980f3e6e202478eb2d2c3874788e466",
            "6e9a872c89d54da582effed9b9f07bb2",
            "53a03b6776c5401aaca921c86ed0b6d5",
            "15666b87c18443b2b5dcc92821b310e7",
            "cac71a316ae94f788d31ff4aa68ce067"
          ]
        },
        "id": "XIHocAuTQbBR",
        "outputId": "acb7e63a-9e97-477e-f4a8-9c27cd0a7ef4"
      },
      "outputs": [
        {
          "name": "stderr",
          "output_type": "stream",
          "text": [
            "WARNING:datasets.fingerprint:Parameter 'function'=<function remove_special_characters at 0x7f3c4cde7b50> of the transform datasets.arrow_dataset.Dataset._map_single couldn't be hashed properly, a random hash was used instead. Make sure your transforms and parameters are serializable with pickle or dill for the dataset fingerprinting and caching to work. If you reuse this transform, the caching mechanism will consider it to be different from the previous calls and recompute everything. This warning is only showed once. Subsequent hashing failures won't be showed.\n"
          ]
        },
        {
          "data": {
            "application/vnd.jupyter.widget-view+json": {
              "model_id": "c75146f8f1ab44028814587c6618b5cb",
              "version_major": 2,
              "version_minor": 0
            },
            "text/plain": [
              "0ex [00:00, ?ex/s]"
            ]
          },
          "metadata": {},
          "output_type": "display_data"
        },
        {
          "data": {
            "application/vnd.jupyter.widget-view+json": {
              "model_id": "2cf18cb986eb40af89ebff415e08f273",
              "version_major": 2,
              "version_minor": 0
            },
            "text/plain": [
              "0ex [00:00, ?ex/s]"
            ]
          },
          "metadata": {},
          "output_type": "display_data"
        }
      ],
      "source": [
        "timit = timit.map(remove_special_characters)"
      ]
    },
    {
      "cell_type": "code",
      "execution_count": null,
      "metadata": {
        "colab": {
          "base_uri": "https://localhost:8080/",
          "height": 363
        },
        "id": "RBDRAAYxRE6n",
        "outputId": "a62e7527-f6ea-46dd-e94b-476b9cef521a"
      },
      "outputs": [
        {
          "data": {
            "text/html": [
              "<table border=\"1\" class=\"dataframe\">\n",
              "  <thead>\n",
              "    <tr style=\"text-align: right;\">\n",
              "      <th></th>\n",
              "      <th>text</th>\n",
              "    </tr>\n",
              "  </thead>\n",
              "  <tbody>\n",
              "    <tr>\n",
              "      <th>0</th>\n",
              "      <td>as such it acts as an anchor for the people</td>\n",
              "    </tr>\n",
              "    <tr>\n",
              "      <th>1</th>\n",
              "      <td>have they inherited some money or something</td>\n",
              "    </tr>\n",
              "    <tr>\n",
              "      <th>2</th>\n",
              "      <td>alimony harms a divorced man's wealth</td>\n",
              "    </tr>\n",
              "    <tr>\n",
              "      <th>3</th>\n",
              "      <td>don't ask me to carry an oily rag like that</td>\n",
              "    </tr>\n",
              "    <tr>\n",
              "      <th>4</th>\n",
              "      <td>i'll have a scoop of that exotic purple and turquoise sherbet</td>\n",
              "    </tr>\n",
              "    <tr>\n",
              "      <th>5</th>\n",
              "      <td>the drunkard is a social outcast</td>\n",
              "    </tr>\n",
              "    <tr>\n",
              "      <th>6</th>\n",
              "      <td>publicity and notoriety go hand in hand</td>\n",
              "    </tr>\n",
              "    <tr>\n",
              "      <th>7</th>\n",
              "      <td>in most cases these soils are taken up as liquids through capillary action</td>\n",
              "    </tr>\n",
              "    <tr>\n",
              "      <th>8</th>\n",
              "      <td>did shawn catch that big goose without help</td>\n",
              "    </tr>\n",
              "    <tr>\n",
              "      <th>9</th>\n",
              "      <td>you always come up with pathological examples</td>\n",
              "    </tr>\n",
              "  </tbody>\n",
              "</table>"
            ],
            "text/plain": [
              "<IPython.core.display.HTML object>"
            ]
          },
          "metadata": {},
          "output_type": "display_data"
        }
      ],
      "source": [
        "show_random_elements(timit[\"train\"].remove_columns([\"audio\", \"file\"]))"
      ]
    },
    {
      "cell_type": "markdown",
      "metadata": {
        "id": "jwfaptH5RJwA"
      },
      "source": [
        "Good! This looks better. We have removed most special characters from transcriptions and normalized them to lower-case only.\n",
        "\n",
        "In CTC, it is common to classify speech chunks into letters, so we will do the same here.\n",
        "Let's extract all distinct letters of the training and test data and build our vocabulary from this set of letters.\n",
        "\n",
        "We write a mapping function that concatenates all transcriptions into one long transcription and then transforms the string into a set of chars.\n",
        "It is important to pass the argument `batched=True` to the `map(...)` function so that the mapping function has access to all transcriptions at once."
      ]
    },
    {
      "cell_type": "code",
      "execution_count": null,
      "metadata": {
        "id": "LwCshNbbeRZR"
      },
      "outputs": [],
      "source": [
        "def extract_all_chars(batch):\n",
        "  all_text = \" \".join(batch[\"text\"])\n",
        "  vocab = list(set(all_text))\n",
        "  return {\"vocab\": [vocab], \"all_text\": [all_text]}"
      ]
    },
    {
      "cell_type": "code",
      "execution_count": null,
      "metadata": {
        "colab": {
          "base_uri": "https://localhost:8080/",
          "height": 81,
          "referenced_widgets": [
            "8508560781db49e9971a4e844b77f708",
            "4ed0f26ff105404bb993127df03bffca",
            "dbd4a1e0b6264c34b87a15b73a522d92",
            "4322229ce14c40288a33afefb4917bdd",
            "6a04eddf72594989b95c6a1be64d7f61",
            "b59ba6565a464d1ba9b09b978cc679dd",
            "10fd19a14d1f45aba528e4f19b675638",
            "66d5b61e23dc4651903c0d32d7694a33",
            "369c2fa2af714df99e5113fddfe81a36",
            "6d601fe66e86428bb08ec9952e99d52a",
            "bd7dad24d5d34edd9409e44ae87b888c",
            "5e721c366d99434d80b3822c6e82b290",
            "bd9b680e32fc41708cc2024a2f40c89d",
            "0b8b1be79ae24a31b1474824c5e52de5",
            "b9f5fab4eb65486abec1e0d85c8682d8",
            "56edbb7e71544c97a52f26e245e6a406",
            "225e6afb5c154fe6b3a1b1279287cb85",
            "f5ae3c942bf644c0affadca9a6e6d59b",
            "835cdd92279b4385af6a554c416ee245",
            "91190c7d6c7b460cb028183cf51bb1c1",
            "7943fc950c1c4b9ab096fa2e50d0da2d",
            "886c955c22c34282b94a3ee10ebde407"
          ]
        },
        "id": "_m6uUjjcfbjH",
        "outputId": "0485e5e9-9522-4db3-dbcd-f34986fc04ca"
      },
      "outputs": [
        {
          "data": {
            "application/vnd.jupyter.widget-view+json": {
              "model_id": "8508560781db49e9971a4e844b77f708",
              "version_major": 2,
              "version_minor": 0
            },
            "text/plain": [
              "  0%|          | 0/1 [00:00<?, ?ba/s]"
            ]
          },
          "metadata": {},
          "output_type": "display_data"
        },
        {
          "data": {
            "application/vnd.jupyter.widget-view+json": {
              "model_id": "5e721c366d99434d80b3822c6e82b290",
              "version_major": 2,
              "version_minor": 0
            },
            "text/plain": [
              "  0%|          | 0/1 [00:00<?, ?ba/s]"
            ]
          },
          "metadata": {},
          "output_type": "display_data"
        }
      ],
      "source": [
        "vocabs = timit.map(extract_all_chars, batched=True, batch_size=-1, keep_in_memory=True, remove_columns=timit.column_names[\"train\"])"
      ]
    },
    {
      "cell_type": "markdown",
      "metadata": {
        "id": "7oVgE8RZSJNP"
      },
      "source": [
        "Now, we create the union of all distinct letters in the training dataset and test dataset and convert the resulting list into an enumerated dictionary."
      ]
    },
    {
      "cell_type": "code",
      "execution_count": null,
      "metadata": {
        "id": "aQfneNsmlJI0"
      },
      "outputs": [],
      "source": [
        "vocab_list = list(set(vocabs[\"train\"][\"vocab\"][0]) | set(vocabs[\"test\"][\"vocab\"][0]))"
      ]
    },
    {
      "cell_type": "code",
      "execution_count": null,
      "metadata": {
        "colab": {
          "base_uri": "https://localhost:8080/"
        },
        "id": "_0kRndSvqaKk",
        "outputId": "310111f2-0b79-4a9f-9582-e8ecab6fcd6f"
      },
      "outputs": [
        {
          "data": {
            "text/plain": [
              "{'g': 0,\n",
              " 'o': 1,\n",
              " 'd': 2,\n",
              " 'y': 3,\n",
              " 'x': 4,\n",
              " 'c': 5,\n",
              " 's': 6,\n",
              " 'i': 7,\n",
              " 'b': 8,\n",
              " 'w': 9,\n",
              " 'j': 10,\n",
              " 'r': 11,\n",
              " 'h': 12,\n",
              " 'u': 13,\n",
              " 'l': 14,\n",
              " 'v': 15,\n",
              " 'e': 16,\n",
              " 'n': 17,\n",
              " 'q': 18,\n",
              " \"'\": 19,\n",
              " 'a': 20,\n",
              " 't': 21,\n",
              " 'f': 22,\n",
              " 'k': 23,\n",
              " 'p': 24,\n",
              " 'z': 25,\n",
              " 'm': 26,\n",
              " ' ': 27}"
            ]
          },
          "execution_count": 16,
          "metadata": {},
          "output_type": "execute_result"
        }
      ],
      "source": [
        "vocab_dict = {v: k for k, v in enumerate(vocab_list)}\n",
        "vocab_dict"
      ]
    },
    {
      "cell_type": "markdown",
      "metadata": {
        "id": "JOSzbvs9SXT1"
      },
      "source": [
        "Cool, we see that all letters of the alphabet occur in the dataset (which is not really surprising) and we also extracted the special characters `\" \"` and `'`. Note that we did not exclude those special characters because:\n",
        "\n",
        "- The model has to learn to predict when a word finished or else the model prediction would always be a sequence of chars which would make it impossible to separate words from each other.\n",
        "- In English, we need to keep the `'` character to differentiate between words, *e.g.*, `\"it's\"` and `\"its\"` which have very different meanings."
      ]
    },
    {
      "cell_type": "markdown",
      "metadata": {
        "id": "b1fBRCn-TRaO"
      },
      "source": [
        "To make it clearer that `\" \"` has its own token class, we give it a more visible character `|`. In addition, we also add an \"unknown\" token so that the model can later deal with characters not encountered in Timit's training set.\n",
        "\n",
        "Finally, we also add a padding token that corresponds to CTC's \"*blank token*\". The \"blank token\" is a core component of the CTC algorithm. For more information, please take a look at the \"Alignment\" section [here](https://distill.pub/2017/ctc/)."
      ]
    },
    {
      "cell_type": "code",
      "execution_count": null,
      "metadata": {
        "id": "npbIbBoLgaFX"
      },
      "outputs": [],
      "source": [
        "vocab_dict[\"|\"] = vocab_dict[\" \"]\n",
        "del vocab_dict[\" \"]"
      ]
    },
    {
      "cell_type": "code",
      "execution_count": null,
      "metadata": {
        "colab": {
          "base_uri": "https://localhost:8080/"
        },
        "id": "znF0bNunsjbl",
        "outputId": "b8a99b75-8414-47f0-804d-a7e442b29000"
      },
      "outputs": [
        {
          "data": {
            "text/plain": [
              "30"
            ]
          },
          "execution_count": 18,
          "metadata": {},
          "output_type": "execute_result"
        }
      ],
      "source": [
        "vocab_dict[\"[UNK]\"] = len(vocab_dict)\n",
        "vocab_dict[\"[PAD]\"] = len(vocab_dict)\n",
        "len(vocab_dict)"
      ]
    },
    {
      "cell_type": "markdown",
      "metadata": {
        "id": "SFPGfet8U5sL"
      },
      "source": [
        "Cool, now our vocabulary is complete and consists of 30 tokens, which means that the linear layer that we will add on top of the pretrained Wav2Vec2 checkpoint will have an output dimension of 30."
      ]
    },
    {
      "cell_type": "markdown",
      "metadata": {
        "id": "1CujRgBNVRaD"
      },
      "source": [
        "Let's now save the vocabulary as a json file."
      ]
    },
    {
      "cell_type": "code",
      "execution_count": null,
      "metadata": {
        "id": "ehyUoh9vk191"
      },
      "outputs": [],
      "source": [
        "import json\n",
        "with open('vocab.json', 'w') as vocab_file:\n",
        "    json.dump(vocab_dict, vocab_file)"
      ]
    },
    {
      "cell_type": "markdown",
      "metadata": {
        "id": "SHJDaKlIVVim"
      },
      "source": [
        "In a final step, we use the json file to instantiate an object of the `Wav2Vec2CTCTokenizer` class."
      ]
    },
    {
      "cell_type": "code",
      "execution_count": null,
      "metadata": {
        "id": "xriFGEWQkO4M"
      },
      "outputs": [],
      "source": [
        "from transformers import Wav2Vec2CTCTokenizer\n",
        "\n",
        "tokenizer = Wav2Vec2CTCTokenizer(\"./vocab.json\", unk_token=\"[UNK]\", pad_token=\"[PAD]\", word_delimiter_token=\"|\")"
      ]
    },
    {
      "cell_type": "markdown",
      "metadata": {
        "id": "P6L2EVWwIazG"
      },
      "source": [
        "If one wants to re-use the just created tokenizer with the fine-tuned model of this notebook, it is strongly advised to upload the `tokenizer` to the [🤗 Hub](https://huggingface.co/). Let's call the repo to which we will upload the files\n",
        "`\"wav2vec2-base-timit-demo-colab\"`:"
      ]
    },
    {
      "cell_type": "code",
      "execution_count": null,
      "metadata": {
        "id": "1mbffBdxIl0M"
      },
      "outputs": [],
      "source": [
        "repo_name = \"wav2vec2-base-timit-demo-google-colab\""
      ]
    },
    {
      "cell_type": "markdown",
      "metadata": {
        "id": "pmpG2ftFIu3B"
      },
      "source": [
        "and upload the tokenizer to the [🤗 Hub](https://huggingface.co/)."
      ]
    },
    {
      "cell_type": "markdown",
      "metadata": {
        "id": "KvL12DrNV4cx"
      },
      "source": [
        "Great, you can see the just created repository under `https://huggingface.co/<your-username>/wav2vec2-base-timit-demo-colab`"
      ]
    },
    {
      "cell_type": "markdown",
      "metadata": {
        "id": "mYcIiR2FQ96i"
      },
      "source": [
        "### Create Wav2Vec2 Feature Extractor"
      ]
    },
    {
      "cell_type": "markdown",
      "metadata": {
        "id": "Y6mDEyW719rx"
      },
      "source": [
        "Speech is a continuous signal and to be treated by computers, it first has to be discretized, which is usually called **sampling**. The sampling rate hereby plays an important role in that it defines how many data points of the speech signal are measured per second. Therefore, sampling with a higher sampling rate results in a better approximation of the *real* speech signal but also necessitates more values per second.\n",
        "\n",
        "A pretrained checkpoint expects its input data to have been sampled more or less from the same distribution as the data it was trained on. The same speech signals sampled at two different rates have a very different distribution, *e.g.*, doubling the sampling rate results in data points being twice as long. Thus,\n",
        "before fine-tuning a pretrained checkpoint of an ASR model, it is crucial to verify that the sampling rate of the data that was used to pretrain the model matches the sampling rate of the dataset used to fine-tune the model.\n",
        "\n",
        "Wav2Vec2 was pretrained on the audio data of [LibriSpeech](https://huggingface.co/datasets/librispeech_asr) and LibriVox which both were sampling with 16kHz. Our fine-tuning dataset, [Timit](hhtps://huggingface.co/datasets/timit_asr), was luckily also sampled with 16kHz. If the fine-tuning dataset would have been sampled with a rate lower or higher than 16kHz, we first would have had to up or downsample the speech signal to match the sampling rate of the data used for pretraining.\n",
        "\n"
      ]
    },
    {
      "cell_type": "markdown",
      "metadata": {
        "id": "KuUbPW7oV-B5"
      },
      "source": [
        "A Wav2Vec2 feature extractor object requires the following parameters to be instantiated:\n",
        "\n",
        "- `feature_size`: Speech models take a sequence of feature vectors as an input. While the length of this sequence obviously varies, the feature size should not. In the case of Wav2Vec2, the feature size is 1 because the model was trained on the raw speech signal ${}^2$.\n",
        "- `sampling_rate`: The sampling rate at which the model is trained on.\n",
        "- `padding_value`: For batched inference, shorter inputs need to be padded with a specific value\n",
        "- `do_normalize`: Whether the input should be *zero-mean-unit-variance* normalized or not. Usually, speech models perform better when normalizing the input\n",
        "- `return_attention_mask`: Whether the model should make use of an `attention_mask` for batched inference. In general, models should **always** make use of the `attention_mask` to mask padded tokens. However, due to a very specific design choice of `Wav2Vec2`'s \"base\" checkpoint, better results are achieved when using no `attention_mask`. This is **not** recommended for other speech models. For more information, one can take a look at [this](https://github.com/pytorch/fairseq/issues/3227) issue. **Important** If you want to use this notebook to fine-tune [large-lv60](https://huggingface.co/facebook/wav2vec2-large-lv60), this parameter should be set to `True`."
      ]
    },
    {
      "cell_type": "code",
      "execution_count": null,
      "metadata": {
        "id": "kAR0-2KLkopp"
      },
      "outputs": [],
      "source": [
        "from transformers import Wav2Vec2FeatureExtractor\n",
        "\n",
        "feature_extractor = Wav2Vec2FeatureExtractor(feature_size=1, sampling_rate=16000, padding_value=0.0, do_normalize=True, return_attention_mask=False)"
      ]
    },
    {
      "cell_type": "markdown",
      "metadata": {
        "id": "qUETetgqYC3W"
      },
      "source": [
        "Great, Wav2Vec2's feature extraction pipeline is thereby fully defined!\n",
        "\n",
        "To make the usage of Wav2Vec2 as user-friendly as possible, the feature extractor and tokenizer are *wrapped* into a single `Wav2Vec2Processor` class so that one only needs a `model` and `processor` object."
      ]
    },
    {
      "cell_type": "code",
      "execution_count": null,
      "metadata": {
        "id": "KYZtoW-tlZgl"
      },
      "outputs": [],
      "source": [
        "from transformers import Wav2Vec2Processor\n",
        "\n",
        "processor = Wav2Vec2Processor(feature_extractor=feature_extractor, tokenizer=tokenizer)"
      ]
    },
    {
      "cell_type": "markdown",
      "metadata": {
        "id": "DrKnYuvDIoOO"
      },
      "source": [
        "Next, we can prepare the dataset."
      ]
    },
    {
      "cell_type": "markdown",
      "metadata": {
        "id": "YFmShnl7RE35"
      },
      "source": [
        "### Preprocess Data\n",
        "\n",
        "So far, we have not looked at the actual values of the speech signal but just the transcription. In addition to `'text'`, our datasets include two more column names `'file'` and `'audio'`. `'file'` states the absolute path of the audio file. Let's take a look."
      ]
    },
    {
      "cell_type": "code",
      "execution_count": null,
      "metadata": {
        "colab": {
          "base_uri": "https://localhost:8080/",
          "height": 35
        },
        "id": "TTCS7W6XJ9BG",
        "outputId": "d5d6e239-b109-4b2b-9a62-f1b23f754433"
      },
      "outputs": [
        {
          "data": {
            "application/vnd.google.colaboratory.intrinsic+json": {
              "type": "string"
            },
            "text/plain": [
              "'/root/.cache/huggingface/datasets/downloads/extracted/404950a46da14eac65eb4e2a8317b1372fb3971d980d91d5d5b221275b1fd7e0/data/TRAIN/DR4/MMDM0/SI681.WAV'"
            ]
          },
          "execution_count": 24,
          "metadata": {},
          "output_type": "execute_result"
        }
      ],
      "source": [
        "timit[\"train\"][0][\"file\"]"
      ]
    },
    {
      "cell_type": "markdown",
      "metadata": {
        "id": "BwxprOw4Nzrl"
      },
      "source": [
        "`Wav2Vec2` expects the input in the format of a 1-dimensional array of 16 kHz. This means that the audio file has to be loaded and resampled.\n",
        "\n",
        " Thankfully, `datasets` does this automatically when calling the column `audio`. Let try it out."
      ]
    },
    {
      "cell_type": "code",
      "execution_count": null,
      "metadata": {
        "colab": {
          "base_uri": "https://localhost:8080/"
        },
        "id": "mk9QHuSsN7lf",
        "outputId": "beb08435-f986-4f28-8660-396377695838"
      },
      "outputs": [
        {
          "data": {
            "text/plain": [
              "{'path': '/root/.cache/huggingface/datasets/downloads/extracted/404950a46da14eac65eb4e2a8317b1372fb3971d980d91d5d5b221275b1fd7e0/data/TRAIN/DR4/MMDM0/SI681.WAV',\n",
              " 'array': array([-2.1362305e-04,  6.1035156e-05,  3.0517578e-05, ...,\n",
              "        -3.0517578e-05, -9.1552734e-05, -6.1035156e-05], dtype=float32),\n",
              " 'sampling_rate': 16000}"
            ]
          },
          "execution_count": 25,
          "metadata": {},
          "output_type": "execute_result"
        }
      ],
      "source": [
        "timit[\"train\"][0][\"audio\"]"
      ]
    },
    {
      "cell_type": "markdown",
      "metadata": {
        "id": "wSBIGEiaKHMn"
      },
      "source": [
        "We can see that the audio file has automatically been loaded. This is thanks to the new [`\"Audio\"` feature](https://huggingface.co/docs/datasets/package_reference/main_classes.html?highlight=audio#datasets.Audio) introduced in `datasets == 4.13.3`, which loads and resamples audio files on-the-fly upon calling.\n",
        "\n",
        "The sampling rate is set to 16kHz which is what `Wav2Vec2` expects as an input."
      ]
    },
    {
      "cell_type": "markdown",
      "metadata": {
        "id": "SOckzFd4Mbzq"
      },
      "source": [
        "Great, let's listen to a couple of audio files to better understand the dataset and verify that the audio was correctly loaded.\n",
        "\n",
        "**Note**: *You can click the following cell a couple of times to listen to different speech samples.*"
      ]
    },
    {
      "cell_type": "code",
      "execution_count": null,
      "metadata": {
        "colab": {
          "base_uri": "https://localhost:8080/",
          "height": 79
        },
        "id": "dueM6U7Ev0OA",
        "outputId": "a6e2aee9-618c-4b95-8f29-a686aa3cbc91"
      },
      "outputs": [
        {
          "name": "stdout",
          "output_type": "stream",
          "text": [
            "she had your dark suit in greasy wash water all year \n"
          ]
        },
        {
          "data": {
            "text/html": [
              "\n",
              "                <audio  controls=\"controls\" autoplay=\"autoplay\">\n",
              "                    <source src=\"data:audio/wav;base64,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\" type=\"audio/wav\" />\n",
              "                    Your browser does not support the audio element.\n",
              "                </audio>\n",
              "              "
            ],
            "text/plain": [
              "<IPython.lib.display.Audio object>"
            ]
          },
          "execution_count": 26,
          "metadata": {},
          "output_type": "execute_result"
        }
      ],
      "source": [
        "import IPython.display as ipd\n",
        "import numpy as np\n",
        "import random\n",
        "\n",
        "rand_int = random.randint(0, len(timit[\"train\"]))\n",
        "\n",
        "print(timit[\"train\"][rand_int][\"text\"])\n",
        "ipd.Audio(data=np.asarray(timit[\"train\"][rand_int][\"audio\"][\"array\"]), autoplay=True, rate=16000)"
      ]
    },
    {
      "cell_type": "markdown",
      "metadata": {
        "id": "1MaL9J2dNVtG"
      },
      "source": [
        "It can be heard, that the speakers change along with their speaking rate, accent, etc. Overall, the recordings sound relatively clear though, which is to be expected from a read speech corpus.\n",
        "\n",
        "Let's do a final check that the data is correctly prepared, by printing the shape of the speech input, its transcription, and the corresponding sampling rate.\n",
        "\n",
        "**Note**: *You can click the following cell a couple of times to verify multiple samples.*"
      ]
    },
    {
      "cell_type": "code",
      "execution_count": null,
      "metadata": {
        "colab": {
          "base_uri": "https://localhost:8080/"
        },
        "id": "1Po2g7YPuRTx",
        "outputId": "20b773d0-b275-4de7-97c9-91ec05420edc"
      },
      "outputs": [
        {
          "name": "stdout",
          "output_type": "stream",
          "text": [
            "Target text: look for these features which may mean you can save duplicate coverage \n",
            "Input array shape: (75469,)\n",
            "Sampling rate: 16000\n"
          ]
        }
      ],
      "source": [
        "rand_int = random.randint(0, len(timit[\"train\"]))\n",
        "\n",
        "print(\"Target text:\", timit[\"train\"][rand_int][\"text\"])\n",
        "print(\"Input array shape:\", np.asarray(timit[\"train\"][rand_int][\"audio\"][\"array\"]).shape)\n",
        "print(\"Sampling rate:\", timit[\"train\"][rand_int][\"audio\"][\"sampling_rate\"])"
      ]
    },
    {
      "cell_type": "markdown",
      "metadata": {
        "id": "M9teZcSwOBJ4"
      },
      "source": [
        "Good! Everything looks fine - the data is a 1-dimensional array, the sampling rate always corresponds to 16kHz, and the target text is normalized."
      ]
    },
    {
      "cell_type": "markdown",
      "metadata": {
        "id": "k3Pbn5WvOYZF"
      },
      "source": [
        "Finally, we can process the dataset to the format expected by the model for training. We will make use of the `map(...)` function.\n",
        "\n",
        "First, we load and resample the audio data, simply by calling `batch[\"audio\"]`.\n",
        "Second, we extract the `input_values` from the loaded audio file. In our case, the `Wav2Vec2Processor` only normalizes the data. For other speech models, however, this step can include more complex feature extraction, such as [Log-Mel feature extraction](https://en.wikipedia.org/wiki/Mel-frequency_cepstrum).\n",
        "Third, we encode the transcriptions to label ids.\n",
        "\n",
        "**Note**: This mapping function is a good example of how the `Wav2Vec2Processor` class should be used. In \"normal\" context, calling `processor(...)` is redirected to `Wav2Vec2FeatureExtractor`'s call method. When wrapping the processor into the `as_target_processor` context, however, the same method is redirected to `Wav2Vec2CTCTokenizer`'s call method.\n",
        "For more information please check the [docs](https://huggingface.co/transformers/master/model_doc/wav2vec2.html#transformers.Wav2Vec2Processor.__call__)."
      ]
    },
    {
      "cell_type": "code",
      "execution_count": null,
      "metadata": {
        "id": "eJY7I0XAwe9p"
      },
      "outputs": [],
      "source": [
        "def prepare_dataset(batch):\n",
        "    audio = batch[\"audio\"]\n",
        "\n",
        "    # batched output is \"un-batched\" to ensure mapping is correct\n",
        "    batch[\"input_values\"] = processor(audio[\"array\"], sampling_rate=audio[\"sampling_rate\"]).input_values[0]\n",
        "    batch[\"input_length\"] = len(batch[\"input_values\"])\n",
        "\n",
        "    with processor.as_target_processor():\n",
        "        batch[\"labels\"] = processor(batch[\"text\"]).input_ids\n",
        "    return batch"
      ]
    },
    {
      "cell_type": "markdown",
      "metadata": {
        "id": "hVMZhH4-nP8-"
      },
      "source": [
        "Let's apply the data preparation function to all examples."
      ]
    },
    {
      "cell_type": "code",
      "execution_count": null,
      "metadata": {
        "id": "-np9xYK-wl8q"
      },
      "outputs": [],
      "source": [
        "timit = timit.map(prepare_dataset, remove_columns=timit.column_names[\"train\"], num_proc=4)"
      ]
    },
    {
      "cell_type": "markdown",
      "metadata": {
        "id": "p_MuJSH8nTuQ"
      },
      "source": [
        "**Note**: Currently `datasets` make use of [`torchaudio`](https://pytorch.org/audio/stable/index.html) and [`librosa`](https://librosa.org/doc/latest/index.html) for audio loading and resampling. If you wish to implement your own costumized data loading/sampling, feel free to just make use of the `\"path\"` column instead and disregard the `\"audio\"` column."
      ]
    },
    {
      "cell_type": "markdown",
      "metadata": {
        "id": "M4J0bU1WsvAg"
      },
      "source": [
        "Long input sequences require a lot of memory. Since `Wav2Vec2` is based on `self-attention` the memory requirement scales quadratically with the input length for long input sequences (*cf.* with [this](https://www.reddit.com/r/MachineLearning/comments/genjvb/d_why_is_the_maximum_input_sequence_length_of/) reddit post). For this demo, let's filter all sequences that are longer than 4 seconds out of the training dataset."
      ]
    },
    {
      "cell_type": "code",
      "execution_count": null,
      "metadata": {
        "colab": {
          "base_uri": "https://localhost:8080/",
          "height": 49,
          "referenced_widgets": [
            "7006ee29b4ef406381b7fbd117b4b333",
            "c4960a24842040638dc4f7a81b737d6f",
            "2cb200945757448abb65d4af8fe4b95f",
            "d11bbf7a3d924028958d5bcc0a72e122",
            "374e9b6e9fcc45eabe84ae0c9f286546",
            "fcd185b60d6e4e60a8ab964aac262f73",
            "46b49c05ae70468cbe834a11a86c53ee",
            "480805c0a342489dbe01eef7aa1a9b65",
            "c7729e98d977430a8a85243bab1dc83d",
            "b55fea5b10694c8cb1aa93622170ff8c",
            "362150e5ee6b409381c9a3f2c4199186"
          ]
        },
        "id": "nqGobEPUvG3v",
        "outputId": "fafa598d-49a2-4ba3-cadb-8be5817944f0"
      },
      "outputs": [
        {
          "data": {
            "application/vnd.jupyter.widget-view+json": {
              "model_id": "7006ee29b4ef406381b7fbd117b4b333",
              "version_major": 2,
              "version_minor": 0
            },
            "text/plain": [
              "  0%|          | 0/5 [00:00<?, ?ba/s]"
            ]
          },
          "metadata": {},
          "output_type": "display_data"
        }
      ],
      "source": [
        "max_input_length_in_sec = 4.0\n",
        "timit[\"train\"] = timit[\"train\"].filter(lambda x: x < max_input_length_in_sec * processor.feature_extractor.sampling_rate, input_columns=[\"input_length\"])"
      ]
    },
    {
      "cell_type": "markdown",
      "metadata": {
        "id": "25Genil2v_Br"
      },
      "source": [
        "Awesome, now we are ready to start training!"
      ]
    },
    {
      "cell_type": "markdown",
      "metadata": {
        "id": "gYlQkKVoRUos"
      },
      "source": [
        "## Training & Evaluation\n",
        "\n",
        "The data is processed so that we are ready to start setting up the training pipeline. We will make use of 🤗's [Trainer](https://huggingface.co/transformers/master/main_classes/trainer.html?highlight=trainer) for which we essentially need to do the following:\n",
        "\n",
        "- Define a data collator. In contrast to most NLP models, Wav2Vec2 has a much larger input length than output length. *E.g.*, a sample of input length 50000 has an output length of no more than 100. Given the large input sizes, it is much more efficient to pad the training batches dynamically meaning that all training samples should only be padded to the longest sample in their batch and not the overall longest sample. Therefore, fine-tuning Wav2Vec2 requires a special padding data collator, which we will define below\n",
        "\n",
        "- Evaluation metric. During training, the model should be evaluated on the word error rate. We should define a `compute_metrics` function accordingly\n",
        "\n",
        "- Load a pretrained checkpoint. We need to load a pretrained checkpoint and configure it correctly for training.\n",
        "\n",
        "- Define the training configuration.\n",
        "\n",
        "After having fine-tuned the model, we will correctly evaluate it on the test data and verify that it has indeed learned to correctly transcribe speech."
      ]
    },
    {
      "cell_type": "markdown",
      "metadata": {
        "id": "Slk403unUS91"
      },
      "source": [
        "### Set-up Trainer\n",
        "\n",
        "Let's start by defining the data collator. The code for the data collator was copied from [this example](https://github.com/huggingface/transformers/blob/9a06b6b11bdfc42eea08fa91d0c737d1863c99e3/examples/research_projects/wav2vec2/run_asr.py#L81).\n",
        "\n",
        "Without going into too many details, in contrast to the common data collators, this data collator treats the `input_values` and `labels` differently and thus applies to separate padding functions on them (again making use of Wav2Vec2's context manager). This is necessary because in speech input and output are of different modalities meaning that they should not be treated by the same padding function.\n",
        "Analogous to the common data collators, the padding tokens in the labels with `-100` so that those tokens are **not** taken into account when computing the loss."
      ]
    },
    {
      "cell_type": "code",
      "execution_count": null,
      "metadata": {
        "id": "tborvC9hx88e"
      },
      "outputs": [],
      "source": [
        "import torch\n",
        "\n",
        "from dataclasses import dataclass, field\n",
        "from typing import Any, Dict, List, Optional, Union\n",
        "\n",
        "@dataclass\n",
        "class DataCollatorCTCWithPadding:\n",
        "    \"\"\"\n",
        "    Data collator that will dynamically pad the inputs received.\n",
        "    Args:\n",
        "        processor (:class:`~transformers.Wav2Vec2Processor`)\n",
        "            The processor used for proccessing the data.\n",
        "        padding (:obj:`bool`, :obj:`str` or :class:`~transformers.tokenization_utils_base.PaddingStrategy`, `optional`, defaults to :obj:`True`):\n",
        "            Select a strategy to pad the returned sequences (according to the model's padding side and padding index)\n",
        "            among:\n",
        "            * :obj:`True` or :obj:`'longest'`: Pad to the longest sequence in the batch (or no padding if only a single\n",
        "              sequence if provided).\n",
        "            * :obj:`'max_length'`: Pad to a maximum length specified with the argument :obj:`max_length` or to the\n",
        "              maximum acceptable input length for the model if that argument is not provided.\n",
        "            * :obj:`False` or :obj:`'do_not_pad'` (default): No padding (i.e., can output a batch with sequences of\n",
        "              different lengths).\n",
        "    \"\"\"\n",
        "\n",
        "    processor: Wav2Vec2Processor\n",
        "    padding: Union[bool, str] = True\n",
        "\n",
        "    def __call__(self, features: List[Dict[str, Union[List[int], torch.Tensor]]]) -> Dict[str, torch.Tensor]:\n",
        "        # split inputs and labels since they have to be of different lenghts and need\n",
        "        # different padding methods\n",
        "        input_features = [{\"input_values\": feature[\"input_values\"]} for feature in features]\n",
        "        label_features = [{\"input_ids\": feature[\"labels\"]} for feature in features]\n",
        "\n",
        "        batch = self.processor.pad(\n",
        "            input_features,\n",
        "            padding=self.padding,\n",
        "            return_tensors=\"pt\",\n",
        "        )\n",
        "        with self.processor.as_target_processor():\n",
        "            labels_batch = self.processor.pad(\n",
        "                label_features,\n",
        "                padding=self.padding,\n",
        "                return_tensors=\"pt\",\n",
        "            )\n",
        "\n",
        "        # replace padding with -100 to ignore loss correctly\n",
        "        labels = labels_batch[\"input_ids\"].masked_fill(labels_batch.attention_mask.ne(1), -100)\n",
        "\n",
        "        batch[\"labels\"] = labels\n",
        "\n",
        "        return batch"
      ]
    },
    {
      "cell_type": "code",
      "execution_count": null,
      "metadata": {
        "id": "lbQf5GuZyQ4_"
      },
      "outputs": [],
      "source": [
        "data_collator = DataCollatorCTCWithPadding(processor=processor, padding=True)"
      ]
    },
    {
      "cell_type": "markdown",
      "metadata": {
        "id": "xO-Zdj-5cxXp"
      },
      "source": [
        "Next, the evaluation metric is defined. As mentioned earlier, the\n",
        "predominant metric in ASR is the word error rate (WER), hence we will use it in this notebook as well."
      ]
    },
    {
      "cell_type": "code",
      "execution_count": null,
      "metadata": {
        "colab": {
          "base_uri": "https://localhost:8080/",
          "height": 49,
          "referenced_widgets": [
            "e2df8e697e9c4f64a2bba0b6de2e8d49",
            "334975266d804748874f5d5621af50ba",
            "ab4a2cca2b404d25b2cda485c7c28077",
            "c781acd05e244750a8084992acc4ac2c",
            "1cb0c8f214cc4de791e49af3c793380a",
            "b51bb202d2214ff28d2a4cd7216443a7",
            "c3a76df48c1f46a6a588babaadaafce2",
            "da8639f433da4cefa2affd438ac18c89",
            "f4cfe55a73c141ef9b751d0db992d3cf",
            "8da462790a6d4fbb9251290bd9ee14f0",
            "fe31c534d6cd46da8b6a640e039a4d6c"
          ]
        },
        "id": "9Xsux2gmyXso",
        "outputId": "c8d63dfd-b8a9-453e-8ff6-276c6034cc54"
      },
      "outputs": [
        {
          "data": {
            "application/vnd.jupyter.widget-view+json": {
              "model_id": "e2df8e697e9c4f64a2bba0b6de2e8d49",
              "version_major": 2,
              "version_minor": 0
            },
            "text/plain": [
              "Downloading:   0%|          | 0.00/1.90k [00:00<?, ?B/s]"
            ]
          },
          "metadata": {},
          "output_type": "display_data"
        }
      ],
      "source": [
        "wer_metric = load_metric(\"wer\")"
      ]
    },
    {
      "cell_type": "markdown",
      "metadata": {
        "id": "E1qZU5p-deqB"
      },
      "source": [
        "The model will return a sequence of logit vectors:\n",
        "$\\mathbf{y}_1, \\ldots, \\mathbf{y}_m$ with $\\mathbf{y}_1 = f_{\\theta}(x_1, \\ldots, x_n)[0]$ and $n >> m$.\n",
        "\n",
        "A logit vector $\\mathbf{y}_1$ contains the log-odds for each word in the vocabulary we defined earlier, thus $\\text{len}(\\mathbf{y}_i) =$ `config.vocab_size`. We are interested in the most likely prediction of the model and thus take the `argmax(...)` of the logits. Also, we transform the encoded labels back to the original string by replacing `-100` with the `pad_token_id` and decoding the ids while making sure that consecutive tokens are **not** grouped to the same token in CTC style ${}^1$."
      ]
    },
    {
      "cell_type": "code",
      "execution_count": null,
      "metadata": {
        "id": "1XZ-kjweyTy_"
      },
      "outputs": [],
      "source": [
        "def compute_metrics(pred):\n",
        "    pred_logits = pred.predictions\n",
        "    pred_ids = np.argmax(pred_logits, axis=-1)\n",
        "\n",
        "    pred.label_ids[pred.label_ids == -100] = processor.tokenizer.pad_token_id\n",
        "\n",
        "    pred_str = processor.batch_decode(pred_ids)\n",
        "    # we do not want to group tokens when computing the metrics\n",
        "    label_str = processor.batch_decode(pred.label_ids, group_tokens=False)\n",
        "\n",
        "    wer = wer_metric.compute(predictions=pred_str, references=label_str)\n",
        "\n",
        "    return {\"wer\": wer}"
      ]
    },
    {
      "cell_type": "markdown",
      "metadata": {
        "id": "Xmgrx4bRwLIH"
      },
      "source": [
        "Now, we can load the pretrained `Wav2Vec2` checkpoint. The tokenizer's `pad_token_id` must be to define the model's `pad_token_id` or in the case of `Wav2Vec2ForCTC` also CTC's *blank token* ${}^2$. To save GPU memory, we enable PyTorch's [gradient checkpointing](https://pytorch.org/docs/stable/checkpoint.html) and also set the loss reduction to \"*mean*\"."
      ]
    },
    {
      "cell_type": "code",
      "execution_count": null,
      "metadata": {
        "colab": {
          "base_uri": "https://localhost:8080/",
          "height": 223,
          "referenced_widgets": [
            "e57c5cbc0380464994c4a5b42de76c66",
            "47d42cc391cd46049052a802e46364b6",
            "2a49340e51fc4054a2616d1990109d7c",
            "5c09a1875b4f4cc2b3cf64a52b4fd8b8",
            "7664d4cd39254acfb97b63a3331c8b25",
            "b92aa97e7bf4400c8e1314fd9cd6360c",
            "ae02bea4efb44660aa5718e913f38d1d",
            "bd85d28cc40142998b42434a705de501",
            "7a913dfa92e7410f8304bd12b186671e",
            "2e4870ab55404beaafde980d48618ed7",
            "b85b4466791b4764ab4ef51f90281e9f",
            "96fb47902431425f86a6a5ab760c92d3",
            "4d26ca1886f0449ea7bd6b4c8de7ab24",
            "e610d02445bd4e5e9b4783658f058147",
            "8a07f08956924a38b2a57f70b0fbeead",
            "39a54ded218f48048321c604eece88d9",
            "b27cb4080cb642739729fed51ee8c3ad",
            "8ba99977f5d64f69820c6cb91020848c",
            "41761888fc3547bf81907d84c07cd964",
            "d2174b1613f54697a70a519f40b5aee8",
            "33d85e2daf4e45e48d1eb5dbf86cd4b6",
            "05de8b07f5a54cdaabb7ad3de4a032b3"
          ]
        },
        "id": "e7cqAWIayn6w",
        "outputId": "e0c7e9ba-db20-4128-bf9a-7d377aa3eb77"
      },
      "outputs": [
        {
          "data": {
            "application/vnd.jupyter.widget-view+json": {
              "model_id": "e57c5cbc0380464994c4a5b42de76c66",
              "version_major": 2,
              "version_minor": 0
            },
            "text/plain": [
              "Downloading: 0.00B [00:00, ?B/s]"
            ]
          },
          "metadata": {},
          "output_type": "display_data"
        },
        {
          "name": "stderr",
          "output_type": "stream",
          "text": [
            "/usr/local/lib/python3.10/dist-packages/transformers/configuration_utils.py:356: UserWarning: Passing `gradient_checkpointing` to a config initialization is deprecated and will be removed in v5 Transformers. Using `model.gradient_checkpointing_enable()` instead, or if you are using the `Trainer` API, pass `gradient_checkpointing=True` in your `TrainingArguments`.\n",
            "  warnings.warn(\n"
          ]
        },
        {
          "data": {
            "application/vnd.jupyter.widget-view+json": {
              "model_id": "96fb47902431425f86a6a5ab760c92d3",
              "version_major": 2,
              "version_minor": 0
            },
            "text/plain": [
              "Downloading:   0%|          | 0.00/363M [00:00<?, ?B/s]"
            ]
          },
          "metadata": {},
          "output_type": "display_data"
        },
        {
          "name": "stderr",
          "output_type": "stream",
          "text": [
            "Some weights of the model checkpoint at facebook/wav2vec2-base were not used when initializing Wav2Vec2ForCTC: ['project_q.weight', 'project_hid.bias', 'project_q.bias', 'quantizer.weight_proj.weight', 'project_hid.weight', 'quantizer.codevectors', 'quantizer.weight_proj.bias']\n",
            "- This IS expected if you are initializing Wav2Vec2ForCTC from the checkpoint of a model trained on another task or with another architecture (e.g. initializing a BertForSequenceClassification model from a BertForPreTraining model).\n",
            "- This IS NOT expected if you are initializing Wav2Vec2ForCTC from the checkpoint of a model that you expect to be exactly identical (initializing a BertForSequenceClassification model from a BertForSequenceClassification model).\n",
            "Some weights of Wav2Vec2ForCTC were not initialized from the model checkpoint at facebook/wav2vec2-base and are newly initialized: ['lm_head.bias', 'lm_head.weight']\n",
            "You should probably TRAIN this model on a down-stream task to be able to use it for predictions and inference.\n"
          ]
        }
      ],
      "source": [
        "from transformers import Wav2Vec2ForCTC\n",
        "\n",
        "model = Wav2Vec2ForCTC.from_pretrained(\n",
        "    \"facebook/wav2vec2-base\",\n",
        "    ctc_loss_reduction=\"mean\",\n",
        "    pad_token_id=processor.tokenizer.pad_token_id,\n",
        ")"
      ]
    },
    {
      "cell_type": "markdown",
      "metadata": {
        "id": "1DwR3XLSzGDD"
      },
      "source": [
        "The first component of Wav2Vec2 consists of a stack of CNN layers that are used to extract acoustically meaningful - but contextually independent - features from the raw speech signal. This part of the model has already been sufficiently trained during pretrainind and as stated in the [paper](https://arxiv.org/abs/2006.11477) does not need to be fine-tuned anymore.\n",
        "Thus, we can set the `requires_grad` to `False` for all parameters of the *feature extraction* part."
      ]
    },
    {
      "cell_type": "code",
      "execution_count": null,
      "metadata": {
        "id": "Et_NUAZjWppc"
      },
      "outputs": [],
      "source": [
        "model.freeze_feature_encoder()"
      ]
    },
    {
      "cell_type": "markdown",
      "metadata": {
        "id": "lD4aGhQM0K-D"
      },
      "source": [
        "In a final step, we define all parameters related to training.\n",
        "To give more explanation on some of the parameters:\n",
        "- `group_by_length` makes training more efficient by grouping training samples of similar input length into one batch. This can significantly speed up training time by heavily reducing the overall number of useless padding tokens that are passed through the model\n",
        "- `learning_rate` and `weight_decay` were heuristically tuned until fine-tuning has become stable. Note that those parameters strongly depend on the Timit dataset and might be suboptimal for other speech datasets.\n",
        "\n",
        "For more explanations on other parameters, one can take a look at the [docs](https://huggingface.co/transformers/master/main_classes/trainer.html?highlight=trainer#trainingarguments).\n",
        "\n",
        "During training, a checkpoint will be uploaded asynchronously to the hub every 400 training steps. It allows you to also play around with the demo widget even while your model is still training.\n",
        "\n",
        "**Note**: If one does not want to upload the model checkpoints to the hub, simply set `push_to_hub=False`."
      ]
    },
    {
      "cell_type": "code",
      "execution_count": null,
      "metadata": {
        "id": "KbeKSV7uzGPP"
      },
      "outputs": [],
      "source": [
        "from transformers import TrainingArguments\n",
        "\n",
        "training_args = TrainingArguments(\n",
        "  output_dir=repo_name,\n",
        "  group_by_length=True,\n",
        "  per_device_train_batch_size=8,\n",
        "  evaluation_strategy=\"steps\",\n",
        "  num_train_epochs=30,\n",
        "  fp16=True,\n",
        "  gradient_checkpointing=True,\n",
        "  save_steps=500,\n",
        "  eval_steps=500,\n",
        "  logging_steps=500,\n",
        "  learning_rate=1e-4,\n",
        "  weight_decay=0.005,\n",
        "  warmup_steps=1000,\n",
        "  save_total_limit=2,\n",
        ")"
      ]
    },
    {
      "cell_type": "markdown",
      "metadata": {
        "id": "OsW-WZcL1ZtN"
      },
      "source": [
        "Now, all instances can be passed to Trainer and we are ready to start training!"
      ]
    },
    {
      "cell_type": "code",
      "execution_count": null,
      "metadata": {
        "colab": {
          "base_uri": "https://localhost:8080/"
        },
        "id": "rY7vBmFCPFgC",
        "outputId": "26901f74-4187-4a33-b00c-94861a6059b3"
      },
      "outputs": [
        {
          "name": "stderr",
          "output_type": "stream",
          "text": [
            "Using amp half precision backend\n"
          ]
        }
      ],
      "source": [
        "from transformers import Trainer\n",
        "\n",
        "trainer = Trainer(\n",
        "    model=model,\n",
        "    data_collator=data_collator,\n",
        "    args=training_args,\n",
        "    compute_metrics=compute_metrics,\n",
        "    train_dataset=timit[\"train\"],\n",
        "    eval_dataset=timit[\"test\"],\n",
        "    tokenizer=processor.feature_extractor,\n",
        ")"
      ]
    },
    {
      "cell_type": "markdown",
      "metadata": {
        "id": "UoXBx1JAA0DX"
      },
      "source": [
        "\n",
        "\n",
        "---\n",
        "\n",
        "${}^1$ To allow models to become independent of the speaker rate, in CTC, consecutive tokens that are identical are simply grouped as a single token. However, the encoded labels should not be grouped when decoding since they don't correspond to the predicted tokens of the model, which is why the `group_tokens=False` parameter has to be passed. If we wouldn't pass this parameter a word like `\"hello\"` would incorrectly be encoded, and decoded as `\"helo\"`.\n",
        "\n",
        "${}^2$ The blank token allows the model to predict a word, such as `\"hello\"` by forcing it to insert the blank token between the two l's. A CTC-conform prediction of `\"hello\"` of our model would be `[PAD] [PAD] \"h\" \"e\" \"e\" \"l\" \"l\" [PAD] \"l\" \"o\" \"o\" [PAD]`."
      ]
    },
    {
      "cell_type": "markdown",
      "metadata": {
        "id": "rpvZHM1xReIW"
      },
      "source": [
        "### Training"
      ]
    },
    {
      "cell_type": "markdown",
      "metadata": {
        "id": "j-3oKSzZ1hGq"
      },
      "source": [
        "Training will take between 90 and 270 minutes depending on the GPU allocated to this notebook. While the trained model yields satisfying results on *Timit*'s test data, it is by no means an optimally fine-tuned model. The purpose of this notebook is to demonstrate how Wav2Vec2's [base](https://huggingface.co/facebook/wav2vec2-base), [large](https://huggingface.co/facebook/wav2vec2-large), and [large-lv60](https://huggingface.co/facebook/wav2vec2-large-lv60) checkpoints can be fine-tuned on any English dataset.\n",
        "\n",
        "In case you want to use this google colab to fine-tune your model, you should make sure that your training doesn't stop due to inactivity. A simple hack to prevent this is to paste the following code into the console of this tab (*right mouse click -> inspect -> Console tab and insert code*)."
      ]
    },
    {
      "cell_type": "markdown",
      "metadata": {
        "id": "VYYAvgkW4P0m"
      },
      "source": [
        "```javascript\n",
        "function ConnectButton(){\n",
        "    console.log(\"Connect pushed\");\n",
        "    document.querySelector(\"#top-toolbar > colab-connect-button\").shadowRoot.querySelector(\"#connect\").click()\n",
        "}\n",
        "setInterval(ConnectButton,60000);\n",
        "```"
      ]
    },
    {
      "cell_type": "markdown",
      "metadata": {
        "id": "PmY6yqd1zvzU"
      },
      "source": [
        "Depending on what GPU was allocated to your google colab it might be possible that you are seeing an `\"out-of-memory\"` error here. In this case, it's probably best to reduce `per_device_train_batch_size` to 16 or even less and eventually make use of [`gradient_accumulation`](https://huggingface.co/transformers/master/main_classes/trainer.html#trainingarguments)."
      ]
    },
    {
      "cell_type": "code",
      "execution_count": null,
      "metadata": {
        "colab": {
          "background_save": true,
          "base_uri": "https://localhost:8080/",
          "height": 1000
        },
        "id": "_UEjJqGsQw24",
        "outputId": "9c5a3893-c598-4eb3-d235-957cd0784ad7"
      },
      "outputs": [
        {
          "name": "stderr",
          "output_type": "stream",
          "text": [
            "The following columns in the training set  don't have a corresponding argument in `Wav2Vec2ForCTC.forward` and have been ignored: input_length. If input_length are not expected by `Wav2Vec2ForCTC.forward`,  you can safely ignore this message.\n",
            "/usr/local/lib/python3.10/dist-packages/transformers/optimization.py:306: FutureWarning: This implementation of AdamW is deprecated and will be removed in a future version. Use the PyTorch implementation torch.optim.AdamW instead, or set `no_deprecation_warning=True` to disable this warning\n",
            "  warnings.warn(\n",
            "***** Running training *****\n",
            "  Num examples = 3978\n",
            "  Num Epochs = 30\n",
            "  Instantaneous batch size per device = 8\n",
            "  Total train batch size (w. parallel, distributed & accumulation) = 8\n",
            "  Gradient Accumulation steps = 1\n",
            "  Total optimization steps = 14940\n"
          ]
        },
        {
          "data": {
            "text/html": [
              "\n",
              "    <div>\n",
              "      \n",
              "      <progress value='14940' max='14940' style='width:300px; height:20px; vertical-align: middle;'></progress>\n",
              "      [14940/14940 2:05:30, Epoch 30/30]\n",
              "    </div>\n",
              "    <table border=\"1\" class=\"dataframe\">\n",
              "  <thead>\n",
              " <tr style=\"text-align: left;\">\n",
              "      <th>Step</th>\n",
              "      <th>Training Loss</th>\n",
              "      <th>Validation Loss</th>\n",
              "      <th>Wer</th>\n",
              "    </tr>\n",
              "  </thead>\n",
              "  <tbody>\n",
              "    <tr>\n",
              "      <td>500</td>\n",
              "      <td>3.621100</td>\n",
              "      <td>2.283468</td>\n",
              "      <td>1.000000</td>\n",
              "    </tr>\n",
              "    <tr>\n",
              "      <td>1000</td>\n",
              "      <td>0.946000</td>\n",
              "      <td>0.564660</td>\n",
              "      <td>0.541107</td>\n",
              "    </tr>\n",
              "    <tr>\n",
              "      <td>1500</td>\n",
              "      <td>0.448500</td>\n",
              "      <td>0.475131</td>\n",
              "      <td>0.471022</td>\n",
              "    </tr>\n",
              "    <tr>\n",
              "      <td>2000</td>\n",
              "      <td>0.298700</td>\n",
              "      <td>0.419524</td>\n",
              "      <td>0.427744</td>\n",
              "    </tr>\n",
              "    <tr>\n",
              "      <td>2500</td>\n",
              "      <td>0.232200</td>\n",
              "      <td>0.421732</td>\n",
              "      <td>0.401489</td>\n",
              "    </tr>\n",
              "    <tr>\n",
              "      <td>3000</td>\n",
              "      <td>0.192500</td>\n",
              "      <td>0.433304</td>\n",
              "      <td>0.394942</td>\n",
              "    </tr>\n",
              "    <tr>\n",
              "      <td>3500</td>\n",
              "      <td>0.161400</td>\n",
              "      <td>0.473673</td>\n",
              "      <td>0.382331</td>\n",
              "    </tr>\n",
              "    <tr>\n",
              "      <td>4000</td>\n",
              "      <td>0.136700</td>\n",
              "      <td>0.443239</td>\n",
              "      <td>0.390945</td>\n",
              "    </tr>\n",
              "    <tr>\n",
              "      <td>4500</td>\n",
              "      <td>0.124900</td>\n",
              "      <td>0.479324</td>\n",
              "      <td>0.387499</td>\n",
              "    </tr>\n",
              "    <tr>\n",
              "      <td>5000</td>\n",
              "      <td>0.110000</td>\n",
              "      <td>0.498444</td>\n",
              "      <td>0.384122</td>\n",
              "    </tr>\n",
              "    <tr>\n",
              "      <td>5500</td>\n",
              "      <td>0.098800</td>\n",
              "      <td>0.510410</td>\n",
              "      <td>0.391772</td>\n",
              "    </tr>\n",
              "    <tr>\n",
              "      <td>6000</td>\n",
              "      <td>0.088300</td>\n",
              "      <td>0.543206</td>\n",
              "      <td>0.382882</td>\n",
              "    </tr>\n",
              "    <tr>\n",
              "      <td>6500</td>\n",
              "      <td>0.082900</td>\n",
              "      <td>0.489840</td>\n",
              "      <td>0.370340</td>\n",
              "    </tr>\n",
              "    <tr>\n",
              "      <td>7000</td>\n",
              "      <td>0.070500</td>\n",
              "      <td>0.474937</td>\n",
              "      <td>0.376542</td>\n",
              "    </tr>\n",
              "    <tr>\n",
              "      <td>7500</td>\n",
              "      <td>0.069000</td>\n",
              "      <td>0.551309</td>\n",
              "      <td>0.375577</td>\n",
              "    </tr>\n",
              "    <tr>\n",
              "      <td>8000</td>\n",
              "      <td>0.062400</td>\n",
              "      <td>0.523849</td>\n",
              "      <td>0.366963</td>\n",
              "    </tr>\n",
              "    <tr>\n",
              "      <td>8500</td>\n",
              "      <td>0.058200</td>\n",
              "      <td>0.461560</td>\n",
              "      <td>0.368410</td>\n",
              "    </tr>\n",
              "    <tr>\n",
              "      <td>9000</td>\n",
              "      <td>0.055900</td>\n",
              "      <td>0.508073</td>\n",
              "      <td>0.367032</td>\n",
              "    </tr>\n",
              "    <tr>\n",
              "      <td>9500</td>\n",
              "      <td>0.044400</td>\n",
              "      <td>0.561498</td>\n",
              "      <td>0.360416</td>\n",
              "    </tr>\n",
              "    <tr>\n",
              "      <td>10000</td>\n",
              "      <td>0.043800</td>\n",
              "      <td>0.503425</td>\n",
              "      <td>0.356075</td>\n",
              "    </tr>\n",
              "    <tr>\n",
              "      <td>10500</td>\n",
              "      <td>0.040600</td>\n",
              "      <td>0.543070</td>\n",
              "      <td>0.354696</td>\n",
              "    </tr>\n",
              "    <tr>\n",
              "      <td>11000</td>\n",
              "      <td>0.037500</td>\n",
              "      <td>0.546460</td>\n",
              "      <td>0.350079</td>\n",
              "    </tr>\n",
              "    <tr>\n",
              "      <td>11500</td>\n",
              "      <td>0.034200</td>\n",
              "      <td>0.513434</td>\n",
              "      <td>0.349252</td>\n",
              "    </tr>\n",
              "    <tr>\n",
              "      <td>12000</td>\n",
              "      <td>0.033200</td>\n",
              "      <td>0.533801</td>\n",
              "      <td>0.344980</td>\n",
              "    </tr>\n",
              "    <tr>\n",
              "      <td>12500</td>\n",
              "      <td>0.027200</td>\n",
              "      <td>0.524994</td>\n",
              "      <td>0.348632</td>\n",
              "    </tr>\n",
              "    <tr>\n",
              "      <td>13000</td>\n",
              "      <td>0.024900</td>\n",
              "      <td>0.512926</td>\n",
              "      <td>0.342292</td>\n",
              "    </tr>\n",
              "    <tr>\n",
              "      <td>13500</td>\n",
              "      <td>0.024900</td>\n",
              "      <td>0.559641</td>\n",
              "      <td>0.346289</td>\n",
              "    </tr>\n",
              "    <tr>\n",
              "      <td>14000</td>\n",
              "      <td>0.020600</td>\n",
              "      <td>0.587824</td>\n",
              "      <td>0.347254</td>\n",
              "    </tr>\n",
              "    <tr>\n",
              "      <td>14500</td>\n",
              "      <td>0.022300</td>\n",
              "      <td>0.568384</td>\n",
              "      <td>0.345807</td>\n",
              "    </tr>\n",
              "  </tbody>\n",
              "</table><p>"
            ],
            "text/plain": [
              "<IPython.core.display.HTML object>"
            ]
          },
          "metadata": {},
          "output_type": "display_data"
        },
        {
          "name": "stderr",
          "output_type": "stream",
          "text": [
            "The following columns in the evaluation set  don't have a corresponding argument in `Wav2Vec2ForCTC.forward` and have been ignored: input_length. If input_length are not expected by `Wav2Vec2ForCTC.forward`,  you can safely ignore this message.\n",
            "***** Running Evaluation *****\n",
            "  Num examples = 1680\n",
            "  Batch size = 8\n",
            "Saving model checkpoint to wav2vec2-base-timit-demo-google-colab/checkpoint-500\n",
            "Configuration saved in wav2vec2-base-timit-demo-google-colab/checkpoint-500/config.json\n",
            "Model weights saved in wav2vec2-base-timit-demo-google-colab/checkpoint-500/pytorch_model.bin\n",
            "Feature extractor saved in wav2vec2-base-timit-demo-google-colab/checkpoint-500/preprocessor_config.json\n",
            "The following columns in the evaluation set  don't have a corresponding argument in `Wav2Vec2ForCTC.forward` and have been ignored: input_length. If input_length are not expected by `Wav2Vec2ForCTC.forward`,  you can safely ignore this message.\n",
            "***** Running Evaluation *****\n",
            "  Num examples = 1680\n",
            "  Batch size = 8\n",
            "Saving model checkpoint to wav2vec2-base-timit-demo-google-colab/checkpoint-1000\n",
            "Configuration saved in wav2vec2-base-timit-demo-google-colab/checkpoint-1000/config.json\n",
            "Model weights saved in wav2vec2-base-timit-demo-google-colab/checkpoint-1000/pytorch_model.bin\n",
            "Feature extractor saved in wav2vec2-base-timit-demo-google-colab/checkpoint-1000/preprocessor_config.json\n",
            "The following columns in the evaluation set  don't have a corresponding argument in `Wav2Vec2ForCTC.forward` and have been ignored: input_length. If input_length are not expected by `Wav2Vec2ForCTC.forward`,  you can safely ignore this message.\n",
            "***** Running Evaluation *****\n",
            "  Num examples = 1680\n",
            "  Batch size = 8\n",
            "Saving model checkpoint to wav2vec2-base-timit-demo-google-colab/checkpoint-1500\n",
            "Configuration saved in wav2vec2-base-timit-demo-google-colab/checkpoint-1500/config.json\n",
            "Model weights saved in wav2vec2-base-timit-demo-google-colab/checkpoint-1500/pytorch_model.bin\n",
            "Feature extractor saved in wav2vec2-base-timit-demo-google-colab/checkpoint-1500/preprocessor_config.json\n",
            "Deleting older checkpoint [wav2vec2-base-timit-demo-google-colab/checkpoint-500] due to args.save_total_limit\n",
            "The following columns in the evaluation set  don't have a corresponding argument in `Wav2Vec2ForCTC.forward` and have been ignored: input_length. If input_length are not expected by `Wav2Vec2ForCTC.forward`,  you can safely ignore this message.\n",
            "***** Running Evaluation *****\n",
            "  Num examples = 1680\n",
            "  Batch size = 8\n",
            "Saving model checkpoint to wav2vec2-base-timit-demo-google-colab/checkpoint-2000\n",
            "Configuration saved in wav2vec2-base-timit-demo-google-colab/checkpoint-2000/config.json\n",
            "Model weights saved in wav2vec2-base-timit-demo-google-colab/checkpoint-2000/pytorch_model.bin\n",
            "Feature extractor saved in wav2vec2-base-timit-demo-google-colab/checkpoint-2000/preprocessor_config.json\n",
            "Deleting older checkpoint [wav2vec2-base-timit-demo-google-colab/checkpoint-1000] due to args.save_total_limit\n",
            "The following columns in the evaluation set  don't have a corresponding argument in `Wav2Vec2ForCTC.forward` and have been ignored: input_length. If input_length are not expected by `Wav2Vec2ForCTC.forward`,  you can safely ignore this message.\n",
            "***** Running Evaluation *****\n",
            "  Num examples = 1680\n",
            "  Batch size = 8\n",
            "Saving model checkpoint to wav2vec2-base-timit-demo-google-colab/checkpoint-2500\n",
            "Configuration saved in wav2vec2-base-timit-demo-google-colab/checkpoint-2500/config.json\n",
            "Model weights saved in wav2vec2-base-timit-demo-google-colab/checkpoint-2500/pytorch_model.bin\n",
            "Feature extractor saved in wav2vec2-base-timit-demo-google-colab/checkpoint-2500/preprocessor_config.json\n",
            "Deleting older checkpoint [wav2vec2-base-timit-demo-google-colab/checkpoint-1500] due to args.save_total_limit\n",
            "The following columns in the evaluation set  don't have a corresponding argument in `Wav2Vec2ForCTC.forward` and have been ignored: input_length. If input_length are not expected by `Wav2Vec2ForCTC.forward`,  you can safely ignore this message.\n",
            "***** Running Evaluation *****\n",
            "  Num examples = 1680\n",
            "  Batch size = 8\n",
            "Saving model checkpoint to wav2vec2-base-timit-demo-google-colab/checkpoint-3000\n",
            "Configuration saved in wav2vec2-base-timit-demo-google-colab/checkpoint-3000/config.json\n",
            "Model weights saved in wav2vec2-base-timit-demo-google-colab/checkpoint-3000/pytorch_model.bin\n",
            "Feature extractor saved in wav2vec2-base-timit-demo-google-colab/checkpoint-3000/preprocessor_config.json\n",
            "Deleting older checkpoint [wav2vec2-base-timit-demo-google-colab/checkpoint-2000] due to args.save_total_limit\n",
            "The following columns in the evaluation set  don't have a corresponding argument in `Wav2Vec2ForCTC.forward` and have been ignored: input_length. If input_length are not expected by `Wav2Vec2ForCTC.forward`,  you can safely ignore this message.\n",
            "***** Running Evaluation *****\n",
            "  Num examples = 1680\n",
            "  Batch size = 8\n",
            "Saving model checkpoint to wav2vec2-base-timit-demo-google-colab/checkpoint-3500\n",
            "Configuration saved in wav2vec2-base-timit-demo-google-colab/checkpoint-3500/config.json\n",
            "Model weights saved in wav2vec2-base-timit-demo-google-colab/checkpoint-3500/pytorch_model.bin\n",
            "Feature extractor saved in wav2vec2-base-timit-demo-google-colab/checkpoint-3500/preprocessor_config.json\n",
            "Deleting older checkpoint [wav2vec2-base-timit-demo-google-colab/checkpoint-2500] due to args.save_total_limit\n",
            "The following columns in the evaluation set  don't have a corresponding argument in `Wav2Vec2ForCTC.forward` and have been ignored: input_length. If input_length are not expected by `Wav2Vec2ForCTC.forward`,  you can safely ignore this message.\n",
            "***** Running Evaluation *****\n",
            "  Num examples = 1680\n",
            "  Batch size = 8\n",
            "Saving model checkpoint to wav2vec2-base-timit-demo-google-colab/checkpoint-4000\n",
            "Configuration saved in wav2vec2-base-timit-demo-google-colab/checkpoint-4000/config.json\n",
            "Model weights saved in wav2vec2-base-timit-demo-google-colab/checkpoint-4000/pytorch_model.bin\n",
            "Feature extractor saved in wav2vec2-base-timit-demo-google-colab/checkpoint-4000/preprocessor_config.json\n",
            "Deleting older checkpoint [wav2vec2-base-timit-demo-google-colab/checkpoint-3000] due to args.save_total_limit\n",
            "The following columns in the evaluation set  don't have a corresponding argument in `Wav2Vec2ForCTC.forward` and have been ignored: input_length. If input_length are not expected by `Wav2Vec2ForCTC.forward`,  you can safely ignore this message.\n",
            "***** Running Evaluation *****\n",
            "  Num examples = 1680\n",
            "  Batch size = 8\n",
            "Saving model checkpoint to wav2vec2-base-timit-demo-google-colab/checkpoint-4500\n",
            "Configuration saved in wav2vec2-base-timit-demo-google-colab/checkpoint-4500/config.json\n",
            "Model weights saved in wav2vec2-base-timit-demo-google-colab/checkpoint-4500/pytorch_model.bin\n",
            "Feature extractor saved in wav2vec2-base-timit-demo-google-colab/checkpoint-4500/preprocessor_config.json\n",
            "Deleting older checkpoint [wav2vec2-base-timit-demo-google-colab/checkpoint-3500] due to args.save_total_limit\n",
            "The following columns in the evaluation set  don't have a corresponding argument in `Wav2Vec2ForCTC.forward` and have been ignored: input_length. If input_length are not expected by `Wav2Vec2ForCTC.forward`,  you can safely ignore this message.\n",
            "***** Running Evaluation *****\n",
            "  Num examples = 1680\n",
            "  Batch size = 8\n",
            "Saving model checkpoint to wav2vec2-base-timit-demo-google-colab/checkpoint-5000\n",
            "Configuration saved in wav2vec2-base-timit-demo-google-colab/checkpoint-5000/config.json\n",
            "Model weights saved in wav2vec2-base-timit-demo-google-colab/checkpoint-5000/pytorch_model.bin\n",
            "Feature extractor saved in wav2vec2-base-timit-demo-google-colab/checkpoint-5000/preprocessor_config.json\n",
            "Deleting older checkpoint [wav2vec2-base-timit-demo-google-colab/checkpoint-4000] due to args.save_total_limit\n",
            "The following columns in the evaluation set  don't have a corresponding argument in `Wav2Vec2ForCTC.forward` and have been ignored: input_length. If input_length are not expected by `Wav2Vec2ForCTC.forward`,  you can safely ignore this message.\n",
            "***** Running Evaluation *****\n",
            "  Num examples = 1680\n",
            "  Batch size = 8\n",
            "Saving model checkpoint to wav2vec2-base-timit-demo-google-colab/checkpoint-5500\n",
            "Configuration saved in wav2vec2-base-timit-demo-google-colab/checkpoint-5500/config.json\n",
            "Model weights saved in wav2vec2-base-timit-demo-google-colab/checkpoint-5500/pytorch_model.bin\n",
            "Feature extractor saved in wav2vec2-base-timit-demo-google-colab/checkpoint-5500/preprocessor_config.json\n",
            "Deleting older checkpoint [wav2vec2-base-timit-demo-google-colab/checkpoint-4500] due to args.save_total_limit\n",
            "The following columns in the evaluation set  don't have a corresponding argument in `Wav2Vec2ForCTC.forward` and have been ignored: input_length. If input_length are not expected by `Wav2Vec2ForCTC.forward`,  you can safely ignore this message.\n",
            "***** Running Evaluation *****\n",
            "  Num examples = 1680\n",
            "  Batch size = 8\n",
            "Saving model checkpoint to wav2vec2-base-timit-demo-google-colab/checkpoint-6000\n",
            "Configuration saved in wav2vec2-base-timit-demo-google-colab/checkpoint-6000/config.json\n",
            "Model weights saved in wav2vec2-base-timit-demo-google-colab/checkpoint-6000/pytorch_model.bin\n",
            "Feature extractor saved in wav2vec2-base-timit-demo-google-colab/checkpoint-6000/preprocessor_config.json\n",
            "Deleting older checkpoint [wav2vec2-base-timit-demo-google-colab/checkpoint-5000] due to args.save_total_limit\n",
            "The following columns in the evaluation set  don't have a corresponding argument in `Wav2Vec2ForCTC.forward` and have been ignored: input_length. If input_length are not expected by `Wav2Vec2ForCTC.forward`,  you can safely ignore this message.\n",
            "***** Running Evaluation *****\n",
            "  Num examples = 1680\n",
            "  Batch size = 8\n",
            "Saving model checkpoint to wav2vec2-base-timit-demo-google-colab/checkpoint-6500\n",
            "Configuration saved in wav2vec2-base-timit-demo-google-colab/checkpoint-6500/config.json\n",
            "Model weights saved in wav2vec2-base-timit-demo-google-colab/checkpoint-6500/pytorch_model.bin\n",
            "Feature extractor saved in wav2vec2-base-timit-demo-google-colab/checkpoint-6500/preprocessor_config.json\n",
            "Deleting older checkpoint [wav2vec2-base-timit-demo-google-colab/checkpoint-5500] due to args.save_total_limit\n",
            "The following columns in the evaluation set  don't have a corresponding argument in `Wav2Vec2ForCTC.forward` and have been ignored: input_length. If input_length are not expected by `Wav2Vec2ForCTC.forward`,  you can safely ignore this message.\n",
            "***** Running Evaluation *****\n",
            "  Num examples = 1680\n",
            "  Batch size = 8\n",
            "Saving model checkpoint to wav2vec2-base-timit-demo-google-colab/checkpoint-7000\n",
            "Configuration saved in wav2vec2-base-timit-demo-google-colab/checkpoint-7000/config.json\n",
            "Model weights saved in wav2vec2-base-timit-demo-google-colab/checkpoint-7000/pytorch_model.bin\n",
            "Feature extractor saved in wav2vec2-base-timit-demo-google-colab/checkpoint-7000/preprocessor_config.json\n",
            "Deleting older checkpoint [wav2vec2-base-timit-demo-google-colab/checkpoint-6000] due to args.save_total_limit\n",
            "The following columns in the evaluation set  don't have a corresponding argument in `Wav2Vec2ForCTC.forward` and have been ignored: input_length. If input_length are not expected by `Wav2Vec2ForCTC.forward`,  you can safely ignore this message.\n",
            "***** Running Evaluation *****\n",
            "  Num examples = 1680\n",
            "  Batch size = 8\n",
            "Saving model checkpoint to wav2vec2-base-timit-demo-google-colab/checkpoint-7500\n",
            "Configuration saved in wav2vec2-base-timit-demo-google-colab/checkpoint-7500/config.json\n",
            "Model weights saved in wav2vec2-base-timit-demo-google-colab/checkpoint-7500/pytorch_model.bin\n",
            "Feature extractor saved in wav2vec2-base-timit-demo-google-colab/checkpoint-7500/preprocessor_config.json\n",
            "Deleting older checkpoint [wav2vec2-base-timit-demo-google-colab/checkpoint-6500] due to args.save_total_limit\n",
            "The following columns in the evaluation set  don't have a corresponding argument in `Wav2Vec2ForCTC.forward` and have been ignored: input_length. If input_length are not expected by `Wav2Vec2ForCTC.forward`,  you can safely ignore this message.\n",
            "***** Running Evaluation *****\n",
            "  Num examples = 1680\n",
            "  Batch size = 8\n",
            "Saving model checkpoint to wav2vec2-base-timit-demo-google-colab/checkpoint-8000\n",
            "Configuration saved in wav2vec2-base-timit-demo-google-colab/checkpoint-8000/config.json\n",
            "Model weights saved in wav2vec2-base-timit-demo-google-colab/checkpoint-8000/pytorch_model.bin\n",
            "Feature extractor saved in wav2vec2-base-timit-demo-google-colab/checkpoint-8000/preprocessor_config.json\n",
            "Deleting older checkpoint [wav2vec2-base-timit-demo-google-colab/checkpoint-7000] due to args.save_total_limit\n",
            "The following columns in the evaluation set  don't have a corresponding argument in `Wav2Vec2ForCTC.forward` and have been ignored: input_length. If input_length are not expected by `Wav2Vec2ForCTC.forward`,  you can safely ignore this message.\n",
            "***** Running Evaluation *****\n",
            "  Num examples = 1680\n",
            "  Batch size = 8\n",
            "Saving model checkpoint to wav2vec2-base-timit-demo-google-colab/checkpoint-8500\n",
            "Configuration saved in wav2vec2-base-timit-demo-google-colab/checkpoint-8500/config.json\n",
            "Model weights saved in wav2vec2-base-timit-demo-google-colab/checkpoint-8500/pytorch_model.bin\n",
            "Feature extractor saved in wav2vec2-base-timit-demo-google-colab/checkpoint-8500/preprocessor_config.json\n",
            "Deleting older checkpoint [wav2vec2-base-timit-demo-google-colab/checkpoint-7500] due to args.save_total_limit\n",
            "The following columns in the evaluation set  don't have a corresponding argument in `Wav2Vec2ForCTC.forward` and have been ignored: input_length. If input_length are not expected by `Wav2Vec2ForCTC.forward`,  you can safely ignore this message.\n",
            "***** Running Evaluation *****\n",
            "  Num examples = 1680\n",
            "  Batch size = 8\n",
            "Saving model checkpoint to wav2vec2-base-timit-demo-google-colab/checkpoint-9000\n",
            "Configuration saved in wav2vec2-base-timit-demo-google-colab/checkpoint-9000/config.json\n",
            "Model weights saved in wav2vec2-base-timit-demo-google-colab/checkpoint-9000/pytorch_model.bin\n",
            "Feature extractor saved in wav2vec2-base-timit-demo-google-colab/checkpoint-9000/preprocessor_config.json\n",
            "Deleting older checkpoint [wav2vec2-base-timit-demo-google-colab/checkpoint-8000] due to args.save_total_limit\n",
            "The following columns in the evaluation set  don't have a corresponding argument in `Wav2Vec2ForCTC.forward` and have been ignored: input_length. If input_length are not expected by `Wav2Vec2ForCTC.forward`,  you can safely ignore this message.\n",
            "***** Running Evaluation *****\n",
            "  Num examples = 1680\n",
            "  Batch size = 8\n",
            "Saving model checkpoint to wav2vec2-base-timit-demo-google-colab/checkpoint-9500\n",
            "Configuration saved in wav2vec2-base-timit-demo-google-colab/checkpoint-9500/config.json\n",
            "Model weights saved in wav2vec2-base-timit-demo-google-colab/checkpoint-9500/pytorch_model.bin\n",
            "Feature extractor saved in wav2vec2-base-timit-demo-google-colab/checkpoint-9500/preprocessor_config.json\n",
            "Deleting older checkpoint [wav2vec2-base-timit-demo-google-colab/checkpoint-8500] due to args.save_total_limit\n",
            "The following columns in the evaluation set  don't have a corresponding argument in `Wav2Vec2ForCTC.forward` and have been ignored: input_length. If input_length are not expected by `Wav2Vec2ForCTC.forward`,  you can safely ignore this message.\n",
            "***** Running Evaluation *****\n",
            "  Num examples = 1680\n",
            "  Batch size = 8\n",
            "Saving model checkpoint to wav2vec2-base-timit-demo-google-colab/checkpoint-10000\n",
            "Configuration saved in wav2vec2-base-timit-demo-google-colab/checkpoint-10000/config.json\n",
            "Model weights saved in wav2vec2-base-timit-demo-google-colab/checkpoint-10000/pytorch_model.bin\n",
            "Feature extractor saved in wav2vec2-base-timit-demo-google-colab/checkpoint-10000/preprocessor_config.json\n",
            "Deleting older checkpoint [wav2vec2-base-timit-demo-google-colab/checkpoint-9000] due to args.save_total_limit\n",
            "The following columns in the evaluation set  don't have a corresponding argument in `Wav2Vec2ForCTC.forward` and have been ignored: input_length. If input_length are not expected by `Wav2Vec2ForCTC.forward`,  you can safely ignore this message.\n",
            "***** Running Evaluation *****\n",
            "  Num examples = 1680\n",
            "  Batch size = 8\n",
            "Saving model checkpoint to wav2vec2-base-timit-demo-google-colab/checkpoint-10500\n",
            "Configuration saved in wav2vec2-base-timit-demo-google-colab/checkpoint-10500/config.json\n",
            "Model weights saved in wav2vec2-base-timit-demo-google-colab/checkpoint-10500/pytorch_model.bin\n",
            "Feature extractor saved in wav2vec2-base-timit-demo-google-colab/checkpoint-10500/preprocessor_config.json\n",
            "Deleting older checkpoint [wav2vec2-base-timit-demo-google-colab/checkpoint-9500] due to args.save_total_limit\n",
            "The following columns in the evaluation set  don't have a corresponding argument in `Wav2Vec2ForCTC.forward` and have been ignored: input_length. If input_length are not expected by `Wav2Vec2ForCTC.forward`,  you can safely ignore this message.\n",
            "***** Running Evaluation *****\n",
            "  Num examples = 1680\n",
            "  Batch size = 8\n",
            "Saving model checkpoint to wav2vec2-base-timit-demo-google-colab/checkpoint-11000\n",
            "Configuration saved in wav2vec2-base-timit-demo-google-colab/checkpoint-11000/config.json\n",
            "Model weights saved in wav2vec2-base-timit-demo-google-colab/checkpoint-11000/pytorch_model.bin\n",
            "Feature extractor saved in wav2vec2-base-timit-demo-google-colab/checkpoint-11000/preprocessor_config.json\n",
            "Deleting older checkpoint [wav2vec2-base-timit-demo-google-colab/checkpoint-10000] due to args.save_total_limit\n",
            "The following columns in the evaluation set  don't have a corresponding argument in `Wav2Vec2ForCTC.forward` and have been ignored: input_length. If input_length are not expected by `Wav2Vec2ForCTC.forward`,  you can safely ignore this message.\n",
            "***** Running Evaluation *****\n",
            "  Num examples = 1680\n",
            "  Batch size = 8\n",
            "Saving model checkpoint to wav2vec2-base-timit-demo-google-colab/checkpoint-11500\n",
            "Configuration saved in wav2vec2-base-timit-demo-google-colab/checkpoint-11500/config.json\n",
            "Model weights saved in wav2vec2-base-timit-demo-google-colab/checkpoint-11500/pytorch_model.bin\n",
            "Feature extractor saved in wav2vec2-base-timit-demo-google-colab/checkpoint-11500/preprocessor_config.json\n",
            "Deleting older checkpoint [wav2vec2-base-timit-demo-google-colab/checkpoint-10500] due to args.save_total_limit\n",
            "The following columns in the evaluation set  don't have a corresponding argument in `Wav2Vec2ForCTC.forward` and have been ignored: input_length. If input_length are not expected by `Wav2Vec2ForCTC.forward`,  you can safely ignore this message.\n",
            "***** Running Evaluation *****\n",
            "  Num examples = 1680\n",
            "  Batch size = 8\n",
            "Saving model checkpoint to wav2vec2-base-timit-demo-google-colab/checkpoint-12000\n",
            "Configuration saved in wav2vec2-base-timit-demo-google-colab/checkpoint-12000/config.json\n",
            "Model weights saved in wav2vec2-base-timit-demo-google-colab/checkpoint-12000/pytorch_model.bin\n",
            "Feature extractor saved in wav2vec2-base-timit-demo-google-colab/checkpoint-12000/preprocessor_config.json\n",
            "Deleting older checkpoint [wav2vec2-base-timit-demo-google-colab/checkpoint-11000] due to args.save_total_limit\n",
            "The following columns in the evaluation set  don't have a corresponding argument in `Wav2Vec2ForCTC.forward` and have been ignored: input_length. If input_length are not expected by `Wav2Vec2ForCTC.forward`,  you can safely ignore this message.\n",
            "***** Running Evaluation *****\n",
            "  Num examples = 1680\n",
            "  Batch size = 8\n",
            "Saving model checkpoint to wav2vec2-base-timit-demo-google-colab/checkpoint-12500\n",
            "Configuration saved in wav2vec2-base-timit-demo-google-colab/checkpoint-12500/config.json\n",
            "Model weights saved in wav2vec2-base-timit-demo-google-colab/checkpoint-12500/pytorch_model.bin\n",
            "Feature extractor saved in wav2vec2-base-timit-demo-google-colab/checkpoint-12500/preprocessor_config.json\n",
            "Deleting older checkpoint [wav2vec2-base-timit-demo-google-colab/checkpoint-11500] due to args.save_total_limit\n",
            "The following columns in the evaluation set  don't have a corresponding argument in `Wav2Vec2ForCTC.forward` and have been ignored: input_length. If input_length are not expected by `Wav2Vec2ForCTC.forward`,  you can safely ignore this message.\n",
            "***** Running Evaluation *****\n",
            "  Num examples = 1680\n",
            "  Batch size = 8\n",
            "Saving model checkpoint to wav2vec2-base-timit-demo-google-colab/checkpoint-13000\n",
            "Configuration saved in wav2vec2-base-timit-demo-google-colab/checkpoint-13000/config.json\n",
            "Model weights saved in wav2vec2-base-timit-demo-google-colab/checkpoint-13000/pytorch_model.bin\n",
            "Feature extractor saved in wav2vec2-base-timit-demo-google-colab/checkpoint-13000/preprocessor_config.json\n",
            "Deleting older checkpoint [wav2vec2-base-timit-demo-google-colab/checkpoint-12000] due to args.save_total_limit\n",
            "The following columns in the evaluation set  don't have a corresponding argument in `Wav2Vec2ForCTC.forward` and have been ignored: input_length. If input_length are not expected by `Wav2Vec2ForCTC.forward`,  you can safely ignore this message.\n",
            "***** Running Evaluation *****\n",
            "  Num examples = 1680\n",
            "  Batch size = 8\n",
            "Saving model checkpoint to wav2vec2-base-timit-demo-google-colab/checkpoint-13500\n",
            "Configuration saved in wav2vec2-base-timit-demo-google-colab/checkpoint-13500/config.json\n",
            "Model weights saved in wav2vec2-base-timit-demo-google-colab/checkpoint-13500/pytorch_model.bin\n",
            "Feature extractor saved in wav2vec2-base-timit-demo-google-colab/checkpoint-13500/preprocessor_config.json\n",
            "Deleting older checkpoint [wav2vec2-base-timit-demo-google-colab/checkpoint-12500] due to args.save_total_limit\n",
            "The following columns in the evaluation set  don't have a corresponding argument in `Wav2Vec2ForCTC.forward` and have been ignored: input_length. If input_length are not expected by `Wav2Vec2ForCTC.forward`,  you can safely ignore this message.\n",
            "***** Running Evaluation *****\n",
            "  Num examples = 1680\n",
            "  Batch size = 8\n",
            "Saving model checkpoint to wav2vec2-base-timit-demo-google-colab/checkpoint-14000\n",
            "Configuration saved in wav2vec2-base-timit-demo-google-colab/checkpoint-14000/config.json\n",
            "Model weights saved in wav2vec2-base-timit-demo-google-colab/checkpoint-14000/pytorch_model.bin\n",
            "Feature extractor saved in wav2vec2-base-timit-demo-google-colab/checkpoint-14000/preprocessor_config.json\n",
            "Deleting older checkpoint [wav2vec2-base-timit-demo-google-colab/checkpoint-13000] due to args.save_total_limit\n",
            "The following columns in the evaluation set  don't have a corresponding argument in `Wav2Vec2ForCTC.forward` and have been ignored: input_length. If input_length are not expected by `Wav2Vec2ForCTC.forward`,  you can safely ignore this message.\n",
            "***** Running Evaluation *****\n",
            "  Num examples = 1680\n",
            "  Batch size = 8\n",
            "Saving model checkpoint to wav2vec2-base-timit-demo-google-colab/checkpoint-14500\n",
            "Configuration saved in wav2vec2-base-timit-demo-google-colab/checkpoint-14500/config.json\n",
            "Model weights saved in wav2vec2-base-timit-demo-google-colab/checkpoint-14500/pytorch_model.bin\n",
            "Feature extractor saved in wav2vec2-base-timit-demo-google-colab/checkpoint-14500/preprocessor_config.json\n",
            "Deleting older checkpoint [wav2vec2-base-timit-demo-google-colab/checkpoint-13500] due to args.save_total_limit\n",
            "\n",
            "\n",
            "Training completed. Do not forget to share your model on huggingface.co/models =)\n",
            "\n",
            "\n"
          ]
        },
        {
          "data": {
            "text/plain": [
              "TrainOutput(global_step=14940, training_loss=0.24195642630897532, metrics={'train_runtime': 7536.8532, 'train_samples_per_second': 15.834, 'train_steps_per_second': 1.982, 'total_flos': 3.0766610595969556e+18, 'train_loss': 0.24195642630897532, 'epoch': 30.0})"
            ]
          },
          "execution_count": 39,
          "metadata": {},
          "output_type": "execute_result"
        }
      ],
      "source": [
        "trainer.train()"
      ]
    },
    {
      "cell_type": "markdown",
      "metadata": {
        "id": "UCyp-v3n4Zlt"
      },
      "source": [
        "The final WER should be around 0.3 which is reasonable given that state-of-the-art phoneme error rates (PER) are just below 0.1 (see [leaderboard](https://paperswithcode.com/sota/speech-recognition-on-timit)) and that WER is usually worse than PER.\n",
        "\n",
        "You can now upload the result of the training to the Hub, just execute this instruction:"
      ]
    },
    {
      "cell_type": "markdown",
      "metadata": {
        "id": "djzwS5WeNu16"
      },
      "source": [
        "You can now share this model with all your friends, family, favorite pets: they can all load it with the identifier \"your-username/the-name-you-picked\" so for instance:"
      ]
    },
    {
      "cell_type": "markdown",
      "metadata": {
        "id": "Adm0LngNNxq7"
      },
      "source": [
        "```python\n",
        "from transformers import AutoModelForCTC, Wav2Vec2Processor\n",
        "\n",
        "model = AutoModelForCTC.from_pretrained(\"patrickvonplaten/wav2vec2-base-timit-demo-google-colab\")\n",
        "processor = Wav2Vec2Processor.from_pretrained(\"patrickvonplaten/wav2vec2-base-timit-demo-google-colab\")\n",
        "```"
      ]
    },
    {
      "cell_type": "markdown",
      "metadata": {
        "id": "nD4XP5IHncsY"
      },
      "source": [
        "### Evaluate\n",
        "\n",
        "In the final part, we run our model on some of the validation data to get a feeling for how well it works.\n",
        "\n",
        "Let's load the `processor` and `model`."
      ]
    },
    {
      "cell_type": "code",
      "execution_count": null,
      "metadata": {
        "colab": {
          "background_save": true,
          "referenced_widgets": [
            "d09756762f974fff97fcc56808cf79da",
            "e13df7ca4a1646f6a4565a43300f53e5",
            "f07c352df0af4d819c55b8d1953d1ee1",
            "990bac444a784aa1801a1022f892c791"
          ]
        },
        "id": "-rg0USDCnbo6",
        "outputId": "278bdcec-56f5-4395-c911-f13ba01c2ca7"
      },
      "outputs": [
        {
          "name": "stderr",
          "output_type": "stream",
          "text": [
            "https://huggingface.co/patrickvonplaten/wav2vec2-base-timit-demo-google-colab/resolve/main/preprocessor_config.json not found in cache or force_download set to True, downloading to /root/.cache/huggingface/transformers/tmpbfjvhei0\n"
          ]
        },
        {
          "data": {
            "application/vnd.jupyter.widget-view+json": {
              "model_id": "d09756762f974fff97fcc56808cf79da",
              "version_major": 2,
              "version_minor": 0
            },
            "text/plain": [
              "Downloading:   0%|          | 0.00/215 [00:00<?, ?B/s]"
            ]
          },
          "metadata": {},
          "output_type": "display_data"
        },
        {
          "name": "stderr",
          "output_type": "stream",
          "text": [
            "storing https://huggingface.co/patrickvonplaten/wav2vec2-base-timit-demo-google-colab/resolve/main/preprocessor_config.json in cache at /root/.cache/huggingface/transformers/17fa07f6e2f88edf24c71037bed1b7cf0cf9acfef7d3353afb589689627542c1.0e3e6656f99a6f7b9eddd943463eb7f34363640fce9e87b047ebd50d4b112b50\n",
            "creating metadata file for /root/.cache/huggingface/transformers/17fa07f6e2f88edf24c71037bed1b7cf0cf9acfef7d3353afb589689627542c1.0e3e6656f99a6f7b9eddd943463eb7f34363640fce9e87b047ebd50d4b112b50\n",
            "loading feature extractor configuration file https://huggingface.co/patrickvonplaten/wav2vec2-base-timit-demo-google-colab/resolve/main/preprocessor_config.json from cache at /root/.cache/huggingface/transformers/17fa07f6e2f88edf24c71037bed1b7cf0cf9acfef7d3353afb589689627542c1.0e3e6656f99a6f7b9eddd943463eb7f34363640fce9e87b047ebd50d4b112b50\n",
            "Feature extractor Wav2Vec2FeatureExtractor {\n",
            "  \"do_normalize\": true,\n",
            "  \"feature_extractor_type\": \"Wav2Vec2FeatureExtractor\",\n",
            "  \"feature_size\": 1,\n",
            "  \"padding_side\": \"right\",\n",
            "  \"padding_value\": 0.0,\n",
            "  \"return_attention_mask\": false,\n",
            "  \"sampling_rate\": 16000\n",
            "}\n",
            "\n",
            "https://huggingface.co/patrickvonplaten/wav2vec2-base-timit-demo-google-colab/resolve/main/tokenizer_config.json not found in cache or force_download set to True, downloading to /root/.cache/huggingface/transformers/tmpj_lxhw38\n"
          ]
        },
        {
          "data": {
            "application/vnd.jupyter.widget-view+json": {
              "model_id": "e13df7ca4a1646f6a4565a43300f53e5",
              "version_major": 2,
              "version_minor": 0
            },
            "text/plain": [
              "Downloading:   0%|          | 0.00/217 [00:00<?, ?B/s]"
            ]
          },
          "metadata": {},
          "output_type": "display_data"
        },
        {
          "name": "stderr",
          "output_type": "stream",
          "text": [
            "storing https://huggingface.co/patrickvonplaten/wav2vec2-base-timit-demo-google-colab/resolve/main/tokenizer_config.json in cache at /root/.cache/huggingface/transformers/7bf2e07c1c7ed7e3d055d87aa6bd33c75e6883d98029ae3744fed6bea9e35095.59710b1a6a5501d31e746b6e464f5c44de3e55a58f80634196025936683a68a9\n",
            "creating metadata file for /root/.cache/huggingface/transformers/7bf2e07c1c7ed7e3d055d87aa6bd33c75e6883d98029ae3744fed6bea9e35095.59710b1a6a5501d31e746b6e464f5c44de3e55a58f80634196025936683a68a9\n",
            "https://huggingface.co/patrickvonplaten/wav2vec2-base-timit-demo-google-colab/resolve/main/vocab.json not found in cache or force_download set to True, downloading to /root/.cache/huggingface/transformers/tmpdjur3a0u\n"
          ]
        },
        {
          "data": {
            "application/vnd.jupyter.widget-view+json": {
              "model_id": "f07c352df0af4d819c55b8d1953d1ee1",
              "version_major": 2,
              "version_minor": 0
            },
            "text/plain": [
              "Downloading:   0%|          | 0.00/268 [00:00<?, ?B/s]"
            ]
          },
          "metadata": {},
          "output_type": "display_data"
        },
        {
          "name": "stderr",
          "output_type": "stream",
          "text": [
            "storing https://huggingface.co/patrickvonplaten/wav2vec2-base-timit-demo-google-colab/resolve/main/vocab.json in cache at /root/.cache/huggingface/transformers/f739813380b0880ba302557f0f990f0f64e8efe81fcc91a4fce08206a91ee215.c44a036121683e19f1a033a1765d4344364cb4633a6cbf5cf51b153f2388abb1\n",
            "creating metadata file for /root/.cache/huggingface/transformers/f739813380b0880ba302557f0f990f0f64e8efe81fcc91a4fce08206a91ee215.c44a036121683e19f1a033a1765d4344364cb4633a6cbf5cf51b153f2388abb1\n",
            "https://huggingface.co/patrickvonplaten/wav2vec2-base-timit-demo-google-colab/resolve/main/special_tokens_map.json not found in cache or force_download set to True, downloading to /root/.cache/huggingface/transformers/tmpa15_w2ls\n"
          ]
        },
        {
          "data": {
            "application/vnd.jupyter.widget-view+json": {
              "model_id": "990bac444a784aa1801a1022f892c791",
              "version_major": 2,
              "version_minor": 0
            },
            "text/plain": [
              "Downloading:   0%|          | 0.00/85.0 [00:00<?, ?B/s]"
            ]
          },
          "metadata": {},
          "output_type": "display_data"
        },
        {
          "name": "stderr",
          "output_type": "stream",
          "text": [
            "storing https://huggingface.co/patrickvonplaten/wav2vec2-base-timit-demo-google-colab/resolve/main/special_tokens_map.json in cache at /root/.cache/huggingface/transformers/c239f3738252f8d8e83d9813ea82866aeec476c467a008db86229f4edc6490b0.a21d51735cf8667bcd610f057e88548d5d6a381401f6b4501a8bc6c1a9dc8498\n",
            "creating metadata file for /root/.cache/huggingface/transformers/c239f3738252f8d8e83d9813ea82866aeec476c467a008db86229f4edc6490b0.a21d51735cf8667bcd610f057e88548d5d6a381401f6b4501a8bc6c1a9dc8498\n",
            "loading file https://huggingface.co/patrickvonplaten/wav2vec2-base-timit-demo-google-colab/resolve/main/vocab.json from cache at /root/.cache/huggingface/transformers/f739813380b0880ba302557f0f990f0f64e8efe81fcc91a4fce08206a91ee215.c44a036121683e19f1a033a1765d4344364cb4633a6cbf5cf51b153f2388abb1\n",
            "loading file https://huggingface.co/patrickvonplaten/wav2vec2-base-timit-demo-google-colab/resolve/main/tokenizer_config.json from cache at /root/.cache/huggingface/transformers/7bf2e07c1c7ed7e3d055d87aa6bd33c75e6883d98029ae3744fed6bea9e35095.59710b1a6a5501d31e746b6e464f5c44de3e55a58f80634196025936683a68a9\n",
            "loading file https://huggingface.co/patrickvonplaten/wav2vec2-base-timit-demo-google-colab/resolve/main/added_tokens.json from cache at None\n",
            "loading file https://huggingface.co/patrickvonplaten/wav2vec2-base-timit-demo-google-colab/resolve/main/special_tokens_map.json from cache at /root/.cache/huggingface/transformers/c239f3738252f8d8e83d9813ea82866aeec476c467a008db86229f4edc6490b0.a21d51735cf8667bcd610f057e88548d5d6a381401f6b4501a8bc6c1a9dc8498\n",
            "Adding <s> to the vocabulary\n",
            "Adding </s> to the vocabulary\n",
            "Special tokens have been added in the vocabulary, make sure the associated word embeddings are fine-tuned or trained.\n"
          ]
        }
      ],
      "source": [
        "processor = Wav2Vec2Processor.from_pretrained(\"patrickvonplaten/wav2vec2-base-timit-demo-google-colab\")"
      ]
    },
    {
      "cell_type": "code",
      "execution_count": null,
      "metadata": {
        "colab": {
          "background_save": true,
          "referenced_widgets": [
            "f5d5aeb389c54f78b81b010dd74c6f38",
            "e073b8ca40bc42bd9393ab6423cc5262"
          ]
        },
        "id": "sSpFW3pDn23P",
        "outputId": "68c12b8b-9104-48d2-b221-d535e74d30b5"
      },
      "outputs": [
        {
          "name": "stderr",
          "output_type": "stream",
          "text": [
            "https://huggingface.co/patrickvonplaten/wav2vec2-base-timit-demo-google-colab/resolve/main/config.json not found in cache or force_download set to True, downloading to /root/.cache/huggingface/transformers/tmpxcw3xuut\n"
          ]
        },
        {
          "data": {
            "application/vnd.jupyter.widget-view+json": {
              "model_id": "f5d5aeb389c54f78b81b010dd74c6f38",
              "version_major": 2,
              "version_minor": 0
            },
            "text/plain": [
              "Downloading: 0.00B [00:00, ?B/s]"
            ]
          },
          "metadata": {},
          "output_type": "display_data"
        },
        {
          "name": "stderr",
          "output_type": "stream",
          "text": [
            "storing https://huggingface.co/patrickvonplaten/wav2vec2-base-timit-demo-google-colab/resolve/main/config.json in cache at /root/.cache/huggingface/transformers/7606a293c66b1cba6bb9a342dcffe3831dc19a120cfeeb9e57cdf6ffb9630f3f.ef35f564609701d8892f07680ab46b53a63fbd7bc5af84534d1200098d6e9d65\n",
            "creating metadata file for /root/.cache/huggingface/transformers/7606a293c66b1cba6bb9a342dcffe3831dc19a120cfeeb9e57cdf6ffb9630f3f.ef35f564609701d8892f07680ab46b53a63fbd7bc5af84534d1200098d6e9d65\n",
            "loading configuration file https://huggingface.co/patrickvonplaten/wav2vec2-base-timit-demo-google-colab/resolve/main/config.json from cache at /root/.cache/huggingface/transformers/7606a293c66b1cba6bb9a342dcffe3831dc19a120cfeeb9e57cdf6ffb9630f3f.ef35f564609701d8892f07680ab46b53a63fbd7bc5af84534d1200098d6e9d65\n",
            "Model config Wav2Vec2Config {\n",
            "  \"_name_or_path\": \"facebook/wav2vec2-base\",\n",
            "  \"activation_dropout\": 0.0,\n",
            "  \"adapter_kernel_size\": 3,\n",
            "  \"adapter_stride\": 2,\n",
            "  \"add_adapter\": false,\n",
            "  \"apply_spec_augment\": true,\n",
            "  \"architectures\": [\n",
            "    \"Wav2Vec2ForCTC\"\n",
            "  ],\n",
            "  \"attention_dropout\": 0.1,\n",
            "  \"bos_token_id\": 1,\n",
            "  \"classifier_proj_size\": 256,\n",
            "  \"codevector_dim\": 256,\n",
            "  \"contrastive_logits_temperature\": 0.1,\n",
            "  \"conv_bias\": false,\n",
            "  \"conv_dim\": [\n",
            "    512,\n",
            "    512,\n",
            "    512,\n",
            "    512,\n",
            "    512,\n",
            "    512,\n",
            "    512\n",
            "  ],\n",
            "  \"conv_kernel\": [\n",
            "    10,\n",
            "    3,\n",
            "    3,\n",
            "    3,\n",
            "    3,\n",
            "    2,\n",
            "    2\n",
            "  ],\n",
            "  \"conv_stride\": [\n",
            "    5,\n",
            "    2,\n",
            "    2,\n",
            "    2,\n",
            "    2,\n",
            "    2,\n",
            "    2\n",
            "  ],\n",
            "  \"ctc_loss_reduction\": \"mean\",\n",
            "  \"ctc_zero_infinity\": false,\n",
            "  \"diversity_loss_weight\": 0.1,\n",
            "  \"do_stable_layer_norm\": false,\n",
            "  \"eos_token_id\": 2,\n",
            "  \"feat_extract_activation\": \"gelu\",\n",
            "  \"feat_extract_norm\": \"group\",\n",
            "  \"feat_proj_dropout\": 0.1,\n",
            "  \"feat_quantizer_dropout\": 0.0,\n",
            "  \"final_dropout\": 0.0,\n",
            "  \"freeze_feat_extract_train\": true,\n",
            "  \"hidden_act\": \"gelu\",\n",
            "  \"hidden_dropout\": 0.1,\n",
            "  \"hidden_size\": 768,\n",
            "  \"initializer_range\": 0.02,\n",
            "  \"intermediate_size\": 3072,\n",
            "  \"layer_norm_eps\": 1e-05,\n",
            "  \"layerdrop\": 0.0,\n",
            "  \"mask_channel_length\": 10,\n",
            "  \"mask_channel_min_space\": 1,\n",
            "  \"mask_channel_other\": 0.0,\n",
            "  \"mask_channel_prob\": 0.0,\n",
            "  \"mask_channel_selection\": \"static\",\n",
            "  \"mask_feature_length\": 10,\n",
            "  \"mask_feature_min_masks\": 0,\n",
            "  \"mask_feature_prob\": 0.0,\n",
            "  \"mask_time_length\": 10,\n",
            "  \"mask_time_min_masks\": 2,\n",
            "  \"mask_time_min_space\": 1,\n",
            "  \"mask_time_other\": 0.0,\n",
            "  \"mask_time_prob\": 0.05,\n",
            "  \"mask_time_selection\": \"static\",\n",
            "  \"model_type\": \"wav2vec2\",\n",
            "  \"no_mask_channel_overlap\": false,\n",
            "  \"no_mask_time_overlap\": false,\n",
            "  \"num_adapter_layers\": 3,\n",
            "  \"num_attention_heads\": 12,\n",
            "  \"num_codevector_groups\": 2,\n",
            "  \"num_codevectors_per_group\": 320,\n",
            "  \"num_conv_pos_embedding_groups\": 16,\n",
            "  \"num_conv_pos_embeddings\": 128,\n",
            "  \"num_feat_extract_layers\": 7,\n",
            "  \"num_hidden_layers\": 12,\n",
            "  \"num_negatives\": 100,\n",
            "  \"output_hidden_size\": 768,\n",
            "  \"pad_token_id\": 29,\n",
            "  \"proj_codevector_dim\": 256,\n",
            "  \"tdnn_dilation\": [\n",
            "    1,\n",
            "    2,\n",
            "    3,\n",
            "    1,\n",
            "    1\n",
            "  ],\n",
            "  \"tdnn_dim\": [\n",
            "    512,\n",
            "    512,\n",
            "    512,\n",
            "    512,\n",
            "    1500\n",
            "  ],\n",
            "  \"tdnn_kernel\": [\n",
            "    5,\n",
            "    3,\n",
            "    3,\n",
            "    1,\n",
            "    1\n",
            "  ],\n",
            "  \"torch_dtype\": \"float32\",\n",
            "  \"transformers_version\": \"4.17.0\",\n",
            "  \"use_weighted_layer_sum\": false,\n",
            "  \"vocab_size\": 32,\n",
            "  \"xvector_output_dim\": 512\n",
            "}\n",
            "\n",
            "https://huggingface.co/patrickvonplaten/wav2vec2-base-timit-demo-google-colab/resolve/main/pytorch_model.bin not found in cache or force_download set to True, downloading to /root/.cache/huggingface/transformers/tmp3w4ip4__\n"
          ]
        },
        {
          "data": {
            "application/vnd.jupyter.widget-view+json": {
              "model_id": "e073b8ca40bc42bd9393ab6423cc5262",
              "version_major": 2,
              "version_minor": 0
            },
            "text/plain": [
              "Downloading:   0%|          | 0.00/360M [00:00<?, ?B/s]"
            ]
          },
          "metadata": {},
          "output_type": "display_data"
        },
        {
          "name": "stderr",
          "output_type": "stream",
          "text": [
            "storing https://huggingface.co/patrickvonplaten/wav2vec2-base-timit-demo-google-colab/resolve/main/pytorch_model.bin in cache at /root/.cache/huggingface/transformers/666767bce47a87d50dfd1ceac759d5dc9db6eac8d185ae8f9a7dd388687c28c5.20bdf845b9896c1d0a213f03187b544f2a12b23d751b88c7b49a95d00bd946e1\n",
            "creating metadata file for /root/.cache/huggingface/transformers/666767bce47a87d50dfd1ceac759d5dc9db6eac8d185ae8f9a7dd388687c28c5.20bdf845b9896c1d0a213f03187b544f2a12b23d751b88c7b49a95d00bd946e1\n",
            "loading weights file https://huggingface.co/patrickvonplaten/wav2vec2-base-timit-demo-google-colab/resolve/main/pytorch_model.bin from cache at /root/.cache/huggingface/transformers/666767bce47a87d50dfd1ceac759d5dc9db6eac8d185ae8f9a7dd388687c28c5.20bdf845b9896c1d0a213f03187b544f2a12b23d751b88c7b49a95d00bd946e1\n",
            "All model checkpoint weights were used when initializing Wav2Vec2ForCTC.\n",
            "\n",
            "All the weights of Wav2Vec2ForCTC were initialized from the model checkpoint at patrickvonplaten/wav2vec2-base-timit-demo-google-colab.\n",
            "If your task is similar to the task the model of the checkpoint was trained on, you can already use Wav2Vec2ForCTC for predictions without further training.\n"
          ]
        }
      ],
      "source": [
        "model = Wav2Vec2ForCTC.from_pretrained(\"patrickvonplaten/wav2vec2-base-timit-demo-google-colab\").cuda()"
      ]
    },
    {
      "cell_type": "markdown",
      "metadata": {
        "id": "TUuZpB0v5jn_"
      },
      "source": [
        "Now, we will make use of the `map(...)` function to predict the transcription of every test sample and to save the prediction in the dataset itself. We will call the resulting dictionary `\"results\"`.\n",
        "\n",
        "**Note**: we evaluate the test data set with `batch_size=1` on purpose due to this [issue](https://github.com/pytorch/fairseq/issues/3227). Since padded inputs don't yield the exact same output as non-padded inputs, a better WER can be achieved by not padding the input at all."
      ]
    },
    {
      "cell_type": "code",
      "execution_count": null,
      "metadata": {
        "colab": {
          "background_save": true
        },
        "id": "40naJl53n7jT"
      },
      "outputs": [],
      "source": [
        "def map_to_result(batch):\n",
        "  with torch.no_grad():\n",
        "    input_values = torch.tensor(batch[\"input_values\"], device=\"cuda\").unsqueeze(0)\n",
        "    logits = model(input_values).logits\n",
        "\n",
        "  pred_ids = torch.argmax(logits, dim=-1)\n",
        "  batch[\"pred_str\"] = processor.batch_decode(pred_ids)[0]\n",
        "  batch[\"text\"] = processor.decode(batch[\"labels\"], group_tokens=False)\n",
        "\n",
        "  return batch"
      ]
    },
    {
      "cell_type": "code",
      "execution_count": null,
      "metadata": {
        "colab": {
          "background_save": true,
          "referenced_widgets": [
            "159532ca8494421aae9854a9814f1ddc"
          ]
        },
        "id": "uPqH7gZqrGPi",
        "outputId": "ef48f91e-dac9-4164-edcc-251c7cb498ca"
      },
      "outputs": [
        {
          "data": {
            "application/vnd.jupyter.widget-view+json": {
              "model_id": "159532ca8494421aae9854a9814f1ddc",
              "version_major": 2,
              "version_minor": 0
            },
            "text/plain": [
              "0ex [00:00, ?ex/s]"
            ]
          },
          "metadata": {},
          "output_type": "display_data"
        }
      ],
      "source": [
        "results = timit[\"test\"].map(map_to_result, remove_columns=timit[\"test\"].column_names)"
      ]
    },
    {
      "cell_type": "markdown",
      "metadata": {
        "id": "-mqpdB8R6rty"
      },
      "source": [
        "Let's compute the overall WER now."
      ]
    },
    {
      "cell_type": "code",
      "execution_count": null,
      "metadata": {
        "colab": {
          "background_save": true
        },
        "id": "PmqAb4Isx8OK",
        "outputId": "1196b928-4025-487e-e07b-6af5d9d6dfe3"
      },
      "outputs": [
        {
          "name": "stdout",
          "output_type": "stream",
          "text": [
            "Test WER: 8.135\n"
          ]
        }
      ],
      "source": [
        "print(\"Test WER: {:.3f}\".format(wer_metric.compute(predictions=results[\"pred_str\"], references=results[\"text\"])))"
      ]
    },
    {
      "cell_type": "markdown",
      "metadata": {
        "id": "6Va94d8Y7Q98"
      },
      "source": [
        "21.8% WER - not bad! Our demo model would have probably made it on the official [leaderboard](https://paperswithcode.com/sota/speech-recognition-on-timit).\n",
        "\n",
        "Let's take a look at some predictions to see what errors are made by the model."
      ]
    },
    {
      "cell_type": "code",
      "execution_count": null,
      "metadata": {
        "colab": {
          "background_save": true
        },
        "id": "odNDiFVRy53w",
        "outputId": "ceb9c80c-a66c-42d8-9516-bced043dc79e"
      },
      "outputs": [
        {
          "data": {
            "text/html": [
              "<table border=\"1\" class=\"dataframe\">\n",
              "  <thead>\n",
              "    <tr style=\"text-align: right;\">\n",
              "      <th></th>\n",
              "      <th>pred_str</th>\n",
              "      <th>text</th>\n",
              "    </tr>\n",
              "  </thead>\n",
              "  <tbody>\n",
              "    <tr>\n",
              "      <th>0</th>\n",
              "      <td>young children should avoid exposure to contageous diseases</td>\n",
              "      <td>ongxkpz'lisvyxpd'ngispjqnlspy rndgvypenpznxejklngdpsldyjdydp</td>\n",
              "    </tr>\n",
              "    <tr>\n",
              "      <th>1</th>\n",
              "      <td>art official intelligence is for real</td>\n",
              "      <td>jvelulzljiplxeyiilkyxzypldpunvpvyjip</td>\n",
              "    </tr>\n",
              "    <tr>\n",
              "      <th>2</th>\n",
              "      <td>theire propes were two step latters a chair and a pame fen</td>\n",
              "      <td>e'ylvprvnrdphyvypehnpdeyrijssyvdpjpz'jlvpjxspjprjiwpujxp</td>\n",
              "    </tr>\n",
              "    <tr>\n",
              "      <th>3</th>\n",
              "      <td>if people were more generous there would be no need for wealfar</td>\n",
              "      <td>luprynriyphyvypwnvypkyxyvngdpe'yvyphngispaypxnpxyyspunvphyiujvyp</td>\n",
              "    </tr>\n",
              "    <tr>\n",
              "      <th>4</th>\n",
              "      <td>the fish began to leep frantically on the surface of the smalleaku</td>\n",
              "      <td>e'ypuld'paykjxpenpiyjrpuvjxelzjiiopnxpe'ypdgvujzypnupe'ypdwjiipijbyp</td>\n",
              "    </tr>\n",
              "    <tr>\n",
              "      <th>5</th>\n",
              "      <td>her rite hand aques whenever the baramatric presuer changes</td>\n",
              "      <td>'yvpvlk'ep'jxspjz'ydph'yxyqyvpe'ypajvnwyevlzprvyddgvypz'jxkydp</td>\n",
              "    </tr>\n",
              "    <tr>\n",
              "      <th>6</th>\n",
              "      <td>only lawyers loved milunears</td>\n",
              "      <td>nxiopijhoyvdpinqypwliilnxjlvydp</td>\n",
              "    </tr>\n",
              "    <tr>\n",
              "      <th>7</th>\n",
              "      <td>the nearest synnegu may not be within walk in distance</td>\n",
              "      <td>e'ypxyjvydepdoxjknkgypwjopxnepayphle'lxphjiblxkpsldejxzyp</td>\n",
              "    </tr>\n",
              "    <tr>\n",
              "      <th>8</th>\n",
              "      <td>basket ball can be an entertaining sport</td>\n",
              "      <td>ajdbyeajiipzjxpaypjxpyxeyvejlxlxkpdrnvep</td>\n",
              "    </tr>\n",
              "    <tr>\n",
              "      <th>9</th>\n",
              "      <td>she had your dark suit in greasy wash water all year</td>\n",
              "      <td>d'yp'jspongvpsjvbpdgleplxpkvyjdophjd'phjeyvpjiipoyjvp</td>\n",
              "    </tr>\n",
              "  </tbody>\n",
              "</table>"
            ],
            "text/plain": [
              "<IPython.core.display.HTML object>"
            ]
          },
          "metadata": {},
          "output_type": "display_data"
        }
      ],
      "source": [
        "show_random_elements(results)"
      ]
    },
    {
      "cell_type": "markdown",
      "metadata": {
        "id": "5HFCujhd9n4N"
      },
      "source": [
        "It becomes clear that the predicted transcriptions are acoustically very similar to the target transcriptions, but often contain spelling or grammatical errors. This shouldn't be very surprising though given that we purely rely on Wav2Vec2 without making use of a language model."
      ]
    },
    {
      "cell_type": "markdown",
      "metadata": {
        "id": "a3ydKvUl9FTK"
      },
      "source": [
        "Finally, to better understand how CTC works, it is worth taking a deeper look at the exact output of the model. Let's run the first test sample through the model, take the predicted ids and convert them to their corresponding tokens."
      ]
    },
    {
      "cell_type": "code",
      "execution_count": null,
      "metadata": {
        "colab": {
          "background_save": true
        },
        "id": "AqaM45t87uM4",
        "outputId": "489eb586-99ed-43e8-ef03-899a2d5db111"
      },
      "outputs": [
        {
          "data": {
            "application/vnd.google.colaboratory.intrinsic+json": {
              "type": "string"
            },
            "text/plain": [
              "'[PAD] [PAD] [PAD] [PAD] [PAD] t t h h e | | | b [PAD] [PAD] [PAD] u u n n g g [PAD] [PAD] l l l l [PAD] o o o | | w w a a s s | | [PAD] [PAD] [PAD] p l l [PAD] e s s s s [PAD] n n t t [PAD] l l l y y | | [PAD] s s s i i t t t [PAD] u u u u u [PAD] [PAD] [PAD] [PAD] a a t t [PAD] e e d d | | [PAD] n n e e a a r | | t t h e e | | s s h h [PAD] [PAD] [PAD] [PAD] o o r r r r | [PAD] [PAD] [PAD] [PAD] [PAD] [PAD] [PAD] [PAD] [PAD]'"
            ]
          },
          "execution_count": 46,
          "metadata": {},
          "output_type": "execute_result"
        }
      ],
      "source": [
        "model.to(\"cuda\")\n",
        "\n",
        "with torch.no_grad():\n",
        "  logits = model(torch.tensor(timit[\"test\"][:1][\"input_values\"], device=\"cuda\")).logits\n",
        "\n",
        "pred_ids = torch.argmax(logits, dim=-1)\n",
        "\n",
        "# convert ids to tokens\n",
        "\" \".join(processor.tokenizer.convert_ids_to_tokens(pred_ids[0].tolist()))"
      ]
    },
    {
      "cell_type": "markdown",
      "metadata": {
        "id": "tdO8E28g-n5C"
      },
      "source": [
        "The output should make it a bit clearer how CTC works in practice. The model is to some extent invariant to speaking rate since it has learned to either just repeat the same token in case the speech chunk to be classified still corresponds to the same token. This makes CTC a very powerful algorithm for speech recognition since the speech file's transcription is often very much independent of its length.\n",
        "\n",
        "I again advise the reader to take a look at [this](https://distill.pub/2017/ctc) very nice blog post to better understand CTC."
      ]
    }
  ],
  "metadata": {
    "accelerator": "GPU",
    "colab": {
      "machine_shape": "hm",
      "provenance": [],
      "toc_visible": true,
      "include_colab_link": true
    },
    "kernelspec": {
      "display_name": "Python 3",
      "name": "python3"
    },
    "widgets": {
      "application/vnd.jupyter.widget-state+json": {
        "0058396ec61a4f75a7db09a5f38d125b": {
          "model_module": "@jupyter-widgets/base",
          "model_module_version": "1.2.0",
          "model_name": "LayoutModel",
          "state": {
            "_model_module": "@jupyter-widgets/base",
            "_model_module_version": "1.2.0",
            "_model_name": "LayoutModel",
            "_view_count": null,
            "_view_module": "@jupyter-widgets/base",
            "_view_module_version": "1.2.0",
            "_view_name": "LayoutView",
            "align_content": null,
            "align_items": null,
            "align_self": null,
            "border": null,
            "bottom": null,
            "display": null,
            "flex": null,
            "flex_flow": null,
            "grid_area": null,
            "grid_auto_columns": null,
            "grid_auto_flow": null,
            "grid_auto_rows": null,
            "grid_column": null,
            "grid_gap": null,
            "grid_row": null,
            "grid_template_areas": null,
            "grid_template_columns": null,
            "grid_template_rows": null,
            "height": null,
            "justify_content": null,
            "justify_items": null,
            "left": null,
            "margin": null,
            "max_height": null,
            "max_width": null,
            "min_height": null,
            "min_width": null,
            "object_fit": null,
            "object_position": null,
            "order": null,
            "overflow": null,
            "overflow_x": null,
            "overflow_y": null,
            "padding": null,
            "right": null,
            "top": null,
            "visibility": null,
            "width": "20px"
          }
        },
        "03d71c90397247f7a0b46f02be423a66": {
          "model_module": "@jupyter-widgets/controls",
          "model_module_version": "1.5.0",
          "model_name": "HBoxModel",
          "state": {
            "_dom_classes": [],
            "_model_module": "@jupyter-widgets/controls",
            "_model_module_version": "1.5.0",
            "_model_name": "HBoxModel",
            "_view_count": null,
            "_view_module": "@jupyter-widgets/controls",
            "_view_module_version": "1.5.0",
            "_view_name": "HBoxView",
            "box_style": "",
            "children": [
              "IPY_MODEL_7ba0b13ba0604b26afe63e5dc86e2f1e",
              "IPY_MODEL_41ff8cbd05464696b86989bf3c39c1e3",
              "IPY_MODEL_a84b851075bf4773a463ed24a2f3eb24"
            ],
            "layout": "IPY_MODEL_6f7688e6cf04412ab2dac06baeb4e666"
          }
        },
        "05b403993fc04c128fe3423e16085529": {
          "model_module": "@jupyter-widgets/base",
          "model_module_version": "1.2.0",
          "model_name": "LayoutModel",
          "state": {
            "_model_module": "@jupyter-widgets/base",
            "_model_module_version": "1.2.0",
            "_model_name": "LayoutModel",
            "_view_count": null,
            "_view_module": "@jupyter-widgets/base",
            "_view_module_version": "1.2.0",
            "_view_name": "LayoutView",
            "align_content": null,
            "align_items": null,
            "align_self": null,
            "border": null,
            "bottom": null,
            "display": null,
            "flex": null,
            "flex_flow": null,
            "grid_area": null,
            "grid_auto_columns": null,
            "grid_auto_flow": null,
            "grid_auto_rows": null,
            "grid_column": null,
            "grid_gap": null,
            "grid_row": null,
            "grid_template_areas": null,
            "grid_template_columns": null,
            "grid_template_rows": null,
            "height": null,
            "justify_content": null,
            "justify_items": null,
            "left": null,
            "margin": null,
            "max_height": null,
            "max_width": null,
            "min_height": null,
            "min_width": null,
            "object_fit": null,
            "object_position": null,
            "order": null,
            "overflow": null,
            "overflow_x": null,
            "overflow_y": null,
            "padding": null,
            "right": null,
            "top": null,
            "visibility": null,
            "width": null
          }
        },
        "05de8b07f5a54cdaabb7ad3de4a032b3": {
          "model_module": "@jupyter-widgets/controls",
          "model_module_version": "1.5.0",
          "model_name": "DescriptionStyleModel",
          "state": {
            "_model_module": "@jupyter-widgets/controls",
            "_model_module_version": "1.5.0",
            "_model_name": "DescriptionStyleModel",
            "_view_count": null,
            "_view_module": "@jupyter-widgets/base",
            "_view_module_version": "1.2.0",
            "_view_name": "StyleView",
            "description_width": ""
          }
        },
        "090847f7912e496fbc1ef8673674c1ed": {
          "model_module": "@jupyter-widgets/base",
          "model_module_version": "1.2.0",
          "model_name": "LayoutModel",
          "state": {
            "_model_module": "@jupyter-widgets/base",
            "_model_module_version": "1.2.0",
            "_model_name": "LayoutModel",
            "_view_count": null,
            "_view_module": "@jupyter-widgets/base",
            "_view_module_version": "1.2.0",
            "_view_name": "LayoutView",
            "align_content": null,
            "align_items": null,
            "align_self": null,
            "border": null,
            "bottom": null,
            "display": null,
            "flex": null,
            "flex_flow": null,
            "grid_area": null,
            "grid_auto_columns": null,
            "grid_auto_flow": null,
            "grid_auto_rows": null,
            "grid_column": null,
            "grid_gap": null,
            "grid_row": null,
            "grid_template_areas": null,
            "grid_template_columns": null,
            "grid_template_rows": null,
            "height": null,
            "justify_content": null,
            "justify_items": null,
            "left": null,
            "margin": null,
            "max_height": null,
            "max_width": null,
            "min_height": null,
            "min_width": null,
            "object_fit": null,
            "object_position": null,
            "order": null,
            "overflow": null,
            "overflow_x": null,
            "overflow_y": null,
            "padding": null,
            "right": null,
            "top": null,
            "visibility": null,
            "width": null
          }
        },
        "0ada10817cc44b6a9b903815fc9b2455": {
          "model_module": "@jupyter-widgets/base",
          "model_module_version": "1.2.0",
          "model_name": "LayoutModel",
          "state": {
            "_model_module": "@jupyter-widgets/base",
            "_model_module_version": "1.2.0",
            "_model_name": "LayoutModel",
            "_view_count": null,
            "_view_module": "@jupyter-widgets/base",
            "_view_module_version": "1.2.0",
            "_view_name": "LayoutView",
            "align_content": null,
            "align_items": null,
            "align_self": null,
            "border": null,
            "bottom": null,
            "display": null,
            "flex": null,
            "flex_flow": null,
            "grid_area": null,
            "grid_auto_columns": null,
            "grid_auto_flow": null,
            "grid_auto_rows": null,
            "grid_column": null,
            "grid_gap": null,
            "grid_row": null,
            "grid_template_areas": null,
            "grid_template_columns": null,
            "grid_template_rows": null,
            "height": null,
            "justify_content": null,
            "justify_items": null,
            "left": null,
            "margin": null,
            "max_height": null,
            "max_width": null,
            "min_height": null,
            "min_width": null,
            "object_fit": null,
            "object_position": null,
            "order": null,
            "overflow": null,
            "overflow_x": null,
            "overflow_y": null,
            "padding": null,
            "right": null,
            "top": null,
            "visibility": null,
            "width": null
          }
        },
        "0b8b1be79ae24a31b1474824c5e52de5": {
          "model_module": "@jupyter-widgets/controls",
          "model_module_version": "1.5.0",
          "model_name": "FloatProgressModel",
          "state": {
            "_dom_classes": [],
            "_model_module": "@jupyter-widgets/controls",
            "_model_module_version": "1.5.0",
            "_model_name": "FloatProgressModel",
            "_view_count": null,
            "_view_module": "@jupyter-widgets/controls",
            "_view_module_version": "1.5.0",
            "_view_name": "ProgressView",
            "bar_style": "success",
            "description": "",
            "description_tooltip": null,
            "layout": "IPY_MODEL_835cdd92279b4385af6a554c416ee245",
            "max": 1,
            "min": 0,
            "orientation": "horizontal",
            "style": "IPY_MODEL_91190c7d6c7b460cb028183cf51bb1c1",
            "value": 1
          }
        },
        "10fd19a14d1f45aba528e4f19b675638": {
          "model_module": "@jupyter-widgets/controls",
          "model_module_version": "1.5.0",
          "model_name": "DescriptionStyleModel",
          "state": {
            "_model_module": "@jupyter-widgets/controls",
            "_model_module_version": "1.5.0",
            "_model_name": "DescriptionStyleModel",
            "_view_count": null,
            "_view_module": "@jupyter-widgets/base",
            "_view_module_version": "1.2.0",
            "_view_name": "StyleView",
            "description_width": ""
          }
        },
        "14a6810e336a473cbcef56c1b6ed59cf": {
          "model_module": "@jupyter-widgets/controls",
          "model_module_version": "1.5.0",
          "model_name": "DescriptionStyleModel",
          "state": {
            "_model_module": "@jupyter-widgets/controls",
            "_model_module_version": "1.5.0",
            "_model_name": "DescriptionStyleModel",
            "_view_count": null,
            "_view_module": "@jupyter-widgets/base",
            "_view_module_version": "1.2.0",
            "_view_name": "StyleView",
            "description_width": ""
          }
        },
        "1504d726f2f448b4a9b36d5034f3d138": {
          "model_module": "@jupyter-widgets/base",
          "model_module_version": "1.2.0",
          "model_name": "LayoutModel",
          "state": {
            "_model_module": "@jupyter-widgets/base",
            "_model_module_version": "1.2.0",
            "_model_name": "LayoutModel",
            "_view_count": null,
            "_view_module": "@jupyter-widgets/base",
            "_view_module_version": "1.2.0",
            "_view_name": "LayoutView",
            "align_content": null,
            "align_items": null,
            "align_self": null,
            "border": null,
            "bottom": null,
            "display": null,
            "flex": null,
            "flex_flow": null,
            "grid_area": null,
            "grid_auto_columns": null,
            "grid_auto_flow": null,
            "grid_auto_rows": null,
            "grid_column": null,
            "grid_gap": null,
            "grid_row": null,
            "grid_template_areas": null,
            "grid_template_columns": null,
            "grid_template_rows": null,
            "height": null,
            "justify_content": null,
            "justify_items": null,
            "left": null,
            "margin": null,
            "max_height": null,
            "max_width": null,
            "min_height": null,
            "min_width": null,
            "object_fit": null,
            "object_position": null,
            "order": null,
            "overflow": null,
            "overflow_x": null,
            "overflow_y": null,
            "padding": null,
            "right": null,
            "top": null,
            "visibility": null,
            "width": null
          }
        },
        "15666b87c18443b2b5dcc92821b310e7": {
          "model_module": "@jupyter-widgets/base",
          "model_module_version": "1.2.0",
          "model_name": "LayoutModel",
          "state": {
            "_model_module": "@jupyter-widgets/base",
            "_model_module_version": "1.2.0",
            "_model_name": "LayoutModel",
            "_view_count": null,
            "_view_module": "@jupyter-widgets/base",
            "_view_module_version": "1.2.0",
            "_view_name": "LayoutView",
            "align_content": null,
            "align_items": null,
            "align_self": null,
            "border": null,
            "bottom": null,
            "display": null,
            "flex": null,
            "flex_flow": null,
            "grid_area": null,
            "grid_auto_columns": null,
            "grid_auto_flow": null,
            "grid_auto_rows": null,
            "grid_column": null,
            "grid_gap": null,
            "grid_row": null,
            "grid_template_areas": null,
            "grid_template_columns": null,
            "grid_template_rows": null,
            "height": null,
            "justify_content": null,
            "justify_items": null,
            "left": null,
            "margin": null,
            "max_height": null,
            "max_width": null,
            "min_height": null,
            "min_width": null,
            "object_fit": null,
            "object_position": null,
            "order": null,
            "overflow": null,
            "overflow_x": null,
            "overflow_y": null,
            "padding": null,
            "right": null,
            "top": null,
            "visibility": null,
            "width": null
          }
        },
        "15e195a2c3044feababc62304301f14f": {
          "model_module": "@jupyter-widgets/controls",
          "model_module_version": "1.5.0",
          "model_name": "DescriptionStyleModel",
          "state": {
            "_model_module": "@jupyter-widgets/controls",
            "_model_module_version": "1.5.0",
            "_model_name": "DescriptionStyleModel",
            "_view_count": null,
            "_view_module": "@jupyter-widgets/base",
            "_view_module_version": "1.2.0",
            "_view_name": "StyleView",
            "description_width": ""
          }
        },
        "165636445bfc4733970d1a7ded5f6ede": {
          "model_module": "@jupyter-widgets/controls",
          "model_module_version": "1.5.0",
          "model_name": "DescriptionStyleModel",
          "state": {
            "_model_module": "@jupyter-widgets/controls",
            "_model_module_version": "1.5.0",
            "_model_name": "DescriptionStyleModel",
            "_view_count": null,
            "_view_module": "@jupyter-widgets/base",
            "_view_module_version": "1.2.0",
            "_view_name": "StyleView",
            "description_width": ""
          }
        },
        "196c5d364c0a45d1b07cb8c1850eae8e": {
          "model_module": "@jupyter-widgets/base",
          "model_module_version": "1.2.0",
          "model_name": "LayoutModel",
          "state": {
            "_model_module": "@jupyter-widgets/base",
            "_model_module_version": "1.2.0",
            "_model_name": "LayoutModel",
            "_view_count": null,
            "_view_module": "@jupyter-widgets/base",
            "_view_module_version": "1.2.0",
            "_view_name": "LayoutView",
            "align_content": null,
            "align_items": null,
            "align_self": null,
            "border": null,
            "bottom": null,
            "display": null,
            "flex": null,
            "flex_flow": null,
            "grid_area": null,
            "grid_auto_columns": null,
            "grid_auto_flow": null,
            "grid_auto_rows": null,
            "grid_column": null,
            "grid_gap": null,
            "grid_row": null,
            "grid_template_areas": null,
            "grid_template_columns": null,
            "grid_template_rows": null,
            "height": null,
            "justify_content": null,
            "justify_items": null,
            "left": null,
            "margin": null,
            "max_height": null,
            "max_width": null,
            "min_height": null,
            "min_width": null,
            "object_fit": null,
            "object_position": null,
            "order": null,
            "overflow": null,
            "overflow_x": null,
            "overflow_y": null,
            "padding": null,
            "right": null,
            "top": null,
            "visibility": null,
            "width": null
          }
        },
        "1a36d660c6474845bbfdcffffb6dcc68": {
          "model_module": "@jupyter-widgets/controls",
          "model_module_version": "1.5.0",
          "model_name": "HTMLModel",
          "state": {
            "_dom_classes": [],
            "_model_module": "@jupyter-widgets/controls",
            "_model_module_version": "1.5.0",
            "_model_name": "HTMLModel",
            "_view_count": null,
            "_view_module": "@jupyter-widgets/controls",
            "_view_module_version": "1.5.0",
            "_view_name": "HTMLView",
            "description": "",
            "description_tooltip": null,
            "layout": "IPY_MODEL_7b2e3d37cdef4f5282f01745c3b1a0f4",
            "placeholder": "​",
            "style": "IPY_MODEL_7b694dd16e54443f8da6af91b1ecd821",
            "value": " 1675/0 [00:01&lt;00:00, 1493.22 examples/s]"
          }
        },
        "1cb0c8f214cc4de791e49af3c793380a": {
          "model_module": "@jupyter-widgets/base",
          "model_module_version": "1.2.0",
          "model_name": "LayoutModel",
          "state": {
            "_model_module": "@jupyter-widgets/base",
            "_model_module_version": "1.2.0",
            "_model_name": "LayoutModel",
            "_view_count": null,
            "_view_module": "@jupyter-widgets/base",
            "_view_module_version": "1.2.0",
            "_view_name": "LayoutView",
            "align_content": null,
            "align_items": null,
            "align_self": null,
            "border": null,
            "bottom": null,
            "display": null,
            "flex": null,
            "flex_flow": null,
            "grid_area": null,
            "grid_auto_columns": null,
            "grid_auto_flow": null,
            "grid_auto_rows": null,
            "grid_column": null,
            "grid_gap": null,
            "grid_row": null,
            "grid_template_areas": null,
            "grid_template_columns": null,
            "grid_template_rows": null,
            "height": null,
            "justify_content": null,
            "justify_items": null,
            "left": null,
            "margin": null,
            "max_height": null,
            "max_width": null,
            "min_height": null,
            "min_width": null,
            "object_fit": null,
            "object_position": null,
            "order": null,
            "overflow": null,
            "overflow_x": null,
            "overflow_y": null,
            "padding": null,
            "right": null,
            "top": null,
            "visibility": null,
            "width": null
          }
        },
        "225e6afb5c154fe6b3a1b1279287cb85": {
          "model_module": "@jupyter-widgets/base",
          "model_module_version": "1.2.0",
          "model_name": "LayoutModel",
          "state": {
            "_model_module": "@jupyter-widgets/base",
            "_model_module_version": "1.2.0",
            "_model_name": "LayoutModel",
            "_view_count": null,
            "_view_module": "@jupyter-widgets/base",
            "_view_module_version": "1.2.0",
            "_view_name": "LayoutView",
            "align_content": null,
            "align_items": null,
            "align_self": null,
            "border": null,
            "bottom": null,
            "display": null,
            "flex": null,
            "flex_flow": null,
            "grid_area": null,
            "grid_auto_columns": null,
            "grid_auto_flow": null,
            "grid_auto_rows": null,
            "grid_column": null,
            "grid_gap": null,
            "grid_row": null,
            "grid_template_areas": null,
            "grid_template_columns": null,
            "grid_template_rows": null,
            "height": null,
            "justify_content": null,
            "justify_items": null,
            "left": null,
            "margin": null,
            "max_height": null,
            "max_width": null,
            "min_height": null,
            "min_width": null,
            "object_fit": null,
            "object_position": null,
            "order": null,
            "overflow": null,
            "overflow_x": null,
            "overflow_y": null,
            "padding": null,
            "right": null,
            "top": null,
            "visibility": null,
            "width": null
          }
        },
        "280663ff96ce499aa0cb7bca67f59a85": {
          "model_module": "@jupyter-widgets/base",
          "model_module_version": "1.2.0",
          "model_name": "LayoutModel",
          "state": {
            "_model_module": "@jupyter-widgets/base",
            "_model_module_version": "1.2.0",
            "_model_name": "LayoutModel",
            "_view_count": null,
            "_view_module": "@jupyter-widgets/base",
            "_view_module_version": "1.2.0",
            "_view_name": "LayoutView",
            "align_content": null,
            "align_items": null,
            "align_self": null,
            "border": null,
            "bottom": null,
            "display": null,
            "flex": null,
            "flex_flow": null,
            "grid_area": null,
            "grid_auto_columns": null,
            "grid_auto_flow": null,
            "grid_auto_rows": null,
            "grid_column": null,
            "grid_gap": null,
            "grid_row": null,
            "grid_template_areas": null,
            "grid_template_columns": null,
            "grid_template_rows": null,
            "height": null,
            "justify_content": null,
            "justify_items": null,
            "left": null,
            "margin": null,
            "max_height": null,
            "max_width": null,
            "min_height": null,
            "min_width": null,
            "object_fit": null,
            "object_position": null,
            "order": null,
            "overflow": null,
            "overflow_x": null,
            "overflow_y": null,
            "padding": null,
            "right": null,
            "top": null,
            "visibility": null,
            "width": null
          }
        },
        "2a011e9f253e4cef8f52f45c110c0295": {
          "model_module": "@jupyter-widgets/controls",
          "model_module_version": "1.5.0",
          "model_name": "DescriptionStyleModel",
          "state": {
            "_model_module": "@jupyter-widgets/controls",
            "_model_module_version": "1.5.0",
            "_model_name": "DescriptionStyleModel",
            "_view_count": null,
            "_view_module": "@jupyter-widgets/base",
            "_view_module_version": "1.2.0",
            "_view_name": "StyleView",
            "description_width": ""
          }
        },
        "2a49340e51fc4054a2616d1990109d7c": {
          "model_module": "@jupyter-widgets/controls",
          "model_module_version": "1.5.0",
          "model_name": "FloatProgressModel",
          "state": {
            "_dom_classes": [],
            "_model_module": "@jupyter-widgets/controls",
            "_model_module_version": "1.5.0",
            "_model_name": "FloatProgressModel",
            "_view_count": null,
            "_view_module": "@jupyter-widgets/controls",
            "_view_module_version": "1.5.0",
            "_view_name": "ProgressView",
            "bar_style": "success",
            "description": "",
            "description_tooltip": null,
            "layout": "IPY_MODEL_bd85d28cc40142998b42434a705de501",
            "max": 1,
            "min": 0,
            "orientation": "horizontal",
            "style": "IPY_MODEL_7a913dfa92e7410f8304bd12b186671e",
            "value": 1
          }
        },
        "2b28d6a112484a5cb8a3bce8d33dd6eb": {
          "model_module": "@jupyter-widgets/controls",
          "model_module_version": "1.5.0",
          "model_name": "HTMLModel",
          "state": {
            "_dom_classes": [],
            "_model_module": "@jupyter-widgets/controls",
            "_model_module_version": "1.5.0",
            "_model_name": "HTMLModel",
            "_view_count": null,
            "_view_module": "@jupyter-widgets/controls",
            "_view_module_version": "1.5.0",
            "_view_name": "HTMLView",
            "description": "",
            "description_tooltip": null,
            "layout": "IPY_MODEL_457ab436e5dd499eab891989de1ebdc9",
            "placeholder": "​",
            "style": "IPY_MODEL_165636445bfc4733970d1a7ded5f6ede",
            "value": ""
          }
        },
        "2ca52ebaf2be48d5a4b8b4138906be85": {
          "model_module": "@jupyter-widgets/base",
          "model_module_version": "1.2.0",
          "model_name": "LayoutModel",
          "state": {
            "_model_module": "@jupyter-widgets/base",
            "_model_module_version": "1.2.0",
            "_model_name": "LayoutModel",
            "_view_count": null,
            "_view_module": "@jupyter-widgets/base",
            "_view_module_version": "1.2.0",
            "_view_name": "LayoutView",
            "align_content": null,
            "align_items": null,
            "align_self": null,
            "border": null,
            "bottom": null,
            "display": null,
            "flex": null,
            "flex_flow": null,
            "grid_area": null,
            "grid_auto_columns": null,
            "grid_auto_flow": null,
            "grid_auto_rows": null,
            "grid_column": null,
            "grid_gap": null,
            "grid_row": null,
            "grid_template_areas": null,
            "grid_template_columns": null,
            "grid_template_rows": null,
            "height": null,
            "justify_content": null,
            "justify_items": null,
            "left": null,
            "margin": null,
            "max_height": null,
            "max_width": null,
            "min_height": null,
            "min_width": null,
            "object_fit": null,
            "object_position": null,
            "order": null,
            "overflow": null,
            "overflow_x": null,
            "overflow_y": null,
            "padding": null,
            "right": null,
            "top": null,
            "visibility": null,
            "width": null
          }
        },
        "2cb200945757448abb65d4af8fe4b95f": {
          "model_module": "@jupyter-widgets/controls",
          "model_module_version": "1.5.0",
          "model_name": "FloatProgressModel",
          "state": {
            "_dom_classes": [],
            "_model_module": "@jupyter-widgets/controls",
            "_model_module_version": "1.5.0",
            "_model_name": "FloatProgressModel",
            "_view_count": null,
            "_view_module": "@jupyter-widgets/controls",
            "_view_module_version": "1.5.0",
            "_view_name": "ProgressView",
            "bar_style": "success",
            "description": "",
            "description_tooltip": null,
            "layout": "IPY_MODEL_480805c0a342489dbe01eef7aa1a9b65",
            "max": 5,
            "min": 0,
            "orientation": "horizontal",
            "style": "IPY_MODEL_c7729e98d977430a8a85243bab1dc83d",
            "value": 5
          }
        },
        "2cf18cb986eb40af89ebff415e08f273": {
          "model_module": "@jupyter-widgets/controls",
          "model_module_version": "1.5.0",
          "model_name": "HBoxModel",
          "state": {
            "_dom_classes": [],
            "_model_module": "@jupyter-widgets/controls",
            "_model_module_version": "1.5.0",
            "_model_name": "HBoxModel",
            "_view_count": null,
            "_view_module": "@jupyter-widgets/controls",
            "_view_module_version": "1.5.0",
            "_view_name": "HBoxView",
            "box_style": "",
            "children": [
              "IPY_MODEL_58d8a23d215e4c90af7cc611354be857",
              "IPY_MODEL_cab324901c07479cb8c579067204aecf",
              "IPY_MODEL_5e19198ee86d4494bc5eb9637259f492"
            ],
            "layout": "IPY_MODEL_0ada10817cc44b6a9b903815fc9b2455"
          }
        },
        "2e4870ab55404beaafde980d48618ed7": {
          "model_module": "@jupyter-widgets/base",
          "model_module_version": "1.2.0",
          "model_name": "LayoutModel",
          "state": {
            "_model_module": "@jupyter-widgets/base",
            "_model_module_version": "1.2.0",
            "_model_name": "LayoutModel",
            "_view_count": null,
            "_view_module": "@jupyter-widgets/base",
            "_view_module_version": "1.2.0",
            "_view_name": "LayoutView",
            "align_content": null,
            "align_items": null,
            "align_self": null,
            "border": null,
            "bottom": null,
            "display": null,
            "flex": null,
            "flex_flow": null,
            "grid_area": null,
            "grid_auto_columns": null,
            "grid_auto_flow": null,
            "grid_auto_rows": null,
            "grid_column": null,
            "grid_gap": null,
            "grid_row": null,
            "grid_template_areas": null,
            "grid_template_columns": null,
            "grid_template_rows": null,
            "height": null,
            "justify_content": null,
            "justify_items": null,
            "left": null,
            "margin": null,
            "max_height": null,
            "max_width": null,
            "min_height": null,
            "min_width": null,
            "object_fit": null,
            "object_position": null,
            "order": null,
            "overflow": null,
            "overflow_x": null,
            "overflow_y": null,
            "padding": null,
            "right": null,
            "top": null,
            "visibility": null,
            "width": null
          }
        },
        "334975266d804748874f5d5621af50ba": {
          "model_module": "@jupyter-widgets/controls",
          "model_module_version": "1.5.0",
          "model_name": "HTMLModel",
          "state": {
            "_dom_classes": [],
            "_model_module": "@jupyter-widgets/controls",
            "_model_module_version": "1.5.0",
            "_model_name": "HTMLModel",
            "_view_count": null,
            "_view_module": "@jupyter-widgets/controls",
            "_view_module_version": "1.5.0",
            "_view_name": "HTMLView",
            "description": "",
            "description_tooltip": null,
            "layout": "IPY_MODEL_b51bb202d2214ff28d2a4cd7216443a7",
            "placeholder": "​",
            "style": "IPY_MODEL_c3a76df48c1f46a6a588babaadaafce2",
            "value": "Downloading: "
          }
        },
        "33d85e2daf4e45e48d1eb5dbf86cd4b6": {
          "model_module": "@jupyter-widgets/base",
          "model_module_version": "1.2.0",
          "model_name": "LayoutModel",
          "state": {
            "_model_module": "@jupyter-widgets/base",
            "_model_module_version": "1.2.0",
            "_model_name": "LayoutModel",
            "_view_count": null,
            "_view_module": "@jupyter-widgets/base",
            "_view_module_version": "1.2.0",
            "_view_name": "LayoutView",
            "align_content": null,
            "align_items": null,
            "align_self": null,
            "border": null,
            "bottom": null,
            "display": null,
            "flex": null,
            "flex_flow": null,
            "grid_area": null,
            "grid_auto_columns": null,
            "grid_auto_flow": null,
            "grid_auto_rows": null,
            "grid_column": null,
            "grid_gap": null,
            "grid_row": null,
            "grid_template_areas": null,
            "grid_template_columns": null,
            "grid_template_rows": null,
            "height": null,
            "justify_content": null,
            "justify_items": null,
            "left": null,
            "margin": null,
            "max_height": null,
            "max_width": null,
            "min_height": null,
            "min_width": null,
            "object_fit": null,
            "object_position": null,
            "order": null,
            "overflow": null,
            "overflow_x": null,
            "overflow_y": null,
            "padding": null,
            "right": null,
            "top": null,
            "visibility": null,
            "width": null
          }
        },
        "35cff9996fa5410485f6a9cba04dee0d": {
          "model_module": "@jupyter-widgets/controls",
          "model_module_version": "1.5.0",
          "model_name": "HBoxModel",
          "state": {
            "_dom_classes": [],
            "_model_module": "@jupyter-widgets/controls",
            "_model_module_version": "1.5.0",
            "_model_name": "HBoxModel",
            "_view_count": null,
            "_view_module": "@jupyter-widgets/controls",
            "_view_module_version": "1.5.0",
            "_view_name": "HBoxView",
            "box_style": "",
            "children": [
              "IPY_MODEL_f2f1d919308042c4b730658cee357374",
              "IPY_MODEL_f261eb96f32540b7aba59bf5707bee6f",
              "IPY_MODEL_c453ed86ee824b5e88d15c5bce35009b"
            ],
            "layout": "IPY_MODEL_45f9dd1c05be47e8a0dd90af375756ac"
          }
        },
        "362150e5ee6b409381c9a3f2c4199186": {
          "model_module": "@jupyter-widgets/controls",
          "model_module_version": "1.5.0",
          "model_name": "DescriptionStyleModel",
          "state": {
            "_model_module": "@jupyter-widgets/controls",
            "_model_module_version": "1.5.0",
            "_model_name": "DescriptionStyleModel",
            "_view_count": null,
            "_view_module": "@jupyter-widgets/base",
            "_view_module_version": "1.2.0",
            "_view_name": "StyleView",
            "description_width": ""
          }
        },
        "369c2fa2af714df99e5113fddfe81a36": {
          "model_module": "@jupyter-widgets/controls",
          "model_module_version": "1.5.0",
          "model_name": "ProgressStyleModel",
          "state": {
            "_model_module": "@jupyter-widgets/controls",
            "_model_module_version": "1.5.0",
            "_model_name": "ProgressStyleModel",
            "_view_count": null,
            "_view_module": "@jupyter-widgets/base",
            "_view_module_version": "1.2.0",
            "_view_name": "StyleView",
            "bar_color": null,
            "description_width": ""
          }
        },
        "374e9b6e9fcc45eabe84ae0c9f286546": {
          "model_module": "@jupyter-widgets/base",
          "model_module_version": "1.2.0",
          "model_name": "LayoutModel",
          "state": {
            "_model_module": "@jupyter-widgets/base",
            "_model_module_version": "1.2.0",
            "_model_name": "LayoutModel",
            "_view_count": null,
            "_view_module": "@jupyter-widgets/base",
            "_view_module_version": "1.2.0",
            "_view_name": "LayoutView",
            "align_content": null,
            "align_items": null,
            "align_self": null,
            "border": null,
            "bottom": null,
            "display": null,
            "flex": null,
            "flex_flow": null,
            "grid_area": null,
            "grid_auto_columns": null,
            "grid_auto_flow": null,
            "grid_auto_rows": null,
            "grid_column": null,
            "grid_gap": null,
            "grid_row": null,
            "grid_template_areas": null,
            "grid_template_columns": null,
            "grid_template_rows": null,
            "height": null,
            "justify_content": null,
            "justify_items": null,
            "left": null,
            "margin": null,
            "max_height": null,
            "max_width": null,
            "min_height": null,
            "min_width": null,
            "object_fit": null,
            "object_position": null,
            "order": null,
            "overflow": null,
            "overflow_x": null,
            "overflow_y": null,
            "padding": null,
            "right": null,
            "top": null,
            "visibility": null,
            "width": null
          }
        },
        "39a54ded218f48048321c604eece88d9": {
          "model_module": "@jupyter-widgets/base",
          "model_module_version": "1.2.0",
          "model_name": "LayoutModel",
          "state": {
            "_model_module": "@jupyter-widgets/base",
            "_model_module_version": "1.2.0",
            "_model_name": "LayoutModel",
            "_view_count": null,
            "_view_module": "@jupyter-widgets/base",
            "_view_module_version": "1.2.0",
            "_view_name": "LayoutView",
            "align_content": null,
            "align_items": null,
            "align_self": null,
            "border": null,
            "bottom": null,
            "display": null,
            "flex": null,
            "flex_flow": null,
            "grid_area": null,
            "grid_auto_columns": null,
            "grid_auto_flow": null,
            "grid_auto_rows": null,
            "grid_column": null,
            "grid_gap": null,
            "grid_row": null,
            "grid_template_areas": null,
            "grid_template_columns": null,
            "grid_template_rows": null,
            "height": null,
            "justify_content": null,
            "justify_items": null,
            "left": null,
            "margin": null,
            "max_height": null,
            "max_width": null,
            "min_height": null,
            "min_width": null,
            "object_fit": null,
            "object_position": null,
            "order": null,
            "overflow": null,
            "overflow_x": null,
            "overflow_y": null,
            "padding": null,
            "right": null,
            "top": null,
            "visibility": null,
            "width": null
          }
        },
        "39d2595f1d85401ea4e930369e52da11": {
          "model_module": "@jupyter-widgets/base",
          "model_module_version": "1.2.0",
          "model_name": "LayoutModel",
          "state": {
            "_model_module": "@jupyter-widgets/base",
            "_model_module_version": "1.2.0",
            "_model_name": "LayoutModel",
            "_view_count": null,
            "_view_module": "@jupyter-widgets/base",
            "_view_module_version": "1.2.0",
            "_view_name": "LayoutView",
            "align_content": null,
            "align_items": null,
            "align_self": null,
            "border": null,
            "bottom": null,
            "display": null,
            "flex": null,
            "flex_flow": null,
            "grid_area": null,
            "grid_auto_columns": null,
            "grid_auto_flow": null,
            "grid_auto_rows": null,
            "grid_column": null,
            "grid_gap": null,
            "grid_row": null,
            "grid_template_areas": null,
            "grid_template_columns": null,
            "grid_template_rows": null,
            "height": null,
            "justify_content": null,
            "justify_items": null,
            "left": null,
            "margin": null,
            "max_height": null,
            "max_width": null,
            "min_height": null,
            "min_width": null,
            "object_fit": null,
            "object_position": null,
            "order": null,
            "overflow": null,
            "overflow_x": null,
            "overflow_y": null,
            "padding": null,
            "right": null,
            "top": null,
            "visibility": null,
            "width": null
          }
        },
        "3cbbf50821414139bf7924b2a66912ba": {
          "model_module": "@jupyter-widgets/controls",
          "model_module_version": "1.5.0",
          "model_name": "ProgressStyleModel",
          "state": {
            "_model_module": "@jupyter-widgets/controls",
            "_model_module_version": "1.5.0",
            "_model_name": "ProgressStyleModel",
            "_view_count": null,
            "_view_module": "@jupyter-widgets/base",
            "_view_module_version": "1.2.0",
            "_view_name": "StyleView",
            "bar_color": null,
            "description_width": ""
          }
        },
        "3d7e3dfdc28548d8bd8b7d548edb6f8f": {
          "model_module": "@jupyter-widgets/controls",
          "model_module_version": "1.5.0",
          "model_name": "ProgressStyleModel",
          "state": {
            "_model_module": "@jupyter-widgets/controls",
            "_model_module_version": "1.5.0",
            "_model_name": "ProgressStyleModel",
            "_view_count": null,
            "_view_module": "@jupyter-widgets/base",
            "_view_module_version": "1.2.0",
            "_view_name": "StyleView",
            "bar_color": null,
            "description_width": ""
          }
        },
        "3ee80b72a2e348c8a92af98b5d666c13": {
          "model_module": "@jupyter-widgets/base",
          "model_module_version": "1.2.0",
          "model_name": "LayoutModel",
          "state": {
            "_model_module": "@jupyter-widgets/base",
            "_model_module_version": "1.2.0",
            "_model_name": "LayoutModel",
            "_view_count": null,
            "_view_module": "@jupyter-widgets/base",
            "_view_module_version": "1.2.0",
            "_view_name": "LayoutView",
            "align_content": null,
            "align_items": null,
            "align_self": null,
            "border": null,
            "bottom": null,
            "display": null,
            "flex": null,
            "flex_flow": null,
            "grid_area": null,
            "grid_auto_columns": null,
            "grid_auto_flow": null,
            "grid_auto_rows": null,
            "grid_column": null,
            "grid_gap": null,
            "grid_row": null,
            "grid_template_areas": null,
            "grid_template_columns": null,
            "grid_template_rows": null,
            "height": null,
            "justify_content": null,
            "justify_items": null,
            "left": null,
            "margin": null,
            "max_height": null,
            "max_width": null,
            "min_height": null,
            "min_width": null,
            "object_fit": null,
            "object_position": null,
            "order": null,
            "overflow": null,
            "overflow_x": null,
            "overflow_y": null,
            "padding": null,
            "right": null,
            "top": null,
            "visibility": null,
            "width": null
          }
        },
        "41761888fc3547bf81907d84c07cd964": {
          "model_module": "@jupyter-widgets/base",
          "model_module_version": "1.2.0",
          "model_name": "LayoutModel",
          "state": {
            "_model_module": "@jupyter-widgets/base",
            "_model_module_version": "1.2.0",
            "_model_name": "LayoutModel",
            "_view_count": null,
            "_view_module": "@jupyter-widgets/base",
            "_view_module_version": "1.2.0",
            "_view_name": "LayoutView",
            "align_content": null,
            "align_items": null,
            "align_self": null,
            "border": null,
            "bottom": null,
            "display": null,
            "flex": null,
            "flex_flow": null,
            "grid_area": null,
            "grid_auto_columns": null,
            "grid_auto_flow": null,
            "grid_auto_rows": null,
            "grid_column": null,
            "grid_gap": null,
            "grid_row": null,
            "grid_template_areas": null,
            "grid_template_columns": null,
            "grid_template_rows": null,
            "height": null,
            "justify_content": null,
            "justify_items": null,
            "left": null,
            "margin": null,
            "max_height": null,
            "max_width": null,
            "min_height": null,
            "min_width": null,
            "object_fit": null,
            "object_position": null,
            "order": null,
            "overflow": null,
            "overflow_x": null,
            "overflow_y": null,
            "padding": null,
            "right": null,
            "top": null,
            "visibility": null,
            "width": null
          }
        },
        "41ff8cbd05464696b86989bf3c39c1e3": {
          "model_module": "@jupyter-widgets/controls",
          "model_module_version": "1.5.0",
          "model_name": "FloatProgressModel",
          "state": {
            "_dom_classes": [],
            "_model_module": "@jupyter-widgets/controls",
            "_model_module_version": "1.5.0",
            "_model_name": "FloatProgressModel",
            "_view_count": null,
            "_view_module": "@jupyter-widgets/controls",
            "_view_module_version": "1.5.0",
            "_view_name": "ProgressView",
            "bar_style": "success",
            "description": "",
            "description_tooltip": null,
            "layout": "IPY_MODEL_196c5d364c0a45d1b07cb8c1850eae8e",
            "max": 1060,
            "min": 0,
            "orientation": "horizontal",
            "style": "IPY_MODEL_ac7622d9634c46db895530963f553494",
            "value": 1060
          }
        },
        "42901d9eb4204cb39847025079f3e3c1": {
          "model_module": "@jupyter-widgets/controls",
          "model_module_version": "1.5.0",
          "model_name": "HTMLModel",
          "state": {
            "_dom_classes": [],
            "_model_module": "@jupyter-widgets/controls",
            "_model_module_version": "1.5.0",
            "_model_name": "HTMLModel",
            "_view_count": null,
            "_view_module": "@jupyter-widgets/controls",
            "_view_module_version": "1.5.0",
            "_view_name": "HTMLView",
            "description": "",
            "description_tooltip": null,
            "layout": "IPY_MODEL_bb8774b67f884f6b8377a496b5c4a151",
            "placeholder": "​",
            "style": "IPY_MODEL_f49894f74c4242f88b84aea799edb16d",
            "value": " 4620/? [00:00&lt;00:00, 11641.10ex/s]"
          }
        },
        "4322229ce14c40288a33afefb4917bdd": {
          "model_module": "@jupyter-widgets/controls",
          "model_module_version": "1.5.0",
          "model_name": "HTMLModel",
          "state": {
            "_dom_classes": [],
            "_model_module": "@jupyter-widgets/controls",
            "_model_module_version": "1.5.0",
            "_model_name": "HTMLModel",
            "_view_count": null,
            "_view_module": "@jupyter-widgets/controls",
            "_view_module_version": "1.5.0",
            "_view_name": "HTMLView",
            "description": "",
            "description_tooltip": null,
            "layout": "IPY_MODEL_6d601fe66e86428bb08ec9952e99d52a",
            "placeholder": "​",
            "style": "IPY_MODEL_bd7dad24d5d34edd9409e44ae87b888c",
            "value": " 1/1 [00:00&lt;00:00, 12.01ba/s]"
          }
        },
        "43c07bbb17534fa9932770d689dc821b": {
          "model_module": "@jupyter-widgets/controls",
          "model_module_version": "1.5.0",
          "model_name": "ProgressStyleModel",
          "state": {
            "_model_module": "@jupyter-widgets/controls",
            "_model_module_version": "1.5.0",
            "_model_name": "ProgressStyleModel",
            "_view_count": null,
            "_view_module": "@jupyter-widgets/base",
            "_view_module_version": "1.2.0",
            "_view_name": "StyleView",
            "bar_color": null,
            "description_width": ""
          }
        },
        "457ab436e5dd499eab891989de1ebdc9": {
          "model_module": "@jupyter-widgets/base",
          "model_module_version": "1.2.0",
          "model_name": "LayoutModel",
          "state": {
            "_model_module": "@jupyter-widgets/base",
            "_model_module_version": "1.2.0",
            "_model_name": "LayoutModel",
            "_view_count": null,
            "_view_module": "@jupyter-widgets/base",
            "_view_module_version": "1.2.0",
            "_view_name": "LayoutView",
            "align_content": null,
            "align_items": null,
            "align_self": null,
            "border": null,
            "bottom": null,
            "display": null,
            "flex": null,
            "flex_flow": null,
            "grid_area": null,
            "grid_auto_columns": null,
            "grid_auto_flow": null,
            "grid_auto_rows": null,
            "grid_column": null,
            "grid_gap": null,
            "grid_row": null,
            "grid_template_areas": null,
            "grid_template_columns": null,
            "grid_template_rows": null,
            "height": null,
            "justify_content": null,
            "justify_items": null,
            "left": null,
            "margin": null,
            "max_height": null,
            "max_width": null,
            "min_height": null,
            "min_width": null,
            "object_fit": null,
            "object_position": null,
            "order": null,
            "overflow": null,
            "overflow_x": null,
            "overflow_y": null,
            "padding": null,
            "right": null,
            "top": null,
            "visibility": null,
            "width": null
          }
        },
        "45f9dd1c05be47e8a0dd90af375756ac": {
          "model_module": "@jupyter-widgets/base",
          "model_module_version": "1.2.0",
          "model_name": "LayoutModel",
          "state": {
            "_model_module": "@jupyter-widgets/base",
            "_model_module_version": "1.2.0",
            "_model_name": "LayoutModel",
            "_view_count": null,
            "_view_module": "@jupyter-widgets/base",
            "_view_module_version": "1.2.0",
            "_view_name": "LayoutView",
            "align_content": null,
            "align_items": null,
            "align_self": null,
            "border": null,
            "bottom": null,
            "display": null,
            "flex": null,
            "flex_flow": null,
            "grid_area": null,
            "grid_auto_columns": null,
            "grid_auto_flow": null,
            "grid_auto_rows": null,
            "grid_column": null,
            "grid_gap": null,
            "grid_row": null,
            "grid_template_areas": null,
            "grid_template_columns": null,
            "grid_template_rows": null,
            "height": null,
            "justify_content": null,
            "justify_items": null,
            "left": null,
            "margin": null,
            "max_height": null,
            "max_width": null,
            "min_height": null,
            "min_width": null,
            "object_fit": null,
            "object_position": null,
            "order": null,
            "overflow": null,
            "overflow_x": null,
            "overflow_y": null,
            "padding": null,
            "right": null,
            "top": null,
            "visibility": null,
            "width": null
          }
        },
        "46b49c05ae70468cbe834a11a86c53ee": {
          "model_module": "@jupyter-widgets/controls",
          "model_module_version": "1.5.0",
          "model_name": "DescriptionStyleModel",
          "state": {
            "_model_module": "@jupyter-widgets/controls",
            "_model_module_version": "1.5.0",
            "_model_name": "DescriptionStyleModel",
            "_view_count": null,
            "_view_module": "@jupyter-widgets/base",
            "_view_module_version": "1.2.0",
            "_view_name": "StyleView",
            "description_width": ""
          }
        },
        "4796a0a689924d089c229046ba162058": {
          "model_module": "@jupyter-widgets/controls",
          "model_module_version": "1.5.0",
          "model_name": "DescriptionStyleModel",
          "state": {
            "_model_module": "@jupyter-widgets/controls",
            "_model_module_version": "1.5.0",
            "_model_name": "DescriptionStyleModel",
            "_view_count": null,
            "_view_module": "@jupyter-widgets/base",
            "_view_module_version": "1.2.0",
            "_view_name": "StyleView",
            "description_width": ""
          }
        },
        "47d42cc391cd46049052a802e46364b6": {
          "model_module": "@jupyter-widgets/controls",
          "model_module_version": "1.5.0",
          "model_name": "HTMLModel",
          "state": {
            "_dom_classes": [],
            "_model_module": "@jupyter-widgets/controls",
            "_model_module_version": "1.5.0",
            "_model_name": "HTMLModel",
            "_view_count": null,
            "_view_module": "@jupyter-widgets/controls",
            "_view_module_version": "1.5.0",
            "_view_name": "HTMLView",
            "description": "",
            "description_tooltip": null,
            "layout": "IPY_MODEL_b92aa97e7bf4400c8e1314fd9cd6360c",
            "placeholder": "​",
            "style": "IPY_MODEL_ae02bea4efb44660aa5718e913f38d1d",
            "value": "Downloading: "
          }
        },
        "480805c0a342489dbe01eef7aa1a9b65": {
          "model_module": "@jupyter-widgets/base",
          "model_module_version": "1.2.0",
          "model_name": "LayoutModel",
          "state": {
            "_model_module": "@jupyter-widgets/base",
            "_model_module_version": "1.2.0",
            "_model_name": "LayoutModel",
            "_view_count": null,
            "_view_module": "@jupyter-widgets/base",
            "_view_module_version": "1.2.0",
            "_view_name": "LayoutView",
            "align_content": null,
            "align_items": null,
            "align_self": null,
            "border": null,
            "bottom": null,
            "display": null,
            "flex": null,
            "flex_flow": null,
            "grid_area": null,
            "grid_auto_columns": null,
            "grid_auto_flow": null,
            "grid_auto_rows": null,
            "grid_column": null,
            "grid_gap": null,
            "grid_row": null,
            "grid_template_areas": null,
            "grid_template_columns": null,
            "grid_template_rows": null,
            "height": null,
            "justify_content": null,
            "justify_items": null,
            "left": null,
            "margin": null,
            "max_height": null,
            "max_width": null,
            "min_height": null,
            "min_width": null,
            "object_fit": null,
            "object_position": null,
            "order": null,
            "overflow": null,
            "overflow_x": null,
            "overflow_y": null,
            "padding": null,
            "right": null,
            "top": null,
            "visibility": null,
            "width": null
          }
        },
        "489bec937040484ea1164c317f07a4ad": {
          "model_module": "@jupyter-widgets/controls",
          "model_module_version": "1.5.0",
          "model_name": "DescriptionStyleModel",
          "state": {
            "_model_module": "@jupyter-widgets/controls",
            "_model_module_version": "1.5.0",
            "_model_name": "DescriptionStyleModel",
            "_view_count": null,
            "_view_module": "@jupyter-widgets/base",
            "_view_module_version": "1.2.0",
            "_view_name": "StyleView",
            "description_width": ""
          }
        },
        "4d26ca1886f0449ea7bd6b4c8de7ab24": {
          "model_module": "@jupyter-widgets/controls",
          "model_module_version": "1.5.0",
          "model_name": "HTMLModel",
          "state": {
            "_dom_classes": [],
            "_model_module": "@jupyter-widgets/controls",
            "_model_module_version": "1.5.0",
            "_model_name": "HTMLModel",
            "_view_count": null,
            "_view_module": "@jupyter-widgets/controls",
            "_view_module_version": "1.5.0",
            "_view_name": "HTMLView",
            "description": "",
            "description_tooltip": null,
            "layout": "IPY_MODEL_b27cb4080cb642739729fed51ee8c3ad",
            "placeholder": "​",
            "style": "IPY_MODEL_8ba99977f5d64f69820c6cb91020848c",
            "value": "Downloading: 100%"
          }
        },
        "4ed0f26ff105404bb993127df03bffca": {
          "model_module": "@jupyter-widgets/controls",
          "model_module_version": "1.5.0",
          "model_name": "HTMLModel",
          "state": {
            "_dom_classes": [],
            "_model_module": "@jupyter-widgets/controls",
            "_model_module_version": "1.5.0",
            "_model_name": "HTMLModel",
            "_view_count": null,
            "_view_module": "@jupyter-widgets/controls",
            "_view_module_version": "1.5.0",
            "_view_name": "HTMLView",
            "description": "",
            "description_tooltip": null,
            "layout": "IPY_MODEL_b59ba6565a464d1ba9b09b978cc679dd",
            "placeholder": "​",
            "style": "IPY_MODEL_10fd19a14d1f45aba528e4f19b675638",
            "value": "100%"
          }
        },
        "51a7cab310ae4385b30bcf6d828c5bd7": {
          "model_module": "@jupyter-widgets/controls",
          "model_module_version": "1.5.0",
          "model_name": "PasswordModel",
          "state": {
            "_dom_classes": [],
            "_model_module": "@jupyter-widgets/controls",
            "_model_module_version": "1.5.0",
            "_model_name": "PasswordModel",
            "_view_count": null,
            "_view_module": "@jupyter-widgets/controls",
            "_view_module_version": "1.5.0",
            "_view_name": "PasswordView",
            "continuous_update": true,
            "description": "Token:",
            "description_tooltip": null,
            "disabled": false,
            "layout": "IPY_MODEL_3ee80b72a2e348c8a92af98b5d666c13",
            "placeholder": "​",
            "style": "IPY_MODEL_d30d4923454e4f8aaf4341f0d9e4f794",
            "value": ""
          }
        },
        "53a03b6776c5401aaca921c86ed0b6d5": {
          "model_module": "@jupyter-widgets/controls",
          "model_module_version": "1.5.0",
          "model_name": "ProgressStyleModel",
          "state": {
            "_model_module": "@jupyter-widgets/controls",
            "_model_module_version": "1.5.0",
            "_model_name": "ProgressStyleModel",
            "_view_count": null,
            "_view_module": "@jupyter-widgets/base",
            "_view_module_version": "1.2.0",
            "_view_name": "StyleView",
            "bar_color": null,
            "description_width": ""
          }
        },
        "556b2a49b0f04518a0c925f7d448fcd9": {
          "model_module": "@jupyter-widgets/base",
          "model_module_version": "1.2.0",
          "model_name": "LayoutModel",
          "state": {
            "_model_module": "@jupyter-widgets/base",
            "_model_module_version": "1.2.0",
            "_model_name": "LayoutModel",
            "_view_count": null,
            "_view_module": "@jupyter-widgets/base",
            "_view_module_version": "1.2.0",
            "_view_name": "LayoutView",
            "align_content": null,
            "align_items": null,
            "align_self": null,
            "border": null,
            "bottom": null,
            "display": null,
            "flex": null,
            "flex_flow": null,
            "grid_area": null,
            "grid_auto_columns": null,
            "grid_auto_flow": null,
            "grid_auto_rows": null,
            "grid_column": null,
            "grid_gap": null,
            "grid_row": null,
            "grid_template_areas": null,
            "grid_template_columns": null,
            "grid_template_rows": null,
            "height": null,
            "justify_content": null,
            "justify_items": null,
            "left": null,
            "margin": null,
            "max_height": null,
            "max_width": null,
            "min_height": null,
            "min_width": null,
            "object_fit": null,
            "object_position": null,
            "order": null,
            "overflow": null,
            "overflow_x": null,
            "overflow_y": null,
            "padding": null,
            "right": null,
            "top": null,
            "visibility": null,
            "width": null
          }
        },
        "56edbb7e71544c97a52f26e245e6a406": {
          "model_module": "@jupyter-widgets/base",
          "model_module_version": "1.2.0",
          "model_name": "LayoutModel",
          "state": {
            "_model_module": "@jupyter-widgets/base",
            "_model_module_version": "1.2.0",
            "_model_name": "LayoutModel",
            "_view_count": null,
            "_view_module": "@jupyter-widgets/base",
            "_view_module_version": "1.2.0",
            "_view_name": "LayoutView",
            "align_content": null,
            "align_items": null,
            "align_self": null,
            "border": null,
            "bottom": null,
            "display": null,
            "flex": null,
            "flex_flow": null,
            "grid_area": null,
            "grid_auto_columns": null,
            "grid_auto_flow": null,
            "grid_auto_rows": null,
            "grid_column": null,
            "grid_gap": null,
            "grid_row": null,
            "grid_template_areas": null,
            "grid_template_columns": null,
            "grid_template_rows": null,
            "height": null,
            "justify_content": null,
            "justify_items": null,
            "left": null,
            "margin": null,
            "max_height": null,
            "max_width": null,
            "min_height": null,
            "min_width": null,
            "object_fit": null,
            "object_position": null,
            "order": null,
            "overflow": null,
            "overflow_x": null,
            "overflow_y": null,
            "padding": null,
            "right": null,
            "top": null,
            "visibility": null,
            "width": null
          }
        },
        "58d8a23d215e4c90af7cc611354be857": {
          "model_module": "@jupyter-widgets/controls",
          "model_module_version": "1.5.0",
          "model_name": "HTMLModel",
          "state": {
            "_dom_classes": [],
            "_model_module": "@jupyter-widgets/controls",
            "_model_module_version": "1.5.0",
            "_model_name": "HTMLModel",
            "_view_count": null,
            "_view_module": "@jupyter-widgets/controls",
            "_view_module_version": "1.5.0",
            "_view_name": "HTMLView",
            "description": "",
            "description_tooltip": null,
            "layout": "IPY_MODEL_39d2595f1d85401ea4e930369e52da11",
            "placeholder": "​",
            "style": "IPY_MODEL_8980f3e6e202478eb2d2c3874788e466",
            "value": ""
          }
        },
        "5bc51e6bf9d0484baf014fb352155e15": {
          "model_module": "@jupyter-widgets/base",
          "model_module_version": "1.2.0",
          "model_name": "LayoutModel",
          "state": {
            "_model_module": "@jupyter-widgets/base",
            "_model_module_version": "1.2.0",
            "_model_name": "LayoutModel",
            "_view_count": null,
            "_view_module": "@jupyter-widgets/base",
            "_view_module_version": "1.2.0",
            "_view_name": "LayoutView",
            "align_content": null,
            "align_items": null,
            "align_self": null,
            "border": null,
            "bottom": null,
            "display": null,
            "flex": null,
            "flex_flow": null,
            "grid_area": null,
            "grid_auto_columns": null,
            "grid_auto_flow": null,
            "grid_auto_rows": null,
            "grid_column": null,
            "grid_gap": null,
            "grid_row": null,
            "grid_template_areas": null,
            "grid_template_columns": null,
            "grid_template_rows": null,
            "height": null,
            "justify_content": null,
            "justify_items": null,
            "left": null,
            "margin": null,
            "max_height": null,
            "max_width": null,
            "min_height": null,
            "min_width": null,
            "object_fit": null,
            "object_position": null,
            "order": null,
            "overflow": null,
            "overflow_x": null,
            "overflow_y": null,
            "padding": null,
            "right": null,
            "top": null,
            "visibility": null,
            "width": null
          }
        },
        "5beb1ffb9863473a8df053439bfb9fb2": {
          "model_module": "@jupyter-widgets/base",
          "model_module_version": "1.2.0",
          "model_name": "LayoutModel",
          "state": {
            "_model_module": "@jupyter-widgets/base",
            "_model_module_version": "1.2.0",
            "_model_name": "LayoutModel",
            "_view_count": null,
            "_view_module": "@jupyter-widgets/base",
            "_view_module_version": "1.2.0",
            "_view_name": "LayoutView",
            "align_content": null,
            "align_items": null,
            "align_self": null,
            "border": null,
            "bottom": null,
            "display": null,
            "flex": null,
            "flex_flow": null,
            "grid_area": null,
            "grid_auto_columns": null,
            "grid_auto_flow": null,
            "grid_auto_rows": null,
            "grid_column": null,
            "grid_gap": null,
            "grid_row": null,
            "grid_template_areas": null,
            "grid_template_columns": null,
            "grid_template_rows": null,
            "height": null,
            "justify_content": null,
            "justify_items": null,
            "left": null,
            "margin": null,
            "max_height": null,
            "max_width": null,
            "min_height": null,
            "min_width": null,
            "object_fit": null,
            "object_position": null,
            "order": null,
            "overflow": null,
            "overflow_x": null,
            "overflow_y": null,
            "padding": null,
            "right": null,
            "top": null,
            "visibility": null,
            "width": null
          }
        },
        "5c09a1875b4f4cc2b3cf64a52b4fd8b8": {
          "model_module": "@jupyter-widgets/controls",
          "model_module_version": "1.5.0",
          "model_name": "HTMLModel",
          "state": {
            "_dom_classes": [],
            "_model_module": "@jupyter-widgets/controls",
            "_model_module_version": "1.5.0",
            "_model_name": "HTMLModel",
            "_view_count": null,
            "_view_module": "@jupyter-widgets/controls",
            "_view_module_version": "1.5.0",
            "_view_name": "HTMLView",
            "description": "",
            "description_tooltip": null,
            "layout": "IPY_MODEL_2e4870ab55404beaafde980d48618ed7",
            "placeholder": "​",
            "style": "IPY_MODEL_b85b4466791b4764ab4ef51f90281e9f",
            "value": " 1.80k/? [00:00&lt;00:00, 90.8kB/s]"
          }
        },
        "5e19198ee86d4494bc5eb9637259f492": {
          "model_module": "@jupyter-widgets/controls",
          "model_module_version": "1.5.0",
          "model_name": "HTMLModel",
          "state": {
            "_dom_classes": [],
            "_model_module": "@jupyter-widgets/controls",
            "_model_module_version": "1.5.0",
            "_model_name": "HTMLModel",
            "_view_count": null,
            "_view_module": "@jupyter-widgets/controls",
            "_view_module_version": "1.5.0",
            "_view_name": "HTMLView",
            "description": "",
            "description_tooltip": null,
            "layout": "IPY_MODEL_15666b87c18443b2b5dcc92821b310e7",
            "placeholder": "​",
            "style": "IPY_MODEL_cac71a316ae94f788d31ff4aa68ce067",
            "value": " 1680/? [00:00&lt;00:00, 7285.75ex/s]"
          }
        },
        "5e721c366d99434d80b3822c6e82b290": {
          "model_module": "@jupyter-widgets/controls",
          "model_module_version": "1.5.0",
          "model_name": "HBoxModel",
          "state": {
            "_dom_classes": [],
            "_model_module": "@jupyter-widgets/controls",
            "_model_module_version": "1.5.0",
            "_model_name": "HBoxModel",
            "_view_count": null,
            "_view_module": "@jupyter-widgets/controls",
            "_view_module_version": "1.5.0",
            "_view_name": "HBoxView",
            "box_style": "",
            "children": [
              "IPY_MODEL_bd9b680e32fc41708cc2024a2f40c89d",
              "IPY_MODEL_0b8b1be79ae24a31b1474824c5e52de5",
              "IPY_MODEL_b9f5fab4eb65486abec1e0d85c8682d8"
            ],
            "layout": "IPY_MODEL_56edbb7e71544c97a52f26e245e6a406"
          }
        },
        "6371ee68de1c457696f0f5f467a4ab20": {
          "model_module": "@jupyter-widgets/controls",
          "model_module_version": "1.5.0",
          "model_name": "HBoxModel",
          "state": {
            "_dom_classes": [],
            "_model_module": "@jupyter-widgets/controls",
            "_model_module_version": "1.5.0",
            "_model_name": "HBoxModel",
            "_view_count": null,
            "_view_module": "@jupyter-widgets/controls",
            "_view_module_version": "1.5.0",
            "_view_name": "HBoxView",
            "box_style": "",
            "children": [
              "IPY_MODEL_8d544fd2a20e410887d14bed2c1abf66",
              "IPY_MODEL_b04e77f560024855b050ec5d48d8a26c",
              "IPY_MODEL_786d3890c8a74b6b933389a08be4529f"
            ],
            "layout": "IPY_MODEL_1504d726f2f448b4a9b36d5034f3d138"
          }
        },
        "667cac3e3c364fed95c9d4cd30ec2466": {
          "model_module": "@jupyter-widgets/base",
          "model_module_version": "1.2.0",
          "model_name": "LayoutModel",
          "state": {
            "_model_module": "@jupyter-widgets/base",
            "_model_module_version": "1.2.0",
            "_model_name": "LayoutModel",
            "_view_count": null,
            "_view_module": "@jupyter-widgets/base",
            "_view_module_version": "1.2.0",
            "_view_name": "LayoutView",
            "align_content": null,
            "align_items": null,
            "align_self": null,
            "border": null,
            "bottom": null,
            "display": null,
            "flex": null,
            "flex_flow": null,
            "grid_area": null,
            "grid_auto_columns": null,
            "grid_auto_flow": null,
            "grid_auto_rows": null,
            "grid_column": null,
            "grid_gap": null,
            "grid_row": null,
            "grid_template_areas": null,
            "grid_template_columns": null,
            "grid_template_rows": null,
            "height": null,
            "justify_content": null,
            "justify_items": null,
            "left": null,
            "margin": null,
            "max_height": null,
            "max_width": null,
            "min_height": null,
            "min_width": null,
            "object_fit": null,
            "object_position": null,
            "order": null,
            "overflow": null,
            "overflow_x": null,
            "overflow_y": null,
            "padding": null,
            "right": null,
            "top": null,
            "visibility": null,
            "width": null
          }
        },
        "66d5b61e23dc4651903c0d32d7694a33": {
          "model_module": "@jupyter-widgets/base",
          "model_module_version": "1.2.0",
          "model_name": "LayoutModel",
          "state": {
            "_model_module": "@jupyter-widgets/base",
            "_model_module_version": "1.2.0",
            "_model_name": "LayoutModel",
            "_view_count": null,
            "_view_module": "@jupyter-widgets/base",
            "_view_module_version": "1.2.0",
            "_view_name": "LayoutView",
            "align_content": null,
            "align_items": null,
            "align_self": null,
            "border": null,
            "bottom": null,
            "display": null,
            "flex": null,
            "flex_flow": null,
            "grid_area": null,
            "grid_auto_columns": null,
            "grid_auto_flow": null,
            "grid_auto_rows": null,
            "grid_column": null,
            "grid_gap": null,
            "grid_row": null,
            "grid_template_areas": null,
            "grid_template_columns": null,
            "grid_template_rows": null,
            "height": null,
            "justify_content": null,
            "justify_items": null,
            "left": null,
            "margin": null,
            "max_height": null,
            "max_width": null,
            "min_height": null,
            "min_width": null,
            "object_fit": null,
            "object_position": null,
            "order": null,
            "overflow": null,
            "overflow_x": null,
            "overflow_y": null,
            "padding": null,
            "right": null,
            "top": null,
            "visibility": null,
            "width": null
          }
        },
        "6875e568704e45648e7230c0fe52ffb8": {
          "model_module": "@jupyter-widgets/controls",
          "model_module_version": "1.5.0",
          "model_name": "HTMLModel",
          "state": {
            "_dom_classes": [],
            "_model_module": "@jupyter-widgets/controls",
            "_model_module_version": "1.5.0",
            "_model_name": "HTMLModel",
            "_view_count": null,
            "_view_module": "@jupyter-widgets/controls",
            "_view_module_version": "1.5.0",
            "_view_name": "HTMLView",
            "description": "",
            "description_tooltip": null,
            "layout": "IPY_MODEL_5bc51e6bf9d0484baf014fb352155e15",
            "placeholder": "​",
            "style": "IPY_MODEL_73f206f8a18e42cca2630b1c3fbbdd17",
            "value": " 4523/0 [00:03&lt;00:00, 1491.99 examples/s]"
          }
        },
        "6a04eddf72594989b95c6a1be64d7f61": {
          "model_module": "@jupyter-widgets/base",
          "model_module_version": "1.2.0",
          "model_name": "LayoutModel",
          "state": {
            "_model_module": "@jupyter-widgets/base",
            "_model_module_version": "1.2.0",
            "_model_name": "LayoutModel",
            "_view_count": null,
            "_view_module": "@jupyter-widgets/base",
            "_view_module_version": "1.2.0",
            "_view_name": "LayoutView",
            "align_content": null,
            "align_items": null,
            "align_self": null,
            "border": null,
            "bottom": null,
            "display": null,
            "flex": null,
            "flex_flow": null,
            "grid_area": null,
            "grid_auto_columns": null,
            "grid_auto_flow": null,
            "grid_auto_rows": null,
            "grid_column": null,
            "grid_gap": null,
            "grid_row": null,
            "grid_template_areas": null,
            "grid_template_columns": null,
            "grid_template_rows": null,
            "height": null,
            "justify_content": null,
            "justify_items": null,
            "left": null,
            "margin": null,
            "max_height": null,
            "max_width": null,
            "min_height": null,
            "min_width": null,
            "object_fit": null,
            "object_position": null,
            "order": null,
            "overflow": null,
            "overflow_x": null,
            "overflow_y": null,
            "padding": null,
            "right": null,
            "top": null,
            "visibility": null,
            "width": null
          }
        },
        "6d601fe66e86428bb08ec9952e99d52a": {
          "model_module": "@jupyter-widgets/base",
          "model_module_version": "1.2.0",
          "model_name": "LayoutModel",
          "state": {
            "_model_module": "@jupyter-widgets/base",
            "_model_module_version": "1.2.0",
            "_model_name": "LayoutModel",
            "_view_count": null,
            "_view_module": "@jupyter-widgets/base",
            "_view_module_version": "1.2.0",
            "_view_name": "LayoutView",
            "align_content": null,
            "align_items": null,
            "align_self": null,
            "border": null,
            "bottom": null,
            "display": null,
            "flex": null,
            "flex_flow": null,
            "grid_area": null,
            "grid_auto_columns": null,
            "grid_auto_flow": null,
            "grid_auto_rows": null,
            "grid_column": null,
            "grid_gap": null,
            "grid_row": null,
            "grid_template_areas": null,
            "grid_template_columns": null,
            "grid_template_rows": null,
            "height": null,
            "justify_content": null,
            "justify_items": null,
            "left": null,
            "margin": null,
            "max_height": null,
            "max_width": null,
            "min_height": null,
            "min_width": null,
            "object_fit": null,
            "object_position": null,
            "order": null,
            "overflow": null,
            "overflow_x": null,
            "overflow_y": null,
            "padding": null,
            "right": null,
            "top": null,
            "visibility": null,
            "width": null
          }
        },
        "6e9a872c89d54da582effed9b9f07bb2": {
          "model_module": "@jupyter-widgets/base",
          "model_module_version": "1.2.0",
          "model_name": "LayoutModel",
          "state": {
            "_model_module": "@jupyter-widgets/base",
            "_model_module_version": "1.2.0",
            "_model_name": "LayoutModel",
            "_view_count": null,
            "_view_module": "@jupyter-widgets/base",
            "_view_module_version": "1.2.0",
            "_view_name": "LayoutView",
            "align_content": null,
            "align_items": null,
            "align_self": null,
            "border": null,
            "bottom": null,
            "display": null,
            "flex": null,
            "flex_flow": null,
            "grid_area": null,
            "grid_auto_columns": null,
            "grid_auto_flow": null,
            "grid_auto_rows": null,
            "grid_column": null,
            "grid_gap": null,
            "grid_row": null,
            "grid_template_areas": null,
            "grid_template_columns": null,
            "grid_template_rows": null,
            "height": null,
            "justify_content": null,
            "justify_items": null,
            "left": null,
            "margin": null,
            "max_height": null,
            "max_width": null,
            "min_height": null,
            "min_width": null,
            "object_fit": null,
            "object_position": null,
            "order": null,
            "overflow": null,
            "overflow_x": null,
            "overflow_y": null,
            "padding": null,
            "right": null,
            "top": null,
            "visibility": null,
            "width": "20px"
          }
        },
        "6f7688e6cf04412ab2dac06baeb4e666": {
          "model_module": "@jupyter-widgets/base",
          "model_module_version": "1.2.0",
          "model_name": "LayoutModel",
          "state": {
            "_model_module": "@jupyter-widgets/base",
            "_model_module_version": "1.2.0",
            "_model_name": "LayoutModel",
            "_view_count": null,
            "_view_module": "@jupyter-widgets/base",
            "_view_module_version": "1.2.0",
            "_view_name": "LayoutView",
            "align_content": null,
            "align_items": null,
            "align_self": null,
            "border": null,
            "bottom": null,
            "display": null,
            "flex": null,
            "flex_flow": null,
            "grid_area": null,
            "grid_auto_columns": null,
            "grid_auto_flow": null,
            "grid_auto_rows": null,
            "grid_column": null,
            "grid_gap": null,
            "grid_row": null,
            "grid_template_areas": null,
            "grid_template_columns": null,
            "grid_template_rows": null,
            "height": null,
            "justify_content": null,
            "justify_items": null,
            "left": null,
            "margin": null,
            "max_height": null,
            "max_width": null,
            "min_height": null,
            "min_width": null,
            "object_fit": null,
            "object_position": null,
            "order": null,
            "overflow": null,
            "overflow_x": null,
            "overflow_y": null,
            "padding": null,
            "right": null,
            "top": null,
            "visibility": null,
            "width": null
          }
        },
        "7006ee29b4ef406381b7fbd117b4b333": {
          "model_module": "@jupyter-widgets/controls",
          "model_module_version": "1.5.0",
          "model_name": "HBoxModel",
          "state": {
            "_dom_classes": [],
            "_model_module": "@jupyter-widgets/controls",
            "_model_module_version": "1.5.0",
            "_model_name": "HBoxModel",
            "_view_count": null,
            "_view_module": "@jupyter-widgets/controls",
            "_view_module_version": "1.5.0",
            "_view_name": "HBoxView",
            "box_style": "",
            "children": [
              "IPY_MODEL_c4960a24842040638dc4f7a81b737d6f",
              "IPY_MODEL_2cb200945757448abb65d4af8fe4b95f",
              "IPY_MODEL_d11bbf7a3d924028958d5bcc0a72e122"
            ],
            "layout": "IPY_MODEL_374e9b6e9fcc45eabe84ae0c9f286546"
          }
        },
        "700ef7e95cf94d7e9dbeb58d605eca5d": {
          "model_module": "@jupyter-widgets/controls",
          "model_module_version": "1.5.0",
          "model_name": "DescriptionStyleModel",
          "state": {
            "_model_module": "@jupyter-widgets/controls",
            "_model_module_version": "1.5.0",
            "_model_name": "DescriptionStyleModel",
            "_view_count": null,
            "_view_module": "@jupyter-widgets/base",
            "_view_module_version": "1.2.0",
            "_view_name": "StyleView",
            "description_width": ""
          }
        },
        "70723978a71b47969d9952bcef9c2a0d": {
          "model_module": "@jupyter-widgets/controls",
          "model_module_version": "1.5.0",
          "model_name": "DescriptionStyleModel",
          "state": {
            "_model_module": "@jupyter-widgets/controls",
            "_model_module_version": "1.5.0",
            "_model_name": "DescriptionStyleModel",
            "_view_count": null,
            "_view_module": "@jupyter-widgets/base",
            "_view_module_version": "1.2.0",
            "_view_name": "StyleView",
            "description_width": ""
          }
        },
        "72ba30f58e904ad786e9f82deabebc75": {
          "model_module": "@jupyter-widgets/base",
          "model_module_version": "1.2.0",
          "model_name": "LayoutModel",
          "state": {
            "_model_module": "@jupyter-widgets/base",
            "_model_module_version": "1.2.0",
            "_model_name": "LayoutModel",
            "_view_count": null,
            "_view_module": "@jupyter-widgets/base",
            "_view_module_version": "1.2.0",
            "_view_name": "LayoutView",
            "align_content": null,
            "align_items": null,
            "align_self": null,
            "border": null,
            "bottom": null,
            "display": null,
            "flex": null,
            "flex_flow": null,
            "grid_area": null,
            "grid_auto_columns": null,
            "grid_auto_flow": null,
            "grid_auto_rows": null,
            "grid_column": null,
            "grid_gap": null,
            "grid_row": null,
            "grid_template_areas": null,
            "grid_template_columns": null,
            "grid_template_rows": null,
            "height": null,
            "justify_content": null,
            "justify_items": null,
            "left": null,
            "margin": null,
            "max_height": null,
            "max_width": null,
            "min_height": null,
            "min_width": null,
            "object_fit": null,
            "object_position": null,
            "order": null,
            "overflow": null,
            "overflow_x": null,
            "overflow_y": null,
            "padding": null,
            "right": null,
            "top": null,
            "visibility": null,
            "width": null
          }
        },
        "72c60eb7db764e16a9d47ad4fc87dd10": {
          "model_module": "@jupyter-widgets/controls",
          "model_module_version": "1.5.0",
          "model_name": "VBoxModel",
          "state": {
            "_dom_classes": [],
            "_model_module": "@jupyter-widgets/controls",
            "_model_module_version": "1.5.0",
            "_model_name": "VBoxModel",
            "_view_count": null,
            "_view_module": "@jupyter-widgets/controls",
            "_view_module_version": "1.5.0",
            "_view_name": "VBoxView",
            "box_style": "",
            "children": [
              "IPY_MODEL_81e2c1fadd6546b18a39555d44a9ab3c",
              "IPY_MODEL_51a7cab310ae4385b30bcf6d828c5bd7",
              "IPY_MODEL_97b1d29fb759427b9a3ced885b12c49b",
              "IPY_MODEL_c7053e32145d4599bda83ae1372cf54a",
              "IPY_MODEL_ed33c55d50234c32b15798b747153ad2"
            ],
            "layout": "IPY_MODEL_ed4a76509a9e43a285bed77e8415e170"
          }
        },
        "7317708554854b4fb5c2ee08e0f4f894": {
          "model_module": "@jupyter-widgets/controls",
          "model_module_version": "1.5.0",
          "model_name": "DescriptionStyleModel",
          "state": {
            "_model_module": "@jupyter-widgets/controls",
            "_model_module_version": "1.5.0",
            "_model_name": "DescriptionStyleModel",
            "_view_count": null,
            "_view_module": "@jupyter-widgets/base",
            "_view_module_version": "1.2.0",
            "_view_name": "StyleView",
            "description_width": ""
          }
        },
        "73f206f8a18e42cca2630b1c3fbbdd17": {
          "model_module": "@jupyter-widgets/controls",
          "model_module_version": "1.5.0",
          "model_name": "DescriptionStyleModel",
          "state": {
            "_model_module": "@jupyter-widgets/controls",
            "_model_module_version": "1.5.0",
            "_model_name": "DescriptionStyleModel",
            "_view_count": null,
            "_view_module": "@jupyter-widgets/base",
            "_view_module_version": "1.2.0",
            "_view_name": "StyleView",
            "description_width": ""
          }
        },
        "7664d4cd39254acfb97b63a3331c8b25": {
          "model_module": "@jupyter-widgets/base",
          "model_module_version": "1.2.0",
          "model_name": "LayoutModel",
          "state": {
            "_model_module": "@jupyter-widgets/base",
            "_model_module_version": "1.2.0",
            "_model_name": "LayoutModel",
            "_view_count": null,
            "_view_module": "@jupyter-widgets/base",
            "_view_module_version": "1.2.0",
            "_view_name": "LayoutView",
            "align_content": null,
            "align_items": null,
            "align_self": null,
            "border": null,
            "bottom": null,
            "display": null,
            "flex": null,
            "flex_flow": null,
            "grid_area": null,
            "grid_auto_columns": null,
            "grid_auto_flow": null,
            "grid_auto_rows": null,
            "grid_column": null,
            "grid_gap": null,
            "grid_row": null,
            "grid_template_areas": null,
            "grid_template_columns": null,
            "grid_template_rows": null,
            "height": null,
            "justify_content": null,
            "justify_items": null,
            "left": null,
            "margin": null,
            "max_height": null,
            "max_width": null,
            "min_height": null,
            "min_width": null,
            "object_fit": null,
            "object_position": null,
            "order": null,
            "overflow": null,
            "overflow_x": null,
            "overflow_y": null,
            "padding": null,
            "right": null,
            "top": null,
            "visibility": null,
            "width": null
          }
        },
        "786d3890c8a74b6b933389a08be4529f": {
          "model_module": "@jupyter-widgets/controls",
          "model_module_version": "1.5.0",
          "model_name": "HTMLModel",
          "state": {
            "_dom_classes": [],
            "_model_module": "@jupyter-widgets/controls",
            "_model_module_version": "1.5.0",
            "_model_name": "HTMLModel",
            "_view_count": null,
            "_view_module": "@jupyter-widgets/controls",
            "_view_module_version": "1.5.0",
            "_view_name": "HTMLView",
            "description": "",
            "description_tooltip": null,
            "layout": "IPY_MODEL_cda1ca853c9c413798584217aa65efb9",
            "placeholder": "​",
            "style": "IPY_MODEL_4796a0a689924d089c229046ba162058",
            "value": " 2/2 [00:00&lt;00:00, 63.85it/s]"
          }
        },
        "7943fc950c1c4b9ab096fa2e50d0da2d": {
          "model_module": "@jupyter-widgets/base",
          "model_module_version": "1.2.0",
          "model_name": "LayoutModel",
          "state": {
            "_model_module": "@jupyter-widgets/base",
            "_model_module_version": "1.2.0",
            "_model_name": "LayoutModel",
            "_view_count": null,
            "_view_module": "@jupyter-widgets/base",
            "_view_module_version": "1.2.0",
            "_view_name": "LayoutView",
            "align_content": null,
            "align_items": null,
            "align_self": null,
            "border": null,
            "bottom": null,
            "display": null,
            "flex": null,
            "flex_flow": null,
            "grid_area": null,
            "grid_auto_columns": null,
            "grid_auto_flow": null,
            "grid_auto_rows": null,
            "grid_column": null,
            "grid_gap": null,
            "grid_row": null,
            "grid_template_areas": null,
            "grid_template_columns": null,
            "grid_template_rows": null,
            "height": null,
            "justify_content": null,
            "justify_items": null,
            "left": null,
            "margin": null,
            "max_height": null,
            "max_width": null,
            "min_height": null,
            "min_width": null,
            "object_fit": null,
            "object_position": null,
            "order": null,
            "overflow": null,
            "overflow_x": null,
            "overflow_y": null,
            "padding": null,
            "right": null,
            "top": null,
            "visibility": null,
            "width": null
          }
        },
        "7a913dfa92e7410f8304bd12b186671e": {
          "model_module": "@jupyter-widgets/controls",
          "model_module_version": "1.5.0",
          "model_name": "ProgressStyleModel",
          "state": {
            "_model_module": "@jupyter-widgets/controls",
            "_model_module_version": "1.5.0",
            "_model_name": "ProgressStyleModel",
            "_view_count": null,
            "_view_module": "@jupyter-widgets/base",
            "_view_module_version": "1.2.0",
            "_view_name": "StyleView",
            "bar_color": null,
            "description_width": ""
          }
        },
        "7b2e3d37cdef4f5282f01745c3b1a0f4": {
          "model_module": "@jupyter-widgets/base",
          "model_module_version": "1.2.0",
          "model_name": "LayoutModel",
          "state": {
            "_model_module": "@jupyter-widgets/base",
            "_model_module_version": "1.2.0",
            "_model_name": "LayoutModel",
            "_view_count": null,
            "_view_module": "@jupyter-widgets/base",
            "_view_module_version": "1.2.0",
            "_view_name": "LayoutView",
            "align_content": null,
            "align_items": null,
            "align_self": null,
            "border": null,
            "bottom": null,
            "display": null,
            "flex": null,
            "flex_flow": null,
            "grid_area": null,
            "grid_auto_columns": null,
            "grid_auto_flow": null,
            "grid_auto_rows": null,
            "grid_column": null,
            "grid_gap": null,
            "grid_row": null,
            "grid_template_areas": null,
            "grid_template_columns": null,
            "grid_template_rows": null,
            "height": null,
            "justify_content": null,
            "justify_items": null,
            "left": null,
            "margin": null,
            "max_height": null,
            "max_width": null,
            "min_height": null,
            "min_width": null,
            "object_fit": null,
            "object_position": null,
            "order": null,
            "overflow": null,
            "overflow_x": null,
            "overflow_y": null,
            "padding": null,
            "right": null,
            "top": null,
            "visibility": null,
            "width": null
          }
        },
        "7b694dd16e54443f8da6af91b1ecd821": {
          "model_module": "@jupyter-widgets/controls",
          "model_module_version": "1.5.0",
          "model_name": "DescriptionStyleModel",
          "state": {
            "_model_module": "@jupyter-widgets/controls",
            "_model_module_version": "1.5.0",
            "_model_name": "DescriptionStyleModel",
            "_view_count": null,
            "_view_module": "@jupyter-widgets/base",
            "_view_module_version": "1.2.0",
            "_view_name": "StyleView",
            "description_width": ""
          }
        },
        "7ba0b13ba0604b26afe63e5dc86e2f1e": {
          "model_module": "@jupyter-widgets/controls",
          "model_module_version": "1.5.0",
          "model_name": "HTMLModel",
          "state": {
            "_dom_classes": [],
            "_model_module": "@jupyter-widgets/controls",
            "_model_module_version": "1.5.0",
            "_model_name": "HTMLModel",
            "_view_count": null,
            "_view_module": "@jupyter-widgets/controls",
            "_view_module_version": "1.5.0",
            "_view_name": "HTMLView",
            "description": "",
            "description_tooltip": null,
            "layout": "IPY_MODEL_c1e0fc4107fb49fe84bb21fd721a8ecb",
            "placeholder": "​",
            "style": "IPY_MODEL_2a011e9f253e4cef8f52f45c110c0295",
            "value": "Downloading: "
          }
        },
        "81e2c1fadd6546b18a39555d44a9ab3c": {
          "model_module": "@jupyter-widgets/controls",
          "model_module_version": "1.5.0",
          "model_name": "HTMLModel",
          "state": {
            "_dom_classes": [],
            "_model_module": "@jupyter-widgets/controls",
            "_model_module_version": "1.5.0",
            "_model_name": "HTMLModel",
            "_view_count": null,
            "_view_module": "@jupyter-widgets/controls",
            "_view_module_version": "1.5.0",
            "_view_name": "HTMLView",
            "description": "",
            "description_tooltip": null,
            "layout": "IPY_MODEL_b5618e9ca055470595027435969b9765",
            "placeholder": "​",
            "style": "IPY_MODEL_14a6810e336a473cbcef56c1b6ed59cf",
            "value": "<center> <img\nsrc=https://huggingface.co/front/assets/huggingface_logo-noborder.svg\nalt='Hugging Face'> <br> Copy a token from <a\nhref=\"https://huggingface.co/settings/tokens\" target=\"_blank\">your Hugging Face\ntokens page</a> and paste it below. <br> Immediately click login after copying\nyour token or it might be stored in plain text in this notebook file. </center>"
          }
        },
        "835cdd92279b4385af6a554c416ee245": {
          "model_module": "@jupyter-widgets/base",
          "model_module_version": "1.2.0",
          "model_name": "LayoutModel",
          "state": {
            "_model_module": "@jupyter-widgets/base",
            "_model_module_version": "1.2.0",
            "_model_name": "LayoutModel",
            "_view_count": null,
            "_view_module": "@jupyter-widgets/base",
            "_view_module_version": "1.2.0",
            "_view_name": "LayoutView",
            "align_content": null,
            "align_items": null,
            "align_self": null,
            "border": null,
            "bottom": null,
            "display": null,
            "flex": null,
            "flex_flow": null,
            "grid_area": null,
            "grid_auto_columns": null,
            "grid_auto_flow": null,
            "grid_auto_rows": null,
            "grid_column": null,
            "grid_gap": null,
            "grid_row": null,
            "grid_template_areas": null,
            "grid_template_columns": null,
            "grid_template_rows": null,
            "height": null,
            "justify_content": null,
            "justify_items": null,
            "left": null,
            "margin": null,
            "max_height": null,
            "max_width": null,
            "min_height": null,
            "min_width": null,
            "object_fit": null,
            "object_position": null,
            "order": null,
            "overflow": null,
            "overflow_x": null,
            "overflow_y": null,
            "padding": null,
            "right": null,
            "top": null,
            "visibility": null,
            "width": null
          }
        },
        "8508560781db49e9971a4e844b77f708": {
          "model_module": "@jupyter-widgets/controls",
          "model_module_version": "1.5.0",
          "model_name": "HBoxModel",
          "state": {
            "_dom_classes": [],
            "_model_module": "@jupyter-widgets/controls",
            "_model_module_version": "1.5.0",
            "_model_name": "HBoxModel",
            "_view_count": null,
            "_view_module": "@jupyter-widgets/controls",
            "_view_module_version": "1.5.0",
            "_view_name": "HBoxView",
            "box_style": "",
            "children": [
              "IPY_MODEL_4ed0f26ff105404bb993127df03bffca",
              "IPY_MODEL_dbd4a1e0b6264c34b87a15b73a522d92",
              "IPY_MODEL_4322229ce14c40288a33afefb4917bdd"
            ],
            "layout": "IPY_MODEL_6a04eddf72594989b95c6a1be64d7f61"
          }
        },
        "8539d6c12248447fa989335fb92a348f": {
          "model_module": "@jupyter-widgets/base",
          "model_module_version": "1.2.0",
          "model_name": "LayoutModel",
          "state": {
            "_model_module": "@jupyter-widgets/base",
            "_model_module_version": "1.2.0",
            "_model_name": "LayoutModel",
            "_view_count": null,
            "_view_module": "@jupyter-widgets/base",
            "_view_module_version": "1.2.0",
            "_view_name": "LayoutView",
            "align_content": null,
            "align_items": null,
            "align_self": null,
            "border": null,
            "bottom": null,
            "display": null,
            "flex": null,
            "flex_flow": null,
            "grid_area": null,
            "grid_auto_columns": null,
            "grid_auto_flow": null,
            "grid_auto_rows": null,
            "grid_column": null,
            "grid_gap": null,
            "grid_row": null,
            "grid_template_areas": null,
            "grid_template_columns": null,
            "grid_template_rows": null,
            "height": null,
            "justify_content": null,
            "justify_items": null,
            "left": null,
            "margin": null,
            "max_height": null,
            "max_width": null,
            "min_height": null,
            "min_width": null,
            "object_fit": null,
            "object_position": null,
            "order": null,
            "overflow": null,
            "overflow_x": null,
            "overflow_y": null,
            "padding": null,
            "right": null,
            "top": null,
            "visibility": null,
            "width": null
          }
        },
        "886c955c22c34282b94a3ee10ebde407": {
          "model_module": "@jupyter-widgets/controls",
          "model_module_version": "1.5.0",
          "model_name": "DescriptionStyleModel",
          "state": {
            "_model_module": "@jupyter-widgets/controls",
            "_model_module_version": "1.5.0",
            "_model_name": "DescriptionStyleModel",
            "_view_count": null,
            "_view_module": "@jupyter-widgets/base",
            "_view_module_version": "1.2.0",
            "_view_name": "StyleView",
            "description_width": ""
          }
        },
        "8980f3e6e202478eb2d2c3874788e466": {
          "model_module": "@jupyter-widgets/controls",
          "model_module_version": "1.5.0",
          "model_name": "DescriptionStyleModel",
          "state": {
            "_model_module": "@jupyter-widgets/controls",
            "_model_module_version": "1.5.0",
            "_model_name": "DescriptionStyleModel",
            "_view_count": null,
            "_view_module": "@jupyter-widgets/base",
            "_view_module_version": "1.2.0",
            "_view_name": "StyleView",
            "description_width": ""
          }
        },
        "8991f9f2abeb49e2bd10caf24403f472": {
          "model_module": "@jupyter-widgets/base",
          "model_module_version": "1.2.0",
          "model_name": "LayoutModel",
          "state": {
            "_model_module": "@jupyter-widgets/base",
            "_model_module_version": "1.2.0",
            "_model_name": "LayoutModel",
            "_view_count": null,
            "_view_module": "@jupyter-widgets/base",
            "_view_module_version": "1.2.0",
            "_view_name": "LayoutView",
            "align_content": null,
            "align_items": null,
            "align_self": null,
            "border": null,
            "bottom": null,
            "display": null,
            "flex": null,
            "flex_flow": null,
            "grid_area": null,
            "grid_auto_columns": null,
            "grid_auto_flow": null,
            "grid_auto_rows": null,
            "grid_column": null,
            "grid_gap": null,
            "grid_row": null,
            "grid_template_areas": null,
            "grid_template_columns": null,
            "grid_template_rows": null,
            "height": null,
            "justify_content": null,
            "justify_items": null,
            "left": null,
            "margin": null,
            "max_height": null,
            "max_width": null,
            "min_height": null,
            "min_width": null,
            "object_fit": null,
            "object_position": null,
            "order": null,
            "overflow": null,
            "overflow_x": null,
            "overflow_y": null,
            "padding": null,
            "right": null,
            "top": null,
            "visibility": null,
            "width": null
          }
        },
        "89e51090498545259c216a5a1b59072f": {
          "model_module": "@jupyter-widgets/base",
          "model_module_version": "1.2.0",
          "model_name": "LayoutModel",
          "state": {
            "_model_module": "@jupyter-widgets/base",
            "_model_module_version": "1.2.0",
            "_model_name": "LayoutModel",
            "_view_count": null,
            "_view_module": "@jupyter-widgets/base",
            "_view_module_version": "1.2.0",
            "_view_name": "LayoutView",
            "align_content": null,
            "align_items": null,
            "align_self": null,
            "border": null,
            "bottom": null,
            "display": null,
            "flex": null,
            "flex_flow": null,
            "grid_area": null,
            "grid_auto_columns": null,
            "grid_auto_flow": null,
            "grid_auto_rows": null,
            "grid_column": null,
            "grid_gap": null,
            "grid_row": null,
            "grid_template_areas": null,
            "grid_template_columns": null,
            "grid_template_rows": null,
            "height": null,
            "justify_content": null,
            "justify_items": null,
            "left": null,
            "margin": null,
            "max_height": null,
            "max_width": null,
            "min_height": null,
            "min_width": null,
            "object_fit": null,
            "object_position": null,
            "order": null,
            "overflow": null,
            "overflow_x": null,
            "overflow_y": null,
            "padding": null,
            "right": null,
            "top": null,
            "visibility": null,
            "width": null
          }
        },
        "8a07f08956924a38b2a57f70b0fbeead": {
          "model_module": "@jupyter-widgets/controls",
          "model_module_version": "1.5.0",
          "model_name": "HTMLModel",
          "state": {
            "_dom_classes": [],
            "_model_module": "@jupyter-widgets/controls",
            "_model_module_version": "1.5.0",
            "_model_name": "HTMLModel",
            "_view_count": null,
            "_view_module": "@jupyter-widgets/controls",
            "_view_module_version": "1.5.0",
            "_view_name": "HTMLView",
            "description": "",
            "description_tooltip": null,
            "layout": "IPY_MODEL_33d85e2daf4e45e48d1eb5dbf86cd4b6",
            "placeholder": "​",
            "style": "IPY_MODEL_05de8b07f5a54cdaabb7ad3de4a032b3",
            "value": " 363M/363M [00:22&lt;00:00, 13.8MB/s]"
          }
        },
        "8ba99977f5d64f69820c6cb91020848c": {
          "model_module": "@jupyter-widgets/controls",
          "model_module_version": "1.5.0",
          "model_name": "DescriptionStyleModel",
          "state": {
            "_model_module": "@jupyter-widgets/controls",
            "_model_module_version": "1.5.0",
            "_model_name": "DescriptionStyleModel",
            "_view_count": null,
            "_view_module": "@jupyter-widgets/base",
            "_view_module_version": "1.2.0",
            "_view_name": "StyleView",
            "description_width": ""
          }
        },
        "8d544fd2a20e410887d14bed2c1abf66": {
          "model_module": "@jupyter-widgets/controls",
          "model_module_version": "1.5.0",
          "model_name": "HTMLModel",
          "state": {
            "_dom_classes": [],
            "_model_module": "@jupyter-widgets/controls",
            "_model_module_version": "1.5.0",
            "_model_name": "HTMLModel",
            "_view_count": null,
            "_view_module": "@jupyter-widgets/controls",
            "_view_module_version": "1.5.0",
            "_view_name": "HTMLView",
            "description": "",
            "description_tooltip": null,
            "layout": "IPY_MODEL_a7184f5b92f0441fa10120fde326efb4",
            "placeholder": "​",
            "style": "IPY_MODEL_70723978a71b47969d9952bcef9c2a0d",
            "value": "100%"
          }
        },
        "8da462790a6d4fbb9251290bd9ee14f0": {
          "model_module": "@jupyter-widgets/base",
          "model_module_version": "1.2.0",
          "model_name": "LayoutModel",
          "state": {
            "_model_module": "@jupyter-widgets/base",
            "_model_module_version": "1.2.0",
            "_model_name": "LayoutModel",
            "_view_count": null,
            "_view_module": "@jupyter-widgets/base",
            "_view_module_version": "1.2.0",
            "_view_name": "LayoutView",
            "align_content": null,
            "align_items": null,
            "align_self": null,
            "border": null,
            "bottom": null,
            "display": null,
            "flex": null,
            "flex_flow": null,
            "grid_area": null,
            "grid_auto_columns": null,
            "grid_auto_flow": null,
            "grid_auto_rows": null,
            "grid_column": null,
            "grid_gap": null,
            "grid_row": null,
            "grid_template_areas": null,
            "grid_template_columns": null,
            "grid_template_rows": null,
            "height": null,
            "justify_content": null,
            "justify_items": null,
            "left": null,
            "margin": null,
            "max_height": null,
            "max_width": null,
            "min_height": null,
            "min_width": null,
            "object_fit": null,
            "object_position": null,
            "order": null,
            "overflow": null,
            "overflow_x": null,
            "overflow_y": null,
            "padding": null,
            "right": null,
            "top": null,
            "visibility": null,
            "width": null
          }
        },
        "90bb8035c7b745088e6f69368e770224": {
          "model_module": "@jupyter-widgets/controls",
          "model_module_version": "1.5.0",
          "model_name": "HTMLModel",
          "state": {
            "_dom_classes": [],
            "_model_module": "@jupyter-widgets/controls",
            "_model_module_version": "1.5.0",
            "_model_name": "HTMLModel",
            "_view_count": null,
            "_view_module": "@jupyter-widgets/controls",
            "_view_module_version": "1.5.0",
            "_view_name": "HTMLView",
            "description": "",
            "description_tooltip": null,
            "layout": "IPY_MODEL_d7934693aa974d6781b84f71bac59e71",
            "placeholder": "​",
            "style": "IPY_MODEL_cc4dd57866ff4080913e33d0b1cf49af",
            "value": ""
          }
        },
        "91190c7d6c7b460cb028183cf51bb1c1": {
          "model_module": "@jupyter-widgets/controls",
          "model_module_version": "1.5.0",
          "model_name": "ProgressStyleModel",
          "state": {
            "_model_module": "@jupyter-widgets/controls",
            "_model_module_version": "1.5.0",
            "_model_name": "ProgressStyleModel",
            "_view_count": null,
            "_view_module": "@jupyter-widgets/base",
            "_view_module_version": "1.2.0",
            "_view_name": "StyleView",
            "bar_color": null,
            "description_width": ""
          }
        },
        "9424cc47106a455ab18c0870d046ce9f": {
          "model_module": "@jupyter-widgets/controls",
          "model_module_version": "1.5.0",
          "model_name": "HTMLModel",
          "state": {
            "_dom_classes": [],
            "_model_module": "@jupyter-widgets/controls",
            "_model_module_version": "1.5.0",
            "_model_name": "HTMLModel",
            "_view_count": null,
            "_view_module": "@jupyter-widgets/controls",
            "_view_module_version": "1.5.0",
            "_view_name": "HTMLView",
            "description": "",
            "description_tooltip": null,
            "layout": "IPY_MODEL_090847f7912e496fbc1ef8673674c1ed",
            "placeholder": "​",
            "style": "IPY_MODEL_15e195a2c3044feababc62304301f14f",
            "value": "Downloading: 100%"
          }
        },
        "96fb47902431425f86a6a5ab760c92d3": {
          "model_module": "@jupyter-widgets/controls",
          "model_module_version": "1.5.0",
          "model_name": "HBoxModel",
          "state": {
            "_dom_classes": [],
            "_model_module": "@jupyter-widgets/controls",
            "_model_module_version": "1.5.0",
            "_model_name": "HBoxModel",
            "_view_count": null,
            "_view_module": "@jupyter-widgets/controls",
            "_view_module_version": "1.5.0",
            "_view_name": "HBoxView",
            "box_style": "",
            "children": [
              "IPY_MODEL_4d26ca1886f0449ea7bd6b4c8de7ab24",
              "IPY_MODEL_e610d02445bd4e5e9b4783658f058147",
              "IPY_MODEL_8a07f08956924a38b2a57f70b0fbeead"
            ],
            "layout": "IPY_MODEL_39a54ded218f48048321c604eece88d9"
          }
        },
        "97b1d29fb759427b9a3ced885b12c49b": {
          "model_module": "@jupyter-widgets/controls",
          "model_module_version": "1.5.0",
          "model_name": "CheckboxModel",
          "state": {
            "_dom_classes": [],
            "_model_module": "@jupyter-widgets/controls",
            "_model_module_version": "1.5.0",
            "_model_name": "CheckboxModel",
            "_view_count": null,
            "_view_module": "@jupyter-widgets/controls",
            "_view_module_version": "1.5.0",
            "_view_name": "CheckboxView",
            "description": "Add token as git credential?",
            "description_tooltip": null,
            "disabled": false,
            "indent": true,
            "layout": "IPY_MODEL_dba9c380625243a6a7f90c8914ff9455",
            "style": "IPY_MODEL_f30802e504624b37b3c4a469c5ecaef2",
            "value": true
          }
        },
        "9a2fe7c5597647e881612cd18a8467b1": {
          "model_module": "@jupyter-widgets/controls",
          "model_module_version": "1.5.0",
          "model_name": "ProgressStyleModel",
          "state": {
            "_model_module": "@jupyter-widgets/controls",
            "_model_module_version": "1.5.0",
            "_model_name": "ProgressStyleModel",
            "_view_count": null,
            "_view_module": "@jupyter-widgets/base",
            "_view_module_version": "1.2.0",
            "_view_name": "StyleView",
            "bar_color": null,
            "description_width": ""
          }
        },
        "a3f2cbce0fc0419191259ba1735ffa94": {
          "model_module": "@jupyter-widgets/controls",
          "model_module_version": "1.5.0",
          "model_name": "DescriptionStyleModel",
          "state": {
            "_model_module": "@jupyter-widgets/controls",
            "_model_module_version": "1.5.0",
            "_model_name": "DescriptionStyleModel",
            "_view_count": null,
            "_view_module": "@jupyter-widgets/base",
            "_view_module_version": "1.2.0",
            "_view_name": "StyleView",
            "description_width": ""
          }
        },
        "a7184f5b92f0441fa10120fde326efb4": {
          "model_module": "@jupyter-widgets/base",
          "model_module_version": "1.2.0",
          "model_name": "LayoutModel",
          "state": {
            "_model_module": "@jupyter-widgets/base",
            "_model_module_version": "1.2.0",
            "_model_name": "LayoutModel",
            "_view_count": null,
            "_view_module": "@jupyter-widgets/base",
            "_view_module_version": "1.2.0",
            "_view_name": "LayoutView",
            "align_content": null,
            "align_items": null,
            "align_self": null,
            "border": null,
            "bottom": null,
            "display": null,
            "flex": null,
            "flex_flow": null,
            "grid_area": null,
            "grid_auto_columns": null,
            "grid_auto_flow": null,
            "grid_auto_rows": null,
            "grid_column": null,
            "grid_gap": null,
            "grid_row": null,
            "grid_template_areas": null,
            "grid_template_columns": null,
            "grid_template_rows": null,
            "height": null,
            "justify_content": null,
            "justify_items": null,
            "left": null,
            "margin": null,
            "max_height": null,
            "max_width": null,
            "min_height": null,
            "min_width": null,
            "object_fit": null,
            "object_position": null,
            "order": null,
            "overflow": null,
            "overflow_x": null,
            "overflow_y": null,
            "padding": null,
            "right": null,
            "top": null,
            "visibility": null,
            "width": null
          }
        },
        "a7e5e39c8be1422fb1e47567857d681d": {
          "model_module": "@jupyter-widgets/controls",
          "model_module_version": "1.5.0",
          "model_name": "HBoxModel",
          "state": {
            "_dom_classes": [],
            "_model_module": "@jupyter-widgets/controls",
            "_model_module_version": "1.5.0",
            "_model_name": "HBoxModel",
            "_view_count": null,
            "_view_module": "@jupyter-widgets/controls",
            "_view_module_version": "1.5.0",
            "_view_name": "HBoxView",
            "box_style": "",
            "children": [
              "IPY_MODEL_90bb8035c7b745088e6f69368e770224",
              "IPY_MODEL_ac756dc57a4748b8b29e490186774de6",
              "IPY_MODEL_6875e568704e45648e7230c0fe52ffb8"
            ],
            "layout": "IPY_MODEL_cfddbf192a4948c5a35d9c9c28227969"
          }
        },
        "a84b851075bf4773a463ed24a2f3eb24": {
          "model_module": "@jupyter-widgets/controls",
          "model_module_version": "1.5.0",
          "model_name": "HTMLModel",
          "state": {
            "_dom_classes": [],
            "_model_module": "@jupyter-widgets/controls",
            "_model_module_version": "1.5.0",
            "_model_name": "HTMLModel",
            "_view_count": null,
            "_view_module": "@jupyter-widgets/controls",
            "_view_module_version": "1.5.0",
            "_view_name": "HTMLView",
            "description": "",
            "description_tooltip": null,
            "layout": "IPY_MODEL_2ca52ebaf2be48d5a4b8b4138906be85",
            "placeholder": "​",
            "style": "IPY_MODEL_7317708554854b4fb5c2ee08e0f4f894",
            "value": " 2.64k/? [00:00&lt;00:00, 116kB/s]"
          }
        },
        "ab4a2cca2b404d25b2cda485c7c28077": {
          "model_module": "@jupyter-widgets/controls",
          "model_module_version": "1.5.0",
          "model_name": "FloatProgressModel",
          "state": {
            "_dom_classes": [],
            "_model_module": "@jupyter-widgets/controls",
            "_model_module_version": "1.5.0",
            "_model_name": "FloatProgressModel",
            "_view_count": null,
            "_view_module": "@jupyter-widgets/controls",
            "_view_module_version": "1.5.0",
            "_view_name": "ProgressView",
            "bar_style": "success",
            "description": "",
            "description_tooltip": null,
            "layout": "IPY_MODEL_da8639f433da4cefa2affd438ac18c89",
            "max": 1901,
            "min": 0,
            "orientation": "horizontal",
            "style": "IPY_MODEL_f4cfe55a73c141ef9b751d0db992d3cf",
            "value": 1901
          }
        },
        "abd948814c014a9eb6d68529c3590e92": {
          "model_module": "@jupyter-widgets/base",
          "model_module_version": "1.2.0",
          "model_name": "LayoutModel",
          "state": {
            "_model_module": "@jupyter-widgets/base",
            "_model_module_version": "1.2.0",
            "_model_name": "LayoutModel",
            "_view_count": null,
            "_view_module": "@jupyter-widgets/base",
            "_view_module_version": "1.2.0",
            "_view_name": "LayoutView",
            "align_content": null,
            "align_items": null,
            "align_self": null,
            "border": null,
            "bottom": null,
            "display": null,
            "flex": null,
            "flex_flow": null,
            "grid_area": null,
            "grid_auto_columns": null,
            "grid_auto_flow": null,
            "grid_auto_rows": null,
            "grid_column": null,
            "grid_gap": null,
            "grid_row": null,
            "grid_template_areas": null,
            "grid_template_columns": null,
            "grid_template_rows": null,
            "height": null,
            "justify_content": null,
            "justify_items": null,
            "left": null,
            "margin": null,
            "max_height": null,
            "max_width": null,
            "min_height": null,
            "min_width": null,
            "object_fit": null,
            "object_position": null,
            "order": null,
            "overflow": null,
            "overflow_x": null,
            "overflow_y": null,
            "padding": null,
            "right": null,
            "top": null,
            "visibility": null,
            "width": null
          }
        },
        "ac756dc57a4748b8b29e490186774de6": {
          "model_module": "@jupyter-widgets/controls",
          "model_module_version": "1.5.0",
          "model_name": "FloatProgressModel",
          "state": {
            "_dom_classes": [],
            "_model_module": "@jupyter-widgets/controls",
            "_model_module_version": "1.5.0",
            "_model_name": "FloatProgressModel",
            "_view_count": null,
            "_view_module": "@jupyter-widgets/controls",
            "_view_module_version": "1.5.0",
            "_view_name": "ProgressView",
            "bar_style": "info",
            "description": "",
            "description_tooltip": null,
            "layout": "IPY_MODEL_d42cbd433408441ead2be0400c5d97c7",
            "max": 1,
            "min": 0,
            "orientation": "horizontal",
            "style": "IPY_MODEL_3cbbf50821414139bf7924b2a66912ba",
            "value": 1
          }
        },
        "ac7622d9634c46db895530963f553494": {
          "model_module": "@jupyter-widgets/controls",
          "model_module_version": "1.5.0",
          "model_name": "ProgressStyleModel",
          "state": {
            "_model_module": "@jupyter-widgets/controls",
            "_model_module_version": "1.5.0",
            "_model_name": "ProgressStyleModel",
            "_view_count": null,
            "_view_module": "@jupyter-widgets/base",
            "_view_module_version": "1.2.0",
            "_view_name": "StyleView",
            "bar_color": null,
            "description_width": ""
          }
        },
        "adc1d50d41744b49bb5dfb3a4f5aa770": {
          "model_module": "@jupyter-widgets/controls",
          "model_module_version": "1.5.0",
          "model_name": "FloatProgressModel",
          "state": {
            "_dom_classes": [],
            "_model_module": "@jupyter-widgets/controls",
            "_model_module_version": "1.5.0",
            "_model_name": "FloatProgressModel",
            "_view_count": null,
            "_view_module": "@jupyter-widgets/controls",
            "_view_module_version": "1.5.0",
            "_view_name": "ProgressView",
            "bar_style": "info",
            "description": "",
            "description_tooltip": null,
            "layout": "IPY_MODEL_c705539579af4dd890312dc6eca591ac",
            "max": 1,
            "min": 0,
            "orientation": "horizontal",
            "style": "IPY_MODEL_adfa07960f1243a78e890a968155eac5",
            "value": 1
          }
        },
        "adfa07960f1243a78e890a968155eac5": {
          "model_module": "@jupyter-widgets/controls",
          "model_module_version": "1.5.0",
          "model_name": "ProgressStyleModel",
          "state": {
            "_model_module": "@jupyter-widgets/controls",
            "_model_module_version": "1.5.0",
            "_model_name": "ProgressStyleModel",
            "_view_count": null,
            "_view_module": "@jupyter-widgets/base",
            "_view_module_version": "1.2.0",
            "_view_name": "StyleView",
            "bar_color": null,
            "description_width": ""
          }
        },
        "ae02bea4efb44660aa5718e913f38d1d": {
          "model_module": "@jupyter-widgets/controls",
          "model_module_version": "1.5.0",
          "model_name": "DescriptionStyleModel",
          "state": {
            "_model_module": "@jupyter-widgets/controls",
            "_model_module_version": "1.5.0",
            "_model_name": "DescriptionStyleModel",
            "_view_count": null,
            "_view_module": "@jupyter-widgets/base",
            "_view_module_version": "1.2.0",
            "_view_name": "StyleView",
            "description_width": ""
          }
        },
        "ae9d87d903c4420db700f043fe197154": {
          "model_module": "@jupyter-widgets/controls",
          "model_module_version": "1.5.0",
          "model_name": "DescriptionStyleModel",
          "state": {
            "_model_module": "@jupyter-widgets/controls",
            "_model_module_version": "1.5.0",
            "_model_name": "DescriptionStyleModel",
            "_view_count": null,
            "_view_module": "@jupyter-widgets/base",
            "_view_module_version": "1.2.0",
            "_view_name": "StyleView",
            "description_width": ""
          }
        },
        "b04e77f560024855b050ec5d48d8a26c": {
          "model_module": "@jupyter-widgets/controls",
          "model_module_version": "1.5.0",
          "model_name": "FloatProgressModel",
          "state": {
            "_dom_classes": [],
            "_model_module": "@jupyter-widgets/controls",
            "_model_module_version": "1.5.0",
            "_model_name": "FloatProgressModel",
            "_view_count": null,
            "_view_module": "@jupyter-widgets/controls",
            "_view_module_version": "1.5.0",
            "_view_name": "ProgressView",
            "bar_style": "success",
            "description": "",
            "description_tooltip": null,
            "layout": "IPY_MODEL_280663ff96ce499aa0cb7bca67f59a85",
            "max": 2,
            "min": 0,
            "orientation": "horizontal",
            "style": "IPY_MODEL_9a2fe7c5597647e881612cd18a8467b1",
            "value": 2
          }
        },
        "b2310446607e44f5b8e38862581b510a": {
          "model_module": "@jupyter-widgets/base",
          "model_module_version": "1.2.0",
          "model_name": "LayoutModel",
          "state": {
            "_model_module": "@jupyter-widgets/base",
            "_model_module_version": "1.2.0",
            "_model_name": "LayoutModel",
            "_view_count": null,
            "_view_module": "@jupyter-widgets/base",
            "_view_module_version": "1.2.0",
            "_view_name": "LayoutView",
            "align_content": null,
            "align_items": null,
            "align_self": null,
            "border": null,
            "bottom": null,
            "display": null,
            "flex": null,
            "flex_flow": null,
            "grid_area": null,
            "grid_auto_columns": null,
            "grid_auto_flow": null,
            "grid_auto_rows": null,
            "grid_column": null,
            "grid_gap": null,
            "grid_row": null,
            "grid_template_areas": null,
            "grid_template_columns": null,
            "grid_template_rows": null,
            "height": null,
            "justify_content": null,
            "justify_items": null,
            "left": null,
            "margin": null,
            "max_height": null,
            "max_width": null,
            "min_height": null,
            "min_width": null,
            "object_fit": null,
            "object_position": null,
            "order": null,
            "overflow": null,
            "overflow_x": null,
            "overflow_y": null,
            "padding": null,
            "right": null,
            "top": null,
            "visibility": null,
            "width": null
          }
        },
        "b27cb4080cb642739729fed51ee8c3ad": {
          "model_module": "@jupyter-widgets/base",
          "model_module_version": "1.2.0",
          "model_name": "LayoutModel",
          "state": {
            "_model_module": "@jupyter-widgets/base",
            "_model_module_version": "1.2.0",
            "_model_name": "LayoutModel",
            "_view_count": null,
            "_view_module": "@jupyter-widgets/base",
            "_view_module_version": "1.2.0",
            "_view_name": "LayoutView",
            "align_content": null,
            "align_items": null,
            "align_self": null,
            "border": null,
            "bottom": null,
            "display": null,
            "flex": null,
            "flex_flow": null,
            "grid_area": null,
            "grid_auto_columns": null,
            "grid_auto_flow": null,
            "grid_auto_rows": null,
            "grid_column": null,
            "grid_gap": null,
            "grid_row": null,
            "grid_template_areas": null,
            "grid_template_columns": null,
            "grid_template_rows": null,
            "height": null,
            "justify_content": null,
            "justify_items": null,
            "left": null,
            "margin": null,
            "max_height": null,
            "max_width": null,
            "min_height": null,
            "min_width": null,
            "object_fit": null,
            "object_position": null,
            "order": null,
            "overflow": null,
            "overflow_x": null,
            "overflow_y": null,
            "padding": null,
            "right": null,
            "top": null,
            "visibility": null,
            "width": null
          }
        },
        "b51bb202d2214ff28d2a4cd7216443a7": {
          "model_module": "@jupyter-widgets/base",
          "model_module_version": "1.2.0",
          "model_name": "LayoutModel",
          "state": {
            "_model_module": "@jupyter-widgets/base",
            "_model_module_version": "1.2.0",
            "_model_name": "LayoutModel",
            "_view_count": null,
            "_view_module": "@jupyter-widgets/base",
            "_view_module_version": "1.2.0",
            "_view_name": "LayoutView",
            "align_content": null,
            "align_items": null,
            "align_self": null,
            "border": null,
            "bottom": null,
            "display": null,
            "flex": null,
            "flex_flow": null,
            "grid_area": null,
            "grid_auto_columns": null,
            "grid_auto_flow": null,
            "grid_auto_rows": null,
            "grid_column": null,
            "grid_gap": null,
            "grid_row": null,
            "grid_template_areas": null,
            "grid_template_columns": null,
            "grid_template_rows": null,
            "height": null,
            "justify_content": null,
            "justify_items": null,
            "left": null,
            "margin": null,
            "max_height": null,
            "max_width": null,
            "min_height": null,
            "min_width": null,
            "object_fit": null,
            "object_position": null,
            "order": null,
            "overflow": null,
            "overflow_x": null,
            "overflow_y": null,
            "padding": null,
            "right": null,
            "top": null,
            "visibility": null,
            "width": null
          }
        },
        "b55fea5b10694c8cb1aa93622170ff8c": {
          "model_module": "@jupyter-widgets/base",
          "model_module_version": "1.2.0",
          "model_name": "LayoutModel",
          "state": {
            "_model_module": "@jupyter-widgets/base",
            "_model_module_version": "1.2.0",
            "_model_name": "LayoutModel",
            "_view_count": null,
            "_view_module": "@jupyter-widgets/base",
            "_view_module_version": "1.2.0",
            "_view_name": "LayoutView",
            "align_content": null,
            "align_items": null,
            "align_self": null,
            "border": null,
            "bottom": null,
            "display": null,
            "flex": null,
            "flex_flow": null,
            "grid_area": null,
            "grid_auto_columns": null,
            "grid_auto_flow": null,
            "grid_auto_rows": null,
            "grid_column": null,
            "grid_gap": null,
            "grid_row": null,
            "grid_template_areas": null,
            "grid_template_columns": null,
            "grid_template_rows": null,
            "height": null,
            "justify_content": null,
            "justify_items": null,
            "left": null,
            "margin": null,
            "max_height": null,
            "max_width": null,
            "min_height": null,
            "min_width": null,
            "object_fit": null,
            "object_position": null,
            "order": null,
            "overflow": null,
            "overflow_x": null,
            "overflow_y": null,
            "padding": null,
            "right": null,
            "top": null,
            "visibility": null,
            "width": null
          }
        },
        "b5618e9ca055470595027435969b9765": {
          "model_module": "@jupyter-widgets/base",
          "model_module_version": "1.2.0",
          "model_name": "LayoutModel",
          "state": {
            "_model_module": "@jupyter-widgets/base",
            "_model_module_version": "1.2.0",
            "_model_name": "LayoutModel",
            "_view_count": null,
            "_view_module": "@jupyter-widgets/base",
            "_view_module_version": "1.2.0",
            "_view_name": "LayoutView",
            "align_content": null,
            "align_items": null,
            "align_self": null,
            "border": null,
            "bottom": null,
            "display": null,
            "flex": null,
            "flex_flow": null,
            "grid_area": null,
            "grid_auto_columns": null,
            "grid_auto_flow": null,
            "grid_auto_rows": null,
            "grid_column": null,
            "grid_gap": null,
            "grid_row": null,
            "grid_template_areas": null,
            "grid_template_columns": null,
            "grid_template_rows": null,
            "height": null,
            "justify_content": null,
            "justify_items": null,
            "left": null,
            "margin": null,
            "max_height": null,
            "max_width": null,
            "min_height": null,
            "min_width": null,
            "object_fit": null,
            "object_position": null,
            "order": null,
            "overflow": null,
            "overflow_x": null,
            "overflow_y": null,
            "padding": null,
            "right": null,
            "top": null,
            "visibility": null,
            "width": null
          }
        },
        "b59ba6565a464d1ba9b09b978cc679dd": {
          "model_module": "@jupyter-widgets/base",
          "model_module_version": "1.2.0",
          "model_name": "LayoutModel",
          "state": {
            "_model_module": "@jupyter-widgets/base",
            "_model_module_version": "1.2.0",
            "_model_name": "LayoutModel",
            "_view_count": null,
            "_view_module": "@jupyter-widgets/base",
            "_view_module_version": "1.2.0",
            "_view_name": "LayoutView",
            "align_content": null,
            "align_items": null,
            "align_self": null,
            "border": null,
            "bottom": null,
            "display": null,
            "flex": null,
            "flex_flow": null,
            "grid_area": null,
            "grid_auto_columns": null,
            "grid_auto_flow": null,
            "grid_auto_rows": null,
            "grid_column": null,
            "grid_gap": null,
            "grid_row": null,
            "grid_template_areas": null,
            "grid_template_columns": null,
            "grid_template_rows": null,
            "height": null,
            "justify_content": null,
            "justify_items": null,
            "left": null,
            "margin": null,
            "max_height": null,
            "max_width": null,
            "min_height": null,
            "min_width": null,
            "object_fit": null,
            "object_position": null,
            "order": null,
            "overflow": null,
            "overflow_x": null,
            "overflow_y": null,
            "padding": null,
            "right": null,
            "top": null,
            "visibility": null,
            "width": null
          }
        },
        "b85b4466791b4764ab4ef51f90281e9f": {
          "model_module": "@jupyter-widgets/controls",
          "model_module_version": "1.5.0",
          "model_name": "DescriptionStyleModel",
          "state": {
            "_model_module": "@jupyter-widgets/controls",
            "_model_module_version": "1.5.0",
            "_model_name": "DescriptionStyleModel",
            "_view_count": null,
            "_view_module": "@jupyter-widgets/base",
            "_view_module_version": "1.2.0",
            "_view_name": "StyleView",
            "description_width": ""
          }
        },
        "b8c9bc669d8c4651882c214aafb0548e": {
          "model_module": "@jupyter-widgets/controls",
          "model_module_version": "1.5.0",
          "model_name": "FloatProgressModel",
          "state": {
            "_dom_classes": [],
            "_model_module": "@jupyter-widgets/controls",
            "_model_module_version": "1.5.0",
            "_model_name": "FloatProgressModel",
            "_view_count": null,
            "_view_module": "@jupyter-widgets/controls",
            "_view_module_version": "1.5.0",
            "_view_name": "ProgressView",
            "bar_style": "success",
            "description": "",
            "description_tooltip": null,
            "layout": "IPY_MODEL_667cac3e3c364fed95c9d4cd30ec2466",
            "max": 869007403,
            "min": 0,
            "orientation": "horizontal",
            "style": "IPY_MODEL_43c07bbb17534fa9932770d689dc821b",
            "value": 869007403
          }
        },
        "b92aa97e7bf4400c8e1314fd9cd6360c": {
          "model_module": "@jupyter-widgets/base",
          "model_module_version": "1.2.0",
          "model_name": "LayoutModel",
          "state": {
            "_model_module": "@jupyter-widgets/base",
            "_model_module_version": "1.2.0",
            "_model_name": "LayoutModel",
            "_view_count": null,
            "_view_module": "@jupyter-widgets/base",
            "_view_module_version": "1.2.0",
            "_view_name": "LayoutView",
            "align_content": null,
            "align_items": null,
            "align_self": null,
            "border": null,
            "bottom": null,
            "display": null,
            "flex": null,
            "flex_flow": null,
            "grid_area": null,
            "grid_auto_columns": null,
            "grid_auto_flow": null,
            "grid_auto_rows": null,
            "grid_column": null,
            "grid_gap": null,
            "grid_row": null,
            "grid_template_areas": null,
            "grid_template_columns": null,
            "grid_template_rows": null,
            "height": null,
            "justify_content": null,
            "justify_items": null,
            "left": null,
            "margin": null,
            "max_height": null,
            "max_width": null,
            "min_height": null,
            "min_width": null,
            "object_fit": null,
            "object_position": null,
            "order": null,
            "overflow": null,
            "overflow_x": null,
            "overflow_y": null,
            "padding": null,
            "right": null,
            "top": null,
            "visibility": null,
            "width": null
          }
        },
        "b9f5fab4eb65486abec1e0d85c8682d8": {
          "model_module": "@jupyter-widgets/controls",
          "model_module_version": "1.5.0",
          "model_name": "HTMLModel",
          "state": {
            "_dom_classes": [],
            "_model_module": "@jupyter-widgets/controls",
            "_model_module_version": "1.5.0",
            "_model_name": "HTMLModel",
            "_view_count": null,
            "_view_module": "@jupyter-widgets/controls",
            "_view_module_version": "1.5.0",
            "_view_name": "HTMLView",
            "description": "",
            "description_tooltip": null,
            "layout": "IPY_MODEL_7943fc950c1c4b9ab096fa2e50d0da2d",
            "placeholder": "​",
            "style": "IPY_MODEL_886c955c22c34282b94a3ee10ebde407",
            "value": " 1/1 [00:00&lt;00:00, 21.75ba/s]"
          }
        },
        "bb8774b67f884f6b8377a496b5c4a151": {
          "model_module": "@jupyter-widgets/base",
          "model_module_version": "1.2.0",
          "model_name": "LayoutModel",
          "state": {
            "_model_module": "@jupyter-widgets/base",
            "_model_module_version": "1.2.0",
            "_model_name": "LayoutModel",
            "_view_count": null,
            "_view_module": "@jupyter-widgets/base",
            "_view_module_version": "1.2.0",
            "_view_name": "LayoutView",
            "align_content": null,
            "align_items": null,
            "align_self": null,
            "border": null,
            "bottom": null,
            "display": null,
            "flex": null,
            "flex_flow": null,
            "grid_area": null,
            "grid_auto_columns": null,
            "grid_auto_flow": null,
            "grid_auto_rows": null,
            "grid_column": null,
            "grid_gap": null,
            "grid_row": null,
            "grid_template_areas": null,
            "grid_template_columns": null,
            "grid_template_rows": null,
            "height": null,
            "justify_content": null,
            "justify_items": null,
            "left": null,
            "margin": null,
            "max_height": null,
            "max_width": null,
            "min_height": null,
            "min_width": null,
            "object_fit": null,
            "object_position": null,
            "order": null,
            "overflow": null,
            "overflow_x": null,
            "overflow_y": null,
            "padding": null,
            "right": null,
            "top": null,
            "visibility": null,
            "width": null
          }
        },
        "bd7dad24d5d34edd9409e44ae87b888c": {
          "model_module": "@jupyter-widgets/controls",
          "model_module_version": "1.5.0",
          "model_name": "DescriptionStyleModel",
          "state": {
            "_model_module": "@jupyter-widgets/controls",
            "_model_module_version": "1.5.0",
            "_model_name": "DescriptionStyleModel",
            "_view_count": null,
            "_view_module": "@jupyter-widgets/base",
            "_view_module_version": "1.2.0",
            "_view_name": "StyleView",
            "description_width": ""
          }
        },
        "bd85d28cc40142998b42434a705de501": {
          "model_module": "@jupyter-widgets/base",
          "model_module_version": "1.2.0",
          "model_name": "LayoutModel",
          "state": {
            "_model_module": "@jupyter-widgets/base",
            "_model_module_version": "1.2.0",
            "_model_name": "LayoutModel",
            "_view_count": null,
            "_view_module": "@jupyter-widgets/base",
            "_view_module_version": "1.2.0",
            "_view_name": "LayoutView",
            "align_content": null,
            "align_items": null,
            "align_self": null,
            "border": null,
            "bottom": null,
            "display": null,
            "flex": null,
            "flex_flow": null,
            "grid_area": null,
            "grid_auto_columns": null,
            "grid_auto_flow": null,
            "grid_auto_rows": null,
            "grid_column": null,
            "grid_gap": null,
            "grid_row": null,
            "grid_template_areas": null,
            "grid_template_columns": null,
            "grid_template_rows": null,
            "height": null,
            "justify_content": null,
            "justify_items": null,
            "left": null,
            "margin": null,
            "max_height": null,
            "max_width": null,
            "min_height": null,
            "min_width": null,
            "object_fit": null,
            "object_position": null,
            "order": null,
            "overflow": null,
            "overflow_x": null,
            "overflow_y": null,
            "padding": null,
            "right": null,
            "top": null,
            "visibility": null,
            "width": "20px"
          }
        },
        "bd9b680e32fc41708cc2024a2f40c89d": {
          "model_module": "@jupyter-widgets/controls",
          "model_module_version": "1.5.0",
          "model_name": "HTMLModel",
          "state": {
            "_dom_classes": [],
            "_model_module": "@jupyter-widgets/controls",
            "_model_module_version": "1.5.0",
            "_model_name": "HTMLModel",
            "_view_count": null,
            "_view_module": "@jupyter-widgets/controls",
            "_view_module_version": "1.5.0",
            "_view_name": "HTMLView",
            "description": "",
            "description_tooltip": null,
            "layout": "IPY_MODEL_225e6afb5c154fe6b3a1b1279287cb85",
            "placeholder": "​",
            "style": "IPY_MODEL_f5ae3c942bf644c0affadca9a6e6d59b",
            "value": "100%"
          }
        },
        "bf4e5b43dc36490eb26b5868233c8325": {
          "model_module": "@jupyter-widgets/controls",
          "model_module_version": "1.5.0",
          "model_name": "FloatProgressModel",
          "state": {
            "_dom_classes": [],
            "_model_module": "@jupyter-widgets/controls",
            "_model_module_version": "1.5.0",
            "_model_name": "FloatProgressModel",
            "_view_count": null,
            "_view_module": "@jupyter-widgets/controls",
            "_view_module_version": "1.5.0",
            "_view_name": "ProgressView",
            "bar_style": "success",
            "description": "",
            "description_tooltip": null,
            "layout": "IPY_MODEL_0058396ec61a4f75a7db09a5f38d125b",
            "max": 1,
            "min": 0,
            "orientation": "horizontal",
            "style": "IPY_MODEL_3d7e3dfdc28548d8bd8b7d548edb6f8f",
            "value": 1
          }
        },
        "c1e0fc4107fb49fe84bb21fd721a8ecb": {
          "model_module": "@jupyter-widgets/base",
          "model_module_version": "1.2.0",
          "model_name": "LayoutModel",
          "state": {
            "_model_module": "@jupyter-widgets/base",
            "_model_module_version": "1.2.0",
            "_model_name": "LayoutModel",
            "_view_count": null,
            "_view_module": "@jupyter-widgets/base",
            "_view_module_version": "1.2.0",
            "_view_name": "LayoutView",
            "align_content": null,
            "align_items": null,
            "align_self": null,
            "border": null,
            "bottom": null,
            "display": null,
            "flex": null,
            "flex_flow": null,
            "grid_area": null,
            "grid_auto_columns": null,
            "grid_auto_flow": null,
            "grid_auto_rows": null,
            "grid_column": null,
            "grid_gap": null,
            "grid_row": null,
            "grid_template_areas": null,
            "grid_template_columns": null,
            "grid_template_rows": null,
            "height": null,
            "justify_content": null,
            "justify_items": null,
            "left": null,
            "margin": null,
            "max_height": null,
            "max_width": null,
            "min_height": null,
            "min_width": null,
            "object_fit": null,
            "object_position": null,
            "order": null,
            "overflow": null,
            "overflow_x": null,
            "overflow_y": null,
            "padding": null,
            "right": null,
            "top": null,
            "visibility": null,
            "width": null
          }
        },
        "c3a76df48c1f46a6a588babaadaafce2": {
          "model_module": "@jupyter-widgets/controls",
          "model_module_version": "1.5.0",
          "model_name": "DescriptionStyleModel",
          "state": {
            "_model_module": "@jupyter-widgets/controls",
            "_model_module_version": "1.5.0",
            "_model_name": "DescriptionStyleModel",
            "_view_count": null,
            "_view_module": "@jupyter-widgets/base",
            "_view_module_version": "1.2.0",
            "_view_name": "StyleView",
            "description_width": ""
          }
        },
        "c453ed86ee824b5e88d15c5bce35009b": {
          "model_module": "@jupyter-widgets/controls",
          "model_module_version": "1.5.0",
          "model_name": "HTMLModel",
          "state": {
            "_dom_classes": [],
            "_model_module": "@jupyter-widgets/controls",
            "_model_module_version": "1.5.0",
            "_model_name": "HTMLModel",
            "_view_count": null,
            "_view_module": "@jupyter-widgets/controls",
            "_view_module_version": "1.5.0",
            "_view_name": "HTMLView",
            "description": "",
            "description_tooltip": null,
            "layout": "IPY_MODEL_abd948814c014a9eb6d68529c3590e92",
            "placeholder": "​",
            "style": "IPY_MODEL_700ef7e95cf94d7e9dbeb58d605eca5d",
            "value": " 7.06k/? [00:00&lt;00:00, 303kB/s]"
          }
        },
        "c4960a24842040638dc4f7a81b737d6f": {
          "model_module": "@jupyter-widgets/controls",
          "model_module_version": "1.5.0",
          "model_name": "HTMLModel",
          "state": {
            "_dom_classes": [],
            "_model_module": "@jupyter-widgets/controls",
            "_model_module_version": "1.5.0",
            "_model_name": "HTMLModel",
            "_view_count": null,
            "_view_module": "@jupyter-widgets/controls",
            "_view_module_version": "1.5.0",
            "_view_name": "HTMLView",
            "description": "",
            "description_tooltip": null,
            "layout": "IPY_MODEL_fcd185b60d6e4e60a8ab964aac262f73",
            "placeholder": "​",
            "style": "IPY_MODEL_46b49c05ae70468cbe834a11a86c53ee",
            "value": "100%"
          }
        },
        "c7053e32145d4599bda83ae1372cf54a": {
          "model_module": "@jupyter-widgets/controls",
          "model_module_version": "1.5.0",
          "model_name": "ButtonModel",
          "state": {
            "_dom_classes": [],
            "_model_module": "@jupyter-widgets/controls",
            "_model_module_version": "1.5.0",
            "_model_name": "ButtonModel",
            "_view_count": null,
            "_view_module": "@jupyter-widgets/controls",
            "_view_module_version": "1.5.0",
            "_view_name": "ButtonView",
            "button_style": "",
            "description": "Login",
            "disabled": false,
            "icon": "",
            "layout": "IPY_MODEL_05b403993fc04c128fe3423e16085529",
            "style": "IPY_MODEL_ea0718a03fa84612a83032464c755bde",
            "tooltip": ""
          }
        },
        "c705539579af4dd890312dc6eca591ac": {
          "model_module": "@jupyter-widgets/base",
          "model_module_version": "1.2.0",
          "model_name": "LayoutModel",
          "state": {
            "_model_module": "@jupyter-widgets/base",
            "_model_module_version": "1.2.0",
            "_model_name": "LayoutModel",
            "_view_count": null,
            "_view_module": "@jupyter-widgets/base",
            "_view_module_version": "1.2.0",
            "_view_name": "LayoutView",
            "align_content": null,
            "align_items": null,
            "align_self": null,
            "border": null,
            "bottom": null,
            "display": null,
            "flex": null,
            "flex_flow": null,
            "grid_area": null,
            "grid_auto_columns": null,
            "grid_auto_flow": null,
            "grid_auto_rows": null,
            "grid_column": null,
            "grid_gap": null,
            "grid_row": null,
            "grid_template_areas": null,
            "grid_template_columns": null,
            "grid_template_rows": null,
            "height": null,
            "justify_content": null,
            "justify_items": null,
            "left": null,
            "margin": null,
            "max_height": null,
            "max_width": null,
            "min_height": null,
            "min_width": null,
            "object_fit": null,
            "object_position": null,
            "order": null,
            "overflow": null,
            "overflow_x": null,
            "overflow_y": null,
            "padding": null,
            "right": null,
            "top": null,
            "visibility": null,
            "width": "20px"
          }
        },
        "c75146f8f1ab44028814587c6618b5cb": {
          "model_module": "@jupyter-widgets/controls",
          "model_module_version": "1.5.0",
          "model_name": "HBoxModel",
          "state": {
            "_dom_classes": [],
            "_model_module": "@jupyter-widgets/controls",
            "_model_module_version": "1.5.0",
            "_model_name": "HBoxModel",
            "_view_count": null,
            "_view_module": "@jupyter-widgets/controls",
            "_view_module_version": "1.5.0",
            "_view_name": "HBoxView",
            "box_style": "",
            "children": [
              "IPY_MODEL_2b28d6a112484a5cb8a3bce8d33dd6eb",
              "IPY_MODEL_bf4e5b43dc36490eb26b5868233c8325",
              "IPY_MODEL_42901d9eb4204cb39847025079f3e3c1"
            ],
            "layout": "IPY_MODEL_5beb1ffb9863473a8df053439bfb9fb2"
          }
        },
        "c7729e98d977430a8a85243bab1dc83d": {
          "model_module": "@jupyter-widgets/controls",
          "model_module_version": "1.5.0",
          "model_name": "ProgressStyleModel",
          "state": {
            "_model_module": "@jupyter-widgets/controls",
            "_model_module_version": "1.5.0",
            "_model_name": "ProgressStyleModel",
            "_view_count": null,
            "_view_module": "@jupyter-widgets/base",
            "_view_module_version": "1.2.0",
            "_view_name": "StyleView",
            "bar_color": null,
            "description_width": ""
          }
        },
        "c781acd05e244750a8084992acc4ac2c": {
          "model_module": "@jupyter-widgets/controls",
          "model_module_version": "1.5.0",
          "model_name": "HTMLModel",
          "state": {
            "_dom_classes": [],
            "_model_module": "@jupyter-widgets/controls",
            "_model_module_version": "1.5.0",
            "_model_name": "HTMLModel",
            "_view_count": null,
            "_view_module": "@jupyter-widgets/controls",
            "_view_module_version": "1.5.0",
            "_view_name": "HTMLView",
            "description": "",
            "description_tooltip": null,
            "layout": "IPY_MODEL_8da462790a6d4fbb9251290bd9ee14f0",
            "placeholder": "​",
            "style": "IPY_MODEL_fe31c534d6cd46da8b6a640e039a4d6c",
            "value": " 4.48k/? [00:00&lt;00:00, 230kB/s]"
          }
        },
        "c95cde469c924220956b0222cd470c90": {
          "model_module": "@jupyter-widgets/controls",
          "model_module_version": "1.5.0",
          "model_name": "HBoxModel",
          "state": {
            "_dom_classes": [],
            "_model_module": "@jupyter-widgets/controls",
            "_model_module_version": "1.5.0",
            "_model_name": "HBoxModel",
            "_view_count": null,
            "_view_module": "@jupyter-widgets/controls",
            "_view_module_version": "1.5.0",
            "_view_name": "HBoxView",
            "box_style": "",
            "children": [
              "IPY_MODEL_d31e0dcd59bd4153a392e18dba2ee1c2",
              "IPY_MODEL_adc1d50d41744b49bb5dfb3a4f5aa770",
              "IPY_MODEL_1a36d660c6474845bbfdcffffb6dcc68"
            ],
            "layout": "IPY_MODEL_dab4414a1d4a4e94a4845dd9dcc5783a"
          }
        },
        "cab324901c07479cb8c579067204aecf": {
          "model_module": "@jupyter-widgets/controls",
          "model_module_version": "1.5.0",
          "model_name": "FloatProgressModel",
          "state": {
            "_dom_classes": [],
            "_model_module": "@jupyter-widgets/controls",
            "_model_module_version": "1.5.0",
            "_model_name": "FloatProgressModel",
            "_view_count": null,
            "_view_module": "@jupyter-widgets/controls",
            "_view_module_version": "1.5.0",
            "_view_name": "ProgressView",
            "bar_style": "success",
            "description": "",
            "description_tooltip": null,
            "layout": "IPY_MODEL_6e9a872c89d54da582effed9b9f07bb2",
            "max": 1,
            "min": 0,
            "orientation": "horizontal",
            "style": "IPY_MODEL_53a03b6776c5401aaca921c86ed0b6d5",
            "value": 1
          }
        },
        "cac71a316ae94f788d31ff4aa68ce067": {
          "model_module": "@jupyter-widgets/controls",
          "model_module_version": "1.5.0",
          "model_name": "DescriptionStyleModel",
          "state": {
            "_model_module": "@jupyter-widgets/controls",
            "_model_module_version": "1.5.0",
            "_model_name": "DescriptionStyleModel",
            "_view_count": null,
            "_view_module": "@jupyter-widgets/base",
            "_view_module_version": "1.2.0",
            "_view_name": "StyleView",
            "description_width": ""
          }
        },
        "cc4dd57866ff4080913e33d0b1cf49af": {
          "model_module": "@jupyter-widgets/controls",
          "model_module_version": "1.5.0",
          "model_name": "DescriptionStyleModel",
          "state": {
            "_model_module": "@jupyter-widgets/controls",
            "_model_module_version": "1.5.0",
            "_model_name": "DescriptionStyleModel",
            "_view_count": null,
            "_view_module": "@jupyter-widgets/base",
            "_view_module_version": "1.2.0",
            "_view_name": "StyleView",
            "description_width": ""
          }
        },
        "cda1ca853c9c413798584217aa65efb9": {
          "model_module": "@jupyter-widgets/base",
          "model_module_version": "1.2.0",
          "model_name": "LayoutModel",
          "state": {
            "_model_module": "@jupyter-widgets/base",
            "_model_module_version": "1.2.0",
            "_model_name": "LayoutModel",
            "_view_count": null,
            "_view_module": "@jupyter-widgets/base",
            "_view_module_version": "1.2.0",
            "_view_name": "LayoutView",
            "align_content": null,
            "align_items": null,
            "align_self": null,
            "border": null,
            "bottom": null,
            "display": null,
            "flex": null,
            "flex_flow": null,
            "grid_area": null,
            "grid_auto_columns": null,
            "grid_auto_flow": null,
            "grid_auto_rows": null,
            "grid_column": null,
            "grid_gap": null,
            "grid_row": null,
            "grid_template_areas": null,
            "grid_template_columns": null,
            "grid_template_rows": null,
            "height": null,
            "justify_content": null,
            "justify_items": null,
            "left": null,
            "margin": null,
            "max_height": null,
            "max_width": null,
            "min_height": null,
            "min_width": null,
            "object_fit": null,
            "object_position": null,
            "order": null,
            "overflow": null,
            "overflow_x": null,
            "overflow_y": null,
            "padding": null,
            "right": null,
            "top": null,
            "visibility": null,
            "width": null
          }
        },
        "cfddbf192a4948c5a35d9c9c28227969": {
          "model_module": "@jupyter-widgets/base",
          "model_module_version": "1.2.0",
          "model_name": "LayoutModel",
          "state": {
            "_model_module": "@jupyter-widgets/base",
            "_model_module_version": "1.2.0",
            "_model_name": "LayoutModel",
            "_view_count": null,
            "_view_module": "@jupyter-widgets/base",
            "_view_module_version": "1.2.0",
            "_view_name": "LayoutView",
            "align_content": null,
            "align_items": null,
            "align_self": null,
            "border": null,
            "bottom": null,
            "display": null,
            "flex": null,
            "flex_flow": null,
            "grid_area": null,
            "grid_auto_columns": null,
            "grid_auto_flow": null,
            "grid_auto_rows": null,
            "grid_column": null,
            "grid_gap": null,
            "grid_row": null,
            "grid_template_areas": null,
            "grid_template_columns": null,
            "grid_template_rows": null,
            "height": null,
            "justify_content": null,
            "justify_items": null,
            "left": null,
            "margin": null,
            "max_height": null,
            "max_width": null,
            "min_height": null,
            "min_width": null,
            "object_fit": null,
            "object_position": null,
            "order": null,
            "overflow": null,
            "overflow_x": null,
            "overflow_y": null,
            "padding": null,
            "right": null,
            "top": null,
            "visibility": "hidden",
            "width": null
          }
        },
        "d11bbf7a3d924028958d5bcc0a72e122": {
          "model_module": "@jupyter-widgets/controls",
          "model_module_version": "1.5.0",
          "model_name": "HTMLModel",
          "state": {
            "_dom_classes": [],
            "_model_module": "@jupyter-widgets/controls",
            "_model_module_version": "1.5.0",
            "_model_name": "HTMLModel",
            "_view_count": null,
            "_view_module": "@jupyter-widgets/controls",
            "_view_module_version": "1.5.0",
            "_view_name": "HTMLView",
            "description": "",
            "description_tooltip": null,
            "layout": "IPY_MODEL_b55fea5b10694c8cb1aa93622170ff8c",
            "placeholder": "​",
            "style": "IPY_MODEL_362150e5ee6b409381c9a3f2c4199186",
            "value": " 5/5 [00:00&lt;00:00, 162.28ba/s]"
          }
        },
        "d2174b1613f54697a70a519f40b5aee8": {
          "model_module": "@jupyter-widgets/controls",
          "model_module_version": "1.5.0",
          "model_name": "ProgressStyleModel",
          "state": {
            "_model_module": "@jupyter-widgets/controls",
            "_model_module_version": "1.5.0",
            "_model_name": "ProgressStyleModel",
            "_view_count": null,
            "_view_module": "@jupyter-widgets/base",
            "_view_module_version": "1.2.0",
            "_view_name": "StyleView",
            "bar_color": null,
            "description_width": ""
          }
        },
        "d30d4923454e4f8aaf4341f0d9e4f794": {
          "model_module": "@jupyter-widgets/controls",
          "model_module_version": "1.5.0",
          "model_name": "DescriptionStyleModel",
          "state": {
            "_model_module": "@jupyter-widgets/controls",
            "_model_module_version": "1.5.0",
            "_model_name": "DescriptionStyleModel",
            "_view_count": null,
            "_view_module": "@jupyter-widgets/base",
            "_view_module_version": "1.2.0",
            "_view_name": "StyleView",
            "description_width": ""
          }
        },
        "d31e0dcd59bd4153a392e18dba2ee1c2": {
          "model_module": "@jupyter-widgets/controls",
          "model_module_version": "1.5.0",
          "model_name": "HTMLModel",
          "state": {
            "_dom_classes": [],
            "_model_module": "@jupyter-widgets/controls",
            "_model_module_version": "1.5.0",
            "_model_name": "HTMLModel",
            "_view_count": null,
            "_view_module": "@jupyter-widgets/controls",
            "_view_module_version": "1.5.0",
            "_view_name": "HTMLView",
            "description": "",
            "description_tooltip": null,
            "layout": "IPY_MODEL_556b2a49b0f04518a0c925f7d448fcd9",
            "placeholder": "​",
            "style": "IPY_MODEL_e6f98082a67646158b8d3e36f9de5115",
            "value": ""
          }
        },
        "d42cbd433408441ead2be0400c5d97c7": {
          "model_module": "@jupyter-widgets/base",
          "model_module_version": "1.2.0",
          "model_name": "LayoutModel",
          "state": {
            "_model_module": "@jupyter-widgets/base",
            "_model_module_version": "1.2.0",
            "_model_name": "LayoutModel",
            "_view_count": null,
            "_view_module": "@jupyter-widgets/base",
            "_view_module_version": "1.2.0",
            "_view_name": "LayoutView",
            "align_content": null,
            "align_items": null,
            "align_self": null,
            "border": null,
            "bottom": null,
            "display": null,
            "flex": null,
            "flex_flow": null,
            "grid_area": null,
            "grid_auto_columns": null,
            "grid_auto_flow": null,
            "grid_auto_rows": null,
            "grid_column": null,
            "grid_gap": null,
            "grid_row": null,
            "grid_template_areas": null,
            "grid_template_columns": null,
            "grid_template_rows": null,
            "height": null,
            "justify_content": null,
            "justify_items": null,
            "left": null,
            "margin": null,
            "max_height": null,
            "max_width": null,
            "min_height": null,
            "min_width": null,
            "object_fit": null,
            "object_position": null,
            "order": null,
            "overflow": null,
            "overflow_x": null,
            "overflow_y": null,
            "padding": null,
            "right": null,
            "top": null,
            "visibility": null,
            "width": "20px"
          }
        },
        "d7934693aa974d6781b84f71bac59e71": {
          "model_module": "@jupyter-widgets/base",
          "model_module_version": "1.2.0",
          "model_name": "LayoutModel",
          "state": {
            "_model_module": "@jupyter-widgets/base",
            "_model_module_version": "1.2.0",
            "_model_name": "LayoutModel",
            "_view_count": null,
            "_view_module": "@jupyter-widgets/base",
            "_view_module_version": "1.2.0",
            "_view_name": "LayoutView",
            "align_content": null,
            "align_items": null,
            "align_self": null,
            "border": null,
            "bottom": null,
            "display": null,
            "flex": null,
            "flex_flow": null,
            "grid_area": null,
            "grid_auto_columns": null,
            "grid_auto_flow": null,
            "grid_auto_rows": null,
            "grid_column": null,
            "grid_gap": null,
            "grid_row": null,
            "grid_template_areas": null,
            "grid_template_columns": null,
            "grid_template_rows": null,
            "height": null,
            "justify_content": null,
            "justify_items": null,
            "left": null,
            "margin": null,
            "max_height": null,
            "max_width": null,
            "min_height": null,
            "min_width": null,
            "object_fit": null,
            "object_position": null,
            "order": null,
            "overflow": null,
            "overflow_x": null,
            "overflow_y": null,
            "padding": null,
            "right": null,
            "top": null,
            "visibility": null,
            "width": null
          }
        },
        "da8639f433da4cefa2affd438ac18c89": {
          "model_module": "@jupyter-widgets/base",
          "model_module_version": "1.2.0",
          "model_name": "LayoutModel",
          "state": {
            "_model_module": "@jupyter-widgets/base",
            "_model_module_version": "1.2.0",
            "_model_name": "LayoutModel",
            "_view_count": null,
            "_view_module": "@jupyter-widgets/base",
            "_view_module_version": "1.2.0",
            "_view_name": "LayoutView",
            "align_content": null,
            "align_items": null,
            "align_self": null,
            "border": null,
            "bottom": null,
            "display": null,
            "flex": null,
            "flex_flow": null,
            "grid_area": null,
            "grid_auto_columns": null,
            "grid_auto_flow": null,
            "grid_auto_rows": null,
            "grid_column": null,
            "grid_gap": null,
            "grid_row": null,
            "grid_template_areas": null,
            "grid_template_columns": null,
            "grid_template_rows": null,
            "height": null,
            "justify_content": null,
            "justify_items": null,
            "left": null,
            "margin": null,
            "max_height": null,
            "max_width": null,
            "min_height": null,
            "min_width": null,
            "object_fit": null,
            "object_position": null,
            "order": null,
            "overflow": null,
            "overflow_x": null,
            "overflow_y": null,
            "padding": null,
            "right": null,
            "top": null,
            "visibility": null,
            "width": null
          }
        },
        "dab4414a1d4a4e94a4845dd9dcc5783a": {
          "model_module": "@jupyter-widgets/base",
          "model_module_version": "1.2.0",
          "model_name": "LayoutModel",
          "state": {
            "_model_module": "@jupyter-widgets/base",
            "_model_module_version": "1.2.0",
            "_model_name": "LayoutModel",
            "_view_count": null,
            "_view_module": "@jupyter-widgets/base",
            "_view_module_version": "1.2.0",
            "_view_name": "LayoutView",
            "align_content": null,
            "align_items": null,
            "align_self": null,
            "border": null,
            "bottom": null,
            "display": null,
            "flex": null,
            "flex_flow": null,
            "grid_area": null,
            "grid_auto_columns": null,
            "grid_auto_flow": null,
            "grid_auto_rows": null,
            "grid_column": null,
            "grid_gap": null,
            "grid_row": null,
            "grid_template_areas": null,
            "grid_template_columns": null,
            "grid_template_rows": null,
            "height": null,
            "justify_content": null,
            "justify_items": null,
            "left": null,
            "margin": null,
            "max_height": null,
            "max_width": null,
            "min_height": null,
            "min_width": null,
            "object_fit": null,
            "object_position": null,
            "order": null,
            "overflow": null,
            "overflow_x": null,
            "overflow_y": null,
            "padding": null,
            "right": null,
            "top": null,
            "visibility": "hidden",
            "width": null
          }
        },
        "dba9c380625243a6a7f90c8914ff9455": {
          "model_module": "@jupyter-widgets/base",
          "model_module_version": "1.2.0",
          "model_name": "LayoutModel",
          "state": {
            "_model_module": "@jupyter-widgets/base",
            "_model_module_version": "1.2.0",
            "_model_name": "LayoutModel",
            "_view_count": null,
            "_view_module": "@jupyter-widgets/base",
            "_view_module_version": "1.2.0",
            "_view_name": "LayoutView",
            "align_content": null,
            "align_items": null,
            "align_self": null,
            "border": null,
            "bottom": null,
            "display": null,
            "flex": null,
            "flex_flow": null,
            "grid_area": null,
            "grid_auto_columns": null,
            "grid_auto_flow": null,
            "grid_auto_rows": null,
            "grid_column": null,
            "grid_gap": null,
            "grid_row": null,
            "grid_template_areas": null,
            "grid_template_columns": null,
            "grid_template_rows": null,
            "height": null,
            "justify_content": null,
            "justify_items": null,
            "left": null,
            "margin": null,
            "max_height": null,
            "max_width": null,
            "min_height": null,
            "min_width": null,
            "object_fit": null,
            "object_position": null,
            "order": null,
            "overflow": null,
            "overflow_x": null,
            "overflow_y": null,
            "padding": null,
            "right": null,
            "top": null,
            "visibility": null,
            "width": null
          }
        },
        "dbd4a1e0b6264c34b87a15b73a522d92": {
          "model_module": "@jupyter-widgets/controls",
          "model_module_version": "1.5.0",
          "model_name": "FloatProgressModel",
          "state": {
            "_dom_classes": [],
            "_model_module": "@jupyter-widgets/controls",
            "_model_module_version": "1.5.0",
            "_model_name": "FloatProgressModel",
            "_view_count": null,
            "_view_module": "@jupyter-widgets/controls",
            "_view_module_version": "1.5.0",
            "_view_name": "ProgressView",
            "bar_style": "success",
            "description": "",
            "description_tooltip": null,
            "layout": "IPY_MODEL_66d5b61e23dc4651903c0d32d7694a33",
            "max": 1,
            "min": 0,
            "orientation": "horizontal",
            "style": "IPY_MODEL_369c2fa2af714df99e5113fddfe81a36",
            "value": 1
          }
        },
        "dc79c99877844fc3b5eb05be646c495f": {
          "model_module": "@jupyter-widgets/controls",
          "model_module_version": "1.5.0",
          "model_name": "HBoxModel",
          "state": {
            "_dom_classes": [],
            "_model_module": "@jupyter-widgets/controls",
            "_model_module_version": "1.5.0",
            "_model_name": "HBoxModel",
            "_view_count": null,
            "_view_module": "@jupyter-widgets/controls",
            "_view_module_version": "1.5.0",
            "_view_name": "HBoxView",
            "box_style": "",
            "children": [
              "IPY_MODEL_9424cc47106a455ab18c0870d046ce9f",
              "IPY_MODEL_b8c9bc669d8c4651882c214aafb0548e",
              "IPY_MODEL_ddb52ffa6f634053927e93f997337419"
            ],
            "layout": "IPY_MODEL_b2310446607e44f5b8e38862581b510a"
          }
        },
        "ddb52ffa6f634053927e93f997337419": {
          "model_module": "@jupyter-widgets/controls",
          "model_module_version": "1.5.0",
          "model_name": "HTMLModel",
          "state": {
            "_dom_classes": [],
            "_model_module": "@jupyter-widgets/controls",
            "_model_module_version": "1.5.0",
            "_model_name": "HTMLModel",
            "_view_count": null,
            "_view_module": "@jupyter-widgets/controls",
            "_view_module_version": "1.5.0",
            "_view_name": "HTMLView",
            "description": "",
            "description_tooltip": null,
            "layout": "IPY_MODEL_89e51090498545259c216a5a1b59072f",
            "placeholder": "​",
            "style": "IPY_MODEL_489bec937040484ea1164c317f07a4ad",
            "value": " 869M/869M [00:47&lt;00:00, 35.4MB/s]"
          }
        },
        "e2df8e697e9c4f64a2bba0b6de2e8d49": {
          "model_module": "@jupyter-widgets/controls",
          "model_module_version": "1.5.0",
          "model_name": "HBoxModel",
          "state": {
            "_dom_classes": [],
            "_model_module": "@jupyter-widgets/controls",
            "_model_module_version": "1.5.0",
            "_model_name": "HBoxModel",
            "_view_count": null,
            "_view_module": "@jupyter-widgets/controls",
            "_view_module_version": "1.5.0",
            "_view_name": "HBoxView",
            "box_style": "",
            "children": [
              "IPY_MODEL_334975266d804748874f5d5621af50ba",
              "IPY_MODEL_ab4a2cca2b404d25b2cda485c7c28077",
              "IPY_MODEL_c781acd05e244750a8084992acc4ac2c"
            ],
            "layout": "IPY_MODEL_1cb0c8f214cc4de791e49af3c793380a"
          }
        },
        "e57c5cbc0380464994c4a5b42de76c66": {
          "model_module": "@jupyter-widgets/controls",
          "model_module_version": "1.5.0",
          "model_name": "HBoxModel",
          "state": {
            "_dom_classes": [],
            "_model_module": "@jupyter-widgets/controls",
            "_model_module_version": "1.5.0",
            "_model_name": "HBoxModel",
            "_view_count": null,
            "_view_module": "@jupyter-widgets/controls",
            "_view_module_version": "1.5.0",
            "_view_name": "HBoxView",
            "box_style": "",
            "children": [
              "IPY_MODEL_47d42cc391cd46049052a802e46364b6",
              "IPY_MODEL_2a49340e51fc4054a2616d1990109d7c",
              "IPY_MODEL_5c09a1875b4f4cc2b3cf64a52b4fd8b8"
            ],
            "layout": "IPY_MODEL_7664d4cd39254acfb97b63a3331c8b25"
          }
        },
        "e610d02445bd4e5e9b4783658f058147": {
          "model_module": "@jupyter-widgets/controls",
          "model_module_version": "1.5.0",
          "model_name": "FloatProgressModel",
          "state": {
            "_dom_classes": [],
            "_model_module": "@jupyter-widgets/controls",
            "_model_module_version": "1.5.0",
            "_model_name": "FloatProgressModel",
            "_view_count": null,
            "_view_module": "@jupyter-widgets/controls",
            "_view_module_version": "1.5.0",
            "_view_name": "ProgressView",
            "bar_style": "success",
            "description": "",
            "description_tooltip": null,
            "layout": "IPY_MODEL_41761888fc3547bf81907d84c07cd964",
            "max": 380267417,
            "min": 0,
            "orientation": "horizontal",
            "style": "IPY_MODEL_d2174b1613f54697a70a519f40b5aee8",
            "value": 380267417
          }
        },
        "e6f98082a67646158b8d3e36f9de5115": {
          "model_module": "@jupyter-widgets/controls",
          "model_module_version": "1.5.0",
          "model_name": "DescriptionStyleModel",
          "state": {
            "_model_module": "@jupyter-widgets/controls",
            "_model_module_version": "1.5.0",
            "_model_name": "DescriptionStyleModel",
            "_view_count": null,
            "_view_module": "@jupyter-widgets/base",
            "_view_module_version": "1.2.0",
            "_view_name": "StyleView",
            "description_width": ""
          }
        },
        "ea0718a03fa84612a83032464c755bde": {
          "model_module": "@jupyter-widgets/controls",
          "model_module_version": "1.5.0",
          "model_name": "ButtonStyleModel",
          "state": {
            "_model_module": "@jupyter-widgets/controls",
            "_model_module_version": "1.5.0",
            "_model_name": "ButtonStyleModel",
            "_view_count": null,
            "_view_module": "@jupyter-widgets/base",
            "_view_module_version": "1.2.0",
            "_view_name": "StyleView",
            "button_color": null,
            "font_weight": ""
          }
        },
        "ed33c55d50234c32b15798b747153ad2": {
          "model_module": "@jupyter-widgets/controls",
          "model_module_version": "1.5.0",
          "model_name": "HTMLModel",
          "state": {
            "_dom_classes": [],
            "_model_module": "@jupyter-widgets/controls",
            "_model_module_version": "1.5.0",
            "_model_name": "HTMLModel",
            "_view_count": null,
            "_view_module": "@jupyter-widgets/controls",
            "_view_module_version": "1.5.0",
            "_view_name": "HTMLView",
            "description": "",
            "description_tooltip": null,
            "layout": "IPY_MODEL_8991f9f2abeb49e2bd10caf24403f472",
            "placeholder": "​",
            "style": "IPY_MODEL_ae9d87d903c4420db700f043fe197154",
            "value": "\n<b>Pro Tip:</b> If you don't already have one, you can create a dedicated\n'notebooks' token with 'write' access, that you can then easily reuse for all\nnotebooks. </center>"
          }
        },
        "ed4a76509a9e43a285bed77e8415e170": {
          "model_module": "@jupyter-widgets/base",
          "model_module_version": "1.2.0",
          "model_name": "LayoutModel",
          "state": {
            "_model_module": "@jupyter-widgets/base",
            "_model_module_version": "1.2.0",
            "_model_name": "LayoutModel",
            "_view_count": null,
            "_view_module": "@jupyter-widgets/base",
            "_view_module_version": "1.2.0",
            "_view_name": "LayoutView",
            "align_content": null,
            "align_items": "center",
            "align_self": null,
            "border": null,
            "bottom": null,
            "display": "flex",
            "flex": null,
            "flex_flow": "column",
            "grid_area": null,
            "grid_auto_columns": null,
            "grid_auto_flow": null,
            "grid_auto_rows": null,
            "grid_column": null,
            "grid_gap": null,
            "grid_row": null,
            "grid_template_areas": null,
            "grid_template_columns": null,
            "grid_template_rows": null,
            "height": null,
            "justify_content": null,
            "justify_items": null,
            "left": null,
            "margin": null,
            "max_height": null,
            "max_width": null,
            "min_height": null,
            "min_width": null,
            "object_fit": null,
            "object_position": null,
            "order": null,
            "overflow": null,
            "overflow_x": null,
            "overflow_y": null,
            "padding": null,
            "right": null,
            "top": null,
            "visibility": null,
            "width": "50%"
          }
        },
        "f20725df466c4b8b9bc96fce2d1c6ff8": {
          "model_module": "@jupyter-widgets/controls",
          "model_module_version": "1.5.0",
          "model_name": "ProgressStyleModel",
          "state": {
            "_model_module": "@jupyter-widgets/controls",
            "_model_module_version": "1.5.0",
            "_model_name": "ProgressStyleModel",
            "_view_count": null,
            "_view_module": "@jupyter-widgets/base",
            "_view_module_version": "1.2.0",
            "_view_name": "StyleView",
            "bar_color": null,
            "description_width": ""
          }
        },
        "f261eb96f32540b7aba59bf5707bee6f": {
          "model_module": "@jupyter-widgets/controls",
          "model_module_version": "1.5.0",
          "model_name": "FloatProgressModel",
          "state": {
            "_dom_classes": [],
            "_model_module": "@jupyter-widgets/controls",
            "_model_module_version": "1.5.0",
            "_model_name": "FloatProgressModel",
            "_view_count": null,
            "_view_module": "@jupyter-widgets/controls",
            "_view_module_version": "1.5.0",
            "_view_name": "ProgressView",
            "bar_style": "success",
            "description": "",
            "description_tooltip": null,
            "layout": "IPY_MODEL_8539d6c12248447fa989335fb92a348f",
            "max": 2403,
            "min": 0,
            "orientation": "horizontal",
            "style": "IPY_MODEL_f20725df466c4b8b9bc96fce2d1c6ff8",
            "value": 2403
          }
        },
        "f2f1d919308042c4b730658cee357374": {
          "model_module": "@jupyter-widgets/controls",
          "model_module_version": "1.5.0",
          "model_name": "HTMLModel",
          "state": {
            "_dom_classes": [],
            "_model_module": "@jupyter-widgets/controls",
            "_model_module_version": "1.5.0",
            "_model_name": "HTMLModel",
            "_view_count": null,
            "_view_module": "@jupyter-widgets/controls",
            "_view_module_version": "1.5.0",
            "_view_name": "HTMLView",
            "description": "",
            "description_tooltip": null,
            "layout": "IPY_MODEL_72ba30f58e904ad786e9f82deabebc75",
            "placeholder": "​",
            "style": "IPY_MODEL_a3f2cbce0fc0419191259ba1735ffa94",
            "value": "Downloading: "
          }
        },
        "f30802e504624b37b3c4a469c5ecaef2": {
          "model_module": "@jupyter-widgets/controls",
          "model_module_version": "1.5.0",
          "model_name": "DescriptionStyleModel",
          "state": {
            "_model_module": "@jupyter-widgets/controls",
            "_model_module_version": "1.5.0",
            "_model_name": "DescriptionStyleModel",
            "_view_count": null,
            "_view_module": "@jupyter-widgets/base",
            "_view_module_version": "1.2.0",
            "_view_name": "StyleView",
            "description_width": ""
          }
        },
        "f49894f74c4242f88b84aea799edb16d": {
          "model_module": "@jupyter-widgets/controls",
          "model_module_version": "1.5.0",
          "model_name": "DescriptionStyleModel",
          "state": {
            "_model_module": "@jupyter-widgets/controls",
            "_model_module_version": "1.5.0",
            "_model_name": "DescriptionStyleModel",
            "_view_count": null,
            "_view_module": "@jupyter-widgets/base",
            "_view_module_version": "1.2.0",
            "_view_name": "StyleView",
            "description_width": ""
          }
        },
        "f4cfe55a73c141ef9b751d0db992d3cf": {
          "model_module": "@jupyter-widgets/controls",
          "model_module_version": "1.5.0",
          "model_name": "ProgressStyleModel",
          "state": {
            "_model_module": "@jupyter-widgets/controls",
            "_model_module_version": "1.5.0",
            "_model_name": "ProgressStyleModel",
            "_view_count": null,
            "_view_module": "@jupyter-widgets/base",
            "_view_module_version": "1.2.0",
            "_view_name": "StyleView",
            "bar_color": null,
            "description_width": ""
          }
        },
        "f5ae3c942bf644c0affadca9a6e6d59b": {
          "model_module": "@jupyter-widgets/controls",
          "model_module_version": "1.5.0",
          "model_name": "DescriptionStyleModel",
          "state": {
            "_model_module": "@jupyter-widgets/controls",
            "_model_module_version": "1.5.0",
            "_model_name": "DescriptionStyleModel",
            "_view_count": null,
            "_view_module": "@jupyter-widgets/base",
            "_view_module_version": "1.2.0",
            "_view_name": "StyleView",
            "description_width": ""
          }
        },
        "fcd185b60d6e4e60a8ab964aac262f73": {
          "model_module": "@jupyter-widgets/base",
          "model_module_version": "1.2.0",
          "model_name": "LayoutModel",
          "state": {
            "_model_module": "@jupyter-widgets/base",
            "_model_module_version": "1.2.0",
            "_model_name": "LayoutModel",
            "_view_count": null,
            "_view_module": "@jupyter-widgets/base",
            "_view_module_version": "1.2.0",
            "_view_name": "LayoutView",
            "align_content": null,
            "align_items": null,
            "align_self": null,
            "border": null,
            "bottom": null,
            "display": null,
            "flex": null,
            "flex_flow": null,
            "grid_area": null,
            "grid_auto_columns": null,
            "grid_auto_flow": null,
            "grid_auto_rows": null,
            "grid_column": null,
            "grid_gap": null,
            "grid_row": null,
            "grid_template_areas": null,
            "grid_template_columns": null,
            "grid_template_rows": null,
            "height": null,
            "justify_content": null,
            "justify_items": null,
            "left": null,
            "margin": null,
            "max_height": null,
            "max_width": null,
            "min_height": null,
            "min_width": null,
            "object_fit": null,
            "object_position": null,
            "order": null,
            "overflow": null,
            "overflow_x": null,
            "overflow_y": null,
            "padding": null,
            "right": null,
            "top": null,
            "visibility": null,
            "width": null
          }
        },
        "fe31c534d6cd46da8b6a640e039a4d6c": {
          "model_module": "@jupyter-widgets/controls",
          "model_module_version": "1.5.0",
          "model_name": "DescriptionStyleModel",
          "state": {
            "_model_module": "@jupyter-widgets/controls",
            "_model_module_version": "1.5.0",
            "_model_name": "DescriptionStyleModel",
            "_view_count": null,
            "_view_module": "@jupyter-widgets/base",
            "_view_module_version": "1.2.0",
            "_view_name": "StyleView",
            "description_width": ""
          }
        }
      }
    }
  },
  "nbformat": 4,
  "nbformat_minor": 0
}